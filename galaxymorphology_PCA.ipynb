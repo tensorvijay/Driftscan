{
  "nbformat": 4,
  "nbformat_minor": 0,
  "metadata": {
    "colab": {
      "provenance": [],
      "mount_file_id": "1pj4O5KDm8DNKa48TNCfNgCjxr3y6T_97",
      "authorship_tag": "ABX9TyPHdi7QxghfD48WLRUujUws",
      "include_colab_link": true
    },
    "kernelspec": {
      "name": "python3",
      "display_name": "Python 3"
    }
  },
  "cells": [
    {
      "cell_type": "markdown",
      "metadata": {
        "id": "view-in-github",
        "colab_type": "text"
      },
      "source": [
        "<a href=\"https://colab.research.google.com/github/tensorvijay/Driftscan/blob/master/galaxymorphology_PCA.ipynb\" target=\"_parent\"><img src=\"https://colab.research.google.com/assets/colab-badge.svg\" alt=\"Open In Colab\"/></a>"
      ]
    },
    {
      "cell_type": "markdown",
      "metadata": {
        "id": "FI5EVu8u1Xuk"
      },
      "source": [
        "All libraries will come here\n"
      ]
    },
    {
      "cell_type": "code",
      "metadata": {
        "id": "jJZ6ZZ2P1W6A"
      },
      "source": [
        "import glob as glob # helps in saving the files\n",
        "import numpy as np\n",
        "import seaborn as sns\n",
        "import pandas as pd\n",
        "import glob as glob\n",
        "import seaborn as sns\n",
        "import matplotlib.pyplot as plt\n",
        "from skimage.color import rgb2gray\n",
        "from sklearn.decomposition import PCA\n",
        "from sklearn.cluster import OPTICS, cluster_optics_dbscan\n",
        "import matplotlib.gridspec as gridspec\n",
        "import matplotlib.pyplot as plt\n",
        "from sklearn.cluster import AgglomerativeClustering\n",
        "from sklearn.cluster import Birch\n",
        "from sklearn.preprocessing import normalize\n",
        "from scipy.spatial.distance import cosine\n",
        "from sklearn.metrics.pairwise import cosine_distances\n",
        "from sklearn.metrics.pairwise import paired_cosine_distances\n",
        "import PIL.Image as im\n",
        "from sklearn.decomposition import FastICA\n",
        "\n",
        "from sklearn import mixture"
      ],
      "execution_count": null,
      "outputs": []
    },
    {
      "cell_type": "code",
      "metadata": {
        "id": "SdOcGzIJ1CUQ",
        "outputId": "07ffd507-3e68-49b3-a7f8-07dd0d4a04c9",
        "colab": {
          "base_uri": "https://localhost:8080/",
          "height": 1000
        }
      },
      "source": [
        "!unzip '/content/drive/My Drive/galaxy/images_training_rev1 (1).zip'"
      ],
      "execution_count": null,
      "outputs": [
        {
          "output_type": "stream",
          "text": [
            "\u001b[1;30;43mStreaming output truncated to the last 5000 lines.\u001b[0m\n",
            "  inflating: images_training_rev1/926426.jpg  \n",
            "  inflating: images_training_rev1/926435.jpg  \n",
            "  inflating: images_training_rev1/926446.jpg  \n",
            "  inflating: images_training_rev1/926448.jpg  \n",
            "  inflating: images_training_rev1/926453.jpg  \n",
            "  inflating: images_training_rev1/926462.jpg  \n",
            "  inflating: images_training_rev1/926478.jpg  \n",
            "  inflating: images_training_rev1/926480.jpg  \n",
            "  inflating: images_training_rev1/926484.jpg  \n",
            "  inflating: images_training_rev1/926488.jpg  \n",
            "  inflating: images_training_rev1/926509.jpg  \n",
            "  inflating: images_training_rev1/926522.jpg  \n",
            "  inflating: images_training_rev1/926544.jpg  \n",
            "  inflating: images_training_rev1/926547.jpg  \n",
            "  inflating: images_training_rev1/926548.jpg  \n",
            "  inflating: images_training_rev1/926551.jpg  \n",
            "  inflating: images_training_rev1/926602.jpg  \n",
            "  inflating: images_training_rev1/926630.jpg  \n",
            "  inflating: images_training_rev1/926649.jpg  \n",
            "  inflating: images_training_rev1/926655.jpg  \n",
            "  inflating: images_training_rev1/926657.jpg  \n",
            "  inflating: images_training_rev1/926675.jpg  \n",
            "  inflating: images_training_rev1/926676.jpg  \n",
            "  inflating: images_training_rev1/926696.jpg  \n",
            "  inflating: images_training_rev1/926725.jpg  \n",
            "  inflating: images_training_rev1/926739.jpg  \n",
            "  inflating: images_training_rev1/926750.jpg  \n",
            "  inflating: images_training_rev1/926801.jpg  \n",
            "  inflating: images_training_rev1/926831.jpg  \n",
            "  inflating: images_training_rev1/926840.jpg  \n",
            "  inflating: images_training_rev1/926842.jpg  \n",
            "  inflating: images_training_rev1/926921.jpg  \n",
            "  inflating: images_training_rev1/926931.jpg  \n",
            "  inflating: images_training_rev1/926939.jpg  \n",
            "  inflating: images_training_rev1/926958.jpg  \n",
            "  inflating: images_training_rev1/926982.jpg  \n",
            "  inflating: images_training_rev1/926985.jpg  \n",
            "  inflating: images_training_rev1/926999.jpg  \n",
            "  inflating: images_training_rev1/927032.jpg  \n",
            "  inflating: images_training_rev1/927038.jpg  \n",
            "  inflating: images_training_rev1/927054.jpg  \n",
            "  inflating: images_training_rev1/927058.jpg  \n",
            "  inflating: images_training_rev1/927094.jpg  \n",
            "  inflating: images_training_rev1/927106.jpg  \n",
            "  inflating: images_training_rev1/927107.jpg  \n",
            "  inflating: images_training_rev1/927111.jpg  \n",
            "  inflating: images_training_rev1/927117.jpg  \n",
            "  inflating: images_training_rev1/927120.jpg  \n",
            "  inflating: images_training_rev1/927128.jpg  \n",
            "  inflating: images_training_rev1/927129.jpg  \n",
            "  inflating: images_training_rev1/927132.jpg  \n",
            "  inflating: images_training_rev1/927133.jpg  \n",
            "  inflating: images_training_rev1/927157.jpg  \n",
            "  inflating: images_training_rev1/927182.jpg  \n",
            "  inflating: images_training_rev1/927185.jpg  \n",
            "  inflating: images_training_rev1/927193.jpg  \n",
            "  inflating: images_training_rev1/927206.jpg  \n",
            "  inflating: images_training_rev1/927207.jpg  \n",
            "  inflating: images_training_rev1/927224.jpg  \n",
            "  inflating: images_training_rev1/927233.jpg  \n",
            "  inflating: images_training_rev1/927275.jpg  \n",
            "  inflating: images_training_rev1/927282.jpg  \n",
            "  inflating: images_training_rev1/927324.jpg  \n",
            "  inflating: images_training_rev1/927340.jpg  \n",
            "  inflating: images_training_rev1/927341.jpg  \n",
            "  inflating: images_training_rev1/927349.jpg  \n",
            "  inflating: images_training_rev1/927356.jpg  \n",
            "  inflating: images_training_rev1/927410.jpg  \n",
            "  inflating: images_training_rev1/927419.jpg  \n",
            "  inflating: images_training_rev1/927428.jpg  \n",
            "  inflating: images_training_rev1/927440.jpg  \n",
            "  inflating: images_training_rev1/927442.jpg  \n",
            "  inflating: images_training_rev1/927452.jpg  \n",
            "  inflating: images_training_rev1/927455.jpg  \n",
            "  inflating: images_training_rev1/927473.jpg  \n",
            "  inflating: images_training_rev1/927489.jpg  \n",
            "  inflating: images_training_rev1/927527.jpg  \n",
            "  inflating: images_training_rev1/927529.jpg  \n",
            "  inflating: images_training_rev1/927537.jpg  \n",
            "  inflating: images_training_rev1/927563.jpg  \n",
            "  inflating: images_training_rev1/927621.jpg  \n",
            "  inflating: images_training_rev1/927639.jpg  \n",
            "  inflating: images_training_rev1/927651.jpg  \n",
            "  inflating: images_training_rev1/927661.jpg  \n",
            "  inflating: images_training_rev1/927677.jpg  \n",
            "  inflating: images_training_rev1/927704.jpg  \n",
            "  inflating: images_training_rev1/927722.jpg  \n",
            "  inflating: images_training_rev1/927723.jpg  \n",
            "  inflating: images_training_rev1/927737.jpg  \n",
            "  inflating: images_training_rev1/927747.jpg  \n",
            "  inflating: images_training_rev1/927754.jpg  \n",
            "  inflating: images_training_rev1/927795.jpg  \n",
            "  inflating: images_training_rev1/927802.jpg  \n",
            "  inflating: images_training_rev1/927814.jpg  \n",
            "  inflating: images_training_rev1/927820.jpg  \n",
            "  inflating: images_training_rev1/927821.jpg  \n",
            "  inflating: images_training_rev1/927843.jpg  \n",
            "  inflating: images_training_rev1/927853.jpg  \n",
            "  inflating: images_training_rev1/927858.jpg  \n",
            "  inflating: images_training_rev1/927872.jpg  \n",
            "  inflating: images_training_rev1/927879.jpg  \n",
            "  inflating: images_training_rev1/927881.jpg  \n",
            "  inflating: images_training_rev1/927904.jpg  \n",
            "  inflating: images_training_rev1/927916.jpg  \n",
            "  inflating: images_training_rev1/927930.jpg  \n",
            "  inflating: images_training_rev1/927933.jpg  \n",
            "  inflating: images_training_rev1/927938.jpg  \n",
            "  inflating: images_training_rev1/927957.jpg  \n",
            "  inflating: images_training_rev1/927966.jpg  \n",
            "  inflating: images_training_rev1/928008.jpg  \n",
            "  inflating: images_training_rev1/928014.jpg  \n",
            "  inflating: images_training_rev1/928033.jpg  \n",
            "  inflating: images_training_rev1/928043.jpg  \n",
            "  inflating: images_training_rev1/928047.jpg  \n",
            "  inflating: images_training_rev1/928078.jpg  \n",
            "  inflating: images_training_rev1/928090.jpg  \n",
            "  inflating: images_training_rev1/928121.jpg  \n",
            "  inflating: images_training_rev1/928129.jpg  \n",
            "  inflating: images_training_rev1/928141.jpg  \n",
            "  inflating: images_training_rev1/928149.jpg  \n",
            "  inflating: images_training_rev1/928158.jpg  \n",
            "  inflating: images_training_rev1/928186.jpg  \n",
            "  inflating: images_training_rev1/928196.jpg  \n",
            "  inflating: images_training_rev1/928216.jpg  \n",
            "  inflating: images_training_rev1/928238.jpg  \n",
            "  inflating: images_training_rev1/928247.jpg  \n",
            "  inflating: images_training_rev1/928252.jpg  \n",
            "  inflating: images_training_rev1/928270.jpg  \n",
            "  inflating: images_training_rev1/928321.jpg  \n",
            "  inflating: images_training_rev1/928349.jpg  \n",
            "  inflating: images_training_rev1/928408.jpg  \n",
            "  inflating: images_training_rev1/928413.jpg  \n",
            "  inflating: images_training_rev1/928435.jpg  \n",
            "  inflating: images_training_rev1/928481.jpg  \n",
            "  inflating: images_training_rev1/928490.jpg  \n",
            "  inflating: images_training_rev1/928505.jpg  \n",
            "  inflating: images_training_rev1/928535.jpg  \n",
            "  inflating: images_training_rev1/928565.jpg  \n",
            "  inflating: images_training_rev1/928581.jpg  \n",
            "  inflating: images_training_rev1/928603.jpg  \n",
            "  inflating: images_training_rev1/928604.jpg  \n",
            "  inflating: images_training_rev1/928619.jpg  \n",
            "  inflating: images_training_rev1/928626.jpg  \n",
            "  inflating: images_training_rev1/928662.jpg  \n",
            "  inflating: images_training_rev1/928682.jpg  \n",
            "  inflating: images_training_rev1/928702.jpg  \n",
            "  inflating: images_training_rev1/928707.jpg  \n",
            "  inflating: images_training_rev1/928712.jpg  \n",
            "  inflating: images_training_rev1/928721.jpg  \n",
            "  inflating: images_training_rev1/928730.jpg  \n",
            "  inflating: images_training_rev1/928769.jpg  \n",
            "  inflating: images_training_rev1/928774.jpg  \n",
            "  inflating: images_training_rev1/928776.jpg  \n",
            "  inflating: images_training_rev1/928777.jpg  \n",
            "  inflating: images_training_rev1/928778.jpg  \n",
            "  inflating: images_training_rev1/928789.jpg  \n",
            "  inflating: images_training_rev1/928799.jpg  \n",
            "  inflating: images_training_rev1/928828.jpg  \n",
            "  inflating: images_training_rev1/928836.jpg  \n",
            "  inflating: images_training_rev1/928861.jpg  \n",
            "  inflating: images_training_rev1/928876.jpg  \n",
            "  inflating: images_training_rev1/928879.jpg  \n",
            "  inflating: images_training_rev1/928888.jpg  \n",
            "  inflating: images_training_rev1/928901.jpg  \n",
            "  inflating: images_training_rev1/928902.jpg  \n",
            "  inflating: images_training_rev1/928921.jpg  \n",
            "  inflating: images_training_rev1/928925.jpg  \n",
            "  inflating: images_training_rev1/928928.jpg  \n",
            "  inflating: images_training_rev1/928940.jpg  \n",
            "  inflating: images_training_rev1/928941.jpg  \n",
            "  inflating: images_training_rev1/928945.jpg  \n",
            "  inflating: images_training_rev1/928979.jpg  \n",
            "  inflating: images_training_rev1/928995.jpg  \n",
            "  inflating: images_training_rev1/929045.jpg  \n",
            "  inflating: images_training_rev1/929051.jpg  \n",
            "  inflating: images_training_rev1/929071.jpg  \n",
            "  inflating: images_training_rev1/929080.jpg  \n",
            "  inflating: images_training_rev1/929087.jpg  \n",
            "  inflating: images_training_rev1/929104.jpg  \n",
            "  inflating: images_training_rev1/929123.jpg  \n",
            "  inflating: images_training_rev1/929136.jpg  \n",
            "  inflating: images_training_rev1/929152.jpg  \n",
            "  inflating: images_training_rev1/929243.jpg  \n",
            "  inflating: images_training_rev1/929262.jpg  \n",
            "  inflating: images_training_rev1/929263.jpg  \n",
            "  inflating: images_training_rev1/929267.jpg  \n",
            "  inflating: images_training_rev1/929297.jpg  \n",
            "  inflating: images_training_rev1/929299.jpg  \n",
            "  inflating: images_training_rev1/929313.jpg  \n",
            "  inflating: images_training_rev1/929333.jpg  \n",
            "  inflating: images_training_rev1/929370.jpg  \n",
            "  inflating: images_training_rev1/929374.jpg  \n",
            "  inflating: images_training_rev1/929406.jpg  \n",
            "  inflating: images_training_rev1/929414.jpg  \n",
            "  inflating: images_training_rev1/929416.jpg  \n",
            "  inflating: images_training_rev1/929417.jpg  \n",
            "  inflating: images_training_rev1/929447.jpg  \n",
            "  inflating: images_training_rev1/929488.jpg  \n",
            "  inflating: images_training_rev1/929505.jpg  \n",
            "  inflating: images_training_rev1/929523.jpg  \n",
            "  inflating: images_training_rev1/929571.jpg  \n",
            "  inflating: images_training_rev1/929573.jpg  \n",
            "  inflating: images_training_rev1/929586.jpg  \n",
            "  inflating: images_training_rev1/929600.jpg  \n",
            "  inflating: images_training_rev1/929606.jpg  \n",
            "  inflating: images_training_rev1/929614.jpg  \n",
            "  inflating: images_training_rev1/929646.jpg  \n",
            "  inflating: images_training_rev1/929654.jpg  \n",
            "  inflating: images_training_rev1/929670.jpg  \n",
            "  inflating: images_training_rev1/929680.jpg  \n",
            "  inflating: images_training_rev1/929683.jpg  \n",
            "  inflating: images_training_rev1/929690.jpg  \n",
            "  inflating: images_training_rev1/929693.jpg  \n",
            "  inflating: images_training_rev1/929697.jpg  \n",
            "  inflating: images_training_rev1/929731.jpg  \n",
            "  inflating: images_training_rev1/929743.jpg  \n",
            "  inflating: images_training_rev1/929750.jpg  \n",
            "  inflating: images_training_rev1/929790.jpg  \n",
            "  inflating: images_training_rev1/929796.jpg  \n",
            "  inflating: images_training_rev1/929810.jpg  \n",
            "  inflating: images_training_rev1/929825.jpg  \n",
            "  inflating: images_training_rev1/929840.jpg  \n",
            "  inflating: images_training_rev1/929879.jpg  \n",
            "  inflating: images_training_rev1/929901.jpg  \n",
            "  inflating: images_training_rev1/929902.jpg  \n",
            "  inflating: images_training_rev1/929908.jpg  \n",
            "  inflating: images_training_rev1/929945.jpg  \n",
            "  inflating: images_training_rev1/929951.jpg  \n",
            "  inflating: images_training_rev1/929956.jpg  \n",
            "  inflating: images_training_rev1/929967.jpg  \n",
            "  inflating: images_training_rev1/929972.jpg  \n",
            "  inflating: images_training_rev1/929974.jpg  \n",
            "  inflating: images_training_rev1/929975.jpg  \n",
            "  inflating: images_training_rev1/930029.jpg  \n",
            "  inflating: images_training_rev1/930044.jpg  \n",
            "  inflating: images_training_rev1/930047.jpg  \n",
            "  inflating: images_training_rev1/930070.jpg  \n",
            "  inflating: images_training_rev1/930082.jpg  \n",
            "  inflating: images_training_rev1/930083.jpg  \n",
            "  inflating: images_training_rev1/930094.jpg  \n",
            "  inflating: images_training_rev1/930101.jpg  \n",
            "  inflating: images_training_rev1/930105.jpg  \n",
            "  inflating: images_training_rev1/930118.jpg  \n",
            "  inflating: images_training_rev1/930127.jpg  \n",
            "  inflating: images_training_rev1/930133.jpg  \n",
            "  inflating: images_training_rev1/930144.jpg  \n",
            "  inflating: images_training_rev1/930148.jpg  \n",
            "  inflating: images_training_rev1/930163.jpg  \n",
            "  inflating: images_training_rev1/930187.jpg  \n",
            "  inflating: images_training_rev1/930213.jpg  \n",
            "  inflating: images_training_rev1/930264.jpg  \n",
            "  inflating: images_training_rev1/930275.jpg  \n",
            "  inflating: images_training_rev1/930282.jpg  \n",
            "  inflating: images_training_rev1/930354.jpg  \n",
            "  inflating: images_training_rev1/930358.jpg  \n",
            "  inflating: images_training_rev1/930367.jpg  \n",
            "  inflating: images_training_rev1/930378.jpg  \n",
            "  inflating: images_training_rev1/930381.jpg  \n",
            "  inflating: images_training_rev1/930387.jpg  \n",
            "  inflating: images_training_rev1/930405.jpg  \n",
            "  inflating: images_training_rev1/930429.jpg  \n",
            "  inflating: images_training_rev1/930438.jpg  \n",
            "  inflating: images_training_rev1/930442.jpg  \n",
            "  inflating: images_training_rev1/930461.jpg  \n",
            "  inflating: images_training_rev1/930463.jpg  \n",
            "  inflating: images_training_rev1/930507.jpg  \n",
            "  inflating: images_training_rev1/930512.jpg  \n",
            "  inflating: images_training_rev1/930538.jpg  \n",
            "  inflating: images_training_rev1/930552.jpg  \n",
            "  inflating: images_training_rev1/930556.jpg  \n",
            "  inflating: images_training_rev1/930560.jpg  \n",
            "  inflating: images_training_rev1/930596.jpg  \n",
            "  inflating: images_training_rev1/930618.jpg  \n",
            "  inflating: images_training_rev1/930630.jpg  \n",
            "  inflating: images_training_rev1/930633.jpg  \n",
            "  inflating: images_training_rev1/930645.jpg  \n",
            "  inflating: images_training_rev1/930648.jpg  \n",
            "  inflating: images_training_rev1/930655.jpg  \n",
            "  inflating: images_training_rev1/930658.jpg  \n",
            "  inflating: images_training_rev1/930659.jpg  \n",
            "  inflating: images_training_rev1/930674.jpg  \n",
            "  inflating: images_training_rev1/930678.jpg  \n",
            "  inflating: images_training_rev1/930685.jpg  \n",
            "  inflating: images_training_rev1/930700.jpg  \n",
            "  inflating: images_training_rev1/930703.jpg  \n",
            "  inflating: images_training_rev1/930710.jpg  \n",
            "  inflating: images_training_rev1/930742.jpg  \n",
            "  inflating: images_training_rev1/930753.jpg  \n",
            "  inflating: images_training_rev1/930776.jpg  \n",
            "  inflating: images_training_rev1/930790.jpg  \n",
            "  inflating: images_training_rev1/930797.jpg  \n",
            "  inflating: images_training_rev1/930801.jpg  \n",
            "  inflating: images_training_rev1/930803.jpg  \n",
            "  inflating: images_training_rev1/930805.jpg  \n",
            "  inflating: images_training_rev1/930827.jpg  \n",
            "  inflating: images_training_rev1/930869.jpg  \n",
            "  inflating: images_training_rev1/930876.jpg  \n",
            "  inflating: images_training_rev1/930879.jpg  \n",
            "  inflating: images_training_rev1/930883.jpg  \n",
            "  inflating: images_training_rev1/930908.jpg  \n",
            "  inflating: images_training_rev1/930946.jpg  \n",
            "  inflating: images_training_rev1/930962.jpg  \n",
            "  inflating: images_training_rev1/930997.jpg  \n",
            "  inflating: images_training_rev1/931013.jpg  \n",
            "  inflating: images_training_rev1/931039.jpg  \n",
            "  inflating: images_training_rev1/931092.jpg  \n",
            "  inflating: images_training_rev1/931120.jpg  \n",
            "  inflating: images_training_rev1/931124.jpg  \n",
            "  inflating: images_training_rev1/931131.jpg  \n",
            "  inflating: images_training_rev1/931141.jpg  \n",
            "  inflating: images_training_rev1/931146.jpg  \n",
            "  inflating: images_training_rev1/931174.jpg  \n",
            "  inflating: images_training_rev1/931178.jpg  \n",
            "  inflating: images_training_rev1/931182.jpg  \n",
            "  inflating: images_training_rev1/931193.jpg  \n",
            "  inflating: images_training_rev1/931196.jpg  \n",
            "  inflating: images_training_rev1/931199.jpg  \n",
            "  inflating: images_training_rev1/931201.jpg  \n",
            "  inflating: images_training_rev1/931215.jpg  \n",
            "  inflating: images_training_rev1/931221.jpg  \n",
            "  inflating: images_training_rev1/931228.jpg  \n",
            "  inflating: images_training_rev1/931233.jpg  \n",
            "  inflating: images_training_rev1/931279.jpg  \n",
            "  inflating: images_training_rev1/931292.jpg  \n",
            "  inflating: images_training_rev1/931306.jpg  \n",
            "  inflating: images_training_rev1/931315.jpg  \n",
            "  inflating: images_training_rev1/931324.jpg  \n",
            "  inflating: images_training_rev1/931336.jpg  \n",
            "  inflating: images_training_rev1/931350.jpg  \n",
            "  inflating: images_training_rev1/931359.jpg  \n",
            "  inflating: images_training_rev1/931363.jpg  \n",
            "  inflating: images_training_rev1/931386.jpg  \n",
            "  inflating: images_training_rev1/931389.jpg  \n",
            "  inflating: images_training_rev1/931400.jpg  \n",
            "  inflating: images_training_rev1/931403.jpg  \n",
            "  inflating: images_training_rev1/931422.jpg  \n",
            "  inflating: images_training_rev1/931425.jpg  \n",
            "  inflating: images_training_rev1/931430.jpg  \n",
            "  inflating: images_training_rev1/931440.jpg  \n",
            "  inflating: images_training_rev1/931449.jpg  \n",
            "  inflating: images_training_rev1/931517.jpg  \n",
            "  inflating: images_training_rev1/931523.jpg  \n",
            "  inflating: images_training_rev1/931531.jpg  \n",
            "  inflating: images_training_rev1/931534.jpg  \n",
            "  inflating: images_training_rev1/931540.jpg  \n",
            "  inflating: images_training_rev1/931542.jpg  \n",
            "  inflating: images_training_rev1/931554.jpg  \n",
            "  inflating: images_training_rev1/931559.jpg  \n",
            "  inflating: images_training_rev1/931570.jpg  \n",
            "  inflating: images_training_rev1/931576.jpg  \n",
            "  inflating: images_training_rev1/931598.jpg  \n",
            "  inflating: images_training_rev1/931621.jpg  \n",
            "  inflating: images_training_rev1/931645.jpg  \n",
            "  inflating: images_training_rev1/931651.jpg  \n",
            "  inflating: images_training_rev1/931681.jpg  \n",
            "  inflating: images_training_rev1/931688.jpg  \n",
            "  inflating: images_training_rev1/931695.jpg  \n",
            "  inflating: images_training_rev1/931697.jpg  \n",
            "  inflating: images_training_rev1/931701.jpg  \n",
            "  inflating: images_training_rev1/931710.jpg  \n",
            "  inflating: images_training_rev1/931720.jpg  \n",
            "  inflating: images_training_rev1/931768.jpg  \n",
            "  inflating: images_training_rev1/931781.jpg  \n",
            "  inflating: images_training_rev1/931792.jpg  \n",
            "  inflating: images_training_rev1/931796.jpg  \n",
            "  inflating: images_training_rev1/931813.jpg  \n",
            "  inflating: images_training_rev1/931832.jpg  \n",
            "  inflating: images_training_rev1/931839.jpg  \n",
            "  inflating: images_training_rev1/931843.jpg  \n",
            "  inflating: images_training_rev1/931868.jpg  \n",
            "  inflating: images_training_rev1/931873.jpg  \n",
            "  inflating: images_training_rev1/931879.jpg  \n",
            "  inflating: images_training_rev1/931898.jpg  \n",
            "  inflating: images_training_rev1/931901.jpg  \n",
            "  inflating: images_training_rev1/931911.jpg  \n",
            "  inflating: images_training_rev1/931916.jpg  \n",
            "  inflating: images_training_rev1/931934.jpg  \n",
            "  inflating: images_training_rev1/931938.jpg  \n",
            "  inflating: images_training_rev1/931952.jpg  \n",
            "  inflating: images_training_rev1/931964.jpg  \n",
            "  inflating: images_training_rev1/931985.jpg  \n",
            "  inflating: images_training_rev1/932033.jpg  \n",
            "  inflating: images_training_rev1/932036.jpg  \n",
            "  inflating: images_training_rev1/932042.jpg  \n",
            "  inflating: images_training_rev1/932047.jpg  \n",
            "  inflating: images_training_rev1/932048.jpg  \n",
            "  inflating: images_training_rev1/932099.jpg  \n",
            "  inflating: images_training_rev1/932106.jpg  \n",
            "  inflating: images_training_rev1/932119.jpg  \n",
            "  inflating: images_training_rev1/932124.jpg  \n",
            "  inflating: images_training_rev1/932146.jpg  \n",
            "  inflating: images_training_rev1/932213.jpg  \n",
            "  inflating: images_training_rev1/932214.jpg  \n",
            "  inflating: images_training_rev1/932227.jpg  \n",
            "  inflating: images_training_rev1/932246.jpg  \n",
            "  inflating: images_training_rev1/932253.jpg  \n",
            "  inflating: images_training_rev1/932254.jpg  \n",
            "  inflating: images_training_rev1/932258.jpg  \n",
            "  inflating: images_training_rev1/932270.jpg  \n",
            "  inflating: images_training_rev1/932331.jpg  \n",
            "  inflating: images_training_rev1/932390.jpg  \n",
            "  inflating: images_training_rev1/932410.jpg  \n",
            "  inflating: images_training_rev1/932424.jpg  \n",
            "  inflating: images_training_rev1/932425.jpg  \n",
            "  inflating: images_training_rev1/932485.jpg  \n",
            "  inflating: images_training_rev1/932507.jpg  \n",
            "  inflating: images_training_rev1/932531.jpg  \n",
            "  inflating: images_training_rev1/932543.jpg  \n",
            "  inflating: images_training_rev1/932597.jpg  \n",
            "  inflating: images_training_rev1/932605.jpg  \n",
            "  inflating: images_training_rev1/932618.jpg  \n",
            "  inflating: images_training_rev1/932627.jpg  \n",
            "  inflating: images_training_rev1/932643.jpg  \n",
            "  inflating: images_training_rev1/932659.jpg  \n",
            "  inflating: images_training_rev1/932674.jpg  \n",
            "  inflating: images_training_rev1/932680.jpg  \n",
            "  inflating: images_training_rev1/932687.jpg  \n",
            "  inflating: images_training_rev1/932720.jpg  \n",
            "  inflating: images_training_rev1/932723.jpg  \n",
            "  inflating: images_training_rev1/932727.jpg  \n",
            "  inflating: images_training_rev1/932775.jpg  \n",
            "  inflating: images_training_rev1/932836.jpg  \n",
            "  inflating: images_training_rev1/932840.jpg  \n",
            "  inflating: images_training_rev1/932842.jpg  \n",
            "  inflating: images_training_rev1/932843.jpg  \n",
            "  inflating: images_training_rev1/932860.jpg  \n",
            "  inflating: images_training_rev1/932870.jpg  \n",
            "  inflating: images_training_rev1/932884.jpg  \n",
            "  inflating: images_training_rev1/932885.jpg  \n",
            "  inflating: images_training_rev1/932902.jpg  \n",
            "  inflating: images_training_rev1/932910.jpg  \n",
            "  inflating: images_training_rev1/932917.jpg  \n",
            "  inflating: images_training_rev1/932923.jpg  \n",
            "  inflating: images_training_rev1/932984.jpg  \n",
            "  inflating: images_training_rev1/932987.jpg  \n",
            "  inflating: images_training_rev1/932991.jpg  \n",
            "  inflating: images_training_rev1/932995.jpg  \n",
            "  inflating: images_training_rev1/933022.jpg  \n",
            "  inflating: images_training_rev1/933037.jpg  \n",
            "  inflating: images_training_rev1/933047.jpg  \n",
            "  inflating: images_training_rev1/933071.jpg  \n",
            "  inflating: images_training_rev1/933084.jpg  \n",
            "  inflating: images_training_rev1/933111.jpg  \n",
            "  inflating: images_training_rev1/933121.jpg  \n",
            "  inflating: images_training_rev1/933122.jpg  \n",
            "  inflating: images_training_rev1/933144.jpg  \n",
            "  inflating: images_training_rev1/933152.jpg  \n",
            "  inflating: images_training_rev1/933185.jpg  \n",
            "  inflating: images_training_rev1/933220.jpg  \n",
            "  inflating: images_training_rev1/933222.jpg  \n",
            "  inflating: images_training_rev1/933238.jpg  \n",
            "  inflating: images_training_rev1/933246.jpg  \n",
            "  inflating: images_training_rev1/933263.jpg  \n",
            "  inflating: images_training_rev1/933277.jpg  \n",
            "  inflating: images_training_rev1/933281.jpg  \n",
            "  inflating: images_training_rev1/933297.jpg  \n",
            "  inflating: images_training_rev1/933304.jpg  \n",
            "  inflating: images_training_rev1/933315.jpg  \n",
            "  inflating: images_training_rev1/933332.jpg  \n",
            "  inflating: images_training_rev1/933360.jpg  \n",
            "  inflating: images_training_rev1/933375.jpg  \n",
            "  inflating: images_training_rev1/933378.jpg  \n",
            "  inflating: images_training_rev1/933412.jpg  \n",
            "  inflating: images_training_rev1/933438.jpg  \n",
            "  inflating: images_training_rev1/933449.jpg  \n",
            "  inflating: images_training_rev1/933457.jpg  \n",
            "  inflating: images_training_rev1/933462.jpg  \n",
            "  inflating: images_training_rev1/933466.jpg  \n",
            "  inflating: images_training_rev1/933491.jpg  \n",
            "  inflating: images_training_rev1/933507.jpg  \n",
            "  inflating: images_training_rev1/933527.jpg  \n",
            "  inflating: images_training_rev1/933530.jpg  \n",
            "  inflating: images_training_rev1/933535.jpg  \n",
            "  inflating: images_training_rev1/933556.jpg  \n",
            "  inflating: images_training_rev1/933567.jpg  \n",
            "  inflating: images_training_rev1/933574.jpg  \n",
            "  inflating: images_training_rev1/933600.jpg  \n",
            "  inflating: images_training_rev1/933608.jpg  \n",
            "  inflating: images_training_rev1/933629.jpg  \n",
            "  inflating: images_training_rev1/933642.jpg  \n",
            "  inflating: images_training_rev1/933645.jpg  \n",
            "  inflating: images_training_rev1/933646.jpg  \n",
            "  inflating: images_training_rev1/933650.jpg  \n",
            "  inflating: images_training_rev1/933661.jpg  \n",
            "  inflating: images_training_rev1/933663.jpg  \n",
            "  inflating: images_training_rev1/933693.jpg  \n",
            "  inflating: images_training_rev1/933697.jpg  \n",
            "  inflating: images_training_rev1/933712.jpg  \n",
            "  inflating: images_training_rev1/933718.jpg  \n",
            "  inflating: images_training_rev1/933729.jpg  \n",
            "  inflating: images_training_rev1/933733.jpg  \n",
            "  inflating: images_training_rev1/933737.jpg  \n",
            "  inflating: images_training_rev1/933757.jpg  \n",
            "  inflating: images_training_rev1/933768.jpg  \n",
            "  inflating: images_training_rev1/933788.jpg  \n",
            "  inflating: images_training_rev1/933796.jpg  \n",
            "  inflating: images_training_rev1/933804.jpg  \n",
            "  inflating: images_training_rev1/933815.jpg  \n",
            "  inflating: images_training_rev1/933817.jpg  \n",
            "  inflating: images_training_rev1/933849.jpg  \n",
            "  inflating: images_training_rev1/933865.jpg  \n",
            "  inflating: images_training_rev1/933870.jpg  \n",
            "  inflating: images_training_rev1/933897.jpg  \n",
            "  inflating: images_training_rev1/933912.jpg  \n",
            "  inflating: images_training_rev1/933913.jpg  \n",
            "  inflating: images_training_rev1/933926.jpg  \n",
            "  inflating: images_training_rev1/933929.jpg  \n",
            "  inflating: images_training_rev1/933959.jpg  \n",
            "  inflating: images_training_rev1/933967.jpg  \n",
            "  inflating: images_training_rev1/933968.jpg  \n",
            "  inflating: images_training_rev1/933995.jpg  \n",
            "  inflating: images_training_rev1/934001.jpg  \n",
            "  inflating: images_training_rev1/934030.jpg  \n",
            "  inflating: images_training_rev1/934044.jpg  \n",
            "  inflating: images_training_rev1/934047.jpg  \n",
            "  inflating: images_training_rev1/934049.jpg  \n",
            "  inflating: images_training_rev1/934066.jpg  \n",
            "  inflating: images_training_rev1/934073.jpg  \n",
            "  inflating: images_training_rev1/934077.jpg  \n",
            "  inflating: images_training_rev1/934078.jpg  \n",
            "  inflating: images_training_rev1/934082.jpg  \n",
            "  inflating: images_training_rev1/934086.jpg  \n",
            "  inflating: images_training_rev1/934089.jpg  \n",
            "  inflating: images_training_rev1/934097.jpg  \n",
            "  inflating: images_training_rev1/934122.jpg  \n",
            "  inflating: images_training_rev1/934128.jpg  \n",
            "  inflating: images_training_rev1/934130.jpg  \n",
            "  inflating: images_training_rev1/934137.jpg  \n",
            "  inflating: images_training_rev1/934138.jpg  \n",
            "  inflating: images_training_rev1/934144.jpg  \n",
            "  inflating: images_training_rev1/934154.jpg  \n",
            "  inflating: images_training_rev1/934169.jpg  \n",
            "  inflating: images_training_rev1/934237.jpg  \n",
            "  inflating: images_training_rev1/934240.jpg  \n",
            "  inflating: images_training_rev1/934258.jpg  \n",
            "  inflating: images_training_rev1/934281.jpg  \n",
            "  inflating: images_training_rev1/934282.jpg  \n",
            "  inflating: images_training_rev1/934286.jpg  \n",
            "  inflating: images_training_rev1/934293.jpg  \n",
            "  inflating: images_training_rev1/934324.jpg  \n",
            "  inflating: images_training_rev1/934328.jpg  \n",
            "  inflating: images_training_rev1/934345.jpg  \n",
            "  inflating: images_training_rev1/934347.jpg  \n",
            "  inflating: images_training_rev1/934348.jpg  \n",
            "  inflating: images_training_rev1/934378.jpg  \n",
            "  inflating: images_training_rev1/934382.jpg  \n",
            "  inflating: images_training_rev1/934390.jpg  \n",
            "  inflating: images_training_rev1/934393.jpg  \n",
            "  inflating: images_training_rev1/934410.jpg  \n",
            "  inflating: images_training_rev1/934417.jpg  \n",
            "  inflating: images_training_rev1/934421.jpg  \n",
            "  inflating: images_training_rev1/934428.jpg  \n",
            "  inflating: images_training_rev1/934440.jpg  \n",
            "  inflating: images_training_rev1/934460.jpg  \n",
            "  inflating: images_training_rev1/934474.jpg  \n",
            "  inflating: images_training_rev1/934475.jpg  \n",
            "  inflating: images_training_rev1/934479.jpg  \n",
            "  inflating: images_training_rev1/934499.jpg  \n",
            "  inflating: images_training_rev1/934501.jpg  \n",
            "  inflating: images_training_rev1/934503.jpg  \n",
            "  inflating: images_training_rev1/934507.jpg  \n",
            "  inflating: images_training_rev1/934539.jpg  \n",
            "  inflating: images_training_rev1/934543.jpg  \n",
            "  inflating: images_training_rev1/934572.jpg  \n",
            "  inflating: images_training_rev1/934586.jpg  \n",
            "  inflating: images_training_rev1/934610.jpg  \n",
            "  inflating: images_training_rev1/934622.jpg  \n",
            "  inflating: images_training_rev1/934626.jpg  \n",
            "  inflating: images_training_rev1/934660.jpg  \n",
            "  inflating: images_training_rev1/934668.jpg  \n",
            "  inflating: images_training_rev1/934669.jpg  \n",
            "  inflating: images_training_rev1/934676.jpg  \n",
            "  inflating: images_training_rev1/934693.jpg  \n",
            "  inflating: images_training_rev1/934694.jpg  \n",
            "  inflating: images_training_rev1/934705.jpg  \n",
            "  inflating: images_training_rev1/934706.jpg  \n",
            "  inflating: images_training_rev1/934731.jpg  \n",
            "  inflating: images_training_rev1/934769.jpg  \n",
            "  inflating: images_training_rev1/934793.jpg  \n",
            "  inflating: images_training_rev1/934797.jpg  \n",
            "  inflating: images_training_rev1/934798.jpg  \n",
            "  inflating: images_training_rev1/934815.jpg  \n",
            "  inflating: images_training_rev1/934829.jpg  \n",
            "  inflating: images_training_rev1/934832.jpg  \n",
            "  inflating: images_training_rev1/934836.jpg  \n",
            "  inflating: images_training_rev1/934859.jpg  \n",
            "  inflating: images_training_rev1/934862.jpg  \n",
            "  inflating: images_training_rev1/934890.jpg  \n",
            "  inflating: images_training_rev1/934895.jpg  \n",
            "  inflating: images_training_rev1/934899.jpg  \n",
            "  inflating: images_training_rev1/934905.jpg  \n",
            "  inflating: images_training_rev1/934906.jpg  \n",
            "  inflating: images_training_rev1/934910.jpg  \n",
            "  inflating: images_training_rev1/934915.jpg  \n",
            "  inflating: images_training_rev1/934918.jpg  \n",
            "  inflating: images_training_rev1/934920.jpg  \n",
            "  inflating: images_training_rev1/934921.jpg  \n",
            "  inflating: images_training_rev1/934925.jpg  \n",
            "  inflating: images_training_rev1/934927.jpg  \n",
            "  inflating: images_training_rev1/934932.jpg  \n",
            "  inflating: images_training_rev1/934935.jpg  \n",
            "  inflating: images_training_rev1/934936.jpg  \n",
            "  inflating: images_training_rev1/934948.jpg  \n",
            "  inflating: images_training_rev1/934962.jpg  \n",
            "  inflating: images_training_rev1/934968.jpg  \n",
            "  inflating: images_training_rev1/935000.jpg  \n",
            "  inflating: images_training_rev1/935003.jpg  \n",
            "  inflating: images_training_rev1/935008.jpg  \n",
            "  inflating: images_training_rev1/935015.jpg  \n",
            "  inflating: images_training_rev1/935032.jpg  \n",
            "  inflating: images_training_rev1/935057.jpg  \n",
            "  inflating: images_training_rev1/935075.jpg  \n",
            "  inflating: images_training_rev1/935087.jpg  \n",
            "  inflating: images_training_rev1/935101.jpg  \n",
            "  inflating: images_training_rev1/935149.jpg  \n",
            "  inflating: images_training_rev1/935150.jpg  \n",
            "  inflating: images_training_rev1/935165.jpg  \n",
            "  inflating: images_training_rev1/935169.jpg  \n",
            "  inflating: images_training_rev1/935229.jpg  \n",
            "  inflating: images_training_rev1/935238.jpg  \n",
            "  inflating: images_training_rev1/935252.jpg  \n",
            "  inflating: images_training_rev1/935279.jpg  \n",
            "  inflating: images_training_rev1/935289.jpg  \n",
            "  inflating: images_training_rev1/935314.jpg  \n",
            "  inflating: images_training_rev1/935423.jpg  \n",
            "  inflating: images_training_rev1/935424.jpg  \n",
            "  inflating: images_training_rev1/935436.jpg  \n",
            "  inflating: images_training_rev1/935445.jpg  \n",
            "  inflating: images_training_rev1/935446.jpg  \n",
            "  inflating: images_training_rev1/935479.jpg  \n",
            "  inflating: images_training_rev1/935495.jpg  \n",
            "  inflating: images_training_rev1/935500.jpg  \n",
            "  inflating: images_training_rev1/935502.jpg  \n",
            "  inflating: images_training_rev1/935507.jpg  \n",
            "  inflating: images_training_rev1/935511.jpg  \n",
            "  inflating: images_training_rev1/935513.jpg  \n",
            "  inflating: images_training_rev1/935518.jpg  \n",
            "  inflating: images_training_rev1/935524.jpg  \n",
            "  inflating: images_training_rev1/935539.jpg  \n",
            "  inflating: images_training_rev1/935549.jpg  \n",
            "  inflating: images_training_rev1/935584.jpg  \n",
            "  inflating: images_training_rev1/935606.jpg  \n",
            "  inflating: images_training_rev1/935630.jpg  \n",
            "  inflating: images_training_rev1/935648.jpg  \n",
            "  inflating: images_training_rev1/935687.jpg  \n",
            "  inflating: images_training_rev1/935708.jpg  \n",
            "  inflating: images_training_rev1/935710.jpg  \n",
            "  inflating: images_training_rev1/935715.jpg  \n",
            "  inflating: images_training_rev1/935727.jpg  \n",
            "  inflating: images_training_rev1/935729.jpg  \n",
            "  inflating: images_training_rev1/935735.jpg  \n",
            "  inflating: images_training_rev1/935745.jpg  \n",
            "  inflating: images_training_rev1/935756.jpg  \n",
            "  inflating: images_training_rev1/935789.jpg  \n",
            "  inflating: images_training_rev1/935802.jpg  \n",
            "  inflating: images_training_rev1/935820.jpg  \n",
            "  inflating: images_training_rev1/935822.jpg  \n",
            "  inflating: images_training_rev1/935845.jpg  \n",
            "  inflating: images_training_rev1/935847.jpg  \n",
            "  inflating: images_training_rev1/935848.jpg  \n",
            "  inflating: images_training_rev1/935850.jpg  \n",
            "  inflating: images_training_rev1/935866.jpg  \n",
            "  inflating: images_training_rev1/935890.jpg  \n",
            "  inflating: images_training_rev1/935898.jpg  \n",
            "  inflating: images_training_rev1/935927.jpg  \n",
            "  inflating: images_training_rev1/935928.jpg  \n",
            "  inflating: images_training_rev1/935976.jpg  \n",
            "  inflating: images_training_rev1/935980.jpg  \n",
            "  inflating: images_training_rev1/936015.jpg  \n",
            "  inflating: images_training_rev1/936022.jpg  \n",
            "  inflating: images_training_rev1/936026.jpg  \n",
            "  inflating: images_training_rev1/936035.jpg  \n",
            "  inflating: images_training_rev1/936044.jpg  \n",
            "  inflating: images_training_rev1/936077.jpg  \n",
            "  inflating: images_training_rev1/936084.jpg  \n",
            "  inflating: images_training_rev1/936089.jpg  \n",
            "  inflating: images_training_rev1/936095.jpg  \n",
            "  inflating: images_training_rev1/936097.jpg  \n",
            "  inflating: images_training_rev1/936109.jpg  \n",
            "  inflating: images_training_rev1/936120.jpg  \n",
            "  inflating: images_training_rev1/936125.jpg  \n",
            "  inflating: images_training_rev1/936134.jpg  \n",
            "  inflating: images_training_rev1/936136.jpg  \n",
            "  inflating: images_training_rev1/936174.jpg  \n",
            "  inflating: images_training_rev1/936183.jpg  \n",
            "  inflating: images_training_rev1/936214.jpg  \n",
            "  inflating: images_training_rev1/936221.jpg  \n",
            "  inflating: images_training_rev1/936245.jpg  \n",
            "  inflating: images_training_rev1/936248.jpg  \n",
            "  inflating: images_training_rev1/936255.jpg  \n",
            "  inflating: images_training_rev1/936287.jpg  \n",
            "  inflating: images_training_rev1/936290.jpg  \n",
            "  inflating: images_training_rev1/936336.jpg  \n",
            "  inflating: images_training_rev1/936345.jpg  \n",
            "  inflating: images_training_rev1/936368.jpg  \n",
            "  inflating: images_training_rev1/936379.jpg  \n",
            "  inflating: images_training_rev1/936440.jpg  \n",
            "  inflating: images_training_rev1/936441.jpg  \n",
            "  inflating: images_training_rev1/936474.jpg  \n",
            "  inflating: images_training_rev1/936475.jpg  \n",
            "  inflating: images_training_rev1/936534.jpg  \n",
            "  inflating: images_training_rev1/936544.jpg  \n",
            "  inflating: images_training_rev1/936546.jpg  \n",
            "  inflating: images_training_rev1/936569.jpg  \n",
            "  inflating: images_training_rev1/936602.jpg  \n",
            "  inflating: images_training_rev1/936606.jpg  \n",
            "  inflating: images_training_rev1/936616.jpg  \n",
            "  inflating: images_training_rev1/936624.jpg  \n",
            "  inflating: images_training_rev1/936629.jpg  \n",
            "  inflating: images_training_rev1/936633.jpg  \n",
            "  inflating: images_training_rev1/936646.jpg  \n",
            "  inflating: images_training_rev1/936653.jpg  \n",
            "  inflating: images_training_rev1/936654.jpg  \n",
            "  inflating: images_training_rev1/936668.jpg  \n",
            "  inflating: images_training_rev1/936674.jpg  \n",
            "  inflating: images_training_rev1/936686.jpg  \n",
            "  inflating: images_training_rev1/936696.jpg  \n",
            "  inflating: images_training_rev1/936697.jpg  \n",
            "  inflating: images_training_rev1/936704.jpg  \n",
            "  inflating: images_training_rev1/936722.jpg  \n",
            "  inflating: images_training_rev1/936733.jpg  \n",
            "  inflating: images_training_rev1/936737.jpg  \n",
            "  inflating: images_training_rev1/936754.jpg  \n",
            "  inflating: images_training_rev1/936759.jpg  \n",
            "  inflating: images_training_rev1/936764.jpg  \n",
            "  inflating: images_training_rev1/936785.jpg  \n",
            "  inflating: images_training_rev1/936788.jpg  \n",
            "  inflating: images_training_rev1/936789.jpg  \n",
            "  inflating: images_training_rev1/936791.jpg  \n",
            "  inflating: images_training_rev1/936797.jpg  \n",
            "  inflating: images_training_rev1/936805.jpg  \n",
            "  inflating: images_training_rev1/936824.jpg  \n",
            "  inflating: images_training_rev1/936841.jpg  \n",
            "  inflating: images_training_rev1/936862.jpg  \n",
            "  inflating: images_training_rev1/936877.jpg  \n",
            "  inflating: images_training_rev1/936891.jpg  \n",
            "  inflating: images_training_rev1/936892.jpg  \n",
            "  inflating: images_training_rev1/936910.jpg  \n",
            "  inflating: images_training_rev1/936911.jpg  \n",
            "  inflating: images_training_rev1/936955.jpg  \n",
            "  inflating: images_training_rev1/936972.jpg  \n",
            "  inflating: images_training_rev1/936978.jpg  \n",
            "  inflating: images_training_rev1/936987.jpg  \n",
            "  inflating: images_training_rev1/937005.jpg  \n",
            "  inflating: images_training_rev1/937006.jpg  \n",
            "  inflating: images_training_rev1/937013.jpg  \n",
            "  inflating: images_training_rev1/937038.jpg  \n",
            "  inflating: images_training_rev1/937071.jpg  \n",
            "  inflating: images_training_rev1/937075.jpg  \n",
            "  inflating: images_training_rev1/937089.jpg  \n",
            "  inflating: images_training_rev1/937091.jpg  \n",
            "  inflating: images_training_rev1/937102.jpg  \n",
            "  inflating: images_training_rev1/937130.jpg  \n",
            "  inflating: images_training_rev1/937168.jpg  \n",
            "  inflating: images_training_rev1/937174.jpg  \n",
            "  inflating: images_training_rev1/937187.jpg  \n",
            "  inflating: images_training_rev1/937202.jpg  \n",
            "  inflating: images_training_rev1/937267.jpg  \n",
            "  inflating: images_training_rev1/937339.jpg  \n",
            "  inflating: images_training_rev1/937360.jpg  \n",
            "  inflating: images_training_rev1/937370.jpg  \n",
            "  inflating: images_training_rev1/937387.jpg  \n",
            "  inflating: images_training_rev1/937391.jpg  \n",
            "  inflating: images_training_rev1/937393.jpg  \n",
            "  inflating: images_training_rev1/937396.jpg  \n",
            "  inflating: images_training_rev1/937410.jpg  \n",
            "  inflating: images_training_rev1/937421.jpg  \n",
            "  inflating: images_training_rev1/937429.jpg  \n",
            "  inflating: images_training_rev1/937442.jpg  \n",
            "  inflating: images_training_rev1/937443.jpg  \n",
            "  inflating: images_training_rev1/937444.jpg  \n",
            "  inflating: images_training_rev1/937485.jpg  \n",
            "  inflating: images_training_rev1/937504.jpg  \n",
            "  inflating: images_training_rev1/937509.jpg  \n",
            "  inflating: images_training_rev1/937514.jpg  \n",
            "  inflating: images_training_rev1/937519.jpg  \n",
            "  inflating: images_training_rev1/937526.jpg  \n",
            "  inflating: images_training_rev1/937537.jpg  \n",
            "  inflating: images_training_rev1/937553.jpg  \n",
            "  inflating: images_training_rev1/937583.jpg  \n",
            "  inflating: images_training_rev1/937586.jpg  \n",
            "  inflating: images_training_rev1/937624.jpg  \n",
            "  inflating: images_training_rev1/937694.jpg  \n",
            "  inflating: images_training_rev1/937707.jpg  \n",
            "  inflating: images_training_rev1/937716.jpg  \n",
            "  inflating: images_training_rev1/937722.jpg  \n",
            "  inflating: images_training_rev1/937725.jpg  \n",
            "  inflating: images_training_rev1/937754.jpg  \n",
            "  inflating: images_training_rev1/937797.jpg  \n",
            "  inflating: images_training_rev1/937814.jpg  \n",
            "  inflating: images_training_rev1/937837.jpg  \n",
            "  inflating: images_training_rev1/937846.jpg  \n",
            "  inflating: images_training_rev1/937904.jpg  \n",
            "  inflating: images_training_rev1/937932.jpg  \n",
            "  inflating: images_training_rev1/937937.jpg  \n",
            "  inflating: images_training_rev1/937954.jpg  \n",
            "  inflating: images_training_rev1/937959.jpg  \n",
            "  inflating: images_training_rev1/937966.jpg  \n",
            "  inflating: images_training_rev1/937984.jpg  \n",
            "  inflating: images_training_rev1/938002.jpg  \n",
            "  inflating: images_training_rev1/938019.jpg  \n",
            "  inflating: images_training_rev1/938022.jpg  \n",
            "  inflating: images_training_rev1/938024.jpg  \n",
            "  inflating: images_training_rev1/938041.jpg  \n",
            "  inflating: images_training_rev1/938067.jpg  \n",
            "  inflating: images_training_rev1/938107.jpg  \n",
            "  inflating: images_training_rev1/938110.jpg  \n",
            "  inflating: images_training_rev1/938125.jpg  \n",
            "  inflating: images_training_rev1/938127.jpg  \n",
            "  inflating: images_training_rev1/938142.jpg  \n",
            "  inflating: images_training_rev1/938167.jpg  \n",
            "  inflating: images_training_rev1/938173.jpg  \n",
            "  inflating: images_training_rev1/938178.jpg  \n",
            "  inflating: images_training_rev1/938195.jpg  \n",
            "  inflating: images_training_rev1/938197.jpg  \n",
            "  inflating: images_training_rev1/938220.jpg  \n",
            "  inflating: images_training_rev1/938228.jpg  \n",
            "  inflating: images_training_rev1/938247.jpg  \n",
            "  inflating: images_training_rev1/938251.jpg  \n",
            "  inflating: images_training_rev1/938252.jpg  \n",
            "  inflating: images_training_rev1/938254.jpg  \n",
            "  inflating: images_training_rev1/938264.jpg  \n",
            "  inflating: images_training_rev1/938269.jpg  \n",
            "  inflating: images_training_rev1/938271.jpg  \n",
            "  inflating: images_training_rev1/938299.jpg  \n",
            "  inflating: images_training_rev1/938300.jpg  \n",
            "  inflating: images_training_rev1/938301.jpg  \n",
            "  inflating: images_training_rev1/938307.jpg  \n",
            "  inflating: images_training_rev1/938312.jpg  \n",
            "  inflating: images_training_rev1/938321.jpg  \n",
            "  inflating: images_training_rev1/938324.jpg  \n",
            "  inflating: images_training_rev1/938352.jpg  \n",
            "  inflating: images_training_rev1/938363.jpg  \n",
            "  inflating: images_training_rev1/938369.jpg  \n",
            "  inflating: images_training_rev1/938379.jpg  \n",
            "  inflating: images_training_rev1/938416.jpg  \n",
            "  inflating: images_training_rev1/938430.jpg  \n",
            "  inflating: images_training_rev1/938443.jpg  \n",
            "  inflating: images_training_rev1/938452.jpg  \n",
            "  inflating: images_training_rev1/938455.jpg  \n",
            "  inflating: images_training_rev1/938480.jpg  \n",
            "  inflating: images_training_rev1/938489.jpg  \n",
            "  inflating: images_training_rev1/938491.jpg  \n",
            "  inflating: images_training_rev1/938492.jpg  \n",
            "  inflating: images_training_rev1/938497.jpg  \n",
            "  inflating: images_training_rev1/938502.jpg  \n",
            "  inflating: images_training_rev1/938503.jpg  \n",
            "  inflating: images_training_rev1/938526.jpg  \n",
            "  inflating: images_training_rev1/938533.jpg  \n",
            "  inflating: images_training_rev1/938568.jpg  \n",
            "  inflating: images_training_rev1/938572.jpg  \n",
            "  inflating: images_training_rev1/938576.jpg  \n",
            "  inflating: images_training_rev1/938579.jpg  \n",
            "  inflating: images_training_rev1/938623.jpg  \n",
            "  inflating: images_training_rev1/938650.jpg  \n",
            "  inflating: images_training_rev1/938653.jpg  \n",
            "  inflating: images_training_rev1/938659.jpg  \n",
            "  inflating: images_training_rev1/938668.jpg  \n",
            "  inflating: images_training_rev1/938669.jpg  \n",
            "  inflating: images_training_rev1/938670.jpg  \n",
            "  inflating: images_training_rev1/938672.jpg  \n",
            "  inflating: images_training_rev1/938673.jpg  \n",
            "  inflating: images_training_rev1/938675.jpg  \n",
            "  inflating: images_training_rev1/938676.jpg  \n",
            "  inflating: images_training_rev1/938681.jpg  \n",
            "  inflating: images_training_rev1/938708.jpg  \n",
            "  inflating: images_training_rev1/938711.jpg  \n",
            "  inflating: images_training_rev1/938725.jpg  \n",
            "  inflating: images_training_rev1/938728.jpg  \n",
            "  inflating: images_training_rev1/938731.jpg  \n",
            "  inflating: images_training_rev1/938742.jpg  \n",
            "  inflating: images_training_rev1/938744.jpg  \n",
            "  inflating: images_training_rev1/938745.jpg  \n",
            "  inflating: images_training_rev1/938755.jpg  \n",
            "  inflating: images_training_rev1/938764.jpg  \n",
            "  inflating: images_training_rev1/938767.jpg  \n",
            "  inflating: images_training_rev1/938774.jpg  \n",
            "  inflating: images_training_rev1/938775.jpg  \n",
            "  inflating: images_training_rev1/938777.jpg  \n",
            "  inflating: images_training_rev1/938804.jpg  \n",
            "  inflating: images_training_rev1/938810.jpg  \n",
            "  inflating: images_training_rev1/938829.jpg  \n",
            "  inflating: images_training_rev1/938845.jpg  \n",
            "  inflating: images_training_rev1/938872.jpg  \n",
            "  inflating: images_training_rev1/938942.jpg  \n",
            "  inflating: images_training_rev1/938960.jpg  \n",
            "  inflating: images_training_rev1/938961.jpg  \n",
            "  inflating: images_training_rev1/938967.jpg  \n",
            "  inflating: images_training_rev1/938977.jpg  \n",
            "  inflating: images_training_rev1/938994.jpg  \n",
            "  inflating: images_training_rev1/939000.jpg  \n",
            "  inflating: images_training_rev1/939011.jpg  \n",
            "  inflating: images_training_rev1/939026.jpg  \n",
            "  inflating: images_training_rev1/939031.jpg  \n",
            "  inflating: images_training_rev1/939045.jpg  \n",
            "  inflating: images_training_rev1/939064.jpg  \n",
            "  inflating: images_training_rev1/939095.jpg  \n",
            "  inflating: images_training_rev1/939102.jpg  \n",
            "  inflating: images_training_rev1/939132.jpg  \n",
            "  inflating: images_training_rev1/939175.jpg  \n",
            "  inflating: images_training_rev1/939188.jpg  \n",
            "  inflating: images_training_rev1/939198.jpg  \n",
            "  inflating: images_training_rev1/939202.jpg  \n",
            "  inflating: images_training_rev1/939216.jpg  \n",
            "  inflating: images_training_rev1/939222.jpg  \n",
            "  inflating: images_training_rev1/939233.jpg  \n",
            "  inflating: images_training_rev1/939235.jpg  \n",
            "  inflating: images_training_rev1/939246.jpg  \n",
            "  inflating: images_training_rev1/939258.jpg  \n",
            "  inflating: images_training_rev1/939274.jpg  \n",
            "  inflating: images_training_rev1/939288.jpg  \n",
            "  inflating: images_training_rev1/939295.jpg  \n",
            "  inflating: images_training_rev1/939306.jpg  \n",
            "  inflating: images_training_rev1/939316.jpg  \n",
            "  inflating: images_training_rev1/939340.jpg  \n",
            "  inflating: images_training_rev1/939342.jpg  \n",
            "  inflating: images_training_rev1/939353.jpg  \n",
            "  inflating: images_training_rev1/939378.jpg  \n",
            "  inflating: images_training_rev1/939384.jpg  \n",
            "  inflating: images_training_rev1/939396.jpg  \n",
            "  inflating: images_training_rev1/939409.jpg  \n",
            "  inflating: images_training_rev1/939410.jpg  \n",
            "  inflating: images_training_rev1/939466.jpg  \n",
            "  inflating: images_training_rev1/939480.jpg  \n",
            "  inflating: images_training_rev1/939495.jpg  \n",
            "  inflating: images_training_rev1/939551.jpg  \n",
            "  inflating: images_training_rev1/939558.jpg  \n",
            "  inflating: images_training_rev1/939567.jpg  \n",
            "  inflating: images_training_rev1/939592.jpg  \n",
            "  inflating: images_training_rev1/939620.jpg  \n",
            "  inflating: images_training_rev1/939621.jpg  \n",
            "  inflating: images_training_rev1/939636.jpg  \n",
            "  inflating: images_training_rev1/939659.jpg  \n",
            "  inflating: images_training_rev1/939660.jpg  \n",
            "  inflating: images_training_rev1/939757.jpg  \n",
            "  inflating: images_training_rev1/939772.jpg  \n",
            "  inflating: images_training_rev1/939785.jpg  \n",
            "  inflating: images_training_rev1/939797.jpg  \n",
            "  inflating: images_training_rev1/939821.jpg  \n",
            "  inflating: images_training_rev1/939859.jpg  \n",
            "  inflating: images_training_rev1/939882.jpg  \n",
            "  inflating: images_training_rev1/939885.jpg  \n",
            "  inflating: images_training_rev1/939897.jpg  \n",
            "  inflating: images_training_rev1/939899.jpg  \n",
            "  inflating: images_training_rev1/939901.jpg  \n",
            "  inflating: images_training_rev1/939929.jpg  \n",
            "  inflating: images_training_rev1/939934.jpg  \n",
            "  inflating: images_training_rev1/939988.jpg  \n",
            "  inflating: images_training_rev1/940000.jpg  \n",
            "  inflating: images_training_rev1/940025.jpg  \n",
            "  inflating: images_training_rev1/940029.jpg  \n",
            "  inflating: images_training_rev1/940044.jpg  \n",
            "  inflating: images_training_rev1/940063.jpg  \n",
            "  inflating: images_training_rev1/940065.jpg  \n",
            "  inflating: images_training_rev1/940068.jpg  \n",
            "  inflating: images_training_rev1/940085.jpg  \n",
            "  inflating: images_training_rev1/940106.jpg  \n",
            "  inflating: images_training_rev1/940114.jpg  \n",
            "  inflating: images_training_rev1/940125.jpg  \n",
            "  inflating: images_training_rev1/940128.jpg  \n",
            "  inflating: images_training_rev1/940134.jpg  \n",
            "  inflating: images_training_rev1/940149.jpg  \n",
            "  inflating: images_training_rev1/940150.jpg  \n",
            "  inflating: images_training_rev1/940164.jpg  \n",
            "  inflating: images_training_rev1/940167.jpg  \n",
            "  inflating: images_training_rev1/940196.jpg  \n",
            "  inflating: images_training_rev1/940206.jpg  \n",
            "  inflating: images_training_rev1/940242.jpg  \n",
            "  inflating: images_training_rev1/940257.jpg  \n",
            "  inflating: images_training_rev1/940261.jpg  \n",
            "  inflating: images_training_rev1/940287.jpg  \n",
            "  inflating: images_training_rev1/940295.jpg  \n",
            "  inflating: images_training_rev1/940300.jpg  \n",
            "  inflating: images_training_rev1/940317.jpg  \n",
            "  inflating: images_training_rev1/940318.jpg  \n",
            "  inflating: images_training_rev1/940320.jpg  \n",
            "  inflating: images_training_rev1/940378.jpg  \n",
            "  inflating: images_training_rev1/940380.jpg  \n",
            "  inflating: images_training_rev1/940384.jpg  \n",
            "  inflating: images_training_rev1/940414.jpg  \n",
            "  inflating: images_training_rev1/940436.jpg  \n",
            "  inflating: images_training_rev1/940457.jpg  \n",
            "  inflating: images_training_rev1/940512.jpg  \n",
            "  inflating: images_training_rev1/940527.jpg  \n",
            "  inflating: images_training_rev1/940538.jpg  \n",
            "  inflating: images_training_rev1/940539.jpg  \n",
            "  inflating: images_training_rev1/940543.jpg  \n",
            "  inflating: images_training_rev1/940552.jpg  \n",
            "  inflating: images_training_rev1/940555.jpg  \n",
            "  inflating: images_training_rev1/940570.jpg  \n",
            "  inflating: images_training_rev1/940577.jpg  \n",
            "  inflating: images_training_rev1/940617.jpg  \n",
            "  inflating: images_training_rev1/940621.jpg  \n",
            "  inflating: images_training_rev1/940622.jpg  \n",
            "  inflating: images_training_rev1/940636.jpg  \n",
            "  inflating: images_training_rev1/940651.jpg  \n",
            "  inflating: images_training_rev1/940661.jpg  \n",
            "  inflating: images_training_rev1/940666.jpg  \n",
            "  inflating: images_training_rev1/940717.jpg  \n",
            "  inflating: images_training_rev1/940721.jpg  \n",
            "  inflating: images_training_rev1/940732.jpg  \n",
            "  inflating: images_training_rev1/940753.jpg  \n",
            "  inflating: images_training_rev1/940762.jpg  \n",
            "  inflating: images_training_rev1/940763.jpg  \n",
            "  inflating: images_training_rev1/940766.jpg  \n",
            "  inflating: images_training_rev1/940772.jpg  \n",
            "  inflating: images_training_rev1/940775.jpg  \n",
            "  inflating: images_training_rev1/940819.jpg  \n",
            "  inflating: images_training_rev1/940833.jpg  \n",
            "  inflating: images_training_rev1/940959.jpg  \n",
            "  inflating: images_training_rev1/940972.jpg  \n",
            "  inflating: images_training_rev1/941005.jpg  \n",
            "  inflating: images_training_rev1/941012.jpg  \n",
            "  inflating: images_training_rev1/941030.jpg  \n",
            "  inflating: images_training_rev1/941038.jpg  \n",
            "  inflating: images_training_rev1/941092.jpg  \n",
            "  inflating: images_training_rev1/941104.jpg  \n",
            "  inflating: images_training_rev1/941107.jpg  \n",
            "  inflating: images_training_rev1/941110.jpg  \n",
            "  inflating: images_training_rev1/941123.jpg  \n",
            "  inflating: images_training_rev1/941134.jpg  \n",
            "  inflating: images_training_rev1/941153.jpg  \n",
            "  inflating: images_training_rev1/941194.jpg  \n",
            "  inflating: images_training_rev1/941201.jpg  \n",
            "  inflating: images_training_rev1/941204.jpg  \n",
            "  inflating: images_training_rev1/941233.jpg  \n",
            "  inflating: images_training_rev1/941247.jpg  \n",
            "  inflating: images_training_rev1/941267.jpg  \n",
            "  inflating: images_training_rev1/941278.jpg  \n",
            "  inflating: images_training_rev1/941326.jpg  \n",
            "  inflating: images_training_rev1/941378.jpg  \n",
            "  inflating: images_training_rev1/941380.jpg  \n",
            "  inflating: images_training_rev1/941387.jpg  \n",
            "  inflating: images_training_rev1/941428.jpg  \n",
            "  inflating: images_training_rev1/941431.jpg  \n",
            "  inflating: images_training_rev1/941451.jpg  \n",
            "  inflating: images_training_rev1/941462.jpg  \n",
            "  inflating: images_training_rev1/941490.jpg  \n",
            "  inflating: images_training_rev1/941494.jpg  \n",
            "  inflating: images_training_rev1/941499.jpg  \n",
            "  inflating: images_training_rev1/941503.jpg  \n",
            "  inflating: images_training_rev1/941512.jpg  \n",
            "  inflating: images_training_rev1/941527.jpg  \n",
            "  inflating: images_training_rev1/941557.jpg  \n",
            "  inflating: images_training_rev1/941574.jpg  \n",
            "  inflating: images_training_rev1/941587.jpg  \n",
            "  inflating: images_training_rev1/941600.jpg  \n",
            "  inflating: images_training_rev1/941609.jpg  \n",
            "  inflating: images_training_rev1/941612.jpg  \n",
            "  inflating: images_training_rev1/941636.jpg  \n",
            "  inflating: images_training_rev1/941644.jpg  \n",
            "  inflating: images_training_rev1/941647.jpg  \n",
            "  inflating: images_training_rev1/941670.jpg  \n",
            "  inflating: images_training_rev1/941689.jpg  \n",
            "  inflating: images_training_rev1/941692.jpg  \n",
            "  inflating: images_training_rev1/941701.jpg  \n",
            "  inflating: images_training_rev1/941712.jpg  \n",
            "  inflating: images_training_rev1/941735.jpg  \n",
            "  inflating: images_training_rev1/941741.jpg  \n",
            "  inflating: images_training_rev1/941751.jpg  \n",
            "  inflating: images_training_rev1/941754.jpg  \n",
            "  inflating: images_training_rev1/941773.jpg  \n",
            "  inflating: images_training_rev1/941809.jpg  \n",
            "  inflating: images_training_rev1/941814.jpg  \n",
            "  inflating: images_training_rev1/941818.jpg  \n",
            "  inflating: images_training_rev1/941844.jpg  \n",
            "  inflating: images_training_rev1/941852.jpg  \n",
            "  inflating: images_training_rev1/941929.jpg  \n",
            "  inflating: images_training_rev1/941930.jpg  \n",
            "  inflating: images_training_rev1/941962.jpg  \n",
            "  inflating: images_training_rev1/941981.jpg  \n",
            "  inflating: images_training_rev1/942003.jpg  \n",
            "  inflating: images_training_rev1/942064.jpg  \n",
            "  inflating: images_training_rev1/942068.jpg  \n",
            "  inflating: images_training_rev1/942076.jpg  \n",
            "  inflating: images_training_rev1/942080.jpg  \n",
            "  inflating: images_training_rev1/942091.jpg  \n",
            "  inflating: images_training_rev1/942096.jpg  \n",
            "  inflating: images_training_rev1/942101.jpg  \n",
            "  inflating: images_training_rev1/942113.jpg  \n",
            "  inflating: images_training_rev1/942117.jpg  \n",
            "  inflating: images_training_rev1/942137.jpg  \n",
            "  inflating: images_training_rev1/942158.jpg  \n",
            "  inflating: images_training_rev1/942160.jpg  \n",
            "  inflating: images_training_rev1/942167.jpg  \n",
            "  inflating: images_training_rev1/942182.jpg  \n",
            "  inflating: images_training_rev1/942183.jpg  \n",
            "  inflating: images_training_rev1/942187.jpg  \n",
            "  inflating: images_training_rev1/942215.jpg  \n",
            "  inflating: images_training_rev1/942239.jpg  \n",
            "  inflating: images_training_rev1/942241.jpg  \n",
            "  inflating: images_training_rev1/942248.jpg  \n",
            "  inflating: images_training_rev1/942285.jpg  \n",
            "  inflating: images_training_rev1/942291.jpg  \n",
            "  inflating: images_training_rev1/942321.jpg  \n",
            "  inflating: images_training_rev1/942339.jpg  \n",
            "  inflating: images_training_rev1/942359.jpg  \n",
            "  inflating: images_training_rev1/942362.jpg  \n",
            "  inflating: images_training_rev1/942376.jpg  \n",
            "  inflating: images_training_rev1/942391.jpg  \n",
            "  inflating: images_training_rev1/942394.jpg  \n",
            "  inflating: images_training_rev1/942400.jpg  \n",
            "  inflating: images_training_rev1/942415.jpg  \n",
            "  inflating: images_training_rev1/942422.jpg  \n",
            "  inflating: images_training_rev1/942432.jpg  \n",
            "  inflating: images_training_rev1/942438.jpg  \n",
            "  inflating: images_training_rev1/942453.jpg  \n",
            "  inflating: images_training_rev1/942473.jpg  \n",
            "  inflating: images_training_rev1/942486.jpg  \n",
            "  inflating: images_training_rev1/942491.jpg  \n",
            "  inflating: images_training_rev1/942501.jpg  \n",
            "  inflating: images_training_rev1/942524.jpg  \n",
            "  inflating: images_training_rev1/942534.jpg  \n",
            "  inflating: images_training_rev1/942566.jpg  \n",
            "  inflating: images_training_rev1/942573.jpg  \n",
            "  inflating: images_training_rev1/942579.jpg  \n",
            "  inflating: images_training_rev1/942603.jpg  \n",
            "  inflating: images_training_rev1/942608.jpg  \n",
            "  inflating: images_training_rev1/942622.jpg  \n",
            "  inflating: images_training_rev1/942624.jpg  \n",
            "  inflating: images_training_rev1/942630.jpg  \n",
            "  inflating: images_training_rev1/942637.jpg  \n",
            "  inflating: images_training_rev1/942644.jpg  \n",
            "  inflating: images_training_rev1/942652.jpg  \n",
            "  inflating: images_training_rev1/942726.jpg  \n",
            "  inflating: images_training_rev1/942746.jpg  \n",
            "  inflating: images_training_rev1/942752.jpg  \n",
            "  inflating: images_training_rev1/942765.jpg  \n",
            "  inflating: images_training_rev1/942776.jpg  \n",
            "  inflating: images_training_rev1/942834.jpg  \n",
            "  inflating: images_training_rev1/942851.jpg  \n",
            "  inflating: images_training_rev1/942859.jpg  \n",
            "  inflating: images_training_rev1/942877.jpg  \n",
            "  inflating: images_training_rev1/942890.jpg  \n",
            "  inflating: images_training_rev1/942946.jpg  \n",
            "  inflating: images_training_rev1/942951.jpg  \n",
            "  inflating: images_training_rev1/942982.jpg  \n",
            "  inflating: images_training_rev1/942989.jpg  \n",
            "  inflating: images_training_rev1/943001.jpg  \n",
            "  inflating: images_training_rev1/943033.jpg  \n",
            "  inflating: images_training_rev1/943052.jpg  \n",
            "  inflating: images_training_rev1/943054.jpg  \n",
            "  inflating: images_training_rev1/943080.jpg  \n",
            "  inflating: images_training_rev1/943093.jpg  \n",
            "  inflating: images_training_rev1/943132.jpg  \n",
            "  inflating: images_training_rev1/943146.jpg  \n",
            "  inflating: images_training_rev1/943155.jpg  \n",
            "  inflating: images_training_rev1/943179.jpg  \n",
            "  inflating: images_training_rev1/943226.jpg  \n",
            "  inflating: images_training_rev1/943251.jpg  \n",
            "  inflating: images_training_rev1/943253.jpg  \n",
            "  inflating: images_training_rev1/943264.jpg  \n",
            "  inflating: images_training_rev1/943273.jpg  \n",
            "  inflating: images_training_rev1/943281.jpg  \n",
            "  inflating: images_training_rev1/943313.jpg  \n",
            "  inflating: images_training_rev1/943342.jpg  \n",
            "  inflating: images_training_rev1/943350.jpg  \n",
            "  inflating: images_training_rev1/943354.jpg  \n",
            "  inflating: images_training_rev1/943367.jpg  \n",
            "  inflating: images_training_rev1/943388.jpg  \n",
            "  inflating: images_training_rev1/943422.jpg  \n",
            "  inflating: images_training_rev1/943458.jpg  \n",
            "  inflating: images_training_rev1/943511.jpg  \n",
            "  inflating: images_training_rev1/943552.jpg  \n",
            "  inflating: images_training_rev1/943571.jpg  \n",
            "  inflating: images_training_rev1/943575.jpg  \n",
            "  inflating: images_training_rev1/943585.jpg  \n",
            "  inflating: images_training_rev1/943601.jpg  \n",
            "  inflating: images_training_rev1/943608.jpg  \n",
            "  inflating: images_training_rev1/943610.jpg  \n",
            "  inflating: images_training_rev1/943632.jpg  \n",
            "  inflating: images_training_rev1/943634.jpg  \n",
            "  inflating: images_training_rev1/943635.jpg  \n",
            "  inflating: images_training_rev1/943709.jpg  \n",
            "  inflating: images_training_rev1/943739.jpg  \n",
            "  inflating: images_training_rev1/943754.jpg  \n",
            "  inflating: images_training_rev1/943772.jpg  \n",
            "  inflating: images_training_rev1/943800.jpg  \n",
            "  inflating: images_training_rev1/943809.jpg  \n",
            "  inflating: images_training_rev1/943823.jpg  \n",
            "  inflating: images_training_rev1/943837.jpg  \n",
            "  inflating: images_training_rev1/943850.jpg  \n",
            "  inflating: images_training_rev1/943855.jpg  \n",
            "  inflating: images_training_rev1/943862.jpg  \n",
            "  inflating: images_training_rev1/943868.jpg  \n",
            "  inflating: images_training_rev1/943879.jpg  \n",
            "  inflating: images_training_rev1/943942.jpg  \n",
            "  inflating: images_training_rev1/943951.jpg  \n",
            "  inflating: images_training_rev1/943966.jpg  \n",
            "  inflating: images_training_rev1/944006.jpg  \n",
            "  inflating: images_training_rev1/944010.jpg  \n",
            "  inflating: images_training_rev1/944013.jpg  \n",
            "  inflating: images_training_rev1/944044.jpg  \n",
            "  inflating: images_training_rev1/944045.jpg  \n",
            "  inflating: images_training_rev1/944049.jpg  \n",
            "  inflating: images_training_rev1/944058.jpg  \n",
            "  inflating: images_training_rev1/944063.jpg  \n",
            "  inflating: images_training_rev1/944069.jpg  \n",
            "  inflating: images_training_rev1/944078.jpg  \n",
            "  inflating: images_training_rev1/944080.jpg  \n",
            "  inflating: images_training_rev1/944089.jpg  \n",
            "  inflating: images_training_rev1/944099.jpg  \n",
            "  inflating: images_training_rev1/944106.jpg  \n",
            "  inflating: images_training_rev1/944107.jpg  \n",
            "  inflating: images_training_rev1/944115.jpg  \n",
            "  inflating: images_training_rev1/944130.jpg  \n",
            "  inflating: images_training_rev1/944151.jpg  \n",
            "  inflating: images_training_rev1/944173.jpg  \n",
            "  inflating: images_training_rev1/944180.jpg  \n",
            "  inflating: images_training_rev1/944183.jpg  \n",
            "  inflating: images_training_rev1/944187.jpg  \n",
            "  inflating: images_training_rev1/944197.jpg  \n",
            "  inflating: images_training_rev1/944212.jpg  \n",
            "  inflating: images_training_rev1/944229.jpg  \n",
            "  inflating: images_training_rev1/944254.jpg  \n",
            "  inflating: images_training_rev1/944307.jpg  \n",
            "  inflating: images_training_rev1/944312.jpg  \n",
            "  inflating: images_training_rev1/944332.jpg  \n",
            "  inflating: images_training_rev1/944339.jpg  \n",
            "  inflating: images_training_rev1/944348.jpg  \n",
            "  inflating: images_training_rev1/944352.jpg  \n",
            "  inflating: images_training_rev1/944391.jpg  \n",
            "  inflating: images_training_rev1/944406.jpg  \n",
            "  inflating: images_training_rev1/944414.jpg  \n",
            "  inflating: images_training_rev1/944415.jpg  \n",
            "  inflating: images_training_rev1/944416.jpg  \n",
            "  inflating: images_training_rev1/944453.jpg  \n",
            "  inflating: images_training_rev1/944462.jpg  \n",
            "  inflating: images_training_rev1/944475.jpg  \n",
            "  inflating: images_training_rev1/944479.jpg  \n",
            "  inflating: images_training_rev1/944495.jpg  \n",
            "  inflating: images_training_rev1/944515.jpg  \n",
            "  inflating: images_training_rev1/944519.jpg  \n",
            "  inflating: images_training_rev1/944524.jpg  \n",
            "  inflating: images_training_rev1/944526.jpg  \n",
            "  inflating: images_training_rev1/944536.jpg  \n",
            "  inflating: images_training_rev1/944540.jpg  \n",
            "  inflating: images_training_rev1/944556.jpg  \n",
            "  inflating: images_training_rev1/944589.jpg  \n",
            "  inflating: images_training_rev1/944610.jpg  \n",
            "  inflating: images_training_rev1/944621.jpg  \n",
            "  inflating: images_training_rev1/944642.jpg  \n",
            "  inflating: images_training_rev1/944649.jpg  \n",
            "  inflating: images_training_rev1/944656.jpg  \n",
            "  inflating: images_training_rev1/944677.jpg  \n",
            "  inflating: images_training_rev1/944684.jpg  \n",
            "  inflating: images_training_rev1/944698.jpg  \n",
            "  inflating: images_training_rev1/944701.jpg  \n",
            "  inflating: images_training_rev1/944722.jpg  \n",
            "  inflating: images_training_rev1/944723.jpg  \n",
            "  inflating: images_training_rev1/944738.jpg  \n",
            "  inflating: images_training_rev1/944756.jpg  \n",
            "  inflating: images_training_rev1/944760.jpg  \n",
            "  inflating: images_training_rev1/944763.jpg  \n",
            "  inflating: images_training_rev1/944772.jpg  \n",
            "  inflating: images_training_rev1/944782.jpg  \n",
            "  inflating: images_training_rev1/944798.jpg  \n",
            "  inflating: images_training_rev1/944803.jpg  \n",
            "  inflating: images_training_rev1/944832.jpg  \n",
            "  inflating: images_training_rev1/944869.jpg  \n",
            "  inflating: images_training_rev1/944875.jpg  \n",
            "  inflating: images_training_rev1/944933.jpg  \n",
            "  inflating: images_training_rev1/944938.jpg  \n",
            "  inflating: images_training_rev1/944951.jpg  \n",
            "  inflating: images_training_rev1/944960.jpg  \n",
            "  inflating: images_training_rev1/945018.jpg  \n",
            "  inflating: images_training_rev1/945054.jpg  \n",
            "  inflating: images_training_rev1/945062.jpg  \n",
            "  inflating: images_training_rev1/945091.jpg  \n",
            "  inflating: images_training_rev1/945106.jpg  \n",
            "  inflating: images_training_rev1/945109.jpg  \n",
            "  inflating: images_training_rev1/945117.jpg  \n",
            "  inflating: images_training_rev1/945129.jpg  \n",
            "  inflating: images_training_rev1/945137.jpg  \n",
            "  inflating: images_training_rev1/945163.jpg  \n",
            "  inflating: images_training_rev1/945190.jpg  \n",
            "  inflating: images_training_rev1/945206.jpg  \n",
            "  inflating: images_training_rev1/945212.jpg  \n",
            "  inflating: images_training_rev1/945232.jpg  \n",
            "  inflating: images_training_rev1/945270.jpg  \n",
            "  inflating: images_training_rev1/945283.jpg  \n",
            "  inflating: images_training_rev1/945301.jpg  \n",
            "  inflating: images_training_rev1/945303.jpg  \n",
            "  inflating: images_training_rev1/945315.jpg  \n",
            "  inflating: images_training_rev1/945357.jpg  \n",
            "  inflating: images_training_rev1/945370.jpg  \n",
            "  inflating: images_training_rev1/945372.jpg  \n",
            "  inflating: images_training_rev1/945379.jpg  \n",
            "  inflating: images_training_rev1/945407.jpg  \n",
            "  inflating: images_training_rev1/945408.jpg  \n",
            "  inflating: images_training_rev1/945414.jpg  \n",
            "  inflating: images_training_rev1/945417.jpg  \n",
            "  inflating: images_training_rev1/945438.jpg  \n",
            "  inflating: images_training_rev1/945439.jpg  \n",
            "  inflating: images_training_rev1/945444.jpg  \n",
            "  inflating: images_training_rev1/945455.jpg  \n",
            "  inflating: images_training_rev1/945469.jpg  \n",
            "  inflating: images_training_rev1/945496.jpg  \n",
            "  inflating: images_training_rev1/945544.jpg  \n",
            "  inflating: images_training_rev1/945595.jpg  \n",
            "  inflating: images_training_rev1/945603.jpg  \n",
            "  inflating: images_training_rev1/945609.jpg  \n",
            "  inflating: images_training_rev1/945612.jpg  \n",
            "  inflating: images_training_rev1/945614.jpg  \n",
            "  inflating: images_training_rev1/945650.jpg  \n",
            "  inflating: images_training_rev1/945654.jpg  \n",
            "  inflating: images_training_rev1/945667.jpg  \n",
            "  inflating: images_training_rev1/945685.jpg  \n",
            "  inflating: images_training_rev1/945687.jpg  \n",
            "  inflating: images_training_rev1/945690.jpg  \n",
            "  inflating: images_training_rev1/945695.jpg  \n",
            "  inflating: images_training_rev1/945721.jpg  \n",
            "  inflating: images_training_rev1/945747.jpg  \n",
            "  inflating: images_training_rev1/945754.jpg  \n",
            "  inflating: images_training_rev1/945755.jpg  \n",
            "  inflating: images_training_rev1/945772.jpg  \n",
            "  inflating: images_training_rev1/945773.jpg  \n",
            "  inflating: images_training_rev1/945798.jpg  \n",
            "  inflating: images_training_rev1/945811.jpg  \n",
            "  inflating: images_training_rev1/945815.jpg  \n",
            "  inflating: images_training_rev1/945865.jpg  \n",
            "  inflating: images_training_rev1/945882.jpg  \n",
            "  inflating: images_training_rev1/945891.jpg  \n",
            "  inflating: images_training_rev1/945904.jpg  \n",
            "  inflating: images_training_rev1/945908.jpg  \n",
            "  inflating: images_training_rev1/945910.jpg  \n",
            "  inflating: images_training_rev1/945912.jpg  \n",
            "  inflating: images_training_rev1/945923.jpg  \n",
            "  inflating: images_training_rev1/945930.jpg  \n",
            "  inflating: images_training_rev1/945943.jpg  \n",
            "  inflating: images_training_rev1/945952.jpg  \n",
            "  inflating: images_training_rev1/945969.jpg  \n",
            "  inflating: images_training_rev1/945974.jpg  \n",
            "  inflating: images_training_rev1/945981.jpg  \n",
            "  inflating: images_training_rev1/945990.jpg  \n",
            "  inflating: images_training_rev1/945992.jpg  \n",
            "  inflating: images_training_rev1/945994.jpg  \n",
            "  inflating: images_training_rev1/946007.jpg  \n",
            "  inflating: images_training_rev1/946014.jpg  \n",
            "  inflating: images_training_rev1/946042.jpg  \n",
            "  inflating: images_training_rev1/946113.jpg  \n",
            "  inflating: images_training_rev1/946133.jpg  \n",
            "  inflating: images_training_rev1/946168.jpg  \n",
            "  inflating: images_training_rev1/946170.jpg  \n",
            "  inflating: images_training_rev1/946182.jpg  \n",
            "  inflating: images_training_rev1/946190.jpg  \n",
            "  inflating: images_training_rev1/946199.jpg  \n",
            "  inflating: images_training_rev1/946216.jpg  \n",
            "  inflating: images_training_rev1/946253.jpg  \n",
            "  inflating: images_training_rev1/946255.jpg  \n",
            "  inflating: images_training_rev1/946257.jpg  \n",
            "  inflating: images_training_rev1/946260.jpg  \n",
            "  inflating: images_training_rev1/946274.jpg  \n",
            "  inflating: images_training_rev1/946299.jpg  \n",
            "  inflating: images_training_rev1/946334.jpg  \n",
            "  inflating: images_training_rev1/946338.jpg  \n",
            "  inflating: images_training_rev1/946342.jpg  \n",
            "  inflating: images_training_rev1/946358.jpg  \n",
            "  inflating: images_training_rev1/946361.jpg  \n",
            "  inflating: images_training_rev1/946387.jpg  \n",
            "  inflating: images_training_rev1/946391.jpg  \n",
            "  inflating: images_training_rev1/946421.jpg  \n",
            "  inflating: images_training_rev1/946422.jpg  \n",
            "  inflating: images_training_rev1/946429.jpg  \n",
            "  inflating: images_training_rev1/946436.jpg  \n",
            "  inflating: images_training_rev1/946441.jpg  \n",
            "  inflating: images_training_rev1/946464.jpg  \n",
            "  inflating: images_training_rev1/946467.jpg  \n",
            "  inflating: images_training_rev1/946498.jpg  \n",
            "  inflating: images_training_rev1/946501.jpg  \n",
            "  inflating: images_training_rev1/946514.jpg  \n",
            "  inflating: images_training_rev1/946519.jpg  \n",
            "  inflating: images_training_rev1/946540.jpg  \n",
            "  inflating: images_training_rev1/946597.jpg  \n",
            "  inflating: images_training_rev1/946604.jpg  \n",
            "  inflating: images_training_rev1/946611.jpg  \n",
            "  inflating: images_training_rev1/946616.jpg  \n",
            "  inflating: images_training_rev1/946621.jpg  \n",
            "  inflating: images_training_rev1/946626.jpg  \n",
            "  inflating: images_training_rev1/946639.jpg  \n",
            "  inflating: images_training_rev1/946653.jpg  \n",
            "  inflating: images_training_rev1/946664.jpg  \n",
            "  inflating: images_training_rev1/946690.jpg  \n",
            "  inflating: images_training_rev1/946699.jpg  \n",
            "  inflating: images_training_rev1/946704.jpg  \n",
            "  inflating: images_training_rev1/946708.jpg  \n",
            "  inflating: images_training_rev1/946712.jpg  \n",
            "  inflating: images_training_rev1/946716.jpg  \n",
            "  inflating: images_training_rev1/946744.jpg  \n",
            "  inflating: images_training_rev1/946748.jpg  \n",
            "  inflating: images_training_rev1/946751.jpg  \n",
            "  inflating: images_training_rev1/946776.jpg  \n",
            "  inflating: images_training_rev1/946779.jpg  \n",
            "  inflating: images_training_rev1/946784.jpg  \n",
            "  inflating: images_training_rev1/946803.jpg  \n",
            "  inflating: images_training_rev1/946814.jpg  \n",
            "  inflating: images_training_rev1/946826.jpg  \n",
            "  inflating: images_training_rev1/946852.jpg  \n",
            "  inflating: images_training_rev1/946854.jpg  \n",
            "  inflating: images_training_rev1/946855.jpg  \n",
            "  inflating: images_training_rev1/946871.jpg  \n",
            "  inflating: images_training_rev1/946875.jpg  \n",
            "  inflating: images_training_rev1/946893.jpg  \n",
            "  inflating: images_training_rev1/946921.jpg  \n",
            "  inflating: images_training_rev1/946923.jpg  \n",
            "  inflating: images_training_rev1/946928.jpg  \n",
            "  inflating: images_training_rev1/946940.jpg  \n",
            "  inflating: images_training_rev1/946941.jpg  \n",
            "  inflating: images_training_rev1/946959.jpg  \n",
            "  inflating: images_training_rev1/946960.jpg  \n",
            "  inflating: images_training_rev1/946984.jpg  \n",
            "  inflating: images_training_rev1/947010.jpg  \n",
            "  inflating: images_training_rev1/947045.jpg  \n",
            "  inflating: images_training_rev1/947050.jpg  \n",
            "  inflating: images_training_rev1/947090.jpg  \n",
            "  inflating: images_training_rev1/947108.jpg  \n",
            "  inflating: images_training_rev1/947111.jpg  \n",
            "  inflating: images_training_rev1/947129.jpg  \n",
            "  inflating: images_training_rev1/947152.jpg  \n",
            "  inflating: images_training_rev1/947166.jpg  \n",
            "  inflating: images_training_rev1/947184.jpg  \n",
            "  inflating: images_training_rev1/947189.jpg  \n",
            "  inflating: images_training_rev1/947224.jpg  \n",
            "  inflating: images_training_rev1/947255.jpg  \n",
            "  inflating: images_training_rev1/947260.jpg  \n",
            "  inflating: images_training_rev1/947291.jpg  \n",
            "  inflating: images_training_rev1/947303.jpg  \n",
            "  inflating: images_training_rev1/947312.jpg  \n",
            "  inflating: images_training_rev1/947337.jpg  \n",
            "  inflating: images_training_rev1/947381.jpg  \n",
            "  inflating: images_training_rev1/947387.jpg  \n",
            "  inflating: images_training_rev1/947391.jpg  \n",
            "  inflating: images_training_rev1/947404.jpg  \n",
            "  inflating: images_training_rev1/947424.jpg  \n",
            "  inflating: images_training_rev1/947435.jpg  \n",
            "  inflating: images_training_rev1/947442.jpg  \n",
            "  inflating: images_training_rev1/947459.jpg  \n",
            "  inflating: images_training_rev1/947474.jpg  \n",
            "  inflating: images_training_rev1/947483.jpg  \n",
            "  inflating: images_training_rev1/947536.jpg  \n",
            "  inflating: images_training_rev1/947537.jpg  \n",
            "  inflating: images_training_rev1/947544.jpg  \n",
            "  inflating: images_training_rev1/947546.jpg  \n",
            "  inflating: images_training_rev1/947552.jpg  \n",
            "  inflating: images_training_rev1/947554.jpg  \n",
            "  inflating: images_training_rev1/947574.jpg  \n",
            "  inflating: images_training_rev1/947579.jpg  \n",
            "  inflating: images_training_rev1/947594.jpg  \n",
            "  inflating: images_training_rev1/947616.jpg  \n",
            "  inflating: images_training_rev1/947618.jpg  \n",
            "  inflating: images_training_rev1/947621.jpg  \n",
            "  inflating: images_training_rev1/947660.jpg  \n",
            "  inflating: images_training_rev1/947699.jpg  \n",
            "  inflating: images_training_rev1/947706.jpg  \n",
            "  inflating: images_training_rev1/947707.jpg  \n",
            "  inflating: images_training_rev1/947708.jpg  \n",
            "  inflating: images_training_rev1/947763.jpg  \n",
            "  inflating: images_training_rev1/947769.jpg  \n",
            "  inflating: images_training_rev1/947770.jpg  \n",
            "  inflating: images_training_rev1/947801.jpg  \n",
            "  inflating: images_training_rev1/947816.jpg  \n",
            "  inflating: images_training_rev1/947822.jpg  \n",
            "  inflating: images_training_rev1/947852.jpg  \n",
            "  inflating: images_training_rev1/947868.jpg  \n",
            "  inflating: images_training_rev1/947882.jpg  \n",
            "  inflating: images_training_rev1/947889.jpg  \n",
            "  inflating: images_training_rev1/947890.jpg  \n",
            "  inflating: images_training_rev1/947945.jpg  \n",
            "  inflating: images_training_rev1/947957.jpg  \n",
            "  inflating: images_training_rev1/947978.jpg  \n",
            "  inflating: images_training_rev1/948013.jpg  \n",
            "  inflating: images_training_rev1/948015.jpg  \n",
            "  inflating: images_training_rev1/948091.jpg  \n",
            "  inflating: images_training_rev1/948109.jpg  \n",
            "  inflating: images_training_rev1/948128.jpg  \n",
            "  inflating: images_training_rev1/948154.jpg  \n",
            "  inflating: images_training_rev1/948177.jpg  \n",
            "  inflating: images_training_rev1/948178.jpg  \n",
            "  inflating: images_training_rev1/948185.jpg  \n",
            "  inflating: images_training_rev1/948191.jpg  \n",
            "  inflating: images_training_rev1/948192.jpg  \n",
            "  inflating: images_training_rev1/948206.jpg  \n",
            "  inflating: images_training_rev1/948218.jpg  \n",
            "  inflating: images_training_rev1/948247.jpg  \n",
            "  inflating: images_training_rev1/948260.jpg  \n",
            "  inflating: images_training_rev1/948268.jpg  \n",
            "  inflating: images_training_rev1/948277.jpg  \n",
            "  inflating: images_training_rev1/948285.jpg  \n",
            "  inflating: images_training_rev1/948294.jpg  \n",
            "  inflating: images_training_rev1/948296.jpg  \n",
            "  inflating: images_training_rev1/948298.jpg  \n",
            "  inflating: images_training_rev1/948299.jpg  \n",
            "  inflating: images_training_rev1/948318.jpg  \n",
            "  inflating: images_training_rev1/948320.jpg  \n",
            "  inflating: images_training_rev1/948366.jpg  \n",
            "  inflating: images_training_rev1/948375.jpg  \n",
            "  inflating: images_training_rev1/948381.jpg  \n",
            "  inflating: images_training_rev1/948382.jpg  \n",
            "  inflating: images_training_rev1/948387.jpg  \n",
            "  inflating: images_training_rev1/948388.jpg  \n",
            "  inflating: images_training_rev1/948401.jpg  \n",
            "  inflating: images_training_rev1/948429.jpg  \n",
            "  inflating: images_training_rev1/948459.jpg  \n",
            "  inflating: images_training_rev1/948460.jpg  \n",
            "  inflating: images_training_rev1/948467.jpg  \n",
            "  inflating: images_training_rev1/948488.jpg  \n",
            "  inflating: images_training_rev1/948496.jpg  \n",
            "  inflating: images_training_rev1/948501.jpg  \n",
            "  inflating: images_training_rev1/948503.jpg  \n",
            "  inflating: images_training_rev1/948535.jpg  \n",
            "  inflating: images_training_rev1/948544.jpg  \n",
            "  inflating: images_training_rev1/948564.jpg  \n",
            "  inflating: images_training_rev1/948571.jpg  \n",
            "  inflating: images_training_rev1/948573.jpg  \n",
            "  inflating: images_training_rev1/948586.jpg  \n",
            "  inflating: images_training_rev1/948605.jpg  \n",
            "  inflating: images_training_rev1/948625.jpg  \n",
            "  inflating: images_training_rev1/948660.jpg  \n",
            "  inflating: images_training_rev1/948692.jpg  \n",
            "  inflating: images_training_rev1/948709.jpg  \n",
            "  inflating: images_training_rev1/948713.jpg  \n",
            "  inflating: images_training_rev1/948736.jpg  \n",
            "  inflating: images_training_rev1/948785.jpg  \n",
            "  inflating: images_training_rev1/948793.jpg  \n",
            "  inflating: images_training_rev1/948796.jpg  \n",
            "  inflating: images_training_rev1/948847.jpg  \n",
            "  inflating: images_training_rev1/948852.jpg  \n",
            "  inflating: images_training_rev1/948858.jpg  \n",
            "  inflating: images_training_rev1/948880.jpg  \n",
            "  inflating: images_training_rev1/948881.jpg  \n",
            "  inflating: images_training_rev1/948894.jpg  \n",
            "  inflating: images_training_rev1/948897.jpg  \n",
            "  inflating: images_training_rev1/948917.jpg  \n",
            "  inflating: images_training_rev1/948938.jpg  \n",
            "  inflating: images_training_rev1/948964.jpg  \n",
            "  inflating: images_training_rev1/948971.jpg  \n",
            "  inflating: images_training_rev1/948972.jpg  \n",
            "  inflating: images_training_rev1/948986.jpg  \n",
            "  inflating: images_training_rev1/949012.jpg  \n",
            "  inflating: images_training_rev1/949037.jpg  \n",
            "  inflating: images_training_rev1/949049.jpg  \n",
            "  inflating: images_training_rev1/949062.jpg  \n",
            "  inflating: images_training_rev1/949074.jpg  \n",
            "  inflating: images_training_rev1/949087.jpg  \n",
            "  inflating: images_training_rev1/949095.jpg  \n",
            "  inflating: images_training_rev1/949096.jpg  \n",
            "  inflating: images_training_rev1/949097.jpg  \n",
            "  inflating: images_training_rev1/949100.jpg  \n",
            "  inflating: images_training_rev1/949192.jpg  \n",
            "  inflating: images_training_rev1/949261.jpg  \n",
            "  inflating: images_training_rev1/949271.jpg  \n",
            "  inflating: images_training_rev1/949289.jpg  \n",
            "  inflating: images_training_rev1/949297.jpg  \n",
            "  inflating: images_training_rev1/949303.jpg  \n",
            "  inflating: images_training_rev1/949309.jpg  \n",
            "  inflating: images_training_rev1/949317.jpg  \n",
            "  inflating: images_training_rev1/949318.jpg  \n",
            "  inflating: images_training_rev1/949319.jpg  \n",
            "  inflating: images_training_rev1/949361.jpg  \n",
            "  inflating: images_training_rev1/949376.jpg  \n",
            "  inflating: images_training_rev1/949393.jpg  \n",
            "  inflating: images_training_rev1/949415.jpg  \n",
            "  inflating: images_training_rev1/949416.jpg  \n",
            "  inflating: images_training_rev1/949417.jpg  \n",
            "  inflating: images_training_rev1/949425.jpg  \n",
            "  inflating: images_training_rev1/949434.jpg  \n",
            "  inflating: images_training_rev1/949478.jpg  \n",
            "  inflating: images_training_rev1/949489.jpg  \n",
            "  inflating: images_training_rev1/949502.jpg  \n",
            "  inflating: images_training_rev1/949535.jpg  \n",
            "  inflating: images_training_rev1/949554.jpg  \n",
            "  inflating: images_training_rev1/949561.jpg  \n",
            "  inflating: images_training_rev1/949595.jpg  \n",
            "  inflating: images_training_rev1/949596.jpg  \n",
            "  inflating: images_training_rev1/949606.jpg  \n",
            "  inflating: images_training_rev1/949626.jpg  \n",
            "  inflating: images_training_rev1/949644.jpg  \n",
            "  inflating: images_training_rev1/949655.jpg  \n",
            "  inflating: images_training_rev1/949680.jpg  \n",
            "  inflating: images_training_rev1/949688.jpg  \n",
            "  inflating: images_training_rev1/949692.jpg  \n",
            "  inflating: images_training_rev1/949705.jpg  \n",
            "  inflating: images_training_rev1/949714.jpg  \n",
            "  inflating: images_training_rev1/949723.jpg  \n",
            "  inflating: images_training_rev1/949738.jpg  \n",
            "  inflating: images_training_rev1/949756.jpg  \n",
            "  inflating: images_training_rev1/949778.jpg  \n",
            "  inflating: images_training_rev1/949779.jpg  \n",
            "  inflating: images_training_rev1/949791.jpg  \n",
            "  inflating: images_training_rev1/949792.jpg  \n",
            "  inflating: images_training_rev1/949836.jpg  \n",
            "  inflating: images_training_rev1/949864.jpg  \n",
            "  inflating: images_training_rev1/949881.jpg  \n",
            "  inflating: images_training_rev1/949927.jpg  \n",
            "  inflating: images_training_rev1/949930.jpg  \n",
            "  inflating: images_training_rev1/949933.jpg  \n",
            "  inflating: images_training_rev1/949934.jpg  \n",
            "  inflating: images_training_rev1/949943.jpg  \n",
            "  inflating: images_training_rev1/949953.jpg  \n",
            "  inflating: images_training_rev1/949971.jpg  \n",
            "  inflating: images_training_rev1/949974.jpg  \n",
            "  inflating: images_training_rev1/950010.jpg  \n",
            "  inflating: images_training_rev1/950017.jpg  \n",
            "  inflating: images_training_rev1/950021.jpg  \n",
            "  inflating: images_training_rev1/950027.jpg  \n",
            "  inflating: images_training_rev1/950034.jpg  \n",
            "  inflating: images_training_rev1/950043.jpg  \n",
            "  inflating: images_training_rev1/950062.jpg  \n",
            "  inflating: images_training_rev1/950108.jpg  \n",
            "  inflating: images_training_rev1/950122.jpg  \n",
            "  inflating: images_training_rev1/950126.jpg  \n",
            "  inflating: images_training_rev1/950142.jpg  \n",
            "  inflating: images_training_rev1/950149.jpg  \n",
            "  inflating: images_training_rev1/950249.jpg  \n",
            "  inflating: images_training_rev1/950251.jpg  \n",
            "  inflating: images_training_rev1/950268.jpg  \n",
            "  inflating: images_training_rev1/950292.jpg  \n",
            "  inflating: images_training_rev1/950305.jpg  \n",
            "  inflating: images_training_rev1/950315.jpg  \n",
            "  inflating: images_training_rev1/950321.jpg  \n",
            "  inflating: images_training_rev1/950325.jpg  \n",
            "  inflating: images_training_rev1/950332.jpg  \n",
            "  inflating: images_training_rev1/950335.jpg  \n",
            "  inflating: images_training_rev1/950356.jpg  \n",
            "  inflating: images_training_rev1/950360.jpg  \n",
            "  inflating: images_training_rev1/950386.jpg  \n",
            "  inflating: images_training_rev1/950399.jpg  \n",
            "  inflating: images_training_rev1/950439.jpg  \n",
            "  inflating: images_training_rev1/950457.jpg  \n",
            "  inflating: images_training_rev1/950477.jpg  \n",
            "  inflating: images_training_rev1/950485.jpg  \n",
            "  inflating: images_training_rev1/950487.jpg  \n",
            "  inflating: images_training_rev1/950501.jpg  \n",
            "  inflating: images_training_rev1/950521.jpg  \n",
            "  inflating: images_training_rev1/950573.jpg  \n",
            "  inflating: images_training_rev1/950614.jpg  \n",
            "  inflating: images_training_rev1/950615.jpg  \n",
            "  inflating: images_training_rev1/950626.jpg  \n",
            "  inflating: images_training_rev1/950629.jpg  \n",
            "  inflating: images_training_rev1/950633.jpg  \n",
            "  inflating: images_training_rev1/950733.jpg  \n",
            "  inflating: images_training_rev1/950746.jpg  \n",
            "  inflating: images_training_rev1/950750.jpg  \n",
            "  inflating: images_training_rev1/950762.jpg  \n",
            "  inflating: images_training_rev1/950815.jpg  \n",
            "  inflating: images_training_rev1/950816.jpg  \n",
            "  inflating: images_training_rev1/950823.jpg  \n",
            "  inflating: images_training_rev1/950824.jpg  \n",
            "  inflating: images_training_rev1/950847.jpg  \n",
            "  inflating: images_training_rev1/950850.jpg  \n",
            "  inflating: images_training_rev1/950881.jpg  \n",
            "  inflating: images_training_rev1/950908.jpg  \n",
            "  inflating: images_training_rev1/950942.jpg  \n",
            "  inflating: images_training_rev1/950960.jpg  \n",
            "  inflating: images_training_rev1/950964.jpg  \n",
            "  inflating: images_training_rev1/950970.jpg  \n",
            "  inflating: images_training_rev1/950980.jpg  \n",
            "  inflating: images_training_rev1/950981.jpg  \n",
            "  inflating: images_training_rev1/950985.jpg  \n",
            "  inflating: images_training_rev1/950987.jpg  \n",
            "  inflating: images_training_rev1/951011.jpg  \n",
            "  inflating: images_training_rev1/951012.jpg  \n",
            "  inflating: images_training_rev1/951017.jpg  \n",
            "  inflating: images_training_rev1/951022.jpg  \n",
            "  inflating: images_training_rev1/951030.jpg  \n",
            "  inflating: images_training_rev1/951034.jpg  \n",
            "  inflating: images_training_rev1/951044.jpg  \n",
            "  inflating: images_training_rev1/951046.jpg  \n",
            "  inflating: images_training_rev1/951048.jpg  \n",
            "  inflating: images_training_rev1/951073.jpg  \n",
            "  inflating: images_training_rev1/951130.jpg  \n",
            "  inflating: images_training_rev1/951172.jpg  \n",
            "  inflating: images_training_rev1/951202.jpg  \n",
            "  inflating: images_training_rev1/951223.jpg  \n",
            "  inflating: images_training_rev1/951264.jpg  \n",
            "  inflating: images_training_rev1/951273.jpg  \n",
            "  inflating: images_training_rev1/951282.jpg  \n",
            "  inflating: images_training_rev1/951293.jpg  \n",
            "  inflating: images_training_rev1/951299.jpg  \n",
            "  inflating: images_training_rev1/951303.jpg  \n",
            "  inflating: images_training_rev1/951320.jpg  \n",
            "  inflating: images_training_rev1/951347.jpg  \n",
            "  inflating: images_training_rev1/951349.jpg  \n",
            "  inflating: images_training_rev1/951354.jpg  \n",
            "  inflating: images_training_rev1/951355.jpg  \n",
            "  inflating: images_training_rev1/951365.jpg  \n",
            "  inflating: images_training_rev1/951382.jpg  \n",
            "  inflating: images_training_rev1/951397.jpg  \n",
            "  inflating: images_training_rev1/951415.jpg  \n",
            "  inflating: images_training_rev1/951417.jpg  \n",
            "  inflating: images_training_rev1/951432.jpg  \n",
            "  inflating: images_training_rev1/951439.jpg  \n",
            "  inflating: images_training_rev1/951455.jpg  \n",
            "  inflating: images_training_rev1/951460.jpg  \n",
            "  inflating: images_training_rev1/951481.jpg  \n",
            "  inflating: images_training_rev1/951507.jpg  \n",
            "  inflating: images_training_rev1/951520.jpg  \n",
            "  inflating: images_training_rev1/951548.jpg  \n",
            "  inflating: images_training_rev1/951552.jpg  \n",
            "  inflating: images_training_rev1/951556.jpg  \n",
            "  inflating: images_training_rev1/951582.jpg  \n",
            "  inflating: images_training_rev1/951586.jpg  \n",
            "  inflating: images_training_rev1/951589.jpg  \n",
            "  inflating: images_training_rev1/951604.jpg  \n",
            "  inflating: images_training_rev1/951608.jpg  \n",
            "  inflating: images_training_rev1/951615.jpg  \n",
            "  inflating: images_training_rev1/951630.jpg  \n",
            "  inflating: images_training_rev1/951640.jpg  \n",
            "  inflating: images_training_rev1/951650.jpg  \n",
            "  inflating: images_training_rev1/951651.jpg  \n",
            "  inflating: images_training_rev1/951675.jpg  \n",
            "  inflating: images_training_rev1/951682.jpg  \n",
            "  inflating: images_training_rev1/951699.jpg  \n",
            "  inflating: images_training_rev1/951718.jpg  \n",
            "  inflating: images_training_rev1/951720.jpg  \n",
            "  inflating: images_training_rev1/951726.jpg  \n",
            "  inflating: images_training_rev1/951728.jpg  \n",
            "  inflating: images_training_rev1/951756.jpg  \n",
            "  inflating: images_training_rev1/951760.jpg  \n",
            "  inflating: images_training_rev1/951762.jpg  \n",
            "  inflating: images_training_rev1/951772.jpg  \n",
            "  inflating: images_training_rev1/951779.jpg  \n",
            "  inflating: images_training_rev1/951792.jpg  \n",
            "  inflating: images_training_rev1/951815.jpg  \n",
            "  inflating: images_training_rev1/951830.jpg  \n",
            "  inflating: images_training_rev1/951838.jpg  \n",
            "  inflating: images_training_rev1/951866.jpg  \n",
            "  inflating: images_training_rev1/951869.jpg  \n",
            "  inflating: images_training_rev1/951878.jpg  \n",
            "  inflating: images_training_rev1/951880.jpg  \n",
            "  inflating: images_training_rev1/951891.jpg  \n",
            "  inflating: images_training_rev1/951909.jpg  \n",
            "  inflating: images_training_rev1/951919.jpg  \n",
            "  inflating: images_training_rev1/951921.jpg  \n",
            "  inflating: images_training_rev1/951923.jpg  \n",
            "  inflating: images_training_rev1/951932.jpg  \n",
            "  inflating: images_training_rev1/951941.jpg  \n",
            "  inflating: images_training_rev1/951948.jpg  \n",
            "  inflating: images_training_rev1/952014.jpg  \n",
            "  inflating: images_training_rev1/952029.jpg  \n",
            "  inflating: images_training_rev1/952031.jpg  \n",
            "  inflating: images_training_rev1/952088.jpg  \n",
            "  inflating: images_training_rev1/952089.jpg  \n",
            "  inflating: images_training_rev1/952109.jpg  \n",
            "  inflating: images_training_rev1/952118.jpg  \n",
            "  inflating: images_training_rev1/952146.jpg  \n",
            "  inflating: images_training_rev1/952173.jpg  \n",
            "  inflating: images_training_rev1/952179.jpg  \n",
            "  inflating: images_training_rev1/952182.jpg  \n",
            "  inflating: images_training_rev1/952186.jpg  \n",
            "  inflating: images_training_rev1/952202.jpg  \n",
            "  inflating: images_training_rev1/952204.jpg  \n",
            "  inflating: images_training_rev1/952211.jpg  \n",
            "  inflating: images_training_rev1/952220.jpg  \n",
            "  inflating: images_training_rev1/952235.jpg  \n",
            "  inflating: images_training_rev1/952242.jpg  \n",
            "  inflating: images_training_rev1/952259.jpg  \n",
            "  inflating: images_training_rev1/952262.jpg  \n",
            "  inflating: images_training_rev1/952277.jpg  \n",
            "  inflating: images_training_rev1/952282.jpg  \n",
            "  inflating: images_training_rev1/952332.jpg  \n",
            "  inflating: images_training_rev1/952350.jpg  \n",
            "  inflating: images_training_rev1/952378.jpg  \n",
            "  inflating: images_training_rev1/952383.jpg  \n",
            "  inflating: images_training_rev1/952388.jpg  \n",
            "  inflating: images_training_rev1/952390.jpg  \n",
            "  inflating: images_training_rev1/952392.jpg  \n",
            "  inflating: images_training_rev1/952397.jpg  \n",
            "  inflating: images_training_rev1/952429.jpg  \n",
            "  inflating: images_training_rev1/952433.jpg  \n",
            "  inflating: images_training_rev1/952463.jpg  \n",
            "  inflating: images_training_rev1/952469.jpg  \n",
            "  inflating: images_training_rev1/952473.jpg  \n",
            "  inflating: images_training_rev1/952478.jpg  \n",
            "  inflating: images_training_rev1/952483.jpg  \n",
            "  inflating: images_training_rev1/952507.jpg  \n",
            "  inflating: images_training_rev1/952511.jpg  \n",
            "  inflating: images_training_rev1/952529.jpg  \n",
            "  inflating: images_training_rev1/952533.jpg  \n",
            "  inflating: images_training_rev1/952537.jpg  \n",
            "  inflating: images_training_rev1/952543.jpg  \n",
            "  inflating: images_training_rev1/952557.jpg  \n",
            "  inflating: images_training_rev1/952577.jpg  \n",
            "  inflating: images_training_rev1/952581.jpg  \n",
            "  inflating: images_training_rev1/952592.jpg  \n",
            "  inflating: images_training_rev1/952600.jpg  \n",
            "  inflating: images_training_rev1/952609.jpg  \n",
            "  inflating: images_training_rev1/952637.jpg  \n",
            "  inflating: images_training_rev1/952648.jpg  \n",
            "  inflating: images_training_rev1/952660.jpg  \n",
            "  inflating: images_training_rev1/952672.jpg  \n",
            "  inflating: images_training_rev1/952730.jpg  \n",
            "  inflating: images_training_rev1/952745.jpg  \n",
            "  inflating: images_training_rev1/952755.jpg  \n",
            "  inflating: images_training_rev1/952785.jpg  \n",
            "  inflating: images_training_rev1/952787.jpg  \n",
            "  inflating: images_training_rev1/952801.jpg  \n",
            "  inflating: images_training_rev1/952811.jpg  \n",
            "  inflating: images_training_rev1/952813.jpg  \n",
            "  inflating: images_training_rev1/952829.jpg  \n",
            "  inflating: images_training_rev1/952836.jpg  \n",
            "  inflating: images_training_rev1/952844.jpg  \n",
            "  inflating: images_training_rev1/952846.jpg  \n",
            "  inflating: images_training_rev1/952849.jpg  \n",
            "  inflating: images_training_rev1/952862.jpg  \n",
            "  inflating: images_training_rev1/952891.jpg  \n",
            "  inflating: images_training_rev1/952892.jpg  \n",
            "  inflating: images_training_rev1/952902.jpg  \n",
            "  inflating: images_training_rev1/952914.jpg  \n",
            "  inflating: images_training_rev1/952926.jpg  \n",
            "  inflating: images_training_rev1/952932.jpg  \n",
            "  inflating: images_training_rev1/952940.jpg  \n",
            "  inflating: images_training_rev1/952945.jpg  \n",
            "  inflating: images_training_rev1/952959.jpg  \n",
            "  inflating: images_training_rev1/952980.jpg  \n",
            "  inflating: images_training_rev1/952985.jpg  \n",
            "  inflating: images_training_rev1/953004.jpg  \n",
            "  inflating: images_training_rev1/953008.jpg  \n",
            "  inflating: images_training_rev1/953014.jpg  \n",
            "  inflating: images_training_rev1/953022.jpg  \n",
            "  inflating: images_training_rev1/953044.jpg  \n",
            "  inflating: images_training_rev1/953065.jpg  \n",
            "  inflating: images_training_rev1/953069.jpg  \n",
            "  inflating: images_training_rev1/953079.jpg  \n",
            "  inflating: images_training_rev1/953086.jpg  \n",
            "  inflating: images_training_rev1/953089.jpg  \n",
            "  inflating: images_training_rev1/953092.jpg  \n",
            "  inflating: images_training_rev1/953109.jpg  \n",
            "  inflating: images_training_rev1/953112.jpg  \n",
            "  inflating: images_training_rev1/953144.jpg  \n",
            "  inflating: images_training_rev1/953145.jpg  \n",
            "  inflating: images_training_rev1/953167.jpg  \n",
            "  inflating: images_training_rev1/953175.jpg  \n",
            "  inflating: images_training_rev1/953181.jpg  \n",
            "  inflating: images_training_rev1/953208.jpg  \n",
            "  inflating: images_training_rev1/953213.jpg  \n",
            "  inflating: images_training_rev1/953227.jpg  \n",
            "  inflating: images_training_rev1/953269.jpg  \n",
            "  inflating: images_training_rev1/953270.jpg  \n",
            "  inflating: images_training_rev1/953281.jpg  \n",
            "  inflating: images_training_rev1/953341.jpg  \n",
            "  inflating: images_training_rev1/953352.jpg  \n",
            "  inflating: images_training_rev1/953372.jpg  \n",
            "  inflating: images_training_rev1/953376.jpg  \n",
            "  inflating: images_training_rev1/953377.jpg  \n",
            "  inflating: images_training_rev1/953382.jpg  \n",
            "  inflating: images_training_rev1/953415.jpg  \n",
            "  inflating: images_training_rev1/953435.jpg  \n",
            "  inflating: images_training_rev1/953445.jpg  \n",
            "  inflating: images_training_rev1/953470.jpg  \n",
            "  inflating: images_training_rev1/953473.jpg  \n",
            "  inflating: images_training_rev1/953515.jpg  \n",
            "  inflating: images_training_rev1/953543.jpg  \n",
            "  inflating: images_training_rev1/953553.jpg  \n",
            "  inflating: images_training_rev1/953571.jpg  \n",
            "  inflating: images_training_rev1/953593.jpg  \n",
            "  inflating: images_training_rev1/953597.jpg  \n",
            "  inflating: images_training_rev1/953610.jpg  \n",
            "  inflating: images_training_rev1/953648.jpg  \n",
            "  inflating: images_training_rev1/953655.jpg  \n",
            "  inflating: images_training_rev1/953662.jpg  \n",
            "  inflating: images_training_rev1/953688.jpg  \n",
            "  inflating: images_training_rev1/953693.jpg  \n",
            "  inflating: images_training_rev1/953711.jpg  \n",
            "  inflating: images_training_rev1/953713.jpg  \n",
            "  inflating: images_training_rev1/953716.jpg  \n",
            "  inflating: images_training_rev1/953734.jpg  \n",
            "  inflating: images_training_rev1/953757.jpg  \n",
            "  inflating: images_training_rev1/953769.jpg  \n",
            "  inflating: images_training_rev1/953785.jpg  \n",
            "  inflating: images_training_rev1/953798.jpg  \n",
            "  inflating: images_training_rev1/953799.jpg  \n",
            "  inflating: images_training_rev1/953800.jpg  \n",
            "  inflating: images_training_rev1/953801.jpg  \n",
            "  inflating: images_training_rev1/953804.jpg  \n",
            "  inflating: images_training_rev1/953895.jpg  \n",
            "  inflating: images_training_rev1/953923.jpg  \n",
            "  inflating: images_training_rev1/953937.jpg  \n",
            "  inflating: images_training_rev1/953940.jpg  \n",
            "  inflating: images_training_rev1/953969.jpg  \n",
            "  inflating: images_training_rev1/953970.jpg  \n",
            "  inflating: images_training_rev1/954035.jpg  \n",
            "  inflating: images_training_rev1/954040.jpg  \n",
            "  inflating: images_training_rev1/954102.jpg  \n",
            "  inflating: images_training_rev1/954120.jpg  \n",
            "  inflating: images_training_rev1/954138.jpg  \n",
            "  inflating: images_training_rev1/954172.jpg  \n",
            "  inflating: images_training_rev1/954178.jpg  \n",
            "  inflating: images_training_rev1/954183.jpg  \n",
            "  inflating: images_training_rev1/954188.jpg  \n",
            "  inflating: images_training_rev1/954233.jpg  \n",
            "  inflating: images_training_rev1/954256.jpg  \n",
            "  inflating: images_training_rev1/954259.jpg  \n",
            "  inflating: images_training_rev1/954268.jpg  \n",
            "  inflating: images_training_rev1/954276.jpg  \n",
            "  inflating: images_training_rev1/954279.jpg  \n",
            "  inflating: images_training_rev1/954288.jpg  \n",
            "  inflating: images_training_rev1/954327.jpg  \n",
            "  inflating: images_training_rev1/954356.jpg  \n",
            "  inflating: images_training_rev1/954423.jpg  \n",
            "  inflating: images_training_rev1/954429.jpg  \n",
            "  inflating: images_training_rev1/954430.jpg  \n",
            "  inflating: images_training_rev1/954452.jpg  \n",
            "  inflating: images_training_rev1/954478.jpg  \n",
            "  inflating: images_training_rev1/954485.jpg  \n",
            "  inflating: images_training_rev1/954514.jpg  \n",
            "  inflating: images_training_rev1/954517.jpg  \n",
            "  inflating: images_training_rev1/954526.jpg  \n",
            "  inflating: images_training_rev1/954546.jpg  \n",
            "  inflating: images_training_rev1/954568.jpg  \n",
            "  inflating: images_training_rev1/954577.jpg  \n",
            "  inflating: images_training_rev1/954584.jpg  \n",
            "  inflating: images_training_rev1/954602.jpg  \n",
            "  inflating: images_training_rev1/954605.jpg  \n",
            "  inflating: images_training_rev1/954620.jpg  \n",
            "  inflating: images_training_rev1/954651.jpg  \n",
            "  inflating: images_training_rev1/954664.jpg  \n",
            "  inflating: images_training_rev1/954678.jpg  \n",
            "  inflating: images_training_rev1/954719.jpg  \n",
            "  inflating: images_training_rev1/954753.jpg  \n",
            "  inflating: images_training_rev1/954758.jpg  \n",
            "  inflating: images_training_rev1/954768.jpg  \n",
            "  inflating: images_training_rev1/954771.jpg  \n",
            "  inflating: images_training_rev1/954780.jpg  \n",
            "  inflating: images_training_rev1/954785.jpg  \n",
            "  inflating: images_training_rev1/954810.jpg  \n",
            "  inflating: images_training_rev1/954820.jpg  \n",
            "  inflating: images_training_rev1/954827.jpg  \n",
            "  inflating: images_training_rev1/954833.jpg  \n",
            "  inflating: images_training_rev1/954868.jpg  \n",
            "  inflating: images_training_rev1/954888.jpg  \n",
            "  inflating: images_training_rev1/954917.jpg  \n",
            "  inflating: images_training_rev1/954926.jpg  \n",
            "  inflating: images_training_rev1/954935.jpg  \n",
            "  inflating: images_training_rev1/954938.jpg  \n",
            "  inflating: images_training_rev1/954944.jpg  \n",
            "  inflating: images_training_rev1/954969.jpg  \n",
            "  inflating: images_training_rev1/954985.jpg  \n",
            "  inflating: images_training_rev1/955008.jpg  \n",
            "  inflating: images_training_rev1/955031.jpg  \n",
            "  inflating: images_training_rev1/955049.jpg  \n",
            "  inflating: images_training_rev1/955052.jpg  \n",
            "  inflating: images_training_rev1/955055.jpg  \n",
            "  inflating: images_training_rev1/955057.jpg  \n",
            "  inflating: images_training_rev1/955062.jpg  \n",
            "  inflating: images_training_rev1/955063.jpg  \n",
            "  inflating: images_training_rev1/955070.jpg  \n",
            "  inflating: images_training_rev1/955102.jpg  \n",
            "  inflating: images_training_rev1/955122.jpg  \n",
            "  inflating: images_training_rev1/955139.jpg  \n",
            "  inflating: images_training_rev1/955142.jpg  \n",
            "  inflating: images_training_rev1/955145.jpg  \n",
            "  inflating: images_training_rev1/955165.jpg  \n",
            "  inflating: images_training_rev1/955233.jpg  \n",
            "  inflating: images_training_rev1/955246.jpg  \n",
            "  inflating: images_training_rev1/955262.jpg  \n",
            "  inflating: images_training_rev1/955270.jpg  \n",
            "  inflating: images_training_rev1/955275.jpg  \n",
            "  inflating: images_training_rev1/955279.jpg  \n",
            "  inflating: images_training_rev1/955290.jpg  \n",
            "  inflating: images_training_rev1/955295.jpg  \n",
            "  inflating: images_training_rev1/955302.jpg  \n",
            "  inflating: images_training_rev1/955305.jpg  \n",
            "  inflating: images_training_rev1/955343.jpg  \n",
            "  inflating: images_training_rev1/955356.jpg  \n",
            "  inflating: images_training_rev1/955361.jpg  \n",
            "  inflating: images_training_rev1/955377.jpg  \n",
            "  inflating: images_training_rev1/955390.jpg  \n",
            "  inflating: images_training_rev1/955392.jpg  \n",
            "  inflating: images_training_rev1/955407.jpg  \n",
            "  inflating: images_training_rev1/955416.jpg  \n",
            "  inflating: images_training_rev1/955433.jpg  \n",
            "  inflating: images_training_rev1/955438.jpg  \n",
            "  inflating: images_training_rev1/955441.jpg  \n",
            "  inflating: images_training_rev1/955447.jpg  \n",
            "  inflating: images_training_rev1/955476.jpg  \n",
            "  inflating: images_training_rev1/955483.jpg  \n",
            "  inflating: images_training_rev1/955484.jpg  \n",
            "  inflating: images_training_rev1/955542.jpg  \n",
            "  inflating: images_training_rev1/955551.jpg  \n",
            "  inflating: images_training_rev1/955563.jpg  \n",
            "  inflating: images_training_rev1/955571.jpg  \n",
            "  inflating: images_training_rev1/955578.jpg  \n",
            "  inflating: images_training_rev1/955579.jpg  \n",
            "  inflating: images_training_rev1/955587.jpg  \n",
            "  inflating: images_training_rev1/955617.jpg  \n",
            "  inflating: images_training_rev1/955628.jpg  \n",
            "  inflating: images_training_rev1/955654.jpg  \n",
            "  inflating: images_training_rev1/955668.jpg  \n",
            "  inflating: images_training_rev1/955669.jpg  \n",
            "  inflating: images_training_rev1/955678.jpg  \n",
            "  inflating: images_training_rev1/955689.jpg  \n",
            "  inflating: images_training_rev1/955690.jpg  \n",
            "  inflating: images_training_rev1/955715.jpg  \n",
            "  inflating: images_training_rev1/955720.jpg  \n",
            "  inflating: images_training_rev1/955773.jpg  \n",
            "  inflating: images_training_rev1/955786.jpg  \n",
            "  inflating: images_training_rev1/955788.jpg  \n",
            "  inflating: images_training_rev1/955802.jpg  \n",
            "  inflating: images_training_rev1/955813.jpg  \n",
            "  inflating: images_training_rev1/955816.jpg  \n",
            "  inflating: images_training_rev1/955817.jpg  \n",
            "  inflating: images_training_rev1/955840.jpg  \n",
            "  inflating: images_training_rev1/955850.jpg  \n",
            "  inflating: images_training_rev1/955852.jpg  \n",
            "  inflating: images_training_rev1/955867.jpg  \n",
            "  inflating: images_training_rev1/955886.jpg  \n",
            "  inflating: images_training_rev1/955902.jpg  \n",
            "  inflating: images_training_rev1/955922.jpg  \n",
            "  inflating: images_training_rev1/955927.jpg  \n",
            "  inflating: images_training_rev1/955932.jpg  \n",
            "  inflating: images_training_rev1/955939.jpg  \n",
            "  inflating: images_training_rev1/955949.jpg  \n",
            "  inflating: images_training_rev1/955956.jpg  \n",
            "  inflating: images_training_rev1/955977.jpg  \n",
            "  inflating: images_training_rev1/955986.jpg  \n",
            "  inflating: images_training_rev1/955995.jpg  \n",
            "  inflating: images_training_rev1/956023.jpg  \n",
            "  inflating: images_training_rev1/956025.jpg  \n",
            "  inflating: images_training_rev1/956031.jpg  \n",
            "  inflating: images_training_rev1/956042.jpg  \n",
            "  inflating: images_training_rev1/956053.jpg  \n",
            "  inflating: images_training_rev1/956071.jpg  \n",
            "  inflating: images_training_rev1/956095.jpg  \n",
            "  inflating: images_training_rev1/956097.jpg  \n",
            "  inflating: images_training_rev1/956109.jpg  \n",
            "  inflating: images_training_rev1/956129.jpg  \n",
            "  inflating: images_training_rev1/956148.jpg  \n",
            "  inflating: images_training_rev1/956159.jpg  \n",
            "  inflating: images_training_rev1/956164.jpg  \n",
            "  inflating: images_training_rev1/956169.jpg  \n",
            "  inflating: images_training_rev1/956175.jpg  \n",
            "  inflating: images_training_rev1/956179.jpg  \n",
            "  inflating: images_training_rev1/956180.jpg  \n",
            "  inflating: images_training_rev1/956188.jpg  \n",
            "  inflating: images_training_rev1/956206.jpg  \n",
            "  inflating: images_training_rev1/956214.jpg  \n",
            "  inflating: images_training_rev1/956215.jpg  \n",
            "  inflating: images_training_rev1/956240.jpg  \n",
            "  inflating: images_training_rev1/956254.jpg  \n",
            "  inflating: images_training_rev1/956287.jpg  \n",
            "  inflating: images_training_rev1/956300.jpg  \n",
            "  inflating: images_training_rev1/956305.jpg  \n",
            "  inflating: images_training_rev1/956335.jpg  \n",
            "  inflating: images_training_rev1/956339.jpg  \n",
            "  inflating: images_training_rev1/956346.jpg  \n",
            "  inflating: images_training_rev1/956374.jpg  \n",
            "  inflating: images_training_rev1/956396.jpg  \n",
            "  inflating: images_training_rev1/956406.jpg  \n",
            "  inflating: images_training_rev1/956407.jpg  \n",
            "  inflating: images_training_rev1/956416.jpg  \n",
            "  inflating: images_training_rev1/956428.jpg  \n",
            "  inflating: images_training_rev1/956482.jpg  \n",
            "  inflating: images_training_rev1/956483.jpg  \n",
            "  inflating: images_training_rev1/956484.jpg  \n",
            "  inflating: images_training_rev1/956499.jpg  \n",
            "  inflating: images_training_rev1/956501.jpg  \n",
            "  inflating: images_training_rev1/956507.jpg  \n",
            "  inflating: images_training_rev1/956517.jpg  \n",
            "  inflating: images_training_rev1/956529.jpg  \n",
            "  inflating: images_training_rev1/956530.jpg  \n",
            "  inflating: images_training_rev1/956545.jpg  \n",
            "  inflating: images_training_rev1/956558.jpg  \n",
            "  inflating: images_training_rev1/956563.jpg  \n",
            "  inflating: images_training_rev1/956574.jpg  \n",
            "  inflating: images_training_rev1/956608.jpg  \n",
            "  inflating: images_training_rev1/956645.jpg  \n",
            "  inflating: images_training_rev1/956688.jpg  \n",
            "  inflating: images_training_rev1/956729.jpg  \n",
            "  inflating: images_training_rev1/956733.jpg  \n",
            "  inflating: images_training_rev1/956736.jpg  \n",
            "  inflating: images_training_rev1/956775.jpg  \n",
            "  inflating: images_training_rev1/956779.jpg  \n",
            "  inflating: images_training_rev1/956846.jpg  \n",
            "  inflating: images_training_rev1/956851.jpg  \n",
            "  inflating: images_training_rev1/956899.jpg  \n",
            "  inflating: images_training_rev1/956901.jpg  \n",
            "  inflating: images_training_rev1/956905.jpg  \n",
            "  inflating: images_training_rev1/956923.jpg  \n",
            "  inflating: images_training_rev1/956977.jpg  \n",
            "  inflating: images_training_rev1/956986.jpg  \n",
            "  inflating: images_training_rev1/956988.jpg  \n",
            "  inflating: images_training_rev1/957005.jpg  \n",
            "  inflating: images_training_rev1/957031.jpg  \n",
            "  inflating: images_training_rev1/957044.jpg  \n",
            "  inflating: images_training_rev1/957065.jpg  \n",
            "  inflating: images_training_rev1/957070.jpg  \n",
            "  inflating: images_training_rev1/957084.jpg  \n",
            "  inflating: images_training_rev1/957092.jpg  \n",
            "  inflating: images_training_rev1/957104.jpg  \n",
            "  inflating: images_training_rev1/957118.jpg  \n",
            "  inflating: images_training_rev1/957141.jpg  \n",
            "  inflating: images_training_rev1/957144.jpg  \n",
            "  inflating: images_training_rev1/957157.jpg  \n",
            "  inflating: images_training_rev1/957159.jpg  \n",
            "  inflating: images_training_rev1/957187.jpg  \n",
            "  inflating: images_training_rev1/957192.jpg  \n",
            "  inflating: images_training_rev1/957194.jpg  \n",
            "  inflating: images_training_rev1/957196.jpg  \n",
            "  inflating: images_training_rev1/957211.jpg  \n",
            "  inflating: images_training_rev1/957231.jpg  \n",
            "  inflating: images_training_rev1/957234.jpg  \n",
            "  inflating: images_training_rev1/957236.jpg  \n",
            "  inflating: images_training_rev1/957249.jpg  \n",
            "  inflating: images_training_rev1/957251.jpg  \n",
            "  inflating: images_training_rev1/957253.jpg  \n",
            "  inflating: images_training_rev1/957261.jpg  \n",
            "  inflating: images_training_rev1/957263.jpg  \n",
            "  inflating: images_training_rev1/957266.jpg  \n",
            "  inflating: images_training_rev1/957302.jpg  \n",
            "  inflating: images_training_rev1/957312.jpg  \n",
            "  inflating: images_training_rev1/957325.jpg  \n",
            "  inflating: images_training_rev1/957334.jpg  \n",
            "  inflating: images_training_rev1/957360.jpg  \n",
            "  inflating: images_training_rev1/957376.jpg  \n",
            "  inflating: images_training_rev1/957425.jpg  \n",
            "  inflating: images_training_rev1/957499.jpg  \n",
            "  inflating: images_training_rev1/957500.jpg  \n",
            "  inflating: images_training_rev1/957526.jpg  \n",
            "  inflating: images_training_rev1/957530.jpg  \n",
            "  inflating: images_training_rev1/957554.jpg  \n",
            "  inflating: images_training_rev1/957565.jpg  \n",
            "  inflating: images_training_rev1/957566.jpg  \n",
            "  inflating: images_training_rev1/957577.jpg  \n",
            "  inflating: images_training_rev1/957591.jpg  \n",
            "  inflating: images_training_rev1/957616.jpg  \n",
            "  inflating: images_training_rev1/957617.jpg  \n",
            "  inflating: images_training_rev1/957642.jpg  \n",
            "  inflating: images_training_rev1/957675.jpg  \n",
            "  inflating: images_training_rev1/957684.jpg  \n",
            "  inflating: images_training_rev1/957693.jpg  \n",
            "  inflating: images_training_rev1/957725.jpg  \n",
            "  inflating: images_training_rev1/957729.jpg  \n",
            "  inflating: images_training_rev1/957743.jpg  \n",
            "  inflating: images_training_rev1/957751.jpg  \n",
            "  inflating: images_training_rev1/957770.jpg  \n",
            "  inflating: images_training_rev1/957776.jpg  \n",
            "  inflating: images_training_rev1/957778.jpg  \n",
            "  inflating: images_training_rev1/957779.jpg  \n",
            "  inflating: images_training_rev1/957791.jpg  \n",
            "  inflating: images_training_rev1/957805.jpg  \n",
            "  inflating: images_training_rev1/957812.jpg  \n",
            "  inflating: images_training_rev1/957839.jpg  \n",
            "  inflating: images_training_rev1/957847.jpg  \n",
            "  inflating: images_training_rev1/957852.jpg  \n",
            "  inflating: images_training_rev1/957904.jpg  \n",
            "  inflating: images_training_rev1/957949.jpg  \n",
            "  inflating: images_training_rev1/957972.jpg  \n",
            "  inflating: images_training_rev1/957980.jpg  \n",
            "  inflating: images_training_rev1/957996.jpg  \n",
            "  inflating: images_training_rev1/958028.jpg  \n",
            "  inflating: images_training_rev1/958037.jpg  \n",
            "  inflating: images_training_rev1/958068.jpg  \n",
            "  inflating: images_training_rev1/958074.jpg  \n",
            "  inflating: images_training_rev1/958090.jpg  \n",
            "  inflating: images_training_rev1/958094.jpg  \n",
            "  inflating: images_training_rev1/958113.jpg  \n",
            "  inflating: images_training_rev1/958123.jpg  \n",
            "  inflating: images_training_rev1/958129.jpg  \n",
            "  inflating: images_training_rev1/958143.jpg  \n",
            "  inflating: images_training_rev1/958159.jpg  \n",
            "  inflating: images_training_rev1/958181.jpg  \n",
            "  inflating: images_training_rev1/958258.jpg  \n",
            "  inflating: images_training_rev1/958373.jpg  \n",
            "  inflating: images_training_rev1/958383.jpg  \n",
            "  inflating: images_training_rev1/958392.jpg  \n",
            "  inflating: images_training_rev1/958430.jpg  \n",
            "  inflating: images_training_rev1/958440.jpg  \n",
            "  inflating: images_training_rev1/958481.jpg  \n",
            "  inflating: images_training_rev1/958482.jpg  \n",
            "  inflating: images_training_rev1/958493.jpg  \n",
            "  inflating: images_training_rev1/958506.jpg  \n",
            "  inflating: images_training_rev1/958511.jpg  \n",
            "  inflating: images_training_rev1/958524.jpg  \n",
            "  inflating: images_training_rev1/958530.jpg  \n",
            "  inflating: images_training_rev1/958531.jpg  \n",
            "  inflating: images_training_rev1/958538.jpg  \n",
            "  inflating: images_training_rev1/958557.jpg  \n",
            "  inflating: images_training_rev1/958565.jpg  \n",
            "  inflating: images_training_rev1/958597.jpg  \n",
            "  inflating: images_training_rev1/958607.jpg  \n",
            "  inflating: images_training_rev1/958611.jpg  \n",
            "  inflating: images_training_rev1/958621.jpg  \n",
            "  inflating: images_training_rev1/958632.jpg  \n",
            "  inflating: images_training_rev1/958649.jpg  \n",
            "  inflating: images_training_rev1/958652.jpg  \n",
            "  inflating: images_training_rev1/958671.jpg  \n",
            "  inflating: images_training_rev1/958707.jpg  \n",
            "  inflating: images_training_rev1/958709.jpg  \n",
            "  inflating: images_training_rev1/958725.jpg  \n",
            "  inflating: images_training_rev1/958754.jpg  \n",
            "  inflating: images_training_rev1/958765.jpg  \n",
            "  inflating: images_training_rev1/958773.jpg  \n",
            "  inflating: images_training_rev1/958791.jpg  \n",
            "  inflating: images_training_rev1/958816.jpg  \n",
            "  inflating: images_training_rev1/958832.jpg  \n",
            "  inflating: images_training_rev1/958845.jpg  \n",
            "  inflating: images_training_rev1/958864.jpg  \n",
            "  inflating: images_training_rev1/958895.jpg  \n",
            "  inflating: images_training_rev1/958898.jpg  \n",
            "  inflating: images_training_rev1/958899.jpg  \n",
            "  inflating: images_training_rev1/958926.jpg  \n",
            "  inflating: images_training_rev1/958947.jpg  \n",
            "  inflating: images_training_rev1/958974.jpg  \n",
            "  inflating: images_training_rev1/958978.jpg  \n",
            "  inflating: images_training_rev1/959014.jpg  \n",
            "  inflating: images_training_rev1/959029.jpg  \n",
            "  inflating: images_training_rev1/959042.jpg  \n",
            "  inflating: images_training_rev1/959043.jpg  \n",
            "  inflating: images_training_rev1/959046.jpg  \n",
            "  inflating: images_training_rev1/959057.jpg  \n",
            "  inflating: images_training_rev1/959066.jpg  \n",
            "  inflating: images_training_rev1/959114.jpg  \n",
            "  inflating: images_training_rev1/959118.jpg  \n",
            "  inflating: images_training_rev1/959143.jpg  \n",
            "  inflating: images_training_rev1/959149.jpg  \n",
            "  inflating: images_training_rev1/959155.jpg  \n",
            "  inflating: images_training_rev1/959169.jpg  \n",
            "  inflating: images_training_rev1/959180.jpg  \n",
            "  inflating: images_training_rev1/959190.jpg  \n",
            "  inflating: images_training_rev1/959211.jpg  \n",
            "  inflating: images_training_rev1/959212.jpg  \n",
            "  inflating: images_training_rev1/959217.jpg  \n",
            "  inflating: images_training_rev1/959270.jpg  \n",
            "  inflating: images_training_rev1/959276.jpg  \n",
            "  inflating: images_training_rev1/959316.jpg  \n",
            "  inflating: images_training_rev1/959339.jpg  \n",
            "  inflating: images_training_rev1/959340.jpg  \n",
            "  inflating: images_training_rev1/959343.jpg  \n",
            "  inflating: images_training_rev1/959356.jpg  \n",
            "  inflating: images_training_rev1/959366.jpg  \n",
            "  inflating: images_training_rev1/959388.jpg  \n",
            "  inflating: images_training_rev1/959429.jpg  \n",
            "  inflating: images_training_rev1/959442.jpg  \n",
            "  inflating: images_training_rev1/959466.jpg  \n",
            "  inflating: images_training_rev1/959483.jpg  \n",
            "  inflating: images_training_rev1/959498.jpg  \n",
            "  inflating: images_training_rev1/959501.jpg  \n",
            "  inflating: images_training_rev1/959508.jpg  \n",
            "  inflating: images_training_rev1/959513.jpg  \n",
            "  inflating: images_training_rev1/959540.jpg  \n",
            "  inflating: images_training_rev1/959557.jpg  \n",
            "  inflating: images_training_rev1/959564.jpg  \n",
            "  inflating: images_training_rev1/959574.jpg  \n",
            "  inflating: images_training_rev1/959581.jpg  \n",
            "  inflating: images_training_rev1/959583.jpg  \n",
            "  inflating: images_training_rev1/959617.jpg  \n",
            "  inflating: images_training_rev1/959629.jpg  \n",
            "  inflating: images_training_rev1/959645.jpg  \n",
            "  inflating: images_training_rev1/959653.jpg  \n",
            "  inflating: images_training_rev1/959655.jpg  \n",
            "  inflating: images_training_rev1/959660.jpg  \n",
            "  inflating: images_training_rev1/959679.jpg  \n",
            "  inflating: images_training_rev1/959680.jpg  \n",
            "  inflating: images_training_rev1/959706.jpg  \n",
            "  inflating: images_training_rev1/959742.jpg  \n",
            "  inflating: images_training_rev1/959766.jpg  \n",
            "  inflating: images_training_rev1/959830.jpg  \n",
            "  inflating: images_training_rev1/959855.jpg  \n",
            "  inflating: images_training_rev1/959856.jpg  \n",
            "  inflating: images_training_rev1/959870.jpg  \n",
            "  inflating: images_training_rev1/959871.jpg  \n",
            "  inflating: images_training_rev1/959880.jpg  \n",
            "  inflating: images_training_rev1/959925.jpg  \n",
            "  inflating: images_training_rev1/959930.jpg  \n",
            "  inflating: images_training_rev1/959932.jpg  \n",
            "  inflating: images_training_rev1/959934.jpg  \n",
            "  inflating: images_training_rev1/959953.jpg  \n",
            "  inflating: images_training_rev1/959977.jpg  \n",
            "  inflating: images_training_rev1/959980.jpg  \n",
            "  inflating: images_training_rev1/959982.jpg  \n",
            "  inflating: images_training_rev1/959987.jpg  \n",
            "  inflating: images_training_rev1/959998.jpg  \n",
            "  inflating: images_training_rev1/960001.jpg  \n",
            "  inflating: images_training_rev1/960004.jpg  \n",
            "  inflating: images_training_rev1/960020.jpg  \n",
            "  inflating: images_training_rev1/960060.jpg  \n",
            "  inflating: images_training_rev1/960062.jpg  \n",
            "  inflating: images_training_rev1/960096.jpg  \n",
            "  inflating: images_training_rev1/960103.jpg  \n",
            "  inflating: images_training_rev1/960124.jpg  \n",
            "  inflating: images_training_rev1/960130.jpg  \n",
            "  inflating: images_training_rev1/960136.jpg  \n",
            "  inflating: images_training_rev1/960144.jpg  \n",
            "  inflating: images_training_rev1/960149.jpg  \n",
            "  inflating: images_training_rev1/960187.jpg  \n",
            "  inflating: images_training_rev1/960206.jpg  \n",
            "  inflating: images_training_rev1/960208.jpg  \n",
            "  inflating: images_training_rev1/960218.jpg  \n",
            "  inflating: images_training_rev1/960252.jpg  \n",
            "  inflating: images_training_rev1/960253.jpg  \n",
            "  inflating: images_training_rev1/960264.jpg  \n",
            "  inflating: images_training_rev1/960281.jpg  \n",
            "  inflating: images_training_rev1/960294.jpg  \n",
            "  inflating: images_training_rev1/960300.jpg  \n",
            "  inflating: images_training_rev1/960307.jpg  \n",
            "  inflating: images_training_rev1/960323.jpg  \n",
            "  inflating: images_training_rev1/960325.jpg  \n",
            "  inflating: images_training_rev1/960332.jpg  \n",
            "  inflating: images_training_rev1/960351.jpg  \n",
            "  inflating: images_training_rev1/960362.jpg  \n",
            "  inflating: images_training_rev1/960366.jpg  \n",
            "  inflating: images_training_rev1/960375.jpg  \n",
            "  inflating: images_training_rev1/960384.jpg  \n",
            "  inflating: images_training_rev1/960387.jpg  \n",
            "  inflating: images_training_rev1/960413.jpg  \n",
            "  inflating: images_training_rev1/960414.jpg  \n",
            "  inflating: images_training_rev1/960415.jpg  \n",
            "  inflating: images_training_rev1/960419.jpg  \n",
            "  inflating: images_training_rev1/960421.jpg  \n",
            "  inflating: images_training_rev1/960429.jpg  \n",
            "  inflating: images_training_rev1/960446.jpg  \n",
            "  inflating: images_training_rev1/960451.jpg  \n",
            "  inflating: images_training_rev1/960453.jpg  \n",
            "  inflating: images_training_rev1/960523.jpg  \n",
            "  inflating: images_training_rev1/960537.jpg  \n",
            "  inflating: images_training_rev1/960538.jpg  \n",
            "  inflating: images_training_rev1/960543.jpg  \n",
            "  inflating: images_training_rev1/960561.jpg  \n",
            "  inflating: images_training_rev1/960608.jpg  \n",
            "  inflating: images_training_rev1/960616.jpg  \n",
            "  inflating: images_training_rev1/960624.jpg  \n",
            "  inflating: images_training_rev1/960627.jpg  \n",
            "  inflating: images_training_rev1/960636.jpg  \n",
            "  inflating: images_training_rev1/960648.jpg  \n",
            "  inflating: images_training_rev1/960662.jpg  \n",
            "  inflating: images_training_rev1/960663.jpg  \n",
            "  inflating: images_training_rev1/960686.jpg  \n",
            "  inflating: images_training_rev1/960691.jpg  \n",
            "  inflating: images_training_rev1/960706.jpg  \n",
            "  inflating: images_training_rev1/960724.jpg  \n",
            "  inflating: images_training_rev1/960740.jpg  \n",
            "  inflating: images_training_rev1/960773.jpg  \n",
            "  inflating: images_training_rev1/960775.jpg  \n",
            "  inflating: images_training_rev1/960781.jpg  \n",
            "  inflating: images_training_rev1/960786.jpg  \n",
            "  inflating: images_training_rev1/960794.jpg  \n",
            "  inflating: images_training_rev1/960798.jpg  \n",
            "  inflating: images_training_rev1/960801.jpg  \n",
            "  inflating: images_training_rev1/960808.jpg  \n",
            "  inflating: images_training_rev1/960825.jpg  \n",
            "  inflating: images_training_rev1/960835.jpg  \n",
            "  inflating: images_training_rev1/960843.jpg  \n",
            "  inflating: images_training_rev1/960861.jpg  \n",
            "  inflating: images_training_rev1/960878.jpg  \n",
            "  inflating: images_training_rev1/960899.jpg  \n",
            "  inflating: images_training_rev1/960902.jpg  \n",
            "  inflating: images_training_rev1/960906.jpg  \n",
            "  inflating: images_training_rev1/960914.jpg  \n",
            "  inflating: images_training_rev1/960920.jpg  \n",
            "  inflating: images_training_rev1/960938.jpg  \n",
            "  inflating: images_training_rev1/960939.jpg  \n",
            "  inflating: images_training_rev1/961024.jpg  \n",
            "  inflating: images_training_rev1/961027.jpg  \n",
            "  inflating: images_training_rev1/961032.jpg  \n",
            "  inflating: images_training_rev1/961039.jpg  \n",
            "  inflating: images_training_rev1/961044.jpg  \n",
            "  inflating: images_training_rev1/961051.jpg  \n",
            "  inflating: images_training_rev1/961058.jpg  \n",
            "  inflating: images_training_rev1/961068.jpg  \n",
            "  inflating: images_training_rev1/961083.jpg  \n",
            "  inflating: images_training_rev1/961088.jpg  \n",
            "  inflating: images_training_rev1/961104.jpg  \n",
            "  inflating: images_training_rev1/961122.jpg  \n",
            "  inflating: images_training_rev1/961127.jpg  \n",
            "  inflating: images_training_rev1/961135.jpg  \n",
            "  inflating: images_training_rev1/961136.jpg  \n",
            "  inflating: images_training_rev1/961151.jpg  \n",
            "  inflating: images_training_rev1/961157.jpg  \n",
            "  inflating: images_training_rev1/961170.jpg  \n",
            "  inflating: images_training_rev1/961177.jpg  \n",
            "  inflating: images_training_rev1/961178.jpg  \n",
            "  inflating: images_training_rev1/961179.jpg  \n",
            "  inflating: images_training_rev1/961195.jpg  \n",
            "  inflating: images_training_rev1/961206.jpg  \n",
            "  inflating: images_training_rev1/961235.jpg  \n",
            "  inflating: images_training_rev1/961262.jpg  \n",
            "  inflating: images_training_rev1/961267.jpg  \n",
            "  inflating: images_training_rev1/961273.jpg  \n",
            "  inflating: images_training_rev1/961298.jpg  \n",
            "  inflating: images_training_rev1/961307.jpg  \n",
            "  inflating: images_training_rev1/961321.jpg  \n",
            "  inflating: images_training_rev1/961331.jpg  \n",
            "  inflating: images_training_rev1/961343.jpg  \n",
            "  inflating: images_training_rev1/961371.jpg  \n",
            "  inflating: images_training_rev1/961376.jpg  \n",
            "  inflating: images_training_rev1/961387.jpg  \n",
            "  inflating: images_training_rev1/961403.jpg  \n",
            "  inflating: images_training_rev1/961413.jpg  \n",
            "  inflating: images_training_rev1/961425.jpg  \n",
            "  inflating: images_training_rev1/961426.jpg  \n",
            "  inflating: images_training_rev1/961427.jpg  \n",
            "  inflating: images_training_rev1/961437.jpg  \n",
            "  inflating: images_training_rev1/961442.jpg  \n",
            "  inflating: images_training_rev1/961452.jpg  \n",
            "  inflating: images_training_rev1/961473.jpg  \n",
            "  inflating: images_training_rev1/961503.jpg  \n",
            "  inflating: images_training_rev1/961513.jpg  \n",
            "  inflating: images_training_rev1/961517.jpg  \n",
            "  inflating: images_training_rev1/961544.jpg  \n",
            "  inflating: images_training_rev1/961552.jpg  \n",
            "  inflating: images_training_rev1/961572.jpg  \n",
            "  inflating: images_training_rev1/961577.jpg  \n",
            "  inflating: images_training_rev1/961584.jpg  \n",
            "  inflating: images_training_rev1/961598.jpg  \n",
            "  inflating: images_training_rev1/961602.jpg  \n",
            "  inflating: images_training_rev1/961610.jpg  \n",
            "  inflating: images_training_rev1/961628.jpg  \n",
            "  inflating: images_training_rev1/961639.jpg  \n",
            "  inflating: images_training_rev1/961659.jpg  \n",
            "  inflating: images_training_rev1/961669.jpg  \n",
            "  inflating: images_training_rev1/961674.jpg  \n",
            "  inflating: images_training_rev1/961682.jpg  \n",
            "  inflating: images_training_rev1/961717.jpg  \n",
            "  inflating: images_training_rev1/961736.jpg  \n",
            "  inflating: images_training_rev1/961738.jpg  \n",
            "  inflating: images_training_rev1/961762.jpg  \n",
            "  inflating: images_training_rev1/961769.jpg  \n",
            "  inflating: images_training_rev1/961782.jpg  \n",
            "  inflating: images_training_rev1/961784.jpg  \n",
            "  inflating: images_training_rev1/961830.jpg  \n",
            "  inflating: images_training_rev1/961868.jpg  \n",
            "  inflating: images_training_rev1/961879.jpg  \n",
            "  inflating: images_training_rev1/961897.jpg  \n",
            "  inflating: images_training_rev1/961912.jpg  \n",
            "  inflating: images_training_rev1/961947.jpg  \n",
            "  inflating: images_training_rev1/962017.jpg  \n",
            "  inflating: images_training_rev1/962021.jpg  \n",
            "  inflating: images_training_rev1/962027.jpg  \n",
            "  inflating: images_training_rev1/962040.jpg  \n",
            "  inflating: images_training_rev1/962051.jpg  \n",
            "  inflating: images_training_rev1/962064.jpg  \n",
            "  inflating: images_training_rev1/962069.jpg  \n",
            "  inflating: images_training_rev1/962083.jpg  \n",
            "  inflating: images_training_rev1/962084.jpg  \n",
            "  inflating: images_training_rev1/962107.jpg  \n",
            "  inflating: images_training_rev1/962118.jpg  \n",
            "  inflating: images_training_rev1/962146.jpg  \n",
            "  inflating: images_training_rev1/962163.jpg  \n",
            "  inflating: images_training_rev1/962167.jpg  \n",
            "  inflating: images_training_rev1/962183.jpg  \n",
            "  inflating: images_training_rev1/962185.jpg  \n",
            "  inflating: images_training_rev1/962189.jpg  \n",
            "  inflating: images_training_rev1/962211.jpg  \n",
            "  inflating: images_training_rev1/962233.jpg  \n",
            "  inflating: images_training_rev1/962263.jpg  \n",
            "  inflating: images_training_rev1/962270.jpg  \n",
            "  inflating: images_training_rev1/962292.jpg  \n",
            "  inflating: images_training_rev1/962329.jpg  \n",
            "  inflating: images_training_rev1/962333.jpg  \n",
            "  inflating: images_training_rev1/962339.jpg  \n",
            "  inflating: images_training_rev1/962348.jpg  \n",
            "  inflating: images_training_rev1/962353.jpg  \n",
            "  inflating: images_training_rev1/962357.jpg  \n",
            "  inflating: images_training_rev1/962360.jpg  \n",
            "  inflating: images_training_rev1/962361.jpg  \n",
            "  inflating: images_training_rev1/962369.jpg  \n",
            "  inflating: images_training_rev1/962377.jpg  \n",
            "  inflating: images_training_rev1/962389.jpg  \n",
            "  inflating: images_training_rev1/962399.jpg  \n",
            "  inflating: images_training_rev1/962409.jpg  \n",
            "  inflating: images_training_rev1/962412.jpg  \n",
            "  inflating: images_training_rev1/962419.jpg  \n",
            "  inflating: images_training_rev1/962428.jpg  \n",
            "  inflating: images_training_rev1/962447.jpg  \n",
            "  inflating: images_training_rev1/962448.jpg  \n",
            "  inflating: images_training_rev1/962458.jpg  \n",
            "  inflating: images_training_rev1/962482.jpg  \n",
            "  inflating: images_training_rev1/962493.jpg  \n",
            "  inflating: images_training_rev1/962499.jpg  \n",
            "  inflating: images_training_rev1/962503.jpg  \n",
            "  inflating: images_training_rev1/962523.jpg  \n",
            "  inflating: images_training_rev1/962543.jpg  \n",
            "  inflating: images_training_rev1/962588.jpg  \n",
            "  inflating: images_training_rev1/962628.jpg  \n",
            "  inflating: images_training_rev1/962678.jpg  \n",
            "  inflating: images_training_rev1/962679.jpg  \n",
            "  inflating: images_training_rev1/962682.jpg  \n",
            "  inflating: images_training_rev1/962702.jpg  \n",
            "  inflating: images_training_rev1/962727.jpg  \n",
            "  inflating: images_training_rev1/962739.jpg  \n",
            "  inflating: images_training_rev1/962745.jpg  \n",
            "  inflating: images_training_rev1/962747.jpg  \n",
            "  inflating: images_training_rev1/962748.jpg  \n",
            "  inflating: images_training_rev1/962768.jpg  \n",
            "  inflating: images_training_rev1/962783.jpg  \n",
            "  inflating: images_training_rev1/962805.jpg  \n",
            "  inflating: images_training_rev1/962838.jpg  \n",
            "  inflating: images_training_rev1/962889.jpg  \n",
            "  inflating: images_training_rev1/962897.jpg  \n",
            "  inflating: images_training_rev1/962913.jpg  \n",
            "  inflating: images_training_rev1/962921.jpg  \n",
            "  inflating: images_training_rev1/962923.jpg  \n",
            "  inflating: images_training_rev1/962928.jpg  \n",
            "  inflating: images_training_rev1/962969.jpg  \n",
            "  inflating: images_training_rev1/962980.jpg  \n",
            "  inflating: images_training_rev1/962985.jpg  \n",
            "  inflating: images_training_rev1/962986.jpg  \n",
            "  inflating: images_training_rev1/963038.jpg  \n",
            "  inflating: images_training_rev1/963039.jpg  \n",
            "  inflating: images_training_rev1/963041.jpg  \n",
            "  inflating: images_training_rev1/963069.jpg  \n",
            "  inflating: images_training_rev1/963084.jpg  \n",
            "  inflating: images_training_rev1/963088.jpg  \n",
            "  inflating: images_training_rev1/963104.jpg  \n",
            "  inflating: images_training_rev1/963109.jpg  \n",
            "  inflating: images_training_rev1/963142.jpg  \n",
            "  inflating: images_training_rev1/963149.jpg  \n",
            "  inflating: images_training_rev1/963174.jpg  \n",
            "  inflating: images_training_rev1/963185.jpg  \n",
            "  inflating: images_training_rev1/963188.jpg  \n",
            "  inflating: images_training_rev1/963208.jpg  \n",
            "  inflating: images_training_rev1/963210.jpg  \n",
            "  inflating: images_training_rev1/963211.jpg  \n",
            "  inflating: images_training_rev1/963223.jpg  \n",
            "  inflating: images_training_rev1/963246.jpg  \n",
            "  inflating: images_training_rev1/963258.jpg  \n",
            "  inflating: images_training_rev1/963264.jpg  \n",
            "  inflating: images_training_rev1/963270.jpg  \n",
            "  inflating: images_training_rev1/963277.jpg  \n",
            "  inflating: images_training_rev1/963292.jpg  \n",
            "  inflating: images_training_rev1/963328.jpg  \n",
            "  inflating: images_training_rev1/963342.jpg  \n",
            "  inflating: images_training_rev1/963363.jpg  \n",
            "  inflating: images_training_rev1/963385.jpg  \n",
            "  inflating: images_training_rev1/963435.jpg  \n",
            "  inflating: images_training_rev1/963443.jpg  \n",
            "  inflating: images_training_rev1/963459.jpg  \n",
            "  inflating: images_training_rev1/963463.jpg  \n",
            "  inflating: images_training_rev1/963494.jpg  \n",
            "  inflating: images_training_rev1/963500.jpg  \n",
            "  inflating: images_training_rev1/963509.jpg  \n",
            "  inflating: images_training_rev1/963521.jpg  \n",
            "  inflating: images_training_rev1/963558.jpg  \n",
            "  inflating: images_training_rev1/963603.jpg  \n",
            "  inflating: images_training_rev1/963610.jpg  \n",
            "  inflating: images_training_rev1/963627.jpg  \n",
            "  inflating: images_training_rev1/963628.jpg  \n",
            "  inflating: images_training_rev1/963649.jpg  \n",
            "  inflating: images_training_rev1/963657.jpg  \n",
            "  inflating: images_training_rev1/963660.jpg  \n",
            "  inflating: images_training_rev1/963661.jpg  \n",
            "  inflating: images_training_rev1/963673.jpg  \n",
            "  inflating: images_training_rev1/963692.jpg  \n",
            "  inflating: images_training_rev1/963696.jpg  \n",
            "  inflating: images_training_rev1/963704.jpg  \n",
            "  inflating: images_training_rev1/963729.jpg  \n",
            "  inflating: images_training_rev1/963742.jpg  \n",
            "  inflating: images_training_rev1/963779.jpg  \n",
            "  inflating: images_training_rev1/963785.jpg  \n",
            "  inflating: images_training_rev1/963786.jpg  \n",
            "  inflating: images_training_rev1/963789.jpg  \n",
            "  inflating: images_training_rev1/963803.jpg  \n",
            "  inflating: images_training_rev1/963806.jpg  \n",
            "  inflating: images_training_rev1/963813.jpg  \n",
            "  inflating: images_training_rev1/963821.jpg  \n",
            "  inflating: images_training_rev1/963839.jpg  \n",
            "  inflating: images_training_rev1/963888.jpg  \n",
            "  inflating: images_training_rev1/963892.jpg  \n",
            "  inflating: images_training_rev1/963926.jpg  \n",
            "  inflating: images_training_rev1/963930.jpg  \n",
            "  inflating: images_training_rev1/963974.jpg  \n",
            "  inflating: images_training_rev1/963990.jpg  \n",
            "  inflating: images_training_rev1/963999.jpg  \n",
            "  inflating: images_training_rev1/964006.jpg  \n",
            "  inflating: images_training_rev1/964007.jpg  \n",
            "  inflating: images_training_rev1/964011.jpg  \n",
            "  inflating: images_training_rev1/964027.jpg  \n",
            "  inflating: images_training_rev1/964048.jpg  \n",
            "  inflating: images_training_rev1/964052.jpg  \n",
            "  inflating: images_training_rev1/964056.jpg  \n",
            "  inflating: images_training_rev1/964064.jpg  \n",
            "  inflating: images_training_rev1/964071.jpg  \n",
            "  inflating: images_training_rev1/964091.jpg  \n",
            "  inflating: images_training_rev1/964116.jpg  \n",
            "  inflating: images_training_rev1/964118.jpg  \n",
            "  inflating: images_training_rev1/964119.jpg  \n",
            "  inflating: images_training_rev1/964127.jpg  \n",
            "  inflating: images_training_rev1/964129.jpg  \n",
            "  inflating: images_training_rev1/964145.jpg  \n",
            "  inflating: images_training_rev1/964149.jpg  \n",
            "  inflating: images_training_rev1/964184.jpg  \n",
            "  inflating: images_training_rev1/964198.jpg  \n",
            "  inflating: images_training_rev1/964219.jpg  \n",
            "  inflating: images_training_rev1/964221.jpg  \n",
            "  inflating: images_training_rev1/964224.jpg  \n",
            "  inflating: images_training_rev1/964239.jpg  \n",
            "  inflating: images_training_rev1/964248.jpg  \n",
            "  inflating: images_training_rev1/964249.jpg  \n",
            "  inflating: images_training_rev1/964259.jpg  \n",
            "  inflating: images_training_rev1/964278.jpg  \n",
            "  inflating: images_training_rev1/964315.jpg  \n",
            "  inflating: images_training_rev1/964319.jpg  \n",
            "  inflating: images_training_rev1/964320.jpg  \n",
            "  inflating: images_training_rev1/964331.jpg  \n",
            "  inflating: images_training_rev1/964338.jpg  \n",
            "  inflating: images_training_rev1/964386.jpg  \n",
            "  inflating: images_training_rev1/964388.jpg  \n",
            "  inflating: images_training_rev1/964392.jpg  \n",
            "  inflating: images_training_rev1/964412.jpg  \n",
            "  inflating: images_training_rev1/964423.jpg  \n",
            "  inflating: images_training_rev1/964429.jpg  \n",
            "  inflating: images_training_rev1/964484.jpg  \n",
            "  inflating: images_training_rev1/964489.jpg  \n",
            "  inflating: images_training_rev1/964494.jpg  \n",
            "  inflating: images_training_rev1/964499.jpg  \n",
            "  inflating: images_training_rev1/964505.jpg  \n",
            "  inflating: images_training_rev1/964524.jpg  \n",
            "  inflating: images_training_rev1/964529.jpg  \n",
            "  inflating: images_training_rev1/964538.jpg  \n",
            "  inflating: images_training_rev1/964567.jpg  \n",
            "  inflating: images_training_rev1/964569.jpg  \n",
            "  inflating: images_training_rev1/964577.jpg  \n",
            "  inflating: images_training_rev1/964581.jpg  \n",
            "  inflating: images_training_rev1/964590.jpg  \n",
            "  inflating: images_training_rev1/964610.jpg  \n",
            "  inflating: images_training_rev1/964613.jpg  \n",
            "  inflating: images_training_rev1/964656.jpg  \n",
            "  inflating: images_training_rev1/964689.jpg  \n",
            "  inflating: images_training_rev1/964690.jpg  \n",
            "  inflating: images_training_rev1/964707.jpg  \n",
            "  inflating: images_training_rev1/964754.jpg  \n",
            "  inflating: images_training_rev1/964761.jpg  \n",
            "  inflating: images_training_rev1/964778.jpg  \n",
            "  inflating: images_training_rev1/964779.jpg  \n",
            "  inflating: images_training_rev1/964826.jpg  \n",
            "  inflating: images_training_rev1/964830.jpg  \n",
            "  inflating: images_training_rev1/964832.jpg  \n",
            "  inflating: images_training_rev1/964839.jpg  \n",
            "  inflating: images_training_rev1/964873.jpg  \n",
            "  inflating: images_training_rev1/964899.jpg  \n",
            "  inflating: images_training_rev1/964921.jpg  \n",
            "  inflating: images_training_rev1/964929.jpg  \n",
            "  inflating: images_training_rev1/964941.jpg  \n",
            "  inflating: images_training_rev1/964964.jpg  \n",
            "  inflating: images_training_rev1/964991.jpg  \n",
            "  inflating: images_training_rev1/965022.jpg  \n",
            "  inflating: images_training_rev1/965040.jpg  \n",
            "  inflating: images_training_rev1/965049.jpg  \n",
            "  inflating: images_training_rev1/965062.jpg  \n",
            "  inflating: images_training_rev1/965081.jpg  \n",
            "  inflating: images_training_rev1/965108.jpg  \n",
            "  inflating: images_training_rev1/965113.jpg  \n",
            "  inflating: images_training_rev1/965119.jpg  \n",
            "  inflating: images_training_rev1/965120.jpg  \n",
            "  inflating: images_training_rev1/965127.jpg  \n",
            "  inflating: images_training_rev1/965150.jpg  \n",
            "  inflating: images_training_rev1/965155.jpg  \n",
            "  inflating: images_training_rev1/965166.jpg  \n",
            "  inflating: images_training_rev1/965202.jpg  \n",
            "  inflating: images_training_rev1/965211.jpg  \n",
            "  inflating: images_training_rev1/965222.jpg  \n",
            "  inflating: images_training_rev1/965234.jpg  \n",
            "  inflating: images_training_rev1/965237.jpg  \n",
            "  inflating: images_training_rev1/965270.jpg  \n",
            "  inflating: images_training_rev1/965280.jpg  \n",
            "  inflating: images_training_rev1/965317.jpg  \n",
            "  inflating: images_training_rev1/965322.jpg  \n",
            "  inflating: images_training_rev1/965338.jpg  \n",
            "  inflating: images_training_rev1/965343.jpg  \n",
            "  inflating: images_training_rev1/965345.jpg  \n",
            "  inflating: images_training_rev1/965356.jpg  \n",
            "  inflating: images_training_rev1/965359.jpg  \n",
            "  inflating: images_training_rev1/965377.jpg  \n",
            "  inflating: images_training_rev1/965397.jpg  \n",
            "  inflating: images_training_rev1/965449.jpg  \n",
            "  inflating: images_training_rev1/965451.jpg  \n",
            "  inflating: images_training_rev1/965456.jpg  \n",
            "  inflating: images_training_rev1/965462.jpg  \n",
            "  inflating: images_training_rev1/965487.jpg  \n",
            "  inflating: images_training_rev1/965495.jpg  \n",
            "  inflating: images_training_rev1/965520.jpg  \n",
            "  inflating: images_training_rev1/965539.jpg  \n",
            "  inflating: images_training_rev1/965573.jpg  \n",
            "  inflating: images_training_rev1/965574.jpg  \n",
            "  inflating: images_training_rev1/965603.jpg  \n",
            "  inflating: images_training_rev1/965609.jpg  \n",
            "  inflating: images_training_rev1/965645.jpg  \n",
            "  inflating: images_training_rev1/965652.jpg  \n",
            "  inflating: images_training_rev1/965669.jpg  \n",
            "  inflating: images_training_rev1/965730.jpg  \n",
            "  inflating: images_training_rev1/965740.jpg  \n",
            "  inflating: images_training_rev1/965755.jpg  \n",
            "  inflating: images_training_rev1/965761.jpg  \n",
            "  inflating: images_training_rev1/965804.jpg  \n",
            "  inflating: images_training_rev1/965817.jpg  \n",
            "  inflating: images_training_rev1/965818.jpg  \n",
            "  inflating: images_training_rev1/965822.jpg  \n",
            "  inflating: images_training_rev1/965848.jpg  \n",
            "  inflating: images_training_rev1/965862.jpg  \n",
            "  inflating: images_training_rev1/965882.jpg  \n",
            "  inflating: images_training_rev1/965924.jpg  \n",
            "  inflating: images_training_rev1/965935.jpg  \n",
            "  inflating: images_training_rev1/965938.jpg  \n",
            "  inflating: images_training_rev1/965944.jpg  \n",
            "  inflating: images_training_rev1/965948.jpg  \n",
            "  inflating: images_training_rev1/965970.jpg  \n",
            "  inflating: images_training_rev1/965990.jpg  \n",
            "  inflating: images_training_rev1/965993.jpg  \n",
            "  inflating: images_training_rev1/965995.jpg  \n",
            "  inflating: images_training_rev1/966001.jpg  \n",
            "  inflating: images_training_rev1/966002.jpg  \n",
            "  inflating: images_training_rev1/966009.jpg  \n",
            "  inflating: images_training_rev1/966012.jpg  \n",
            "  inflating: images_training_rev1/966027.jpg  \n",
            "  inflating: images_training_rev1/966036.jpg  \n",
            "  inflating: images_training_rev1/966047.jpg  \n",
            "  inflating: images_training_rev1/966056.jpg  \n",
            "  inflating: images_training_rev1/966064.jpg  \n",
            "  inflating: images_training_rev1/966091.jpg  \n",
            "  inflating: images_training_rev1/966100.jpg  \n",
            "  inflating: images_training_rev1/966108.jpg  \n",
            "  inflating: images_training_rev1/966123.jpg  \n",
            "  inflating: images_training_rev1/966126.jpg  \n",
            "  inflating: images_training_rev1/966141.jpg  \n",
            "  inflating: images_training_rev1/966149.jpg  \n",
            "  inflating: images_training_rev1/966161.jpg  \n",
            "  inflating: images_training_rev1/966171.jpg  \n",
            "  inflating: images_training_rev1/966196.jpg  \n",
            "  inflating: images_training_rev1/966201.jpg  \n",
            "  inflating: images_training_rev1/966217.jpg  \n",
            "  inflating: images_training_rev1/966243.jpg  \n",
            "  inflating: images_training_rev1/966258.jpg  \n",
            "  inflating: images_training_rev1/966278.jpg  \n",
            "  inflating: images_training_rev1/966287.jpg  \n",
            "  inflating: images_training_rev1/966351.jpg  \n",
            "  inflating: images_training_rev1/966360.jpg  \n",
            "  inflating: images_training_rev1/966379.jpg  \n",
            "  inflating: images_training_rev1/966385.jpg  \n",
            "  inflating: images_training_rev1/966405.jpg  \n",
            "  inflating: images_training_rev1/966420.jpg  \n",
            "  inflating: images_training_rev1/966421.jpg  \n",
            "  inflating: images_training_rev1/966423.jpg  \n",
            "  inflating: images_training_rev1/966429.jpg  \n",
            "  inflating: images_training_rev1/966451.jpg  \n",
            "  inflating: images_training_rev1/966456.jpg  \n",
            "  inflating: images_training_rev1/966481.jpg  \n",
            "  inflating: images_training_rev1/966483.jpg  \n",
            "  inflating: images_training_rev1/966500.jpg  \n",
            "  inflating: images_training_rev1/966505.jpg  \n",
            "  inflating: images_training_rev1/966510.jpg  \n",
            "  inflating: images_training_rev1/966511.jpg  \n",
            "  inflating: images_training_rev1/966521.jpg  \n",
            "  inflating: images_training_rev1/966524.jpg  \n",
            "  inflating: images_training_rev1/966536.jpg  \n",
            "  inflating: images_training_rev1/966547.jpg  \n",
            "  inflating: images_training_rev1/966557.jpg  \n",
            "  inflating: images_training_rev1/966558.jpg  \n",
            "  inflating: images_training_rev1/966564.jpg  \n",
            "  inflating: images_training_rev1/966576.jpg  \n",
            "  inflating: images_training_rev1/966594.jpg  \n",
            "  inflating: images_training_rev1/966602.jpg  \n",
            "  inflating: images_training_rev1/966604.jpg  \n",
            "  inflating: images_training_rev1/966618.jpg  \n",
            "  inflating: images_training_rev1/966621.jpg  \n",
            "  inflating: images_training_rev1/966628.jpg  \n",
            "  inflating: images_training_rev1/966631.jpg  \n",
            "  inflating: images_training_rev1/966634.jpg  \n",
            "  inflating: images_training_rev1/966658.jpg  \n",
            "  inflating: images_training_rev1/966662.jpg  \n",
            "  inflating: images_training_rev1/966700.jpg  \n",
            "  inflating: images_training_rev1/966729.jpg  \n",
            "  inflating: images_training_rev1/966730.jpg  \n",
            "  inflating: images_training_rev1/966748.jpg  \n",
            "  inflating: images_training_rev1/966756.jpg  \n",
            "  inflating: images_training_rev1/966759.jpg  \n",
            "  inflating: images_training_rev1/966761.jpg  \n",
            "  inflating: images_training_rev1/966772.jpg  \n",
            "  inflating: images_training_rev1/966775.jpg  \n",
            "  inflating: images_training_rev1/966781.jpg  \n",
            "  inflating: images_training_rev1/966788.jpg  \n",
            "  inflating: images_training_rev1/966790.jpg  \n",
            "  inflating: images_training_rev1/966810.jpg  \n",
            "  inflating: images_training_rev1/966817.jpg  \n",
            "  inflating: images_training_rev1/966833.jpg  \n",
            "  inflating: images_training_rev1/966881.jpg  \n",
            "  inflating: images_training_rev1/966887.jpg  \n",
            "  inflating: images_training_rev1/966902.jpg  \n",
            "  inflating: images_training_rev1/966923.jpg  \n",
            "  inflating: images_training_rev1/966924.jpg  \n",
            "  inflating: images_training_rev1/966950.jpg  \n",
            "  inflating: images_training_rev1/966964.jpg  \n",
            "  inflating: images_training_rev1/966973.jpg  \n",
            "  inflating: images_training_rev1/966978.jpg  \n",
            "  inflating: images_training_rev1/966989.jpg  \n",
            "  inflating: images_training_rev1/967019.jpg  \n",
            "  inflating: images_training_rev1/967028.jpg  \n",
            "  inflating: images_training_rev1/967040.jpg  \n",
            "  inflating: images_training_rev1/967058.jpg  \n",
            "  inflating: images_training_rev1/967062.jpg  \n",
            "  inflating: images_training_rev1/967095.jpg  \n",
            "  inflating: images_training_rev1/967125.jpg  \n",
            "  inflating: images_training_rev1/967148.jpg  \n",
            "  inflating: images_training_rev1/967153.jpg  \n",
            "  inflating: images_training_rev1/967162.jpg  \n",
            "  inflating: images_training_rev1/967193.jpg  \n",
            "  inflating: images_training_rev1/967197.jpg  \n",
            "  inflating: images_training_rev1/967202.jpg  \n",
            "  inflating: images_training_rev1/967207.jpg  \n",
            "  inflating: images_training_rev1/967213.jpg  \n",
            "  inflating: images_training_rev1/967227.jpg  \n",
            "  inflating: images_training_rev1/967230.jpg  \n",
            "  inflating: images_training_rev1/967247.jpg  \n",
            "  inflating: images_training_rev1/967249.jpg  \n",
            "  inflating: images_training_rev1/967267.jpg  \n",
            "  inflating: images_training_rev1/967280.jpg  \n",
            "  inflating: images_training_rev1/967288.jpg  \n",
            "  inflating: images_training_rev1/967293.jpg  \n",
            "  inflating: images_training_rev1/967300.jpg  \n",
            "  inflating: images_training_rev1/967306.jpg  \n",
            "  inflating: images_training_rev1/967309.jpg  \n",
            "  inflating: images_training_rev1/967326.jpg  \n",
            "  inflating: images_training_rev1/967330.jpg  \n",
            "  inflating: images_training_rev1/967335.jpg  \n",
            "  inflating: images_training_rev1/967342.jpg  \n",
            "  inflating: images_training_rev1/967402.jpg  \n",
            "  inflating: images_training_rev1/967428.jpg  \n",
            "  inflating: images_training_rev1/967440.jpg  \n",
            "  inflating: images_training_rev1/967442.jpg  \n",
            "  inflating: images_training_rev1/967448.jpg  \n",
            "  inflating: images_training_rev1/967452.jpg  \n",
            "  inflating: images_training_rev1/967461.jpg  \n",
            "  inflating: images_training_rev1/967466.jpg  \n",
            "  inflating: images_training_rev1/967467.jpg  \n",
            "  inflating: images_training_rev1/967481.jpg  \n",
            "  inflating: images_training_rev1/967491.jpg  \n",
            "  inflating: images_training_rev1/967498.jpg  \n",
            "  inflating: images_training_rev1/967522.jpg  \n",
            "  inflating: images_training_rev1/967582.jpg  \n",
            "  inflating: images_training_rev1/967592.jpg  \n",
            "  inflating: images_training_rev1/967593.jpg  \n",
            "  inflating: images_training_rev1/967633.jpg  \n",
            "  inflating: images_training_rev1/967637.jpg  \n",
            "  inflating: images_training_rev1/967653.jpg  \n",
            "  inflating: images_training_rev1/967663.jpg  \n",
            "  inflating: images_training_rev1/967668.jpg  \n",
            "  inflating: images_training_rev1/967689.jpg  \n",
            "  inflating: images_training_rev1/967705.jpg  \n",
            "  inflating: images_training_rev1/967720.jpg  \n",
            "  inflating: images_training_rev1/967746.jpg  \n",
            "  inflating: images_training_rev1/967747.jpg  \n",
            "  inflating: images_training_rev1/967767.jpg  \n",
            "  inflating: images_training_rev1/967797.jpg  \n",
            "  inflating: images_training_rev1/967803.jpg  \n",
            "  inflating: images_training_rev1/967823.jpg  \n",
            "  inflating: images_training_rev1/967838.jpg  \n",
            "  inflating: images_training_rev1/967882.jpg  \n",
            "  inflating: images_training_rev1/967884.jpg  \n",
            "  inflating: images_training_rev1/967966.jpg  \n",
            "  inflating: images_training_rev1/967972.jpg  \n",
            "  inflating: images_training_rev1/967985.jpg  \n",
            "  inflating: images_training_rev1/968012.jpg  \n",
            "  inflating: images_training_rev1/968055.jpg  \n",
            "  inflating: images_training_rev1/968078.jpg  \n",
            "  inflating: images_training_rev1/968095.jpg  \n",
            "  inflating: images_training_rev1/968114.jpg  \n",
            "  inflating: images_training_rev1/968135.jpg  \n",
            "  inflating: images_training_rev1/968137.jpg  \n",
            "  inflating: images_training_rev1/968161.jpg  \n",
            "  inflating: images_training_rev1/968182.jpg  \n",
            "  inflating: images_training_rev1/968186.jpg  \n",
            "  inflating: images_training_rev1/968187.jpg  \n",
            "  inflating: images_training_rev1/968210.jpg  \n",
            "  inflating: images_training_rev1/968214.jpg  \n",
            "  inflating: images_training_rev1/968222.jpg  \n",
            "  inflating: images_training_rev1/968229.jpg  \n",
            "  inflating: images_training_rev1/968263.jpg  \n",
            "  inflating: images_training_rev1/968274.jpg  \n",
            "  inflating: images_training_rev1/968278.jpg  \n",
            "  inflating: images_training_rev1/968289.jpg  \n",
            "  inflating: images_training_rev1/968297.jpg  \n",
            "  inflating: images_training_rev1/968306.jpg  \n",
            "  inflating: images_training_rev1/968321.jpg  \n",
            "  inflating: images_training_rev1/968328.jpg  \n",
            "  inflating: images_training_rev1/968336.jpg  \n",
            "  inflating: images_training_rev1/968367.jpg  \n",
            "  inflating: images_training_rev1/968387.jpg  \n",
            "  inflating: images_training_rev1/968396.jpg  \n",
            "  inflating: images_training_rev1/968398.jpg  \n",
            "  inflating: images_training_rev1/968400.jpg  \n",
            "  inflating: images_training_rev1/968401.jpg  \n",
            "  inflating: images_training_rev1/968412.jpg  \n",
            "  inflating: images_training_rev1/968422.jpg  \n",
            "  inflating: images_training_rev1/968441.jpg  \n",
            "  inflating: images_training_rev1/968471.jpg  \n",
            "  inflating: images_training_rev1/968503.jpg  \n",
            "  inflating: images_training_rev1/968512.jpg  \n",
            "  inflating: images_training_rev1/968520.jpg  \n",
            "  inflating: images_training_rev1/968521.jpg  \n",
            "  inflating: images_training_rev1/968525.jpg  \n",
            "  inflating: images_training_rev1/968527.jpg  \n",
            "  inflating: images_training_rev1/968528.jpg  \n",
            "  inflating: images_training_rev1/968553.jpg  \n",
            "  inflating: images_training_rev1/968564.jpg  \n",
            "  inflating: images_training_rev1/968571.jpg  \n",
            "  inflating: images_training_rev1/968576.jpg  \n",
            "  inflating: images_training_rev1/968579.jpg  \n",
            "  inflating: images_training_rev1/968586.jpg  \n",
            "  inflating: images_training_rev1/968621.jpg  \n",
            "  inflating: images_training_rev1/968628.jpg  \n",
            "  inflating: images_training_rev1/968630.jpg  \n",
            "  inflating: images_training_rev1/968633.jpg  \n",
            "  inflating: images_training_rev1/968640.jpg  \n",
            "  inflating: images_training_rev1/968646.jpg  \n",
            "  inflating: images_training_rev1/968648.jpg  \n",
            "  inflating: images_training_rev1/968651.jpg  \n",
            "  inflating: images_training_rev1/968652.jpg  \n",
            "  inflating: images_training_rev1/968656.jpg  \n",
            "  inflating: images_training_rev1/968699.jpg  \n",
            "  inflating: images_training_rev1/968702.jpg  \n",
            "  inflating: images_training_rev1/968718.jpg  \n",
            "  inflating: images_training_rev1/968721.jpg  \n",
            "  inflating: images_training_rev1/968730.jpg  \n",
            "  inflating: images_training_rev1/968758.jpg  \n",
            "  inflating: images_training_rev1/968771.jpg  \n",
            "  inflating: images_training_rev1/968783.jpg  \n",
            "  inflating: images_training_rev1/968789.jpg  \n",
            "  inflating: images_training_rev1/968793.jpg  \n",
            "  inflating: images_training_rev1/968822.jpg  \n",
            "  inflating: images_training_rev1/968844.jpg  \n",
            "  inflating: images_training_rev1/968845.jpg  \n",
            "  inflating: images_training_rev1/968853.jpg  \n",
            "  inflating: images_training_rev1/968854.jpg  \n",
            "  inflating: images_training_rev1/968873.jpg  \n",
            "  inflating: images_training_rev1/968885.jpg  \n",
            "  inflating: images_training_rev1/968893.jpg  \n",
            "  inflating: images_training_rev1/968962.jpg  \n",
            "  inflating: images_training_rev1/968967.jpg  \n",
            "  inflating: images_training_rev1/968970.jpg  \n",
            "  inflating: images_training_rev1/968975.jpg  \n",
            "  inflating: images_training_rev1/968980.jpg  \n",
            "  inflating: images_training_rev1/968988.jpg  \n",
            "  inflating: images_training_rev1/969004.jpg  \n",
            "  inflating: images_training_rev1/969010.jpg  \n",
            "  inflating: images_training_rev1/969019.jpg  \n",
            "  inflating: images_training_rev1/969047.jpg  \n",
            "  inflating: images_training_rev1/969054.jpg  \n",
            "  inflating: images_training_rev1/969066.jpg  \n",
            "  inflating: images_training_rev1/969070.jpg  \n",
            "  inflating: images_training_rev1/969071.jpg  \n",
            "  inflating: images_training_rev1/969112.jpg  \n",
            "  inflating: images_training_rev1/969129.jpg  \n",
            "  inflating: images_training_rev1/969139.jpg  \n",
            "  inflating: images_training_rev1/969149.jpg  \n",
            "  inflating: images_training_rev1/969162.jpg  \n",
            "  inflating: images_training_rev1/969179.jpg  \n",
            "  inflating: images_training_rev1/969230.jpg  \n",
            "  inflating: images_training_rev1/969232.jpg  \n",
            "  inflating: images_training_rev1/969238.jpg  \n",
            "  inflating: images_training_rev1/969245.jpg  \n",
            "  inflating: images_training_rev1/969249.jpg  \n",
            "  inflating: images_training_rev1/969251.jpg  \n",
            "  inflating: images_training_rev1/969262.jpg  \n",
            "  inflating: images_training_rev1/969297.jpg  \n",
            "  inflating: images_training_rev1/969315.jpg  \n",
            "  inflating: images_training_rev1/969329.jpg  \n",
            "  inflating: images_training_rev1/969338.jpg  \n",
            "  inflating: images_training_rev1/969347.jpg  \n",
            "  inflating: images_training_rev1/969358.jpg  \n",
            "  inflating: images_training_rev1/969366.jpg  \n",
            "  inflating: images_training_rev1/969376.jpg  \n",
            "  inflating: images_training_rev1/969385.jpg  \n",
            "  inflating: images_training_rev1/969390.jpg  \n",
            "  inflating: images_training_rev1/969418.jpg  \n",
            "  inflating: images_training_rev1/969451.jpg  \n",
            "  inflating: images_training_rev1/969455.jpg  \n",
            "  inflating: images_training_rev1/969480.jpg  \n",
            "  inflating: images_training_rev1/969528.jpg  \n",
            "  inflating: images_training_rev1/969530.jpg  \n",
            "  inflating: images_training_rev1/969580.jpg  \n",
            "  inflating: images_training_rev1/969614.jpg  \n",
            "  inflating: images_training_rev1/969616.jpg  \n",
            "  inflating: images_training_rev1/969630.jpg  \n",
            "  inflating: images_training_rev1/969631.jpg  \n",
            "  inflating: images_training_rev1/969634.jpg  \n",
            "  inflating: images_training_rev1/969645.jpg  \n",
            "  inflating: images_training_rev1/969682.jpg  \n",
            "  inflating: images_training_rev1/969697.jpg  \n",
            "  inflating: images_training_rev1/969703.jpg  \n",
            "  inflating: images_training_rev1/969720.jpg  \n",
            "  inflating: images_training_rev1/969724.jpg  \n",
            "  inflating: images_training_rev1/969744.jpg  \n",
            "  inflating: images_training_rev1/969747.jpg  \n",
            "  inflating: images_training_rev1/969748.jpg  \n",
            "  inflating: images_training_rev1/969764.jpg  \n",
            "  inflating: images_training_rev1/969769.jpg  \n",
            "  inflating: images_training_rev1/969770.jpg  \n",
            "  inflating: images_training_rev1/969800.jpg  \n",
            "  inflating: images_training_rev1/969828.jpg  \n",
            "  inflating: images_training_rev1/969831.jpg  \n",
            "  inflating: images_training_rev1/969856.jpg  \n",
            "  inflating: images_training_rev1/969868.jpg  \n",
            "  inflating: images_training_rev1/969876.jpg  \n",
            "  inflating: images_training_rev1/969892.jpg  \n",
            "  inflating: images_training_rev1/969908.jpg  \n",
            "  inflating: images_training_rev1/969931.jpg  \n",
            "  inflating: images_training_rev1/969938.jpg  \n",
            "  inflating: images_training_rev1/969947.jpg  \n",
            "  inflating: images_training_rev1/969977.jpg  \n",
            "  inflating: images_training_rev1/969981.jpg  \n",
            "  inflating: images_training_rev1/969991.jpg  \n",
            "  inflating: images_training_rev1/969992.jpg  \n",
            "  inflating: images_training_rev1/970004.jpg  \n",
            "  inflating: images_training_rev1/970014.jpg  \n",
            "  inflating: images_training_rev1/970034.jpg  \n",
            "  inflating: images_training_rev1/970046.jpg  \n",
            "  inflating: images_training_rev1/970050.jpg  \n",
            "  inflating: images_training_rev1/970055.jpg  \n",
            "  inflating: images_training_rev1/970075.jpg  \n",
            "  inflating: images_training_rev1/970092.jpg  \n",
            "  inflating: images_training_rev1/970110.jpg  \n",
            "  inflating: images_training_rev1/970116.jpg  \n",
            "  inflating: images_training_rev1/970126.jpg  \n",
            "  inflating: images_training_rev1/970203.jpg  \n",
            "  inflating: images_training_rev1/970215.jpg  \n",
            "  inflating: images_training_rev1/970216.jpg  \n",
            "  inflating: images_training_rev1/970225.jpg  \n",
            "  inflating: images_training_rev1/970242.jpg  \n",
            "  inflating: images_training_rev1/970244.jpg  \n",
            "  inflating: images_training_rev1/970247.jpg  \n",
            "  inflating: images_training_rev1/970256.jpg  \n",
            "  inflating: images_training_rev1/970268.jpg  \n",
            "  inflating: images_training_rev1/970277.jpg  \n",
            "  inflating: images_training_rev1/970291.jpg  \n",
            "  inflating: images_training_rev1/970294.jpg  \n",
            "  inflating: images_training_rev1/970305.jpg  \n",
            "  inflating: images_training_rev1/970306.jpg  \n",
            "  inflating: images_training_rev1/970317.jpg  \n",
            "  inflating: images_training_rev1/970327.jpg  \n",
            "  inflating: images_training_rev1/970328.jpg  \n",
            "  inflating: images_training_rev1/970354.jpg  \n",
            "  inflating: images_training_rev1/970365.jpg  \n",
            "  inflating: images_training_rev1/970374.jpg  \n",
            "  inflating: images_training_rev1/970381.jpg  \n",
            "  inflating: images_training_rev1/970389.jpg  \n",
            "  inflating: images_training_rev1/970390.jpg  \n",
            "  inflating: images_training_rev1/970398.jpg  \n",
            "  inflating: images_training_rev1/970416.jpg  \n",
            "  inflating: images_training_rev1/970423.jpg  \n",
            "  inflating: images_training_rev1/970438.jpg  \n",
            "  inflating: images_training_rev1/970448.jpg  \n",
            "  inflating: images_training_rev1/970474.jpg  \n",
            "  inflating: images_training_rev1/970507.jpg  \n",
            "  inflating: images_training_rev1/970529.jpg  \n",
            "  inflating: images_training_rev1/970533.jpg  \n",
            "  inflating: images_training_rev1/970545.jpg  \n",
            "  inflating: images_training_rev1/970550.jpg  \n",
            "  inflating: images_training_rev1/970584.jpg  \n",
            "  inflating: images_training_rev1/970625.jpg  \n",
            "  inflating: images_training_rev1/970633.jpg  \n",
            "  inflating: images_training_rev1/970642.jpg  \n",
            "  inflating: images_training_rev1/970686.jpg  \n",
            "  inflating: images_training_rev1/970688.jpg  \n",
            "  inflating: images_training_rev1/970723.jpg  \n",
            "  inflating: images_training_rev1/970725.jpg  \n",
            "  inflating: images_training_rev1/970737.jpg  \n",
            "  inflating: images_training_rev1/970782.jpg  \n",
            "  inflating: images_training_rev1/970798.jpg  \n",
            "  inflating: images_training_rev1/970825.jpg  \n",
            "  inflating: images_training_rev1/970837.jpg  \n",
            "  inflating: images_training_rev1/970839.jpg  \n",
            "  inflating: images_training_rev1/970879.jpg  \n",
            "  inflating: images_training_rev1/970883.jpg  \n",
            "  inflating: images_training_rev1/970888.jpg  \n",
            "  inflating: images_training_rev1/970901.jpg  \n",
            "  inflating: images_training_rev1/970926.jpg  \n",
            "  inflating: images_training_rev1/970929.jpg  \n",
            "  inflating: images_training_rev1/970930.jpg  \n",
            "  inflating: images_training_rev1/970968.jpg  \n",
            "  inflating: images_training_rev1/970981.jpg  \n",
            "  inflating: images_training_rev1/970997.jpg  \n",
            "  inflating: images_training_rev1/971074.jpg  \n",
            "  inflating: images_training_rev1/971089.jpg  \n",
            "  inflating: images_training_rev1/971092.jpg  \n",
            "  inflating: images_training_rev1/971093.jpg  \n",
            "  inflating: images_training_rev1/971096.jpg  \n",
            "  inflating: images_training_rev1/971107.jpg  \n",
            "  inflating: images_training_rev1/971114.jpg  \n",
            "  inflating: images_training_rev1/971128.jpg  \n",
            "  inflating: images_training_rev1/971144.jpg  \n",
            "  inflating: images_training_rev1/971146.jpg  \n",
            "  inflating: images_training_rev1/971161.jpg  \n",
            "  inflating: images_training_rev1/971170.jpg  \n",
            "  inflating: images_training_rev1/971181.jpg  \n",
            "  inflating: images_training_rev1/971187.jpg  \n",
            "  inflating: images_training_rev1/971255.jpg  \n",
            "  inflating: images_training_rev1/971275.jpg  \n",
            "  inflating: images_training_rev1/971283.jpg  \n",
            "  inflating: images_training_rev1/971286.jpg  \n",
            "  inflating: images_training_rev1/971300.jpg  \n",
            "  inflating: images_training_rev1/971303.jpg  \n",
            "  inflating: images_training_rev1/971307.jpg  \n",
            "  inflating: images_training_rev1/971308.jpg  \n",
            "  inflating: images_training_rev1/971340.jpg  \n",
            "  inflating: images_training_rev1/971346.jpg  \n",
            "  inflating: images_training_rev1/971371.jpg  \n",
            "  inflating: images_training_rev1/971378.jpg  \n",
            "  inflating: images_training_rev1/971392.jpg  \n",
            "  inflating: images_training_rev1/971402.jpg  \n",
            "  inflating: images_training_rev1/971442.jpg  \n",
            "  inflating: images_training_rev1/971461.jpg  \n",
            "  inflating: images_training_rev1/971465.jpg  \n",
            "  inflating: images_training_rev1/971480.jpg  \n",
            "  inflating: images_training_rev1/971508.jpg  \n",
            "  inflating: images_training_rev1/971544.jpg  \n",
            "  inflating: images_training_rev1/971569.jpg  \n",
            "  inflating: images_training_rev1/971571.jpg  \n",
            "  inflating: images_training_rev1/971598.jpg  \n",
            "  inflating: images_training_rev1/971603.jpg  \n",
            "  inflating: images_training_rev1/971622.jpg  \n",
            "  inflating: images_training_rev1/971625.jpg  \n",
            "  inflating: images_training_rev1/971634.jpg  \n",
            "  inflating: images_training_rev1/971672.jpg  \n",
            "  inflating: images_training_rev1/971675.jpg  \n",
            "  inflating: images_training_rev1/971705.jpg  \n",
            "  inflating: images_training_rev1/971714.jpg  \n",
            "  inflating: images_training_rev1/971732.jpg  \n",
            "  inflating: images_training_rev1/971738.jpg  \n",
            "  inflating: images_training_rev1/971744.jpg  \n",
            "  inflating: images_training_rev1/971746.jpg  \n",
            "  inflating: images_training_rev1/971749.jpg  \n",
            "  inflating: images_training_rev1/971757.jpg  \n",
            "  inflating: images_training_rev1/971762.jpg  \n",
            "  inflating: images_training_rev1/971783.jpg  \n",
            "  inflating: images_training_rev1/971791.jpg  \n",
            "  inflating: images_training_rev1/971793.jpg  \n",
            "  inflating: images_training_rev1/971852.jpg  \n",
            "  inflating: images_training_rev1/971854.jpg  \n",
            "  inflating: images_training_rev1/971859.jpg  \n",
            "  inflating: images_training_rev1/971865.jpg  \n",
            "  inflating: images_training_rev1/971919.jpg  \n",
            "  inflating: images_training_rev1/971926.jpg  \n",
            "  inflating: images_training_rev1/971969.jpg  \n",
            "  inflating: images_training_rev1/971971.jpg  \n",
            "  inflating: images_training_rev1/971991.jpg  \n",
            "  inflating: images_training_rev1/971995.jpg  \n",
            "  inflating: images_training_rev1/971996.jpg  \n",
            "  inflating: images_training_rev1/972012.jpg  \n",
            "  inflating: images_training_rev1/972014.jpg  \n",
            "  inflating: images_training_rev1/972053.jpg  \n",
            "  inflating: images_training_rev1/972077.jpg  \n",
            "  inflating: images_training_rev1/972086.jpg  \n",
            "  inflating: images_training_rev1/972100.jpg  \n",
            "  inflating: images_training_rev1/972109.jpg  \n",
            "  inflating: images_training_rev1/972120.jpg  \n",
            "  inflating: images_training_rev1/972132.jpg  \n",
            "  inflating: images_training_rev1/972140.jpg  \n",
            "  inflating: images_training_rev1/972148.jpg  \n",
            "  inflating: images_training_rev1/972191.jpg  \n",
            "  inflating: images_training_rev1/972195.jpg  \n",
            "  inflating: images_training_rev1/972257.jpg  \n",
            "  inflating: images_training_rev1/972267.jpg  \n",
            "  inflating: images_training_rev1/972290.jpg  \n",
            "  inflating: images_training_rev1/972293.jpg  \n",
            "  inflating: images_training_rev1/972301.jpg  \n",
            "  inflating: images_training_rev1/972308.jpg  \n",
            "  inflating: images_training_rev1/972309.jpg  \n",
            "  inflating: images_training_rev1/972323.jpg  \n",
            "  inflating: images_training_rev1/972358.jpg  \n",
            "  inflating: images_training_rev1/972381.jpg  \n",
            "  inflating: images_training_rev1/972383.jpg  \n",
            "  inflating: images_training_rev1/972470.jpg  \n",
            "  inflating: images_training_rev1/972472.jpg  \n",
            "  inflating: images_training_rev1/972473.jpg  \n",
            "  inflating: images_training_rev1/972504.jpg  \n",
            "  inflating: images_training_rev1/972510.jpg  \n",
            "  inflating: images_training_rev1/972550.jpg  \n",
            "  inflating: images_training_rev1/972556.jpg  \n",
            "  inflating: images_training_rev1/972560.jpg  \n",
            "  inflating: images_training_rev1/972569.jpg  \n",
            "  inflating: images_training_rev1/972584.jpg  \n",
            "  inflating: images_training_rev1/972616.jpg  \n",
            "  inflating: images_training_rev1/972618.jpg  \n",
            "  inflating: images_training_rev1/972634.jpg  \n",
            "  inflating: images_training_rev1/972656.jpg  \n",
            "  inflating: images_training_rev1/972658.jpg  \n",
            "  inflating: images_training_rev1/972670.jpg  \n",
            "  inflating: images_training_rev1/972725.jpg  \n",
            "  inflating: images_training_rev1/972727.jpg  \n",
            "  inflating: images_training_rev1/972736.jpg  \n",
            "  inflating: images_training_rev1/972744.jpg  \n",
            "  inflating: images_training_rev1/972746.jpg  \n",
            "  inflating: images_training_rev1/972769.jpg  \n",
            "  inflating: images_training_rev1/972793.jpg  \n",
            "  inflating: images_training_rev1/972815.jpg  \n",
            "  inflating: images_training_rev1/972824.jpg  \n",
            "  inflating: images_training_rev1/972826.jpg  \n",
            "  inflating: images_training_rev1/972839.jpg  \n",
            "  inflating: images_training_rev1/972877.jpg  \n",
            "  inflating: images_training_rev1/972925.jpg  \n",
            "  inflating: images_training_rev1/972926.jpg  \n",
            "  inflating: images_training_rev1/972974.jpg  \n",
            "  inflating: images_training_rev1/972981.jpg  \n",
            "  inflating: images_training_rev1/973036.jpg  \n",
            "  inflating: images_training_rev1/973046.jpg  \n",
            "  inflating: images_training_rev1/973054.jpg  \n",
            "  inflating: images_training_rev1/973066.jpg  \n",
            "  inflating: images_training_rev1/973102.jpg  \n",
            "  inflating: images_training_rev1/973104.jpg  \n",
            "  inflating: images_training_rev1/973127.jpg  \n",
            "  inflating: images_training_rev1/973168.jpg  \n",
            "  inflating: images_training_rev1/973207.jpg  \n",
            "  inflating: images_training_rev1/973244.jpg  \n",
            "  inflating: images_training_rev1/973252.jpg  \n",
            "  inflating: images_training_rev1/973265.jpg  \n",
            "  inflating: images_training_rev1/973266.jpg  \n",
            "  inflating: images_training_rev1/973312.jpg  \n",
            "  inflating: images_training_rev1/973325.jpg  \n",
            "  inflating: images_training_rev1/973334.jpg  \n",
            "  inflating: images_training_rev1/973362.jpg  \n",
            "  inflating: images_training_rev1/973368.jpg  \n",
            "  inflating: images_training_rev1/973380.jpg  \n",
            "  inflating: images_training_rev1/973389.jpg  \n",
            "  inflating: images_training_rev1/973401.jpg  \n",
            "  inflating: images_training_rev1/973412.jpg  \n",
            "  inflating: images_training_rev1/973459.jpg  \n",
            "  inflating: images_training_rev1/973460.jpg  \n",
            "  inflating: images_training_rev1/973504.jpg  \n",
            "  inflating: images_training_rev1/973543.jpg  \n",
            "  inflating: images_training_rev1/973562.jpg  \n",
            "  inflating: images_training_rev1/973565.jpg  \n",
            "  inflating: images_training_rev1/973602.jpg  \n",
            "  inflating: images_training_rev1/973618.jpg  \n",
            "  inflating: images_training_rev1/973654.jpg  \n",
            "  inflating: images_training_rev1/973675.jpg  \n",
            "  inflating: images_training_rev1/973680.jpg  \n",
            "  inflating: images_training_rev1/973694.jpg  \n",
            "  inflating: images_training_rev1/973707.jpg  \n",
            "  inflating: images_training_rev1/973772.jpg  \n",
            "  inflating: images_training_rev1/973781.jpg  \n",
            "  inflating: images_training_rev1/973787.jpg  \n",
            "  inflating: images_training_rev1/973804.jpg  \n",
            "  inflating: images_training_rev1/973817.jpg  \n",
            "  inflating: images_training_rev1/973819.jpg  \n",
            "  inflating: images_training_rev1/973835.jpg  \n",
            "  inflating: images_training_rev1/973841.jpg  \n",
            "  inflating: images_training_rev1/973875.jpg  \n",
            "  inflating: images_training_rev1/973889.jpg  \n",
            "  inflating: images_training_rev1/973931.jpg  \n",
            "  inflating: images_training_rev1/973939.jpg  \n",
            "  inflating: images_training_rev1/973952.jpg  \n",
            "  inflating: images_training_rev1/973954.jpg  \n",
            "  inflating: images_training_rev1/973958.jpg  \n",
            "  inflating: images_training_rev1/973998.jpg  \n",
            "  inflating: images_training_rev1/973999.jpg  \n",
            "  inflating: images_training_rev1/974009.jpg  \n",
            "  inflating: images_training_rev1/974010.jpg  \n",
            "  inflating: images_training_rev1/974023.jpg  \n",
            "  inflating: images_training_rev1/974049.jpg  \n",
            "  inflating: images_training_rev1/974050.jpg  \n",
            "  inflating: images_training_rev1/974058.jpg  \n",
            "  inflating: images_training_rev1/974059.jpg  \n",
            "  inflating: images_training_rev1/974064.jpg  \n",
            "  inflating: images_training_rev1/974069.jpg  \n",
            "  inflating: images_training_rev1/974070.jpg  \n",
            "  inflating: images_training_rev1/974076.jpg  \n",
            "  inflating: images_training_rev1/974077.jpg  \n",
            "  inflating: images_training_rev1/974102.jpg  \n",
            "  inflating: images_training_rev1/974120.jpg  \n",
            "  inflating: images_training_rev1/974122.jpg  \n",
            "  inflating: images_training_rev1/974146.jpg  \n",
            "  inflating: images_training_rev1/974156.jpg  \n",
            "  inflating: images_training_rev1/974163.jpg  \n",
            "  inflating: images_training_rev1/974164.jpg  \n",
            "  inflating: images_training_rev1/974182.jpg  \n",
            "  inflating: images_training_rev1/974184.jpg  \n",
            "  inflating: images_training_rev1/974209.jpg  \n",
            "  inflating: images_training_rev1/974217.jpg  \n",
            "  inflating: images_training_rev1/974238.jpg  \n",
            "  inflating: images_training_rev1/974250.jpg  \n",
            "  inflating: images_training_rev1/974263.jpg  \n",
            "  inflating: images_training_rev1/974279.jpg  \n",
            "  inflating: images_training_rev1/974283.jpg  \n",
            "  inflating: images_training_rev1/974286.jpg  \n",
            "  inflating: images_training_rev1/974290.jpg  \n",
            "  inflating: images_training_rev1/974313.jpg  \n",
            "  inflating: images_training_rev1/974326.jpg  \n",
            "  inflating: images_training_rev1/974342.jpg  \n",
            "  inflating: images_training_rev1/974348.jpg  \n",
            "  inflating: images_training_rev1/974365.jpg  \n",
            "  inflating: images_training_rev1/974374.jpg  \n",
            "  inflating: images_training_rev1/974390.jpg  \n",
            "  inflating: images_training_rev1/974400.jpg  \n",
            "  inflating: images_training_rev1/974427.jpg  \n",
            "  inflating: images_training_rev1/974438.jpg  \n",
            "  inflating: images_training_rev1/974446.jpg  \n",
            "  inflating: images_training_rev1/974458.jpg  \n",
            "  inflating: images_training_rev1/974476.jpg  \n",
            "  inflating: images_training_rev1/974517.jpg  \n",
            "  inflating: images_training_rev1/974522.jpg  \n",
            "  inflating: images_training_rev1/974599.jpg  \n",
            "  inflating: images_training_rev1/974606.jpg  \n",
            "  inflating: images_training_rev1/974610.jpg  \n",
            "  inflating: images_training_rev1/974619.jpg  \n",
            "  inflating: images_training_rev1/974623.jpg  \n",
            "  inflating: images_training_rev1/974638.jpg  \n",
            "  inflating: images_training_rev1/974674.jpg  \n",
            "  inflating: images_training_rev1/974685.jpg  \n",
            "  inflating: images_training_rev1/974702.jpg  \n",
            "  inflating: images_training_rev1/974740.jpg  \n",
            "  inflating: images_training_rev1/974741.jpg  \n",
            "  inflating: images_training_rev1/974745.jpg  \n",
            "  inflating: images_training_rev1/974746.jpg  \n",
            "  inflating: images_training_rev1/974749.jpg  \n",
            "  inflating: images_training_rev1/974750.jpg  \n",
            "  inflating: images_training_rev1/974767.jpg  \n",
            "  inflating: images_training_rev1/974779.jpg  \n",
            "  inflating: images_training_rev1/974787.jpg  \n",
            "  inflating: images_training_rev1/974800.jpg  \n",
            "  inflating: images_training_rev1/974801.jpg  \n",
            "  inflating: images_training_rev1/974831.jpg  \n",
            "  inflating: images_training_rev1/974883.jpg  \n",
            "  inflating: images_training_rev1/974902.jpg  \n",
            "  inflating: images_training_rev1/974918.jpg  \n",
            "  inflating: images_training_rev1/974945.jpg  \n",
            "  inflating: images_training_rev1/974958.jpg  \n",
            "  inflating: images_training_rev1/974974.jpg  \n",
            "  inflating: images_training_rev1/974982.jpg  \n",
            "  inflating: images_training_rev1/974995.jpg  \n",
            "  inflating: images_training_rev1/975001.jpg  \n",
            "  inflating: images_training_rev1/975003.jpg  \n",
            "  inflating: images_training_rev1/975036.jpg  \n",
            "  inflating: images_training_rev1/975039.jpg  \n",
            "  inflating: images_training_rev1/975050.jpg  \n",
            "  inflating: images_training_rev1/975055.jpg  \n",
            "  inflating: images_training_rev1/975062.jpg  \n",
            "  inflating: images_training_rev1/975075.jpg  \n",
            "  inflating: images_training_rev1/975080.jpg  \n",
            "  inflating: images_training_rev1/975127.jpg  \n",
            "  inflating: images_training_rev1/975169.jpg  \n",
            "  inflating: images_training_rev1/975191.jpg  \n",
            "  inflating: images_training_rev1/975203.jpg  \n",
            "  inflating: images_training_rev1/975207.jpg  \n",
            "  inflating: images_training_rev1/975209.jpg  \n",
            "  inflating: images_training_rev1/975214.jpg  \n",
            "  inflating: images_training_rev1/975262.jpg  \n",
            "  inflating: images_training_rev1/975292.jpg  \n",
            "  inflating: images_training_rev1/975297.jpg  \n",
            "  inflating: images_training_rev1/975314.jpg  \n",
            "  inflating: images_training_rev1/975352.jpg  \n",
            "  inflating: images_training_rev1/975379.jpg  \n",
            "  inflating: images_training_rev1/975392.jpg  \n",
            "  inflating: images_training_rev1/975441.jpg  \n",
            "  inflating: images_training_rev1/975444.jpg  \n",
            "  inflating: images_training_rev1/975455.jpg  \n",
            "  inflating: images_training_rev1/975466.jpg  \n",
            "  inflating: images_training_rev1/975467.jpg  \n",
            "  inflating: images_training_rev1/975479.jpg  \n",
            "  inflating: images_training_rev1/975491.jpg  \n",
            "  inflating: images_training_rev1/975524.jpg  \n",
            "  inflating: images_training_rev1/975529.jpg  \n",
            "  inflating: images_training_rev1/975552.jpg  \n",
            "  inflating: images_training_rev1/975555.jpg  \n",
            "  inflating: images_training_rev1/975559.jpg  \n",
            "  inflating: images_training_rev1/975575.jpg  \n",
            "  inflating: images_training_rev1/975586.jpg  \n",
            "  inflating: images_training_rev1/975589.jpg  \n",
            "  inflating: images_training_rev1/975593.jpg  \n",
            "  inflating: images_training_rev1/975595.jpg  \n",
            "  inflating: images_training_rev1/975597.jpg  \n",
            "  inflating: images_training_rev1/975615.jpg  \n",
            "  inflating: images_training_rev1/975621.jpg  \n",
            "  inflating: images_training_rev1/975645.jpg  \n",
            "  inflating: images_training_rev1/975654.jpg  \n",
            "  inflating: images_training_rev1/975666.jpg  \n",
            "  inflating: images_training_rev1/975686.jpg  \n",
            "  inflating: images_training_rev1/975688.jpg  \n",
            "  inflating: images_training_rev1/975689.jpg  \n",
            "  inflating: images_training_rev1/975692.jpg  \n",
            "  inflating: images_training_rev1/975729.jpg  \n",
            "  inflating: images_training_rev1/975757.jpg  \n",
            "  inflating: images_training_rev1/975765.jpg  \n",
            "  inflating: images_training_rev1/975771.jpg  \n",
            "  inflating: images_training_rev1/975784.jpg  \n",
            "  inflating: images_training_rev1/975797.jpg  \n",
            "  inflating: images_training_rev1/975815.jpg  \n",
            "  inflating: images_training_rev1/975828.jpg  \n",
            "  inflating: images_training_rev1/975835.jpg  \n",
            "  inflating: images_training_rev1/975836.jpg  \n",
            "  inflating: images_training_rev1/975894.jpg  \n",
            "  inflating: images_training_rev1/975895.jpg  \n",
            "  inflating: images_training_rev1/975898.jpg  \n",
            "  inflating: images_training_rev1/975919.jpg  \n",
            "  inflating: images_training_rev1/975937.jpg  \n",
            "  inflating: images_training_rev1/975953.jpg  \n",
            "  inflating: images_training_rev1/975974.jpg  \n",
            "  inflating: images_training_rev1/976023.jpg  \n",
            "  inflating: images_training_rev1/976058.jpg  \n",
            "  inflating: images_training_rev1/976059.jpg  \n",
            "  inflating: images_training_rev1/976085.jpg  \n",
            "  inflating: images_training_rev1/976108.jpg  \n",
            "  inflating: images_training_rev1/976118.jpg  \n",
            "  inflating: images_training_rev1/976125.jpg  \n",
            "  inflating: images_training_rev1/976160.jpg  \n",
            "  inflating: images_training_rev1/976164.jpg  \n",
            "  inflating: images_training_rev1/976185.jpg  \n",
            "  inflating: images_training_rev1/976188.jpg  \n",
            "  inflating: images_training_rev1/976191.jpg  \n",
            "  inflating: images_training_rev1/976206.jpg  \n",
            "  inflating: images_training_rev1/976231.jpg  \n",
            "  inflating: images_training_rev1/976251.jpg  \n",
            "  inflating: images_training_rev1/976255.jpg  \n",
            "  inflating: images_training_rev1/976257.jpg  \n",
            "  inflating: images_training_rev1/976279.jpg  \n",
            "  inflating: images_training_rev1/976287.jpg  \n",
            "  inflating: images_training_rev1/976305.jpg  \n",
            "  inflating: images_training_rev1/976358.jpg  \n",
            "  inflating: images_training_rev1/976426.jpg  \n",
            "  inflating: images_training_rev1/976441.jpg  \n",
            "  inflating: images_training_rev1/976458.jpg  \n",
            "  inflating: images_training_rev1/976464.jpg  \n",
            "  inflating: images_training_rev1/976480.jpg  \n",
            "  inflating: images_training_rev1/976502.jpg  \n",
            "  inflating: images_training_rev1/976518.jpg  \n",
            "  inflating: images_training_rev1/976527.jpg  \n",
            "  inflating: images_training_rev1/976534.jpg  \n",
            "  inflating: images_training_rev1/976541.jpg  \n",
            "  inflating: images_training_rev1/976551.jpg  \n",
            "  inflating: images_training_rev1/976565.jpg  \n",
            "  inflating: images_training_rev1/976566.jpg  \n",
            "  inflating: images_training_rev1/976571.jpg  \n",
            "  inflating: images_training_rev1/976602.jpg  \n",
            "  inflating: images_training_rev1/976607.jpg  \n",
            "  inflating: images_training_rev1/976620.jpg  \n",
            "  inflating: images_training_rev1/976623.jpg  \n",
            "  inflating: images_training_rev1/976632.jpg  \n",
            "  inflating: images_training_rev1/976634.jpg  \n",
            "  inflating: images_training_rev1/976637.jpg  \n",
            "  inflating: images_training_rev1/976669.jpg  \n",
            "  inflating: images_training_rev1/976672.jpg  \n",
            "  inflating: images_training_rev1/976703.jpg  \n",
            "  inflating: images_training_rev1/976707.jpg  \n",
            "  inflating: images_training_rev1/976713.jpg  \n",
            "  inflating: images_training_rev1/976725.jpg  \n",
            "  inflating: images_training_rev1/976758.jpg  \n",
            "  inflating: images_training_rev1/976759.jpg  \n",
            "  inflating: images_training_rev1/976763.jpg  \n",
            "  inflating: images_training_rev1/976767.jpg  \n",
            "  inflating: images_training_rev1/976769.jpg  \n",
            "  inflating: images_training_rev1/976793.jpg  \n",
            "  inflating: images_training_rev1/976794.jpg  \n",
            "  inflating: images_training_rev1/976809.jpg  \n",
            "  inflating: images_training_rev1/976822.jpg  \n",
            "  inflating: images_training_rev1/976829.jpg  \n",
            "  inflating: images_training_rev1/976847.jpg  \n",
            "  inflating: images_training_rev1/976855.jpg  \n",
            "  inflating: images_training_rev1/976858.jpg  \n",
            "  inflating: images_training_rev1/976866.jpg  \n",
            "  inflating: images_training_rev1/976884.jpg  \n",
            "  inflating: images_training_rev1/976885.jpg  \n",
            "  inflating: images_training_rev1/976898.jpg  \n",
            "  inflating: images_training_rev1/976902.jpg  \n",
            "  inflating: images_training_rev1/976917.jpg  \n",
            "  inflating: images_training_rev1/976951.jpg  \n",
            "  inflating: images_training_rev1/976957.jpg  \n",
            "  inflating: images_training_rev1/976983.jpg  \n",
            "  inflating: images_training_rev1/976994.jpg  \n",
            "  inflating: images_training_rev1/977000.jpg  \n",
            "  inflating: images_training_rev1/977011.jpg  \n",
            "  inflating: images_training_rev1/977030.jpg  \n",
            "  inflating: images_training_rev1/977034.jpg  \n",
            "  inflating: images_training_rev1/977054.jpg  \n",
            "  inflating: images_training_rev1/977084.jpg  \n",
            "  inflating: images_training_rev1/977126.jpg  \n",
            "  inflating: images_training_rev1/977151.jpg  \n",
            "  inflating: images_training_rev1/977158.jpg  \n",
            "  inflating: images_training_rev1/977178.jpg  \n",
            "  inflating: images_training_rev1/977181.jpg  \n",
            "  inflating: images_training_rev1/977195.jpg  \n",
            "  inflating: images_training_rev1/977221.jpg  \n",
            "  inflating: images_training_rev1/977234.jpg  \n",
            "  inflating: images_training_rev1/977267.jpg  \n",
            "  inflating: images_training_rev1/977313.jpg  \n",
            "  inflating: images_training_rev1/977331.jpg  \n",
            "  inflating: images_training_rev1/977348.jpg  \n",
            "  inflating: images_training_rev1/977430.jpg  \n",
            "  inflating: images_training_rev1/977431.jpg  \n",
            "  inflating: images_training_rev1/977444.jpg  \n",
            "  inflating: images_training_rev1/977470.jpg  \n",
            "  inflating: images_training_rev1/977484.jpg  \n",
            "  inflating: images_training_rev1/977486.jpg  \n",
            "  inflating: images_training_rev1/977487.jpg  \n",
            "  inflating: images_training_rev1/977491.jpg  \n",
            "  inflating: images_training_rev1/977496.jpg  \n",
            "  inflating: images_training_rev1/977500.jpg  \n",
            "  inflating: images_training_rev1/977523.jpg  \n",
            "  inflating: images_training_rev1/977545.jpg  \n",
            "  inflating: images_training_rev1/977553.jpg  \n",
            "  inflating: images_training_rev1/977558.jpg  \n",
            "  inflating: images_training_rev1/977559.jpg  \n",
            "  inflating: images_training_rev1/977579.jpg  \n",
            "  inflating: images_training_rev1/977580.jpg  \n",
            "  inflating: images_training_rev1/977583.jpg  \n",
            "  inflating: images_training_rev1/977623.jpg  \n",
            "  inflating: images_training_rev1/977632.jpg  \n",
            "  inflating: images_training_rev1/977644.jpg  \n",
            "  inflating: images_training_rev1/977655.jpg  \n",
            "  inflating: images_training_rev1/977663.jpg  \n",
            "  inflating: images_training_rev1/977664.jpg  \n",
            "  inflating: images_training_rev1/977675.jpg  \n",
            "  inflating: images_training_rev1/977750.jpg  \n",
            "  inflating: images_training_rev1/977774.jpg  \n",
            "  inflating: images_training_rev1/977791.jpg  \n",
            "  inflating: images_training_rev1/977815.jpg  \n",
            "  inflating: images_training_rev1/977822.jpg  \n",
            "  inflating: images_training_rev1/977840.jpg  \n",
            "  inflating: images_training_rev1/977847.jpg  \n",
            "  inflating: images_training_rev1/977862.jpg  \n",
            "  inflating: images_training_rev1/977876.jpg  \n",
            "  inflating: images_training_rev1/977885.jpg  \n",
            "  inflating: images_training_rev1/977911.jpg  \n",
            "  inflating: images_training_rev1/977919.jpg  \n",
            "  inflating: images_training_rev1/977935.jpg  \n",
            "  inflating: images_training_rev1/977959.jpg  \n",
            "  inflating: images_training_rev1/977967.jpg  \n",
            "  inflating: images_training_rev1/978004.jpg  \n",
            "  inflating: images_training_rev1/978012.jpg  \n",
            "  inflating: images_training_rev1/978047.jpg  \n",
            "  inflating: images_training_rev1/978049.jpg  \n",
            "  inflating: images_training_rev1/978063.jpg  \n",
            "  inflating: images_training_rev1/978095.jpg  \n",
            "  inflating: images_training_rev1/978120.jpg  \n",
            "  inflating: images_training_rev1/978122.jpg  \n",
            "  inflating: images_training_rev1/978139.jpg  \n",
            "  inflating: images_training_rev1/978161.jpg  \n",
            "  inflating: images_training_rev1/978188.jpg  \n",
            "  inflating: images_training_rev1/978213.jpg  \n",
            "  inflating: images_training_rev1/978221.jpg  \n",
            "  inflating: images_training_rev1/978233.jpg  \n",
            "  inflating: images_training_rev1/978235.jpg  \n",
            "  inflating: images_training_rev1/978243.jpg  \n",
            "  inflating: images_training_rev1/978248.jpg  \n",
            "  inflating: images_training_rev1/978249.jpg  \n",
            "  inflating: images_training_rev1/978250.jpg  \n",
            "  inflating: images_training_rev1/978251.jpg  \n",
            "  inflating: images_training_rev1/978258.jpg  \n",
            "  inflating: images_training_rev1/978269.jpg  \n",
            "  inflating: images_training_rev1/978293.jpg  \n",
            "  inflating: images_training_rev1/978339.jpg  \n",
            "  inflating: images_training_rev1/978344.jpg  \n",
            "  inflating: images_training_rev1/978361.jpg  \n",
            "  inflating: images_training_rev1/978367.jpg  \n",
            "  inflating: images_training_rev1/978375.jpg  \n",
            "  inflating: images_training_rev1/978385.jpg  \n",
            "  inflating: images_training_rev1/978388.jpg  \n",
            "  inflating: images_training_rev1/978451.jpg  \n",
            "  inflating: images_training_rev1/978470.jpg  \n",
            "  inflating: images_training_rev1/978476.jpg  \n",
            "  inflating: images_training_rev1/978481.jpg  \n",
            "  inflating: images_training_rev1/978512.jpg  \n",
            "  inflating: images_training_rev1/978513.jpg  \n",
            "  inflating: images_training_rev1/978516.jpg  \n",
            "  inflating: images_training_rev1/978528.jpg  \n",
            "  inflating: images_training_rev1/978538.jpg  \n",
            "  inflating: images_training_rev1/978571.jpg  \n",
            "  inflating: images_training_rev1/978608.jpg  \n",
            "  inflating: images_training_rev1/978644.jpg  \n",
            "  inflating: images_training_rev1/978648.jpg  \n",
            "  inflating: images_training_rev1/978661.jpg  \n",
            "  inflating: images_training_rev1/978673.jpg  \n",
            "  inflating: images_training_rev1/978742.jpg  \n",
            "  inflating: images_training_rev1/978749.jpg  \n",
            "  inflating: images_training_rev1/978759.jpg  \n",
            "  inflating: images_training_rev1/978776.jpg  \n",
            "  inflating: images_training_rev1/978782.jpg  \n",
            "  inflating: images_training_rev1/978808.jpg  \n",
            "  inflating: images_training_rev1/978877.jpg  \n",
            "  inflating: images_training_rev1/978924.jpg  \n",
            "  inflating: images_training_rev1/978935.jpg  \n",
            "  inflating: images_training_rev1/978937.jpg  \n",
            "  inflating: images_training_rev1/978947.jpg  \n",
            "  inflating: images_training_rev1/978949.jpg  \n",
            "  inflating: images_training_rev1/978969.jpg  \n",
            "  inflating: images_training_rev1/978974.jpg  \n",
            "  inflating: images_training_rev1/979012.jpg  \n",
            "  inflating: images_training_rev1/979068.jpg  \n",
            "  inflating: images_training_rev1/979100.jpg  \n",
            "  inflating: images_training_rev1/979102.jpg  \n",
            "  inflating: images_training_rev1/979105.jpg  \n",
            "  inflating: images_training_rev1/979114.jpg  \n",
            "  inflating: images_training_rev1/979169.jpg  \n",
            "  inflating: images_training_rev1/979175.jpg  \n",
            "  inflating: images_training_rev1/979208.jpg  \n",
            "  inflating: images_training_rev1/979219.jpg  \n",
            "  inflating: images_training_rev1/979231.jpg  \n",
            "  inflating: images_training_rev1/979234.jpg  \n",
            "  inflating: images_training_rev1/979242.jpg  \n",
            "  inflating: images_training_rev1/979243.jpg  \n",
            "  inflating: images_training_rev1/979251.jpg  \n",
            "  inflating: images_training_rev1/979267.jpg  \n",
            "  inflating: images_training_rev1/979272.jpg  \n",
            "  inflating: images_training_rev1/979275.jpg  \n",
            "  inflating: images_training_rev1/979281.jpg  \n",
            "  inflating: images_training_rev1/979291.jpg  \n",
            "  inflating: images_training_rev1/979293.jpg  \n",
            "  inflating: images_training_rev1/979310.jpg  \n",
            "  inflating: images_training_rev1/979331.jpg  \n",
            "  inflating: images_training_rev1/979374.jpg  \n",
            "  inflating: images_training_rev1/979381.jpg  \n",
            "  inflating: images_training_rev1/979387.jpg  \n",
            "  inflating: images_training_rev1/979389.jpg  \n",
            "  inflating: images_training_rev1/979436.jpg  \n",
            "  inflating: images_training_rev1/979489.jpg  \n",
            "  inflating: images_training_rev1/979513.jpg  \n",
            "  inflating: images_training_rev1/979516.jpg  \n",
            "  inflating: images_training_rev1/979518.jpg  \n",
            "  inflating: images_training_rev1/979534.jpg  \n",
            "  inflating: images_training_rev1/979537.jpg  \n",
            "  inflating: images_training_rev1/979549.jpg  \n",
            "  inflating: images_training_rev1/979555.jpg  \n",
            "  inflating: images_training_rev1/979591.jpg  \n",
            "  inflating: images_training_rev1/979644.jpg  \n",
            "  inflating: images_training_rev1/979649.jpg  \n",
            "  inflating: images_training_rev1/979669.jpg  \n",
            "  inflating: images_training_rev1/979696.jpg  \n",
            "  inflating: images_training_rev1/979726.jpg  \n",
            "  inflating: images_training_rev1/979730.jpg  \n",
            "  inflating: images_training_rev1/979732.jpg  \n",
            "  inflating: images_training_rev1/979739.jpg  \n",
            "  inflating: images_training_rev1/979755.jpg  \n",
            "  inflating: images_training_rev1/979782.jpg  \n",
            "  inflating: images_training_rev1/979790.jpg  \n",
            "  inflating: images_training_rev1/979794.jpg  \n",
            "  inflating: images_training_rev1/979806.jpg  \n",
            "  inflating: images_training_rev1/979836.jpg  \n",
            "  inflating: images_training_rev1/979877.jpg  \n",
            "  inflating: images_training_rev1/979903.jpg  \n",
            "  inflating: images_training_rev1/979905.jpg  \n",
            "  inflating: images_training_rev1/979949.jpg  \n",
            "  inflating: images_training_rev1/979972.jpg  \n",
            "  inflating: images_training_rev1/979994.jpg  \n",
            "  inflating: images_training_rev1/980005.jpg  \n",
            "  inflating: images_training_rev1/980008.jpg  \n",
            "  inflating: images_training_rev1/980014.jpg  \n",
            "  inflating: images_training_rev1/980016.jpg  \n",
            "  inflating: images_training_rev1/980020.jpg  \n",
            "  inflating: images_training_rev1/980042.jpg  \n",
            "  inflating: images_training_rev1/980049.jpg  \n",
            "  inflating: images_training_rev1/980051.jpg  \n",
            "  inflating: images_training_rev1/980057.jpg  \n",
            "  inflating: images_training_rev1/980070.jpg  \n",
            "  inflating: images_training_rev1/980076.jpg  \n",
            "  inflating: images_training_rev1/980078.jpg  \n",
            "  inflating: images_training_rev1/980094.jpg  \n",
            "  inflating: images_training_rev1/980115.jpg  \n",
            "  inflating: images_training_rev1/980136.jpg  \n",
            "  inflating: images_training_rev1/980165.jpg  \n",
            "  inflating: images_training_rev1/980186.jpg  \n",
            "  inflating: images_training_rev1/980218.jpg  \n",
            "  inflating: images_training_rev1/980222.jpg  \n",
            "  inflating: images_training_rev1/980257.jpg  \n",
            "  inflating: images_training_rev1/980317.jpg  \n",
            "  inflating: images_training_rev1/980336.jpg  \n",
            "  inflating: images_training_rev1/980340.jpg  \n",
            "  inflating: images_training_rev1/980348.jpg  \n",
            "  inflating: images_training_rev1/980375.jpg  \n",
            "  inflating: images_training_rev1/980383.jpg  \n",
            "  inflating: images_training_rev1/980426.jpg  \n",
            "  inflating: images_training_rev1/980429.jpg  \n",
            "  inflating: images_training_rev1/980467.jpg  \n",
            "  inflating: images_training_rev1/980469.jpg  \n",
            "  inflating: images_training_rev1/980482.jpg  \n",
            "  inflating: images_training_rev1/980490.jpg  \n",
            "  inflating: images_training_rev1/980501.jpg  \n",
            "  inflating: images_training_rev1/980502.jpg  \n",
            "  inflating: images_training_rev1/980508.jpg  \n",
            "  inflating: images_training_rev1/980549.jpg  \n",
            "  inflating: images_training_rev1/980554.jpg  \n",
            "  inflating: images_training_rev1/980563.jpg  \n",
            "  inflating: images_training_rev1/980564.jpg  \n",
            "  inflating: images_training_rev1/980610.jpg  \n",
            "  inflating: images_training_rev1/980612.jpg  \n",
            "  inflating: images_training_rev1/980631.jpg  \n",
            "  inflating: images_training_rev1/980646.jpg  \n",
            "  inflating: images_training_rev1/980680.jpg  \n",
            "  inflating: images_training_rev1/980730.jpg  \n",
            "  inflating: images_training_rev1/980739.jpg  \n",
            "  inflating: images_training_rev1/980754.jpg  \n",
            "  inflating: images_training_rev1/980760.jpg  \n",
            "  inflating: images_training_rev1/980761.jpg  \n",
            "  inflating: images_training_rev1/980782.jpg  \n",
            "  inflating: images_training_rev1/980808.jpg  \n",
            "  inflating: images_training_rev1/980839.jpg  \n",
            "  inflating: images_training_rev1/980848.jpg  \n",
            "  inflating: images_training_rev1/980850.jpg  \n",
            "  inflating: images_training_rev1/980868.jpg  \n",
            "  inflating: images_training_rev1/980882.jpg  \n",
            "  inflating: images_training_rev1/980967.jpg  \n",
            "  inflating: images_training_rev1/980977.jpg  \n",
            "  inflating: images_training_rev1/980985.jpg  \n",
            "  inflating: images_training_rev1/981009.jpg  \n",
            "  inflating: images_training_rev1/981012.jpg  \n",
            "  inflating: images_training_rev1/981059.jpg  \n",
            "  inflating: images_training_rev1/981068.jpg  \n",
            "  inflating: images_training_rev1/981072.jpg  \n",
            "  inflating: images_training_rev1/981080.jpg  \n",
            "  inflating: images_training_rev1/981088.jpg  \n",
            "  inflating: images_training_rev1/981122.jpg  \n",
            "  inflating: images_training_rev1/981203.jpg  \n",
            "  inflating: images_training_rev1/981243.jpg  \n",
            "  inflating: images_training_rev1/981245.jpg  \n",
            "  inflating: images_training_rev1/981248.jpg  \n",
            "  inflating: images_training_rev1/981269.jpg  \n",
            "  inflating: images_training_rev1/981270.jpg  \n",
            "  inflating: images_training_rev1/981271.jpg  \n",
            "  inflating: images_training_rev1/981277.jpg  \n",
            "  inflating: images_training_rev1/981285.jpg  \n",
            "  inflating: images_training_rev1/981340.jpg  \n",
            "  inflating: images_training_rev1/981351.jpg  \n",
            "  inflating: images_training_rev1/981362.jpg  \n",
            "  inflating: images_training_rev1/981369.jpg  \n",
            "  inflating: images_training_rev1/981391.jpg  \n",
            "  inflating: images_training_rev1/981398.jpg  \n",
            "  inflating: images_training_rev1/981401.jpg  \n",
            "  inflating: images_training_rev1/981417.jpg  \n",
            "  inflating: images_training_rev1/981419.jpg  \n",
            "  inflating: images_training_rev1/981489.jpg  \n",
            "  inflating: images_training_rev1/981494.jpg  \n",
            "  inflating: images_training_rev1/981540.jpg  \n",
            "  inflating: images_training_rev1/981563.jpg  \n",
            "  inflating: images_training_rev1/981578.jpg  \n",
            "  inflating: images_training_rev1/981579.jpg  \n",
            "  inflating: images_training_rev1/981591.jpg  \n",
            "  inflating: images_training_rev1/981605.jpg  \n",
            "  inflating: images_training_rev1/981617.jpg  \n",
            "  inflating: images_training_rev1/981621.jpg  \n",
            "  inflating: images_training_rev1/981626.jpg  \n",
            "  inflating: images_training_rev1/981641.jpg  \n",
            "  inflating: images_training_rev1/981646.jpg  \n",
            "  inflating: images_training_rev1/981677.jpg  \n",
            "  inflating: images_training_rev1/981685.jpg  \n",
            "  inflating: images_training_rev1/981712.jpg  \n",
            "  inflating: images_training_rev1/981725.jpg  \n",
            "  inflating: images_training_rev1/981736.jpg  \n",
            "  inflating: images_training_rev1/981743.jpg  \n",
            "  inflating: images_training_rev1/981766.jpg  \n",
            "  inflating: images_training_rev1/981797.jpg  \n",
            "  inflating: images_training_rev1/981806.jpg  \n",
            "  inflating: images_training_rev1/981807.jpg  \n",
            "  inflating: images_training_rev1/981808.jpg  \n",
            "  inflating: images_training_rev1/981822.jpg  \n",
            "  inflating: images_training_rev1/981862.jpg  \n",
            "  inflating: images_training_rev1/981876.jpg  \n",
            "  inflating: images_training_rev1/981880.jpg  \n",
            "  inflating: images_training_rev1/981901.jpg  \n",
            "  inflating: images_training_rev1/981904.jpg  \n",
            "  inflating: images_training_rev1/981930.jpg  \n",
            "  inflating: images_training_rev1/981931.jpg  \n",
            "  inflating: images_training_rev1/981956.jpg  \n",
            "  inflating: images_training_rev1/981972.jpg  \n",
            "  inflating: images_training_rev1/982013.jpg  \n",
            "  inflating: images_training_rev1/982018.jpg  \n",
            "  inflating: images_training_rev1/982076.jpg  \n",
            "  inflating: images_training_rev1/982105.jpg  \n",
            "  inflating: images_training_rev1/982129.jpg  \n",
            "  inflating: images_training_rev1/982132.jpg  \n",
            "  inflating: images_training_rev1/982143.jpg  \n",
            "  inflating: images_training_rev1/982151.jpg  \n",
            "  inflating: images_training_rev1/982157.jpg  \n",
            "  inflating: images_training_rev1/982174.jpg  \n",
            "  inflating: images_training_rev1/982176.jpg  \n",
            "  inflating: images_training_rev1/982198.jpg  \n",
            "  inflating: images_training_rev1/982200.jpg  \n",
            "  inflating: images_training_rev1/982201.jpg  \n",
            "  inflating: images_training_rev1/982211.jpg  \n",
            "  inflating: images_training_rev1/982220.jpg  \n",
            "  inflating: images_training_rev1/982235.jpg  \n",
            "  inflating: images_training_rev1/982271.jpg  \n",
            "  inflating: images_training_rev1/982287.jpg  \n",
            "  inflating: images_training_rev1/982291.jpg  \n",
            "  inflating: images_training_rev1/982293.jpg  \n",
            "  inflating: images_training_rev1/982313.jpg  \n",
            "  inflating: images_training_rev1/982315.jpg  \n",
            "  inflating: images_training_rev1/982323.jpg  \n",
            "  inflating: images_training_rev1/982346.jpg  \n",
            "  inflating: images_training_rev1/982353.jpg  \n",
            "  inflating: images_training_rev1/982359.jpg  \n",
            "  inflating: images_training_rev1/982389.jpg  \n",
            "  inflating: images_training_rev1/982393.jpg  \n",
            "  inflating: images_training_rev1/982401.jpg  \n",
            "  inflating: images_training_rev1/982411.jpg  \n",
            "  inflating: images_training_rev1/982432.jpg  \n",
            "  inflating: images_training_rev1/982448.jpg  \n",
            "  inflating: images_training_rev1/982466.jpg  \n",
            "  inflating: images_training_rev1/982467.jpg  \n",
            "  inflating: images_training_rev1/982477.jpg  \n",
            "  inflating: images_training_rev1/982481.jpg  \n",
            "  inflating: images_training_rev1/982524.jpg  \n",
            "  inflating: images_training_rev1/982543.jpg  \n",
            "  inflating: images_training_rev1/982568.jpg  \n",
            "  inflating: images_training_rev1/982602.jpg  \n",
            "  inflating: images_training_rev1/982607.jpg  \n",
            "  inflating: images_training_rev1/982609.jpg  \n",
            "  inflating: images_training_rev1/982610.jpg  \n",
            "  inflating: images_training_rev1/982620.jpg  \n",
            "  inflating: images_training_rev1/982626.jpg  \n",
            "  inflating: images_training_rev1/982716.jpg  \n",
            "  inflating: images_training_rev1/982719.jpg  \n",
            "  inflating: images_training_rev1/982754.jpg  \n",
            "  inflating: images_training_rev1/982779.jpg  \n",
            "  inflating: images_training_rev1/982789.jpg  \n",
            "  inflating: images_training_rev1/982800.jpg  \n",
            "  inflating: images_training_rev1/982808.jpg  \n",
            "  inflating: images_training_rev1/982832.jpg  \n",
            "  inflating: images_training_rev1/982838.jpg  \n",
            "  inflating: images_training_rev1/982855.jpg  \n",
            "  inflating: images_training_rev1/982860.jpg  \n",
            "  inflating: images_training_rev1/982893.jpg  \n",
            "  inflating: images_training_rev1/982912.jpg  \n",
            "  inflating: images_training_rev1/982953.jpg  \n",
            "  inflating: images_training_rev1/982985.jpg  \n",
            "  inflating: images_training_rev1/983000.jpg  \n",
            "  inflating: images_training_rev1/983012.jpg  \n",
            "  inflating: images_training_rev1/983016.jpg  \n",
            "  inflating: images_training_rev1/983043.jpg  \n",
            "  inflating: images_training_rev1/983057.jpg  \n",
            "  inflating: images_training_rev1/983059.jpg  \n",
            "  inflating: images_training_rev1/983081.jpg  \n",
            "  inflating: images_training_rev1/983115.jpg  \n",
            "  inflating: images_training_rev1/983122.jpg  \n",
            "  inflating: images_training_rev1/983124.jpg  \n",
            "  inflating: images_training_rev1/983142.jpg  \n",
            "  inflating: images_training_rev1/983144.jpg  \n",
            "  inflating: images_training_rev1/983150.jpg  \n",
            "  inflating: images_training_rev1/983172.jpg  \n",
            "  inflating: images_training_rev1/983178.jpg  \n",
            "  inflating: images_training_rev1/983192.jpg  \n",
            "  inflating: images_training_rev1/983202.jpg  \n",
            "  inflating: images_training_rev1/983222.jpg  \n",
            "  inflating: images_training_rev1/983223.jpg  \n",
            "  inflating: images_training_rev1/983225.jpg  \n",
            "  inflating: images_training_rev1/983261.jpg  \n",
            "  inflating: images_training_rev1/983275.jpg  \n",
            "  inflating: images_training_rev1/983299.jpg  \n",
            "  inflating: images_training_rev1/983314.jpg  \n",
            "  inflating: images_training_rev1/983316.jpg  \n",
            "  inflating: images_training_rev1/983348.jpg  \n",
            "  inflating: images_training_rev1/983356.jpg  \n",
            "  inflating: images_training_rev1/983374.jpg  \n",
            "  inflating: images_training_rev1/983383.jpg  \n",
            "  inflating: images_training_rev1/983418.jpg  \n",
            "  inflating: images_training_rev1/983445.jpg  \n",
            "  inflating: images_training_rev1/983449.jpg  \n",
            "  inflating: images_training_rev1/983477.jpg  \n",
            "  inflating: images_training_rev1/983538.jpg  \n",
            "  inflating: images_training_rev1/983544.jpg  \n",
            "  inflating: images_training_rev1/983545.jpg  \n",
            "  inflating: images_training_rev1/983562.jpg  \n",
            "  inflating: images_training_rev1/983574.jpg  \n",
            "  inflating: images_training_rev1/983580.jpg  \n",
            "  inflating: images_training_rev1/983587.jpg  \n",
            "  inflating: images_training_rev1/983592.jpg  \n",
            "  inflating: images_training_rev1/983604.jpg  \n",
            "  inflating: images_training_rev1/983625.jpg  \n",
            "  inflating: images_training_rev1/983651.jpg  \n",
            "  inflating: images_training_rev1/983691.jpg  \n",
            "  inflating: images_training_rev1/983709.jpg  \n",
            "  inflating: images_training_rev1/983712.jpg  \n",
            "  inflating: images_training_rev1/983739.jpg  \n",
            "  inflating: images_training_rev1/983747.jpg  \n",
            "  inflating: images_training_rev1/983759.jpg  \n",
            "  inflating: images_training_rev1/983765.jpg  \n",
            "  inflating: images_training_rev1/983766.jpg  \n",
            "  inflating: images_training_rev1/983771.jpg  \n",
            "  inflating: images_training_rev1/983772.jpg  \n",
            "  inflating: images_training_rev1/983881.jpg  \n",
            "  inflating: images_training_rev1/983884.jpg  \n",
            "  inflating: images_training_rev1/983886.jpg  \n",
            "  inflating: images_training_rev1/983890.jpg  \n",
            "  inflating: images_training_rev1/983939.jpg  \n",
            "  inflating: images_training_rev1/983941.jpg  \n",
            "  inflating: images_training_rev1/983965.jpg  \n",
            "  inflating: images_training_rev1/984010.jpg  \n",
            "  inflating: images_training_rev1/984032.jpg  \n",
            "  inflating: images_training_rev1/984040.jpg  \n",
            "  inflating: images_training_rev1/984057.jpg  \n",
            "  inflating: images_training_rev1/984060.jpg  \n",
            "  inflating: images_training_rev1/984066.jpg  \n",
            "  inflating: images_training_rev1/984087.jpg  \n",
            "  inflating: images_training_rev1/984095.jpg  \n",
            "  inflating: images_training_rev1/984099.jpg  \n",
            "  inflating: images_training_rev1/984113.jpg  \n",
            "  inflating: images_training_rev1/984121.jpg  \n",
            "  inflating: images_training_rev1/984149.jpg  \n",
            "  inflating: images_training_rev1/984153.jpg  \n",
            "  inflating: images_training_rev1/984154.jpg  \n",
            "  inflating: images_training_rev1/984155.jpg  \n",
            "  inflating: images_training_rev1/984158.jpg  \n",
            "  inflating: images_training_rev1/984164.jpg  \n",
            "  inflating: images_training_rev1/984176.jpg  \n",
            "  inflating: images_training_rev1/984178.jpg  \n",
            "  inflating: images_training_rev1/984187.jpg  \n",
            "  inflating: images_training_rev1/984193.jpg  \n",
            "  inflating: images_training_rev1/984200.jpg  \n",
            "  inflating: images_training_rev1/984205.jpg  \n",
            "  inflating: images_training_rev1/984214.jpg  \n",
            "  inflating: images_training_rev1/984251.jpg  \n",
            "  inflating: images_training_rev1/984259.jpg  \n",
            "  inflating: images_training_rev1/984272.jpg  \n",
            "  inflating: images_training_rev1/984291.jpg  \n",
            "  inflating: images_training_rev1/984292.jpg  \n",
            "  inflating: images_training_rev1/984298.jpg  \n",
            "  inflating: images_training_rev1/984333.jpg  \n",
            "  inflating: images_training_rev1/984335.jpg  \n",
            "  inflating: images_training_rev1/984337.jpg  \n",
            "  inflating: images_training_rev1/984342.jpg  \n",
            "  inflating: images_training_rev1/984358.jpg  \n",
            "  inflating: images_training_rev1/984362.jpg  \n",
            "  inflating: images_training_rev1/984380.jpg  \n",
            "  inflating: images_training_rev1/984388.jpg  \n",
            "  inflating: images_training_rev1/984407.jpg  \n",
            "  inflating: images_training_rev1/984428.jpg  \n",
            "  inflating: images_training_rev1/984446.jpg  \n",
            "  inflating: images_training_rev1/984453.jpg  \n",
            "  inflating: images_training_rev1/984472.jpg  \n",
            "  inflating: images_training_rev1/984486.jpg  \n",
            "  inflating: images_training_rev1/984514.jpg  \n",
            "  inflating: images_training_rev1/984517.jpg  \n",
            "  inflating: images_training_rev1/984547.jpg  \n",
            "  inflating: images_training_rev1/984566.jpg  \n",
            "  inflating: images_training_rev1/984567.jpg  \n",
            "  inflating: images_training_rev1/984577.jpg  \n",
            "  inflating: images_training_rev1/984587.jpg  \n",
            "  inflating: images_training_rev1/984590.jpg  \n",
            "  inflating: images_training_rev1/984604.jpg  \n",
            "  inflating: images_training_rev1/984610.jpg  \n",
            "  inflating: images_training_rev1/984619.jpg  \n",
            "  inflating: images_training_rev1/984624.jpg  \n",
            "  inflating: images_training_rev1/984626.jpg  \n",
            "  inflating: images_training_rev1/984637.jpg  \n",
            "  inflating: images_training_rev1/984659.jpg  \n",
            "  inflating: images_training_rev1/984669.jpg  \n",
            "  inflating: images_training_rev1/984670.jpg  \n",
            "  inflating: images_training_rev1/984673.jpg  \n",
            "  inflating: images_training_rev1/984675.jpg  \n",
            "  inflating: images_training_rev1/984695.jpg  \n",
            "  inflating: images_training_rev1/984702.jpg  \n",
            "  inflating: images_training_rev1/984714.jpg  \n",
            "  inflating: images_training_rev1/984724.jpg  \n",
            "  inflating: images_training_rev1/984726.jpg  \n",
            "  inflating: images_training_rev1/984730.jpg  \n",
            "  inflating: images_training_rev1/984754.jpg  \n",
            "  inflating: images_training_rev1/984767.jpg  \n",
            "  inflating: images_training_rev1/984769.jpg  \n",
            "  inflating: images_training_rev1/984807.jpg  \n",
            "  inflating: images_training_rev1/984819.jpg  \n",
            "  inflating: images_training_rev1/984833.jpg  \n",
            "  inflating: images_training_rev1/984837.jpg  \n",
            "  inflating: images_training_rev1/984851.jpg  \n",
            "  inflating: images_training_rev1/984858.jpg  \n",
            "  inflating: images_training_rev1/984874.jpg  \n",
            "  inflating: images_training_rev1/984906.jpg  \n",
            "  inflating: images_training_rev1/984921.jpg  \n",
            "  inflating: images_training_rev1/984964.jpg  \n",
            "  inflating: images_training_rev1/984969.jpg  \n",
            "  inflating: images_training_rev1/984986.jpg  \n",
            "  inflating: images_training_rev1/985016.jpg  \n",
            "  inflating: images_training_rev1/985044.jpg  \n",
            "  inflating: images_training_rev1/985052.jpg  \n",
            "  inflating: images_training_rev1/985054.jpg  \n",
            "  inflating: images_training_rev1/985061.jpg  \n",
            "  inflating: images_training_rev1/985077.jpg  \n",
            "  inflating: images_training_rev1/985093.jpg  \n",
            "  inflating: images_training_rev1/985100.jpg  \n",
            "  inflating: images_training_rev1/985124.jpg  \n",
            "  inflating: images_training_rev1/985127.jpg  \n",
            "  inflating: images_training_rev1/985151.jpg  \n",
            "  inflating: images_training_rev1/985152.jpg  \n",
            "  inflating: images_training_rev1/985158.jpg  \n",
            "  inflating: images_training_rev1/985170.jpg  \n",
            "  inflating: images_training_rev1/985171.jpg  \n",
            "  inflating: images_training_rev1/985200.jpg  \n",
            "  inflating: images_training_rev1/985217.jpg  \n",
            "  inflating: images_training_rev1/985234.jpg  \n",
            "  inflating: images_training_rev1/985258.jpg  \n",
            "  inflating: images_training_rev1/985295.jpg  \n",
            "  inflating: images_training_rev1/985300.jpg  \n",
            "  inflating: images_training_rev1/985309.jpg  \n",
            "  inflating: images_training_rev1/985328.jpg  \n",
            "  inflating: images_training_rev1/985338.jpg  \n",
            "  inflating: images_training_rev1/985343.jpg  \n",
            "  inflating: images_training_rev1/985344.jpg  \n",
            "  inflating: images_training_rev1/985351.jpg  \n",
            "  inflating: images_training_rev1/985367.jpg  \n",
            "  inflating: images_training_rev1/985371.jpg  \n",
            "  inflating: images_training_rev1/985392.jpg  \n",
            "  inflating: images_training_rev1/985395.jpg  \n",
            "  inflating: images_training_rev1/985405.jpg  \n",
            "  inflating: images_training_rev1/985424.jpg  \n",
            "  inflating: images_training_rev1/985455.jpg  \n",
            "  inflating: images_training_rev1/985463.jpg  \n",
            "  inflating: images_training_rev1/985465.jpg  \n",
            "  inflating: images_training_rev1/985500.jpg  \n",
            "  inflating: images_training_rev1/985510.jpg  \n",
            "  inflating: images_training_rev1/985537.jpg  \n",
            "  inflating: images_training_rev1/985545.jpg  \n",
            "  inflating: images_training_rev1/985551.jpg  \n",
            "  inflating: images_training_rev1/985552.jpg  \n",
            "  inflating: images_training_rev1/985553.jpg  \n",
            "  inflating: images_training_rev1/985562.jpg  \n",
            "  inflating: images_training_rev1/985565.jpg  \n",
            "  inflating: images_training_rev1/985572.jpg  \n",
            "  inflating: images_training_rev1/985580.jpg  \n",
            "  inflating: images_training_rev1/985596.jpg  \n",
            "  inflating: images_training_rev1/985603.jpg  \n",
            "  inflating: images_training_rev1/985615.jpg  \n",
            "  inflating: images_training_rev1/985641.jpg  \n",
            "  inflating: images_training_rev1/985667.jpg  \n",
            "  inflating: images_training_rev1/985677.jpg  \n",
            "  inflating: images_training_rev1/985687.jpg  \n",
            "  inflating: images_training_rev1/985694.jpg  \n",
            "  inflating: images_training_rev1/985703.jpg  \n",
            "  inflating: images_training_rev1/985705.jpg  \n",
            "  inflating: images_training_rev1/985721.jpg  \n",
            "  inflating: images_training_rev1/985738.jpg  \n",
            "  inflating: images_training_rev1/985744.jpg  \n",
            "  inflating: images_training_rev1/985757.jpg  \n",
            "  inflating: images_training_rev1/985775.jpg  \n",
            "  inflating: images_training_rev1/985780.jpg  \n",
            "  inflating: images_training_rev1/985789.jpg  \n",
            "  inflating: images_training_rev1/985791.jpg  \n",
            "  inflating: images_training_rev1/985794.jpg  \n",
            "  inflating: images_training_rev1/985797.jpg  \n",
            "  inflating: images_training_rev1/985814.jpg  \n",
            "  inflating: images_training_rev1/985818.jpg  \n",
            "  inflating: images_training_rev1/985822.jpg  \n",
            "  inflating: images_training_rev1/985831.jpg  \n",
            "  inflating: images_training_rev1/985846.jpg  \n",
            "  inflating: images_training_rev1/985849.jpg  \n",
            "  inflating: images_training_rev1/985850.jpg  \n",
            "  inflating: images_training_rev1/985862.jpg  \n",
            "  inflating: images_training_rev1/985867.jpg  \n",
            "  inflating: images_training_rev1/985874.jpg  \n",
            "  inflating: images_training_rev1/985879.jpg  \n",
            "  inflating: images_training_rev1/985891.jpg  \n",
            "  inflating: images_training_rev1/985902.jpg  \n",
            "  inflating: images_training_rev1/985926.jpg  \n",
            "  inflating: images_training_rev1/985942.jpg  \n",
            "  inflating: images_training_rev1/985972.jpg  \n",
            "  inflating: images_training_rev1/985974.jpg  \n",
            "  inflating: images_training_rev1/985976.jpg  \n",
            "  inflating: images_training_rev1/985987.jpg  \n",
            "  inflating: images_training_rev1/986000.jpg  \n",
            "  inflating: images_training_rev1/986033.jpg  \n",
            "  inflating: images_training_rev1/986037.jpg  \n",
            "  inflating: images_training_rev1/986038.jpg  \n",
            "  inflating: images_training_rev1/986060.jpg  \n",
            "  inflating: images_training_rev1/986069.jpg  \n",
            "  inflating: images_training_rev1/986083.jpg  \n",
            "  inflating: images_training_rev1/986085.jpg  \n",
            "  inflating: images_training_rev1/986089.jpg  \n",
            "  inflating: images_training_rev1/986104.jpg  \n",
            "  inflating: images_training_rev1/986109.jpg  \n",
            "  inflating: images_training_rev1/986110.jpg  \n",
            "  inflating: images_training_rev1/986125.jpg  \n",
            "  inflating: images_training_rev1/986132.jpg  \n",
            "  inflating: images_training_rev1/986139.jpg  \n",
            "  inflating: images_training_rev1/986142.jpg  \n",
            "  inflating: images_training_rev1/986168.jpg  \n",
            "  inflating: images_training_rev1/986178.jpg  \n",
            "  inflating: images_training_rev1/986179.jpg  \n",
            "  inflating: images_training_rev1/986184.jpg  \n",
            "  inflating: images_training_rev1/986198.jpg  \n",
            "  inflating: images_training_rev1/986216.jpg  \n",
            "  inflating: images_training_rev1/986223.jpg  \n",
            "  inflating: images_training_rev1/986238.jpg  \n",
            "  inflating: images_training_rev1/986243.jpg  \n",
            "  inflating: images_training_rev1/986262.jpg  \n",
            "  inflating: images_training_rev1/986282.jpg  \n",
            "  inflating: images_training_rev1/986291.jpg  \n",
            "  inflating: images_training_rev1/986295.jpg  \n",
            "  inflating: images_training_rev1/986330.jpg  \n",
            "  inflating: images_training_rev1/986354.jpg  \n",
            "  inflating: images_training_rev1/986369.jpg  \n",
            "  inflating: images_training_rev1/986380.jpg  \n",
            "  inflating: images_training_rev1/986395.jpg  \n",
            "  inflating: images_training_rev1/986400.jpg  \n",
            "  inflating: images_training_rev1/986417.jpg  \n",
            "  inflating: images_training_rev1/986418.jpg  \n",
            "  inflating: images_training_rev1/986422.jpg  \n",
            "  inflating: images_training_rev1/986432.jpg  \n",
            "  inflating: images_training_rev1/986447.jpg  \n",
            "  inflating: images_training_rev1/986450.jpg  \n",
            "  inflating: images_training_rev1/986515.jpg  \n",
            "  inflating: images_training_rev1/986521.jpg  \n",
            "  inflating: images_training_rev1/986537.jpg  \n",
            "  inflating: images_training_rev1/986553.jpg  \n",
            "  inflating: images_training_rev1/986591.jpg  \n",
            "  inflating: images_training_rev1/986599.jpg  \n",
            "  inflating: images_training_rev1/986619.jpg  \n",
            "  inflating: images_training_rev1/986624.jpg  \n",
            "  inflating: images_training_rev1/986627.jpg  \n",
            "  inflating: images_training_rev1/986634.jpg  \n",
            "  inflating: images_training_rev1/986640.jpg  \n",
            "  inflating: images_training_rev1/986651.jpg  \n",
            "  inflating: images_training_rev1/986659.jpg  \n",
            "  inflating: images_training_rev1/986671.jpg  \n",
            "  inflating: images_training_rev1/986672.jpg  \n",
            "  inflating: images_training_rev1/986692.jpg  \n",
            "  inflating: images_training_rev1/986696.jpg  \n",
            "  inflating: images_training_rev1/986708.jpg  \n",
            "  inflating: images_training_rev1/986718.jpg  \n",
            "  inflating: images_training_rev1/986737.jpg  \n",
            "  inflating: images_training_rev1/986739.jpg  \n",
            "  inflating: images_training_rev1/986753.jpg  \n",
            "  inflating: images_training_rev1/986782.jpg  \n",
            "  inflating: images_training_rev1/986783.jpg  \n",
            "  inflating: images_training_rev1/986840.jpg  \n",
            "  inflating: images_training_rev1/986841.jpg  \n",
            "  inflating: images_training_rev1/986842.jpg  \n",
            "  inflating: images_training_rev1/986844.jpg  \n",
            "  inflating: images_training_rev1/986845.jpg  \n",
            "  inflating: images_training_rev1/986853.jpg  \n",
            "  inflating: images_training_rev1/986854.jpg  \n",
            "  inflating: images_training_rev1/986860.jpg  \n",
            "  inflating: images_training_rev1/986868.jpg  \n",
            "  inflating: images_training_rev1/986871.jpg  \n",
            "  inflating: images_training_rev1/986876.jpg  \n",
            "  inflating: images_training_rev1/986898.jpg  \n",
            "  inflating: images_training_rev1/986914.jpg  \n",
            "  inflating: images_training_rev1/986917.jpg  \n",
            "  inflating: images_training_rev1/986928.jpg  \n",
            "  inflating: images_training_rev1/986948.jpg  \n",
            "  inflating: images_training_rev1/987033.jpg  \n",
            "  inflating: images_training_rev1/987069.jpg  \n",
            "  inflating: images_training_rev1/987074.jpg  \n",
            "  inflating: images_training_rev1/987091.jpg  \n",
            "  inflating: images_training_rev1/987107.jpg  \n",
            "  inflating: images_training_rev1/987124.jpg  \n",
            "  inflating: images_training_rev1/987128.jpg  \n",
            "  inflating: images_training_rev1/987154.jpg  \n",
            "  inflating: images_training_rev1/987159.jpg  \n",
            "  inflating: images_training_rev1/987162.jpg  \n",
            "  inflating: images_training_rev1/987175.jpg  \n",
            "  inflating: images_training_rev1/987179.jpg  \n",
            "  inflating: images_training_rev1/987185.jpg  \n",
            "  inflating: images_training_rev1/987192.jpg  \n",
            "  inflating: images_training_rev1/987193.jpg  \n",
            "  inflating: images_training_rev1/987215.jpg  \n",
            "  inflating: images_training_rev1/987220.jpg  \n",
            "  inflating: images_training_rev1/987221.jpg  \n",
            "  inflating: images_training_rev1/987232.jpg  \n",
            "  inflating: images_training_rev1/987243.jpg  \n",
            "  inflating: images_training_rev1/987246.jpg  \n",
            "  inflating: images_training_rev1/987261.jpg  \n",
            "  inflating: images_training_rev1/987277.jpg  \n",
            "  inflating: images_training_rev1/987300.jpg  \n",
            "  inflating: images_training_rev1/987315.jpg  \n",
            "  inflating: images_training_rev1/987320.jpg  \n",
            "  inflating: images_training_rev1/987322.jpg  \n",
            "  inflating: images_training_rev1/987344.jpg  \n",
            "  inflating: images_training_rev1/987353.jpg  \n",
            "  inflating: images_training_rev1/987355.jpg  \n",
            "  inflating: images_training_rev1/987394.jpg  \n",
            "  inflating: images_training_rev1/987421.jpg  \n",
            "  inflating: images_training_rev1/987429.jpg  \n",
            "  inflating: images_training_rev1/987454.jpg  \n",
            "  inflating: images_training_rev1/987456.jpg  \n",
            "  inflating: images_training_rev1/987469.jpg  \n",
            "  inflating: images_training_rev1/987482.jpg  \n",
            "  inflating: images_training_rev1/987489.jpg  \n",
            "  inflating: images_training_rev1/987521.jpg  \n",
            "  inflating: images_training_rev1/987526.jpg  \n",
            "  inflating: images_training_rev1/987537.jpg  \n",
            "  inflating: images_training_rev1/987541.jpg  \n",
            "  inflating: images_training_rev1/987571.jpg  \n",
            "  inflating: images_training_rev1/987572.jpg  \n",
            "  inflating: images_training_rev1/987628.jpg  \n",
            "  inflating: images_training_rev1/987633.jpg  \n",
            "  inflating: images_training_rev1/987637.jpg  \n",
            "  inflating: images_training_rev1/987656.jpg  \n",
            "  inflating: images_training_rev1/987666.jpg  \n",
            "  inflating: images_training_rev1/987673.jpg  \n",
            "  inflating: images_training_rev1/987684.jpg  \n",
            "  inflating: images_training_rev1/987691.jpg  \n",
            "  inflating: images_training_rev1/987695.jpg  \n",
            "  inflating: images_training_rev1/987710.jpg  \n",
            "  inflating: images_training_rev1/987715.jpg  \n",
            "  inflating: images_training_rev1/987735.jpg  \n",
            "  inflating: images_training_rev1/987762.jpg  \n",
            "  inflating: images_training_rev1/987789.jpg  \n",
            "  inflating: images_training_rev1/987793.jpg  \n",
            "  inflating: images_training_rev1/987797.jpg  \n",
            "  inflating: images_training_rev1/987804.jpg  \n",
            "  inflating: images_training_rev1/987818.jpg  \n",
            "  inflating: images_training_rev1/987820.jpg  \n",
            "  inflating: images_training_rev1/987824.jpg  \n",
            "  inflating: images_training_rev1/987826.jpg  \n",
            "  inflating: images_training_rev1/987885.jpg  \n",
            "  inflating: images_training_rev1/987915.jpg  \n",
            "  inflating: images_training_rev1/987924.jpg  \n",
            "  inflating: images_training_rev1/987932.jpg  \n",
            "  inflating: images_training_rev1/987942.jpg  \n",
            "  inflating: images_training_rev1/987987.jpg  \n",
            "  inflating: images_training_rev1/988001.jpg  \n",
            "  inflating: images_training_rev1/988039.jpg  \n",
            "  inflating: images_training_rev1/988057.jpg  \n",
            "  inflating: images_training_rev1/988078.jpg  \n",
            "  inflating: images_training_rev1/988095.jpg  \n",
            "  inflating: images_training_rev1/988099.jpg  \n",
            "  inflating: images_training_rev1/988100.jpg  \n",
            "  inflating: images_training_rev1/988103.jpg  \n",
            "  inflating: images_training_rev1/988108.jpg  \n",
            "  inflating: images_training_rev1/988117.jpg  \n",
            "  inflating: images_training_rev1/988125.jpg  \n",
            "  inflating: images_training_rev1/988136.jpg  \n",
            "  inflating: images_training_rev1/988148.jpg  \n",
            "  inflating: images_training_rev1/988176.jpg  \n",
            "  inflating: images_training_rev1/988185.jpg  \n",
            "  inflating: images_training_rev1/988199.jpg  \n",
            "  inflating: images_training_rev1/988210.jpg  \n",
            "  inflating: images_training_rev1/988248.jpg  \n",
            "  inflating: images_training_rev1/988260.jpg  \n",
            "  inflating: images_training_rev1/988316.jpg  \n",
            "  inflating: images_training_rev1/988319.jpg  \n",
            "  inflating: images_training_rev1/988321.jpg  \n",
            "  inflating: images_training_rev1/988328.jpg  \n",
            "  inflating: images_training_rev1/988333.jpg  \n",
            "  inflating: images_training_rev1/988339.jpg  \n",
            "  inflating: images_training_rev1/988388.jpg  \n",
            "  inflating: images_training_rev1/988396.jpg  \n",
            "  inflating: images_training_rev1/988403.jpg  \n",
            "  inflating: images_training_rev1/988411.jpg  \n",
            "  inflating: images_training_rev1/988425.jpg  \n",
            "  inflating: images_training_rev1/988436.jpg  \n",
            "  inflating: images_training_rev1/988438.jpg  \n",
            "  inflating: images_training_rev1/988440.jpg  \n",
            "  inflating: images_training_rev1/988450.jpg  \n",
            "  inflating: images_training_rev1/988489.jpg  \n",
            "  inflating: images_training_rev1/988490.jpg  \n",
            "  inflating: images_training_rev1/988491.jpg  \n",
            "  inflating: images_training_rev1/988497.jpg  \n",
            "  inflating: images_training_rev1/988509.jpg  \n",
            "  inflating: images_training_rev1/988517.jpg  \n",
            "  inflating: images_training_rev1/988521.jpg  \n",
            "  inflating: images_training_rev1/988529.jpg  \n",
            "  inflating: images_training_rev1/988540.jpg  \n",
            "  inflating: images_training_rev1/988551.jpg  \n",
            "  inflating: images_training_rev1/988552.jpg  \n",
            "  inflating: images_training_rev1/988566.jpg  \n",
            "  inflating: images_training_rev1/988605.jpg  \n",
            "  inflating: images_training_rev1/988637.jpg  \n",
            "  inflating: images_training_rev1/988647.jpg  \n",
            "  inflating: images_training_rev1/988663.jpg  \n",
            "  inflating: images_training_rev1/988676.jpg  \n",
            "  inflating: images_training_rev1/988735.jpg  \n",
            "  inflating: images_training_rev1/988740.jpg  \n",
            "  inflating: images_training_rev1/988782.jpg  \n",
            "  inflating: images_training_rev1/988794.jpg  \n",
            "  inflating: images_training_rev1/988803.jpg  \n",
            "  inflating: images_training_rev1/988819.jpg  \n",
            "  inflating: images_training_rev1/988827.jpg  \n",
            "  inflating: images_training_rev1/988839.jpg  \n",
            "  inflating: images_training_rev1/988844.jpg  \n",
            "  inflating: images_training_rev1/988894.jpg  \n",
            "  inflating: images_training_rev1/988906.jpg  \n",
            "  inflating: images_training_rev1/988923.jpg  \n",
            "  inflating: images_training_rev1/988925.jpg  \n",
            "  inflating: images_training_rev1/988993.jpg  \n",
            "  inflating: images_training_rev1/989001.jpg  \n",
            "  inflating: images_training_rev1/989011.jpg  \n",
            "  inflating: images_training_rev1/989036.jpg  \n",
            "  inflating: images_training_rev1/989050.jpg  \n",
            "  inflating: images_training_rev1/989058.jpg  \n",
            "  inflating: images_training_rev1/989082.jpg  \n",
            "  inflating: images_training_rev1/989090.jpg  \n",
            "  inflating: images_training_rev1/989098.jpg  \n",
            "  inflating: images_training_rev1/989129.jpg  \n",
            "  inflating: images_training_rev1/989136.jpg  \n",
            "  inflating: images_training_rev1/989174.jpg  \n",
            "  inflating: images_training_rev1/989186.jpg  \n",
            "  inflating: images_training_rev1/989188.jpg  \n",
            "  inflating: images_training_rev1/989197.jpg  \n",
            "  inflating: images_training_rev1/989215.jpg  \n",
            "  inflating: images_training_rev1/989223.jpg  \n",
            "  inflating: images_training_rev1/989227.jpg  \n",
            "  inflating: images_training_rev1/989234.jpg  \n",
            "  inflating: images_training_rev1/989239.jpg  \n",
            "  inflating: images_training_rev1/989243.jpg  \n",
            "  inflating: images_training_rev1/989251.jpg  \n",
            "  inflating: images_training_rev1/989258.jpg  \n",
            "  inflating: images_training_rev1/989272.jpg  \n",
            "  inflating: images_training_rev1/989276.jpg  \n",
            "  inflating: images_training_rev1/989287.jpg  \n",
            "  inflating: images_training_rev1/989288.jpg  \n",
            "  inflating: images_training_rev1/989311.jpg  \n",
            "  inflating: images_training_rev1/989357.jpg  \n",
            "  inflating: images_training_rev1/989380.jpg  \n",
            "  inflating: images_training_rev1/989400.jpg  \n",
            "  inflating: images_training_rev1/989404.jpg  \n",
            "  inflating: images_training_rev1/989415.jpg  \n",
            "  inflating: images_training_rev1/989419.jpg  \n",
            "  inflating: images_training_rev1/989429.jpg  \n",
            "  inflating: images_training_rev1/989434.jpg  \n",
            "  inflating: images_training_rev1/989449.jpg  \n",
            "  inflating: images_training_rev1/989456.jpg  \n",
            "  inflating: images_training_rev1/989460.jpg  \n",
            "  inflating: images_training_rev1/989464.jpg  \n",
            "  inflating: images_training_rev1/989465.jpg  \n",
            "  inflating: images_training_rev1/989475.jpg  \n",
            "  inflating: images_training_rev1/989477.jpg  \n",
            "  inflating: images_training_rev1/989489.jpg  \n",
            "  inflating: images_training_rev1/989495.jpg  \n",
            "  inflating: images_training_rev1/989505.jpg  \n",
            "  inflating: images_training_rev1/989508.jpg  \n",
            "  inflating: images_training_rev1/989523.jpg  \n",
            "  inflating: images_training_rev1/989526.jpg  \n",
            "  inflating: images_training_rev1/989531.jpg  \n",
            "  inflating: images_training_rev1/989533.jpg  \n",
            "  inflating: images_training_rev1/989537.jpg  \n",
            "  inflating: images_training_rev1/989557.jpg  \n",
            "  inflating: images_training_rev1/989574.jpg  \n",
            "  inflating: images_training_rev1/989579.jpg  \n",
            "  inflating: images_training_rev1/989593.jpg  \n",
            "  inflating: images_training_rev1/989594.jpg  \n",
            "  inflating: images_training_rev1/989608.jpg  \n",
            "  inflating: images_training_rev1/989614.jpg  \n",
            "  inflating: images_training_rev1/989639.jpg  \n",
            "  inflating: images_training_rev1/989643.jpg  \n",
            "  inflating: images_training_rev1/989656.jpg  \n",
            "  inflating: images_training_rev1/989662.jpg  \n",
            "  inflating: images_training_rev1/989671.jpg  \n",
            "  inflating: images_training_rev1/989710.jpg  \n",
            "  inflating: images_training_rev1/989731.jpg  \n",
            "  inflating: images_training_rev1/989732.jpg  \n",
            "  inflating: images_training_rev1/989741.jpg  \n",
            "  inflating: images_training_rev1/989763.jpg  \n",
            "  inflating: images_training_rev1/989765.jpg  \n",
            "  inflating: images_training_rev1/989777.jpg  \n",
            "  inflating: images_training_rev1/989782.jpg  \n",
            "  inflating: images_training_rev1/989785.jpg  \n",
            "  inflating: images_training_rev1/989809.jpg  \n",
            "  inflating: images_training_rev1/989824.jpg  \n",
            "  inflating: images_training_rev1/989825.jpg  \n",
            "  inflating: images_training_rev1/989846.jpg  \n",
            "  inflating: images_training_rev1/989849.jpg  \n",
            "  inflating: images_training_rev1/989873.jpg  \n",
            "  inflating: images_training_rev1/989898.jpg  \n",
            "  inflating: images_training_rev1/989899.jpg  \n",
            "  inflating: images_training_rev1/989900.jpg  \n",
            "  inflating: images_training_rev1/989934.jpg  \n",
            "  inflating: images_training_rev1/989935.jpg  \n",
            "  inflating: images_training_rev1/989942.jpg  \n",
            "  inflating: images_training_rev1/989943.jpg  \n",
            "  inflating: images_training_rev1/989955.jpg  \n",
            "  inflating: images_training_rev1/989957.jpg  \n",
            "  inflating: images_training_rev1/989960.jpg  \n",
            "  inflating: images_training_rev1/989970.jpg  \n",
            "  inflating: images_training_rev1/989987.jpg  \n",
            "  inflating: images_training_rev1/989991.jpg  \n",
            "  inflating: images_training_rev1/989996.jpg  \n",
            "  inflating: images_training_rev1/989997.jpg  \n",
            "  inflating: images_training_rev1/990006.jpg  \n",
            "  inflating: images_training_rev1/990011.jpg  \n",
            "  inflating: images_training_rev1/990027.jpg  \n",
            "  inflating: images_training_rev1/990044.jpg  \n",
            "  inflating: images_training_rev1/990046.jpg  \n",
            "  inflating: images_training_rev1/990063.jpg  \n",
            "  inflating: images_training_rev1/990084.jpg  \n",
            "  inflating: images_training_rev1/990088.jpg  \n",
            "  inflating: images_training_rev1/990089.jpg  \n",
            "  inflating: images_training_rev1/990131.jpg  \n",
            "  inflating: images_training_rev1/990137.jpg  \n",
            "  inflating: images_training_rev1/990167.jpg  \n",
            "  inflating: images_training_rev1/990194.jpg  \n",
            "  inflating: images_training_rev1/990227.jpg  \n",
            "  inflating: images_training_rev1/990230.jpg  \n",
            "  inflating: images_training_rev1/990234.jpg  \n",
            "  inflating: images_training_rev1/990241.jpg  \n",
            "  inflating: images_training_rev1/990253.jpg  \n",
            "  inflating: images_training_rev1/990257.jpg  \n",
            "  inflating: images_training_rev1/990263.jpg  \n",
            "  inflating: images_training_rev1/990288.jpg  \n",
            "  inflating: images_training_rev1/990289.jpg  \n",
            "  inflating: images_training_rev1/990294.jpg  \n",
            "  inflating: images_training_rev1/990305.jpg  \n",
            "  inflating: images_training_rev1/990339.jpg  \n",
            "  inflating: images_training_rev1/990341.jpg  \n",
            "  inflating: images_training_rev1/990360.jpg  \n",
            "  inflating: images_training_rev1/990364.jpg  \n",
            "  inflating: images_training_rev1/990393.jpg  \n",
            "  inflating: images_training_rev1/990400.jpg  \n",
            "  inflating: images_training_rev1/990414.jpg  \n",
            "  inflating: images_training_rev1/990430.jpg  \n",
            "  inflating: images_training_rev1/990438.jpg  \n",
            "  inflating: images_training_rev1/990443.jpg  \n",
            "  inflating: images_training_rev1/990496.jpg  \n",
            "  inflating: images_training_rev1/990522.jpg  \n",
            "  inflating: images_training_rev1/990531.jpg  \n",
            "  inflating: images_training_rev1/990540.jpg  \n",
            "  inflating: images_training_rev1/990556.jpg  \n",
            "  inflating: images_training_rev1/990567.jpg  \n",
            "  inflating: images_training_rev1/990571.jpg  \n",
            "  inflating: images_training_rev1/990582.jpg  \n",
            "  inflating: images_training_rev1/990599.jpg  \n",
            "  inflating: images_training_rev1/990615.jpg  \n",
            "  inflating: images_training_rev1/990666.jpg  \n",
            "  inflating: images_training_rev1/990672.jpg  \n",
            "  inflating: images_training_rev1/990677.jpg  \n",
            "  inflating: images_training_rev1/990687.jpg  \n",
            "  inflating: images_training_rev1/990697.jpg  \n",
            "  inflating: images_training_rev1/990698.jpg  \n",
            "  inflating: images_training_rev1/990700.jpg  \n",
            "  inflating: images_training_rev1/990710.jpg  \n",
            "  inflating: images_training_rev1/990728.jpg  \n",
            "  inflating: images_training_rev1/990737.jpg  \n",
            "  inflating: images_training_rev1/990743.jpg  \n",
            "  inflating: images_training_rev1/990754.jpg  \n",
            "  inflating: images_training_rev1/990763.jpg  \n",
            "  inflating: images_training_rev1/990774.jpg  \n",
            "  inflating: images_training_rev1/990785.jpg  \n",
            "  inflating: images_training_rev1/990809.jpg  \n",
            "  inflating: images_training_rev1/990838.jpg  \n",
            "  inflating: images_training_rev1/990842.jpg  \n",
            "  inflating: images_training_rev1/990847.jpg  \n",
            "  inflating: images_training_rev1/990861.jpg  \n",
            "  inflating: images_training_rev1/990864.jpg  \n",
            "  inflating: images_training_rev1/990865.jpg  \n",
            "  inflating: images_training_rev1/990888.jpg  \n",
            "  inflating: images_training_rev1/990893.jpg  \n",
            "  inflating: images_training_rev1/990896.jpg  \n",
            "  inflating: images_training_rev1/990939.jpg  \n",
            "  inflating: images_training_rev1/990940.jpg  \n",
            "  inflating: images_training_rev1/990962.jpg  \n",
            "  inflating: images_training_rev1/990972.jpg  \n",
            "  inflating: images_training_rev1/991003.jpg  \n",
            "  inflating: images_training_rev1/991011.jpg  \n",
            "  inflating: images_training_rev1/991014.jpg  \n",
            "  inflating: images_training_rev1/991019.jpg  \n",
            "  inflating: images_training_rev1/991036.jpg  \n",
            "  inflating: images_training_rev1/991065.jpg  \n",
            "  inflating: images_training_rev1/991067.jpg  \n",
            "  inflating: images_training_rev1/991080.jpg  \n",
            "  inflating: images_training_rev1/991088.jpg  \n",
            "  inflating: images_training_rev1/991089.jpg  \n",
            "  inflating: images_training_rev1/991103.jpg  \n",
            "  inflating: images_training_rev1/991150.jpg  \n",
            "  inflating: images_training_rev1/991159.jpg  \n",
            "  inflating: images_training_rev1/991162.jpg  \n",
            "  inflating: images_training_rev1/991171.jpg  \n",
            "  inflating: images_training_rev1/991175.jpg  \n",
            "  inflating: images_training_rev1/991223.jpg  \n",
            "  inflating: images_training_rev1/991227.jpg  \n",
            "  inflating: images_training_rev1/991256.jpg  \n",
            "  inflating: images_training_rev1/991298.jpg  \n",
            "  inflating: images_training_rev1/991364.jpg  \n",
            "  inflating: images_training_rev1/991381.jpg  \n",
            "  inflating: images_training_rev1/991401.jpg  \n",
            "  inflating: images_training_rev1/991423.jpg  \n",
            "  inflating: images_training_rev1/991426.jpg  \n",
            "  inflating: images_training_rev1/991431.jpg  \n",
            "  inflating: images_training_rev1/991484.jpg  \n",
            "  inflating: images_training_rev1/991505.jpg  \n",
            "  inflating: images_training_rev1/991519.jpg  \n",
            "  inflating: images_training_rev1/991542.jpg  \n",
            "  inflating: images_training_rev1/991547.jpg  \n",
            "  inflating: images_training_rev1/991603.jpg  \n",
            "  inflating: images_training_rev1/991623.jpg  \n",
            "  inflating: images_training_rev1/991665.jpg  \n",
            "  inflating: images_training_rev1/991706.jpg  \n",
            "  inflating: images_training_rev1/991718.jpg  \n",
            "  inflating: images_training_rev1/991755.jpg  \n",
            "  inflating: images_training_rev1/991768.jpg  \n",
            "  inflating: images_training_rev1/991797.jpg  \n",
            "  inflating: images_training_rev1/991817.jpg  \n",
            "  inflating: images_training_rev1/991818.jpg  \n",
            "  inflating: images_training_rev1/991822.jpg  \n",
            "  inflating: images_training_rev1/991834.jpg  \n",
            "  inflating: images_training_rev1/991839.jpg  \n",
            "  inflating: images_training_rev1/991848.jpg  \n",
            "  inflating: images_training_rev1/991852.jpg  \n",
            "  inflating: images_training_rev1/991888.jpg  \n",
            "  inflating: images_training_rev1/991929.jpg  \n",
            "  inflating: images_training_rev1/991984.jpg  \n",
            "  inflating: images_training_rev1/992005.jpg  \n",
            "  inflating: images_training_rev1/992009.jpg  \n",
            "  inflating: images_training_rev1/992040.jpg  \n",
            "  inflating: images_training_rev1/992046.jpg  \n",
            "  inflating: images_training_rev1/992069.jpg  \n",
            "  inflating: images_training_rev1/992093.jpg  \n",
            "  inflating: images_training_rev1/992108.jpg  \n",
            "  inflating: images_training_rev1/992139.jpg  \n",
            "  inflating: images_training_rev1/992144.jpg  \n",
            "  inflating: images_training_rev1/992173.jpg  \n",
            "  inflating: images_training_rev1/992185.jpg  \n",
            "  inflating: images_training_rev1/992191.jpg  \n",
            "  inflating: images_training_rev1/992195.jpg  \n",
            "  inflating: images_training_rev1/992221.jpg  \n",
            "  inflating: images_training_rev1/992249.jpg  \n",
            "  inflating: images_training_rev1/992260.jpg  \n",
            "  inflating: images_training_rev1/992271.jpg  \n",
            "  inflating: images_training_rev1/992275.jpg  \n",
            "  inflating: images_training_rev1/992294.jpg  \n",
            "  inflating: images_training_rev1/992296.jpg  \n",
            "  inflating: images_training_rev1/992308.jpg  \n",
            "  inflating: images_training_rev1/992312.jpg  \n",
            "  inflating: images_training_rev1/992332.jpg  \n",
            "  inflating: images_training_rev1/992339.jpg  \n",
            "  inflating: images_training_rev1/992352.jpg  \n",
            "  inflating: images_training_rev1/992378.jpg  \n",
            "  inflating: images_training_rev1/992382.jpg  \n",
            "  inflating: images_training_rev1/992389.jpg  \n",
            "  inflating: images_training_rev1/992402.jpg  \n",
            "  inflating: images_training_rev1/992408.jpg  \n",
            "  inflating: images_training_rev1/992426.jpg  \n",
            "  inflating: images_training_rev1/992427.jpg  \n",
            "  inflating: images_training_rev1/992434.jpg  \n",
            "  inflating: images_training_rev1/992475.jpg  \n",
            "  inflating: images_training_rev1/992478.jpg  \n",
            "  inflating: images_training_rev1/992521.jpg  \n",
            "  inflating: images_training_rev1/992546.jpg  \n",
            "  inflating: images_training_rev1/992604.jpg  \n",
            "  inflating: images_training_rev1/992617.jpg  \n",
            "  inflating: images_training_rev1/992623.jpg  \n",
            "  inflating: images_training_rev1/992642.jpg  \n",
            "  inflating: images_training_rev1/992646.jpg  \n",
            "  inflating: images_training_rev1/992649.jpg  \n",
            "  inflating: images_training_rev1/992656.jpg  \n",
            "  inflating: images_training_rev1/992658.jpg  \n",
            "  inflating: images_training_rev1/992663.jpg  \n",
            "  inflating: images_training_rev1/992671.jpg  \n",
            "  inflating: images_training_rev1/992676.jpg  \n",
            "  inflating: images_training_rev1/992687.jpg  \n",
            "  inflating: images_training_rev1/992692.jpg  \n",
            "  inflating: images_training_rev1/992741.jpg  \n",
            "  inflating: images_training_rev1/992748.jpg  \n",
            "  inflating: images_training_rev1/992762.jpg  \n",
            "  inflating: images_training_rev1/992770.jpg  \n",
            "  inflating: images_training_rev1/992771.jpg  \n",
            "  inflating: images_training_rev1/992777.jpg  \n",
            "  inflating: images_training_rev1/992785.jpg  \n",
            "  inflating: images_training_rev1/992790.jpg  \n",
            "  inflating: images_training_rev1/992791.jpg  \n",
            "  inflating: images_training_rev1/992799.jpg  \n",
            "  inflating: images_training_rev1/992809.jpg  \n",
            "  inflating: images_training_rev1/992828.jpg  \n",
            "  inflating: images_training_rev1/992850.jpg  \n",
            "  inflating: images_training_rev1/992851.jpg  \n",
            "  inflating: images_training_rev1/992856.jpg  \n",
            "  inflating: images_training_rev1/992864.jpg  \n",
            "  inflating: images_training_rev1/992867.jpg  \n",
            "  inflating: images_training_rev1/992877.jpg  \n",
            "  inflating: images_training_rev1/992921.jpg  \n",
            "  inflating: images_training_rev1/992932.jpg  \n",
            "  inflating: images_training_rev1/992956.jpg  \n",
            "  inflating: images_training_rev1/992978.jpg  \n",
            "  inflating: images_training_rev1/992985.jpg  \n",
            "  inflating: images_training_rev1/992986.jpg  \n",
            "  inflating: images_training_rev1/993037.jpg  \n",
            "  inflating: images_training_rev1/993040.jpg  \n",
            "  inflating: images_training_rev1/993047.jpg  \n",
            "  inflating: images_training_rev1/993054.jpg  \n",
            "  inflating: images_training_rev1/993056.jpg  \n",
            "  inflating: images_training_rev1/993061.jpg  \n",
            "  inflating: images_training_rev1/993094.jpg  \n",
            "  inflating: images_training_rev1/993111.jpg  \n",
            "  inflating: images_training_rev1/993124.jpg  \n",
            "  inflating: images_training_rev1/993144.jpg  \n",
            "  inflating: images_training_rev1/993147.jpg  \n",
            "  inflating: images_training_rev1/993151.jpg  \n",
            "  inflating: images_training_rev1/993183.jpg  \n",
            "  inflating: images_training_rev1/993279.jpg  \n",
            "  inflating: images_training_rev1/993282.jpg  \n",
            "  inflating: images_training_rev1/993285.jpg  \n",
            "  inflating: images_training_rev1/993323.jpg  \n",
            "  inflating: images_training_rev1/993334.jpg  \n",
            "  inflating: images_training_rev1/993338.jpg  \n",
            "  inflating: images_training_rev1/993366.jpg  \n",
            "  inflating: images_training_rev1/993371.jpg  \n",
            "  inflating: images_training_rev1/993380.jpg  \n",
            "  inflating: images_training_rev1/993399.jpg  \n",
            "  inflating: images_training_rev1/993420.jpg  \n",
            "  inflating: images_training_rev1/993428.jpg  \n",
            "  inflating: images_training_rev1/993434.jpg  \n",
            "  inflating: images_training_rev1/993470.jpg  \n",
            "  inflating: images_training_rev1/993484.jpg  \n",
            "  inflating: images_training_rev1/993523.jpg  \n",
            "  inflating: images_training_rev1/993535.jpg  \n",
            "  inflating: images_training_rev1/993546.jpg  \n",
            "  inflating: images_training_rev1/993556.jpg  \n",
            "  inflating: images_training_rev1/993577.jpg  \n",
            "  inflating: images_training_rev1/993599.jpg  \n",
            "  inflating: images_training_rev1/993615.jpg  \n",
            "  inflating: images_training_rev1/993646.jpg  \n",
            "  inflating: images_training_rev1/993681.jpg  \n",
            "  inflating: images_training_rev1/993700.jpg  \n",
            "  inflating: images_training_rev1/993738.jpg  \n",
            "  inflating: images_training_rev1/993739.jpg  \n",
            "  inflating: images_training_rev1/993758.jpg  \n",
            "  inflating: images_training_rev1/993830.jpg  \n",
            "  inflating: images_training_rev1/993840.jpg  \n",
            "  inflating: images_training_rev1/993859.jpg  \n",
            "  inflating: images_training_rev1/993869.jpg  \n",
            "  inflating: images_training_rev1/993870.jpg  \n",
            "  inflating: images_training_rev1/993872.jpg  \n",
            "  inflating: images_training_rev1/993896.jpg  \n",
            "  inflating: images_training_rev1/993900.jpg  \n",
            "  inflating: images_training_rev1/993915.jpg  \n",
            "  inflating: images_training_rev1/993920.jpg  \n",
            "  inflating: images_training_rev1/993922.jpg  \n",
            "  inflating: images_training_rev1/993930.jpg  \n",
            "  inflating: images_training_rev1/993959.jpg  \n",
            "  inflating: images_training_rev1/993980.jpg  \n",
            "  inflating: images_training_rev1/993982.jpg  \n",
            "  inflating: images_training_rev1/993988.jpg  \n",
            "  inflating: images_training_rev1/994018.jpg  \n",
            "  inflating: images_training_rev1/994031.jpg  \n",
            "  inflating: images_training_rev1/994064.jpg  \n",
            "  inflating: images_training_rev1/994096.jpg  \n",
            "  inflating: images_training_rev1/994114.jpg  \n",
            "  inflating: images_training_rev1/994145.jpg  \n",
            "  inflating: images_training_rev1/994152.jpg  \n",
            "  inflating: images_training_rev1/994186.jpg  \n",
            "  inflating: images_training_rev1/994191.jpg  \n",
            "  inflating: images_training_rev1/994195.jpg  \n",
            "  inflating: images_training_rev1/994219.jpg  \n",
            "  inflating: images_training_rev1/994243.jpg  \n",
            "  inflating: images_training_rev1/994287.jpg  \n",
            "  inflating: images_training_rev1/994288.jpg  \n",
            "  inflating: images_training_rev1/994298.jpg  \n",
            "  inflating: images_training_rev1/994313.jpg  \n",
            "  inflating: images_training_rev1/994314.jpg  \n",
            "  inflating: images_training_rev1/994324.jpg  \n",
            "  inflating: images_training_rev1/994333.jpg  \n",
            "  inflating: images_training_rev1/994347.jpg  \n",
            "  inflating: images_training_rev1/994357.jpg  \n",
            "  inflating: images_training_rev1/994361.jpg  \n",
            "  inflating: images_training_rev1/994367.jpg  \n",
            "  inflating: images_training_rev1/994401.jpg  \n",
            "  inflating: images_training_rev1/994402.jpg  \n",
            "  inflating: images_training_rev1/994409.jpg  \n",
            "  inflating: images_training_rev1/994438.jpg  \n",
            "  inflating: images_training_rev1/994454.jpg  \n",
            "  inflating: images_training_rev1/994474.jpg  \n",
            "  inflating: images_training_rev1/994476.jpg  \n",
            "  inflating: images_training_rev1/994480.jpg  \n",
            "  inflating: images_training_rev1/994503.jpg  \n",
            "  inflating: images_training_rev1/994517.jpg  \n",
            "  inflating: images_training_rev1/994549.jpg  \n",
            "  inflating: images_training_rev1/994553.jpg  \n",
            "  inflating: images_training_rev1/994560.jpg  \n",
            "  inflating: images_training_rev1/994573.jpg  \n",
            "  inflating: images_training_rev1/994602.jpg  \n",
            "  inflating: images_training_rev1/994630.jpg  \n",
            "  inflating: images_training_rev1/994632.jpg  \n",
            "  inflating: images_training_rev1/994644.jpg  \n",
            "  inflating: images_training_rev1/994717.jpg  \n",
            "  inflating: images_training_rev1/994768.jpg  \n",
            "  inflating: images_training_rev1/994834.jpg  \n",
            "  inflating: images_training_rev1/994835.jpg  \n",
            "  inflating: images_training_rev1/994838.jpg  \n",
            "  inflating: images_training_rev1/994845.jpg  \n",
            "  inflating: images_training_rev1/994860.jpg  \n",
            "  inflating: images_training_rev1/994886.jpg  \n",
            "  inflating: images_training_rev1/994890.jpg  \n",
            "  inflating: images_training_rev1/994904.jpg  \n",
            "  inflating: images_training_rev1/994909.jpg  \n",
            "  inflating: images_training_rev1/994910.jpg  \n",
            "  inflating: images_training_rev1/994929.jpg  \n",
            "  inflating: images_training_rev1/994935.jpg  \n",
            "  inflating: images_training_rev1/994967.jpg  \n",
            "  inflating: images_training_rev1/994989.jpg  \n",
            "  inflating: images_training_rev1/994990.jpg  \n",
            "  inflating: images_training_rev1/994997.jpg  \n",
            "  inflating: images_training_rev1/995012.jpg  \n",
            "  inflating: images_training_rev1/995053.jpg  \n",
            "  inflating: images_training_rev1/995054.jpg  \n",
            "  inflating: images_training_rev1/995056.jpg  \n",
            "  inflating: images_training_rev1/995061.jpg  \n",
            "  inflating: images_training_rev1/995091.jpg  \n",
            "  inflating: images_training_rev1/995128.jpg  \n",
            "  inflating: images_training_rev1/995131.jpg  \n",
            "  inflating: images_training_rev1/995137.jpg  \n",
            "  inflating: images_training_rev1/995138.jpg  \n",
            "  inflating: images_training_rev1/995152.jpg  \n",
            "  inflating: images_training_rev1/995153.jpg  \n",
            "  inflating: images_training_rev1/995170.jpg  \n",
            "  inflating: images_training_rev1/995185.jpg  \n",
            "  inflating: images_training_rev1/995227.jpg  \n",
            "  inflating: images_training_rev1/995229.jpg  \n",
            "  inflating: images_training_rev1/995241.jpg  \n",
            "  inflating: images_training_rev1/995256.jpg  \n",
            "  inflating: images_training_rev1/995275.jpg  \n",
            "  inflating: images_training_rev1/995280.jpg  \n",
            "  inflating: images_training_rev1/995286.jpg  \n",
            "  inflating: images_training_rev1/995300.jpg  \n",
            "  inflating: images_training_rev1/995308.jpg  \n",
            "  inflating: images_training_rev1/995364.jpg  \n",
            "  inflating: images_training_rev1/995365.jpg  \n",
            "  inflating: images_training_rev1/995367.jpg  \n",
            "  inflating: images_training_rev1/995379.jpg  \n",
            "  inflating: images_training_rev1/995382.jpg  \n",
            "  inflating: images_training_rev1/995416.jpg  \n",
            "  inflating: images_training_rev1/995419.jpg  \n",
            "  inflating: images_training_rev1/995423.jpg  \n",
            "  inflating: images_training_rev1/995429.jpg  \n",
            "  inflating: images_training_rev1/995503.jpg  \n",
            "  inflating: images_training_rev1/995507.jpg  \n",
            "  inflating: images_training_rev1/995529.jpg  \n",
            "  inflating: images_training_rev1/995542.jpg  \n",
            "  inflating: images_training_rev1/995559.jpg  \n",
            "  inflating: images_training_rev1/995581.jpg  \n",
            "  inflating: images_training_rev1/995605.jpg  \n",
            "  inflating: images_training_rev1/995616.jpg  \n",
            "  inflating: images_training_rev1/995625.jpg  \n",
            "  inflating: images_training_rev1/995634.jpg  \n",
            "  inflating: images_training_rev1/995636.jpg  \n",
            "  inflating: images_training_rev1/995638.jpg  \n",
            "  inflating: images_training_rev1/995658.jpg  \n",
            "  inflating: images_training_rev1/995659.jpg  \n",
            "  inflating: images_training_rev1/995702.jpg  \n",
            "  inflating: images_training_rev1/995771.jpg  \n",
            "  inflating: images_training_rev1/995783.jpg  \n",
            "  inflating: images_training_rev1/995793.jpg  \n",
            "  inflating: images_training_rev1/995815.jpg  \n",
            "  inflating: images_training_rev1/995858.jpg  \n",
            "  inflating: images_training_rev1/995867.jpg  \n",
            "  inflating: images_training_rev1/995869.jpg  \n",
            "  inflating: images_training_rev1/995891.jpg  \n",
            "  inflating: images_training_rev1/995924.jpg  \n",
            "  inflating: images_training_rev1/995946.jpg  \n",
            "  inflating: images_training_rev1/995975.jpg  \n",
            "  inflating: images_training_rev1/995978.jpg  \n",
            "  inflating: images_training_rev1/995993.jpg  \n",
            "  inflating: images_training_rev1/996026.jpg  \n",
            "  inflating: images_training_rev1/996030.jpg  \n",
            "  inflating: images_training_rev1/996040.jpg  \n",
            "  inflating: images_training_rev1/996043.jpg  \n",
            "  inflating: images_training_rev1/996047.jpg  \n",
            "  inflating: images_training_rev1/996064.jpg  \n",
            "  inflating: images_training_rev1/996085.jpg  \n",
            "  inflating: images_training_rev1/996116.jpg  \n",
            "  inflating: images_training_rev1/996128.jpg  \n",
            "  inflating: images_training_rev1/996138.jpg  \n",
            "  inflating: images_training_rev1/996164.jpg  \n",
            "  inflating: images_training_rev1/996186.jpg  \n",
            "  inflating: images_training_rev1/996192.jpg  \n",
            "  inflating: images_training_rev1/996195.jpg  \n",
            "  inflating: images_training_rev1/996227.jpg  \n",
            "  inflating: images_training_rev1/996234.jpg  \n",
            "  inflating: images_training_rev1/996288.jpg  \n",
            "  inflating: images_training_rev1/996295.jpg  \n",
            "  inflating: images_training_rev1/996299.jpg  \n",
            "  inflating: images_training_rev1/996302.jpg  \n",
            "  inflating: images_training_rev1/996329.jpg  \n",
            "  inflating: images_training_rev1/996350.jpg  \n",
            "  inflating: images_training_rev1/996359.jpg  \n",
            "  inflating: images_training_rev1/996363.jpg  \n",
            "  inflating: images_training_rev1/996385.jpg  \n",
            "  inflating: images_training_rev1/996396.jpg  \n",
            "  inflating: images_training_rev1/996431.jpg  \n",
            "  inflating: images_training_rev1/996443.jpg  \n",
            "  inflating: images_training_rev1/996452.jpg  \n",
            "  inflating: images_training_rev1/996480.jpg  \n",
            "  inflating: images_training_rev1/996508.jpg  \n",
            "  inflating: images_training_rev1/996510.jpg  \n",
            "  inflating: images_training_rev1/996535.jpg  \n",
            "  inflating: images_training_rev1/996537.jpg  \n",
            "  inflating: images_training_rev1/996542.jpg  \n",
            "  inflating: images_training_rev1/996552.jpg  \n",
            "  inflating: images_training_rev1/996566.jpg  \n",
            "  inflating: images_training_rev1/996585.jpg  \n",
            "  inflating: images_training_rev1/996595.jpg  \n",
            "  inflating: images_training_rev1/996598.jpg  \n",
            "  inflating: images_training_rev1/996602.jpg  \n",
            "  inflating: images_training_rev1/996625.jpg  \n",
            "  inflating: images_training_rev1/996629.jpg  \n",
            "  inflating: images_training_rev1/996646.jpg  \n",
            "  inflating: images_training_rev1/996661.jpg  \n",
            "  inflating: images_training_rev1/996665.jpg  \n",
            "  inflating: images_training_rev1/996666.jpg  \n",
            "  inflating: images_training_rev1/996699.jpg  \n",
            "  inflating: images_training_rev1/996701.jpg  \n",
            "  inflating: images_training_rev1/996705.jpg  \n",
            "  inflating: images_training_rev1/996707.jpg  \n",
            "  inflating: images_training_rev1/996727.jpg  \n",
            "  inflating: images_training_rev1/996783.jpg  \n",
            "  inflating: images_training_rev1/996806.jpg  \n",
            "  inflating: images_training_rev1/996813.jpg  \n",
            "  inflating: images_training_rev1/996814.jpg  \n",
            "  inflating: images_training_rev1/996830.jpg  \n",
            "  inflating: images_training_rev1/996835.jpg  \n",
            "  inflating: images_training_rev1/996836.jpg  \n",
            "  inflating: images_training_rev1/996844.jpg  \n",
            "  inflating: images_training_rev1/996846.jpg  \n",
            "  inflating: images_training_rev1/996854.jpg  \n",
            "  inflating: images_training_rev1/996869.jpg  \n",
            "  inflating: images_training_rev1/996907.jpg  \n",
            "  inflating: images_training_rev1/996919.jpg  \n",
            "  inflating: images_training_rev1/996922.jpg  \n",
            "  inflating: images_training_rev1/996944.jpg  \n",
            "  inflating: images_training_rev1/996945.jpg  \n",
            "  inflating: images_training_rev1/996957.jpg  \n",
            "  inflating: images_training_rev1/997008.jpg  \n",
            "  inflating: images_training_rev1/997040.jpg  \n",
            "  inflating: images_training_rev1/997069.jpg  \n",
            "  inflating: images_training_rev1/997072.jpg  \n",
            "  inflating: images_training_rev1/997090.jpg  \n",
            "  inflating: images_training_rev1/997093.jpg  \n",
            "  inflating: images_training_rev1/997120.jpg  \n",
            "  inflating: images_training_rev1/997132.jpg  \n",
            "  inflating: images_training_rev1/997133.jpg  \n",
            "  inflating: images_training_rev1/997140.jpg  \n",
            "  inflating: images_training_rev1/997149.jpg  \n",
            "  inflating: images_training_rev1/997152.jpg  \n",
            "  inflating: images_training_rev1/997153.jpg  \n",
            "  inflating: images_training_rev1/997170.jpg  \n",
            "  inflating: images_training_rev1/997185.jpg  \n",
            "  inflating: images_training_rev1/997199.jpg  \n",
            "  inflating: images_training_rev1/997240.jpg  \n",
            "  inflating: images_training_rev1/997244.jpg  \n",
            "  inflating: images_training_rev1/997260.jpg  \n",
            "  inflating: images_training_rev1/997265.jpg  \n",
            "  inflating: images_training_rev1/997291.jpg  \n",
            "  inflating: images_training_rev1/997296.jpg  \n",
            "  inflating: images_training_rev1/997298.jpg  \n",
            "  inflating: images_training_rev1/997314.jpg  \n",
            "  inflating: images_training_rev1/997316.jpg  \n",
            "  inflating: images_training_rev1/997319.jpg  \n",
            "  inflating: images_training_rev1/997342.jpg  \n",
            "  inflating: images_training_rev1/997348.jpg  \n",
            "  inflating: images_training_rev1/997362.jpg  \n",
            "  inflating: images_training_rev1/997372.jpg  \n",
            "  inflating: images_training_rev1/997390.jpg  \n",
            "  inflating: images_training_rev1/997404.jpg  \n",
            "  inflating: images_training_rev1/997405.jpg  \n",
            "  inflating: images_training_rev1/997424.jpg  \n",
            "  inflating: images_training_rev1/997456.jpg  \n",
            "  inflating: images_training_rev1/997459.jpg  \n",
            "  inflating: images_training_rev1/997487.jpg  \n",
            "  inflating: images_training_rev1/997503.jpg  \n",
            "  inflating: images_training_rev1/997559.jpg  \n",
            "  inflating: images_training_rev1/997582.jpg  \n",
            "  inflating: images_training_rev1/997586.jpg  \n",
            "  inflating: images_training_rev1/997596.jpg  \n",
            "  inflating: images_training_rev1/997627.jpg  \n",
            "  inflating: images_training_rev1/997634.jpg  \n",
            "  inflating: images_training_rev1/997646.jpg  \n",
            "  inflating: images_training_rev1/997652.jpg  \n",
            "  inflating: images_training_rev1/997664.jpg  \n",
            "  inflating: images_training_rev1/997668.jpg  \n",
            "  inflating: images_training_rev1/997669.jpg  \n",
            "  inflating: images_training_rev1/997691.jpg  \n",
            "  inflating: images_training_rev1/997713.jpg  \n",
            "  inflating: images_training_rev1/997717.jpg  \n",
            "  inflating: images_training_rev1/997725.jpg  \n",
            "  inflating: images_training_rev1/997726.jpg  \n",
            "  inflating: images_training_rev1/997749.jpg  \n",
            "  inflating: images_training_rev1/997788.jpg  \n",
            "  inflating: images_training_rev1/997804.jpg  \n",
            "  inflating: images_training_rev1/997823.jpg  \n",
            "  inflating: images_training_rev1/997826.jpg  \n",
            "  inflating: images_training_rev1/997827.jpg  \n",
            "  inflating: images_training_rev1/997840.jpg  \n",
            "  inflating: images_training_rev1/997842.jpg  \n",
            "  inflating: images_training_rev1/997863.jpg  \n",
            "  inflating: images_training_rev1/997871.jpg  \n",
            "  inflating: images_training_rev1/997882.jpg  \n",
            "  inflating: images_training_rev1/997889.jpg  \n",
            "  inflating: images_training_rev1/997899.jpg  \n",
            "  inflating: images_training_rev1/997901.jpg  \n",
            "  inflating: images_training_rev1/997911.jpg  \n",
            "  inflating: images_training_rev1/997935.jpg  \n",
            "  inflating: images_training_rev1/997966.jpg  \n",
            "  inflating: images_training_rev1/997970.jpg  \n",
            "  inflating: images_training_rev1/997989.jpg  \n",
            "  inflating: images_training_rev1/998009.jpg  \n",
            "  inflating: images_training_rev1/998011.jpg  \n",
            "  inflating: images_training_rev1/998038.jpg  \n",
            "  inflating: images_training_rev1/998039.jpg  \n",
            "  inflating: images_training_rev1/998044.jpg  \n",
            "  inflating: images_training_rev1/998059.jpg  \n",
            "  inflating: images_training_rev1/998062.jpg  \n",
            "  inflating: images_training_rev1/998077.jpg  \n",
            "  inflating: images_training_rev1/998097.jpg  \n",
            "  inflating: images_training_rev1/998126.jpg  \n",
            "  inflating: images_training_rev1/998133.jpg  \n",
            "  inflating: images_training_rev1/998158.jpg  \n",
            "  inflating: images_training_rev1/998178.jpg  \n",
            "  inflating: images_training_rev1/998202.jpg  \n",
            "  inflating: images_training_rev1/998205.jpg  \n",
            "  inflating: images_training_rev1/998215.jpg  \n",
            "  inflating: images_training_rev1/998220.jpg  \n",
            "  inflating: images_training_rev1/998221.jpg  \n",
            "  inflating: images_training_rev1/998245.jpg  \n",
            "  inflating: images_training_rev1/998252.jpg  \n",
            "  inflating: images_training_rev1/998288.jpg  \n",
            "  inflating: images_training_rev1/998296.jpg  \n",
            "  inflating: images_training_rev1/998313.jpg  \n",
            "  inflating: images_training_rev1/998334.jpg  \n",
            "  inflating: images_training_rev1/998339.jpg  \n",
            "  inflating: images_training_rev1/998343.jpg  \n",
            "  inflating: images_training_rev1/998352.jpg  \n",
            "  inflating: images_training_rev1/998355.jpg  \n",
            "  inflating: images_training_rev1/998356.jpg  \n",
            "  inflating: images_training_rev1/998362.jpg  \n",
            "  inflating: images_training_rev1/998370.jpg  \n",
            "  inflating: images_training_rev1/998378.jpg  \n",
            "  inflating: images_training_rev1/998406.jpg  \n",
            "  inflating: images_training_rev1/998410.jpg  \n",
            "  inflating: images_training_rev1/998418.jpg  \n",
            "  inflating: images_training_rev1/998437.jpg  \n",
            "  inflating: images_training_rev1/998463.jpg  \n",
            "  inflating: images_training_rev1/998471.jpg  \n",
            "  inflating: images_training_rev1/998489.jpg  \n",
            "  inflating: images_training_rev1/998492.jpg  \n",
            "  inflating: images_training_rev1/998501.jpg  \n",
            "  inflating: images_training_rev1/998503.jpg  \n",
            "  inflating: images_training_rev1/998507.jpg  \n",
            "  inflating: images_training_rev1/998517.jpg  \n",
            "  inflating: images_training_rev1/998525.jpg  \n",
            "  inflating: images_training_rev1/998542.jpg  \n",
            "  inflating: images_training_rev1/998552.jpg  \n",
            "  inflating: images_training_rev1/998570.jpg  \n",
            "  inflating: images_training_rev1/998575.jpg  \n",
            "  inflating: images_training_rev1/998579.jpg  \n",
            "  inflating: images_training_rev1/998599.jpg  \n",
            "  inflating: images_training_rev1/998612.jpg  \n",
            "  inflating: images_training_rev1/998628.jpg  \n",
            "  inflating: images_training_rev1/998629.jpg  \n",
            "  inflating: images_training_rev1/998645.jpg  \n",
            "  inflating: images_training_rev1/998649.jpg  \n",
            "  inflating: images_training_rev1/998659.jpg  \n",
            "  inflating: images_training_rev1/998661.jpg  \n",
            "  inflating: images_training_rev1/998662.jpg  \n",
            "  inflating: images_training_rev1/998669.jpg  \n",
            "  inflating: images_training_rev1/998723.jpg  \n",
            "  inflating: images_training_rev1/998735.jpg  \n",
            "  inflating: images_training_rev1/998751.jpg  \n",
            "  inflating: images_training_rev1/998784.jpg  \n",
            "  inflating: images_training_rev1/998789.jpg  \n",
            "  inflating: images_training_rev1/998814.jpg  \n",
            "  inflating: images_training_rev1/998816.jpg  \n",
            "  inflating: images_training_rev1/998823.jpg  \n",
            "  inflating: images_training_rev1/998874.jpg  \n",
            "  inflating: images_training_rev1/998907.jpg  \n",
            "  inflating: images_training_rev1/998911.jpg  \n",
            "  inflating: images_training_rev1/998915.jpg  \n",
            "  inflating: images_training_rev1/998927.jpg  \n",
            "  inflating: images_training_rev1/998931.jpg  \n",
            "  inflating: images_training_rev1/998947.jpg  \n",
            "  inflating: images_training_rev1/999002.jpg  \n",
            "  inflating: images_training_rev1/999003.jpg  \n",
            "  inflating: images_training_rev1/999031.jpg  \n",
            "  inflating: images_training_rev1/999035.jpg  \n",
            "  inflating: images_training_rev1/999045.jpg  \n",
            "  inflating: images_training_rev1/999093.jpg  \n",
            "  inflating: images_training_rev1/999100.jpg  \n",
            "  inflating: images_training_rev1/999108.jpg  \n",
            "  inflating: images_training_rev1/999120.jpg  \n",
            "  inflating: images_training_rev1/999128.jpg  \n",
            "  inflating: images_training_rev1/999137.jpg  \n",
            "  inflating: images_training_rev1/999179.jpg  \n",
            "  inflating: images_training_rev1/999199.jpg  \n",
            "  inflating: images_training_rev1/999263.jpg  \n",
            "  inflating: images_training_rev1/999264.jpg  \n",
            "  inflating: images_training_rev1/999274.jpg  \n",
            "  inflating: images_training_rev1/999289.jpg  \n",
            "  inflating: images_training_rev1/999293.jpg  \n",
            "  inflating: images_training_rev1/999307.jpg  \n",
            "  inflating: images_training_rev1/999308.jpg  \n",
            "  inflating: images_training_rev1/999353.jpg  \n",
            "  inflating: images_training_rev1/999354.jpg  \n",
            "  inflating: images_training_rev1/999393.jpg  \n",
            "  inflating: images_training_rev1/999398.jpg  \n",
            "  inflating: images_training_rev1/999415.jpg  \n",
            "  inflating: images_training_rev1/999418.jpg  \n",
            "  inflating: images_training_rev1/999423.jpg  \n",
            "  inflating: images_training_rev1/999435.jpg  \n",
            "  inflating: images_training_rev1/999475.jpg  \n",
            "  inflating: images_training_rev1/999502.jpg  \n",
            "  inflating: images_training_rev1/999508.jpg  \n",
            "  inflating: images_training_rev1/999530.jpg  \n",
            "  inflating: images_training_rev1/999540.jpg  \n",
            "  inflating: images_training_rev1/999569.jpg  \n",
            "  inflating: images_training_rev1/999604.jpg  \n",
            "  inflating: images_training_rev1/999622.jpg  \n",
            "  inflating: images_training_rev1/999655.jpg  \n",
            "  inflating: images_training_rev1/999680.jpg  \n",
            "  inflating: images_training_rev1/999685.jpg  \n",
            "  inflating: images_training_rev1/999687.jpg  \n",
            "  inflating: images_training_rev1/999689.jpg  \n",
            "  inflating: images_training_rev1/999731.jpg  \n",
            "  inflating: images_training_rev1/999753.jpg  \n",
            "  inflating: images_training_rev1/999777.jpg  \n",
            "  inflating: images_training_rev1/999781.jpg  \n",
            "  inflating: images_training_rev1/999786.jpg  \n",
            "  inflating: images_training_rev1/999795.jpg  \n",
            "  inflating: images_training_rev1/999873.jpg  \n",
            "  inflating: images_training_rev1/999875.jpg  \n",
            "  inflating: images_training_rev1/999890.jpg  \n",
            "  inflating: images_training_rev1/999893.jpg  \n",
            "  inflating: images_training_rev1/999900.jpg  \n",
            "  inflating: images_training_rev1/999936.jpg  \n",
            "  inflating: images_training_rev1/999948.jpg  \n",
            "  inflating: images_training_rev1/999950.jpg  \n",
            "  inflating: images_training_rev1/999958.jpg  \n",
            "  inflating: images_training_rev1/999964.jpg  \n",
            "  inflating: images_training_rev1/999967.jpg  \n"
          ],
          "name": "stdout"
        }
      ]
    },
    {
      "cell_type": "code",
      "metadata": {
        "id": "rI78piTe1kCa"
      },
      "source": [
        "\n",
        "files_train= glob.glob('../content/images_training_rev1/*.jpg')"
      ],
      "execution_count": null,
      "outputs": []
    },
    {
      "cell_type": "code",
      "metadata": {
        "id": "VYYkQOJT1xxz"
      },
      "source": [
        "files_array=np.asarray(files_train)"
      ],
      "execution_count": null,
      "outputs": []
    },
    {
      "cell_type": "code",
      "metadata": {
        "id": "5lMv00BW7OT_",
        "outputId": "47d7bef7-98d8-48fd-808a-77185982e220",
        "colab": {
          "base_uri": "https://localhost:8080/",
          "height": 139
        }
      },
      "source": [
        "files_array.reshape(-1,1)"
      ],
      "execution_count": null,
      "outputs": [
        {
          "output_type": "execute_result",
          "data": {
            "text/plain": [
              "array([['../content/images_training_rev1/730449.jpg'],\n",
              "       ['../content/images_training_rev1/910485.jpg'],\n",
              "       ['../content/images_training_rev1/373020.jpg'],\n",
              "       ...,\n",
              "       ['../content/images_training_rev1/208787.jpg'],\n",
              "       ['../content/images_training_rev1/164513.jpg'],\n",
              "       ['../content/images_training_rev1/180357.jpg']], dtype='<U42')"
            ]
          },
          "metadata": {
            "tags": []
          },
          "execution_count": 21
        }
      ]
    },
    {
      "cell_type": "code",
      "metadata": {
        "id": "vrlzoOqK1z2s"
      },
      "source": [
        "np.save('/content/drive/My Drive/galaxy/files_array.npy',files_array)"
      ],
      "execution_count": null,
      "outputs": []
    },
    {
      "cell_type": "code",
      "metadata": {
        "id": "HfvSJ0x_6MuL"
      },
      "source": [
        "files_load=np.load('/content/drive/My Drive/galaxy/files_array.npy') #load from saved space\n",
        "#array=load_resall.astype('int32')"
      ],
      "execution_count": null,
      "outputs": []
    },
    {
      "cell_type": "code",
      "metadata": {
        "id": "dF0OsZVT8Dnx",
        "outputId": "37b9c6fc-5d37-48f0-87d7-107d87cc749b",
        "colab": {
          "base_uri": "https://localhost:8080/",
          "height": 34
        }
      },
      "source": [
        "files_load.dtype"
      ],
      "execution_count": null,
      "outputs": [
        {
          "output_type": "execute_result",
          "data": {
            "text/plain": [
              "dtype('<U42')"
            ]
          },
          "metadata": {
            "tags": []
          },
          "execution_count": 5
        }
      ]
    },
    {
      "cell_type": "code",
      "metadata": {
        "id": "Fq47msyC9MuI"
      },
      "source": [
        "def readImage(address):\n",
        "    x = im.open(address)\n",
        "    x = np.array(x)\n",
        "    return(x)"
      ],
      "execution_count": null,
      "outputs": []
    },
    {
      "cell_type": "code",
      "metadata": {
        "id": "sIeGgz3T8FNm"
      },
      "source": [
        "image=readImage(files_load[1])\n"
      ],
      "execution_count": null,
      "outputs": []
    },
    {
      "cell_type": "code",
      "metadata": {
        "id": "Cp_oJbjy9jsl",
        "outputId": "7b6b9cef-efb5-4d19-ff27-335633387a75",
        "colab": {
          "base_uri": "https://localhost:8080/",
          "height": 286
        }
      },
      "source": [
        "plt.imshow(image)"
      ],
      "execution_count": null,
      "outputs": [
        {
          "output_type": "execute_result",
          "data": {
            "text/plain": [
              "<matplotlib.image.AxesImage at 0x7f818f721470>"
            ]
          },
          "metadata": {
            "tags": []
          },
          "execution_count": 25
        },
        {
          "output_type": "display_data",
          "data": {
            "image/png": "[encoded data removed]",
            "text/plain": [
              "<Figure size 432x288 with 1 Axes>"
            ]
          },
          "metadata": {
            "tags": [],
            "needs_background": "light"
          }
        }
      ]
    },
    {
      "cell_type": "code",
      "metadata": {
        "id": "w2gofwKd2IxX",
        "outputId": "d8f7a569-64c9-4af8-d647-8642dbb9dc35",
        "colab": {
          "base_uri": "https://localhost:8080/",
          "height": 34
        }
      },
      "source": [
        "image.shape"
      ],
      "execution_count": null,
      "outputs": [
        {
          "output_type": "execute_result",
          "data": {
            "text/plain": [
              "(424, 424, 3)"
            ]
          },
          "metadata": {
            "tags": []
          },
          "execution_count": 18
        }
      ]
    },
    {
      "cell_type": "code",
      "metadata": {
        "id": "zj3RuXUT2N5B"
      },
      "source": [
        "graydet = rgb2gray(image)"
      ],
      "execution_count": null,
      "outputs": []
    },
    {
      "cell_type": "code",
      "metadata": {
        "id": "eqD66qzc2bsW",
        "outputId": "e6134cd8-226f-4d55-c68a-abf5547bc740",
        "colab": {
          "base_uri": "https://localhost:8080/",
          "height": 34
        }
      },
      "source": [
        "graydet.shape"
      ],
      "execution_count": null,
      "outputs": [
        {
          "output_type": "execute_result",
          "data": {
            "text/plain": [
              "(424, 424)"
            ]
          },
          "metadata": {
            "tags": []
          },
          "execution_count": 27
        }
      ]
    },
    {
      "cell_type": "code",
      "metadata": {
        "id": "xu6B69W92dwE",
        "outputId": "8953f182-54f7-4212-eb78-589175eb33ac",
        "colab": {
          "base_uri": "https://localhost:8080/",
          "height": 34
        }
      },
      "source": [
        "np.linalg.det(graydet)"
      ],
      "execution_count": null,
      "outputs": [
        {
          "output_type": "execute_result",
          "data": {
            "text/plain": [
              "0.0"
            ]
          },
          "metadata": {
            "tags": []
          },
          "execution_count": 20
        }
      ]
    },
    {
      "cell_type": "code",
      "metadata": {
        "id": "UwyurTCT4xWU"
      },
      "source": [
        "def gini(array):\n",
        "    \"\"\"Calculate the Gini coefficient of a numpy array.\"\"\"\n",
        "    # based on bottom eq:\n",
        "    # http://www.statsdirect.com/help/generatedimages/equations/equation154.svg\n",
        "    # from:\n",
        "    # http://www.statsdirect.com/help/default.htm#nonparametric_methods/gini.htm\n",
        "    # All values are treated equally, arrays must be 1d:\n",
        "    array = array.flatten()\n",
        "    if np.amin(array) < 0:\n",
        "        # Values cannot be negative:\n",
        "        array -= np.amin(array)\n",
        "    # Values cannot be 0:\n",
        "    array += 0.0000001\n",
        "    # Values must be sorted:\n",
        "    array = np.sort(array)\n",
        "    # Index per array element:\n",
        "    index = np.arange(1,array.shape[0]+1)\n",
        "    # Number of array elements:\n",
        "    n = array.shape[0]\n",
        "    # Gini coefficient:\n",
        "    return ((np.sum((2 * index - n  - 1) * array)) / (n * np.sum(array)))"
      ],
      "execution_count": null,
      "outputs": []
    },
    {
      "cell_type": "code",
      "metadata": {
        "id": "see7opAz40rL",
        "outputId": "ea45eb3c-76e8-4794-8958-8541a5037354",
        "colab": {
          "base_uri": "https://localhost:8080/",
          "height": 34
        }
      },
      "source": [
        "gc=gini(graydet)\n",
        "gc"
      ],
      "execution_count": null,
      "outputs": [
        {
          "output_type": "execute_result",
          "data": {
            "text/plain": [
              "0.6194807967922814"
            ]
          },
          "metadata": {
            "tags": []
          },
          "execution_count": 30
        }
      ]
    },
    {
      "cell_type": "code",
      "metadata": {
        "id": "IDSk88cRjPdG",
        "outputId": "b6493668-46d3-4910-da0f-6e46da1fa9c7",
        "colab": {
          "base_uri": "https://localhost:8080/",
          "height": 34
        }
      },
      "source": [
        "image.shape"
      ],
      "execution_count": null,
      "outputs": [
        {
          "output_type": "execute_result",
          "data": {
            "text/plain": [
              "(424, 424, 3)"
            ]
          },
          "metadata": {
            "tags": []
          },
          "execution_count": 33
        }
      ]
    },
    {
      "cell_type": "code",
      "metadata": {
        "id": "GuL3JnyGi1aN"
      },
      "source": [
        "gauss=graydet.reshape(len(graydet)*len(graydet))"
      ],
      "execution_count": null,
      "outputs": []
    },
    {
      "cell_type": "code",
      "metadata": {
        "id": "-tF_99lDjmiD"
      },
      "source": [
        "uni,occ=np.unique(gauss,return_counts=True)"
      ],
      "execution_count": null,
      "outputs": []
    },
    {
      "cell_type": "code",
      "metadata": {
        "id": "wEarX4H-j0RE",
        "outputId": "aafd7b3b-868c-4a2f-9772-1014bfae7855",
        "colab": {
          "base_uri": "https://localhost:8080/",
          "height": 282
        }
      },
      "source": [
        "plt.plot(uni,occ)"
      ],
      "execution_count": null,
      "outputs": [
        {
          "output_type": "execute_result",
          "data": {
            "text/plain": [
              "[<matplotlib.lines.Line2D at 0x7f818c240780>]"
            ]
          },
          "metadata": {
            "tags": []
          },
          "execution_count": 38
        },
        {
          "output_type": "display_data",
          "data": {
            "image/png": "[encoded data removed]",
            "text/plain": [
              "<Figure size 432x288 with 1 Axes>"
            ]
          },
          "metadata": {
            "tags": [],
            "needs_background": "light"
          }
        }
      ]
    },
    {
      "cell_type": "code",
      "metadata": {
        "id": "roFNUYUHkDMo",
        "outputId": "925ca45a-8695-4f0e-aaf8-57991ed65c6b",
        "colab": {
          "base_uri": "https://localhost:8080/",
          "height": 34
        }
      },
      "source": [
        "gauss.mean()"
      ],
      "execution_count": null,
      "outputs": [
        {
          "output_type": "execute_result",
          "data": {
            "text/plain": [
              "0.0393019039008893"
            ]
          },
          "metadata": {
            "tags": []
          },
          "execution_count": 39
        }
      ]
    },
    {
      "cell_type": "code",
      "metadata": {
        "id": "9e2pV1q5kGCI",
        "outputId": "b77e5e7b-bab1-4154-e216-d7a0bde1439b",
        "colab": {
          "base_uri": "https://localhost:8080/",
          "height": 34
        }
      },
      "source": [
        "np.median(gauss)"
      ],
      "execution_count": null,
      "outputs": [
        {
          "output_type": "execute_result",
          "data": {
            "text/plain": [
              "0.019875686274509804"
            ]
          },
          "metadata": {
            "tags": []
          },
          "execution_count": 41
        }
      ]
    },
    {
      "cell_type": "code",
      "metadata": {
        "id": "6BOfx-itlljs",
        "outputId": "51aff2f8-8ded-43f7-9509-026d8f14ffd6",
        "colab": {
          "base_uri": "https://localhost:8080/",
          "height": 34
        }
      },
      "source": [
        "np.linalg.matrix_rank(graydet)"
      ],
      "execution_count": null,
      "outputs": [
        {
          "output_type": "execute_result",
          "data": {
            "text/plain": [
              "424"
            ]
          },
          "metadata": {
            "tags": []
          },
          "execution_count": 43
        }
      ]
    },
    {
      "cell_type": "code",
      "metadata": {
        "id": "YQaS-e932lCz",
        "outputId": "a5f1be48-4b27-4e45-b192-183ad6995e2f",
        "colab": {
          "base_uri": "https://localhost:8080/",
          "height": 243
        }
      },
      "source": [
        "graydet"
      ],
      "execution_count": null,
      "outputs": [
        {
          "output_type": "execute_result",
          "data": {
            "text/plain": [
              "array([[0.01595412, 0.01987569, 0.02771882, ..., 0.02771882, 0.03164039,\n",
              "        0.03556196],\n",
              "       [0.01595412, 0.01987569, 0.02379725, ..., 0.02771882, 0.03164039,\n",
              "        0.03556196],\n",
              "       [0.01203255, 0.01595412, 0.02379725, ..., 0.02771882, 0.03164039,\n",
              "        0.03556196],\n",
              "       ...,\n",
              "       [0.00811098, 0.00811098, 0.00811098, ..., 0.03137255, 0.03921569,\n",
              "        0.04313725],\n",
              "       [0.00811098, 0.00811098, 0.00811098, ..., 0.03529412, 0.04313725,\n",
              "        0.05098039],\n",
              "       [0.00811098, 0.00811098, 0.00811098, ..., 0.03921569, 0.04705882,\n",
              "        0.05490196]])"
            ]
          },
          "metadata": {
            "tags": []
          },
          "execution_count": 15
        }
      ]
    },
    {
      "cell_type": "code",
      "metadata": {
        "id": "djHt64A29P3n",
        "outputId": "9668a5f5-f94a-4b26-b686-443bff63bca7",
        "colab": {
          "base_uri": "https://localhost:8080/",
          "height": 286
        }
      },
      "source": [
        "plt.imshow(image) #check if ordering of image has changed or not"
      ],
      "execution_count": null,
      "outputs": [
        {
          "output_type": "execute_result",
          "data": {
            "text/plain": [
              "<matplotlib.image.AxesImage at 0x7f3653edb588>"
            ]
          },
          "metadata": {
            "tags": []
          },
          "execution_count": 63
        },
        {
          "output_type": "display_data",
          "data": {
            "image/png": "[encoded data removed]",
            "text/plain": [
              "<Figure size 432x288 with 1 Axes>"
            ]
          },
          "metadata": {
            "tags": [],
            "needs_background": "light"
          }
        }
      ]
    },
    {
      "cell_type": "code",
      "metadata": {
        "id": "vzXTxbhe9ZlO"
      },
      "source": [
        "\n",
        "def pcashape(image,thres):    #arrange as number of components\n",
        "  gim = rgb2gray(image)\n",
        "  #thresh = threshold_otsu(gim)\n",
        "  #binary = gim_286947 > thresh\n",
        "  #plt.imshow(binary,cmap='binary')\n",
        "  pca=PCA(n_components=thres)\n",
        "  shaped=pca.fit_transform(gim)\n",
        "  return np.size(shaped,axis=1)"
      ],
      "execution_count": null,
      "outputs": []
    },
    {
      "cell_type": "code",
      "metadata": {
        "id": "1e7Jro65-r4C"
      },
      "source": [
        "resall=np.zeros_like(files_train)\n",
        "for i in range (len(files_train)):\n",
        "  image=readImage(files_train[i])\n",
        "  resall[i]=pcashape(image,0.99)"
      ],
      "execution_count": null,
      "outputs": []
    },
    {
      "cell_type": "code",
      "metadata": {
        "id": "_FmReig5UvRa",
        "outputId": "4f442cb9-5014-4bd4-9811-3ce8ecd56ab5",
        "colab": {
          "base_uri": "https://localhost:8080/",
          "height": 34
        }
      },
      "source": [
        "resall.shape"
      ],
      "execution_count": null,
      "outputs": [
        {
          "output_type": "execute_result",
          "data": {
            "text/plain": [
              "(61578,)"
            ]
          },
          "metadata": {
            "tags": []
          },
          "execution_count": 45
        }
      ]
    },
    {
      "cell_type": "code",
      "metadata": {
        "id": "qgZSPZiT-wn4"
      },
      "source": [
        "np.save('/content/drive/My Drive/galaxy/components1.npy',resall)"
      ],
      "execution_count": null,
      "outputs": []
    },
    {
      "cell_type": "code",
      "metadata": {
        "id": "MnjpOhaMU2Ng"
      },
      "source": [
        "load_resall=np.load('/content/drive/My Drive/galaxy/components1.npy')"
      ],
      "execution_count": null,
      "outputs": []
    },
    {
      "cell_type": "code",
      "metadata": {
        "id": "-c6CcyDDvhMw"
      },
      "source": [
        "array=load_resall.astype('int32')"
      ],
      "execution_count": null,
      "outputs": []
    },
    {
      "cell_type": "code",
      "metadata": {
        "id": "BI9EGtY-vqHT",
        "outputId": "c09fbbd5-d096-4288-a263-481d25ca6d63",
        "colab": {
          "base_uri": "https://localhost:8080/",
          "height": 34
        }
      },
      "source": [
        "array.shape"
      ],
      "execution_count": null,
      "outputs": [
        {
          "output_type": "execute_result",
          "data": {
            "text/plain": [
              "(61578,)"
            ]
          },
          "metadata": {
            "tags": []
          },
          "execution_count": 11
        }
      ]
    },
    {
      "cell_type": "code",
      "metadata": {
        "id": "XF9v1-HaU9FV",
        "outputId": "3fa79f4f-b9c2-40d7-fa8b-0fc253658c36",
        "colab": {
          "base_uri": "https://localhost:8080/",
          "height": 34
        }
      },
      "source": [
        "X=array.reshape(-1,1)\n",
        "X.shape"
      ],
      "execution_count": null,
      "outputs": [
        {
          "output_type": "execute_result",
          "data": {
            "text/plain": [
              "(61578, 1)"
            ]
          },
          "metadata": {
            "tags": []
          },
          "execution_count": 16
        }
      ]
    },
    {
      "cell_type": "code",
      "metadata": {
        "id": "XxpmYwF-VAoI",
        "outputId": "50030b1b-a77b-4708-bcc7-a34843f45b20",
        "colab": {
          "base_uri": "https://localhost:8080/",
          "height": 121
        }
      },
      "source": [
        "clust = OPTICS(min_samples=50, xi=.05, min_cluster_size=.05)\n",
        "\n",
        "# Run the fit\n",
        "clust.fit(X)"
      ],
      "execution_count": null,
      "outputs": [
        {
          "output_type": "stream",
          "text": [
            "/usr/local/lib/python3.6/dist-packages/sklearn/cluster/_optics.py:802: RuntimeWarning: divide by zero encountered in true_divide\n",
            "  ratio = reachability_plot[:-1] / reachability_plot[1:]\n"
          ],
          "name": "stderr"
        },
        {
          "output_type": "execute_result",
          "data": {
            "text/plain": [
              "OPTICS(algorithm='auto', cluster_method='xi', eps=None, leaf_size=30,\n",
              "       max_eps=inf, metric='minkowski', metric_params=None,\n",
              "       min_cluster_size=0.05, min_samples=50, n_jobs=None, p=2,\n",
              "       predecessor_correction=True, xi=0.05)"
            ]
          },
          "metadata": {
            "tags": []
          },
          "execution_count": 59
        }
      ]
    },
    {
      "cell_type": "code",
      "metadata": {
        "id": "QA4vSZStoVz5"
      },
      "source": [
        "F=clust.labels_"
      ],
      "execution_count": null,
      "outputs": []
    },
    {
      "cell_type": "code",
      "metadata": {
        "id": "GrsvgY46ogzM"
      },
      "source": [
        "uni,occ=np.unique(F,return_counts=True)"
      ],
      "execution_count": null,
      "outputs": []
    },
    {
      "cell_type": "code",
      "metadata": {
        "id": "ibFdjucUopME",
        "outputId": "9cc97d92-b2cf-4857-a167-b354034c727f",
        "colab": {
          "base_uri": "https://localhost:8080/",
          "height": 34
        }
      },
      "source": [
        "plot(uni,occ)"
      ],
      "execution_count": null,
      "outputs": [
        {
          "output_type": "execute_result",
          "data": {
            "text/plain": [
              "array([  195, 61383])"
            ]
          },
          "metadata": {
            "tags": []
          },
          "execution_count": 19
        }
      ]
    },
    {
      "cell_type": "code",
      "metadata": {
        "id": "gNLIweKs9Tmf"
      },
      "source": [
        "plot(array,F)"
      ],
      "execution_count": null,
      "outputs": []
    },
    {
      "cell_type": "code",
      "metadata": {
        "id": "WJG4idFwoxRg",
        "outputId": "5c81bb21-c468-4083-9241-281ed0a46383",
        "colab": {
          "base_uri": "https://localhost:8080/",
          "height": 34
        }
      },
      "source": [
        "clust.labels_.shape"
      ],
      "execution_count": null,
      "outputs": [
        {
          "output_type": "execute_result",
          "data": {
            "text/plain": [
              "(61578,)"
            ]
          },
          "metadata": {
            "tags": []
          },
          "execution_count": 68
        }
      ]
    },
    {
      "cell_type": "code",
      "metadata": {
        "id": "JLqCgKGfo0WE",
        "outputId": "df9c4f84-1c56-4a0d-dfdf-5c390786aea9",
        "colab": {
          "base_uri": "https://localhost:8080/",
          "height": 34
        }
      },
      "source": [
        "uni"
      ],
      "execution_count": null,
      "outputs": [
        {
          "output_type": "execute_result",
          "data": {
            "text/plain": [
              "array([-1,  0])"
            ]
          },
          "metadata": {
            "tags": []
          },
          "execution_count": 20
        }
      ]
    },
    {
      "cell_type": "code",
      "metadata": {
        "id": "VS6NKlX6pRYY"
      },
      "source": [
        "from sklearn import mixture"
      ],
      "execution_count": null,
      "outputs": []
    },
    {
      "cell_type": "code",
      "metadata": {
        "id": "zR11jKeKsPTB",
        "outputId": "8ae8b514-cecd-40db-8ead-28a97a10adb8",
        "colab": {
          "base_uri": "https://localhost:8080/",
          "height": 72
        }
      },
      "source": [
        "clustering = AgglomerativeClustering().fit(X)\n"
      ],
      "execution_count": null,
      "outputs": [
        {
          "output_type": "stream",
          "text": [
            "/usr/local/lib/python3.6/dist-packages/sklearn/cluster/_agglomerative.py:796: FutureWarning: Beginning in version 0.22, arrays of bytes/strings will be converted to decimal numbers if dtype='numeric'. It is recommended that you convert the array to a float dtype before using it in scikit-learn, for example by using your_array = your_array.astype(np.float64).\n",
            "  X = check_array(X, ensure_min_samples=2, estimator=self)\n"
          ],
          "name": "stderr"
        }
      ]
    },
    {
      "cell_type": "code",
      "metadata": {
        "id": "sqOPg7nxsj2l"
      },
      "source": [
        " brc = Birch(n_clusters=3)"
      ],
      "execution_count": null,
      "outputs": []
    },
    {
      "cell_type": "code",
      "metadata": {
        "id": "w9r__r40slQA",
        "outputId": "2a9c13fe-a305-4bdc-afa5-7b868a36ec66",
        "colab": {
          "base_uri": "https://localhost:8080/",
          "height": 52
        }
      },
      "source": [
        "brc.fit(X)"
      ],
      "execution_count": null,
      "outputs": [
        {
          "output_type": "execute_result",
          "data": {
            "text/plain": [
              "Birch(branching_factor=50, compute_labels=True, copy=True, n_clusters=3,\n",
              "      threshold=0.5)"
            ]
          },
          "metadata": {
            "tags": []
          },
          "execution_count": 48
        }
      ]
    },
    {
      "cell_type": "code",
      "metadata": {
        "id": "nocmixz-xG3f"
      },
      "source": [
        "labels=brc.labels_"
      ],
      "execution_count": null,
      "outputs": []
    },
    {
      "cell_type": "code",
      "metadata": {
        "id": "Ad4kor-7xM5O"
      },
      "source": [
        "uni,occ=np.unique(labels,return_counts=True)"
      ],
      "execution_count": null,
      "outputs": []
    },
    {
      "cell_type": "code",
      "metadata": {
        "id": "4VtnJEz8xn35",
        "outputId": "836283ab-92ce-4cb9-ccf0-f7a710bc7c06",
        "colab": {
          "base_uri": "https://localhost:8080/",
          "height": 282
        }
      },
      "source": [
        "plt.plot(uni,occ)"
      ],
      "execution_count": null,
      "outputs": [
        {
          "output_type": "execute_result",
          "data": {
            "text/plain": [
              "[<matplotlib.lines.Line2D at 0x7f2bf4890908>]"
            ]
          },
          "metadata": {
            "tags": []
          },
          "execution_count": 51
        },
        {
          "output_type": "display_data",
          "data": {
            "image/png": "[encoded data removed]",
            "text/plain": [
              "<Figure size 432x288 with 1 Axes>"
            ]
          },
          "metadata": {
            "tags": [],
            "needs_background": "light"
          }
        }
      ]
    },
    {
      "cell_type": "code",
      "metadata": {
        "id": "-0q72SNu0aHO",
        "outputId": "0b88c0f5-b280-4c20-f226-0f0b92bd3991",
        "colab": {
          "base_uri": "https://localhost:8080/",
          "height": 282
        }
      },
      "source": [
        "plt.scatter(yy,array,c=labels)"
      ],
      "execution_count": null,
      "outputs": [
        {
          "output_type": "execute_result",
          "data": {
            "text/plain": [
              "<matplotlib.collections.PathCollection at 0x7f2bf427c7f0>"
            ]
          },
          "metadata": {
            "tags": []
          },
          "execution_count": 85
        },
        {
          "output_type": "display_data",
          "data": {
            "image/png": "[encoded data removed]",
            "text/plain": [
              "<Figure size 432x288 with 1 Axes>"
            ]
          },
          "metadata": {
            "tags": [],
            "needs_background": "light"
          }
        }
      ]
    },
    {
      "cell_type": "code",
      "metadata": {
        "id": "x3I2-kjgxogj",
        "outputId": "4d8e42da-ad31-47a0-d2bf-3ca1818f86c1",
        "colab": {
          "base_uri": "https://localhost:8080/",
          "height": 34
        }
      },
      "source": [
        "array"
      ],
      "execution_count": null,
      "outputs": [
        {
          "output_type": "execute_result",
          "data": {
            "text/plain": [
              "array([ 53,  22,  19, ..., 100,  67,  37], dtype=int32)"
            ]
          },
          "metadata": {
            "tags": []
          },
          "execution_count": 12
        }
      ]
    },
    {
      "cell_type": "code",
      "metadata": {
        "id": "GztvROiM_adg",
        "outputId": "4685e0f1-60d1-458f-cbd7-5a2fe882a721",
        "colab": {
          "base_uri": "https://localhost:8080/",
          "height": 34
        }
      },
      "source": [
        "array[61577]"
      ],
      "execution_count": null,
      "outputs": [
        {
          "output_type": "execute_result",
          "data": {
            "text/plain": [
              "37"
            ]
          },
          "metadata": {
            "tags": []
          },
          "execution_count": 13
        }
      ]
    },
    {
      "cell_type": "code",
      "metadata": {
        "id": "Bvu6yWwd_dkq"
      },
      "source": [
        "xx=np.linspace(0,1,61578)\n",
        "yy=np.arange(0,len(array))"
      ],
      "execution_count": null,
      "outputs": []
    },
    {
      "cell_type": "code",
      "metadata": {
        "id": "JIJrOZLM_x_u",
        "outputId": "1ad7b513-0ab1-485d-98cf-3e1df085c0ef",
        "colab": {
          "base_uri": "https://localhost:8080/",
          "height": 34
        }
      },
      "source": [
        "yy"
      ],
      "execution_count": null,
      "outputs": [
        {
          "output_type": "execute_result",
          "data": {
            "text/plain": [
              "array([    0,     1,     2, ..., 61575, 61576, 61577])"
            ]
          },
          "metadata": {
            "tags": []
          },
          "execution_count": 84
        }
      ]
    },
    {
      "cell_type": "code",
      "metadata": {
        "id": "CWjr-LpD7bSy",
        "outputId": "7a0076c2-66a7-4a7d-8221-fb46360d8914",
        "colab": {
          "base_uri": "https://localhost:8080/",
          "height": 282
        }
      },
      "source": [
        "uniqueValues, occurCount = np.unique(array, return_counts=True)\n",
        "plt.plot(uniqueValues,occurCount)"
      ],
      "execution_count": null,
      "outputs": [
        {
          "output_type": "execute_result",
          "data": {
            "text/plain": [
              "[<matplotlib.lines.Line2D at 0x7f2bf46214e0>]"
            ]
          },
          "metadata": {
            "tags": []
          },
          "execution_count": 57
        },
        {
          "output_type": "display_data",
          "data": {
            "image/png": "[encoded data removed]",
            "text/plain": [
              "<Figure size 432x288 with 1 Axes>"
            ]
          },
          "metadata": {
            "tags": [],
            "needs_background": "light"
          }
        }
      ]
    },
    {
      "cell_type": "code",
      "metadata": {
        "id": "ACyJALe88DI5",
        "outputId": "110d9047-3e5f-482e-a4b7-6689a16c7c7b",
        "colab": {
          "base_uri": "https://localhost:8080/",
          "height": 282
        }
      },
      "source": [
        "dist=np.cumsum(occurCount)\n",
        "plt.grid(True)\n",
        "plt.plot(uniqueValues,dist)"
      ],
      "execution_count": null,
      "outputs": [
        {
          "output_type": "execute_result",
          "data": {
            "text/plain": [
              "[<matplotlib.lines.Line2D at 0x7f2bf45e1a20>]"
            ]
          },
          "metadata": {
            "tags": []
          },
          "execution_count": 58
        },
        {
          "output_type": "display_data",
          "data": {
            "image/png": "[encoded data removed]",
            "text/plain": [
              "<Figure size 432x288 with 1 Axes>"
            ]
          },
          "metadata": {
            "tags": [],
            "needs_background": "light"
          }
        }
      ]
    },
    {
      "cell_type": "code",
      "metadata": {
        "id": "mjKVq4_4CSd8",
        "outputId": "23c5be5a-ccb3-4abf-875e-8c58c9dbeebd",
        "colab": {
          "base_uri": "https://localhost:8080/",
          "height": 34
        }
      },
      "source": [
        "from sklearn.cluster import KMeans\n",
        "from sklearn.datasets import make_blobs\n",
        "\n",
        "plt.figure(figsize=(12, 12))\n",
        "\n",
        "n_samples = 1500\n",
        "random_state = 170\n",
        "X, y = make_blobs(n_samples=n_samples, random_state=random_state)"
      ],
      "execution_count": null,
      "outputs": [
        {
          "output_type": "display_data",
          "data": {
            "text/plain": [
              "<Figure size 864x864 with 0 Axes>"
            ]
          },
          "metadata": {
            "tags": []
          }
        }
      ]
    },
    {
      "cell_type": "code",
      "metadata": {
        "id": "F_J4Dfc7CZJe",
        "outputId": "1d9cd74c-a8c7-484f-b60b-e75bf250c013",
        "colab": {
          "base_uri": "https://localhost:8080/",
          "height": 121
        }
      },
      "source": [
        "files_load"
      ],
      "execution_count": null,
      "outputs": [
        {
          "output_type": "execute_result",
          "data": {
            "text/plain": [
              "array(['../content/images_training_rev1/730449.jpg',\n",
              "       '../content/images_training_rev1/910485.jpg',\n",
              "       '../content/images_training_rev1/373020.jpg', ...,\n",
              "       '../content/images_training_rev1/208787.jpg',\n",
              "       '../content/images_training_rev1/164513.jpg',\n",
              "       '../content/images_training_rev1/180357.jpg'], dtype='<U42')"
            ]
          },
          "metadata": {
            "tags": []
          },
          "execution_count": 17
        }
      ]
    },
    {
      "cell_type": "code",
      "metadata": {
        "id": "XNuUuKeFCZgO"
      },
      "source": [
        "lis_25=[]"
      ],
      "execution_count": null,
      "outputs": []
    },
    {
      "cell_type": "code",
      "metadata": {
        "id": "LnJ1jdUOKCq8"
      },
      "source": [
        "for i in range (0,len(array)):\n",
        " if (array[i]<26):\n",
        "  lis_25.append(i)"
      ],
      "execution_count": null,
      "outputs": []
    },
    {
      "cell_type": "code",
      "metadata": {
        "id": "AzvVdENAK2k5",
        "outputId": "33e9cb04-d21a-40e2-d092-77f48652cdaf",
        "colab": {
          "base_uri": "https://localhost:8080/",
          "height": 34
        }
      },
      "source": [
        "len(lis_25)"
      ],
      "execution_count": null,
      "outputs": [
        {
          "output_type": "execute_result",
          "data": {
            "text/plain": [
              "9799"
            ]
          },
          "metadata": {
            "tags": []
          },
          "execution_count": 14
        }
      ]
    },
    {
      "cell_type": "code",
      "metadata": {
        "id": "Ur4ySoTIK3av"
      },
      "source": [
        "comp_25=array[lis_25]  #number of components for the first set of 25  component class"
      ],
      "execution_count": null,
      "outputs": []
    },
    {
      "cell_type": "code",
      "metadata": {
        "id": "xBCsRHMi9a5Z",
        "outputId": "c0df13b3-b3ba-42db-b4a2-1981e3b523db",
        "colab": {
          "base_uri": "https://localhost:8080/",
          "height": 34
        }
      },
      "source": [
        "comp_25.max()"
      ],
      "execution_count": null,
      "outputs": [
        {
          "output_type": "execute_result",
          "data": {
            "text/plain": [
              "25"
            ]
          },
          "metadata": {
            "tags": []
          },
          "execution_count": 16
        }
      ]
    },
    {
      "cell_type": "code",
      "metadata": {
        "id": "a9jb_loYK-So"
      },
      "source": [
        "\n",
        "lis_img_25=files_load[lis_25] #list of images which have number of components less than 25"
      ],
      "execution_count": null,
      "outputs": []
    },
    {
      "cell_type": "code",
      "metadata": {
        "id": "gwlhpXOIMRJJ",
        "outputId": "d6508c3c-a701-4710-84d7-b20b76a056ca",
        "colab": {
          "base_uri": "https://localhost:8080/",
          "height": 121
        }
      },
      "source": [
        "lis_img_25"
      ],
      "execution_count": null,
      "outputs": [
        {
          "output_type": "execute_result",
          "data": {
            "text/plain": [
              "array(['../content/images_training_rev1/910485.jpg',\n",
              "       '../content/images_training_rev1/373020.jpg',\n",
              "       '../content/images_training_rev1/989505.jpg', ...,\n",
              "       '../content/images_training_rev1/587551.jpg',\n",
              "       '../content/images_training_rev1/367466.jpg',\n",
              "       '../content/images_training_rev1/584591.jpg'], dtype='<U42')"
            ]
          },
          "metadata": {
            "tags": []
          },
          "execution_count": 19
        }
      ]
    },
    {
      "cell_type": "code",
      "metadata": {
        "id": "xupAtBPRMS8I",
        "outputId": "2358a07c-5eec-4269-be88-f11a6753eeaa",
        "colab": {
          "base_uri": "https://localhost:8080/",
          "height": 121
        }
      },
      "source": [
        "files_load"
      ],
      "execution_count": null,
      "outputs": [
        {
          "output_type": "execute_result",
          "data": {
            "text/plain": [
              "array(['../content/images_training_rev1/730449.jpg',\n",
              "       '../content/images_training_rev1/910485.jpg',\n",
              "       '../content/images_training_rev1/373020.jpg', ...,\n",
              "       '../content/images_training_rev1/208787.jpg',\n",
              "       '../content/images_training_rev1/164513.jpg',\n",
              "       '../content/images_training_rev1/180357.jpg'], dtype='<U42')"
            ]
          },
          "metadata": {
            "tags": []
          },
          "execution_count": 20
        }
      ]
    },
    {
      "cell_type": "code",
      "metadata": {
        "id": "1RB3uU2oMcL9",
        "outputId": "ca98477b-a5fb-4f9c-efef-6db4a9420c3a",
        "colab": {
          "base_uri": "https://localhost:8080/",
          "height": 34
        }
      },
      "source": [
        "lis_25[1]"
      ],
      "execution_count": null,
      "outputs": [
        {
          "output_type": "execute_result",
          "data": {
            "text/plain": [
              "2"
            ]
          },
          "metadata": {
            "tags": []
          },
          "execution_count": 21
        }
      ]
    },
    {
      "cell_type": "code",
      "metadata": {
        "id": "6hdKMNInNE0u"
      },
      "source": [
        "test_y = np.array([\n",
        "            np.int64(lis_img_25[galaxy_id].split('/')[-1].split('.')[0])\n",
        "                    for galaxy_id in range(0,len(lis_img_25))]) #test label"
      ],
      "execution_count": null,
      "outputs": []
    },
    {
      "cell_type": "code",
      "metadata": {
        "id": "3Bbl7UeyOiWd",
        "outputId": "c9028a14-085f-4dbe-8f7a-220ddd76a755",
        "colab": {
          "base_uri": "https://localhost:8080/",
          "height": 34
        }
      },
      "source": [
        "test_y"
      ],
      "execution_count": null,
      "outputs": [
        {
          "output_type": "execute_result",
          "data": {
            "text/plain": [
              "array([910485, 373020, 989505, ..., 587551, 367466, 584591])"
            ]
          },
          "metadata": {
            "tags": []
          },
          "execution_count": 75
        }
      ]
    },
    {
      "cell_type": "code",
      "metadata": {
        "id": "GJDsYh2OOjVn",
        "outputId": "d50d72aa-8f50-4073-e145-b8543a8e74ae",
        "colab": {
          "base_uri": "https://localhost:8080/",
          "height": 286
        }
      },
      "source": [
        "img=readImage(lis_img_25[3])\n",
        "plt.imshow(img)"
      ],
      "execution_count": null,
      "outputs": [
        {
          "output_type": "execute_result",
          "data": {
            "text/plain": [
              "<matplotlib.image.AxesImage at 0x7f6b0456af98>"
            ]
          },
          "metadata": {
            "tags": []
          },
          "execution_count": 22
        },
        {
          "output_type": "display_data",
          "data": {
            "image/png": "[encoded data removed]",
            "text/plain": [
              "<Figure size 432x288 with 1 Axes>"
            ]
          },
          "metadata": {
            "tags": [],
            "needs_background": "light"
          }
        }
      ]
    },
    {
      "cell_type": "code",
      "metadata": {
        "id": "T_RED7bkZ6xq"
      },
      "source": [
        "def pcadet(image,comp):   #function that returns the hald square rectangle\n",
        " image=readImage(image)   #failed task , unablle to draw any significant difference interms of distance\n",
        " gim = rgb2gray(image)\n",
        " pca=PCA(n_components=comp)\n",
        " shaped=pca.fit_transform(gim)\n",
        " pca2=PCA(n_components=int(comp/2))\n",
        " shaped1=pca2.fit_transform(shaped.T)\n",
        " return shaped1.T"
      ],
      "execution_count": null,
      "outputs": []
    },
    {
      "cell_type": "code",
      "metadata": {
        "id": "nRxlt_KD8_G5",
        "outputId": "b127e413-a1b9-4527-9674-931ad8bcbc8a",
        "colab": {
          "base_uri": "https://localhost:8080/",
          "height": 34
        }
      },
      "source": [
        "(1/25)*0.70"
      ],
      "execution_count": null,
      "outputs": [
        {
          "output_type": "execute_result",
          "data": {
            "text/plain": [
              "0.027999999999999997"
            ]
          },
          "metadata": {
            "tags": []
          },
          "execution_count": 310
        }
      ]
    },
    {
      "cell_type": "markdown",
      "metadata": {
        "id": "sc7sxSC--Bx-"
      },
      "source": [
        "Develop algorithm for weighted average of the cosine similar components with weighted average."
      ]
    },
    {
      "cell_type": "code",
      "metadata": {
        "id": "tAX-J56X-Ik4"
      },
      "source": [
        "def pcaeig(image,comp):\n",
        "  image=readImage(image)\n",
        "  gim=rgb2gray(image)\n",
        "  pca=PCA(n_components=comp)\n",
        "  shaped=pca.fit_transform(gim)\n",
        "  return shaped.T"
      ],
      "execution_count": null,
      "outputs": []
    },
    {
      "cell_type": "code",
      "metadata": {
        "id": "ARXeDmmEdYLb"
      },
      "source": [
        "def image(image):\n",
        "  image=readImage(image)\n",
        "  gim=rgb2gray(image)\n",
        "  return gim"
      ],
      "execution_count": null,
      "outputs": []
    },
    {
      "cell_type": "code",
      "metadata": {
        "id": "EsVUIrh4d8Sg"
      },
      "source": [
        "img_25_list=[]\n",
        "L=len(lis_img_25)\n",
        "for i in range(0,L):\n",
        " img=image(lis_img_25[i])\n",
        " img_25_list.append(img)"
      ],
      "execution_count": null,
      "outputs": []
    },
    {
      "cell_type": "code",
      "metadata": {
        "id": "9_m82uIF_m_e"
      },
      "source": [
        "shape1=pcaeig(lis_img_25[1],25)\n",
        "shape2=pcaeig(lis_img_25[2],25)"
      ],
      "execution_count": null,
      "outputs": []
    },
    {
      "cell_type": "code",
      "metadata": {
        "id": "BEPbCTTX_uPo",
        "outputId": "d5fc10d1-fdb6-43df-c1e4-f3ccbfbb2ab5",
        "colab": {
          "base_uri": "https://localhost:8080/",
          "height": 243
        }
      },
      "source": [
        "shape1"
      ],
      "execution_count": null,
      "outputs": [
        {
          "output_type": "execute_result",
          "data": {
            "text/plain": [
              "array([[-0.7449567 , -0.73769245, -0.72859254, ..., -0.79454539,\n",
              "        -0.79104518, -0.78692295],\n",
              "       [-0.37510449, -0.36769805, -0.35786855, ..., -0.36354028,\n",
              "        -0.36453874, -0.36455192],\n",
              "       [-0.06720744, -0.07414976, -0.07942604, ..., -0.0709025 ,\n",
              "        -0.06544794, -0.06741915],\n",
              "       ...,\n",
              "       [ 0.02560474,  0.02252882,  0.02018364, ..., -0.00720837,\n",
              "        -0.0104683 , -0.01524571],\n",
              "       [-0.0508831 , -0.03969928, -0.02375126, ...,  0.03072668,\n",
              "         0.03016236,  0.03191978],\n",
              "       [-0.00673191, -0.0082247 , -0.01155402, ..., -0.07546747,\n",
              "        -0.07769813, -0.07855948]])"
            ]
          },
          "metadata": {
            "tags": []
          },
          "execution_count": 357
        }
      ]
    },
    {
      "cell_type": "code",
      "metadata": {
        "id": "e9p5U0TLHDOF"
      },
      "source": [
        "cosine(shape1[1],s)"
      ],
      "execution_count": null,
      "outputs": []
    },
    {
      "cell_type": "code",
      "metadata": {
        "id": "QAhG7bEeL6dG",
        "outputId": "3d05d1fa-9959-47c7-a8e7-583280359866",
        "colab": {
          "base_uri": "https://localhost:8080/",
          "height": 104
        }
      },
      "source": [
        "weight=np.linspace(0.95,0.10,25)\n",
        "s=np.sum(weight)\n",
        "wt=((1/20)*weight)/s\n",
        "wt"
      ],
      "execution_count": null,
      "outputs": [
        {
          "output_type": "execute_result",
          "data": {
            "text/plain": [
              "array([0.00361905, 0.00348413, 0.00334921, 0.00321429, 0.00307937,\n",
              "       0.00294444, 0.00280952, 0.0026746 , 0.00253968, 0.00240476,\n",
              "       0.00226984, 0.00213492, 0.002     , 0.00186508, 0.00173016,\n",
              "       0.00159524, 0.00146032, 0.0013254 , 0.00119048, 0.00105556,\n",
              "       0.00092063, 0.00078571, 0.00065079, 0.00051587, 0.00038095])"
            ]
          },
          "metadata": {
            "tags": []
          },
          "execution_count": 389
        }
      ]
    },
    {
      "cell_type": "code",
      "metadata": {
        "id": "a7fpBi8IViF_"
      },
      "source": [
        "def normalise(vec):\n",
        "  s=np.sum(vec)\n",
        "  return vec/s"
      ],
      "execution_count": null,
      "outputs": []
    },
    {
      "cell_type": "code",
      "metadata": {
        "id": "GoY_AcHOHv1X"
      },
      "source": [
        "weight=weight.reshape(-1,1)"
      ],
      "execution_count": null,
      "outputs": []
    },
    {
      "cell_type": "code",
      "metadata": {
        "id": "XXiB-OmWISib"
      },
      "source": [
        "sim=np.zeros(len(shape1))\n",
        "sim=sim.reshape(-1,1)"
      ],
      "execution_count": null,
      "outputs": []
    },
    {
      "cell_type": "code",
      "metadata": {
        "id": "ijil4cqOYz34",
        "outputId": "23c1c7f3-0e76-4455-cb6a-ddd71d620abf",
        "colab": {
          "base_uri": "https://localhost:8080/",
          "height": 34
        }
      },
      "source": [
        "sim.shape"
      ],
      "execution_count": null,
      "outputs": [
        {
          "output_type": "execute_result",
          "data": {
            "text/plain": [
              "(25, 1)"
            ]
          },
          "metadata": {
            "tags": []
          },
          "execution_count": 402
        }
      ]
    },
    {
      "cell_type": "code",
      "metadata": {
        "id": "Rb1O9IVaUFyb"
      },
      "source": [
        "eigenlist_25=[]\n",
        "L=len(lis_img_25)\n",
        "for i in range(0,L):\n",
        " eigenlist_25.append(pcaeig(lis_img_25[i],25))"
      ],
      "execution_count": null,
      "outputs": []
    },
    {
      "cell_type": "code",
      "metadata": {
        "id": "k130bb44WFa6",
        "outputId": "d63f4d23-960a-4c60-ebad-dc5905934950",
        "colab": {
          "base_uri": "https://localhost:8080/",
          "height": 169
        }
      },
      "source": [
        "np.save('/content/drive/My Drive/galaxy/eigenlist_25.npy',eigenlist_25)"
      ],
      "execution_count": null,
      "outputs": [
        {
          "output_type": "error",
          "ename": "NameError",
          "evalue": "ignored",
          "traceback": [
            "\u001b[0;31m---------------------------------------------------------------------------\u001b[0m",
            "\u001b[0;31mNameError\u001b[0m                                 Traceback (most recent call last)",
            "\u001b[0;32m<ipython-input-1-596ed9b135c2>\u001b[0m in \u001b[0;36m<module>\u001b[0;34m()\u001b[0m\n\u001b[0;32m----> 1\u001b[0;31m \u001b[0mnp\u001b[0m\u001b[0;34m.\u001b[0m\u001b[0msave\u001b[0m\u001b[0;34m(\u001b[0m\u001b[0;34m'/content/drive/My Drive/galaxy/eigenlist_25.npy'\u001b[0m\u001b[0;34m,\u001b[0m\u001b[0meigenlist_25\u001b[0m\u001b[0;34m)\u001b[0m\u001b[0;34m\u001b[0m\u001b[0;34m\u001b[0m\u001b[0m\n\u001b[0m",
            "\u001b[0;31mNameError\u001b[0m: name 'np' is not defined"
          ]
        }
      ]
    },
    {
      "cell_type": "code",
      "metadata": {
        "id": "Fg3z-Y35__Ah"
      },
      "source": [
        "#avgc=(comp_25[1]+comp_25[2])/2\n",
        "def similarity(shape1,shape2):\n",
        " sim=np.zeros(len(shape1))\n",
        " sim=sim.reshape(-1,1)\n",
        " for i in range(0,len(shape1)):\n",
        "  sim[i]=cosine(shape1[i],shape2[i])\n",
        " return sim.mean()"
      ],
      "execution_count": null,
      "outputs": []
    },
    {
      "cell_type": "code",
      "metadata": {
        "id": "DUwzzhPFQ83l"
      },
      "source": [
        "L=len(lis_img_25)\n",
        "dist_test=np.zeros([10,10])   #the cosine similarity matrix\n",
        "for i in range(0,10):\n",
        "  shape1=pcaeig(lis_img_25[i],1)\n",
        "  for j in range(i+1,10):\n",
        "   shape2=pcaeig(lis_img_25[j],1)\n",
        "   sim=similarity(shape1,shape2)\n",
        "   dist_test[i,j]=sim"
      ],
      "execution_count": null,
      "outputs": []
    },
    {
      "cell_type": "code",
      "metadata": {
        "id": "JsG92A4JSuBq",
        "outputId": "e8d68a84-f4d9-463a-9fe1-e3db1c7bd075",
        "colab": {
          "base_uri": "https://localhost:8080/",
          "height": 364
        }
      },
      "source": [
        "dist_test"
      ],
      "execution_count": null,
      "outputs": [
        {
          "output_type": "execute_result",
          "data": {
            "text/plain": [
              "array([[0.        , 0.97054396, 0.98505537, 0.99447975, 0.95873435,\n",
              "        0.97361845, 0.96362464, 0.94618097, 0.95836023, 1.00065023],\n",
              "       [0.        , 0.        , 0.88974179, 1.03039747, 0.98045089,\n",
              "        0.96253813, 1.01373557, 0.94283977, 0.97330329, 1.03722396],\n",
              "       [0.        , 0.        , 0.        , 0.9379564 , 0.96108945,\n",
              "        0.95790615, 0.94555541, 0.884588  , 0.9660382 , 0.99188096],\n",
              "       [0.        , 0.        , 0.        , 0.        , 0.91954325,\n",
              "        0.95695399, 0.95566212, 0.99542205, 0.96244133, 0.93515814],\n",
              "       [0.        , 0.        , 0.        , 0.        , 0.        ,\n",
              "        0.99797554, 0.93480168, 0.93615766, 0.98627083, 0.98170774],\n",
              "       [0.        , 0.        , 0.        , 0.        , 0.        ,\n",
              "        0.        , 0.97812705, 0.9225817 , 0.9902468 , 0.9556317 ],\n",
              "       [0.        , 0.        , 0.        , 0.        , 0.        ,\n",
              "        0.        , 0.        , 0.92192328, 1.01006348, 0.99395392],\n",
              "       [0.        , 0.        , 0.        , 0.        , 0.        ,\n",
              "        0.        , 0.        , 0.        , 0.95773047, 0.94307226],\n",
              "       [0.        , 0.        , 0.        , 0.        , 0.        ,\n",
              "        0.        , 0.        , 0.        , 0.        , 0.97748453],\n",
              "       [0.        , 0.        , 0.        , 0.        , 0.        ,\n",
              "        0.        , 0.        , 0.        , 0.        , 0.        ]])"
            ]
          },
          "metadata": {
            "tags": []
          },
          "execution_count": 28
        }
      ]
    },
    {
      "cell_type": "code",
      "metadata": {
        "id": "SbMmCFzLjF9a"
      },
      "source": [
        "np.save('/content/drive/My Drive/galaxy/dist_test.npy',dist_test)"
      ],
      "execution_count": null,
      "outputs": []
    },
    {
      "cell_type": "code",
      "metadata": {
        "id": "Fsokp0mneDIJ",
        "outputId": "d278eddb-7889-4fdb-d80c-357f470d61ad",
        "colab": {
          "base_uri": "https://localhost:8080/",
          "height": 169
        }
      },
      "source": [
        "len(lis_img_25)"
      ],
      "execution_count": null,
      "outputs": [
        {
          "output_type": "error",
          "ename": "NameError",
          "evalue": "ignored",
          "traceback": [
            "\u001b[0;31m---------------------------------------------------------------------------\u001b[0m",
            "\u001b[0;31mNameError\u001b[0m                                 Traceback (most recent call last)",
            "\u001b[0;32m<ipython-input-1-9fba57742181>\u001b[0m in \u001b[0;36m<module>\u001b[0;34m()\u001b[0m\n\u001b[0;32m----> 1\u001b[0;31m \u001b[0mlen\u001b[0m\u001b[0;34m(\u001b[0m\u001b[0mlis_img_25\u001b[0m\u001b[0;34m)\u001b[0m\u001b[0;34m\u001b[0m\u001b[0;34m\u001b[0m\u001b[0m\n\u001b[0m",
            "\u001b[0;31mNameError\u001b[0m: name 'lis_img_25' is not defined"
          ]
        }
      ]
    },
    {
      "cell_type": "code",
      "metadata": {
        "id": "p4Q_UrEIdZU5",
        "outputId": "c1e07f4e-5542-4532-dde0-9f79c57398f8",
        "colab": {
          "base_uri": "https://localhost:8080/",
          "height": 191
        }
      },
      "source": [
        "sym=dist_test+dist_test.T\n",
        "sym-sym.T"
      ],
      "execution_count": null,
      "outputs": [
        {
          "output_type": "execute_result",
          "data": {
            "text/plain": [
              "array([[0., 0., 0., 0., 0., 0., 0., 0., 0., 0.],\n",
              "       [0., 0., 0., 0., 0., 0., 0., 0., 0., 0.],\n",
              "       [0., 0., 0., 0., 0., 0., 0., 0., 0., 0.],\n",
              "       [0., 0., 0., 0., 0., 0., 0., 0., 0., 0.],\n",
              "       [0., 0., 0., 0., 0., 0., 0., 0., 0., 0.],\n",
              "       [0., 0., 0., 0., 0., 0., 0., 0., 0., 0.],\n",
              "       [0., 0., 0., 0., 0., 0., 0., 0., 0., 0.],\n",
              "       [0., 0., 0., 0., 0., 0., 0., 0., 0., 0.],\n",
              "       [0., 0., 0., 0., 0., 0., 0., 0., 0., 0.],\n",
              "       [0., 0., 0., 0., 0., 0., 0., 0., 0., 0.]])"
            ]
          },
          "metadata": {
            "tags": []
          },
          "execution_count": 406
        }
      ]
    },
    {
      "cell_type": "code",
      "metadata": {
        "id": "RHoTig7Udn9g",
        "outputId": "e27e885b-f41d-4c99-93ea-cd6ce1535859",
        "colab": {
          "base_uri": "https://localhost:8080/",
          "height": 364
        }
      },
      "source": [
        "sym"
      ],
      "execution_count": null,
      "outputs": [
        {
          "output_type": "execute_result",
          "data": {
            "text/plain": [
              "array([[0.        , 0.97054396, 0.98505537, 0.99447975, 0.95873435,\n",
              "        0.97361845, 0.96362464, 0.94618097, 0.95836023, 1.00065023],\n",
              "       [0.97054396, 0.        , 0.88974179, 1.03039747, 0.98045089,\n",
              "        0.96253813, 1.01373557, 0.94283977, 0.97330329, 1.03722396],\n",
              "       [0.98505537, 0.88974179, 0.        , 0.9379564 , 0.96108945,\n",
              "        0.95790615, 0.94555541, 0.884588  , 0.9660382 , 0.99188096],\n",
              "       [0.99447975, 1.03039747, 0.9379564 , 0.        , 0.91954325,\n",
              "        0.95695399, 0.95566212, 0.99542205, 0.96244133, 0.93515814],\n",
              "       [0.95873435, 0.98045089, 0.96108945, 0.91954325, 0.        ,\n",
              "        0.99797554, 0.93480168, 0.93615766, 0.98627083, 0.98170774],\n",
              "       [0.97361845, 0.96253813, 0.95790615, 0.95695399, 0.99797554,\n",
              "        0.        , 0.97812705, 0.9225817 , 0.9902468 , 0.9556317 ],\n",
              "       [0.96362464, 1.01373557, 0.94555541, 0.95566212, 0.93480168,\n",
              "        0.97812705, 0.        , 0.92192328, 1.01006348, 0.99395392],\n",
              "       [0.94618097, 0.94283977, 0.884588  , 0.99542205, 0.93615766,\n",
              "        0.9225817 , 0.92192328, 0.        , 0.95773047, 0.94307226],\n",
              "       [0.95836023, 0.97330329, 0.9660382 , 0.96244133, 0.98627083,\n",
              "        0.9902468 , 1.01006348, 0.95773047, 0.        , 0.97748453],\n",
              "       [1.00065023, 1.03722396, 0.99188096, 0.93515814, 0.98170774,\n",
              "        0.9556317 , 0.99395392, 0.94307226, 0.97748453, 0.        ]])"
            ]
          },
          "metadata": {
            "tags": []
          },
          "execution_count": 409
        }
      ]
    },
    {
      "cell_type": "code",
      "metadata": {
        "id": "YQ3iFy70KlP3",
        "outputId": "59e03db8-a9db-44b2-f529-7a1fac618baf",
        "colab": {
          "base_uri": "https://localhost:8080/",
          "height": 34
        }
      },
      "source": [
        "check=np.multiply((1/20)*weight,sim)\n",
        "check.mean()"
      ],
      "execution_count": null,
      "outputs": [
        {
          "output_type": "execute_result",
          "data": {
            "text/plain": [
              "0.02247209000463533"
            ]
          },
          "metadata": {
            "tags": []
          },
          "execution_count": 381
        }
      ]
    },
    {
      "cell_type": "code",
      "metadata": {
        "id": "P6bekDjPJJOU",
        "outputId": "bd2e9c87-6ac7-4981-f07d-26a71157739f",
        "colab": {
          "base_uri": "https://localhost:8080/",
          "height": 451
        }
      },
      "source": [
        "for i in range(0,len(shape1)):\n",
        "  print(i)"
      ],
      "execution_count": null,
      "outputs": [
        {
          "output_type": "stream",
          "text": [
            "0\n",
            "1\n",
            "2\n",
            "3\n",
            "4\n",
            "5\n",
            "6\n",
            "7\n",
            "8\n",
            "9\n",
            "10\n",
            "11\n",
            "12\n",
            "13\n",
            "14\n",
            "15\n",
            "16\n",
            "17\n",
            "18\n",
            "19\n",
            "20\n",
            "21\n",
            "22\n",
            "23\n",
            "24\n"
          ],
          "name": "stdout"
        }
      ]
    },
    {
      "cell_type": "code",
      "metadata": {
        "id": "RxBJNJ8OAclp",
        "outputId": "674bfc11-66ab-43fc-b323-54af0d6ce255",
        "colab": {
          "base_uri": "https://localhost:8080/",
          "height": 34
        }
      },
      "source": [
        "np.dot(shape1[1],shape1[2])"
      ],
      "execution_count": null,
      "outputs": [
        {
          "output_type": "execute_result",
          "data": {
            "text/plain": [
              "-1.6629059240713673e-14"
            ]
          },
          "metadata": {
            "tags": []
          },
          "execution_count": 328
        }
      ]
    },
    {
      "cell_type": "code",
      "metadata": {
        "id": "FQlF3dlva1bE"
      },
      "source": [
        "check=pcadet(img,24)"
      ],
      "execution_count": null,
      "outputs": []
    },
    {
      "cell_type": "code",
      "metadata": {
        "id": "lHic_JZq2GMz"
      },
      "source": [
        "dist_met=np.zeros([10,10])"
      ],
      "execution_count": null,
      "outputs": []
    },
    {
      "cell_type": "code",
      "metadata": {
        "id": "KF_853b22IC9",
        "outputId": "567e7023-89f5-40c9-fe15-ae6972f17305",
        "colab": {
          "base_uri": "https://localhost:8080/",
          "height": 191
        }
      },
      "source": [
        "dist_met"
      ],
      "execution_count": null,
      "outputs": [
        {
          "output_type": "execute_result",
          "data": {
            "text/plain": [
              "array([[0., 0., 0., 0., 0., 0., 0., 0., 0., 0.],\n",
              "       [0., 0., 0., 0., 0., 0., 0., 0., 0., 0.],\n",
              "       [0., 0., 0., 0., 0., 0., 0., 0., 0., 0.],\n",
              "       [0., 0., 0., 0., 0., 0., 0., 0., 0., 0.],\n",
              "       [0., 0., 0., 0., 0., 0., 0., 0., 0., 0.],\n",
              "       [0., 0., 0., 0., 0., 0., 0., 0., 0., 0.],\n",
              "       [0., 0., 0., 0., 0., 0., 0., 0., 0., 0.],\n",
              "       [0., 0., 0., 0., 0., 0., 0., 0., 0., 0.],\n",
              "       [0., 0., 0., 0., 0., 0., 0., 0., 0., 0.],\n",
              "       [0., 0., 0., 0., 0., 0., 0., 0., 0., 0.]])"
            ]
          },
          "metadata": {
            "tags": []
          },
          "execution_count": 103
        }
      ]
    },
    {
      "cell_type": "code",
      "metadata": {
        "id": "SSgEhVhCa26d"
      },
      "source": [
        "pca2=PCA(n_components=12)\n",
        "shaped1=pca2.fit_transform(shaped.T)"
      ],
      "execution_count": null,
      "outputs": []
    },
    {
      "cell_type": "code",
      "metadata": {
        "id": "hmuvtTEfbpau"
      },
      "source": [
        "shaped1.shape\n",
        "v1=shaped1.T"
      ],
      "execution_count": null,
      "outputs": []
    },
    {
      "cell_type": "code",
      "metadata": {
        "id": "EzetZLatbrw5"
      },
      "source": [
        "mat=np.vstack((v1,v1))"
      ],
      "execution_count": null,
      "outputs": []
    },
    {
      "cell_type": "code",
      "metadata": {
        "id": "zSPr4uvmcHu5"
      },
      "source": [
        "val=np.linalg.det(mat)"
      ],
      "execution_count": null,
      "outputs": []
    },
    {
      "cell_type": "code",
      "metadata": {
        "id": "Jjt3AdFEceqa",
        "outputId": "e89fcd8a-02d4-486f-a1a7-131a24149eaf",
        "colab": {
          "base_uri": "https://localhost:8080/",
          "height": 34
        }
      },
      "source": [
        "val"
      ],
      "execution_count": null,
      "outputs": [
        {
          "output_type": "execute_result",
          "data": {
            "text/plain": [
              "0.0"
            ]
          },
          "metadata": {
            "tags": []
          },
          "execution_count": 56
        }
      ]
    },
    {
      "cell_type": "code",
      "metadata": {
        "id": "wXbEDPdVeBKK"
      },
      "source": [
        "dist_test=np.zeros([10,10])\n",
        "for i in range(0,10):\n",
        "  shape1=pcadet(lis_img_25[i],6)\n",
        "  for j in range(i+1,10):\n",
        "   shape2=pcadet(lis_img_25[j],6)\n",
        "   stak=np.vstack((shape1,shape2))\n",
        "   det=np.linalg.det(stak)\n",
        "   #print(det)\n",
        "   dist_test[i,j]=abs(det)"
      ],
      "execution_count": null,
      "outputs": []
    },
    {
      "cell_type": "code",
      "metadata": {
        "id": "QF2SDZ0Q9D3J"
      },
      "source": [
        "symmet=dist_test+dist_test.T"
      ],
      "execution_count": null,
      "outputs": []
    },
    {
      "cell_type": "code",
      "metadata": {
        "id": "G4APiz4q9Ewd",
        "outputId": "40c2ac4b-110c-4458-f3f0-1fcd72b40be7",
        "colab": {
          "base_uri": "https://localhost:8080/",
          "height": 191
        }
      },
      "source": [
        "symmet-symmet.T"
      ],
      "execution_count": null,
      "outputs": [
        {
          "output_type": "execute_result",
          "data": {
            "text/plain": [
              "array([[0., 0., 0., 0., 0., 0., 0., 0., 0., 0.],\n",
              "       [0., 0., 0., 0., 0., 0., 0., 0., 0., 0.],\n",
              "       [0., 0., 0., 0., 0., 0., 0., 0., 0., 0.],\n",
              "       [0., 0., 0., 0., 0., 0., 0., 0., 0., 0.],\n",
              "       [0., 0., 0., 0., 0., 0., 0., 0., 0., 0.],\n",
              "       [0., 0., 0., 0., 0., 0., 0., 0., 0., 0.],\n",
              "       [0., 0., 0., 0., 0., 0., 0., 0., 0., 0.],\n",
              "       [0., 0., 0., 0., 0., 0., 0., 0., 0., 0.],\n",
              "       [0., 0., 0., 0., 0., 0., 0., 0., 0., 0.],\n",
              "       [0., 0., 0., 0., 0., 0., 0., 0., 0., 0.]])"
            ]
          },
          "metadata": {
            "tags": []
          },
          "execution_count": 290
        }
      ]
    },
    {
      "cell_type": "code",
      "metadata": {
        "id": "bbWG_EwfRhdu",
        "outputId": "8743140f-8585-42ab-fac1-e5f81171016a",
        "colab": {
          "base_uri": "https://localhost:8080/",
          "height": 538
        }
      },
      "source": [
        "symmet"
      ],
      "execution_count": null,
      "outputs": [
        {
          "output_type": "execute_result",
          "data": {
            "text/plain": [
              "array([[0.00000000e+00, 5.12408484e-13, 8.14325723e-14, 2.14115488e-14,\n",
              "        8.52612171e-14, 1.89964943e-13, 5.00354904e-13, 4.56882658e-14,\n",
              "        3.63070415e-15, 1.77117544e-14],\n",
              "       [5.12408484e-13, 0.00000000e+00, 2.33969651e-14, 6.86288106e-14,\n",
              "        9.85532681e-14, 1.82865140e-13, 3.80591604e-13, 8.32581763e-14,\n",
              "        9.54176187e-13, 6.97661458e-14],\n",
              "       [8.14325723e-14, 2.33969651e-14, 0.00000000e+00, 8.77394414e-14,\n",
              "        2.64522947e-13, 4.33900916e-13, 1.47226194e-13, 2.36854085e-14,\n",
              "        2.15512105e-13, 5.39035870e-14],\n",
              "       [2.14115488e-14, 6.86288106e-14, 8.77394414e-14, 0.00000000e+00,\n",
              "        1.66936281e-13, 1.33009094e-13, 6.38499297e-13, 1.15310140e-14,\n",
              "        2.59168168e-14, 1.01451888e-13],\n",
              "       [8.52612171e-14, 9.85532681e-14, 2.64522947e-13, 1.66936281e-13,\n",
              "        0.00000000e+00, 1.16652023e-14, 2.51491008e-13, 2.98691895e-15,\n",
              "        2.65324169e-14, 3.60025652e-15],\n",
              "       [1.89964943e-13, 1.82865140e-13, 4.33900916e-13, 1.33009094e-13,\n",
              "        1.16652023e-14, 0.00000000e+00, 5.70876016e-12, 3.15664561e-14,\n",
              "        2.18237886e-12, 3.97423893e-14],\n",
              "       [5.00354904e-13, 3.80591604e-13, 1.47226194e-13, 6.38499297e-13,\n",
              "        2.51491008e-13, 5.70876016e-12, 0.00000000e+00, 3.01779306e-13,\n",
              "        1.14988579e-12, 7.17521820e-13],\n",
              "       [4.56882658e-14, 8.32581763e-14, 2.36854085e-14, 1.15310140e-14,\n",
              "        2.98691895e-15, 3.15664561e-14, 3.01779306e-13, 0.00000000e+00,\n",
              "        7.33997563e-14, 7.04755062e-16],\n",
              "       [3.63070415e-15, 9.54176187e-13, 2.15512105e-13, 2.59168168e-14,\n",
              "        2.65324169e-14, 2.18237886e-12, 1.14988579e-12, 7.33997563e-14,\n",
              "        0.00000000e+00, 2.22599159e-13],\n",
              "       [1.77117544e-14, 6.97661458e-14, 5.39035870e-14, 1.01451888e-13,\n",
              "        3.60025652e-15, 3.97423893e-14, 7.17521820e-13, 7.04755062e-16,\n",
              "        2.22599159e-13, 0.00000000e+00]])"
            ]
          },
          "metadata": {
            "tags": []
          },
          "execution_count": 291
        }
      ]
    },
    {
      "cell_type": "code",
      "metadata": {
        "id": "EZb_3wBD9pLx"
      },
      "source": [
        "shape1=pcadet(lis_img_25[1],6)\n",
        "shape2=pcadet(lis_img_25[2],6)"
      ],
      "execution_count": null,
      "outputs": []
    },
    {
      "cell_type": "code",
      "metadata": {
        "id": "XvrtMNXV7wuB",
        "outputId": "d0952f48-92ed-42c7-9db7-f00c828862d6",
        "colab": {
          "base_uri": "https://localhost:8080/",
          "height": 34
        }
      },
      "source": [
        "shape2.shape"
      ],
      "execution_count": null,
      "outputs": [
        {
          "output_type": "execute_result",
          "data": {
            "text/plain": [
              "(3, 6)"
            ]
          },
          "metadata": {
            "tags": []
          },
          "execution_count": 297
        }
      ]
    },
    {
      "cell_type": "code",
      "metadata": {
        "id": "B8_Lerhg8Qk-",
        "outputId": "b0d28dc5-805f-4757-af4c-76ab3fcc6be8",
        "colab": {
          "base_uri": "https://localhost:8080/",
          "height": 121
        }
      },
      "source": [
        "shape1"
      ],
      "execution_count": null,
      "outputs": [
        {
          "output_type": "execute_result",
          "data": {
            "text/plain": [
              "array([[ 3.14498126e+01, -6.38383727e+00, -6.34972889e+00,\n",
              "        -6.28091942e+00, -6.21889615e+00, -6.21643089e+00],\n",
              "       [ 8.68270074e-03,  4.83942650e+00, -3.26039836e+00,\n",
              "        -7.35675604e-01, -4.29547754e-01, -4.22487477e-01],\n",
              "       [ 1.43547106e-02,  1.66295796e+00,  3.41345747e+00,\n",
              "        -2.94677093e+00, -1.08542610e+00, -1.05857311e+00]])"
            ]
          },
          "metadata": {
            "tags": []
          },
          "execution_count": 295
        }
      ]
    },
    {
      "cell_type": "code",
      "metadata": {
        "id": "2G8QNzRx8kwI",
        "outputId": "5a49f8da-fbd1-4256-cf7a-a891bdd9e2a4",
        "colab": {
          "base_uri": "https://localhost:8080/",
          "height": 121
        }
      },
      "source": [
        "shape2"
      ],
      "execution_count": null,
      "outputs": [
        {
          "output_type": "execute_result",
          "data": {
            "text/plain": [
              "array([[ 2.69861746e+01, -5.40510158e+00, -5.39928733e+00,\n",
              "        -5.39682439e+00, -5.39443763e+00, -5.39052370e+00],\n",
              "       [ 4.87139071e-04,  1.84673619e+00, -7.69400870e-01,\n",
              "        -4.80572219e-01, -3.52297118e-01, -2.44953122e-01],\n",
              "       [ 2.37458247e-04,  2.24415043e-01,  1.46661571e+00,\n",
              "        -1.08769858e+00, -4.04455979e-01, -1.99113650e-01]])"
            ]
          },
          "metadata": {
            "tags": []
          },
          "execution_count": 296
        }
      ]
    },
    {
      "cell_type": "code",
      "metadata": {
        "id": "G9dXoUeRE85U"
      },
      "source": [
        "stack=np.vstack((shape1,shape2))"
      ],
      "execution_count": null,
      "outputs": []
    },
    {
      "cell_type": "code",
      "metadata": {
        "id": "P16JR73b8yR0",
        "outputId": "8775da4d-47ea-44a8-f55e-6e00fac33afc",
        "colab": {
          "base_uri": "https://localhost:8080/",
          "height": 34
        }
      },
      "source": [
        "np.linalg.det(stack)"
      ],
      "execution_count": null,
      "outputs": [
        {
          "output_type": "execute_result",
          "data": {
            "text/plain": [
              "-2.3396965057167567e-14"
            ]
          },
          "metadata": {
            "tags": []
          },
          "execution_count": 299
        }
      ]
    },
    {
      "cell_type": "code",
      "metadata": {
        "id": "elcjcFcUawUn",
        "outputId": "f13a9062-b0d4-43a9-8f4f-a1bbbed6c891",
        "colab": {
          "base_uri": "https://localhost:8080/",
          "height": 69
        }
      },
      "source": [
        "dist"
      ],
      "execution_count": null,
      "outputs": [
        {
          "output_type": "execute_result",
          "data": {
            "text/plain": [
              "array([7.73431527e-07, 4.95985413e-03, 1.75034557e-02, 3.05619053e-02,\n",
              "       4.00109439e-02, 7.29394549e-03, 3.77091567e-02, 4.49730201e-02,\n",
              "       7.84620670e-02, 5.26817949e-02, 3.29336679e-02, 3.42938365e-02])"
            ]
          },
          "metadata": {
            "tags": []
          },
          "execution_count": 257
        }
      ]
    },
    {
      "cell_type": "code",
      "metadata": {
        "id": "i986UEtxbTKZ",
        "outputId": "5d9b4036-4285-4e84-cc64-77c11b12fe00",
        "colab": {
          "base_uri": "https://localhost:8080/",
          "height": 642
        }
      },
      "source": [
        "normalize(dist)"
      ],
      "execution_count": null,
      "outputs": [
        {
          "output_type": "execute_result",
          "data": {
            "text/plain": [
              "array([[2.33138397e-07, 3.01669263e-01, 3.01650741e-01, 3.01598041e-01,\n",
              "        3.01505230e-01, 3.01445486e-01, 3.01478762e-01, 3.01462661e-01,\n",
              "        3.01468645e-01, 3.01452973e-01, 3.01449705e-01, 3.01443160e-01],\n",
              "       [3.00374444e-01, 1.49088557e-03, 3.29128405e-01, 3.00648344e-01,\n",
              "        2.94442572e-01, 2.99819672e-01, 2.97608948e-01, 2.98183933e-01,\n",
              "        2.96997324e-01, 2.99079915e-01, 2.99045352e-01, 2.99834455e-01],\n",
              "       [3.13141027e-01, 2.85004740e-01, 5.48588004e-03, 2.75306538e-01,\n",
              "        2.84569916e-01, 3.10844786e-01, 3.03925241e-01, 3.06473120e-01,\n",
              "        3.03743189e-01, 3.09528459e-01, 3.09594434e-01, 3.11566784e-01],\n",
              "       [3.05583361e-01, 3.11389502e-01, 3.48506562e-01, 9.34365072e-03,\n",
              "        2.48196677e-01, 3.02361261e-01, 2.93769344e-01, 2.97191232e-01,\n",
              "        2.94034164e-01, 3.01433211e-01, 3.01463420e-01, 3.03753220e-01],\n",
              "       [2.85177804e-01, 2.91661563e-01, 3.01533354e-01, 3.37992567e-01,\n",
              "        1.14106002e-02, 3.16904730e-01, 3.31396468e-01, 2.95049787e-01,\n",
              "        2.90833893e-01, 2.87559817e-01, 2.86335229e-01, 2.85912824e-01],\n",
              "       [3.04294734e-01, 3.06380774e-01, 3.08845497e-01, 3.15484070e-01,\n",
              "        2.71047862e-01, 2.21958640e-03, 3.02100840e-01, 2.98802235e-01,\n",
              "        2.97262445e-01, 3.03472499e-01, 3.02931314e-01, 3.03928170e-01],\n",
              "       [3.08935464e-01, 3.15038337e-01, 3.21238258e-01, 3.34958731e-01,\n",
              "        2.63256613e-01, 3.19272932e-01, 1.16511214e-02, 2.64028544e-01,\n",
              "        2.65889236e-01, 3.04403761e-01, 3.01975196e-01, 3.07057862e-01],\n",
              "       [2.98941774e-01, 3.02019778e-01, 3.04314957e-01, 3.08334138e-01,\n",
              "        2.99467829e-01, 3.05756562e-01, 3.53313323e-01, 1.34450024e-02,\n",
              "        2.30645193e-01, 3.05432601e-01, 2.95847229e-01, 2.99247966e-01],\n",
              "       [2.81298040e-01, 2.83301746e-01, 2.84547024e-01, 2.86717177e-01,\n",
              "        2.85326730e-01, 2.85426020e-01, 3.06996285e-01, 3.50268109e-01,\n",
              "        2.20716310e-02, 3.60258578e-01, 2.92455774e-01, 2.86042275e-01],\n",
              "       [3.06836344e-01, 3.09728013e-01, 3.11589364e-01, 3.14474749e-01,\n",
              "        3.07907227e-01, 3.09666563e-01, 3.22876672e-01, 3.24408551e-01,\n",
              "        2.23084595e-01, 1.61655675e-02, 2.64054309e-01, 3.06585195e-01],\n",
              "       [2.90780961e-01, 2.91746414e-01, 2.92269189e-01, 2.93082437e-01,\n",
              "        2.91880219e-01, 2.91634213e-01, 2.95139693e-01, 2.95029064e-01,\n",
              "        2.94788890e-01, 3.32264707e-01, 9.57660873e-03, 3.42382344e-01],\n",
              "       [3.03596915e-01, 3.04511482e-01, 3.05031320e-01, 3.05786091e-01,\n",
              "        3.04092345e-01, 3.04204231e-01, 3.06640010e-01, 3.05743579e-01,\n",
              "        3.01634703e-01, 3.13517676e-01, 2.58161966e-01, 1.04116849e-02]])"
            ]
          },
          "metadata": {
            "tags": []
          },
          "execution_count": 232
        }
      ]
    },
    {
      "cell_type": "code",
      "metadata": {
        "id": "Bgqrvx3DV7QT"
      },
      "source": [
        "check_dist=dist.astype('int32')"
      ],
      "execution_count": null,
      "outputs": []
    },
    {
      "cell_type": "code",
      "metadata": {
        "id": "9EGMWD_4WejI",
        "outputId": "8805ae86-432a-4238-b3d4-6f5a114505bb",
        "colab": {
          "base_uri": "https://localhost:8080/",
          "height": 225
        }
      },
      "source": [
        "check_dist"
      ],
      "execution_count": null,
      "outputs": [
        {
          "output_type": "execute_result",
          "data": {
            "text/plain": [
              "array([[0, 1, 1, 1, 1, 1, 1, 1, 1, 1, 1, 1],\n",
              "       [0, 0, 1, 1, 0, 0, 0, 0, 0, 0, 0, 0],\n",
              "       [0, 0, 0, 0, 0, 0, 0, 0, 0, 0, 0, 0],\n",
              "       [0, 1, 1, 0, 0, 0, 0, 0, 0, 0, 0, 0],\n",
              "       [0, 1, 1, 1, 0, 1, 1, 1, 1, 1, 1, 1],\n",
              "       [0, 1, 1, 1, 0, 0, 0, 0, 0, 0, 0, 0],\n",
              "       [0, 1, 1, 1, 0, 1, 0, 0, 0, 0, 0, 0],\n",
              "       [0, 1, 1, 1, 1, 1, 1, 0, 0, 1, 0, 1],\n",
              "       [0, 1, 1, 1, 1, 1, 1, 1, 0, 1, 1, 1],\n",
              "       [0, 1, 1, 1, 1, 1, 1, 1, 0, 0, 0, 0],\n",
              "       [0, 1, 1, 1, 1, 1, 1, 1, 1, 1, 0, 1],\n",
              "       [0, 1, 1, 1, 1, 1, 1, 1, 0, 1, 0, 0]], dtype=int32)"
            ]
          },
          "metadata": {
            "tags": []
          },
          "execution_count": 219
        }
      ]
    },
    {
      "cell_type": "code",
      "metadata": {
        "id": "fRuK2l_JWtrd",
        "outputId": "42787b59-eab4-40d5-b5b2-23f631bc7d15",
        "colab": {
          "base_uri": "https://localhost:8080/",
          "height": 642
        }
      },
      "source": [
        "dist"
      ],
      "execution_count": null,
      "outputs": [
        {
          "output_type": "execute_result",
          "data": {
            "text/plain": [
              "array([[7.73431527e-07, 1.00078117e+00, 1.00071973e+00, 1.00054490e+00,\n",
              "        1.00023700e+00, 1.00003880e+00, 1.00014919e+00, 1.00009578e+00,\n",
              "        1.00011563e+00, 1.00006364e+00, 1.00005280e+00, 1.00003108e+00],\n",
              "       [9.99280871e-01, 4.95985413e-03, 1.09493909e+00, 1.00019208e+00,\n",
              "        9.79546815e-01, 9.97435264e-01, 9.90080663e-01, 9.91993514e-01,\n",
              "        9.88045922e-01, 9.94974253e-01, 9.94859268e-01, 9.97484445e-01],\n",
              "       [9.99119568e-01, 9.09346869e-01, 1.75034557e-02, 8.78403421e-01,\n",
              "        9.07959503e-01, 9.91793095e-01, 9.69715334e-01, 9.77844690e-01,\n",
              "        9.69134471e-01, 9.87593173e-01, 9.87803674e-01, 9.94096728e-01],\n",
              "       [9.99524705e-01, 1.01851586e+00, 1.13992109e+00, 3.05619053e-02,\n",
              "        8.11820086e-01, 9.88985622e-01, 9.60882542e-01, 9.72075108e-01,\n",
              "        9.61748737e-01, 9.85950087e-01, 9.86048896e-01, 9.93538546e-01],\n",
              "       [9.99967830e-01, 1.02270294e+00, 1.05731810e+00, 1.18516129e+00,\n",
              "        4.00109439e-02, 1.11121739e+00, 1.16203225e+00, 1.03458365e+00,\n",
              "        1.01980074e+00, 1.00832029e+00, 1.00402631e+00, 1.00254516e+00],\n",
              "       [9.99965219e-01, 1.00682031e+00, 1.01491981e+00, 1.03673532e+00,\n",
              "        8.90710238e-01, 7.29394549e-03, 9.92755704e-01, 9.81915917e-01,\n",
              "        9.76855900e-01, 9.97263212e-01, 9.95484786e-01, 9.98760626e-01],\n",
              "       [9.99877648e-01, 1.01962976e+00, 1.03969596e+00, 1.08410263e+00,\n",
              "        8.52036861e-01, 1.03333513e+00, 3.77091567e-02, 8.54535234e-01,\n",
              "        8.60557413e-01, 9.85210674e-01, 9.77350559e-01, 9.93800740e-01],\n",
              "       [9.99948830e-01, 1.01024463e+00, 1.01792192e+00, 1.03136593e+00,\n",
              "        1.00170846e+00, 1.02274404e+00, 1.18181959e+00, 4.49730201e-02,\n",
              "        7.71499372e-01, 1.02166040e+00, 9.89597695e-01, 1.00097303e+00],\n",
              "       [9.99981635e-01, 1.00710457e+00, 1.01153139e+00, 1.01924603e+00,\n",
              "        1.01430315e+00, 1.01465612e+00, 1.09133589e+00, 1.24516216e+00,\n",
              "        7.84620670e-02, 1.28067711e+00, 1.03964607e+00, 1.01684683e+00],\n",
              "       [9.99945676e-01, 1.00936931e+00, 1.01543524e+00, 1.02483839e+00,\n",
              "        1.00343557e+00, 1.00916905e+00, 1.05221933e+00, 1.05721156e+00,\n",
              "        7.27008000e-01, 5.26817949e-02, 8.60523760e-01, 9.99127211e-01],\n",
              "       [9.99986937e-01, 1.00330710e+00, 1.00510491e+00, 1.00790164e+00,\n",
              "        1.00376725e+00, 1.00292124e+00, 1.01497648e+00, 1.01459603e+00,\n",
              "        1.01377008e+00, 1.14264828e+00, 3.29336679e-02, 1.17744253e+00],\n",
              "       [9.99982528e-01, 1.00299491e+00, 1.00470715e+00, 1.00719320e+00,\n",
              "        1.00161437e+00, 1.00198289e+00, 1.01000582e+00, 1.00705317e+00,\n",
              "        9.93519424e-01, 1.03265937e+00, 8.50329639e-01, 3.42938365e-02]])"
            ]
          },
          "metadata": {
            "tags": []
          },
          "execution_count": 220
        }
      ]
    },
    {
      "cell_type": "code",
      "metadata": {
        "id": "z5HhUD5dG2kg",
        "outputId": "dccb96dd-20dd-489d-cfc1-99872562774d",
        "colab": {
          "base_uri": "https://localhost:8080/",
          "height": 34
        }
      },
      "source": [
        "np.matmul(shape1[1],shape1[2])"
      ],
      "execution_count": null,
      "outputs": [
        {
          "output_type": "execute_result",
          "data": {
            "text/plain": [
              "4.0419056990259605e-16"
            ]
          },
          "metadata": {
            "tags": []
          },
          "execution_count": 200
        }
      ]
    },
    {
      "cell_type": "code",
      "metadata": {
        "id": "8r8aaz5aFEqw",
        "outputId": "02ef94e6-4f3b-43aa-f55e-1b5bf4efcd97",
        "colab": {
          "base_uri": "https://localhost:8080/",
          "height": 34
        }
      },
      "source": [
        "np.dot(shape1[1],shape1[4])-np.dot(shape1[1],shape1[1])"
      ],
      "execution_count": null,
      "outputs": [
        {
          "output_type": "execute_result",
          "data": {
            "text/plain": [
              "-87.60530479522538"
            ]
          },
          "metadata": {
            "tags": []
          },
          "execution_count": 172
        }
      ]
    },
    {
      "cell_type": "code",
      "metadata": {
        "id": "J3Xt8iRn96Wb",
        "outputId": "a0463cd8-aac9-471a-b374-8ac5aa249438",
        "colab": {
          "base_uri": "https://localhost:8080/",
          "height": 34
        }
      },
      "source": [
        "stak=np.vstack((shape1,shape1))\n",
        "det=np.linalg.det(stak)\n",
        "det"
      ],
      "execution_count": null,
      "outputs": [
        {
          "output_type": "execute_result",
          "data": {
            "text/plain": [
              "0.0"
            ]
          },
          "metadata": {
            "tags": []
          },
          "execution_count": 150
        }
      ]
    },
    {
      "cell_type": "code",
      "metadata": {
        "id": "drKYPtGbAS_V",
        "outputId": "9c3b6a34-46d5-49ef-df24-a9283babbebf",
        "colab": {
          "base_uri": "https://localhost:8080/",
          "height": 34
        }
      },
      "source": [
        "symmet[1,1]"
      ],
      "execution_count": null,
      "outputs": [
        {
          "output_type": "execute_result",
          "data": {
            "text/plain": [
              "0.0"
            ]
          },
          "metadata": {
            "tags": []
          },
          "execution_count": 144
        }
      ]
    },
    {
      "cell_type": "code",
      "metadata": {
        "id": "km-Dyx7aC6_c",
        "outputId": "55e6accc-748e-45b2-ad2e-1473b232fd8d",
        "colab": {
          "base_uri": "https://localhost:8080/",
          "height": 538
        }
      },
      "source": [
        "check=normalize(symmet)"
      ],
      "execution_count": null,
      "outputs": [
        {
          "output_type": "execute_result",
          "data": {
            "text/plain": [
              "array([[0.00000000e+00, 4.61793177e-54, 1.36543878e-56, 5.23058955e-57,\n",
              "        7.18732091e-55, 5.40494039e-54, 3.83643211e-52, 2.28339921e-55,\n",
              "        2.47015226e-55, 2.71658794e-58],\n",
              "       [4.61793177e-54, 0.00000000e+00, 4.09394476e-53, 1.95378183e-55,\n",
              "        2.12767497e-51, 1.54002238e-52, 5.40524529e-50, 4.71924916e-55,\n",
              "        2.68724013e-52, 4.03066620e-55],\n",
              "       [1.36543878e-56, 4.09394476e-53, 0.00000000e+00, 1.04749906e-55,\n",
              "        2.79030958e-54, 3.39175630e-53, 2.86527638e-55, 2.38447357e-54,\n",
              "        7.05067759e-54, 2.08864893e-56],\n",
              "       [5.23058955e-57, 1.95378183e-55, 1.04749906e-55, 0.00000000e+00,\n",
              "        4.21036951e-54, 5.81307146e-56, 6.23106194e-55, 1.24099970e-56,\n",
              "        2.43802471e-55, 8.69927079e-61],\n",
              "       [7.18732091e-55, 2.12767497e-51, 2.79030958e-54, 4.21036951e-54,\n",
              "        0.00000000e+00, 2.40080879e-53, 4.41334561e-52, 4.28820453e-53,\n",
              "        2.00050949e-55, 1.00595966e-56],\n",
              "       [5.40494039e-54, 1.54002238e-52, 3.39175630e-53, 5.81307146e-56,\n",
              "        2.40080879e-53, 0.00000000e+00, 3.64351476e-56, 6.25456661e-53,\n",
              "        1.77697061e-57, 1.64572558e-54],\n",
              "       [3.83643211e-52, 5.40524529e-50, 2.86527638e-55, 6.23106194e-55,\n",
              "        4.41334561e-52, 3.64351476e-56, 0.00000000e+00, 9.11803234e-52,\n",
              "        2.64629156e-55, 2.76323588e-55],\n",
              "       [2.28339921e-55, 4.71924916e-55, 2.38447357e-54, 1.24099970e-56,\n",
              "        4.28820453e-53, 6.25456661e-53, 9.11803234e-52, 0.00000000e+00,\n",
              "        2.73218987e-53, 6.14047092e-58],\n",
              "       [2.47015226e-55, 2.68724013e-52, 7.05067759e-54, 2.43802471e-55,\n",
              "        2.00050949e-55, 1.77697061e-57, 2.64629156e-55, 2.73218987e-53,\n",
              "        0.00000000e+00, 2.86973791e-56],\n",
              "       [2.71658794e-58, 4.03066620e-55, 2.08864893e-56, 8.69927079e-61,\n",
              "        1.00595966e-56, 1.64572558e-54, 2.76323588e-55, 6.14047092e-58,\n",
              "        2.86973791e-56, 0.00000000e+00]])"
            ]
          },
          "metadata": {
            "tags": []
          },
          "execution_count": 151
        }
      ]
    },
    {
      "cell_type": "code",
      "metadata": {
        "id": "XqL_Pxb0ATbd",
        "outputId": "0cdbc845-32f1-427c-da38-69ad83872eee",
        "colab": {
          "base_uri": "https://localhost:8080/",
          "height": 538
        }
      },
      "source": [
        "check=normalize(symmet)\n",
        "check"
      ],
      "execution_count": null,
      "outputs": [
        {
          "output_type": "execute_result",
          "data": {
            "text/plain": [
              "array([[0.00000000e+00, 1.73135297e-02, 5.36083103e-02, 5.62788172e-04,\n",
              "        1.62126604e-02, 7.36769603e-02, 9.95370066e-01, 1.81327694e-02,\n",
              "        6.65665562e-03, 5.02722980e-04],\n",
              "       [5.73242544e-03, 0.00000000e+00, 9.54736519e-01, 3.03255078e-03,\n",
              "        1.57504510e-01, 5.80417723e-03, 2.52022575e-01, 1.22854102e-04,\n",
              "        8.53142241e-03, 2.56593360e-03],\n",
              "       [1.62754362e-02, 8.75449818e-01, 0.00000000e+00, 1.78589930e-02,\n",
              "        1.86835077e-01, 3.01816870e-01, 2.10276551e-03, 7.15811634e-02,\n",
              "        3.16118981e-01, 4.40853680e-02],\n",
              "       [8.69397838e-03, 1.41491020e-01, 9.08719908e-01, 0.00000000e+00,\n",
              "        3.90910285e-01, 3.47122705e-02, 3.89804975e-03, 2.99796014e-03,\n",
              "        9.63632273e-03, 1.80920609e-05],\n",
              "       [2.03745410e-02, 5.97824549e-01, 7.73377341e-01, 3.18007271e-02,\n",
              "        0.00000000e+00, 1.60240085e-02, 4.81129275e-02, 2.01229949e-01,\n",
              "        1.47671559e-04, 1.32357917e-03],\n",
              "       [7.37825611e-02, 1.75553662e-02, 9.95554449e-01, 2.25025354e-03,\n",
              "        1.27690811e-02, 0.00000000e+00, 1.19211829e-06, 5.43186089e-02,\n",
              "        4.83860049e-07, 8.10714398e-04],\n",
              "       [7.93282311e-01, 6.06638321e-01, 5.51992936e-03, 2.01102272e-04,\n",
              "        3.05120530e-02, 9.48725384e-07, 0.00000000e+00, 4.16047955e-02,\n",
              "        1.11018398e-05, 8.17218590e-04],\n",
              "       [5.89704322e-02, 1.20672146e-03, 7.66775814e-01, 6.31135244e-04,\n",
              "        5.20749956e-01, 1.76399271e-01, 1.69773683e-01, 0.00000000e+00,\n",
              "        2.78307430e-01, 3.70866826e-04],\n",
              "       [6.36945605e-03, 2.46555619e-02, 9.96314176e-01, 5.96875837e-04,\n",
              "        1.12437083e-04, 4.62321398e-07, 1.33290138e-05, 8.18843459e-02,\n",
              "        0.00000000e+00, 2.04454007e-03],\n",
              "       [3.45651647e-03, 5.32846980e-02, 9.98398326e-01, 8.05238144e-06,\n",
              "        7.24146220e-03, 5.56616085e-03, 7.05025680e-03, 7.84075184e-04,\n",
              "        1.46912674e-02, 0.00000000e+00]])"
            ]
          },
          "metadata": {
            "tags": []
          },
          "execution_count": 222
        }
      ]
    },
    {
      "cell_type": "code",
      "metadata": {
        "id": "6p2OZ2I1Clcw",
        "outputId": "96c4ea72-017d-46bc-842a-779e09125cd4",
        "colab": {
          "base_uri": "https://localhost:8080/",
          "height": 34
        }
      },
      "source": [
        "val2=np.dot(shape1[1],shape1[2])\n",
        "round(val2,10)"
      ],
      "execution_count": null,
      "outputs": [
        {
          "output_type": "execute_result",
          "data": {
            "text/plain": [
              "0.0"
            ]
          },
          "metadata": {
            "tags": []
          },
          "execution_count": 244
        }
      ]
    },
    {
      "cell_type": "code",
      "metadata": {
        "id": "Vry78ux1cbY8",
        "outputId": "42d71ba4-45be-499b-ca5c-6a56cbc64aa7",
        "colab": {
          "base_uri": "https://localhost:8080/",
          "height": 34
        }
      },
      "source": [
        "val1=np.dot(shape1[1],shape2[3])\n",
        "round(val1,10)"
      ],
      "execution_count": null,
      "outputs": [
        {
          "output_type": "execute_result",
          "data": {
            "text/plain": [
              "-0.0020919623"
            ]
          },
          "metadata": {
            "tags": []
          },
          "execution_count": 246
        }
      ]
    },
    {
      "cell_type": "code",
      "metadata": {
        "id": "D3LJTWkldOvS",
        "outputId": "e79af8a9-716e-4080-f8cd-abe428a3389a",
        "colab": {
          "base_uri": "https://localhost:8080/",
          "height": 34
        }
      },
      "source": [
        "valc=cosine(shape2[2],shape2[2])\n",
        "valc"
      ],
      "execution_count": null,
      "outputs": [
        {
          "output_type": "execute_result",
          "data": {
            "text/plain": [
              "0.0"
            ]
          },
          "metadata": {
            "tags": []
          },
          "execution_count": 269
        }
      ]
    },
    {
      "cell_type": "code",
      "metadata": {
        "id": "YeZ0pvtpdXRw",
        "outputId": "4c527b66-2f32-48b4-9a8c-b584b09d07e6",
        "colab": {
          "base_uri": "https://localhost:8080/",
          "height": 34
        }
      },
      "source": [
        "valc"
      ],
      "execution_count": null,
      "outputs": [
        {
          "output_type": "execute_result",
          "data": {
            "text/plain": [
              "0.990080663114111"
            ]
          },
          "metadata": {
            "tags": []
          },
          "execution_count": 265
        }
      ]
    },
    {
      "cell_type": "code",
      "metadata": {
        "id": "LmYzPsQcdXyx"
      },
      "source": [],
      "execution_count": null,
      "outputs": []
    }
  ]
}