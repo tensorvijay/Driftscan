{
  "nbformat": 4,
  "nbformat_minor": 0,
  "metadata": {
    "colab": {
      "provenance": [],
      "mount_file_id": "1G1purWjk1gof-pl6jLCmNDDRMr_F2ilb",
      "authorship_tag": "ABX9TyPvWHNkRxLyD9eQrMaefzh1",
      "include_colab_link": true
    },
    "kernelspec": {
      "name": "python3",
      "display_name": "Python 3"
    }
  },
  "cells": [
    {
      "cell_type": "markdown",
      "metadata": {
        "id": "view-in-github",
        "colab_type": "text"
      },
      "source": [
        "<a href=\"https://colab.research.google.com/github/tensorvijay/Driftscan/blob/master/gaussian_misture_galaxy.ipynb\" target=\"_parent\"><img src=\"https://colab.research.google.com/assets/colab-badge.svg\" alt=\"Open In Colab\"/></a>"
      ]
    },
    {
      "cell_type": "code",
      "metadata": {
        "id": "KLoHFRdV9N6y"
      },
      "source": [
        "import zipfile\n",
        "from google.colab import drive\n",
        "\n"
      ],
      "execution_count": null,
      "outputs": []
    },
    {
      "cell_type": "code",
      "metadata": {
        "id": "vEheDI79vBm6"
      },
      "source": [
        "test_y = np.array([\n",
        "            np.int64(files_train[galaxy_id].split('/')[-1].split('.')[0])\n",
        "                    for galaxy_id in range(0,100)]) #test label"
      ],
      "execution_count": null,
      "outputs": []
    },
    {
      "cell_type": "code",
      "metadata": {
        "id": "Xekn04Yw9YNB",
        "outputId": "6b5de810-ab81-42d6-bd34-84cfa2e04b54",
        "colab": {
          "base_uri": "https://localhost:8080/",
          "height": 1000
        }
      },
      "source": [
        "!unzip '/content/drive/My Drive/galaxy/images_training_rev1 (1).zip'"
      ],
      "execution_count": null,
      "outputs": [
        {
          "output_type": "stream",
          "text": [
            "\u001b[1;30;43mStreaming output truncated to the last 5000 lines.\u001b[0m\n",
            "  inflating: images_training_rev1/926426.jpg  \n",
            "  inflating: images_training_rev1/926435.jpg  \n",
            "  inflating: images_training_rev1/926446.jpg  \n",
            "  inflating: images_training_rev1/926448.jpg  \n",
            "  inflating: images_training_rev1/926453.jpg  \n",
            "  inflating: images_training_rev1/926462.jpg  \n",
            "  inflating: images_training_rev1/926478.jpg  \n",
            "  inflating: images_training_rev1/926480.jpg  \n",
            "  inflating: images_training_rev1/926484.jpg  \n",
            "  inflating: images_training_rev1/926488.jpg  \n",
            "  inflating: images_training_rev1/926509.jpg  \n",
            "  inflating: images_training_rev1/926522.jpg  \n",
            "  inflating: images_training_rev1/926544.jpg  \n",
            "  inflating: images_training_rev1/926547.jpg  \n",
            "  inflating: images_training_rev1/926548.jpg  \n",
            "  inflating: images_training_rev1/926551.jpg  \n",
            "  inflating: images_training_rev1/926602.jpg  \n",
            "  inflating: images_training_rev1/926630.jpg  \n",
            "  inflating: images_training_rev1/926649.jpg  \n",
            "  inflating: images_training_rev1/926655.jpg  \n",
            "  inflating: images_training_rev1/926657.jpg  \n",
            "  inflating: images_training_rev1/926675.jpg  \n",
            "  inflating: images_training_rev1/926676.jpg  \n",
            "  inflating: images_training_rev1/926696.jpg  \n",
            "  inflating: images_training_rev1/926725.jpg  \n",
            "  inflating: images_training_rev1/926739.jpg  \n",
            "  inflating: images_training_rev1/926750.jpg  \n",
            "  inflating: images_training_rev1/926801.jpg  \n",
            "  inflating: images_training_rev1/926831.jpg  \n",
            "  inflating: images_training_rev1/926840.jpg  \n",
            "  inflating: images_training_rev1/926842.jpg  \n",
            "  inflating: images_training_rev1/926921.jpg  \n",
            "  inflating: images_training_rev1/926931.jpg  \n",
            "  inflating: images_training_rev1/926939.jpg  \n",
            "  inflating: images_training_rev1/926958.jpg  \n",
            "  inflating: images_training_rev1/926982.jpg  \n",
            "  inflating: images_training_rev1/926985.jpg  \n",
            "  inflating: images_training_rev1/926999.jpg  \n",
            "  inflating: images_training_rev1/927032.jpg  \n",
            "  inflating: images_training_rev1/927038.jpg  \n",
            "  inflating: images_training_rev1/927054.jpg  \n",
            "  inflating: images_training_rev1/927058.jpg  \n",
            "  inflating: images_training_rev1/927094.jpg  \n",
            "  inflating: images_training_rev1/927106.jpg  \n",
            "  inflating: images_training_rev1/927107.jpg  \n",
            "  inflating: images_training_rev1/927111.jpg  \n",
            "  inflating: images_training_rev1/927117.jpg  \n",
            "  inflating: images_training_rev1/927120.jpg  \n",
            "  inflating: images_training_rev1/927128.jpg  \n",
            "  inflating: images_training_rev1/927129.jpg  \n",
            "  inflating: images_training_rev1/927132.jpg  \n",
            "  inflating: images_training_rev1/927133.jpg  \n",
            "  inflating: images_training_rev1/927157.jpg  \n",
            "  inflating: images_training_rev1/927182.jpg  \n",
            "  inflating: images_training_rev1/927185.jpg  \n",
            "  inflating: images_training_rev1/927193.jpg  \n",
            "  inflating: images_training_rev1/927206.jpg  \n",
            "  inflating: images_training_rev1/927207.jpg  \n",
            "  inflating: images_training_rev1/927224.jpg  \n",
            "  inflating: images_training_rev1/927233.jpg  \n",
            "  inflating: images_training_rev1/927275.jpg  \n",
            "  inflating: images_training_rev1/927282.jpg  \n",
            "  inflating: images_training_rev1/927324.jpg  \n",
            "  inflating: images_training_rev1/927340.jpg  \n",
            "  inflating: images_training_rev1/927341.jpg  \n",
            "  inflating: images_training_rev1/927349.jpg  \n",
            "  inflating: images_training_rev1/927356.jpg  \n",
            "  inflating: images_training_rev1/927410.jpg  \n",
            "  inflating: images_training_rev1/927419.jpg  \n",
            "  inflating: images_training_rev1/927428.jpg  \n",
            "  inflating: images_training_rev1/927440.jpg  \n",
            "  inflating: images_training_rev1/927442.jpg  \n",
            "  inflating: images_training_rev1/927452.jpg  \n",
            "  inflating: images_training_rev1/927455.jpg  \n",
            "  inflating: images_training_rev1/927473.jpg  \n",
            "  inflating: images_training_rev1/927489.jpg  \n",
            "  inflating: images_training_rev1/927527.jpg  \n",
            "  inflating: images_training_rev1/927529.jpg  \n",
            "  inflating: images_training_rev1/927537.jpg  \n",
            "  inflating: images_training_rev1/927563.jpg  \n",
            "  inflating: images_training_rev1/927621.jpg  \n",
            "  inflating: images_training_rev1/927639.jpg  \n",
            "  inflating: images_training_rev1/927651.jpg  \n",
            "  inflating: images_training_rev1/927661.jpg  \n",
            "  inflating: images_training_rev1/927677.jpg  \n",
            "  inflating: images_training_rev1/927704.jpg  \n",
            "  inflating: images_training_rev1/927722.jpg  \n",
            "  inflating: images_training_rev1/927723.jpg  \n",
            "  inflating: images_training_rev1/927737.jpg  \n",
            "  inflating: images_training_rev1/927747.jpg  \n",
            "  inflating: images_training_rev1/927754.jpg  \n",
            "  inflating: images_training_rev1/927795.jpg  \n",
            "  inflating: images_training_rev1/927802.jpg  \n",
            "  inflating: images_training_rev1/927814.jpg  \n",
            "  inflating: images_training_rev1/927820.jpg  \n",
            "  inflating: images_training_rev1/927821.jpg  \n",
            "  inflating: images_training_rev1/927843.jpg  \n",
            "  inflating: images_training_rev1/927853.jpg  \n",
            "  inflating: images_training_rev1/927858.jpg  \n",
            "  inflating: images_training_rev1/927872.jpg  \n",
            "  inflating: images_training_rev1/927879.jpg  \n",
            "  inflating: images_training_rev1/927881.jpg  \n",
            "  inflating: images_training_rev1/927904.jpg  \n",
            "  inflating: images_training_rev1/927916.jpg  \n",
            "  inflating: images_training_rev1/927930.jpg  \n",
            "  inflating: images_training_rev1/927933.jpg  \n",
            "  inflating: images_training_rev1/927938.jpg  \n",
            "  inflating: images_training_rev1/927957.jpg  \n",
            "  inflating: images_training_rev1/927966.jpg  \n",
            "  inflating: images_training_rev1/928008.jpg  \n",
            "  inflating: images_training_rev1/928014.jpg  \n",
            "  inflating: images_training_rev1/928033.jpg  \n",
            "  inflating: images_training_rev1/928043.jpg  \n",
            "  inflating: images_training_rev1/928047.jpg  \n",
            "  inflating: images_training_rev1/928078.jpg  \n",
            "  inflating: images_training_rev1/928090.jpg  \n",
            "  inflating: images_training_rev1/928121.jpg  \n",
            "  inflating: images_training_rev1/928129.jpg  \n",
            "  inflating: images_training_rev1/928141.jpg  \n",
            "  inflating: images_training_rev1/928149.jpg  \n",
            "  inflating: images_training_rev1/928158.jpg  \n",
            "  inflating: images_training_rev1/928186.jpg  \n",
            "  inflating: images_training_rev1/928196.jpg  \n",
            "  inflating: images_training_rev1/928216.jpg  \n",
            "  inflating: images_training_rev1/928238.jpg  \n",
            "  inflating: images_training_rev1/928247.jpg  \n",
            "  inflating: images_training_rev1/928252.jpg  \n",
            "  inflating: images_training_rev1/928270.jpg  \n",
            "  inflating: images_training_rev1/928321.jpg  \n",
            "  inflating: images_training_rev1/928349.jpg  \n",
            "  inflating: images_training_rev1/928408.jpg  \n",
            "  inflating: images_training_rev1/928413.jpg  \n",
            "  inflating: images_training_rev1/928435.jpg  \n",
            "  inflating: images_training_rev1/928481.jpg  \n",
            "  inflating: images_training_rev1/928490.jpg  \n",
            "  inflating: images_training_rev1/928505.jpg  \n",
            "  inflating: images_training_rev1/928535.jpg  \n",
            "  inflating: images_training_rev1/928565.jpg  \n",
            "  inflating: images_training_rev1/928581.jpg  \n",
            "  inflating: images_training_rev1/928603.jpg  \n",
            "  inflating: images_training_rev1/928604.jpg  \n",
            "  inflating: images_training_rev1/928619.jpg  \n",
            "  inflating: images_training_rev1/928626.jpg  \n",
            "  inflating: images_training_rev1/928662.jpg  \n",
            "  inflating: images_training_rev1/928682.jpg  \n",
            "  inflating: images_training_rev1/928702.jpg  \n",
            "  inflating: images_training_rev1/928707.jpg  \n",
            "  inflating: images_training_rev1/928712.jpg  \n",
            "  inflating: images_training_rev1/928721.jpg  \n",
            "  inflating: images_training_rev1/928730.jpg  \n",
            "  inflating: images_training_rev1/928769.jpg  \n",
            "  inflating: images_training_rev1/928774.jpg  \n",
            "  inflating: images_training_rev1/928776.jpg  \n",
            "  inflating: images_training_rev1/928777.jpg  \n",
            "  inflating: images_training_rev1/928778.jpg  \n",
            "  inflating: images_training_rev1/928789.jpg  \n",
            "  inflating: images_training_rev1/928799.jpg  \n",
            "  inflating: images_training_rev1/928828.jpg  \n",
            "  inflating: images_training_rev1/928836.jpg  \n",
            "  inflating: images_training_rev1/928861.jpg  \n",
            "  inflating: images_training_rev1/928876.jpg  \n",
            "  inflating: images_training_rev1/928879.jpg  \n",
            "  inflating: images_training_rev1/928888.jpg  \n",
            "  inflating: images_training_rev1/928901.jpg  \n",
            "  inflating: images_training_rev1/928902.jpg  \n",
            "  inflating: images_training_rev1/928921.jpg  \n",
            "  inflating: images_training_rev1/928925.jpg  \n",
            "  inflating: images_training_rev1/928928.jpg  \n",
            "  inflating: images_training_rev1/928940.jpg  \n",
            "  inflating: images_training_rev1/928941.jpg  \n",
            "  inflating: images_training_rev1/928945.jpg  \n",
            "  inflating: images_training_rev1/928979.jpg  \n",
            "  inflating: images_training_rev1/928995.jpg  \n",
            "  inflating: images_training_rev1/929045.jpg  \n",
            "  inflating: images_training_rev1/929051.jpg  \n",
            "  inflating: images_training_rev1/929071.jpg  \n",
            "  inflating: images_training_rev1/929080.jpg  \n",
            "  inflating: images_training_rev1/929087.jpg  \n",
            "  inflating: images_training_rev1/929104.jpg  \n",
            "  inflating: images_training_rev1/929123.jpg  \n",
            "  inflating: images_training_rev1/929136.jpg  \n",
            "  inflating: images_training_rev1/929152.jpg  \n",
            "  inflating: images_training_rev1/929243.jpg  \n",
            "  inflating: images_training_rev1/929262.jpg  \n",
            "  inflating: images_training_rev1/929263.jpg  \n",
            "  inflating: images_training_rev1/929267.jpg  \n",
            "  inflating: images_training_rev1/929297.jpg  \n",
            "  inflating: images_training_rev1/929299.jpg  \n",
            "  inflating: images_training_rev1/929313.jpg  \n",
            "  inflating: images_training_rev1/929333.jpg  \n",
            "  inflating: images_training_rev1/929370.jpg  \n",
            "  inflating: images_training_rev1/929374.jpg  \n",
            "  inflating: images_training_rev1/929406.jpg  \n",
            "  inflating: images_training_rev1/929414.jpg  \n",
            "  inflating: images_training_rev1/929416.jpg  \n",
            "  inflating: images_training_rev1/929417.jpg  \n",
            "  inflating: images_training_rev1/929447.jpg  \n",
            "  inflating: images_training_rev1/929488.jpg  \n",
            "  inflating: images_training_rev1/929505.jpg  \n",
            "  inflating: images_training_rev1/929523.jpg  \n",
            "  inflating: images_training_rev1/929571.jpg  \n",
            "  inflating: images_training_rev1/929573.jpg  \n",
            "  inflating: images_training_rev1/929586.jpg  \n",
            "  inflating: images_training_rev1/929600.jpg  \n",
            "  inflating: images_training_rev1/929606.jpg  \n",
            "  inflating: images_training_rev1/929614.jpg  \n",
            "  inflating: images_training_rev1/929646.jpg  \n",
            "  inflating: images_training_rev1/929654.jpg  \n",
            "  inflating: images_training_rev1/929670.jpg  \n",
            "  inflating: images_training_rev1/929680.jpg  \n",
            "  inflating: images_training_rev1/929683.jpg  \n",
            "  inflating: images_training_rev1/929690.jpg  \n",
            "  inflating: images_training_rev1/929693.jpg  \n",
            "  inflating: images_training_rev1/929697.jpg  \n",
            "  inflating: images_training_rev1/929731.jpg  \n",
            "  inflating: images_training_rev1/929743.jpg  \n",
            "  inflating: images_training_rev1/929750.jpg  \n",
            "  inflating: images_training_rev1/929790.jpg  \n",
            "  inflating: images_training_rev1/929796.jpg  \n",
            "  inflating: images_training_rev1/929810.jpg  \n",
            "  inflating: images_training_rev1/929825.jpg  \n",
            "  inflating: images_training_rev1/929840.jpg  \n",
            "  inflating: images_training_rev1/929879.jpg  \n",
            "  inflating: images_training_rev1/929901.jpg  \n",
            "  inflating: images_training_rev1/929902.jpg  \n",
            "  inflating: images_training_rev1/929908.jpg  \n",
            "  inflating: images_training_rev1/929945.jpg  \n",
            "  inflating: images_training_rev1/929951.jpg  \n",
            "  inflating: images_training_rev1/929956.jpg  \n",
            "  inflating: images_training_rev1/929967.jpg  \n",
            "  inflating: images_training_rev1/929972.jpg  \n",
            "  inflating: images_training_rev1/929974.jpg  \n",
            "  inflating: images_training_rev1/929975.jpg  \n",
            "  inflating: images_training_rev1/930029.jpg  \n",
            "  inflating: images_training_rev1/930044.jpg  \n",
            "  inflating: images_training_rev1/930047.jpg  \n",
            "  inflating: images_training_rev1/930070.jpg  \n",
            "  inflating: images_training_rev1/930082.jpg  \n",
            "  inflating: images_training_rev1/930083.jpg  \n",
            "  inflating: images_training_rev1/930094.jpg  \n",
            "  inflating: images_training_rev1/930101.jpg  \n",
            "  inflating: images_training_rev1/930105.jpg  \n",
            "  inflating: images_training_rev1/930118.jpg  \n",
            "  inflating: images_training_rev1/930127.jpg  \n",
            "  inflating: images_training_rev1/930133.jpg  \n",
            "  inflating: images_training_rev1/930144.jpg  \n",
            "  inflating: images_training_rev1/930148.jpg  \n",
            "  inflating: images_training_rev1/930163.jpg  \n",
            "  inflating: images_training_rev1/930187.jpg  \n",
            "  inflating: images_training_rev1/930213.jpg  \n",
            "  inflating: images_training_rev1/930264.jpg  \n",
            "  inflating: images_training_rev1/930275.jpg  \n",
            "  inflating: images_training_rev1/930282.jpg  \n",
            "  inflating: images_training_rev1/930354.jpg  \n",
            "  inflating: images_training_rev1/930358.jpg  \n",
            "  inflating: images_training_rev1/930367.jpg  \n",
            "  inflating: images_training_rev1/930378.jpg  \n",
            "  inflating: images_training_rev1/930381.jpg  \n",
            "  inflating: images_training_rev1/930387.jpg  \n",
            "  inflating: images_training_rev1/930405.jpg  \n",
            "  inflating: images_training_rev1/930429.jpg  \n",
            "  inflating: images_training_rev1/930438.jpg  \n",
            "  inflating: images_training_rev1/930442.jpg  \n",
            "  inflating: images_training_rev1/930461.jpg  \n",
            "  inflating: images_training_rev1/930463.jpg  \n",
            "  inflating: images_training_rev1/930507.jpg  \n",
            "  inflating: images_training_rev1/930512.jpg  \n",
            "  inflating: images_training_rev1/930538.jpg  \n",
            "  inflating: images_training_rev1/930552.jpg  \n",
            "  inflating: images_training_rev1/930556.jpg  \n",
            "  inflating: images_training_rev1/930560.jpg  \n",
            "  inflating: images_training_rev1/930596.jpg  \n",
            "  inflating: images_training_rev1/930618.jpg  \n",
            "  inflating: images_training_rev1/930630.jpg  \n",
            "  inflating: images_training_rev1/930633.jpg  \n",
            "  inflating: images_training_rev1/930645.jpg  \n",
            "  inflating: images_training_rev1/930648.jpg  \n",
            "  inflating: images_training_rev1/930655.jpg  \n",
            "  inflating: images_training_rev1/930658.jpg  \n",
            "  inflating: images_training_rev1/930659.jpg  \n",
            "  inflating: images_training_rev1/930674.jpg  \n",
            "  inflating: images_training_rev1/930678.jpg  \n",
            "  inflating: images_training_rev1/930685.jpg  \n",
            "  inflating: images_training_rev1/930700.jpg  \n",
            "  inflating: images_training_rev1/930703.jpg  \n",
            "  inflating: images_training_rev1/930710.jpg  \n",
            "  inflating: images_training_rev1/930742.jpg  \n",
            "  inflating: images_training_rev1/930753.jpg  \n",
            "  inflating: images_training_rev1/930776.jpg  \n",
            "  inflating: images_training_rev1/930790.jpg  \n",
            "  inflating: images_training_rev1/930797.jpg  \n",
            "  inflating: images_training_rev1/930801.jpg  \n",
            "  inflating: images_training_rev1/930803.jpg  \n",
            "  inflating: images_training_rev1/930805.jpg  \n",
            "  inflating: images_training_rev1/930827.jpg  \n",
            "  inflating: images_training_rev1/930869.jpg  \n",
            "  inflating: images_training_rev1/930876.jpg  \n",
            "  inflating: images_training_rev1/930879.jpg  \n",
            "  inflating: images_training_rev1/930883.jpg  \n",
            "  inflating: images_training_rev1/930908.jpg  \n",
            "  inflating: images_training_rev1/930946.jpg  \n",
            "  inflating: images_training_rev1/930962.jpg  \n",
            "  inflating: images_training_rev1/930997.jpg  \n",
            "  inflating: images_training_rev1/931013.jpg  \n",
            "  inflating: images_training_rev1/931039.jpg  \n",
            "  inflating: images_training_rev1/931092.jpg  \n",
            "  inflating: images_training_rev1/931120.jpg  \n",
            "  inflating: images_training_rev1/931124.jpg  \n",
            "  inflating: images_training_rev1/931131.jpg  \n",
            "  inflating: images_training_rev1/931141.jpg  \n",
            "  inflating: images_training_rev1/931146.jpg  \n",
            "  inflating: images_training_rev1/931174.jpg  \n",
            "  inflating: images_training_rev1/931178.jpg  \n",
            "  inflating: images_training_rev1/931182.jpg  \n",
            "  inflating: images_training_rev1/931193.jpg  \n",
            "  inflating: images_training_rev1/931196.jpg  \n",
            "  inflating: images_training_rev1/931199.jpg  \n",
            "  inflating: images_training_rev1/931201.jpg  \n",
            "  inflating: images_training_rev1/931215.jpg  \n",
            "  inflating: images_training_rev1/931221.jpg  \n",
            "  inflating: images_training_rev1/931228.jpg  \n",
            "  inflating: images_training_rev1/931233.jpg  \n",
            "  inflating: images_training_rev1/931279.jpg  \n",
            "  inflating: images_training_rev1/931292.jpg  \n",
            "  inflating: images_training_rev1/931306.jpg  \n",
            "  inflating: images_training_rev1/931315.jpg  \n",
            "  inflating: images_training_rev1/931324.jpg  \n",
            "  inflating: images_training_rev1/931336.jpg  \n",
            "  inflating: images_training_rev1/931350.jpg  \n",
            "  inflating: images_training_rev1/931359.jpg  \n",
            "  inflating: images_training_rev1/931363.jpg  \n",
            "  inflating: images_training_rev1/931386.jpg  \n",
            "  inflating: images_training_rev1/931389.jpg  \n",
            "  inflating: images_training_rev1/931400.jpg  \n",
            "  inflating: images_training_rev1/931403.jpg  \n",
            "  inflating: images_training_rev1/931422.jpg  \n",
            "  inflating: images_training_rev1/931425.jpg  \n",
            "  inflating: images_training_rev1/931430.jpg  \n",
            "  inflating: images_training_rev1/931440.jpg  \n",
            "  inflating: images_training_rev1/931449.jpg  \n",
            "  inflating: images_training_rev1/931517.jpg  \n",
            "  inflating: images_training_rev1/931523.jpg  \n",
            "  inflating: images_training_rev1/931531.jpg  \n",
            "  inflating: images_training_rev1/931534.jpg  \n",
            "  inflating: images_training_rev1/931540.jpg  \n",
            "  inflating: images_training_rev1/931542.jpg  \n",
            "  inflating: images_training_rev1/931554.jpg  \n",
            "  inflating: images_training_rev1/931559.jpg  \n",
            "  inflating: images_training_rev1/931570.jpg  \n",
            "  inflating: images_training_rev1/931576.jpg  \n",
            "  inflating: images_training_rev1/931598.jpg  \n",
            "  inflating: images_training_rev1/931621.jpg  \n",
            "  inflating: images_training_rev1/931645.jpg  \n",
            "  inflating: images_training_rev1/931651.jpg  \n",
            "  inflating: images_training_rev1/931681.jpg  \n",
            "  inflating: images_training_rev1/931688.jpg  \n",
            "  inflating: images_training_rev1/931695.jpg  \n",
            "  inflating: images_training_rev1/931697.jpg  \n",
            "  inflating: images_training_rev1/931701.jpg  \n",
            "  inflating: images_training_rev1/931710.jpg  \n",
            "  inflating: images_training_rev1/931720.jpg  \n",
            "  inflating: images_training_rev1/931768.jpg  \n",
            "  inflating: images_training_rev1/931781.jpg  \n",
            "  inflating: images_training_rev1/931792.jpg  \n",
            "  inflating: images_training_rev1/931796.jpg  \n",
            "  inflating: images_training_rev1/931813.jpg  \n",
            "  inflating: images_training_rev1/931832.jpg  \n",
            "  inflating: images_training_rev1/931839.jpg  \n",
            "  inflating: images_training_rev1/931843.jpg  \n",
            "  inflating: images_training_rev1/931868.jpg  \n",
            "  inflating: images_training_rev1/931873.jpg  \n",
            "  inflating: images_training_rev1/931879.jpg  \n",
            "  inflating: images_training_rev1/931898.jpg  \n",
            "  inflating: images_training_rev1/931901.jpg  \n",
            "  inflating: images_training_rev1/931911.jpg  \n",
            "  inflating: images_training_rev1/931916.jpg  \n",
            "  inflating: images_training_rev1/931934.jpg  \n",
            "  inflating: images_training_rev1/931938.jpg  \n",
            "  inflating: images_training_rev1/931952.jpg  \n",
            "  inflating: images_training_rev1/931964.jpg  \n",
            "  inflating: images_training_rev1/931985.jpg  \n",
            "  inflating: images_training_rev1/932033.jpg  \n",
            "  inflating: images_training_rev1/932036.jpg  \n",
            "  inflating: images_training_rev1/932042.jpg  \n",
            "  inflating: images_training_rev1/932047.jpg  \n",
            "  inflating: images_training_rev1/932048.jpg  \n",
            "  inflating: images_training_rev1/932099.jpg  \n",
            "  inflating: images_training_rev1/932106.jpg  \n",
            "  inflating: images_training_rev1/932119.jpg  \n",
            "  inflating: images_training_rev1/932124.jpg  \n",
            "  inflating: images_training_rev1/932146.jpg  \n",
            "  inflating: images_training_rev1/932213.jpg  \n",
            "  inflating: images_training_rev1/932214.jpg  \n",
            "  inflating: images_training_rev1/932227.jpg  \n",
            "  inflating: images_training_rev1/932246.jpg  \n",
            "  inflating: images_training_rev1/932253.jpg  \n",
            "  inflating: images_training_rev1/932254.jpg  \n",
            "  inflating: images_training_rev1/932258.jpg  \n",
            "  inflating: images_training_rev1/932270.jpg  \n",
            "  inflating: images_training_rev1/932331.jpg  \n",
            "  inflating: images_training_rev1/932390.jpg  \n",
            "  inflating: images_training_rev1/932410.jpg  \n",
            "  inflating: images_training_rev1/932424.jpg  \n",
            "  inflating: images_training_rev1/932425.jpg  \n",
            "  inflating: images_training_rev1/932485.jpg  \n",
            "  inflating: images_training_rev1/932507.jpg  \n",
            "  inflating: images_training_rev1/932531.jpg  \n",
            "  inflating: images_training_rev1/932543.jpg  \n",
            "  inflating: images_training_rev1/932597.jpg  \n",
            "  inflating: images_training_rev1/932605.jpg  \n",
            "  inflating: images_training_rev1/932618.jpg  \n",
            "  inflating: images_training_rev1/932627.jpg  \n",
            "  inflating: images_training_rev1/932643.jpg  \n",
            "  inflating: images_training_rev1/932659.jpg  \n",
            "  inflating: images_training_rev1/932674.jpg  \n",
            "  inflating: images_training_rev1/932680.jpg  \n",
            "  inflating: images_training_rev1/932687.jpg  \n",
            "  inflating: images_training_rev1/932720.jpg  \n",
            "  inflating: images_training_rev1/932723.jpg  \n",
            "  inflating: images_training_rev1/932727.jpg  \n",
            "  inflating: images_training_rev1/932775.jpg  \n",
            "  inflating: images_training_rev1/932836.jpg  \n",
            "  inflating: images_training_rev1/932840.jpg  \n",
            "  inflating: images_training_rev1/932842.jpg  \n",
            "  inflating: images_training_rev1/932843.jpg  \n",
            "  inflating: images_training_rev1/932860.jpg  \n",
            "  inflating: images_training_rev1/932870.jpg  \n",
            "  inflating: images_training_rev1/932884.jpg  \n",
            "  inflating: images_training_rev1/932885.jpg  \n",
            "  inflating: images_training_rev1/932902.jpg  \n",
            "  inflating: images_training_rev1/932910.jpg  \n",
            "  inflating: images_training_rev1/932917.jpg  \n",
            "  inflating: images_training_rev1/932923.jpg  \n",
            "  inflating: images_training_rev1/932984.jpg  \n",
            "  inflating: images_training_rev1/932987.jpg  \n",
            "  inflating: images_training_rev1/932991.jpg  \n",
            "  inflating: images_training_rev1/932995.jpg  \n",
            "  inflating: images_training_rev1/933022.jpg  \n",
            "  inflating: images_training_rev1/933037.jpg  \n",
            "  inflating: images_training_rev1/933047.jpg  \n",
            "  inflating: images_training_rev1/933071.jpg  \n",
            "  inflating: images_training_rev1/933084.jpg  \n",
            "  inflating: images_training_rev1/933111.jpg  \n",
            "  inflating: images_training_rev1/933121.jpg  \n",
            "  inflating: images_training_rev1/933122.jpg  \n",
            "  inflating: images_training_rev1/933144.jpg  \n",
            "  inflating: images_training_rev1/933152.jpg  \n",
            "  inflating: images_training_rev1/933185.jpg  \n",
            "  inflating: images_training_rev1/933220.jpg  \n",
            "  inflating: images_training_rev1/933222.jpg  \n",
            "  inflating: images_training_rev1/933238.jpg  \n",
            "  inflating: images_training_rev1/933246.jpg  \n",
            "  inflating: images_training_rev1/933263.jpg  \n",
            "  inflating: images_training_rev1/933277.jpg  \n",
            "  inflating: images_training_rev1/933281.jpg  \n",
            "  inflating: images_training_rev1/933297.jpg  \n",
            "  inflating: images_training_rev1/933304.jpg  \n",
            "  inflating: images_training_rev1/933315.jpg  \n",
            "  inflating: images_training_rev1/933332.jpg  \n",
            "  inflating: images_training_rev1/933360.jpg  \n",
            "  inflating: images_training_rev1/933375.jpg  \n",
            "  inflating: images_training_rev1/933378.jpg  \n",
            "  inflating: images_training_rev1/933412.jpg  \n",
            "  inflating: images_training_rev1/933438.jpg  \n",
            "  inflating: images_training_rev1/933449.jpg  \n",
            "  inflating: images_training_rev1/933457.jpg  \n",
            "  inflating: images_training_rev1/933462.jpg  \n",
            "  inflating: images_training_rev1/933466.jpg  \n",
            "  inflating: images_training_rev1/933491.jpg  \n",
            "  inflating: images_training_rev1/933507.jpg  \n",
            "  inflating: images_training_rev1/933527.jpg  \n",
            "  inflating: images_training_rev1/933530.jpg  \n",
            "  inflating: images_training_rev1/933535.jpg  \n",
            "  inflating: images_training_rev1/933556.jpg  \n",
            "  inflating: images_training_rev1/933567.jpg  \n",
            "  inflating: images_training_rev1/933574.jpg  \n",
            "  inflating: images_training_rev1/933600.jpg  \n",
            "  inflating: images_training_rev1/933608.jpg  \n",
            "  inflating: images_training_rev1/933629.jpg  \n",
            "  inflating: images_training_rev1/933642.jpg  \n",
            "  inflating: images_training_rev1/933645.jpg  \n",
            "  inflating: images_training_rev1/933646.jpg  \n",
            "  inflating: images_training_rev1/933650.jpg  \n",
            "  inflating: images_training_rev1/933661.jpg  \n",
            "  inflating: images_training_rev1/933663.jpg  \n",
            "  inflating: images_training_rev1/933693.jpg  \n",
            "  inflating: images_training_rev1/933697.jpg  \n",
            "  inflating: images_training_rev1/933712.jpg  \n",
            "  inflating: images_training_rev1/933718.jpg  \n",
            "  inflating: images_training_rev1/933729.jpg  \n",
            "  inflating: images_training_rev1/933733.jpg  \n",
            "  inflating: images_training_rev1/933737.jpg  \n",
            "  inflating: images_training_rev1/933757.jpg  \n",
            "  inflating: images_training_rev1/933768.jpg  \n",
            "  inflating: images_training_rev1/933788.jpg  \n",
            "  inflating: images_training_rev1/933796.jpg  \n",
            "  inflating: images_training_rev1/933804.jpg  \n",
            "  inflating: images_training_rev1/933815.jpg  \n",
            "  inflating: images_training_rev1/933817.jpg  \n",
            "  inflating: images_training_rev1/933849.jpg  \n",
            "  inflating: images_training_rev1/933865.jpg  \n",
            "  inflating: images_training_rev1/933870.jpg  \n",
            "  inflating: images_training_rev1/933897.jpg  \n",
            "  inflating: images_training_rev1/933912.jpg  \n",
            "  inflating: images_training_rev1/933913.jpg  \n",
            "  inflating: images_training_rev1/933926.jpg  \n",
            "  inflating: images_training_rev1/933929.jpg  \n",
            "  inflating: images_training_rev1/933959.jpg  \n",
            "  inflating: images_training_rev1/933967.jpg  \n",
            "  inflating: images_training_rev1/933968.jpg  \n",
            "  inflating: images_training_rev1/933995.jpg  \n",
            "  inflating: images_training_rev1/934001.jpg  \n",
            "  inflating: images_training_rev1/934030.jpg  \n",
            "  inflating: images_training_rev1/934044.jpg  \n",
            "  inflating: images_training_rev1/934047.jpg  \n",
            "  inflating: images_training_rev1/934049.jpg  \n",
            "  inflating: images_training_rev1/934066.jpg  \n",
            "  inflating: images_training_rev1/934073.jpg  \n",
            "  inflating: images_training_rev1/934077.jpg  \n",
            "  inflating: images_training_rev1/934078.jpg  \n",
            "  inflating: images_training_rev1/934082.jpg  \n",
            "  inflating: images_training_rev1/934086.jpg  \n",
            "  inflating: images_training_rev1/934089.jpg  \n",
            "  inflating: images_training_rev1/934097.jpg  \n",
            "  inflating: images_training_rev1/934122.jpg  \n",
            "  inflating: images_training_rev1/934128.jpg  \n",
            "  inflating: images_training_rev1/934130.jpg  \n",
            "  inflating: images_training_rev1/934137.jpg  \n",
            "  inflating: images_training_rev1/934138.jpg  \n",
            "  inflating: images_training_rev1/934144.jpg  \n",
            "  inflating: images_training_rev1/934154.jpg  \n",
            "  inflating: images_training_rev1/934169.jpg  \n",
            "  inflating: images_training_rev1/934237.jpg  \n",
            "  inflating: images_training_rev1/934240.jpg  \n",
            "  inflating: images_training_rev1/934258.jpg  \n",
            "  inflating: images_training_rev1/934281.jpg  \n",
            "  inflating: images_training_rev1/934282.jpg  \n",
            "  inflating: images_training_rev1/934286.jpg  \n",
            "  inflating: images_training_rev1/934293.jpg  \n",
            "  inflating: images_training_rev1/934324.jpg  \n",
            "  inflating: images_training_rev1/934328.jpg  \n",
            "  inflating: images_training_rev1/934345.jpg  \n",
            "  inflating: images_training_rev1/934347.jpg  \n",
            "  inflating: images_training_rev1/934348.jpg  \n",
            "  inflating: images_training_rev1/934378.jpg  \n",
            "  inflating: images_training_rev1/934382.jpg  \n",
            "  inflating: images_training_rev1/934390.jpg  \n",
            "  inflating: images_training_rev1/934393.jpg  \n",
            "  inflating: images_training_rev1/934410.jpg  \n",
            "  inflating: images_training_rev1/934417.jpg  \n",
            "  inflating: images_training_rev1/934421.jpg  \n",
            "  inflating: images_training_rev1/934428.jpg  \n",
            "  inflating: images_training_rev1/934440.jpg  \n",
            "  inflating: images_training_rev1/934460.jpg  \n",
            "  inflating: images_training_rev1/934474.jpg  \n",
            "  inflating: images_training_rev1/934475.jpg  \n",
            "  inflating: images_training_rev1/934479.jpg  \n",
            "  inflating: images_training_rev1/934499.jpg  \n",
            "  inflating: images_training_rev1/934501.jpg  \n",
            "  inflating: images_training_rev1/934503.jpg  \n",
            "  inflating: images_training_rev1/934507.jpg  \n",
            "  inflating: images_training_rev1/934539.jpg  \n",
            "  inflating: images_training_rev1/934543.jpg  \n",
            "  inflating: images_training_rev1/934572.jpg  \n",
            "  inflating: images_training_rev1/934586.jpg  \n",
            "  inflating: images_training_rev1/934610.jpg  \n",
            "  inflating: images_training_rev1/934622.jpg  \n",
            "  inflating: images_training_rev1/934626.jpg  \n",
            "  inflating: images_training_rev1/934660.jpg  \n",
            "  inflating: images_training_rev1/934668.jpg  \n",
            "  inflating: images_training_rev1/934669.jpg  \n",
            "  inflating: images_training_rev1/934676.jpg  \n",
            "  inflating: images_training_rev1/934693.jpg  \n",
            "  inflating: images_training_rev1/934694.jpg  \n",
            "  inflating: images_training_rev1/934705.jpg  \n",
            "  inflating: images_training_rev1/934706.jpg  \n",
            "  inflating: images_training_rev1/934731.jpg  \n",
            "  inflating: images_training_rev1/934769.jpg  \n",
            "  inflating: images_training_rev1/934793.jpg  \n",
            "  inflating: images_training_rev1/934797.jpg  \n",
            "  inflating: images_training_rev1/934798.jpg  \n",
            "  inflating: images_training_rev1/934815.jpg  \n",
            "  inflating: images_training_rev1/934829.jpg  \n",
            "  inflating: images_training_rev1/934832.jpg  \n",
            "  inflating: images_training_rev1/934836.jpg  \n",
            "  inflating: images_training_rev1/934859.jpg  \n",
            "  inflating: images_training_rev1/934862.jpg  \n",
            "  inflating: images_training_rev1/934890.jpg  \n",
            "  inflating: images_training_rev1/934895.jpg  \n",
            "  inflating: images_training_rev1/934899.jpg  \n",
            "  inflating: images_training_rev1/934905.jpg  \n",
            "  inflating: images_training_rev1/934906.jpg  \n",
            "  inflating: images_training_rev1/934910.jpg  \n",
            "  inflating: images_training_rev1/934915.jpg  \n",
            "  inflating: images_training_rev1/934918.jpg  \n",
            "  inflating: images_training_rev1/934920.jpg  \n",
            "  inflating: images_training_rev1/934921.jpg  \n",
            "  inflating: images_training_rev1/934925.jpg  \n",
            "  inflating: images_training_rev1/934927.jpg  \n",
            "  inflating: images_training_rev1/934932.jpg  \n",
            "  inflating: images_training_rev1/934935.jpg  \n",
            "  inflating: images_training_rev1/934936.jpg  \n",
            "  inflating: images_training_rev1/934948.jpg  \n",
            "  inflating: images_training_rev1/934962.jpg  \n",
            "  inflating: images_training_rev1/934968.jpg  \n",
            "  inflating: images_training_rev1/935000.jpg  \n",
            "  inflating: images_training_rev1/935003.jpg  \n",
            "  inflating: images_training_rev1/935008.jpg  \n",
            "  inflating: images_training_rev1/935015.jpg  \n",
            "  inflating: images_training_rev1/935032.jpg  \n",
            "  inflating: images_training_rev1/935057.jpg  \n",
            "  inflating: images_training_rev1/935075.jpg  \n",
            "  inflating: images_training_rev1/935087.jpg  \n",
            "  inflating: images_training_rev1/935101.jpg  \n",
            "  inflating: images_training_rev1/935149.jpg  \n",
            "  inflating: images_training_rev1/935150.jpg  \n",
            "  inflating: images_training_rev1/935165.jpg  \n",
            "  inflating: images_training_rev1/935169.jpg  \n",
            "  inflating: images_training_rev1/935229.jpg  \n",
            "  inflating: images_training_rev1/935238.jpg  \n",
            "  inflating: images_training_rev1/935252.jpg  \n",
            "  inflating: images_training_rev1/935279.jpg  \n",
            "  inflating: images_training_rev1/935289.jpg  \n",
            "  inflating: images_training_rev1/935314.jpg  \n",
            "  inflating: images_training_rev1/935423.jpg  \n",
            "  inflating: images_training_rev1/935424.jpg  \n",
            "  inflating: images_training_rev1/935436.jpg  \n",
            "  inflating: images_training_rev1/935445.jpg  \n",
            "  inflating: images_training_rev1/935446.jpg  \n",
            "  inflating: images_training_rev1/935479.jpg  \n",
            "  inflating: images_training_rev1/935495.jpg  \n",
            "  inflating: images_training_rev1/935500.jpg  \n",
            "  inflating: images_training_rev1/935502.jpg  \n",
            "  inflating: images_training_rev1/935507.jpg  \n",
            "  inflating: images_training_rev1/935511.jpg  \n",
            "  inflating: images_training_rev1/935513.jpg  \n",
            "  inflating: images_training_rev1/935518.jpg  \n",
            "  inflating: images_training_rev1/935524.jpg  \n",
            "  inflating: images_training_rev1/935539.jpg  \n",
            "  inflating: images_training_rev1/935549.jpg  \n",
            "  inflating: images_training_rev1/935584.jpg  \n",
            "  inflating: images_training_rev1/935606.jpg  \n",
            "  inflating: images_training_rev1/935630.jpg  \n",
            "  inflating: images_training_rev1/935648.jpg  \n",
            "  inflating: images_training_rev1/935687.jpg  \n",
            "  inflating: images_training_rev1/935708.jpg  \n",
            "  inflating: images_training_rev1/935710.jpg  \n",
            "  inflating: images_training_rev1/935715.jpg  \n",
            "  inflating: images_training_rev1/935727.jpg  \n",
            "  inflating: images_training_rev1/935729.jpg  \n",
            "  inflating: images_training_rev1/935735.jpg  \n",
            "  inflating: images_training_rev1/935745.jpg  \n",
            "  inflating: images_training_rev1/935756.jpg  \n",
            "  inflating: images_training_rev1/935789.jpg  \n",
            "  inflating: images_training_rev1/935802.jpg  \n",
            "  inflating: images_training_rev1/935820.jpg  \n",
            "  inflating: images_training_rev1/935822.jpg  \n",
            "  inflating: images_training_rev1/935845.jpg  \n",
            "  inflating: images_training_rev1/935847.jpg  \n",
            "  inflating: images_training_rev1/935848.jpg  \n",
            "  inflating: images_training_rev1/935850.jpg  \n",
            "  inflating: images_training_rev1/935866.jpg  \n",
            "  inflating: images_training_rev1/935890.jpg  \n",
            "  inflating: images_training_rev1/935898.jpg  \n",
            "  inflating: images_training_rev1/935927.jpg  \n",
            "  inflating: images_training_rev1/935928.jpg  \n",
            "  inflating: images_training_rev1/935976.jpg  \n",
            "  inflating: images_training_rev1/935980.jpg  \n",
            "  inflating: images_training_rev1/936015.jpg  \n",
            "  inflating: images_training_rev1/936022.jpg  \n",
            "  inflating: images_training_rev1/936026.jpg  \n",
            "  inflating: images_training_rev1/936035.jpg  \n",
            "  inflating: images_training_rev1/936044.jpg  \n",
            "  inflating: images_training_rev1/936077.jpg  \n",
            "  inflating: images_training_rev1/936084.jpg  \n",
            "  inflating: images_training_rev1/936089.jpg  \n",
            "  inflating: images_training_rev1/936095.jpg  \n",
            "  inflating: images_training_rev1/936097.jpg  \n",
            "  inflating: images_training_rev1/936109.jpg  \n",
            "  inflating: images_training_rev1/936120.jpg  \n",
            "  inflating: images_training_rev1/936125.jpg  \n",
            "  inflating: images_training_rev1/936134.jpg  \n",
            "  inflating: images_training_rev1/936136.jpg  \n",
            "  inflating: images_training_rev1/936174.jpg  \n",
            "  inflating: images_training_rev1/936183.jpg  \n",
            "  inflating: images_training_rev1/936214.jpg  \n",
            "  inflating: images_training_rev1/936221.jpg  \n",
            "  inflating: images_training_rev1/936245.jpg  \n",
            "  inflating: images_training_rev1/936248.jpg  \n",
            "  inflating: images_training_rev1/936255.jpg  \n",
            "  inflating: images_training_rev1/936287.jpg  \n",
            "  inflating: images_training_rev1/936290.jpg  \n",
            "  inflating: images_training_rev1/936336.jpg  \n",
            "  inflating: images_training_rev1/936345.jpg  \n",
            "  inflating: images_training_rev1/936368.jpg  \n",
            "  inflating: images_training_rev1/936379.jpg  \n",
            "  inflating: images_training_rev1/936440.jpg  \n",
            "  inflating: images_training_rev1/936441.jpg  \n",
            "  inflating: images_training_rev1/936474.jpg  \n",
            "  inflating: images_training_rev1/936475.jpg  \n",
            "  inflating: images_training_rev1/936534.jpg  \n",
            "  inflating: images_training_rev1/936544.jpg  \n",
            "  inflating: images_training_rev1/936546.jpg  \n",
            "  inflating: images_training_rev1/936569.jpg  \n",
            "  inflating: images_training_rev1/936602.jpg  \n",
            "  inflating: images_training_rev1/936606.jpg  \n",
            "  inflating: images_training_rev1/936616.jpg  \n",
            "  inflating: images_training_rev1/936624.jpg  \n",
            "  inflating: images_training_rev1/936629.jpg  \n",
            "  inflating: images_training_rev1/936633.jpg  \n",
            "  inflating: images_training_rev1/936646.jpg  \n",
            "  inflating: images_training_rev1/936653.jpg  \n",
            "  inflating: images_training_rev1/936654.jpg  \n",
            "  inflating: images_training_rev1/936668.jpg  \n",
            "  inflating: images_training_rev1/936674.jpg  \n",
            "  inflating: images_training_rev1/936686.jpg  \n",
            "  inflating: images_training_rev1/936696.jpg  \n",
            "  inflating: images_training_rev1/936697.jpg  \n",
            "  inflating: images_training_rev1/936704.jpg  \n",
            "  inflating: images_training_rev1/936722.jpg  \n",
            "  inflating: images_training_rev1/936733.jpg  \n",
            "  inflating: images_training_rev1/936737.jpg  \n",
            "  inflating: images_training_rev1/936754.jpg  \n",
            "  inflating: images_training_rev1/936759.jpg  \n",
            "  inflating: images_training_rev1/936764.jpg  \n",
            "  inflating: images_training_rev1/936785.jpg  \n",
            "  inflating: images_training_rev1/936788.jpg  \n",
            "  inflating: images_training_rev1/936789.jpg  \n",
            "  inflating: images_training_rev1/936791.jpg  \n",
            "  inflating: images_training_rev1/936797.jpg  \n",
            "  inflating: images_training_rev1/936805.jpg  \n",
            "  inflating: images_training_rev1/936824.jpg  \n",
            "  inflating: images_training_rev1/936841.jpg  \n",
            "  inflating: images_training_rev1/936862.jpg  \n",
            "  inflating: images_training_rev1/936877.jpg  \n",
            "  inflating: images_training_rev1/936891.jpg  \n",
            "  inflating: images_training_rev1/936892.jpg  \n",
            "  inflating: images_training_rev1/936910.jpg  \n",
            "  inflating: images_training_rev1/936911.jpg  \n",
            "  inflating: images_training_rev1/936955.jpg  \n",
            "  inflating: images_training_rev1/936972.jpg  \n",
            "  inflating: images_training_rev1/936978.jpg  \n",
            "  inflating: images_training_rev1/936987.jpg  \n",
            "  inflating: images_training_rev1/937005.jpg  \n",
            "  inflating: images_training_rev1/937006.jpg  \n",
            "  inflating: images_training_rev1/937013.jpg  \n",
            "  inflating: images_training_rev1/937038.jpg  \n",
            "  inflating: images_training_rev1/937071.jpg  \n",
            "  inflating: images_training_rev1/937075.jpg  \n",
            "  inflating: images_training_rev1/937089.jpg  \n",
            "  inflating: images_training_rev1/937091.jpg  \n",
            "  inflating: images_training_rev1/937102.jpg  \n",
            "  inflating: images_training_rev1/937130.jpg  \n",
            "  inflating: images_training_rev1/937168.jpg  \n",
            "  inflating: images_training_rev1/937174.jpg  \n",
            "  inflating: images_training_rev1/937187.jpg  \n",
            "  inflating: images_training_rev1/937202.jpg  \n",
            "  inflating: images_training_rev1/937267.jpg  \n",
            "  inflating: images_training_rev1/937339.jpg  \n",
            "  inflating: images_training_rev1/937360.jpg  \n",
            "  inflating: images_training_rev1/937370.jpg  \n",
            "  inflating: images_training_rev1/937387.jpg  \n",
            "  inflating: images_training_rev1/937391.jpg  \n",
            "  inflating: images_training_rev1/937393.jpg  \n",
            "  inflating: images_training_rev1/937396.jpg  \n",
            "  inflating: images_training_rev1/937410.jpg  \n",
            "  inflating: images_training_rev1/937421.jpg  \n",
            "  inflating: images_training_rev1/937429.jpg  \n",
            "  inflating: images_training_rev1/937442.jpg  \n",
            "  inflating: images_training_rev1/937443.jpg  \n",
            "  inflating: images_training_rev1/937444.jpg  \n",
            "  inflating: images_training_rev1/937485.jpg  \n",
            "  inflating: images_training_rev1/937504.jpg  \n",
            "  inflating: images_training_rev1/937509.jpg  \n",
            "  inflating: images_training_rev1/937514.jpg  \n",
            "  inflating: images_training_rev1/937519.jpg  \n",
            "  inflating: images_training_rev1/937526.jpg  \n",
            "  inflating: images_training_rev1/937537.jpg  \n",
            "  inflating: images_training_rev1/937553.jpg  \n",
            "  inflating: images_training_rev1/937583.jpg  \n",
            "  inflating: images_training_rev1/937586.jpg  \n",
            "  inflating: images_training_rev1/937624.jpg  \n",
            "  inflating: images_training_rev1/937694.jpg  \n",
            "  inflating: images_training_rev1/937707.jpg  \n",
            "  inflating: images_training_rev1/937716.jpg  \n",
            "  inflating: images_training_rev1/937722.jpg  \n",
            "  inflating: images_training_rev1/937725.jpg  \n",
            "  inflating: images_training_rev1/937754.jpg  \n",
            "  inflating: images_training_rev1/937797.jpg  \n",
            "  inflating: images_training_rev1/937814.jpg  \n",
            "  inflating: images_training_rev1/937837.jpg  \n",
            "  inflating: images_training_rev1/937846.jpg  \n",
            "  inflating: images_training_rev1/937904.jpg  \n",
            "  inflating: images_training_rev1/937932.jpg  \n",
            "  inflating: images_training_rev1/937937.jpg  \n",
            "  inflating: images_training_rev1/937954.jpg  \n",
            "  inflating: images_training_rev1/937959.jpg  \n",
            "  inflating: images_training_rev1/937966.jpg  \n",
            "  inflating: images_training_rev1/937984.jpg  \n",
            "  inflating: images_training_rev1/938002.jpg  \n",
            "  inflating: images_training_rev1/938019.jpg  \n",
            "  inflating: images_training_rev1/938022.jpg  \n",
            "  inflating: images_training_rev1/938024.jpg  \n",
            "  inflating: images_training_rev1/938041.jpg  \n",
            "  inflating: images_training_rev1/938067.jpg  \n",
            "  inflating: images_training_rev1/938107.jpg  \n",
            "  inflating: images_training_rev1/938110.jpg  \n",
            "  inflating: images_training_rev1/938125.jpg  \n",
            "  inflating: images_training_rev1/938127.jpg  \n",
            "  inflating: images_training_rev1/938142.jpg  \n",
            "  inflating: images_training_rev1/938167.jpg  \n",
            "  inflating: images_training_rev1/938173.jpg  \n",
            "  inflating: images_training_rev1/938178.jpg  \n",
            "  inflating: images_training_rev1/938195.jpg  \n",
            "  inflating: images_training_rev1/938197.jpg  \n",
            "  inflating: images_training_rev1/938220.jpg  \n",
            "  inflating: images_training_rev1/938228.jpg  \n",
            "  inflating: images_training_rev1/938247.jpg  \n",
            "  inflating: images_training_rev1/938251.jpg  \n",
            "  inflating: images_training_rev1/938252.jpg  \n",
            "  inflating: images_training_rev1/938254.jpg  \n",
            "  inflating: images_training_rev1/938264.jpg  \n",
            "  inflating: images_training_rev1/938269.jpg  \n",
            "  inflating: images_training_rev1/938271.jpg  \n",
            "  inflating: images_training_rev1/938299.jpg  \n",
            "  inflating: images_training_rev1/938300.jpg  \n",
            "  inflating: images_training_rev1/938301.jpg  \n",
            "  inflating: images_training_rev1/938307.jpg  \n",
            "  inflating: images_training_rev1/938312.jpg  \n",
            "  inflating: images_training_rev1/938321.jpg  \n",
            "  inflating: images_training_rev1/938324.jpg  \n",
            "  inflating: images_training_rev1/938352.jpg  \n",
            "  inflating: images_training_rev1/938363.jpg  \n",
            "  inflating: images_training_rev1/938369.jpg  \n",
            "  inflating: images_training_rev1/938379.jpg  \n",
            "  inflating: images_training_rev1/938416.jpg  \n",
            "  inflating: images_training_rev1/938430.jpg  \n",
            "  inflating: images_training_rev1/938443.jpg  \n",
            "  inflating: images_training_rev1/938452.jpg  \n",
            "  inflating: images_training_rev1/938455.jpg  \n",
            "  inflating: images_training_rev1/938480.jpg  \n",
            "  inflating: images_training_rev1/938489.jpg  \n",
            "  inflating: images_training_rev1/938491.jpg  \n",
            "  inflating: images_training_rev1/938492.jpg  \n",
            "  inflating: images_training_rev1/938497.jpg  \n",
            "  inflating: images_training_rev1/938502.jpg  \n",
            "  inflating: images_training_rev1/938503.jpg  \n",
            "  inflating: images_training_rev1/938526.jpg  \n",
            "  inflating: images_training_rev1/938533.jpg  \n",
            "  inflating: images_training_rev1/938568.jpg  \n",
            "  inflating: images_training_rev1/938572.jpg  \n",
            "  inflating: images_training_rev1/938576.jpg  \n",
            "  inflating: images_training_rev1/938579.jpg  \n",
            "  inflating: images_training_rev1/938623.jpg  \n",
            "  inflating: images_training_rev1/938650.jpg  \n",
            "  inflating: images_training_rev1/938653.jpg  \n",
            "  inflating: images_training_rev1/938659.jpg  \n",
            "  inflating: images_training_rev1/938668.jpg  \n",
            "  inflating: images_training_rev1/938669.jpg  \n",
            "  inflating: images_training_rev1/938670.jpg  \n",
            "  inflating: images_training_rev1/938672.jpg  \n",
            "  inflating: images_training_rev1/938673.jpg  \n",
            "  inflating: images_training_rev1/938675.jpg  \n",
            "  inflating: images_training_rev1/938676.jpg  \n",
            "  inflating: images_training_rev1/938681.jpg  \n",
            "  inflating: images_training_rev1/938708.jpg  \n",
            "  inflating: images_training_rev1/938711.jpg  \n",
            "  inflating: images_training_rev1/938725.jpg  \n",
            "  inflating: images_training_rev1/938728.jpg  \n",
            "  inflating: images_training_rev1/938731.jpg  \n",
            "  inflating: images_training_rev1/938742.jpg  \n",
            "  inflating: images_training_rev1/938744.jpg  \n",
            "  inflating: images_training_rev1/938745.jpg  \n",
            "  inflating: images_training_rev1/938755.jpg  \n",
            "  inflating: images_training_rev1/938764.jpg  \n",
            "  inflating: images_training_rev1/938767.jpg  \n",
            "  inflating: images_training_rev1/938774.jpg  \n",
            "  inflating: images_training_rev1/938775.jpg  \n",
            "  inflating: images_training_rev1/938777.jpg  \n",
            "  inflating: images_training_rev1/938804.jpg  \n",
            "  inflating: images_training_rev1/938810.jpg  \n",
            "  inflating: images_training_rev1/938829.jpg  \n",
            "  inflating: images_training_rev1/938845.jpg  \n",
            "  inflating: images_training_rev1/938872.jpg  \n",
            "  inflating: images_training_rev1/938942.jpg  \n",
            "  inflating: images_training_rev1/938960.jpg  \n",
            "  inflating: images_training_rev1/938961.jpg  \n",
            "  inflating: images_training_rev1/938967.jpg  \n",
            "  inflating: images_training_rev1/938977.jpg  \n",
            "  inflating: images_training_rev1/938994.jpg  \n",
            "  inflating: images_training_rev1/939000.jpg  \n",
            "  inflating: images_training_rev1/939011.jpg  \n",
            "  inflating: images_training_rev1/939026.jpg  \n",
            "  inflating: images_training_rev1/939031.jpg  \n",
            "  inflating: images_training_rev1/939045.jpg  \n",
            "  inflating: images_training_rev1/939064.jpg  \n",
            "  inflating: images_training_rev1/939095.jpg  \n",
            "  inflating: images_training_rev1/939102.jpg  \n",
            "  inflating: images_training_rev1/939132.jpg  \n",
            "  inflating: images_training_rev1/939175.jpg  \n",
            "  inflating: images_training_rev1/939188.jpg  \n",
            "  inflating: images_training_rev1/939198.jpg  \n",
            "  inflating: images_training_rev1/939202.jpg  \n",
            "  inflating: images_training_rev1/939216.jpg  \n",
            "  inflating: images_training_rev1/939222.jpg  \n",
            "  inflating: images_training_rev1/939233.jpg  \n",
            "  inflating: images_training_rev1/939235.jpg  \n",
            "  inflating: images_training_rev1/939246.jpg  \n",
            "  inflating: images_training_rev1/939258.jpg  \n",
            "  inflating: images_training_rev1/939274.jpg  \n",
            "  inflating: images_training_rev1/939288.jpg  \n",
            "  inflating: images_training_rev1/939295.jpg  \n",
            "  inflating: images_training_rev1/939306.jpg  \n",
            "  inflating: images_training_rev1/939316.jpg  \n",
            "  inflating: images_training_rev1/939340.jpg  \n",
            "  inflating: images_training_rev1/939342.jpg  \n",
            "  inflating: images_training_rev1/939353.jpg  \n",
            "  inflating: images_training_rev1/939378.jpg  \n",
            "  inflating: images_training_rev1/939384.jpg  \n",
            "  inflating: images_training_rev1/939396.jpg  \n",
            "  inflating: images_training_rev1/939409.jpg  \n",
            "  inflating: images_training_rev1/939410.jpg  \n",
            "  inflating: images_training_rev1/939466.jpg  \n",
            "  inflating: images_training_rev1/939480.jpg  \n",
            "  inflating: images_training_rev1/939495.jpg  \n",
            "  inflating: images_training_rev1/939551.jpg  \n",
            "  inflating: images_training_rev1/939558.jpg  \n",
            "  inflating: images_training_rev1/939567.jpg  \n",
            "  inflating: images_training_rev1/939592.jpg  \n",
            "  inflating: images_training_rev1/939620.jpg  \n",
            "  inflating: images_training_rev1/939621.jpg  \n",
            "  inflating: images_training_rev1/939636.jpg  \n",
            "  inflating: images_training_rev1/939659.jpg  \n",
            "  inflating: images_training_rev1/939660.jpg  \n",
            "  inflating: images_training_rev1/939757.jpg  \n",
            "  inflating: images_training_rev1/939772.jpg  \n",
            "  inflating: images_training_rev1/939785.jpg  \n",
            "  inflating: images_training_rev1/939797.jpg  \n",
            "  inflating: images_training_rev1/939821.jpg  \n",
            "  inflating: images_training_rev1/939859.jpg  \n",
            "  inflating: images_training_rev1/939882.jpg  \n",
            "  inflating: images_training_rev1/939885.jpg  \n",
            "  inflating: images_training_rev1/939897.jpg  \n",
            "  inflating: images_training_rev1/939899.jpg  \n",
            "  inflating: images_training_rev1/939901.jpg  \n",
            "  inflating: images_training_rev1/939929.jpg  \n",
            "  inflating: images_training_rev1/939934.jpg  \n",
            "  inflating: images_training_rev1/939988.jpg  \n",
            "  inflating: images_training_rev1/940000.jpg  \n",
            "  inflating: images_training_rev1/940025.jpg  \n",
            "  inflating: images_training_rev1/940029.jpg  \n",
            "  inflating: images_training_rev1/940044.jpg  \n",
            "  inflating: images_training_rev1/940063.jpg  \n",
            "  inflating: images_training_rev1/940065.jpg  \n",
            "  inflating: images_training_rev1/940068.jpg  \n",
            "  inflating: images_training_rev1/940085.jpg  \n",
            "  inflating: images_training_rev1/940106.jpg  \n",
            "  inflating: images_training_rev1/940114.jpg  \n",
            "  inflating: images_training_rev1/940125.jpg  \n",
            "  inflating: images_training_rev1/940128.jpg  \n",
            "  inflating: images_training_rev1/940134.jpg  \n",
            "  inflating: images_training_rev1/940149.jpg  \n",
            "  inflating: images_training_rev1/940150.jpg  \n",
            "  inflating: images_training_rev1/940164.jpg  \n",
            "  inflating: images_training_rev1/940167.jpg  \n",
            "  inflating: images_training_rev1/940196.jpg  \n",
            "  inflating: images_training_rev1/940206.jpg  \n",
            "  inflating: images_training_rev1/940242.jpg  \n",
            "  inflating: images_training_rev1/940257.jpg  \n",
            "  inflating: images_training_rev1/940261.jpg  \n",
            "  inflating: images_training_rev1/940287.jpg  \n",
            "  inflating: images_training_rev1/940295.jpg  \n",
            "  inflating: images_training_rev1/940300.jpg  \n",
            "  inflating: images_training_rev1/940317.jpg  \n",
            "  inflating: images_training_rev1/940318.jpg  \n",
            "  inflating: images_training_rev1/940320.jpg  \n",
            "  inflating: images_training_rev1/940378.jpg  \n",
            "  inflating: images_training_rev1/940380.jpg  \n",
            "  inflating: images_training_rev1/940384.jpg  \n",
            "  inflating: images_training_rev1/940414.jpg  \n",
            "  inflating: images_training_rev1/940436.jpg  \n",
            "  inflating: images_training_rev1/940457.jpg  \n",
            "  inflating: images_training_rev1/940512.jpg  \n",
            "  inflating: images_training_rev1/940527.jpg  \n",
            "  inflating: images_training_rev1/940538.jpg  \n",
            "  inflating: images_training_rev1/940539.jpg  \n",
            "  inflating: images_training_rev1/940543.jpg  \n",
            "  inflating: images_training_rev1/940552.jpg  \n",
            "  inflating: images_training_rev1/940555.jpg  \n",
            "  inflating: images_training_rev1/940570.jpg  \n",
            "  inflating: images_training_rev1/940577.jpg  \n",
            "  inflating: images_training_rev1/940617.jpg  \n",
            "  inflating: images_training_rev1/940621.jpg  \n",
            "  inflating: images_training_rev1/940622.jpg  \n",
            "  inflating: images_training_rev1/940636.jpg  \n",
            "  inflating: images_training_rev1/940651.jpg  \n",
            "  inflating: images_training_rev1/940661.jpg  \n",
            "  inflating: images_training_rev1/940666.jpg  \n",
            "  inflating: images_training_rev1/940717.jpg  \n",
            "  inflating: images_training_rev1/940721.jpg  \n",
            "  inflating: images_training_rev1/940732.jpg  \n",
            "  inflating: images_training_rev1/940753.jpg  \n",
            "  inflating: images_training_rev1/940762.jpg  \n",
            "  inflating: images_training_rev1/940763.jpg  \n",
            "  inflating: images_training_rev1/940766.jpg  \n",
            "  inflating: images_training_rev1/940772.jpg  \n",
            "  inflating: images_training_rev1/940775.jpg  \n",
            "  inflating: images_training_rev1/940819.jpg  \n",
            "  inflating: images_training_rev1/940833.jpg  \n",
            "  inflating: images_training_rev1/940959.jpg  \n",
            "  inflating: images_training_rev1/940972.jpg  \n",
            "  inflating: images_training_rev1/941005.jpg  \n",
            "  inflating: images_training_rev1/941012.jpg  \n",
            "  inflating: images_training_rev1/941030.jpg  \n",
            "  inflating: images_training_rev1/941038.jpg  \n",
            "  inflating: images_training_rev1/941092.jpg  \n",
            "  inflating: images_training_rev1/941104.jpg  \n",
            "  inflating: images_training_rev1/941107.jpg  \n",
            "  inflating: images_training_rev1/941110.jpg  \n",
            "  inflating: images_training_rev1/941123.jpg  \n",
            "  inflating: images_training_rev1/941134.jpg  \n",
            "  inflating: images_training_rev1/941153.jpg  \n",
            "  inflating: images_training_rev1/941194.jpg  \n",
            "  inflating: images_training_rev1/941201.jpg  \n",
            "  inflating: images_training_rev1/941204.jpg  \n",
            "  inflating: images_training_rev1/941233.jpg  \n",
            "  inflating: images_training_rev1/941247.jpg  \n",
            "  inflating: images_training_rev1/941267.jpg  \n",
            "  inflating: images_training_rev1/941278.jpg  \n",
            "  inflating: images_training_rev1/941326.jpg  \n",
            "  inflating: images_training_rev1/941378.jpg  \n",
            "  inflating: images_training_rev1/941380.jpg  \n",
            "  inflating: images_training_rev1/941387.jpg  \n",
            "  inflating: images_training_rev1/941428.jpg  \n",
            "  inflating: images_training_rev1/941431.jpg  \n",
            "  inflating: images_training_rev1/941451.jpg  \n",
            "  inflating: images_training_rev1/941462.jpg  \n",
            "  inflating: images_training_rev1/941490.jpg  \n",
            "  inflating: images_training_rev1/941494.jpg  \n",
            "  inflating: images_training_rev1/941499.jpg  \n",
            "  inflating: images_training_rev1/941503.jpg  \n",
            "  inflating: images_training_rev1/941512.jpg  \n",
            "  inflating: images_training_rev1/941527.jpg  \n",
            "  inflating: images_training_rev1/941557.jpg  \n",
            "  inflating: images_training_rev1/941574.jpg  \n",
            "  inflating: images_training_rev1/941587.jpg  \n",
            "  inflating: images_training_rev1/941600.jpg  \n",
            "  inflating: images_training_rev1/941609.jpg  \n",
            "  inflating: images_training_rev1/941612.jpg  \n",
            "  inflating: images_training_rev1/941636.jpg  \n",
            "  inflating: images_training_rev1/941644.jpg  \n",
            "  inflating: images_training_rev1/941647.jpg  \n",
            "  inflating: images_training_rev1/941670.jpg  \n",
            "  inflating: images_training_rev1/941689.jpg  \n",
            "  inflating: images_training_rev1/941692.jpg  \n",
            "  inflating: images_training_rev1/941701.jpg  \n",
            "  inflating: images_training_rev1/941712.jpg  \n",
            "  inflating: images_training_rev1/941735.jpg  \n",
            "  inflating: images_training_rev1/941741.jpg  \n",
            "  inflating: images_training_rev1/941751.jpg  \n",
            "  inflating: images_training_rev1/941754.jpg  \n",
            "  inflating: images_training_rev1/941773.jpg  \n",
            "  inflating: images_training_rev1/941809.jpg  \n",
            "  inflating: images_training_rev1/941814.jpg  \n",
            "  inflating: images_training_rev1/941818.jpg  \n",
            "  inflating: images_training_rev1/941844.jpg  \n",
            "  inflating: images_training_rev1/941852.jpg  \n",
            "  inflating: images_training_rev1/941929.jpg  \n",
            "  inflating: images_training_rev1/941930.jpg  \n",
            "  inflating: images_training_rev1/941962.jpg  \n",
            "  inflating: images_training_rev1/941981.jpg  \n",
            "  inflating: images_training_rev1/942003.jpg  \n",
            "  inflating: images_training_rev1/942064.jpg  \n",
            "  inflating: images_training_rev1/942068.jpg  \n",
            "  inflating: images_training_rev1/942076.jpg  \n",
            "  inflating: images_training_rev1/942080.jpg  \n",
            "  inflating: images_training_rev1/942091.jpg  \n",
            "  inflating: images_training_rev1/942096.jpg  \n",
            "  inflating: images_training_rev1/942101.jpg  \n",
            "  inflating: images_training_rev1/942113.jpg  \n",
            "  inflating: images_training_rev1/942117.jpg  \n",
            "  inflating: images_training_rev1/942137.jpg  \n",
            "  inflating: images_training_rev1/942158.jpg  \n",
            "  inflating: images_training_rev1/942160.jpg  \n",
            "  inflating: images_training_rev1/942167.jpg  \n",
            "  inflating: images_training_rev1/942182.jpg  \n",
            "  inflating: images_training_rev1/942183.jpg  \n",
            "  inflating: images_training_rev1/942187.jpg  \n",
            "  inflating: images_training_rev1/942215.jpg  \n",
            "  inflating: images_training_rev1/942239.jpg  \n",
            "  inflating: images_training_rev1/942241.jpg  \n",
            "  inflating: images_training_rev1/942248.jpg  \n",
            "  inflating: images_training_rev1/942285.jpg  \n",
            "  inflating: images_training_rev1/942291.jpg  \n",
            "  inflating: images_training_rev1/942321.jpg  \n",
            "  inflating: images_training_rev1/942339.jpg  \n",
            "  inflating: images_training_rev1/942359.jpg  \n",
            "  inflating: images_training_rev1/942362.jpg  \n",
            "  inflating: images_training_rev1/942376.jpg  \n",
            "  inflating: images_training_rev1/942391.jpg  \n",
            "  inflating: images_training_rev1/942394.jpg  \n",
            "  inflating: images_training_rev1/942400.jpg  \n",
            "  inflating: images_training_rev1/942415.jpg  \n",
            "  inflating: images_training_rev1/942422.jpg  \n",
            "  inflating: images_training_rev1/942432.jpg  \n",
            "  inflating: images_training_rev1/942438.jpg  \n",
            "  inflating: images_training_rev1/942453.jpg  \n",
            "  inflating: images_training_rev1/942473.jpg  \n",
            "  inflating: images_training_rev1/942486.jpg  \n",
            "  inflating: images_training_rev1/942491.jpg  \n",
            "  inflating: images_training_rev1/942501.jpg  \n",
            "  inflating: images_training_rev1/942524.jpg  \n",
            "  inflating: images_training_rev1/942534.jpg  \n",
            "  inflating: images_training_rev1/942566.jpg  \n",
            "  inflating: images_training_rev1/942573.jpg  \n",
            "  inflating: images_training_rev1/942579.jpg  \n",
            "  inflating: images_training_rev1/942603.jpg  \n",
            "  inflating: images_training_rev1/942608.jpg  \n",
            "  inflating: images_training_rev1/942622.jpg  \n",
            "  inflating: images_training_rev1/942624.jpg  \n",
            "  inflating: images_training_rev1/942630.jpg  \n",
            "  inflating: images_training_rev1/942637.jpg  \n",
            "  inflating: images_training_rev1/942644.jpg  \n",
            "  inflating: images_training_rev1/942652.jpg  \n",
            "  inflating: images_training_rev1/942726.jpg  \n",
            "  inflating: images_training_rev1/942746.jpg  \n",
            "  inflating: images_training_rev1/942752.jpg  \n",
            "  inflating: images_training_rev1/942765.jpg  \n",
            "  inflating: images_training_rev1/942776.jpg  \n",
            "  inflating: images_training_rev1/942834.jpg  \n",
            "  inflating: images_training_rev1/942851.jpg  \n",
            "  inflating: images_training_rev1/942859.jpg  \n",
            "  inflating: images_training_rev1/942877.jpg  \n",
            "  inflating: images_training_rev1/942890.jpg  \n",
            "  inflating: images_training_rev1/942946.jpg  \n",
            "  inflating: images_training_rev1/942951.jpg  \n",
            "  inflating: images_training_rev1/942982.jpg  \n",
            "  inflating: images_training_rev1/942989.jpg  \n",
            "  inflating: images_training_rev1/943001.jpg  \n",
            "  inflating: images_training_rev1/943033.jpg  \n",
            "  inflating: images_training_rev1/943052.jpg  \n",
            "  inflating: images_training_rev1/943054.jpg  \n",
            "  inflating: images_training_rev1/943080.jpg  \n",
            "  inflating: images_training_rev1/943093.jpg  \n",
            "  inflating: images_training_rev1/943132.jpg  \n",
            "  inflating: images_training_rev1/943146.jpg  \n",
            "  inflating: images_training_rev1/943155.jpg  \n",
            "  inflating: images_training_rev1/943179.jpg  \n",
            "  inflating: images_training_rev1/943226.jpg  \n",
            "  inflating: images_training_rev1/943251.jpg  \n",
            "  inflating: images_training_rev1/943253.jpg  \n",
            "  inflating: images_training_rev1/943264.jpg  \n",
            "  inflating: images_training_rev1/943273.jpg  \n",
            "  inflating: images_training_rev1/943281.jpg  \n",
            "  inflating: images_training_rev1/943313.jpg  \n",
            "  inflating: images_training_rev1/943342.jpg  \n",
            "  inflating: images_training_rev1/943350.jpg  \n",
            "  inflating: images_training_rev1/943354.jpg  \n",
            "  inflating: images_training_rev1/943367.jpg  \n",
            "  inflating: images_training_rev1/943388.jpg  \n",
            "  inflating: images_training_rev1/943422.jpg  \n",
            "  inflating: images_training_rev1/943458.jpg  \n",
            "  inflating: images_training_rev1/943511.jpg  \n",
            "  inflating: images_training_rev1/943552.jpg  \n",
            "  inflating: images_training_rev1/943571.jpg  \n",
            "  inflating: images_training_rev1/943575.jpg  \n",
            "  inflating: images_training_rev1/943585.jpg  \n",
            "  inflating: images_training_rev1/943601.jpg  \n",
            "  inflating: images_training_rev1/943608.jpg  \n",
            "  inflating: images_training_rev1/943610.jpg  \n",
            "  inflating: images_training_rev1/943632.jpg  \n",
            "  inflating: images_training_rev1/943634.jpg  \n",
            "  inflating: images_training_rev1/943635.jpg  \n",
            "  inflating: images_training_rev1/943709.jpg  \n",
            "  inflating: images_training_rev1/943739.jpg  \n",
            "  inflating: images_training_rev1/943754.jpg  \n",
            "  inflating: images_training_rev1/943772.jpg  \n",
            "  inflating: images_training_rev1/943800.jpg  \n",
            "  inflating: images_training_rev1/943809.jpg  \n",
            "  inflating: images_training_rev1/943823.jpg  \n",
            "  inflating: images_training_rev1/943837.jpg  \n",
            "  inflating: images_training_rev1/943850.jpg  \n",
            "  inflating: images_training_rev1/943855.jpg  \n",
            "  inflating: images_training_rev1/943862.jpg  \n",
            "  inflating: images_training_rev1/943868.jpg  \n",
            "  inflating: images_training_rev1/943879.jpg  \n",
            "  inflating: images_training_rev1/943942.jpg  \n",
            "  inflating: images_training_rev1/943951.jpg  \n",
            "  inflating: images_training_rev1/943966.jpg  \n",
            "  inflating: images_training_rev1/944006.jpg  \n",
            "  inflating: images_training_rev1/944010.jpg  \n",
            "  inflating: images_training_rev1/944013.jpg  \n",
            "  inflating: images_training_rev1/944044.jpg  \n",
            "  inflating: images_training_rev1/944045.jpg  \n",
            "  inflating: images_training_rev1/944049.jpg  \n",
            "  inflating: images_training_rev1/944058.jpg  \n",
            "  inflating: images_training_rev1/944063.jpg  \n",
            "  inflating: images_training_rev1/944069.jpg  \n",
            "  inflating: images_training_rev1/944078.jpg  \n",
            "  inflating: images_training_rev1/944080.jpg  \n",
            "  inflating: images_training_rev1/944089.jpg  \n",
            "  inflating: images_training_rev1/944099.jpg  \n",
            "  inflating: images_training_rev1/944106.jpg  \n",
            "  inflating: images_training_rev1/944107.jpg  \n",
            "  inflating: images_training_rev1/944115.jpg  \n",
            "  inflating: images_training_rev1/944130.jpg  \n",
            "  inflating: images_training_rev1/944151.jpg  \n",
            "  inflating: images_training_rev1/944173.jpg  \n",
            "  inflating: images_training_rev1/944180.jpg  \n",
            "  inflating: images_training_rev1/944183.jpg  \n",
            "  inflating: images_training_rev1/944187.jpg  \n",
            "  inflating: images_training_rev1/944197.jpg  \n",
            "  inflating: images_training_rev1/944212.jpg  \n",
            "  inflating: images_training_rev1/944229.jpg  \n",
            "  inflating: images_training_rev1/944254.jpg  \n",
            "  inflating: images_training_rev1/944307.jpg  \n",
            "  inflating: images_training_rev1/944312.jpg  \n",
            "  inflating: images_training_rev1/944332.jpg  \n",
            "  inflating: images_training_rev1/944339.jpg  \n",
            "  inflating: images_training_rev1/944348.jpg  \n",
            "  inflating: images_training_rev1/944352.jpg  \n",
            "  inflating: images_training_rev1/944391.jpg  \n",
            "  inflating: images_training_rev1/944406.jpg  \n",
            "  inflating: images_training_rev1/944414.jpg  \n",
            "  inflating: images_training_rev1/944415.jpg  \n",
            "  inflating: images_training_rev1/944416.jpg  \n",
            "  inflating: images_training_rev1/944453.jpg  \n",
            "  inflating: images_training_rev1/944462.jpg  \n",
            "  inflating: images_training_rev1/944475.jpg  \n",
            "  inflating: images_training_rev1/944479.jpg  \n",
            "  inflating: images_training_rev1/944495.jpg  \n",
            "  inflating: images_training_rev1/944515.jpg  \n",
            "  inflating: images_training_rev1/944519.jpg  \n",
            "  inflating: images_training_rev1/944524.jpg  \n",
            "  inflating: images_training_rev1/944526.jpg  \n",
            "  inflating: images_training_rev1/944536.jpg  \n",
            "  inflating: images_training_rev1/944540.jpg  \n",
            "  inflating: images_training_rev1/944556.jpg  \n",
            "  inflating: images_training_rev1/944589.jpg  \n",
            "  inflating: images_training_rev1/944610.jpg  \n",
            "  inflating: images_training_rev1/944621.jpg  \n",
            "  inflating: images_training_rev1/944642.jpg  \n",
            "  inflating: images_training_rev1/944649.jpg  \n",
            "  inflating: images_training_rev1/944656.jpg  \n",
            "  inflating: images_training_rev1/944677.jpg  \n",
            "  inflating: images_training_rev1/944684.jpg  \n",
            "  inflating: images_training_rev1/944698.jpg  \n",
            "  inflating: images_training_rev1/944701.jpg  \n",
            "  inflating: images_training_rev1/944722.jpg  \n",
            "  inflating: images_training_rev1/944723.jpg  \n",
            "  inflating: images_training_rev1/944738.jpg  \n",
            "  inflating: images_training_rev1/944756.jpg  \n",
            "  inflating: images_training_rev1/944760.jpg  \n",
            "  inflating: images_training_rev1/944763.jpg  \n",
            "  inflating: images_training_rev1/944772.jpg  \n",
            "  inflating: images_training_rev1/944782.jpg  \n",
            "  inflating: images_training_rev1/944798.jpg  \n",
            "  inflating: images_training_rev1/944803.jpg  \n",
            "  inflating: images_training_rev1/944832.jpg  \n",
            "  inflating: images_training_rev1/944869.jpg  \n",
            "  inflating: images_training_rev1/944875.jpg  \n",
            "  inflating: images_training_rev1/944933.jpg  \n",
            "  inflating: images_training_rev1/944938.jpg  \n",
            "  inflating: images_training_rev1/944951.jpg  \n",
            "  inflating: images_training_rev1/944960.jpg  \n",
            "  inflating: images_training_rev1/945018.jpg  \n",
            "  inflating: images_training_rev1/945054.jpg  \n",
            "  inflating: images_training_rev1/945062.jpg  \n",
            "  inflating: images_training_rev1/945091.jpg  \n",
            "  inflating: images_training_rev1/945106.jpg  \n",
            "  inflating: images_training_rev1/945109.jpg  \n",
            "  inflating: images_training_rev1/945117.jpg  \n",
            "  inflating: images_training_rev1/945129.jpg  \n",
            "  inflating: images_training_rev1/945137.jpg  \n",
            "  inflating: images_training_rev1/945163.jpg  \n",
            "  inflating: images_training_rev1/945190.jpg  \n",
            "  inflating: images_training_rev1/945206.jpg  \n",
            "  inflating: images_training_rev1/945212.jpg  \n",
            "  inflating: images_training_rev1/945232.jpg  \n",
            "  inflating: images_training_rev1/945270.jpg  \n",
            "  inflating: images_training_rev1/945283.jpg  \n",
            "  inflating: images_training_rev1/945301.jpg  \n",
            "  inflating: images_training_rev1/945303.jpg  \n",
            "  inflating: images_training_rev1/945315.jpg  \n",
            "  inflating: images_training_rev1/945357.jpg  \n",
            "  inflating: images_training_rev1/945370.jpg  \n",
            "  inflating: images_training_rev1/945372.jpg  \n",
            "  inflating: images_training_rev1/945379.jpg  \n",
            "  inflating: images_training_rev1/945407.jpg  \n",
            "  inflating: images_training_rev1/945408.jpg  \n",
            "  inflating: images_training_rev1/945414.jpg  \n",
            "  inflating: images_training_rev1/945417.jpg  \n",
            "  inflating: images_training_rev1/945438.jpg  \n",
            "  inflating: images_training_rev1/945439.jpg  \n",
            "  inflating: images_training_rev1/945444.jpg  \n",
            "  inflating: images_training_rev1/945455.jpg  \n",
            "  inflating: images_training_rev1/945469.jpg  \n",
            "  inflating: images_training_rev1/945496.jpg  \n",
            "  inflating: images_training_rev1/945544.jpg  \n",
            "  inflating: images_training_rev1/945595.jpg  \n",
            "  inflating: images_training_rev1/945603.jpg  \n",
            "  inflating: images_training_rev1/945609.jpg  \n",
            "  inflating: images_training_rev1/945612.jpg  \n",
            "  inflating: images_training_rev1/945614.jpg  \n",
            "  inflating: images_training_rev1/945650.jpg  \n",
            "  inflating: images_training_rev1/945654.jpg  \n",
            "  inflating: images_training_rev1/945667.jpg  \n",
            "  inflating: images_training_rev1/945685.jpg  \n",
            "  inflating: images_training_rev1/945687.jpg  \n",
            "  inflating: images_training_rev1/945690.jpg  \n",
            "  inflating: images_training_rev1/945695.jpg  \n",
            "  inflating: images_training_rev1/945721.jpg  \n",
            "  inflating: images_training_rev1/945747.jpg  \n",
            "  inflating: images_training_rev1/945754.jpg  \n",
            "  inflating: images_training_rev1/945755.jpg  \n",
            "  inflating: images_training_rev1/945772.jpg  \n",
            "  inflating: images_training_rev1/945773.jpg  \n",
            "  inflating: images_training_rev1/945798.jpg  \n",
            "  inflating: images_training_rev1/945811.jpg  \n",
            "  inflating: images_training_rev1/945815.jpg  \n",
            "  inflating: images_training_rev1/945865.jpg  \n",
            "  inflating: images_training_rev1/945882.jpg  \n",
            "  inflating: images_training_rev1/945891.jpg  \n",
            "  inflating: images_training_rev1/945904.jpg  \n",
            "  inflating: images_training_rev1/945908.jpg  \n",
            "  inflating: images_training_rev1/945910.jpg  \n",
            "  inflating: images_training_rev1/945912.jpg  \n",
            "  inflating: images_training_rev1/945923.jpg  \n",
            "  inflating: images_training_rev1/945930.jpg  \n",
            "  inflating: images_training_rev1/945943.jpg  \n",
            "  inflating: images_training_rev1/945952.jpg  \n",
            "  inflating: images_training_rev1/945969.jpg  \n",
            "  inflating: images_training_rev1/945974.jpg  \n",
            "  inflating: images_training_rev1/945981.jpg  \n",
            "  inflating: images_training_rev1/945990.jpg  \n",
            "  inflating: images_training_rev1/945992.jpg  \n",
            "  inflating: images_training_rev1/945994.jpg  \n",
            "  inflating: images_training_rev1/946007.jpg  \n",
            "  inflating: images_training_rev1/946014.jpg  \n",
            "  inflating: images_training_rev1/946042.jpg  \n",
            "  inflating: images_training_rev1/946113.jpg  \n",
            "  inflating: images_training_rev1/946133.jpg  \n",
            "  inflating: images_training_rev1/946168.jpg  \n",
            "  inflating: images_training_rev1/946170.jpg  \n",
            "  inflating: images_training_rev1/946182.jpg  \n",
            "  inflating: images_training_rev1/946190.jpg  \n",
            "  inflating: images_training_rev1/946199.jpg  \n",
            "  inflating: images_training_rev1/946216.jpg  \n",
            "  inflating: images_training_rev1/946253.jpg  \n",
            "  inflating: images_training_rev1/946255.jpg  \n",
            "  inflating: images_training_rev1/946257.jpg  \n",
            "  inflating: images_training_rev1/946260.jpg  \n",
            "  inflating: images_training_rev1/946274.jpg  \n",
            "  inflating: images_training_rev1/946299.jpg  \n",
            "  inflating: images_training_rev1/946334.jpg  \n",
            "  inflating: images_training_rev1/946338.jpg  \n",
            "  inflating: images_training_rev1/946342.jpg  \n",
            "  inflating: images_training_rev1/946358.jpg  \n",
            "  inflating: images_training_rev1/946361.jpg  \n",
            "  inflating: images_training_rev1/946387.jpg  \n",
            "  inflating: images_training_rev1/946391.jpg  \n",
            "  inflating: images_training_rev1/946421.jpg  \n",
            "  inflating: images_training_rev1/946422.jpg  \n",
            "  inflating: images_training_rev1/946429.jpg  \n",
            "  inflating: images_training_rev1/946436.jpg  \n",
            "  inflating: images_training_rev1/946441.jpg  \n",
            "  inflating: images_training_rev1/946464.jpg  \n",
            "  inflating: images_training_rev1/946467.jpg  \n",
            "  inflating: images_training_rev1/946498.jpg  \n",
            "  inflating: images_training_rev1/946501.jpg  \n",
            "  inflating: images_training_rev1/946514.jpg  \n",
            "  inflating: images_training_rev1/946519.jpg  \n",
            "  inflating: images_training_rev1/946540.jpg  \n",
            "  inflating: images_training_rev1/946597.jpg  \n",
            "  inflating: images_training_rev1/946604.jpg  \n",
            "  inflating: images_training_rev1/946611.jpg  \n",
            "  inflating: images_training_rev1/946616.jpg  \n",
            "  inflating: images_training_rev1/946621.jpg  \n",
            "  inflating: images_training_rev1/946626.jpg  \n",
            "  inflating: images_training_rev1/946639.jpg  \n",
            "  inflating: images_training_rev1/946653.jpg  \n",
            "  inflating: images_training_rev1/946664.jpg  \n",
            "  inflating: images_training_rev1/946690.jpg  \n",
            "  inflating: images_training_rev1/946699.jpg  \n",
            "  inflating: images_training_rev1/946704.jpg  \n",
            "  inflating: images_training_rev1/946708.jpg  \n",
            "  inflating: images_training_rev1/946712.jpg  \n",
            "  inflating: images_training_rev1/946716.jpg  \n",
            "  inflating: images_training_rev1/946744.jpg  \n",
            "  inflating: images_training_rev1/946748.jpg  \n",
            "  inflating: images_training_rev1/946751.jpg  \n",
            "  inflating: images_training_rev1/946776.jpg  \n",
            "  inflating: images_training_rev1/946779.jpg  \n",
            "  inflating: images_training_rev1/946784.jpg  \n",
            "  inflating: images_training_rev1/946803.jpg  \n",
            "  inflating: images_training_rev1/946814.jpg  \n",
            "  inflating: images_training_rev1/946826.jpg  \n",
            "  inflating: images_training_rev1/946852.jpg  \n",
            "  inflating: images_training_rev1/946854.jpg  \n",
            "  inflating: images_training_rev1/946855.jpg  \n",
            "  inflating: images_training_rev1/946871.jpg  \n",
            "  inflating: images_training_rev1/946875.jpg  \n",
            "  inflating: images_training_rev1/946893.jpg  \n",
            "  inflating: images_training_rev1/946921.jpg  \n",
            "  inflating: images_training_rev1/946923.jpg  \n",
            "  inflating: images_training_rev1/946928.jpg  \n",
            "  inflating: images_training_rev1/946940.jpg  \n",
            "  inflating: images_training_rev1/946941.jpg  \n",
            "  inflating: images_training_rev1/946959.jpg  \n",
            "  inflating: images_training_rev1/946960.jpg  \n",
            "  inflating: images_training_rev1/946984.jpg  \n",
            "  inflating: images_training_rev1/947010.jpg  \n",
            "  inflating: images_training_rev1/947045.jpg  \n",
            "  inflating: images_training_rev1/947050.jpg  \n",
            "  inflating: images_training_rev1/947090.jpg  \n",
            "  inflating: images_training_rev1/947108.jpg  \n",
            "  inflating: images_training_rev1/947111.jpg  \n",
            "  inflating: images_training_rev1/947129.jpg  \n",
            "  inflating: images_training_rev1/947152.jpg  \n",
            "  inflating: images_training_rev1/947166.jpg  \n",
            "  inflating: images_training_rev1/947184.jpg  \n",
            "  inflating: images_training_rev1/947189.jpg  \n",
            "  inflating: images_training_rev1/947224.jpg  \n",
            "  inflating: images_training_rev1/947255.jpg  \n",
            "  inflating: images_training_rev1/947260.jpg  \n",
            "  inflating: images_training_rev1/947291.jpg  \n",
            "  inflating: images_training_rev1/947303.jpg  \n",
            "  inflating: images_training_rev1/947312.jpg  \n",
            "  inflating: images_training_rev1/947337.jpg  \n",
            "  inflating: images_training_rev1/947381.jpg  \n",
            "  inflating: images_training_rev1/947387.jpg  \n",
            "  inflating: images_training_rev1/947391.jpg  \n",
            "  inflating: images_training_rev1/947404.jpg  \n",
            "  inflating: images_training_rev1/947424.jpg  \n",
            "  inflating: images_training_rev1/947435.jpg  \n",
            "  inflating: images_training_rev1/947442.jpg  \n",
            "  inflating: images_training_rev1/947459.jpg  \n",
            "  inflating: images_training_rev1/947474.jpg  \n",
            "  inflating: images_training_rev1/947483.jpg  \n",
            "  inflating: images_training_rev1/947536.jpg  \n",
            "  inflating: images_training_rev1/947537.jpg  \n",
            "  inflating: images_training_rev1/947544.jpg  \n",
            "  inflating: images_training_rev1/947546.jpg  \n",
            "  inflating: images_training_rev1/947552.jpg  \n",
            "  inflating: images_training_rev1/947554.jpg  \n",
            "  inflating: images_training_rev1/947574.jpg  \n",
            "  inflating: images_training_rev1/947579.jpg  \n",
            "  inflating: images_training_rev1/947594.jpg  \n",
            "  inflating: images_training_rev1/947616.jpg  \n",
            "  inflating: images_training_rev1/947618.jpg  \n",
            "  inflating: images_training_rev1/947621.jpg  \n",
            "  inflating: images_training_rev1/947660.jpg  \n",
            "  inflating: images_training_rev1/947699.jpg  \n",
            "  inflating: images_training_rev1/947706.jpg  \n",
            "  inflating: images_training_rev1/947707.jpg  \n",
            "  inflating: images_training_rev1/947708.jpg  \n",
            "  inflating: images_training_rev1/947763.jpg  \n",
            "  inflating: images_training_rev1/947769.jpg  \n",
            "  inflating: images_training_rev1/947770.jpg  \n",
            "  inflating: images_training_rev1/947801.jpg  \n",
            "  inflating: images_training_rev1/947816.jpg  \n",
            "  inflating: images_training_rev1/947822.jpg  \n",
            "  inflating: images_training_rev1/947852.jpg  \n",
            "  inflating: images_training_rev1/947868.jpg  \n",
            "  inflating: images_training_rev1/947882.jpg  \n",
            "  inflating: images_training_rev1/947889.jpg  \n",
            "  inflating: images_training_rev1/947890.jpg  \n",
            "  inflating: images_training_rev1/947945.jpg  \n",
            "  inflating: images_training_rev1/947957.jpg  \n",
            "  inflating: images_training_rev1/947978.jpg  \n",
            "  inflating: images_training_rev1/948013.jpg  \n",
            "  inflating: images_training_rev1/948015.jpg  \n",
            "  inflating: images_training_rev1/948091.jpg  \n",
            "  inflating: images_training_rev1/948109.jpg  \n",
            "  inflating: images_training_rev1/948128.jpg  \n",
            "  inflating: images_training_rev1/948154.jpg  \n",
            "  inflating: images_training_rev1/948177.jpg  \n",
            "  inflating: images_training_rev1/948178.jpg  \n",
            "  inflating: images_training_rev1/948185.jpg  \n",
            "  inflating: images_training_rev1/948191.jpg  \n",
            "  inflating: images_training_rev1/948192.jpg  \n",
            "  inflating: images_training_rev1/948206.jpg  \n",
            "  inflating: images_training_rev1/948218.jpg  \n",
            "  inflating: images_training_rev1/948247.jpg  \n",
            "  inflating: images_training_rev1/948260.jpg  \n",
            "  inflating: images_training_rev1/948268.jpg  \n",
            "  inflating: images_training_rev1/948277.jpg  \n",
            "  inflating: images_training_rev1/948285.jpg  \n",
            "  inflating: images_training_rev1/948294.jpg  \n",
            "  inflating: images_training_rev1/948296.jpg  \n",
            "  inflating: images_training_rev1/948298.jpg  \n",
            "  inflating: images_training_rev1/948299.jpg  \n",
            "  inflating: images_training_rev1/948318.jpg  \n",
            "  inflating: images_training_rev1/948320.jpg  \n",
            "  inflating: images_training_rev1/948366.jpg  \n",
            "  inflating: images_training_rev1/948375.jpg  \n",
            "  inflating: images_training_rev1/948381.jpg  \n",
            "  inflating: images_training_rev1/948382.jpg  \n",
            "  inflating: images_training_rev1/948387.jpg  \n",
            "  inflating: images_training_rev1/948388.jpg  \n",
            "  inflating: images_training_rev1/948401.jpg  \n",
            "  inflating: images_training_rev1/948429.jpg  \n",
            "  inflating: images_training_rev1/948459.jpg  \n",
            "  inflating: images_training_rev1/948460.jpg  \n",
            "  inflating: images_training_rev1/948467.jpg  \n",
            "  inflating: images_training_rev1/948488.jpg  \n",
            "  inflating: images_training_rev1/948496.jpg  \n",
            "  inflating: images_training_rev1/948501.jpg  \n",
            "  inflating: images_training_rev1/948503.jpg  \n",
            "  inflating: images_training_rev1/948535.jpg  \n",
            "  inflating: images_training_rev1/948544.jpg  \n",
            "  inflating: images_training_rev1/948564.jpg  \n",
            "  inflating: images_training_rev1/948571.jpg  \n",
            "  inflating: images_training_rev1/948573.jpg  \n",
            "  inflating: images_training_rev1/948586.jpg  \n",
            "  inflating: images_training_rev1/948605.jpg  \n",
            "  inflating: images_training_rev1/948625.jpg  \n",
            "  inflating: images_training_rev1/948660.jpg  \n",
            "  inflating: images_training_rev1/948692.jpg  \n",
            "  inflating: images_training_rev1/948709.jpg  \n",
            "  inflating: images_training_rev1/948713.jpg  \n",
            "  inflating: images_training_rev1/948736.jpg  \n",
            "  inflating: images_training_rev1/948785.jpg  \n",
            "  inflating: images_training_rev1/948793.jpg  \n",
            "  inflating: images_training_rev1/948796.jpg  \n",
            "  inflating: images_training_rev1/948847.jpg  \n",
            "  inflating: images_training_rev1/948852.jpg  \n",
            "  inflating: images_training_rev1/948858.jpg  \n",
            "  inflating: images_training_rev1/948880.jpg  \n",
            "  inflating: images_training_rev1/948881.jpg  \n",
            "  inflating: images_training_rev1/948894.jpg  \n",
            "  inflating: images_training_rev1/948897.jpg  \n",
            "  inflating: images_training_rev1/948917.jpg  \n",
            "  inflating: images_training_rev1/948938.jpg  \n",
            "  inflating: images_training_rev1/948964.jpg  \n",
            "  inflating: images_training_rev1/948971.jpg  \n",
            "  inflating: images_training_rev1/948972.jpg  \n",
            "  inflating: images_training_rev1/948986.jpg  \n",
            "  inflating: images_training_rev1/949012.jpg  \n",
            "  inflating: images_training_rev1/949037.jpg  \n",
            "  inflating: images_training_rev1/949049.jpg  \n",
            "  inflating: images_training_rev1/949062.jpg  \n",
            "  inflating: images_training_rev1/949074.jpg  \n",
            "  inflating: images_training_rev1/949087.jpg  \n",
            "  inflating: images_training_rev1/949095.jpg  \n",
            "  inflating: images_training_rev1/949096.jpg  \n",
            "  inflating: images_training_rev1/949097.jpg  \n",
            "  inflating: images_training_rev1/949100.jpg  \n",
            "  inflating: images_training_rev1/949192.jpg  \n",
            "  inflating: images_training_rev1/949261.jpg  \n",
            "  inflating: images_training_rev1/949271.jpg  \n",
            "  inflating: images_training_rev1/949289.jpg  \n",
            "  inflating: images_training_rev1/949297.jpg  \n",
            "  inflating: images_training_rev1/949303.jpg  \n",
            "  inflating: images_training_rev1/949309.jpg  \n",
            "  inflating: images_training_rev1/949317.jpg  \n",
            "  inflating: images_training_rev1/949318.jpg  \n",
            "  inflating: images_training_rev1/949319.jpg  \n",
            "  inflating: images_training_rev1/949361.jpg  \n",
            "  inflating: images_training_rev1/949376.jpg  \n",
            "  inflating: images_training_rev1/949393.jpg  \n",
            "  inflating: images_training_rev1/949415.jpg  \n",
            "  inflating: images_training_rev1/949416.jpg  \n",
            "  inflating: images_training_rev1/949417.jpg  \n",
            "  inflating: images_training_rev1/949425.jpg  \n",
            "  inflating: images_training_rev1/949434.jpg  \n",
            "  inflating: images_training_rev1/949478.jpg  \n",
            "  inflating: images_training_rev1/949489.jpg  \n",
            "  inflating: images_training_rev1/949502.jpg  \n",
            "  inflating: images_training_rev1/949535.jpg  \n",
            "  inflating: images_training_rev1/949554.jpg  \n",
            "  inflating: images_training_rev1/949561.jpg  \n",
            "  inflating: images_training_rev1/949595.jpg  \n",
            "  inflating: images_training_rev1/949596.jpg  \n",
            "  inflating: images_training_rev1/949606.jpg  \n",
            "  inflating: images_training_rev1/949626.jpg  \n",
            "  inflating: images_training_rev1/949644.jpg  \n",
            "  inflating: images_training_rev1/949655.jpg  \n",
            "  inflating: images_training_rev1/949680.jpg  \n",
            "  inflating: images_training_rev1/949688.jpg  \n",
            "  inflating: images_training_rev1/949692.jpg  \n",
            "  inflating: images_training_rev1/949705.jpg  \n",
            "  inflating: images_training_rev1/949714.jpg  \n",
            "  inflating: images_training_rev1/949723.jpg  \n",
            "  inflating: images_training_rev1/949738.jpg  \n",
            "  inflating: images_training_rev1/949756.jpg  \n",
            "  inflating: images_training_rev1/949778.jpg  \n",
            "  inflating: images_training_rev1/949779.jpg  \n",
            "  inflating: images_training_rev1/949791.jpg  \n",
            "  inflating: images_training_rev1/949792.jpg  \n",
            "  inflating: images_training_rev1/949836.jpg  \n",
            "  inflating: images_training_rev1/949864.jpg  \n",
            "  inflating: images_training_rev1/949881.jpg  \n",
            "  inflating: images_training_rev1/949927.jpg  \n",
            "  inflating: images_training_rev1/949930.jpg  \n",
            "  inflating: images_training_rev1/949933.jpg  \n",
            "  inflating: images_training_rev1/949934.jpg  \n",
            "  inflating: images_training_rev1/949943.jpg  \n",
            "  inflating: images_training_rev1/949953.jpg  \n",
            "  inflating: images_training_rev1/949971.jpg  \n",
            "  inflating: images_training_rev1/949974.jpg  \n",
            "  inflating: images_training_rev1/950010.jpg  \n",
            "  inflating: images_training_rev1/950017.jpg  \n",
            "  inflating: images_training_rev1/950021.jpg  \n",
            "  inflating: images_training_rev1/950027.jpg  \n",
            "  inflating: images_training_rev1/950034.jpg  \n",
            "  inflating: images_training_rev1/950043.jpg  \n",
            "  inflating: images_training_rev1/950062.jpg  \n",
            "  inflating: images_training_rev1/950108.jpg  \n",
            "  inflating: images_training_rev1/950122.jpg  \n",
            "  inflating: images_training_rev1/950126.jpg  \n",
            "  inflating: images_training_rev1/950142.jpg  \n",
            "  inflating: images_training_rev1/950149.jpg  \n",
            "  inflating: images_training_rev1/950249.jpg  \n",
            "  inflating: images_training_rev1/950251.jpg  \n",
            "  inflating: images_training_rev1/950268.jpg  \n",
            "  inflating: images_training_rev1/950292.jpg  \n",
            "  inflating: images_training_rev1/950305.jpg  \n",
            "  inflating: images_training_rev1/950315.jpg  \n",
            "  inflating: images_training_rev1/950321.jpg  \n",
            "  inflating: images_training_rev1/950325.jpg  \n",
            "  inflating: images_training_rev1/950332.jpg  \n",
            "  inflating: images_training_rev1/950335.jpg  \n",
            "  inflating: images_training_rev1/950356.jpg  \n",
            "  inflating: images_training_rev1/950360.jpg  \n",
            "  inflating: images_training_rev1/950386.jpg  \n",
            "  inflating: images_training_rev1/950399.jpg  \n",
            "  inflating: images_training_rev1/950439.jpg  \n",
            "  inflating: images_training_rev1/950457.jpg  \n",
            "  inflating: images_training_rev1/950477.jpg  \n",
            "  inflating: images_training_rev1/950485.jpg  \n",
            "  inflating: images_training_rev1/950487.jpg  \n",
            "  inflating: images_training_rev1/950501.jpg  \n",
            "  inflating: images_training_rev1/950521.jpg  \n",
            "  inflating: images_training_rev1/950573.jpg  \n",
            "  inflating: images_training_rev1/950614.jpg  \n",
            "  inflating: images_training_rev1/950615.jpg  \n",
            "  inflating: images_training_rev1/950626.jpg  \n",
            "  inflating: images_training_rev1/950629.jpg  \n",
            "  inflating: images_training_rev1/950633.jpg  \n",
            "  inflating: images_training_rev1/950733.jpg  \n",
            "  inflating: images_training_rev1/950746.jpg  \n",
            "  inflating: images_training_rev1/950750.jpg  \n",
            "  inflating: images_training_rev1/950762.jpg  \n",
            "  inflating: images_training_rev1/950815.jpg  \n",
            "  inflating: images_training_rev1/950816.jpg  \n",
            "  inflating: images_training_rev1/950823.jpg  \n",
            "  inflating: images_training_rev1/950824.jpg  \n",
            "  inflating: images_training_rev1/950847.jpg  \n",
            "  inflating: images_training_rev1/950850.jpg  \n",
            "  inflating: images_training_rev1/950881.jpg  \n",
            "  inflating: images_training_rev1/950908.jpg  \n",
            "  inflating: images_training_rev1/950942.jpg  \n",
            "  inflating: images_training_rev1/950960.jpg  \n",
            "  inflating: images_training_rev1/950964.jpg  \n",
            "  inflating: images_training_rev1/950970.jpg  \n",
            "  inflating: images_training_rev1/950980.jpg  \n",
            "  inflating: images_training_rev1/950981.jpg  \n",
            "  inflating: images_training_rev1/950985.jpg  \n",
            "  inflating: images_training_rev1/950987.jpg  \n",
            "  inflating: images_training_rev1/951011.jpg  \n",
            "  inflating: images_training_rev1/951012.jpg  \n",
            "  inflating: images_training_rev1/951017.jpg  \n",
            "  inflating: images_training_rev1/951022.jpg  \n",
            "  inflating: images_training_rev1/951030.jpg  \n",
            "  inflating: images_training_rev1/951034.jpg  \n",
            "  inflating: images_training_rev1/951044.jpg  \n",
            "  inflating: images_training_rev1/951046.jpg  \n",
            "  inflating: images_training_rev1/951048.jpg  \n",
            "  inflating: images_training_rev1/951073.jpg  \n",
            "  inflating: images_training_rev1/951130.jpg  \n",
            "  inflating: images_training_rev1/951172.jpg  \n",
            "  inflating: images_training_rev1/951202.jpg  \n",
            "  inflating: images_training_rev1/951223.jpg  \n",
            "  inflating: images_training_rev1/951264.jpg  \n",
            "  inflating: images_training_rev1/951273.jpg  \n",
            "  inflating: images_training_rev1/951282.jpg  \n",
            "  inflating: images_training_rev1/951293.jpg  \n",
            "  inflating: images_training_rev1/951299.jpg  \n",
            "  inflating: images_training_rev1/951303.jpg  \n",
            "  inflating: images_training_rev1/951320.jpg  \n",
            "  inflating: images_training_rev1/951347.jpg  \n",
            "  inflating: images_training_rev1/951349.jpg  \n",
            "  inflating: images_training_rev1/951354.jpg  \n",
            "  inflating: images_training_rev1/951355.jpg  \n",
            "  inflating: images_training_rev1/951365.jpg  \n",
            "  inflating: images_training_rev1/951382.jpg  \n",
            "  inflating: images_training_rev1/951397.jpg  \n",
            "  inflating: images_training_rev1/951415.jpg  \n",
            "  inflating: images_training_rev1/951417.jpg  \n",
            "  inflating: images_training_rev1/951432.jpg  \n",
            "  inflating: images_training_rev1/951439.jpg  \n",
            "  inflating: images_training_rev1/951455.jpg  \n",
            "  inflating: images_training_rev1/951460.jpg  \n",
            "  inflating: images_training_rev1/951481.jpg  \n",
            "  inflating: images_training_rev1/951507.jpg  \n",
            "  inflating: images_training_rev1/951520.jpg  \n",
            "  inflating: images_training_rev1/951548.jpg  \n",
            "  inflating: images_training_rev1/951552.jpg  \n",
            "  inflating: images_training_rev1/951556.jpg  \n",
            "  inflating: images_training_rev1/951582.jpg  \n",
            "  inflating: images_training_rev1/951586.jpg  \n",
            "  inflating: images_training_rev1/951589.jpg  \n",
            "  inflating: images_training_rev1/951604.jpg  \n",
            "  inflating: images_training_rev1/951608.jpg  \n",
            "  inflating: images_training_rev1/951615.jpg  \n",
            "  inflating: images_training_rev1/951630.jpg  \n",
            "  inflating: images_training_rev1/951640.jpg  \n",
            "  inflating: images_training_rev1/951650.jpg  \n",
            "  inflating: images_training_rev1/951651.jpg  \n",
            "  inflating: images_training_rev1/951675.jpg  \n",
            "  inflating: images_training_rev1/951682.jpg  \n",
            "  inflating: images_training_rev1/951699.jpg  \n",
            "  inflating: images_training_rev1/951718.jpg  \n",
            "  inflating: images_training_rev1/951720.jpg  \n",
            "  inflating: images_training_rev1/951726.jpg  \n",
            "  inflating: images_training_rev1/951728.jpg  \n",
            "  inflating: images_training_rev1/951756.jpg  \n",
            "  inflating: images_training_rev1/951760.jpg  \n",
            "  inflating: images_training_rev1/951762.jpg  \n",
            "  inflating: images_training_rev1/951772.jpg  \n",
            "  inflating: images_training_rev1/951779.jpg  \n",
            "  inflating: images_training_rev1/951792.jpg  \n",
            "  inflating: images_training_rev1/951815.jpg  \n",
            "  inflating: images_training_rev1/951830.jpg  \n",
            "  inflating: images_training_rev1/951838.jpg  \n",
            "  inflating: images_training_rev1/951866.jpg  \n",
            "  inflating: images_training_rev1/951869.jpg  \n",
            "  inflating: images_training_rev1/951878.jpg  \n",
            "  inflating: images_training_rev1/951880.jpg  \n",
            "  inflating: images_training_rev1/951891.jpg  \n",
            "  inflating: images_training_rev1/951909.jpg  \n",
            "  inflating: images_training_rev1/951919.jpg  \n",
            "  inflating: images_training_rev1/951921.jpg  \n",
            "  inflating: images_training_rev1/951923.jpg  \n",
            "  inflating: images_training_rev1/951932.jpg  \n",
            "  inflating: images_training_rev1/951941.jpg  \n",
            "  inflating: images_training_rev1/951948.jpg  \n",
            "  inflating: images_training_rev1/952014.jpg  \n",
            "  inflating: images_training_rev1/952029.jpg  \n",
            "  inflating: images_training_rev1/952031.jpg  \n",
            "  inflating: images_training_rev1/952088.jpg  \n",
            "  inflating: images_training_rev1/952089.jpg  \n",
            "  inflating: images_training_rev1/952109.jpg  \n",
            "  inflating: images_training_rev1/952118.jpg  \n",
            "  inflating: images_training_rev1/952146.jpg  \n",
            "  inflating: images_training_rev1/952173.jpg  \n",
            "  inflating: images_training_rev1/952179.jpg  \n",
            "  inflating: images_training_rev1/952182.jpg  \n",
            "  inflating: images_training_rev1/952186.jpg  \n",
            "  inflating: images_training_rev1/952202.jpg  \n",
            "  inflating: images_training_rev1/952204.jpg  \n",
            "  inflating: images_training_rev1/952211.jpg  \n",
            "  inflating: images_training_rev1/952220.jpg  \n",
            "  inflating: images_training_rev1/952235.jpg  \n",
            "  inflating: images_training_rev1/952242.jpg  \n",
            "  inflating: images_training_rev1/952259.jpg  \n",
            "  inflating: images_training_rev1/952262.jpg  \n",
            "  inflating: images_training_rev1/952277.jpg  \n",
            "  inflating: images_training_rev1/952282.jpg  \n",
            "  inflating: images_training_rev1/952332.jpg  \n",
            "  inflating: images_training_rev1/952350.jpg  \n",
            "  inflating: images_training_rev1/952378.jpg  \n",
            "  inflating: images_training_rev1/952383.jpg  \n",
            "  inflating: images_training_rev1/952388.jpg  \n",
            "  inflating: images_training_rev1/952390.jpg  \n",
            "  inflating: images_training_rev1/952392.jpg  \n",
            "  inflating: images_training_rev1/952397.jpg  \n",
            "  inflating: images_training_rev1/952429.jpg  \n",
            "  inflating: images_training_rev1/952433.jpg  \n",
            "  inflating: images_training_rev1/952463.jpg  \n",
            "  inflating: images_training_rev1/952469.jpg  \n",
            "  inflating: images_training_rev1/952473.jpg  \n",
            "  inflating: images_training_rev1/952478.jpg  \n",
            "  inflating: images_training_rev1/952483.jpg  \n",
            "  inflating: images_training_rev1/952507.jpg  \n",
            "  inflating: images_training_rev1/952511.jpg  \n",
            "  inflating: images_training_rev1/952529.jpg  \n",
            "  inflating: images_training_rev1/952533.jpg  \n",
            "  inflating: images_training_rev1/952537.jpg  \n",
            "  inflating: images_training_rev1/952543.jpg  \n",
            "  inflating: images_training_rev1/952557.jpg  \n",
            "  inflating: images_training_rev1/952577.jpg  \n",
            "  inflating: images_training_rev1/952581.jpg  \n",
            "  inflating: images_training_rev1/952592.jpg  \n",
            "  inflating: images_training_rev1/952600.jpg  \n",
            "  inflating: images_training_rev1/952609.jpg  \n",
            "  inflating: images_training_rev1/952637.jpg  \n",
            "  inflating: images_training_rev1/952648.jpg  \n",
            "  inflating: images_training_rev1/952660.jpg  \n",
            "  inflating: images_training_rev1/952672.jpg  \n",
            "  inflating: images_training_rev1/952730.jpg  \n",
            "  inflating: images_training_rev1/952745.jpg  \n",
            "  inflating: images_training_rev1/952755.jpg  \n",
            "  inflating: images_training_rev1/952785.jpg  \n",
            "  inflating: images_training_rev1/952787.jpg  \n",
            "  inflating: images_training_rev1/952801.jpg  \n",
            "  inflating: images_training_rev1/952811.jpg  \n",
            "  inflating: images_training_rev1/952813.jpg  \n",
            "  inflating: images_training_rev1/952829.jpg  \n",
            "  inflating: images_training_rev1/952836.jpg  \n",
            "  inflating: images_training_rev1/952844.jpg  \n",
            "  inflating: images_training_rev1/952846.jpg  \n",
            "  inflating: images_training_rev1/952849.jpg  \n",
            "  inflating: images_training_rev1/952862.jpg  \n",
            "  inflating: images_training_rev1/952891.jpg  \n",
            "  inflating: images_training_rev1/952892.jpg  \n",
            "  inflating: images_training_rev1/952902.jpg  \n",
            "  inflating: images_training_rev1/952914.jpg  \n",
            "  inflating: images_training_rev1/952926.jpg  \n",
            "  inflating: images_training_rev1/952932.jpg  \n",
            "  inflating: images_training_rev1/952940.jpg  \n",
            "  inflating: images_training_rev1/952945.jpg  \n",
            "  inflating: images_training_rev1/952959.jpg  \n",
            "  inflating: images_training_rev1/952980.jpg  \n",
            "  inflating: images_training_rev1/952985.jpg  \n",
            "  inflating: images_training_rev1/953004.jpg  \n",
            "  inflating: images_training_rev1/953008.jpg  \n",
            "  inflating: images_training_rev1/953014.jpg  \n",
            "  inflating: images_training_rev1/953022.jpg  \n",
            "  inflating: images_training_rev1/953044.jpg  \n",
            "  inflating: images_training_rev1/953065.jpg  \n",
            "  inflating: images_training_rev1/953069.jpg  \n",
            "  inflating: images_training_rev1/953079.jpg  \n",
            "  inflating: images_training_rev1/953086.jpg  \n",
            "  inflating: images_training_rev1/953089.jpg  \n",
            "  inflating: images_training_rev1/953092.jpg  \n",
            "  inflating: images_training_rev1/953109.jpg  \n",
            "  inflating: images_training_rev1/953112.jpg  \n",
            "  inflating: images_training_rev1/953144.jpg  \n",
            "  inflating: images_training_rev1/953145.jpg  \n",
            "  inflating: images_training_rev1/953167.jpg  \n",
            "  inflating: images_training_rev1/953175.jpg  \n",
            "  inflating: images_training_rev1/953181.jpg  \n",
            "  inflating: images_training_rev1/953208.jpg  \n",
            "  inflating: images_training_rev1/953213.jpg  \n",
            "  inflating: images_training_rev1/953227.jpg  \n",
            "  inflating: images_training_rev1/953269.jpg  \n",
            "  inflating: images_training_rev1/953270.jpg  \n",
            "  inflating: images_training_rev1/953281.jpg  \n",
            "  inflating: images_training_rev1/953341.jpg  \n",
            "  inflating: images_training_rev1/953352.jpg  \n",
            "  inflating: images_training_rev1/953372.jpg  \n",
            "  inflating: images_training_rev1/953376.jpg  \n",
            "  inflating: images_training_rev1/953377.jpg  \n",
            "  inflating: images_training_rev1/953382.jpg  \n",
            "  inflating: images_training_rev1/953415.jpg  \n",
            "  inflating: images_training_rev1/953435.jpg  \n",
            "  inflating: images_training_rev1/953445.jpg  \n",
            "  inflating: images_training_rev1/953470.jpg  \n",
            "  inflating: images_training_rev1/953473.jpg  \n",
            "  inflating: images_training_rev1/953515.jpg  \n",
            "  inflating: images_training_rev1/953543.jpg  \n",
            "  inflating: images_training_rev1/953553.jpg  \n",
            "  inflating: images_training_rev1/953571.jpg  \n",
            "  inflating: images_training_rev1/953593.jpg  \n",
            "  inflating: images_training_rev1/953597.jpg  \n",
            "  inflating: images_training_rev1/953610.jpg  \n",
            "  inflating: images_training_rev1/953648.jpg  \n",
            "  inflating: images_training_rev1/953655.jpg  \n",
            "  inflating: images_training_rev1/953662.jpg  \n",
            "  inflating: images_training_rev1/953688.jpg  \n",
            "  inflating: images_training_rev1/953693.jpg  \n",
            "  inflating: images_training_rev1/953711.jpg  \n",
            "  inflating: images_training_rev1/953713.jpg  \n",
            "  inflating: images_training_rev1/953716.jpg  \n",
            "  inflating: images_training_rev1/953734.jpg  \n",
            "  inflating: images_training_rev1/953757.jpg  \n",
            "  inflating: images_training_rev1/953769.jpg  \n",
            "  inflating: images_training_rev1/953785.jpg  \n",
            "  inflating: images_training_rev1/953798.jpg  \n",
            "  inflating: images_training_rev1/953799.jpg  \n",
            "  inflating: images_training_rev1/953800.jpg  \n",
            "  inflating: images_training_rev1/953801.jpg  \n",
            "  inflating: images_training_rev1/953804.jpg  \n",
            "  inflating: images_training_rev1/953895.jpg  \n",
            "  inflating: images_training_rev1/953923.jpg  \n",
            "  inflating: images_training_rev1/953937.jpg  \n",
            "  inflating: images_training_rev1/953940.jpg  \n",
            "  inflating: images_training_rev1/953969.jpg  \n",
            "  inflating: images_training_rev1/953970.jpg  \n",
            "  inflating: images_training_rev1/954035.jpg  \n",
            "  inflating: images_training_rev1/954040.jpg  \n",
            "  inflating: images_training_rev1/954102.jpg  \n",
            "  inflating: images_training_rev1/954120.jpg  \n",
            "  inflating: images_training_rev1/954138.jpg  \n",
            "  inflating: images_training_rev1/954172.jpg  \n",
            "  inflating: images_training_rev1/954178.jpg  \n",
            "  inflating: images_training_rev1/954183.jpg  \n",
            "  inflating: images_training_rev1/954188.jpg  \n",
            "  inflating: images_training_rev1/954233.jpg  \n",
            "  inflating: images_training_rev1/954256.jpg  \n",
            "  inflating: images_training_rev1/954259.jpg  \n",
            "  inflating: images_training_rev1/954268.jpg  \n",
            "  inflating: images_training_rev1/954276.jpg  \n",
            "  inflating: images_training_rev1/954279.jpg  \n",
            "  inflating: images_training_rev1/954288.jpg  \n",
            "  inflating: images_training_rev1/954327.jpg  \n",
            "  inflating: images_training_rev1/954356.jpg  \n",
            "  inflating: images_training_rev1/954423.jpg  \n",
            "  inflating: images_training_rev1/954429.jpg  \n",
            "  inflating: images_training_rev1/954430.jpg  \n",
            "  inflating: images_training_rev1/954452.jpg  \n",
            "  inflating: images_training_rev1/954478.jpg  \n",
            "  inflating: images_training_rev1/954485.jpg  \n",
            "  inflating: images_training_rev1/954514.jpg  \n",
            "  inflating: images_training_rev1/954517.jpg  \n",
            "  inflating: images_training_rev1/954526.jpg  \n",
            "  inflating: images_training_rev1/954546.jpg  \n",
            "  inflating: images_training_rev1/954568.jpg  \n",
            "  inflating: images_training_rev1/954577.jpg  \n",
            "  inflating: images_training_rev1/954584.jpg  \n",
            "  inflating: images_training_rev1/954602.jpg  \n",
            "  inflating: images_training_rev1/954605.jpg  \n",
            "  inflating: images_training_rev1/954620.jpg  \n",
            "  inflating: images_training_rev1/954651.jpg  \n",
            "  inflating: images_training_rev1/954664.jpg  \n",
            "  inflating: images_training_rev1/954678.jpg  \n",
            "  inflating: images_training_rev1/954719.jpg  \n",
            "  inflating: images_training_rev1/954753.jpg  \n",
            "  inflating: images_training_rev1/954758.jpg  \n",
            "  inflating: images_training_rev1/954768.jpg  \n",
            "  inflating: images_training_rev1/954771.jpg  \n",
            "  inflating: images_training_rev1/954780.jpg  \n",
            "  inflating: images_training_rev1/954785.jpg  \n",
            "  inflating: images_training_rev1/954810.jpg  \n",
            "  inflating: images_training_rev1/954820.jpg  \n",
            "  inflating: images_training_rev1/954827.jpg  \n",
            "  inflating: images_training_rev1/954833.jpg  \n",
            "  inflating: images_training_rev1/954868.jpg  \n",
            "  inflating: images_training_rev1/954888.jpg  \n",
            "  inflating: images_training_rev1/954917.jpg  \n",
            "  inflating: images_training_rev1/954926.jpg  \n",
            "  inflating: images_training_rev1/954935.jpg  \n",
            "  inflating: images_training_rev1/954938.jpg  \n",
            "  inflating: images_training_rev1/954944.jpg  \n",
            "  inflating: images_training_rev1/954969.jpg  \n",
            "  inflating: images_training_rev1/954985.jpg  \n",
            "  inflating: images_training_rev1/955008.jpg  \n",
            "  inflating: images_training_rev1/955031.jpg  \n",
            "  inflating: images_training_rev1/955049.jpg  \n",
            "  inflating: images_training_rev1/955052.jpg  \n",
            "  inflating: images_training_rev1/955055.jpg  \n",
            "  inflating: images_training_rev1/955057.jpg  \n",
            "  inflating: images_training_rev1/955062.jpg  \n",
            "  inflating: images_training_rev1/955063.jpg  \n",
            "  inflating: images_training_rev1/955070.jpg  \n",
            "  inflating: images_training_rev1/955102.jpg  \n",
            "  inflating: images_training_rev1/955122.jpg  \n",
            "  inflating: images_training_rev1/955139.jpg  \n",
            "  inflating: images_training_rev1/955142.jpg  \n",
            "  inflating: images_training_rev1/955145.jpg  \n",
            "  inflating: images_training_rev1/955165.jpg  \n",
            "  inflating: images_training_rev1/955233.jpg  \n",
            "  inflating: images_training_rev1/955246.jpg  \n",
            "  inflating: images_training_rev1/955262.jpg  \n",
            "  inflating: images_training_rev1/955270.jpg  \n",
            "  inflating: images_training_rev1/955275.jpg  \n",
            "  inflating: images_training_rev1/955279.jpg  \n",
            "  inflating: images_training_rev1/955290.jpg  \n",
            "  inflating: images_training_rev1/955295.jpg  \n",
            "  inflating: images_training_rev1/955302.jpg  \n",
            "  inflating: images_training_rev1/955305.jpg  \n",
            "  inflating: images_training_rev1/955343.jpg  \n",
            "  inflating: images_training_rev1/955356.jpg  \n",
            "  inflating: images_training_rev1/955361.jpg  \n",
            "  inflating: images_training_rev1/955377.jpg  \n",
            "  inflating: images_training_rev1/955390.jpg  \n",
            "  inflating: images_training_rev1/955392.jpg  \n",
            "  inflating: images_training_rev1/955407.jpg  \n",
            "  inflating: images_training_rev1/955416.jpg  \n",
            "  inflating: images_training_rev1/955433.jpg  \n",
            "  inflating: images_training_rev1/955438.jpg  \n",
            "  inflating: images_training_rev1/955441.jpg  \n",
            "  inflating: images_training_rev1/955447.jpg  \n",
            "  inflating: images_training_rev1/955476.jpg  \n",
            "  inflating: images_training_rev1/955483.jpg  \n",
            "  inflating: images_training_rev1/955484.jpg  \n",
            "  inflating: images_training_rev1/955542.jpg  \n",
            "  inflating: images_training_rev1/955551.jpg  \n",
            "  inflating: images_training_rev1/955563.jpg  \n",
            "  inflating: images_training_rev1/955571.jpg  \n",
            "  inflating: images_training_rev1/955578.jpg  \n",
            "  inflating: images_training_rev1/955579.jpg  \n",
            "  inflating: images_training_rev1/955587.jpg  \n",
            "  inflating: images_training_rev1/955617.jpg  \n",
            "  inflating: images_training_rev1/955628.jpg  \n",
            "  inflating: images_training_rev1/955654.jpg  \n",
            "  inflating: images_training_rev1/955668.jpg  \n",
            "  inflating: images_training_rev1/955669.jpg  \n",
            "  inflating: images_training_rev1/955678.jpg  \n",
            "  inflating: images_training_rev1/955689.jpg  \n",
            "  inflating: images_training_rev1/955690.jpg  \n",
            "  inflating: images_training_rev1/955715.jpg  \n",
            "  inflating: images_training_rev1/955720.jpg  \n",
            "  inflating: images_training_rev1/955773.jpg  \n",
            "  inflating: images_training_rev1/955786.jpg  \n",
            "  inflating: images_training_rev1/955788.jpg  \n",
            "  inflating: images_training_rev1/955802.jpg  \n",
            "  inflating: images_training_rev1/955813.jpg  \n",
            "  inflating: images_training_rev1/955816.jpg  \n",
            "  inflating: images_training_rev1/955817.jpg  \n",
            "  inflating: images_training_rev1/955840.jpg  \n",
            "  inflating: images_training_rev1/955850.jpg  \n",
            "  inflating: images_training_rev1/955852.jpg  \n",
            "  inflating: images_training_rev1/955867.jpg  \n",
            "  inflating: images_training_rev1/955886.jpg  \n",
            "  inflating: images_training_rev1/955902.jpg  \n",
            "  inflating: images_training_rev1/955922.jpg  \n",
            "  inflating: images_training_rev1/955927.jpg  \n",
            "  inflating: images_training_rev1/955932.jpg  \n",
            "  inflating: images_training_rev1/955939.jpg  \n",
            "  inflating: images_training_rev1/955949.jpg  \n",
            "  inflating: images_training_rev1/955956.jpg  \n",
            "  inflating: images_training_rev1/955977.jpg  \n",
            "  inflating: images_training_rev1/955986.jpg  \n",
            "  inflating: images_training_rev1/955995.jpg  \n",
            "  inflating: images_training_rev1/956023.jpg  \n",
            "  inflating: images_training_rev1/956025.jpg  \n",
            "  inflating: images_training_rev1/956031.jpg  \n",
            "  inflating: images_training_rev1/956042.jpg  \n",
            "  inflating: images_training_rev1/956053.jpg  \n",
            "  inflating: images_training_rev1/956071.jpg  \n",
            "  inflating: images_training_rev1/956095.jpg  \n",
            "  inflating: images_training_rev1/956097.jpg  \n",
            "  inflating: images_training_rev1/956109.jpg  \n",
            "  inflating: images_training_rev1/956129.jpg  \n",
            "  inflating: images_training_rev1/956148.jpg  \n",
            "  inflating: images_training_rev1/956159.jpg  \n",
            "  inflating: images_training_rev1/956164.jpg  \n",
            "  inflating: images_training_rev1/956169.jpg  \n",
            "  inflating: images_training_rev1/956175.jpg  \n",
            "  inflating: images_training_rev1/956179.jpg  \n",
            "  inflating: images_training_rev1/956180.jpg  \n",
            "  inflating: images_training_rev1/956188.jpg  \n",
            "  inflating: images_training_rev1/956206.jpg  \n",
            "  inflating: images_training_rev1/956214.jpg  \n",
            "  inflating: images_training_rev1/956215.jpg  \n",
            "  inflating: images_training_rev1/956240.jpg  \n",
            "  inflating: images_training_rev1/956254.jpg  \n",
            "  inflating: images_training_rev1/956287.jpg  \n",
            "  inflating: images_training_rev1/956300.jpg  \n",
            "  inflating: images_training_rev1/956305.jpg  \n",
            "  inflating: images_training_rev1/956335.jpg  \n",
            "  inflating: images_training_rev1/956339.jpg  \n",
            "  inflating: images_training_rev1/956346.jpg  \n",
            "  inflating: images_training_rev1/956374.jpg  \n",
            "  inflating: images_training_rev1/956396.jpg  \n",
            "  inflating: images_training_rev1/956406.jpg  \n",
            "  inflating: images_training_rev1/956407.jpg  \n",
            "  inflating: images_training_rev1/956416.jpg  \n",
            "  inflating: images_training_rev1/956428.jpg  \n",
            "  inflating: images_training_rev1/956482.jpg  \n",
            "  inflating: images_training_rev1/956483.jpg  \n",
            "  inflating: images_training_rev1/956484.jpg  \n",
            "  inflating: images_training_rev1/956499.jpg  \n",
            "  inflating: images_training_rev1/956501.jpg  \n",
            "  inflating: images_training_rev1/956507.jpg  \n",
            "  inflating: images_training_rev1/956517.jpg  \n",
            "  inflating: images_training_rev1/956529.jpg  \n",
            "  inflating: images_training_rev1/956530.jpg  \n",
            "  inflating: images_training_rev1/956545.jpg  \n",
            "  inflating: images_training_rev1/956558.jpg  \n",
            "  inflating: images_training_rev1/956563.jpg  \n",
            "  inflating: images_training_rev1/956574.jpg  \n",
            "  inflating: images_training_rev1/956608.jpg  \n",
            "  inflating: images_training_rev1/956645.jpg  \n",
            "  inflating: images_training_rev1/956688.jpg  \n",
            "  inflating: images_training_rev1/956729.jpg  \n",
            "  inflating: images_training_rev1/956733.jpg  \n",
            "  inflating: images_training_rev1/956736.jpg  \n",
            "  inflating: images_training_rev1/956775.jpg  \n",
            "  inflating: images_training_rev1/956779.jpg  \n",
            "  inflating: images_training_rev1/956846.jpg  \n",
            "  inflating: images_training_rev1/956851.jpg  \n",
            "  inflating: images_training_rev1/956899.jpg  \n",
            "  inflating: images_training_rev1/956901.jpg  \n",
            "  inflating: images_training_rev1/956905.jpg  \n",
            "  inflating: images_training_rev1/956923.jpg  \n",
            "  inflating: images_training_rev1/956977.jpg  \n",
            "  inflating: images_training_rev1/956986.jpg  \n",
            "  inflating: images_training_rev1/956988.jpg  \n",
            "  inflating: images_training_rev1/957005.jpg  \n",
            "  inflating: images_training_rev1/957031.jpg  \n",
            "  inflating: images_training_rev1/957044.jpg  \n",
            "  inflating: images_training_rev1/957065.jpg  \n",
            "  inflating: images_training_rev1/957070.jpg  \n",
            "  inflating: images_training_rev1/957084.jpg  \n",
            "  inflating: images_training_rev1/957092.jpg  \n",
            "  inflating: images_training_rev1/957104.jpg  \n",
            "  inflating: images_training_rev1/957118.jpg  \n",
            "  inflating: images_training_rev1/957141.jpg  \n",
            "  inflating: images_training_rev1/957144.jpg  \n",
            "  inflating: images_training_rev1/957157.jpg  \n",
            "  inflating: images_training_rev1/957159.jpg  \n",
            "  inflating: images_training_rev1/957187.jpg  \n",
            "  inflating: images_training_rev1/957192.jpg  \n",
            "  inflating: images_training_rev1/957194.jpg  \n",
            "  inflating: images_training_rev1/957196.jpg  \n",
            "  inflating: images_training_rev1/957211.jpg  \n",
            "  inflating: images_training_rev1/957231.jpg  \n",
            "  inflating: images_training_rev1/957234.jpg  \n",
            "  inflating: images_training_rev1/957236.jpg  \n",
            "  inflating: images_training_rev1/957249.jpg  \n",
            "  inflating: images_training_rev1/957251.jpg  \n",
            "  inflating: images_training_rev1/957253.jpg  \n",
            "  inflating: images_training_rev1/957261.jpg  \n",
            "  inflating: images_training_rev1/957263.jpg  \n",
            "  inflating: images_training_rev1/957266.jpg  \n",
            "  inflating: images_training_rev1/957302.jpg  \n",
            "  inflating: images_training_rev1/957312.jpg  \n",
            "  inflating: images_training_rev1/957325.jpg  \n",
            "  inflating: images_training_rev1/957334.jpg  \n",
            "  inflating: images_training_rev1/957360.jpg  \n",
            "  inflating: images_training_rev1/957376.jpg  \n",
            "  inflating: images_training_rev1/957425.jpg  \n",
            "  inflating: images_training_rev1/957499.jpg  \n",
            "  inflating: images_training_rev1/957500.jpg  \n",
            "  inflating: images_training_rev1/957526.jpg  \n",
            "  inflating: images_training_rev1/957530.jpg  \n",
            "  inflating: images_training_rev1/957554.jpg  \n",
            "  inflating: images_training_rev1/957565.jpg  \n",
            "  inflating: images_training_rev1/957566.jpg  \n",
            "  inflating: images_training_rev1/957577.jpg  \n",
            "  inflating: images_training_rev1/957591.jpg  \n",
            "  inflating: images_training_rev1/957616.jpg  \n",
            "  inflating: images_training_rev1/957617.jpg  \n",
            "  inflating: images_training_rev1/957642.jpg  \n",
            "  inflating: images_training_rev1/957675.jpg  \n",
            "  inflating: images_training_rev1/957684.jpg  \n",
            "  inflating: images_training_rev1/957693.jpg  \n",
            "  inflating: images_training_rev1/957725.jpg  \n",
            "  inflating: images_training_rev1/957729.jpg  \n",
            "  inflating: images_training_rev1/957743.jpg  \n",
            "  inflating: images_training_rev1/957751.jpg  \n",
            "  inflating: images_training_rev1/957770.jpg  \n",
            "  inflating: images_training_rev1/957776.jpg  \n",
            "  inflating: images_training_rev1/957778.jpg  \n",
            "  inflating: images_training_rev1/957779.jpg  \n",
            "  inflating: images_training_rev1/957791.jpg  \n",
            "  inflating: images_training_rev1/957805.jpg  \n",
            "  inflating: images_training_rev1/957812.jpg  \n",
            "  inflating: images_training_rev1/957839.jpg  \n",
            "  inflating: images_training_rev1/957847.jpg  \n",
            "  inflating: images_training_rev1/957852.jpg  \n",
            "  inflating: images_training_rev1/957904.jpg  \n",
            "  inflating: images_training_rev1/957949.jpg  \n",
            "  inflating: images_training_rev1/957972.jpg  \n",
            "  inflating: images_training_rev1/957980.jpg  \n",
            "  inflating: images_training_rev1/957996.jpg  \n",
            "  inflating: images_training_rev1/958028.jpg  \n",
            "  inflating: images_training_rev1/958037.jpg  \n",
            "  inflating: images_training_rev1/958068.jpg  \n",
            "  inflating: images_training_rev1/958074.jpg  \n",
            "  inflating: images_training_rev1/958090.jpg  \n",
            "  inflating: images_training_rev1/958094.jpg  \n",
            "  inflating: images_training_rev1/958113.jpg  \n",
            "  inflating: images_training_rev1/958123.jpg  \n",
            "  inflating: images_training_rev1/958129.jpg  \n",
            "  inflating: images_training_rev1/958143.jpg  \n",
            "  inflating: images_training_rev1/958159.jpg  \n",
            "  inflating: images_training_rev1/958181.jpg  \n",
            "  inflating: images_training_rev1/958258.jpg  \n",
            "  inflating: images_training_rev1/958373.jpg  \n",
            "  inflating: images_training_rev1/958383.jpg  \n",
            "  inflating: images_training_rev1/958392.jpg  \n",
            "  inflating: images_training_rev1/958430.jpg  \n",
            "  inflating: images_training_rev1/958440.jpg  \n",
            "  inflating: images_training_rev1/958481.jpg  \n",
            "  inflating: images_training_rev1/958482.jpg  \n",
            "  inflating: images_training_rev1/958493.jpg  \n",
            "  inflating: images_training_rev1/958506.jpg  \n",
            "  inflating: images_training_rev1/958511.jpg  \n",
            "  inflating: images_training_rev1/958524.jpg  \n",
            "  inflating: images_training_rev1/958530.jpg  \n",
            "  inflating: images_training_rev1/958531.jpg  \n",
            "  inflating: images_training_rev1/958538.jpg  \n",
            "  inflating: images_training_rev1/958557.jpg  \n",
            "  inflating: images_training_rev1/958565.jpg  \n",
            "  inflating: images_training_rev1/958597.jpg  \n",
            "  inflating: images_training_rev1/958607.jpg  \n",
            "  inflating: images_training_rev1/958611.jpg  \n",
            "  inflating: images_training_rev1/958621.jpg  \n",
            "  inflating: images_training_rev1/958632.jpg  \n",
            "  inflating: images_training_rev1/958649.jpg  \n",
            "  inflating: images_training_rev1/958652.jpg  \n",
            "  inflating: images_training_rev1/958671.jpg  \n",
            "  inflating: images_training_rev1/958707.jpg  \n",
            "  inflating: images_training_rev1/958709.jpg  \n",
            "  inflating: images_training_rev1/958725.jpg  \n",
            "  inflating: images_training_rev1/958754.jpg  \n",
            "  inflating: images_training_rev1/958765.jpg  \n",
            "  inflating: images_training_rev1/958773.jpg  \n",
            "  inflating: images_training_rev1/958791.jpg  \n",
            "  inflating: images_training_rev1/958816.jpg  \n",
            "  inflating: images_training_rev1/958832.jpg  \n",
            "  inflating: images_training_rev1/958845.jpg  \n",
            "  inflating: images_training_rev1/958864.jpg  \n",
            "  inflating: images_training_rev1/958895.jpg  \n",
            "  inflating: images_training_rev1/958898.jpg  \n",
            "  inflating: images_training_rev1/958899.jpg  \n",
            "  inflating: images_training_rev1/958926.jpg  \n",
            "  inflating: images_training_rev1/958947.jpg  \n",
            "  inflating: images_training_rev1/958974.jpg  \n",
            "  inflating: images_training_rev1/958978.jpg  \n",
            "  inflating: images_training_rev1/959014.jpg  \n",
            "  inflating: images_training_rev1/959029.jpg  \n",
            "  inflating: images_training_rev1/959042.jpg  \n",
            "  inflating: images_training_rev1/959043.jpg  \n",
            "  inflating: images_training_rev1/959046.jpg  \n",
            "  inflating: images_training_rev1/959057.jpg  \n",
            "  inflating: images_training_rev1/959066.jpg  \n",
            "  inflating: images_training_rev1/959114.jpg  \n",
            "  inflating: images_training_rev1/959118.jpg  \n",
            "  inflating: images_training_rev1/959143.jpg  \n",
            "  inflating: images_training_rev1/959149.jpg  \n",
            "  inflating: images_training_rev1/959155.jpg  \n",
            "  inflating: images_training_rev1/959169.jpg  \n",
            "  inflating: images_training_rev1/959180.jpg  \n",
            "  inflating: images_training_rev1/959190.jpg  \n",
            "  inflating: images_training_rev1/959211.jpg  \n",
            "  inflating: images_training_rev1/959212.jpg  \n",
            "  inflating: images_training_rev1/959217.jpg  \n",
            "  inflating: images_training_rev1/959270.jpg  \n",
            "  inflating: images_training_rev1/959276.jpg  \n",
            "  inflating: images_training_rev1/959316.jpg  \n",
            "  inflating: images_training_rev1/959339.jpg  \n",
            "  inflating: images_training_rev1/959340.jpg  \n",
            "  inflating: images_training_rev1/959343.jpg  \n",
            "  inflating: images_training_rev1/959356.jpg  \n",
            "  inflating: images_training_rev1/959366.jpg  \n",
            "  inflating: images_training_rev1/959388.jpg  \n",
            "  inflating: images_training_rev1/959429.jpg  \n",
            "  inflating: images_training_rev1/959442.jpg  \n",
            "  inflating: images_training_rev1/959466.jpg  \n",
            "  inflating: images_training_rev1/959483.jpg  \n",
            "  inflating: images_training_rev1/959498.jpg  \n",
            "  inflating: images_training_rev1/959501.jpg  \n",
            "  inflating: images_training_rev1/959508.jpg  \n",
            "  inflating: images_training_rev1/959513.jpg  \n",
            "  inflating: images_training_rev1/959540.jpg  \n",
            "  inflating: images_training_rev1/959557.jpg  \n",
            "  inflating: images_training_rev1/959564.jpg  \n",
            "  inflating: images_training_rev1/959574.jpg  \n",
            "  inflating: images_training_rev1/959581.jpg  \n",
            "  inflating: images_training_rev1/959583.jpg  \n",
            "  inflating: images_training_rev1/959617.jpg  \n",
            "  inflating: images_training_rev1/959629.jpg  \n",
            "  inflating: images_training_rev1/959645.jpg  \n",
            "  inflating: images_training_rev1/959653.jpg  \n",
            "  inflating: images_training_rev1/959655.jpg  \n",
            "  inflating: images_training_rev1/959660.jpg  \n",
            "  inflating: images_training_rev1/959679.jpg  \n",
            "  inflating: images_training_rev1/959680.jpg  \n",
            "  inflating: images_training_rev1/959706.jpg  \n",
            "  inflating: images_training_rev1/959742.jpg  \n",
            "  inflating: images_training_rev1/959766.jpg  \n",
            "  inflating: images_training_rev1/959830.jpg  \n",
            "  inflating: images_training_rev1/959855.jpg  \n",
            "  inflating: images_training_rev1/959856.jpg  \n",
            "  inflating: images_training_rev1/959870.jpg  \n",
            "  inflating: images_training_rev1/959871.jpg  \n",
            "  inflating: images_training_rev1/959880.jpg  \n",
            "  inflating: images_training_rev1/959925.jpg  \n",
            "  inflating: images_training_rev1/959930.jpg  \n",
            "  inflating: images_training_rev1/959932.jpg  \n",
            "  inflating: images_training_rev1/959934.jpg  \n",
            "  inflating: images_training_rev1/959953.jpg  \n",
            "  inflating: images_training_rev1/959977.jpg  \n",
            "  inflating: images_training_rev1/959980.jpg  \n",
            "  inflating: images_training_rev1/959982.jpg  \n",
            "  inflating: images_training_rev1/959987.jpg  \n",
            "  inflating: images_training_rev1/959998.jpg  \n",
            "  inflating: images_training_rev1/960001.jpg  \n",
            "  inflating: images_training_rev1/960004.jpg  \n",
            "  inflating: images_training_rev1/960020.jpg  \n",
            "  inflating: images_training_rev1/960060.jpg  \n",
            "  inflating: images_training_rev1/960062.jpg  \n",
            "  inflating: images_training_rev1/960096.jpg  \n",
            "  inflating: images_training_rev1/960103.jpg  \n",
            "  inflating: images_training_rev1/960124.jpg  \n",
            "  inflating: images_training_rev1/960130.jpg  \n",
            "  inflating: images_training_rev1/960136.jpg  \n",
            "  inflating: images_training_rev1/960144.jpg  \n",
            "  inflating: images_training_rev1/960149.jpg  \n",
            "  inflating: images_training_rev1/960187.jpg  \n",
            "  inflating: images_training_rev1/960206.jpg  \n",
            "  inflating: images_training_rev1/960208.jpg  \n",
            "  inflating: images_training_rev1/960218.jpg  \n",
            "  inflating: images_training_rev1/960252.jpg  \n",
            "  inflating: images_training_rev1/960253.jpg  \n",
            "  inflating: images_training_rev1/960264.jpg  \n",
            "  inflating: images_training_rev1/960281.jpg  \n",
            "  inflating: images_training_rev1/960294.jpg  \n",
            "  inflating: images_training_rev1/960300.jpg  \n",
            "  inflating: images_training_rev1/960307.jpg  \n",
            "  inflating: images_training_rev1/960323.jpg  \n",
            "  inflating: images_training_rev1/960325.jpg  \n",
            "  inflating: images_training_rev1/960332.jpg  \n",
            "  inflating: images_training_rev1/960351.jpg  \n",
            "  inflating: images_training_rev1/960362.jpg  \n",
            "  inflating: images_training_rev1/960366.jpg  \n",
            "  inflating: images_training_rev1/960375.jpg  \n",
            "  inflating: images_training_rev1/960384.jpg  \n",
            "  inflating: images_training_rev1/960387.jpg  \n",
            "  inflating: images_training_rev1/960413.jpg  \n",
            "  inflating: images_training_rev1/960414.jpg  \n",
            "  inflating: images_training_rev1/960415.jpg  \n",
            "  inflating: images_training_rev1/960419.jpg  \n",
            "  inflating: images_training_rev1/960421.jpg  \n",
            "  inflating: images_training_rev1/960429.jpg  \n",
            "  inflating: images_training_rev1/960446.jpg  \n",
            "  inflating: images_training_rev1/960451.jpg  \n",
            "  inflating: images_training_rev1/960453.jpg  \n",
            "  inflating: images_training_rev1/960523.jpg  \n",
            "  inflating: images_training_rev1/960537.jpg  \n",
            "  inflating: images_training_rev1/960538.jpg  \n",
            "  inflating: images_training_rev1/960543.jpg  \n",
            "  inflating: images_training_rev1/960561.jpg  \n",
            "  inflating: images_training_rev1/960608.jpg  \n",
            "  inflating: images_training_rev1/960616.jpg  \n",
            "  inflating: images_training_rev1/960624.jpg  \n",
            "  inflating: images_training_rev1/960627.jpg  \n",
            "  inflating: images_training_rev1/960636.jpg  \n",
            "  inflating: images_training_rev1/960648.jpg  \n",
            "  inflating: images_training_rev1/960662.jpg  \n",
            "  inflating: images_training_rev1/960663.jpg  \n",
            "  inflating: images_training_rev1/960686.jpg  \n",
            "  inflating: images_training_rev1/960691.jpg  \n",
            "  inflating: images_training_rev1/960706.jpg  \n",
            "  inflating: images_training_rev1/960724.jpg  \n",
            "  inflating: images_training_rev1/960740.jpg  \n",
            "  inflating: images_training_rev1/960773.jpg  \n",
            "  inflating: images_training_rev1/960775.jpg  \n",
            "  inflating: images_training_rev1/960781.jpg  \n",
            "  inflating: images_training_rev1/960786.jpg  \n",
            "  inflating: images_training_rev1/960794.jpg  \n",
            "  inflating: images_training_rev1/960798.jpg  \n",
            "  inflating: images_training_rev1/960801.jpg  \n",
            "  inflating: images_training_rev1/960808.jpg  \n",
            "  inflating: images_training_rev1/960825.jpg  \n",
            "  inflating: images_training_rev1/960835.jpg  \n",
            "  inflating: images_training_rev1/960843.jpg  \n",
            "  inflating: images_training_rev1/960861.jpg  \n",
            "  inflating: images_training_rev1/960878.jpg  \n",
            "  inflating: images_training_rev1/960899.jpg  \n",
            "  inflating: images_training_rev1/960902.jpg  \n",
            "  inflating: images_training_rev1/960906.jpg  \n",
            "  inflating: images_training_rev1/960914.jpg  \n",
            "  inflating: images_training_rev1/960920.jpg  \n",
            "  inflating: images_training_rev1/960938.jpg  \n",
            "  inflating: images_training_rev1/960939.jpg  \n",
            "  inflating: images_training_rev1/961024.jpg  \n",
            "  inflating: images_training_rev1/961027.jpg  \n",
            "  inflating: images_training_rev1/961032.jpg  \n",
            "  inflating: images_training_rev1/961039.jpg  \n",
            "  inflating: images_training_rev1/961044.jpg  \n",
            "  inflating: images_training_rev1/961051.jpg  \n",
            "  inflating: images_training_rev1/961058.jpg  \n",
            "  inflating: images_training_rev1/961068.jpg  \n",
            "  inflating: images_training_rev1/961083.jpg  \n",
            "  inflating: images_training_rev1/961088.jpg  \n",
            "  inflating: images_training_rev1/961104.jpg  \n",
            "  inflating: images_training_rev1/961122.jpg  \n",
            "  inflating: images_training_rev1/961127.jpg  \n",
            "  inflating: images_training_rev1/961135.jpg  \n",
            "  inflating: images_training_rev1/961136.jpg  \n",
            "  inflating: images_training_rev1/961151.jpg  \n",
            "  inflating: images_training_rev1/961157.jpg  \n",
            "  inflating: images_training_rev1/961170.jpg  \n",
            "  inflating: images_training_rev1/961177.jpg  \n",
            "  inflating: images_training_rev1/961178.jpg  \n",
            "  inflating: images_training_rev1/961179.jpg  \n",
            "  inflating: images_training_rev1/961195.jpg  \n",
            "  inflating: images_training_rev1/961206.jpg  \n",
            "  inflating: images_training_rev1/961235.jpg  \n",
            "  inflating: images_training_rev1/961262.jpg  \n",
            "  inflating: images_training_rev1/961267.jpg  \n",
            "  inflating: images_training_rev1/961273.jpg  \n",
            "  inflating: images_training_rev1/961298.jpg  \n",
            "  inflating: images_training_rev1/961307.jpg  \n",
            "  inflating: images_training_rev1/961321.jpg  \n",
            "  inflating: images_training_rev1/961331.jpg  \n",
            "  inflating: images_training_rev1/961343.jpg  \n",
            "  inflating: images_training_rev1/961371.jpg  \n",
            "  inflating: images_training_rev1/961376.jpg  \n",
            "  inflating: images_training_rev1/961387.jpg  \n",
            "  inflating: images_training_rev1/961403.jpg  \n",
            "  inflating: images_training_rev1/961413.jpg  \n",
            "  inflating: images_training_rev1/961425.jpg  \n",
            "  inflating: images_training_rev1/961426.jpg  \n",
            "  inflating: images_training_rev1/961427.jpg  \n",
            "  inflating: images_training_rev1/961437.jpg  \n",
            "  inflating: images_training_rev1/961442.jpg  \n",
            "  inflating: images_training_rev1/961452.jpg  \n",
            "  inflating: images_training_rev1/961473.jpg  \n",
            "  inflating: images_training_rev1/961503.jpg  \n",
            "  inflating: images_training_rev1/961513.jpg  \n",
            "  inflating: images_training_rev1/961517.jpg  \n",
            "  inflating: images_training_rev1/961544.jpg  \n",
            "  inflating: images_training_rev1/961552.jpg  \n",
            "  inflating: images_training_rev1/961572.jpg  \n",
            "  inflating: images_training_rev1/961577.jpg  \n",
            "  inflating: images_training_rev1/961584.jpg  \n",
            "  inflating: images_training_rev1/961598.jpg  \n",
            "  inflating: images_training_rev1/961602.jpg  \n",
            "  inflating: images_training_rev1/961610.jpg  \n",
            "  inflating: images_training_rev1/961628.jpg  \n",
            "  inflating: images_training_rev1/961639.jpg  \n",
            "  inflating: images_training_rev1/961659.jpg  \n",
            "  inflating: images_training_rev1/961669.jpg  \n",
            "  inflating: images_training_rev1/961674.jpg  \n",
            "  inflating: images_training_rev1/961682.jpg  \n",
            "  inflating: images_training_rev1/961717.jpg  \n",
            "  inflating: images_training_rev1/961736.jpg  \n",
            "  inflating: images_training_rev1/961738.jpg  \n",
            "  inflating: images_training_rev1/961762.jpg  \n",
            "  inflating: images_training_rev1/961769.jpg  \n",
            "  inflating: images_training_rev1/961782.jpg  \n",
            "  inflating: images_training_rev1/961784.jpg  \n",
            "  inflating: images_training_rev1/961830.jpg  \n",
            "  inflating: images_training_rev1/961868.jpg  \n",
            "  inflating: images_training_rev1/961879.jpg  \n",
            "  inflating: images_training_rev1/961897.jpg  \n",
            "  inflating: images_training_rev1/961912.jpg  \n",
            "  inflating: images_training_rev1/961947.jpg  \n",
            "  inflating: images_training_rev1/962017.jpg  \n",
            "  inflating: images_training_rev1/962021.jpg  \n",
            "  inflating: images_training_rev1/962027.jpg  \n",
            "  inflating: images_training_rev1/962040.jpg  \n",
            "  inflating: images_training_rev1/962051.jpg  \n",
            "  inflating: images_training_rev1/962064.jpg  \n",
            "  inflating: images_training_rev1/962069.jpg  \n",
            "  inflating: images_training_rev1/962083.jpg  \n",
            "  inflating: images_training_rev1/962084.jpg  \n",
            "  inflating: images_training_rev1/962107.jpg  \n",
            "  inflating: images_training_rev1/962118.jpg  \n",
            "  inflating: images_training_rev1/962146.jpg  \n",
            "  inflating: images_training_rev1/962163.jpg  \n",
            "  inflating: images_training_rev1/962167.jpg  \n",
            "  inflating: images_training_rev1/962183.jpg  \n",
            "  inflating: images_training_rev1/962185.jpg  \n",
            "  inflating: images_training_rev1/962189.jpg  \n",
            "  inflating: images_training_rev1/962211.jpg  \n",
            "  inflating: images_training_rev1/962233.jpg  \n",
            "  inflating: images_training_rev1/962263.jpg  \n",
            "  inflating: images_training_rev1/962270.jpg  \n",
            "  inflating: images_training_rev1/962292.jpg  \n",
            "  inflating: images_training_rev1/962329.jpg  \n",
            "  inflating: images_training_rev1/962333.jpg  \n",
            "  inflating: images_training_rev1/962339.jpg  \n",
            "  inflating: images_training_rev1/962348.jpg  \n",
            "  inflating: images_training_rev1/962353.jpg  \n",
            "  inflating: images_training_rev1/962357.jpg  \n",
            "  inflating: images_training_rev1/962360.jpg  \n",
            "  inflating: images_training_rev1/962361.jpg  \n",
            "  inflating: images_training_rev1/962369.jpg  \n",
            "  inflating: images_training_rev1/962377.jpg  \n",
            "  inflating: images_training_rev1/962389.jpg  \n",
            "  inflating: images_training_rev1/962399.jpg  \n",
            "  inflating: images_training_rev1/962409.jpg  \n",
            "  inflating: images_training_rev1/962412.jpg  \n",
            "  inflating: images_training_rev1/962419.jpg  \n",
            "  inflating: images_training_rev1/962428.jpg  \n",
            "  inflating: images_training_rev1/962447.jpg  \n",
            "  inflating: images_training_rev1/962448.jpg  \n",
            "  inflating: images_training_rev1/962458.jpg  \n",
            "  inflating: images_training_rev1/962482.jpg  \n",
            "  inflating: images_training_rev1/962493.jpg  \n",
            "  inflating: images_training_rev1/962499.jpg  \n",
            "  inflating: images_training_rev1/962503.jpg  \n",
            "  inflating: images_training_rev1/962523.jpg  \n",
            "  inflating: images_training_rev1/962543.jpg  \n",
            "  inflating: images_training_rev1/962588.jpg  \n",
            "  inflating: images_training_rev1/962628.jpg  \n",
            "  inflating: images_training_rev1/962678.jpg  \n",
            "  inflating: images_training_rev1/962679.jpg  \n",
            "  inflating: images_training_rev1/962682.jpg  \n",
            "  inflating: images_training_rev1/962702.jpg  \n",
            "  inflating: images_training_rev1/962727.jpg  \n",
            "  inflating: images_training_rev1/962739.jpg  \n",
            "  inflating: images_training_rev1/962745.jpg  \n",
            "  inflating: images_training_rev1/962747.jpg  \n",
            "  inflating: images_training_rev1/962748.jpg  \n",
            "  inflating: images_training_rev1/962768.jpg  \n",
            "  inflating: images_training_rev1/962783.jpg  \n",
            "  inflating: images_training_rev1/962805.jpg  \n",
            "  inflating: images_training_rev1/962838.jpg  \n",
            "  inflating: images_training_rev1/962889.jpg  \n",
            "  inflating: images_training_rev1/962897.jpg  \n",
            "  inflating: images_training_rev1/962913.jpg  \n",
            "  inflating: images_training_rev1/962921.jpg  \n",
            "  inflating: images_training_rev1/962923.jpg  \n",
            "  inflating: images_training_rev1/962928.jpg  \n",
            "  inflating: images_training_rev1/962969.jpg  \n",
            "  inflating: images_training_rev1/962980.jpg  \n",
            "  inflating: images_training_rev1/962985.jpg  \n",
            "  inflating: images_training_rev1/962986.jpg  \n",
            "  inflating: images_training_rev1/963038.jpg  \n",
            "  inflating: images_training_rev1/963039.jpg  \n",
            "  inflating: images_training_rev1/963041.jpg  \n",
            "  inflating: images_training_rev1/963069.jpg  \n",
            "  inflating: images_training_rev1/963084.jpg  \n",
            "  inflating: images_training_rev1/963088.jpg  \n",
            "  inflating: images_training_rev1/963104.jpg  \n",
            "  inflating: images_training_rev1/963109.jpg  \n",
            "  inflating: images_training_rev1/963142.jpg  \n",
            "  inflating: images_training_rev1/963149.jpg  \n",
            "  inflating: images_training_rev1/963174.jpg  \n",
            "  inflating: images_training_rev1/963185.jpg  \n",
            "  inflating: images_training_rev1/963188.jpg  \n",
            "  inflating: images_training_rev1/963208.jpg  \n",
            "  inflating: images_training_rev1/963210.jpg  \n",
            "  inflating: images_training_rev1/963211.jpg  \n",
            "  inflating: images_training_rev1/963223.jpg  \n",
            "  inflating: images_training_rev1/963246.jpg  \n",
            "  inflating: images_training_rev1/963258.jpg  \n",
            "  inflating: images_training_rev1/963264.jpg  \n",
            "  inflating: images_training_rev1/963270.jpg  \n",
            "  inflating: images_training_rev1/963277.jpg  \n",
            "  inflating: images_training_rev1/963292.jpg  \n",
            "  inflating: images_training_rev1/963328.jpg  \n",
            "  inflating: images_training_rev1/963342.jpg  \n",
            "  inflating: images_training_rev1/963363.jpg  \n",
            "  inflating: images_training_rev1/963385.jpg  \n",
            "  inflating: images_training_rev1/963435.jpg  \n",
            "  inflating: images_training_rev1/963443.jpg  \n",
            "  inflating: images_training_rev1/963459.jpg  \n",
            "  inflating: images_training_rev1/963463.jpg  \n",
            "  inflating: images_training_rev1/963494.jpg  \n",
            "  inflating: images_training_rev1/963500.jpg  \n",
            "  inflating: images_training_rev1/963509.jpg  \n",
            "  inflating: images_training_rev1/963521.jpg  \n",
            "  inflating: images_training_rev1/963558.jpg  \n",
            "  inflating: images_training_rev1/963603.jpg  \n",
            "  inflating: images_training_rev1/963610.jpg  \n",
            "  inflating: images_training_rev1/963627.jpg  \n",
            "  inflating: images_training_rev1/963628.jpg  \n",
            "  inflating: images_training_rev1/963649.jpg  \n",
            "  inflating: images_training_rev1/963657.jpg  \n",
            "  inflating: images_training_rev1/963660.jpg  \n",
            "  inflating: images_training_rev1/963661.jpg  \n",
            "  inflating: images_training_rev1/963673.jpg  \n",
            "  inflating: images_training_rev1/963692.jpg  \n",
            "  inflating: images_training_rev1/963696.jpg  \n",
            "  inflating: images_training_rev1/963704.jpg  \n",
            "  inflating: images_training_rev1/963729.jpg  \n",
            "  inflating: images_training_rev1/963742.jpg  \n",
            "  inflating: images_training_rev1/963779.jpg  \n",
            "  inflating: images_training_rev1/963785.jpg  \n",
            "  inflating: images_training_rev1/963786.jpg  \n",
            "  inflating: images_training_rev1/963789.jpg  \n",
            "  inflating: images_training_rev1/963803.jpg  \n",
            "  inflating: images_training_rev1/963806.jpg  \n",
            "  inflating: images_training_rev1/963813.jpg  \n",
            "  inflating: images_training_rev1/963821.jpg  \n",
            "  inflating: images_training_rev1/963839.jpg  \n",
            "  inflating: images_training_rev1/963888.jpg  \n",
            "  inflating: images_training_rev1/963892.jpg  \n",
            "  inflating: images_training_rev1/963926.jpg  \n",
            "  inflating: images_training_rev1/963930.jpg  \n",
            "  inflating: images_training_rev1/963974.jpg  \n",
            "  inflating: images_training_rev1/963990.jpg  \n",
            "  inflating: images_training_rev1/963999.jpg  \n",
            "  inflating: images_training_rev1/964006.jpg  \n",
            "  inflating: images_training_rev1/964007.jpg  \n",
            "  inflating: images_training_rev1/964011.jpg  \n",
            "  inflating: images_training_rev1/964027.jpg  \n",
            "  inflating: images_training_rev1/964048.jpg  \n",
            "  inflating: images_training_rev1/964052.jpg  \n",
            "  inflating: images_training_rev1/964056.jpg  \n",
            "  inflating: images_training_rev1/964064.jpg  \n",
            "  inflating: images_training_rev1/964071.jpg  \n",
            "  inflating: images_training_rev1/964091.jpg  \n",
            "  inflating: images_training_rev1/964116.jpg  \n",
            "  inflating: images_training_rev1/964118.jpg  \n",
            "  inflating: images_training_rev1/964119.jpg  \n",
            "  inflating: images_training_rev1/964127.jpg  \n",
            "  inflating: images_training_rev1/964129.jpg  \n",
            "  inflating: images_training_rev1/964145.jpg  \n",
            "  inflating: images_training_rev1/964149.jpg  \n",
            "  inflating: images_training_rev1/964184.jpg  \n",
            "  inflating: images_training_rev1/964198.jpg  \n",
            "  inflating: images_training_rev1/964219.jpg  \n",
            "  inflating: images_training_rev1/964221.jpg  \n",
            "  inflating: images_training_rev1/964224.jpg  \n",
            "  inflating: images_training_rev1/964239.jpg  \n",
            "  inflating: images_training_rev1/964248.jpg  \n",
            "  inflating: images_training_rev1/964249.jpg  \n",
            "  inflating: images_training_rev1/964259.jpg  \n",
            "  inflating: images_training_rev1/964278.jpg  \n",
            "  inflating: images_training_rev1/964315.jpg  \n",
            "  inflating: images_training_rev1/964319.jpg  \n",
            "  inflating: images_training_rev1/964320.jpg  \n",
            "  inflating: images_training_rev1/964331.jpg  \n",
            "  inflating: images_training_rev1/964338.jpg  \n",
            "  inflating: images_training_rev1/964386.jpg  \n",
            "  inflating: images_training_rev1/964388.jpg  \n",
            "  inflating: images_training_rev1/964392.jpg  \n",
            "  inflating: images_training_rev1/964412.jpg  \n",
            "  inflating: images_training_rev1/964423.jpg  \n",
            "  inflating: images_training_rev1/964429.jpg  \n",
            "  inflating: images_training_rev1/964484.jpg  \n",
            "  inflating: images_training_rev1/964489.jpg  \n",
            "  inflating: images_training_rev1/964494.jpg  \n",
            "  inflating: images_training_rev1/964499.jpg  \n",
            "  inflating: images_training_rev1/964505.jpg  \n",
            "  inflating: images_training_rev1/964524.jpg  \n",
            "  inflating: images_training_rev1/964529.jpg  \n",
            "  inflating: images_training_rev1/964538.jpg  \n",
            "  inflating: images_training_rev1/964567.jpg  \n",
            "  inflating: images_training_rev1/964569.jpg  \n",
            "  inflating: images_training_rev1/964577.jpg  \n",
            "  inflating: images_training_rev1/964581.jpg  \n",
            "  inflating: images_training_rev1/964590.jpg  \n",
            "  inflating: images_training_rev1/964610.jpg  \n",
            "  inflating: images_training_rev1/964613.jpg  \n",
            "  inflating: images_training_rev1/964656.jpg  \n",
            "  inflating: images_training_rev1/964689.jpg  \n",
            "  inflating: images_training_rev1/964690.jpg  \n",
            "  inflating: images_training_rev1/964707.jpg  \n",
            "  inflating: images_training_rev1/964754.jpg  \n",
            "  inflating: images_training_rev1/964761.jpg  \n",
            "  inflating: images_training_rev1/964778.jpg  \n",
            "  inflating: images_training_rev1/964779.jpg  \n",
            "  inflating: images_training_rev1/964826.jpg  \n",
            "  inflating: images_training_rev1/964830.jpg  \n",
            "  inflating: images_training_rev1/964832.jpg  \n",
            "  inflating: images_training_rev1/964839.jpg  \n",
            "  inflating: images_training_rev1/964873.jpg  \n",
            "  inflating: images_training_rev1/964899.jpg  \n",
            "  inflating: images_training_rev1/964921.jpg  \n",
            "  inflating: images_training_rev1/964929.jpg  \n",
            "  inflating: images_training_rev1/964941.jpg  \n",
            "  inflating: images_training_rev1/964964.jpg  \n",
            "  inflating: images_training_rev1/964991.jpg  \n",
            "  inflating: images_training_rev1/965022.jpg  \n",
            "  inflating: images_training_rev1/965040.jpg  \n",
            "  inflating: images_training_rev1/965049.jpg  \n",
            "  inflating: images_training_rev1/965062.jpg  \n",
            "  inflating: images_training_rev1/965081.jpg  \n",
            "  inflating: images_training_rev1/965108.jpg  \n",
            "  inflating: images_training_rev1/965113.jpg  \n",
            "  inflating: images_training_rev1/965119.jpg  \n",
            "  inflating: images_training_rev1/965120.jpg  \n",
            "  inflating: images_training_rev1/965127.jpg  \n",
            "  inflating: images_training_rev1/965150.jpg  \n",
            "  inflating: images_training_rev1/965155.jpg  \n",
            "  inflating: images_training_rev1/965166.jpg  \n",
            "  inflating: images_training_rev1/965202.jpg  \n",
            "  inflating: images_training_rev1/965211.jpg  \n",
            "  inflating: images_training_rev1/965222.jpg  \n",
            "  inflating: images_training_rev1/965234.jpg  \n",
            "  inflating: images_training_rev1/965237.jpg  \n",
            "  inflating: images_training_rev1/965270.jpg  \n",
            "  inflating: images_training_rev1/965280.jpg  \n",
            "  inflating: images_training_rev1/965317.jpg  \n",
            "  inflating: images_training_rev1/965322.jpg  \n",
            "  inflating: images_training_rev1/965338.jpg  \n",
            "  inflating: images_training_rev1/965343.jpg  \n",
            "  inflating: images_training_rev1/965345.jpg  \n",
            "  inflating: images_training_rev1/965356.jpg  \n",
            "  inflating: images_training_rev1/965359.jpg  \n",
            "  inflating: images_training_rev1/965377.jpg  \n",
            "  inflating: images_training_rev1/965397.jpg  \n",
            "  inflating: images_training_rev1/965449.jpg  \n",
            "  inflating: images_training_rev1/965451.jpg  \n",
            "  inflating: images_training_rev1/965456.jpg  \n",
            "  inflating: images_training_rev1/965462.jpg  \n",
            "  inflating: images_training_rev1/965487.jpg  \n",
            "  inflating: images_training_rev1/965495.jpg  \n",
            "  inflating: images_training_rev1/965520.jpg  \n",
            "  inflating: images_training_rev1/965539.jpg  \n",
            "  inflating: images_training_rev1/965573.jpg  \n",
            "  inflating: images_training_rev1/965574.jpg  \n",
            "  inflating: images_training_rev1/965603.jpg  \n",
            "  inflating: images_training_rev1/965609.jpg  \n",
            "  inflating: images_training_rev1/965645.jpg  \n",
            "  inflating: images_training_rev1/965652.jpg  \n",
            "  inflating: images_training_rev1/965669.jpg  \n",
            "  inflating: images_training_rev1/965730.jpg  \n",
            "  inflating: images_training_rev1/965740.jpg  \n",
            "  inflating: images_training_rev1/965755.jpg  \n",
            "  inflating: images_training_rev1/965761.jpg  \n",
            "  inflating: images_training_rev1/965804.jpg  \n",
            "  inflating: images_training_rev1/965817.jpg  \n",
            "  inflating: images_training_rev1/965818.jpg  \n",
            "  inflating: images_training_rev1/965822.jpg  \n",
            "  inflating: images_training_rev1/965848.jpg  \n",
            "  inflating: images_training_rev1/965862.jpg  \n",
            "  inflating: images_training_rev1/965882.jpg  \n",
            "  inflating: images_training_rev1/965924.jpg  \n",
            "  inflating: images_training_rev1/965935.jpg  \n",
            "  inflating: images_training_rev1/965938.jpg  \n",
            "  inflating: images_training_rev1/965944.jpg  \n",
            "  inflating: images_training_rev1/965948.jpg  \n",
            "  inflating: images_training_rev1/965970.jpg  \n",
            "  inflating: images_training_rev1/965990.jpg  \n",
            "  inflating: images_training_rev1/965993.jpg  \n",
            "  inflating: images_training_rev1/965995.jpg  \n",
            "  inflating: images_training_rev1/966001.jpg  \n",
            "  inflating: images_training_rev1/966002.jpg  \n",
            "  inflating: images_training_rev1/966009.jpg  \n",
            "  inflating: images_training_rev1/966012.jpg  \n",
            "  inflating: images_training_rev1/966027.jpg  \n",
            "  inflating: images_training_rev1/966036.jpg  \n",
            "  inflating: images_training_rev1/966047.jpg  \n",
            "  inflating: images_training_rev1/966056.jpg  \n",
            "  inflating: images_training_rev1/966064.jpg  \n",
            "  inflating: images_training_rev1/966091.jpg  \n",
            "  inflating: images_training_rev1/966100.jpg  \n",
            "  inflating: images_training_rev1/966108.jpg  \n",
            "  inflating: images_training_rev1/966123.jpg  \n",
            "  inflating: images_training_rev1/966126.jpg  \n",
            "  inflating: images_training_rev1/966141.jpg  \n",
            "  inflating: images_training_rev1/966149.jpg  \n",
            "  inflating: images_training_rev1/966161.jpg  \n",
            "  inflating: images_training_rev1/966171.jpg  \n",
            "  inflating: images_training_rev1/966196.jpg  \n",
            "  inflating: images_training_rev1/966201.jpg  \n",
            "  inflating: images_training_rev1/966217.jpg  \n",
            "  inflating: images_training_rev1/966243.jpg  \n",
            "  inflating: images_training_rev1/966258.jpg  \n",
            "  inflating: images_training_rev1/966278.jpg  \n",
            "  inflating: images_training_rev1/966287.jpg  \n",
            "  inflating: images_training_rev1/966351.jpg  \n",
            "  inflating: images_training_rev1/966360.jpg  \n",
            "  inflating: images_training_rev1/966379.jpg  \n",
            "  inflating: images_training_rev1/966385.jpg  \n",
            "  inflating: images_training_rev1/966405.jpg  \n",
            "  inflating: images_training_rev1/966420.jpg  \n",
            "  inflating: images_training_rev1/966421.jpg  \n",
            "  inflating: images_training_rev1/966423.jpg  \n",
            "  inflating: images_training_rev1/966429.jpg  \n",
            "  inflating: images_training_rev1/966451.jpg  \n",
            "  inflating: images_training_rev1/966456.jpg  \n",
            "  inflating: images_training_rev1/966481.jpg  \n",
            "  inflating: images_training_rev1/966483.jpg  \n",
            "  inflating: images_training_rev1/966500.jpg  \n",
            "  inflating: images_training_rev1/966505.jpg  \n",
            "  inflating: images_training_rev1/966510.jpg  \n",
            "  inflating: images_training_rev1/966511.jpg  \n",
            "  inflating: images_training_rev1/966521.jpg  \n",
            "  inflating: images_training_rev1/966524.jpg  \n",
            "  inflating: images_training_rev1/966536.jpg  \n",
            "  inflating: images_training_rev1/966547.jpg  \n",
            "  inflating: images_training_rev1/966557.jpg  \n",
            "  inflating: images_training_rev1/966558.jpg  \n",
            "  inflating: images_training_rev1/966564.jpg  \n",
            "  inflating: images_training_rev1/966576.jpg  \n",
            "  inflating: images_training_rev1/966594.jpg  \n",
            "  inflating: images_training_rev1/966602.jpg  \n",
            "  inflating: images_training_rev1/966604.jpg  \n",
            "  inflating: images_training_rev1/966618.jpg  \n",
            "  inflating: images_training_rev1/966621.jpg  \n",
            "  inflating: images_training_rev1/966628.jpg  \n",
            "  inflating: images_training_rev1/966631.jpg  \n",
            "  inflating: images_training_rev1/966634.jpg  \n",
            "  inflating: images_training_rev1/966658.jpg  \n",
            "  inflating: images_training_rev1/966662.jpg  \n",
            "  inflating: images_training_rev1/966700.jpg  \n",
            "  inflating: images_training_rev1/966729.jpg  \n",
            "  inflating: images_training_rev1/966730.jpg  \n",
            "  inflating: images_training_rev1/966748.jpg  \n",
            "  inflating: images_training_rev1/966756.jpg  \n",
            "  inflating: images_training_rev1/966759.jpg  \n",
            "  inflating: images_training_rev1/966761.jpg  \n",
            "  inflating: images_training_rev1/966772.jpg  \n",
            "  inflating: images_training_rev1/966775.jpg  \n",
            "  inflating: images_training_rev1/966781.jpg  \n",
            "  inflating: images_training_rev1/966788.jpg  \n",
            "  inflating: images_training_rev1/966790.jpg  \n",
            "  inflating: images_training_rev1/966810.jpg  \n",
            "  inflating: images_training_rev1/966817.jpg  \n",
            "  inflating: images_training_rev1/966833.jpg  \n",
            "  inflating: images_training_rev1/966881.jpg  \n",
            "  inflating: images_training_rev1/966887.jpg  \n",
            "  inflating: images_training_rev1/966902.jpg  \n",
            "  inflating: images_training_rev1/966923.jpg  \n",
            "  inflating: images_training_rev1/966924.jpg  \n",
            "  inflating: images_training_rev1/966950.jpg  \n",
            "  inflating: images_training_rev1/966964.jpg  \n",
            "  inflating: images_training_rev1/966973.jpg  \n",
            "  inflating: images_training_rev1/966978.jpg  \n",
            "  inflating: images_training_rev1/966989.jpg  \n",
            "  inflating: images_training_rev1/967019.jpg  \n",
            "  inflating: images_training_rev1/967028.jpg  \n",
            "  inflating: images_training_rev1/967040.jpg  \n",
            "  inflating: images_training_rev1/967058.jpg  \n",
            "  inflating: images_training_rev1/967062.jpg  \n",
            "  inflating: images_training_rev1/967095.jpg  \n",
            "  inflating: images_training_rev1/967125.jpg  \n",
            "  inflating: images_training_rev1/967148.jpg  \n",
            "  inflating: images_training_rev1/967153.jpg  \n",
            "  inflating: images_training_rev1/967162.jpg  \n",
            "  inflating: images_training_rev1/967193.jpg  \n",
            "  inflating: images_training_rev1/967197.jpg  \n",
            "  inflating: images_training_rev1/967202.jpg  \n",
            "  inflating: images_training_rev1/967207.jpg  \n",
            "  inflating: images_training_rev1/967213.jpg  \n",
            "  inflating: images_training_rev1/967227.jpg  \n",
            "  inflating: images_training_rev1/967230.jpg  \n",
            "  inflating: images_training_rev1/967247.jpg  \n",
            "  inflating: images_training_rev1/967249.jpg  \n",
            "  inflating: images_training_rev1/967267.jpg  \n",
            "  inflating: images_training_rev1/967280.jpg  \n",
            "  inflating: images_training_rev1/967288.jpg  \n",
            "  inflating: images_training_rev1/967293.jpg  \n",
            "  inflating: images_training_rev1/967300.jpg  \n",
            "  inflating: images_training_rev1/967306.jpg  \n",
            "  inflating: images_training_rev1/967309.jpg  \n",
            "  inflating: images_training_rev1/967326.jpg  \n",
            "  inflating: images_training_rev1/967330.jpg  \n",
            "  inflating: images_training_rev1/967335.jpg  \n",
            "  inflating: images_training_rev1/967342.jpg  \n",
            "  inflating: images_training_rev1/967402.jpg  \n",
            "  inflating: images_training_rev1/967428.jpg  \n",
            "  inflating: images_training_rev1/967440.jpg  \n",
            "  inflating: images_training_rev1/967442.jpg  \n",
            "  inflating: images_training_rev1/967448.jpg  \n",
            "  inflating: images_training_rev1/967452.jpg  \n",
            "  inflating: images_training_rev1/967461.jpg  \n",
            "  inflating: images_training_rev1/967466.jpg  \n",
            "  inflating: images_training_rev1/967467.jpg  \n",
            "  inflating: images_training_rev1/967481.jpg  \n",
            "  inflating: images_training_rev1/967491.jpg  \n",
            "  inflating: images_training_rev1/967498.jpg  \n",
            "  inflating: images_training_rev1/967522.jpg  \n",
            "  inflating: images_training_rev1/967582.jpg  \n",
            "  inflating: images_training_rev1/967592.jpg  \n",
            "  inflating: images_training_rev1/967593.jpg  \n",
            "  inflating: images_training_rev1/967633.jpg  \n",
            "  inflating: images_training_rev1/967637.jpg  \n",
            "  inflating: images_training_rev1/967653.jpg  \n",
            "  inflating: images_training_rev1/967663.jpg  \n",
            "  inflating: images_training_rev1/967668.jpg  \n",
            "  inflating: images_training_rev1/967689.jpg  \n",
            "  inflating: images_training_rev1/967705.jpg  \n",
            "  inflating: images_training_rev1/967720.jpg  \n",
            "  inflating: images_training_rev1/967746.jpg  \n",
            "  inflating: images_training_rev1/967747.jpg  \n",
            "  inflating: images_training_rev1/967767.jpg  \n",
            "  inflating: images_training_rev1/967797.jpg  \n",
            "  inflating: images_training_rev1/967803.jpg  \n",
            "  inflating: images_training_rev1/967823.jpg  \n",
            "  inflating: images_training_rev1/967838.jpg  \n",
            "  inflating: images_training_rev1/967882.jpg  \n",
            "  inflating: images_training_rev1/967884.jpg  \n",
            "  inflating: images_training_rev1/967966.jpg  \n",
            "  inflating: images_training_rev1/967972.jpg  \n",
            "  inflating: images_training_rev1/967985.jpg  \n",
            "  inflating: images_training_rev1/968012.jpg  \n",
            "  inflating: images_training_rev1/968055.jpg  \n",
            "  inflating: images_training_rev1/968078.jpg  \n",
            "  inflating: images_training_rev1/968095.jpg  \n",
            "  inflating: images_training_rev1/968114.jpg  \n",
            "  inflating: images_training_rev1/968135.jpg  \n",
            "  inflating: images_training_rev1/968137.jpg  \n",
            "  inflating: images_training_rev1/968161.jpg  \n",
            "  inflating: images_training_rev1/968182.jpg  \n",
            "  inflating: images_training_rev1/968186.jpg  \n",
            "  inflating: images_training_rev1/968187.jpg  \n",
            "  inflating: images_training_rev1/968210.jpg  \n",
            "  inflating: images_training_rev1/968214.jpg  \n",
            "  inflating: images_training_rev1/968222.jpg  \n",
            "  inflating: images_training_rev1/968229.jpg  \n",
            "  inflating: images_training_rev1/968263.jpg  \n",
            "  inflating: images_training_rev1/968274.jpg  \n",
            "  inflating: images_training_rev1/968278.jpg  \n",
            "  inflating: images_training_rev1/968289.jpg  \n",
            "  inflating: images_training_rev1/968297.jpg  \n",
            "  inflating: images_training_rev1/968306.jpg  \n",
            "  inflating: images_training_rev1/968321.jpg  \n",
            "  inflating: images_training_rev1/968328.jpg  \n",
            "  inflating: images_training_rev1/968336.jpg  \n",
            "  inflating: images_training_rev1/968367.jpg  \n",
            "  inflating: images_training_rev1/968387.jpg  \n",
            "  inflating: images_training_rev1/968396.jpg  \n",
            "  inflating: images_training_rev1/968398.jpg  \n",
            "  inflating: images_training_rev1/968400.jpg  \n",
            "  inflating: images_training_rev1/968401.jpg  \n",
            "  inflating: images_training_rev1/968412.jpg  \n",
            "  inflating: images_training_rev1/968422.jpg  \n",
            "  inflating: images_training_rev1/968441.jpg  \n",
            "  inflating: images_training_rev1/968471.jpg  \n",
            "  inflating: images_training_rev1/968503.jpg  \n",
            "  inflating: images_training_rev1/968512.jpg  \n",
            "  inflating: images_training_rev1/968520.jpg  \n",
            "  inflating: images_training_rev1/968521.jpg  \n",
            "  inflating: images_training_rev1/968525.jpg  \n",
            "  inflating: images_training_rev1/968527.jpg  \n",
            "  inflating: images_training_rev1/968528.jpg  \n",
            "  inflating: images_training_rev1/968553.jpg  \n",
            "  inflating: images_training_rev1/968564.jpg  \n",
            "  inflating: images_training_rev1/968571.jpg  \n",
            "  inflating: images_training_rev1/968576.jpg  \n",
            "  inflating: images_training_rev1/968579.jpg  \n",
            "  inflating: images_training_rev1/968586.jpg  \n",
            "  inflating: images_training_rev1/968621.jpg  \n",
            "  inflating: images_training_rev1/968628.jpg  \n",
            "  inflating: images_training_rev1/968630.jpg  \n",
            "  inflating: images_training_rev1/968633.jpg  \n",
            "  inflating: images_training_rev1/968640.jpg  \n",
            "  inflating: images_training_rev1/968646.jpg  \n",
            "  inflating: images_training_rev1/968648.jpg  \n",
            "  inflating: images_training_rev1/968651.jpg  \n",
            "  inflating: images_training_rev1/968652.jpg  \n",
            "  inflating: images_training_rev1/968656.jpg  \n",
            "  inflating: images_training_rev1/968699.jpg  \n",
            "  inflating: images_training_rev1/968702.jpg  \n",
            "  inflating: images_training_rev1/968718.jpg  \n",
            "  inflating: images_training_rev1/968721.jpg  \n",
            "  inflating: images_training_rev1/968730.jpg  \n",
            "  inflating: images_training_rev1/968758.jpg  \n",
            "  inflating: images_training_rev1/968771.jpg  \n",
            "  inflating: images_training_rev1/968783.jpg  \n",
            "  inflating: images_training_rev1/968789.jpg  \n",
            "  inflating: images_training_rev1/968793.jpg  \n",
            "  inflating: images_training_rev1/968822.jpg  \n",
            "  inflating: images_training_rev1/968844.jpg  \n",
            "  inflating: images_training_rev1/968845.jpg  \n",
            "  inflating: images_training_rev1/968853.jpg  \n",
            "  inflating: images_training_rev1/968854.jpg  \n",
            "  inflating: images_training_rev1/968873.jpg  \n",
            "  inflating: images_training_rev1/968885.jpg  \n",
            "  inflating: images_training_rev1/968893.jpg  \n",
            "  inflating: images_training_rev1/968962.jpg  \n",
            "  inflating: images_training_rev1/968967.jpg  \n",
            "  inflating: images_training_rev1/968970.jpg  \n",
            "  inflating: images_training_rev1/968975.jpg  \n",
            "  inflating: images_training_rev1/968980.jpg  \n",
            "  inflating: images_training_rev1/968988.jpg  \n",
            "  inflating: images_training_rev1/969004.jpg  \n",
            "  inflating: images_training_rev1/969010.jpg  \n",
            "  inflating: images_training_rev1/969019.jpg  \n",
            "  inflating: images_training_rev1/969047.jpg  \n",
            "  inflating: images_training_rev1/969054.jpg  \n",
            "  inflating: images_training_rev1/969066.jpg  \n",
            "  inflating: images_training_rev1/969070.jpg  \n",
            "  inflating: images_training_rev1/969071.jpg  \n",
            "  inflating: images_training_rev1/969112.jpg  \n",
            "  inflating: images_training_rev1/969129.jpg  \n",
            "  inflating: images_training_rev1/969139.jpg  \n",
            "  inflating: images_training_rev1/969149.jpg  \n",
            "  inflating: images_training_rev1/969162.jpg  \n",
            "  inflating: images_training_rev1/969179.jpg  \n",
            "  inflating: images_training_rev1/969230.jpg  \n",
            "  inflating: images_training_rev1/969232.jpg  \n",
            "  inflating: images_training_rev1/969238.jpg  \n",
            "  inflating: images_training_rev1/969245.jpg  \n",
            "  inflating: images_training_rev1/969249.jpg  \n",
            "  inflating: images_training_rev1/969251.jpg  \n",
            "  inflating: images_training_rev1/969262.jpg  \n",
            "  inflating: images_training_rev1/969297.jpg  \n",
            "  inflating: images_training_rev1/969315.jpg  \n",
            "  inflating: images_training_rev1/969329.jpg  \n",
            "  inflating: images_training_rev1/969338.jpg  \n",
            "  inflating: images_training_rev1/969347.jpg  \n",
            "  inflating: images_training_rev1/969358.jpg  \n",
            "  inflating: images_training_rev1/969366.jpg  \n",
            "  inflating: images_training_rev1/969376.jpg  \n",
            "  inflating: images_training_rev1/969385.jpg  \n",
            "  inflating: images_training_rev1/969390.jpg  \n",
            "  inflating: images_training_rev1/969418.jpg  \n",
            "  inflating: images_training_rev1/969451.jpg  \n",
            "  inflating: images_training_rev1/969455.jpg  \n",
            "  inflating: images_training_rev1/969480.jpg  \n",
            "  inflating: images_training_rev1/969528.jpg  \n",
            "  inflating: images_training_rev1/969530.jpg  \n",
            "  inflating: images_training_rev1/969580.jpg  \n",
            "  inflating: images_training_rev1/969614.jpg  \n",
            "  inflating: images_training_rev1/969616.jpg  \n",
            "  inflating: images_training_rev1/969630.jpg  \n",
            "  inflating: images_training_rev1/969631.jpg  \n",
            "  inflating: images_training_rev1/969634.jpg  \n",
            "  inflating: images_training_rev1/969645.jpg  \n",
            "  inflating: images_training_rev1/969682.jpg  \n",
            "  inflating: images_training_rev1/969697.jpg  \n",
            "  inflating: images_training_rev1/969703.jpg  \n",
            "  inflating: images_training_rev1/969720.jpg  \n",
            "  inflating: images_training_rev1/969724.jpg  \n",
            "  inflating: images_training_rev1/969744.jpg  \n",
            "  inflating: images_training_rev1/969747.jpg  \n",
            "  inflating: images_training_rev1/969748.jpg  \n",
            "  inflating: images_training_rev1/969764.jpg  \n",
            "  inflating: images_training_rev1/969769.jpg  \n",
            "  inflating: images_training_rev1/969770.jpg  \n",
            "  inflating: images_training_rev1/969800.jpg  \n",
            "  inflating: images_training_rev1/969828.jpg  \n",
            "  inflating: images_training_rev1/969831.jpg  \n",
            "  inflating: images_training_rev1/969856.jpg  \n",
            "  inflating: images_training_rev1/969868.jpg  \n",
            "  inflating: images_training_rev1/969876.jpg  \n",
            "  inflating: images_training_rev1/969892.jpg  \n",
            "  inflating: images_training_rev1/969908.jpg  \n",
            "  inflating: images_training_rev1/969931.jpg  \n",
            "  inflating: images_training_rev1/969938.jpg  \n",
            "  inflating: images_training_rev1/969947.jpg  \n",
            "  inflating: images_training_rev1/969977.jpg  \n",
            "  inflating: images_training_rev1/969981.jpg  \n",
            "  inflating: images_training_rev1/969991.jpg  \n",
            "  inflating: images_training_rev1/969992.jpg  \n",
            "  inflating: images_training_rev1/970004.jpg  \n",
            "  inflating: images_training_rev1/970014.jpg  \n",
            "  inflating: images_training_rev1/970034.jpg  \n",
            "  inflating: images_training_rev1/970046.jpg  \n",
            "  inflating: images_training_rev1/970050.jpg  \n",
            "  inflating: images_training_rev1/970055.jpg  \n",
            "  inflating: images_training_rev1/970075.jpg  \n",
            "  inflating: images_training_rev1/970092.jpg  \n",
            "  inflating: images_training_rev1/970110.jpg  \n",
            "  inflating: images_training_rev1/970116.jpg  \n",
            "  inflating: images_training_rev1/970126.jpg  \n",
            "  inflating: images_training_rev1/970203.jpg  \n",
            "  inflating: images_training_rev1/970215.jpg  \n",
            "  inflating: images_training_rev1/970216.jpg  \n",
            "  inflating: images_training_rev1/970225.jpg  \n",
            "  inflating: images_training_rev1/970242.jpg  \n",
            "  inflating: images_training_rev1/970244.jpg  \n",
            "  inflating: images_training_rev1/970247.jpg  \n",
            "  inflating: images_training_rev1/970256.jpg  \n",
            "  inflating: images_training_rev1/970268.jpg  \n",
            "  inflating: images_training_rev1/970277.jpg  \n",
            "  inflating: images_training_rev1/970291.jpg  \n",
            "  inflating: images_training_rev1/970294.jpg  \n",
            "  inflating: images_training_rev1/970305.jpg  \n",
            "  inflating: images_training_rev1/970306.jpg  \n",
            "  inflating: images_training_rev1/970317.jpg  \n",
            "  inflating: images_training_rev1/970327.jpg  \n",
            "  inflating: images_training_rev1/970328.jpg  \n",
            "  inflating: images_training_rev1/970354.jpg  \n",
            "  inflating: images_training_rev1/970365.jpg  \n",
            "  inflating: images_training_rev1/970374.jpg  \n",
            "  inflating: images_training_rev1/970381.jpg  \n",
            "  inflating: images_training_rev1/970389.jpg  \n",
            "  inflating: images_training_rev1/970390.jpg  \n",
            "  inflating: images_training_rev1/970398.jpg  \n",
            "  inflating: images_training_rev1/970416.jpg  \n",
            "  inflating: images_training_rev1/970423.jpg  \n",
            "  inflating: images_training_rev1/970438.jpg  \n",
            "  inflating: images_training_rev1/970448.jpg  \n",
            "  inflating: images_training_rev1/970474.jpg  \n",
            "  inflating: images_training_rev1/970507.jpg  \n",
            "  inflating: images_training_rev1/970529.jpg  \n",
            "  inflating: images_training_rev1/970533.jpg  \n",
            "  inflating: images_training_rev1/970545.jpg  \n",
            "  inflating: images_training_rev1/970550.jpg  \n",
            "  inflating: images_training_rev1/970584.jpg  \n",
            "  inflating: images_training_rev1/970625.jpg  \n",
            "  inflating: images_training_rev1/970633.jpg  \n",
            "  inflating: images_training_rev1/970642.jpg  \n",
            "  inflating: images_training_rev1/970686.jpg  \n",
            "  inflating: images_training_rev1/970688.jpg  \n",
            "  inflating: images_training_rev1/970723.jpg  \n",
            "  inflating: images_training_rev1/970725.jpg  \n",
            "  inflating: images_training_rev1/970737.jpg  \n",
            "  inflating: images_training_rev1/970782.jpg  \n",
            "  inflating: images_training_rev1/970798.jpg  \n",
            "  inflating: images_training_rev1/970825.jpg  \n",
            "  inflating: images_training_rev1/970837.jpg  \n",
            "  inflating: images_training_rev1/970839.jpg  \n",
            "  inflating: images_training_rev1/970879.jpg  \n",
            "  inflating: images_training_rev1/970883.jpg  \n",
            "  inflating: images_training_rev1/970888.jpg  \n",
            "  inflating: images_training_rev1/970901.jpg  \n",
            "  inflating: images_training_rev1/970926.jpg  \n",
            "  inflating: images_training_rev1/970929.jpg  \n",
            "  inflating: images_training_rev1/970930.jpg  \n",
            "  inflating: images_training_rev1/970968.jpg  \n",
            "  inflating: images_training_rev1/970981.jpg  \n",
            "  inflating: images_training_rev1/970997.jpg  \n",
            "  inflating: images_training_rev1/971074.jpg  \n",
            "  inflating: images_training_rev1/971089.jpg  \n",
            "  inflating: images_training_rev1/971092.jpg  \n",
            "  inflating: images_training_rev1/971093.jpg  \n",
            "  inflating: images_training_rev1/971096.jpg  \n",
            "  inflating: images_training_rev1/971107.jpg  \n",
            "  inflating: images_training_rev1/971114.jpg  \n",
            "  inflating: images_training_rev1/971128.jpg  \n",
            "  inflating: images_training_rev1/971144.jpg  \n",
            "  inflating: images_training_rev1/971146.jpg  \n",
            "  inflating: images_training_rev1/971161.jpg  \n",
            "  inflating: images_training_rev1/971170.jpg  \n",
            "  inflating: images_training_rev1/971181.jpg  \n",
            "  inflating: images_training_rev1/971187.jpg  \n",
            "  inflating: images_training_rev1/971255.jpg  \n",
            "  inflating: images_training_rev1/971275.jpg  \n",
            "  inflating: images_training_rev1/971283.jpg  \n",
            "  inflating: images_training_rev1/971286.jpg  \n",
            "  inflating: images_training_rev1/971300.jpg  \n",
            "  inflating: images_training_rev1/971303.jpg  \n",
            "  inflating: images_training_rev1/971307.jpg  \n",
            "  inflating: images_training_rev1/971308.jpg  \n",
            "  inflating: images_training_rev1/971340.jpg  \n",
            "  inflating: images_training_rev1/971346.jpg  \n",
            "  inflating: images_training_rev1/971371.jpg  \n",
            "  inflating: images_training_rev1/971378.jpg  \n",
            "  inflating: images_training_rev1/971392.jpg  \n",
            "  inflating: images_training_rev1/971402.jpg  \n",
            "  inflating: images_training_rev1/971442.jpg  \n",
            "  inflating: images_training_rev1/971461.jpg  \n",
            "  inflating: images_training_rev1/971465.jpg  \n",
            "  inflating: images_training_rev1/971480.jpg  \n",
            "  inflating: images_training_rev1/971508.jpg  \n",
            "  inflating: images_training_rev1/971544.jpg  \n",
            "  inflating: images_training_rev1/971569.jpg  \n",
            "  inflating: images_training_rev1/971571.jpg  \n",
            "  inflating: images_training_rev1/971598.jpg  \n",
            "  inflating: images_training_rev1/971603.jpg  \n",
            "  inflating: images_training_rev1/971622.jpg  \n",
            "  inflating: images_training_rev1/971625.jpg  \n",
            "  inflating: images_training_rev1/971634.jpg  \n",
            "  inflating: images_training_rev1/971672.jpg  \n",
            "  inflating: images_training_rev1/971675.jpg  \n",
            "  inflating: images_training_rev1/971705.jpg  \n",
            "  inflating: images_training_rev1/971714.jpg  \n",
            "  inflating: images_training_rev1/971732.jpg  \n",
            "  inflating: images_training_rev1/971738.jpg  \n",
            "  inflating: images_training_rev1/971744.jpg  \n",
            "  inflating: images_training_rev1/971746.jpg  \n",
            "  inflating: images_training_rev1/971749.jpg  \n",
            "  inflating: images_training_rev1/971757.jpg  \n",
            "  inflating: images_training_rev1/971762.jpg  \n",
            "  inflating: images_training_rev1/971783.jpg  \n",
            "  inflating: images_training_rev1/971791.jpg  \n",
            "  inflating: images_training_rev1/971793.jpg  \n",
            "  inflating: images_training_rev1/971852.jpg  \n",
            "  inflating: images_training_rev1/971854.jpg  \n",
            "  inflating: images_training_rev1/971859.jpg  \n",
            "  inflating: images_training_rev1/971865.jpg  \n",
            "  inflating: images_training_rev1/971919.jpg  \n",
            "  inflating: images_training_rev1/971926.jpg  \n",
            "  inflating: images_training_rev1/971969.jpg  \n",
            "  inflating: images_training_rev1/971971.jpg  \n",
            "  inflating: images_training_rev1/971991.jpg  \n",
            "  inflating: images_training_rev1/971995.jpg  \n",
            "  inflating: images_training_rev1/971996.jpg  \n",
            "  inflating: images_training_rev1/972012.jpg  \n",
            "  inflating: images_training_rev1/972014.jpg  \n",
            "  inflating: images_training_rev1/972053.jpg  \n",
            "  inflating: images_training_rev1/972077.jpg  \n",
            "  inflating: images_training_rev1/972086.jpg  \n",
            "  inflating: images_training_rev1/972100.jpg  \n",
            "  inflating: images_training_rev1/972109.jpg  \n",
            "  inflating: images_training_rev1/972120.jpg  \n",
            "  inflating: images_training_rev1/972132.jpg  \n",
            "  inflating: images_training_rev1/972140.jpg  \n",
            "  inflating: images_training_rev1/972148.jpg  \n",
            "  inflating: images_training_rev1/972191.jpg  \n",
            "  inflating: images_training_rev1/972195.jpg  \n",
            "  inflating: images_training_rev1/972257.jpg  \n",
            "  inflating: images_training_rev1/972267.jpg  \n",
            "  inflating: images_training_rev1/972290.jpg  \n",
            "  inflating: images_training_rev1/972293.jpg  \n",
            "  inflating: images_training_rev1/972301.jpg  \n",
            "  inflating: images_training_rev1/972308.jpg  \n",
            "  inflating: images_training_rev1/972309.jpg  \n",
            "  inflating: images_training_rev1/972323.jpg  \n",
            "  inflating: images_training_rev1/972358.jpg  \n",
            "  inflating: images_training_rev1/972381.jpg  \n",
            "  inflating: images_training_rev1/972383.jpg  \n",
            "  inflating: images_training_rev1/972470.jpg  \n",
            "  inflating: images_training_rev1/972472.jpg  \n",
            "  inflating: images_training_rev1/972473.jpg  \n",
            "  inflating: images_training_rev1/972504.jpg  \n",
            "  inflating: images_training_rev1/972510.jpg  \n",
            "  inflating: images_training_rev1/972550.jpg  \n",
            "  inflating: images_training_rev1/972556.jpg  \n",
            "  inflating: images_training_rev1/972560.jpg  \n",
            "  inflating: images_training_rev1/972569.jpg  \n",
            "  inflating: images_training_rev1/972584.jpg  \n",
            "  inflating: images_training_rev1/972616.jpg  \n",
            "  inflating: images_training_rev1/972618.jpg  \n",
            "  inflating: images_training_rev1/972634.jpg  \n",
            "  inflating: images_training_rev1/972656.jpg  \n",
            "  inflating: images_training_rev1/972658.jpg  \n",
            "  inflating: images_training_rev1/972670.jpg  \n",
            "  inflating: images_training_rev1/972725.jpg  \n",
            "  inflating: images_training_rev1/972727.jpg  \n",
            "  inflating: images_training_rev1/972736.jpg  \n",
            "  inflating: images_training_rev1/972744.jpg  \n",
            "  inflating: images_training_rev1/972746.jpg  \n",
            "  inflating: images_training_rev1/972769.jpg  \n",
            "  inflating: images_training_rev1/972793.jpg  \n",
            "  inflating: images_training_rev1/972815.jpg  \n",
            "  inflating: images_training_rev1/972824.jpg  \n",
            "  inflating: images_training_rev1/972826.jpg  \n",
            "  inflating: images_training_rev1/972839.jpg  \n",
            "  inflating: images_training_rev1/972877.jpg  \n",
            "  inflating: images_training_rev1/972925.jpg  \n",
            "  inflating: images_training_rev1/972926.jpg  \n",
            "  inflating: images_training_rev1/972974.jpg  \n",
            "  inflating: images_training_rev1/972981.jpg  \n",
            "  inflating: images_training_rev1/973036.jpg  \n",
            "  inflating: images_training_rev1/973046.jpg  \n",
            "  inflating: images_training_rev1/973054.jpg  \n",
            "  inflating: images_training_rev1/973066.jpg  \n",
            "  inflating: images_training_rev1/973102.jpg  \n",
            "  inflating: images_training_rev1/973104.jpg  \n",
            "  inflating: images_training_rev1/973127.jpg  \n",
            "  inflating: images_training_rev1/973168.jpg  \n",
            "  inflating: images_training_rev1/973207.jpg  \n",
            "  inflating: images_training_rev1/973244.jpg  \n",
            "  inflating: images_training_rev1/973252.jpg  \n",
            "  inflating: images_training_rev1/973265.jpg  \n",
            "  inflating: images_training_rev1/973266.jpg  \n",
            "  inflating: images_training_rev1/973312.jpg  \n",
            "  inflating: images_training_rev1/973325.jpg  \n",
            "  inflating: images_training_rev1/973334.jpg  \n",
            "  inflating: images_training_rev1/973362.jpg  \n",
            "  inflating: images_training_rev1/973368.jpg  \n",
            "  inflating: images_training_rev1/973380.jpg  \n",
            "  inflating: images_training_rev1/973389.jpg  \n",
            "  inflating: images_training_rev1/973401.jpg  \n",
            "  inflating: images_training_rev1/973412.jpg  \n",
            "  inflating: images_training_rev1/973459.jpg  \n",
            "  inflating: images_training_rev1/973460.jpg  \n",
            "  inflating: images_training_rev1/973504.jpg  \n",
            "  inflating: images_training_rev1/973543.jpg  \n",
            "  inflating: images_training_rev1/973562.jpg  \n",
            "  inflating: images_training_rev1/973565.jpg  \n",
            "  inflating: images_training_rev1/973602.jpg  \n",
            "  inflating: images_training_rev1/973618.jpg  \n",
            "  inflating: images_training_rev1/973654.jpg  \n",
            "  inflating: images_training_rev1/973675.jpg  \n",
            "  inflating: images_training_rev1/973680.jpg  \n",
            "  inflating: images_training_rev1/973694.jpg  \n",
            "  inflating: images_training_rev1/973707.jpg  \n",
            "  inflating: images_training_rev1/973772.jpg  \n",
            "  inflating: images_training_rev1/973781.jpg  \n",
            "  inflating: images_training_rev1/973787.jpg  \n",
            "  inflating: images_training_rev1/973804.jpg  \n",
            "  inflating: images_training_rev1/973817.jpg  \n",
            "  inflating: images_training_rev1/973819.jpg  \n",
            "  inflating: images_training_rev1/973835.jpg  \n",
            "  inflating: images_training_rev1/973841.jpg  \n",
            "  inflating: images_training_rev1/973875.jpg  \n",
            "  inflating: images_training_rev1/973889.jpg  \n",
            "  inflating: images_training_rev1/973931.jpg  \n",
            "  inflating: images_training_rev1/973939.jpg  \n",
            "  inflating: images_training_rev1/973952.jpg  \n",
            "  inflating: images_training_rev1/973954.jpg  \n",
            "  inflating: images_training_rev1/973958.jpg  \n",
            "  inflating: images_training_rev1/973998.jpg  \n",
            "  inflating: images_training_rev1/973999.jpg  \n",
            "  inflating: images_training_rev1/974009.jpg  \n",
            "  inflating: images_training_rev1/974010.jpg  \n",
            "  inflating: images_training_rev1/974023.jpg  \n",
            "  inflating: images_training_rev1/974049.jpg  \n",
            "  inflating: images_training_rev1/974050.jpg  \n",
            "  inflating: images_training_rev1/974058.jpg  \n",
            "  inflating: images_training_rev1/974059.jpg  \n",
            "  inflating: images_training_rev1/974064.jpg  \n",
            "  inflating: images_training_rev1/974069.jpg  \n",
            "  inflating: images_training_rev1/974070.jpg  \n",
            "  inflating: images_training_rev1/974076.jpg  \n",
            "  inflating: images_training_rev1/974077.jpg  \n",
            "  inflating: images_training_rev1/974102.jpg  \n",
            "  inflating: images_training_rev1/974120.jpg  \n",
            "  inflating: images_training_rev1/974122.jpg  \n",
            "  inflating: images_training_rev1/974146.jpg  \n",
            "  inflating: images_training_rev1/974156.jpg  \n",
            "  inflating: images_training_rev1/974163.jpg  \n",
            "  inflating: images_training_rev1/974164.jpg  \n",
            "  inflating: images_training_rev1/974182.jpg  \n",
            "  inflating: images_training_rev1/974184.jpg  \n",
            "  inflating: images_training_rev1/974209.jpg  \n",
            "  inflating: images_training_rev1/974217.jpg  \n",
            "  inflating: images_training_rev1/974238.jpg  \n",
            "  inflating: images_training_rev1/974250.jpg  \n",
            "  inflating: images_training_rev1/974263.jpg  \n",
            "  inflating: images_training_rev1/974279.jpg  \n",
            "  inflating: images_training_rev1/974283.jpg  \n",
            "  inflating: images_training_rev1/974286.jpg  \n",
            "  inflating: images_training_rev1/974290.jpg  \n",
            "  inflating: images_training_rev1/974313.jpg  \n",
            "  inflating: images_training_rev1/974326.jpg  \n",
            "  inflating: images_training_rev1/974342.jpg  \n",
            "  inflating: images_training_rev1/974348.jpg  \n",
            "  inflating: images_training_rev1/974365.jpg  \n",
            "  inflating: images_training_rev1/974374.jpg  \n",
            "  inflating: images_training_rev1/974390.jpg  \n",
            "  inflating: images_training_rev1/974400.jpg  \n",
            "  inflating: images_training_rev1/974427.jpg  \n",
            "  inflating: images_training_rev1/974438.jpg  \n",
            "  inflating: images_training_rev1/974446.jpg  \n",
            "  inflating: images_training_rev1/974458.jpg  \n",
            "  inflating: images_training_rev1/974476.jpg  \n",
            "  inflating: images_training_rev1/974517.jpg  \n",
            "  inflating: images_training_rev1/974522.jpg  \n",
            "  inflating: images_training_rev1/974599.jpg  \n",
            "  inflating: images_training_rev1/974606.jpg  \n",
            "  inflating: images_training_rev1/974610.jpg  \n",
            "  inflating: images_training_rev1/974619.jpg  \n",
            "  inflating: images_training_rev1/974623.jpg  \n",
            "  inflating: images_training_rev1/974638.jpg  \n",
            "  inflating: images_training_rev1/974674.jpg  \n",
            "  inflating: images_training_rev1/974685.jpg  \n",
            "  inflating: images_training_rev1/974702.jpg  \n",
            "  inflating: images_training_rev1/974740.jpg  \n",
            "  inflating: images_training_rev1/974741.jpg  \n",
            "  inflating: images_training_rev1/974745.jpg  \n",
            "  inflating: images_training_rev1/974746.jpg  \n",
            "  inflating: images_training_rev1/974749.jpg  \n",
            "  inflating: images_training_rev1/974750.jpg  \n",
            "  inflating: images_training_rev1/974767.jpg  \n",
            "  inflating: images_training_rev1/974779.jpg  \n",
            "  inflating: images_training_rev1/974787.jpg  \n",
            "  inflating: images_training_rev1/974800.jpg  \n",
            "  inflating: images_training_rev1/974801.jpg  \n",
            "  inflating: images_training_rev1/974831.jpg  \n",
            "  inflating: images_training_rev1/974883.jpg  \n",
            "  inflating: images_training_rev1/974902.jpg  \n",
            "  inflating: images_training_rev1/974918.jpg  \n",
            "  inflating: images_training_rev1/974945.jpg  \n",
            "  inflating: images_training_rev1/974958.jpg  \n",
            "  inflating: images_training_rev1/974974.jpg  \n",
            "  inflating: images_training_rev1/974982.jpg  \n",
            "  inflating: images_training_rev1/974995.jpg  \n",
            "  inflating: images_training_rev1/975001.jpg  \n",
            "  inflating: images_training_rev1/975003.jpg  \n",
            "  inflating: images_training_rev1/975036.jpg  \n",
            "  inflating: images_training_rev1/975039.jpg  \n",
            "  inflating: images_training_rev1/975050.jpg  \n",
            "  inflating: images_training_rev1/975055.jpg  \n",
            "  inflating: images_training_rev1/975062.jpg  \n",
            "  inflating: images_training_rev1/975075.jpg  \n",
            "  inflating: images_training_rev1/975080.jpg  \n",
            "  inflating: images_training_rev1/975127.jpg  \n",
            "  inflating: images_training_rev1/975169.jpg  \n",
            "  inflating: images_training_rev1/975191.jpg  \n",
            "  inflating: images_training_rev1/975203.jpg  \n",
            "  inflating: images_training_rev1/975207.jpg  \n",
            "  inflating: images_training_rev1/975209.jpg  \n",
            "  inflating: images_training_rev1/975214.jpg  \n",
            "  inflating: images_training_rev1/975262.jpg  \n",
            "  inflating: images_training_rev1/975292.jpg  \n",
            "  inflating: images_training_rev1/975297.jpg  \n",
            "  inflating: images_training_rev1/975314.jpg  \n",
            "  inflating: images_training_rev1/975352.jpg  \n",
            "  inflating: images_training_rev1/975379.jpg  \n",
            "  inflating: images_training_rev1/975392.jpg  \n",
            "  inflating: images_training_rev1/975441.jpg  \n",
            "  inflating: images_training_rev1/975444.jpg  \n",
            "  inflating: images_training_rev1/975455.jpg  \n",
            "  inflating: images_training_rev1/975466.jpg  \n",
            "  inflating: images_training_rev1/975467.jpg  \n",
            "  inflating: images_training_rev1/975479.jpg  \n",
            "  inflating: images_training_rev1/975491.jpg  \n",
            "  inflating: images_training_rev1/975524.jpg  \n",
            "  inflating: images_training_rev1/975529.jpg  \n",
            "  inflating: images_training_rev1/975552.jpg  \n",
            "  inflating: images_training_rev1/975555.jpg  \n",
            "  inflating: images_training_rev1/975559.jpg  \n",
            "  inflating: images_training_rev1/975575.jpg  \n",
            "  inflating: images_training_rev1/975586.jpg  \n",
            "  inflating: images_training_rev1/975589.jpg  \n",
            "  inflating: images_training_rev1/975593.jpg  \n",
            "  inflating: images_training_rev1/975595.jpg  \n",
            "  inflating: images_training_rev1/975597.jpg  \n",
            "  inflating: images_training_rev1/975615.jpg  \n",
            "  inflating: images_training_rev1/975621.jpg  \n",
            "  inflating: images_training_rev1/975645.jpg  \n",
            "  inflating: images_training_rev1/975654.jpg  \n",
            "  inflating: images_training_rev1/975666.jpg  \n",
            "  inflating: images_training_rev1/975686.jpg  \n",
            "  inflating: images_training_rev1/975688.jpg  \n",
            "  inflating: images_training_rev1/975689.jpg  \n",
            "  inflating: images_training_rev1/975692.jpg  \n",
            "  inflating: images_training_rev1/975729.jpg  \n",
            "  inflating: images_training_rev1/975757.jpg  \n",
            "  inflating: images_training_rev1/975765.jpg  \n",
            "  inflating: images_training_rev1/975771.jpg  \n",
            "  inflating: images_training_rev1/975784.jpg  \n",
            "  inflating: images_training_rev1/975797.jpg  \n",
            "  inflating: images_training_rev1/975815.jpg  \n",
            "  inflating: images_training_rev1/975828.jpg  \n",
            "  inflating: images_training_rev1/975835.jpg  \n",
            "  inflating: images_training_rev1/975836.jpg  \n",
            "  inflating: images_training_rev1/975894.jpg  \n",
            "  inflating: images_training_rev1/975895.jpg  \n",
            "  inflating: images_training_rev1/975898.jpg  \n",
            "  inflating: images_training_rev1/975919.jpg  \n",
            "  inflating: images_training_rev1/975937.jpg  \n",
            "  inflating: images_training_rev1/975953.jpg  \n",
            "  inflating: images_training_rev1/975974.jpg  \n",
            "  inflating: images_training_rev1/976023.jpg  \n",
            "  inflating: images_training_rev1/976058.jpg  \n",
            "  inflating: images_training_rev1/976059.jpg  \n",
            "  inflating: images_training_rev1/976085.jpg  \n",
            "  inflating: images_training_rev1/976108.jpg  \n",
            "  inflating: images_training_rev1/976118.jpg  \n",
            "  inflating: images_training_rev1/976125.jpg  \n",
            "  inflating: images_training_rev1/976160.jpg  \n",
            "  inflating: images_training_rev1/976164.jpg  \n",
            "  inflating: images_training_rev1/976185.jpg  \n",
            "  inflating: images_training_rev1/976188.jpg  \n",
            "  inflating: images_training_rev1/976191.jpg  \n",
            "  inflating: images_training_rev1/976206.jpg  \n",
            "  inflating: images_training_rev1/976231.jpg  \n",
            "  inflating: images_training_rev1/976251.jpg  \n",
            "  inflating: images_training_rev1/976255.jpg  \n",
            "  inflating: images_training_rev1/976257.jpg  \n",
            "  inflating: images_training_rev1/976279.jpg  \n",
            "  inflating: images_training_rev1/976287.jpg  \n",
            "  inflating: images_training_rev1/976305.jpg  \n",
            "  inflating: images_training_rev1/976358.jpg  \n",
            "  inflating: images_training_rev1/976426.jpg  \n",
            "  inflating: images_training_rev1/976441.jpg  \n",
            "  inflating: images_training_rev1/976458.jpg  \n",
            "  inflating: images_training_rev1/976464.jpg  \n",
            "  inflating: images_training_rev1/976480.jpg  \n",
            "  inflating: images_training_rev1/976502.jpg  \n",
            "  inflating: images_training_rev1/976518.jpg  \n",
            "  inflating: images_training_rev1/976527.jpg  \n",
            "  inflating: images_training_rev1/976534.jpg  \n",
            "  inflating: images_training_rev1/976541.jpg  \n",
            "  inflating: images_training_rev1/976551.jpg  \n",
            "  inflating: images_training_rev1/976565.jpg  \n",
            "  inflating: images_training_rev1/976566.jpg  \n",
            "  inflating: images_training_rev1/976571.jpg  \n",
            "  inflating: images_training_rev1/976602.jpg  \n",
            "  inflating: images_training_rev1/976607.jpg  \n",
            "  inflating: images_training_rev1/976620.jpg  \n",
            "  inflating: images_training_rev1/976623.jpg  \n",
            "  inflating: images_training_rev1/976632.jpg  \n",
            "  inflating: images_training_rev1/976634.jpg  \n",
            "  inflating: images_training_rev1/976637.jpg  \n",
            "  inflating: images_training_rev1/976669.jpg  \n",
            "  inflating: images_training_rev1/976672.jpg  \n",
            "  inflating: images_training_rev1/976703.jpg  \n",
            "  inflating: images_training_rev1/976707.jpg  \n",
            "  inflating: images_training_rev1/976713.jpg  \n",
            "  inflating: images_training_rev1/976725.jpg  \n",
            "  inflating: images_training_rev1/976758.jpg  \n",
            "  inflating: images_training_rev1/976759.jpg  \n",
            "  inflating: images_training_rev1/976763.jpg  \n",
            "  inflating: images_training_rev1/976767.jpg  \n",
            "  inflating: images_training_rev1/976769.jpg  \n",
            "  inflating: images_training_rev1/976793.jpg  \n",
            "  inflating: images_training_rev1/976794.jpg  \n",
            "  inflating: images_training_rev1/976809.jpg  \n",
            "  inflating: images_training_rev1/976822.jpg  \n",
            "  inflating: images_training_rev1/976829.jpg  \n",
            "  inflating: images_training_rev1/976847.jpg  \n",
            "  inflating: images_training_rev1/976855.jpg  \n",
            "  inflating: images_training_rev1/976858.jpg  \n",
            "  inflating: images_training_rev1/976866.jpg  \n",
            "  inflating: images_training_rev1/976884.jpg  \n",
            "  inflating: images_training_rev1/976885.jpg  \n",
            "  inflating: images_training_rev1/976898.jpg  \n",
            "  inflating: images_training_rev1/976902.jpg  \n",
            "  inflating: images_training_rev1/976917.jpg  \n",
            "  inflating: images_training_rev1/976951.jpg  \n",
            "  inflating: images_training_rev1/976957.jpg  \n",
            "  inflating: images_training_rev1/976983.jpg  \n",
            "  inflating: images_training_rev1/976994.jpg  \n",
            "  inflating: images_training_rev1/977000.jpg  \n",
            "  inflating: images_training_rev1/977011.jpg  \n",
            "  inflating: images_training_rev1/977030.jpg  \n",
            "  inflating: images_training_rev1/977034.jpg  \n",
            "  inflating: images_training_rev1/977054.jpg  \n",
            "  inflating: images_training_rev1/977084.jpg  \n",
            "  inflating: images_training_rev1/977126.jpg  \n",
            "  inflating: images_training_rev1/977151.jpg  \n",
            "  inflating: images_training_rev1/977158.jpg  \n",
            "  inflating: images_training_rev1/977178.jpg  \n",
            "  inflating: images_training_rev1/977181.jpg  \n",
            "  inflating: images_training_rev1/977195.jpg  \n",
            "  inflating: images_training_rev1/977221.jpg  \n",
            "  inflating: images_training_rev1/977234.jpg  \n",
            "  inflating: images_training_rev1/977267.jpg  \n",
            "  inflating: images_training_rev1/977313.jpg  \n",
            "  inflating: images_training_rev1/977331.jpg  \n",
            "  inflating: images_training_rev1/977348.jpg  \n",
            "  inflating: images_training_rev1/977430.jpg  \n",
            "  inflating: images_training_rev1/977431.jpg  \n",
            "  inflating: images_training_rev1/977444.jpg  \n",
            "  inflating: images_training_rev1/977470.jpg  \n",
            "  inflating: images_training_rev1/977484.jpg  \n",
            "  inflating: images_training_rev1/977486.jpg  \n",
            "  inflating: images_training_rev1/977487.jpg  \n",
            "  inflating: images_training_rev1/977491.jpg  \n",
            "  inflating: images_training_rev1/977496.jpg  \n",
            "  inflating: images_training_rev1/977500.jpg  \n",
            "  inflating: images_training_rev1/977523.jpg  \n",
            "  inflating: images_training_rev1/977545.jpg  \n",
            "  inflating: images_training_rev1/977553.jpg  \n",
            "  inflating: images_training_rev1/977558.jpg  \n",
            "  inflating: images_training_rev1/977559.jpg  \n",
            "  inflating: images_training_rev1/977579.jpg  \n",
            "  inflating: images_training_rev1/977580.jpg  \n",
            "  inflating: images_training_rev1/977583.jpg  \n",
            "  inflating: images_training_rev1/977623.jpg  \n",
            "  inflating: images_training_rev1/977632.jpg  \n",
            "  inflating: images_training_rev1/977644.jpg  \n",
            "  inflating: images_training_rev1/977655.jpg  \n",
            "  inflating: images_training_rev1/977663.jpg  \n",
            "  inflating: images_training_rev1/977664.jpg  \n",
            "  inflating: images_training_rev1/977675.jpg  \n",
            "  inflating: images_training_rev1/977750.jpg  \n",
            "  inflating: images_training_rev1/977774.jpg  \n",
            "  inflating: images_training_rev1/977791.jpg  \n",
            "  inflating: images_training_rev1/977815.jpg  \n",
            "  inflating: images_training_rev1/977822.jpg  \n",
            "  inflating: images_training_rev1/977840.jpg  \n",
            "  inflating: images_training_rev1/977847.jpg  \n",
            "  inflating: images_training_rev1/977862.jpg  \n",
            "  inflating: images_training_rev1/977876.jpg  \n",
            "  inflating: images_training_rev1/977885.jpg  \n",
            "  inflating: images_training_rev1/977911.jpg  \n",
            "  inflating: images_training_rev1/977919.jpg  \n",
            "  inflating: images_training_rev1/977935.jpg  \n",
            "  inflating: images_training_rev1/977959.jpg  \n",
            "  inflating: images_training_rev1/977967.jpg  \n",
            "  inflating: images_training_rev1/978004.jpg  \n",
            "  inflating: images_training_rev1/978012.jpg  \n",
            "  inflating: images_training_rev1/978047.jpg  \n",
            "  inflating: images_training_rev1/978049.jpg  \n",
            "  inflating: images_training_rev1/978063.jpg  \n",
            "  inflating: images_training_rev1/978095.jpg  \n",
            "  inflating: images_training_rev1/978120.jpg  \n",
            "  inflating: images_training_rev1/978122.jpg  \n",
            "  inflating: images_training_rev1/978139.jpg  \n",
            "  inflating: images_training_rev1/978161.jpg  \n",
            "  inflating: images_training_rev1/978188.jpg  \n",
            "  inflating: images_training_rev1/978213.jpg  \n",
            "  inflating: images_training_rev1/978221.jpg  \n",
            "  inflating: images_training_rev1/978233.jpg  \n",
            "  inflating: images_training_rev1/978235.jpg  \n",
            "  inflating: images_training_rev1/978243.jpg  \n",
            "  inflating: images_training_rev1/978248.jpg  \n",
            "  inflating: images_training_rev1/978249.jpg  \n",
            "  inflating: images_training_rev1/978250.jpg  \n",
            "  inflating: images_training_rev1/978251.jpg  \n",
            "  inflating: images_training_rev1/978258.jpg  \n",
            "  inflating: images_training_rev1/978269.jpg  \n",
            "  inflating: images_training_rev1/978293.jpg  \n",
            "  inflating: images_training_rev1/978339.jpg  \n",
            "  inflating: images_training_rev1/978344.jpg  \n",
            "  inflating: images_training_rev1/978361.jpg  \n",
            "  inflating: images_training_rev1/978367.jpg  \n",
            "  inflating: images_training_rev1/978375.jpg  \n",
            "  inflating: images_training_rev1/978385.jpg  \n",
            "  inflating: images_training_rev1/978388.jpg  \n",
            "  inflating: images_training_rev1/978451.jpg  \n",
            "  inflating: images_training_rev1/978470.jpg  \n",
            "  inflating: images_training_rev1/978476.jpg  \n",
            "  inflating: images_training_rev1/978481.jpg  \n",
            "  inflating: images_training_rev1/978512.jpg  \n",
            "  inflating: images_training_rev1/978513.jpg  \n",
            "  inflating: images_training_rev1/978516.jpg  \n",
            "  inflating: images_training_rev1/978528.jpg  \n",
            "  inflating: images_training_rev1/978538.jpg  \n",
            "  inflating: images_training_rev1/978571.jpg  \n",
            "  inflating: images_training_rev1/978608.jpg  \n",
            "  inflating: images_training_rev1/978644.jpg  \n",
            "  inflating: images_training_rev1/978648.jpg  \n",
            "  inflating: images_training_rev1/978661.jpg  \n",
            "  inflating: images_training_rev1/978673.jpg  \n",
            "  inflating: images_training_rev1/978742.jpg  \n",
            "  inflating: images_training_rev1/978749.jpg  \n",
            "  inflating: images_training_rev1/978759.jpg  \n",
            "  inflating: images_training_rev1/978776.jpg  \n",
            "  inflating: images_training_rev1/978782.jpg  \n",
            "  inflating: images_training_rev1/978808.jpg  \n",
            "  inflating: images_training_rev1/978877.jpg  \n",
            "  inflating: images_training_rev1/978924.jpg  \n",
            "  inflating: images_training_rev1/978935.jpg  \n",
            "  inflating: images_training_rev1/978937.jpg  \n",
            "  inflating: images_training_rev1/978947.jpg  \n",
            "  inflating: images_training_rev1/978949.jpg  \n",
            "  inflating: images_training_rev1/978969.jpg  \n",
            "  inflating: images_training_rev1/978974.jpg  \n",
            "  inflating: images_training_rev1/979012.jpg  \n",
            "  inflating: images_training_rev1/979068.jpg  \n",
            "  inflating: images_training_rev1/979100.jpg  \n",
            "  inflating: images_training_rev1/979102.jpg  \n",
            "  inflating: images_training_rev1/979105.jpg  \n",
            "  inflating: images_training_rev1/979114.jpg  \n",
            "  inflating: images_training_rev1/979169.jpg  \n",
            "  inflating: images_training_rev1/979175.jpg  \n",
            "  inflating: images_training_rev1/979208.jpg  \n",
            "  inflating: images_training_rev1/979219.jpg  \n",
            "  inflating: images_training_rev1/979231.jpg  \n",
            "  inflating: images_training_rev1/979234.jpg  \n",
            "  inflating: images_training_rev1/979242.jpg  \n",
            "  inflating: images_training_rev1/979243.jpg  \n",
            "  inflating: images_training_rev1/979251.jpg  \n",
            "  inflating: images_training_rev1/979267.jpg  \n",
            "  inflating: images_training_rev1/979272.jpg  \n",
            "  inflating: images_training_rev1/979275.jpg  \n",
            "  inflating: images_training_rev1/979281.jpg  \n",
            "  inflating: images_training_rev1/979291.jpg  \n",
            "  inflating: images_training_rev1/979293.jpg  \n",
            "  inflating: images_training_rev1/979310.jpg  \n",
            "  inflating: images_training_rev1/979331.jpg  \n",
            "  inflating: images_training_rev1/979374.jpg  \n",
            "  inflating: images_training_rev1/979381.jpg  \n",
            "  inflating: images_training_rev1/979387.jpg  \n",
            "  inflating: images_training_rev1/979389.jpg  \n",
            "  inflating: images_training_rev1/979436.jpg  \n",
            "  inflating: images_training_rev1/979489.jpg  \n",
            "  inflating: images_training_rev1/979513.jpg  \n",
            "  inflating: images_training_rev1/979516.jpg  \n",
            "  inflating: images_training_rev1/979518.jpg  \n",
            "  inflating: images_training_rev1/979534.jpg  \n",
            "  inflating: images_training_rev1/979537.jpg  \n",
            "  inflating: images_training_rev1/979549.jpg  \n",
            "  inflating: images_training_rev1/979555.jpg  \n",
            "  inflating: images_training_rev1/979591.jpg  \n",
            "  inflating: images_training_rev1/979644.jpg  \n",
            "  inflating: images_training_rev1/979649.jpg  \n",
            "  inflating: images_training_rev1/979669.jpg  \n",
            "  inflating: images_training_rev1/979696.jpg  \n",
            "  inflating: images_training_rev1/979726.jpg  \n",
            "  inflating: images_training_rev1/979730.jpg  \n",
            "  inflating: images_training_rev1/979732.jpg  \n",
            "  inflating: images_training_rev1/979739.jpg  \n",
            "  inflating: images_training_rev1/979755.jpg  \n",
            "  inflating: images_training_rev1/979782.jpg  \n",
            "  inflating: images_training_rev1/979790.jpg  \n",
            "  inflating: images_training_rev1/979794.jpg  \n",
            "  inflating: images_training_rev1/979806.jpg  \n",
            "  inflating: images_training_rev1/979836.jpg  \n",
            "  inflating: images_training_rev1/979877.jpg  \n",
            "  inflating: images_training_rev1/979903.jpg  \n",
            "  inflating: images_training_rev1/979905.jpg  \n",
            "  inflating: images_training_rev1/979949.jpg  \n",
            "  inflating: images_training_rev1/979972.jpg  \n",
            "  inflating: images_training_rev1/979994.jpg  \n",
            "  inflating: images_training_rev1/980005.jpg  \n",
            "  inflating: images_training_rev1/980008.jpg  \n",
            "  inflating: images_training_rev1/980014.jpg  \n",
            "  inflating: images_training_rev1/980016.jpg  \n",
            "  inflating: images_training_rev1/980020.jpg  \n",
            "  inflating: images_training_rev1/980042.jpg  \n",
            "  inflating: images_training_rev1/980049.jpg  \n",
            "  inflating: images_training_rev1/980051.jpg  \n",
            "  inflating: images_training_rev1/980057.jpg  \n",
            "  inflating: images_training_rev1/980070.jpg  \n",
            "  inflating: images_training_rev1/980076.jpg  \n",
            "  inflating: images_training_rev1/980078.jpg  \n",
            "  inflating: images_training_rev1/980094.jpg  \n",
            "  inflating: images_training_rev1/980115.jpg  \n",
            "  inflating: images_training_rev1/980136.jpg  \n",
            "  inflating: images_training_rev1/980165.jpg  \n",
            "  inflating: images_training_rev1/980186.jpg  \n",
            "  inflating: images_training_rev1/980218.jpg  \n",
            "  inflating: images_training_rev1/980222.jpg  \n",
            "  inflating: images_training_rev1/980257.jpg  \n",
            "  inflating: images_training_rev1/980317.jpg  \n",
            "  inflating: images_training_rev1/980336.jpg  \n",
            "  inflating: images_training_rev1/980340.jpg  \n",
            "  inflating: images_training_rev1/980348.jpg  \n",
            "  inflating: images_training_rev1/980375.jpg  \n",
            "  inflating: images_training_rev1/980383.jpg  \n",
            "  inflating: images_training_rev1/980426.jpg  \n",
            "  inflating: images_training_rev1/980429.jpg  \n",
            "  inflating: images_training_rev1/980467.jpg  \n",
            "  inflating: images_training_rev1/980469.jpg  \n",
            "  inflating: images_training_rev1/980482.jpg  \n",
            "  inflating: images_training_rev1/980490.jpg  \n",
            "  inflating: images_training_rev1/980501.jpg  \n",
            "  inflating: images_training_rev1/980502.jpg  \n",
            "  inflating: images_training_rev1/980508.jpg  \n",
            "  inflating: images_training_rev1/980549.jpg  \n",
            "  inflating: images_training_rev1/980554.jpg  \n",
            "  inflating: images_training_rev1/980563.jpg  \n",
            "  inflating: images_training_rev1/980564.jpg  \n",
            "  inflating: images_training_rev1/980610.jpg  \n",
            "  inflating: images_training_rev1/980612.jpg  \n",
            "  inflating: images_training_rev1/980631.jpg  \n",
            "  inflating: images_training_rev1/980646.jpg  \n",
            "  inflating: images_training_rev1/980680.jpg  \n",
            "  inflating: images_training_rev1/980730.jpg  \n",
            "  inflating: images_training_rev1/980739.jpg  \n",
            "  inflating: images_training_rev1/980754.jpg  \n",
            "  inflating: images_training_rev1/980760.jpg  \n",
            "  inflating: images_training_rev1/980761.jpg  \n",
            "  inflating: images_training_rev1/980782.jpg  \n",
            "  inflating: images_training_rev1/980808.jpg  \n",
            "  inflating: images_training_rev1/980839.jpg  \n",
            "  inflating: images_training_rev1/980848.jpg  \n",
            "  inflating: images_training_rev1/980850.jpg  \n",
            "  inflating: images_training_rev1/980868.jpg  \n",
            "  inflating: images_training_rev1/980882.jpg  \n",
            "  inflating: images_training_rev1/980967.jpg  \n",
            "  inflating: images_training_rev1/980977.jpg  \n",
            "  inflating: images_training_rev1/980985.jpg  \n",
            "  inflating: images_training_rev1/981009.jpg  \n",
            "  inflating: images_training_rev1/981012.jpg  \n",
            "  inflating: images_training_rev1/981059.jpg  \n",
            "  inflating: images_training_rev1/981068.jpg  \n",
            "  inflating: images_training_rev1/981072.jpg  \n",
            "  inflating: images_training_rev1/981080.jpg  \n",
            "  inflating: images_training_rev1/981088.jpg  \n",
            "  inflating: images_training_rev1/981122.jpg  \n",
            "  inflating: images_training_rev1/981203.jpg  \n",
            "  inflating: images_training_rev1/981243.jpg  \n",
            "  inflating: images_training_rev1/981245.jpg  \n",
            "  inflating: images_training_rev1/981248.jpg  \n",
            "  inflating: images_training_rev1/981269.jpg  \n",
            "  inflating: images_training_rev1/981270.jpg  \n",
            "  inflating: images_training_rev1/981271.jpg  \n",
            "  inflating: images_training_rev1/981277.jpg  \n",
            "  inflating: images_training_rev1/981285.jpg  \n",
            "  inflating: images_training_rev1/981340.jpg  \n",
            "  inflating: images_training_rev1/981351.jpg  \n",
            "  inflating: images_training_rev1/981362.jpg  \n",
            "  inflating: images_training_rev1/981369.jpg  \n",
            "  inflating: images_training_rev1/981391.jpg  \n",
            "  inflating: images_training_rev1/981398.jpg  \n",
            "  inflating: images_training_rev1/981401.jpg  \n",
            "  inflating: images_training_rev1/981417.jpg  \n",
            "  inflating: images_training_rev1/981419.jpg  \n",
            "  inflating: images_training_rev1/981489.jpg  \n",
            "  inflating: images_training_rev1/981494.jpg  \n",
            "  inflating: images_training_rev1/981540.jpg  \n",
            "  inflating: images_training_rev1/981563.jpg  \n",
            "  inflating: images_training_rev1/981578.jpg  \n",
            "  inflating: images_training_rev1/981579.jpg  \n",
            "  inflating: images_training_rev1/981591.jpg  \n",
            "  inflating: images_training_rev1/981605.jpg  \n",
            "  inflating: images_training_rev1/981617.jpg  \n",
            "  inflating: images_training_rev1/981621.jpg  \n",
            "  inflating: images_training_rev1/981626.jpg  \n",
            "  inflating: images_training_rev1/981641.jpg  \n",
            "  inflating: images_training_rev1/981646.jpg  \n",
            "  inflating: images_training_rev1/981677.jpg  \n",
            "  inflating: images_training_rev1/981685.jpg  \n",
            "  inflating: images_training_rev1/981712.jpg  \n",
            "  inflating: images_training_rev1/981725.jpg  \n",
            "  inflating: images_training_rev1/981736.jpg  \n",
            "  inflating: images_training_rev1/981743.jpg  \n",
            "  inflating: images_training_rev1/981766.jpg  \n",
            "  inflating: images_training_rev1/981797.jpg  \n",
            "  inflating: images_training_rev1/981806.jpg  \n",
            "  inflating: images_training_rev1/981807.jpg  \n",
            "  inflating: images_training_rev1/981808.jpg  \n",
            "  inflating: images_training_rev1/981822.jpg  \n",
            "  inflating: images_training_rev1/981862.jpg  \n",
            "  inflating: images_training_rev1/981876.jpg  \n",
            "  inflating: images_training_rev1/981880.jpg  \n",
            "  inflating: images_training_rev1/981901.jpg  \n",
            "  inflating: images_training_rev1/981904.jpg  \n",
            "  inflating: images_training_rev1/981930.jpg  \n",
            "  inflating: images_training_rev1/981931.jpg  \n",
            "  inflating: images_training_rev1/981956.jpg  \n",
            "  inflating: images_training_rev1/981972.jpg  \n",
            "  inflating: images_training_rev1/982013.jpg  \n",
            "  inflating: images_training_rev1/982018.jpg  \n",
            "  inflating: images_training_rev1/982076.jpg  \n",
            "  inflating: images_training_rev1/982105.jpg  \n",
            "  inflating: images_training_rev1/982129.jpg  \n",
            "  inflating: images_training_rev1/982132.jpg  \n",
            "  inflating: images_training_rev1/982143.jpg  \n",
            "  inflating: images_training_rev1/982151.jpg  \n",
            "  inflating: images_training_rev1/982157.jpg  \n",
            "  inflating: images_training_rev1/982174.jpg  \n",
            "  inflating: images_training_rev1/982176.jpg  \n",
            "  inflating: images_training_rev1/982198.jpg  \n",
            "  inflating: images_training_rev1/982200.jpg  \n",
            "  inflating: images_training_rev1/982201.jpg  \n",
            "  inflating: images_training_rev1/982211.jpg  \n",
            "  inflating: images_training_rev1/982220.jpg  \n",
            "  inflating: images_training_rev1/982235.jpg  \n",
            "  inflating: images_training_rev1/982271.jpg  \n",
            "  inflating: images_training_rev1/982287.jpg  \n",
            "  inflating: images_training_rev1/982291.jpg  \n",
            "  inflating: images_training_rev1/982293.jpg  \n",
            "  inflating: images_training_rev1/982313.jpg  \n",
            "  inflating: images_training_rev1/982315.jpg  \n",
            "  inflating: images_training_rev1/982323.jpg  \n",
            "  inflating: images_training_rev1/982346.jpg  \n",
            "  inflating: images_training_rev1/982353.jpg  \n",
            "  inflating: images_training_rev1/982359.jpg  \n",
            "  inflating: images_training_rev1/982389.jpg  \n",
            "  inflating: images_training_rev1/982393.jpg  \n",
            "  inflating: images_training_rev1/982401.jpg  \n",
            "  inflating: images_training_rev1/982411.jpg  \n",
            "  inflating: images_training_rev1/982432.jpg  \n",
            "  inflating: images_training_rev1/982448.jpg  \n",
            "  inflating: images_training_rev1/982466.jpg  \n",
            "  inflating: images_training_rev1/982467.jpg  \n",
            "  inflating: images_training_rev1/982477.jpg  \n",
            "  inflating: images_training_rev1/982481.jpg  \n",
            "  inflating: images_training_rev1/982524.jpg  \n",
            "  inflating: images_training_rev1/982543.jpg  \n",
            "  inflating: images_training_rev1/982568.jpg  \n",
            "  inflating: images_training_rev1/982602.jpg  \n",
            "  inflating: images_training_rev1/982607.jpg  \n",
            "  inflating: images_training_rev1/982609.jpg  \n",
            "  inflating: images_training_rev1/982610.jpg  \n",
            "  inflating: images_training_rev1/982620.jpg  \n",
            "  inflating: images_training_rev1/982626.jpg  \n",
            "  inflating: images_training_rev1/982716.jpg  \n",
            "  inflating: images_training_rev1/982719.jpg  \n",
            "  inflating: images_training_rev1/982754.jpg  \n",
            "  inflating: images_training_rev1/982779.jpg  \n",
            "  inflating: images_training_rev1/982789.jpg  \n",
            "  inflating: images_training_rev1/982800.jpg  \n",
            "  inflating: images_training_rev1/982808.jpg  \n",
            "  inflating: images_training_rev1/982832.jpg  \n",
            "  inflating: images_training_rev1/982838.jpg  \n",
            "  inflating: images_training_rev1/982855.jpg  \n",
            "  inflating: images_training_rev1/982860.jpg  \n",
            "  inflating: images_training_rev1/982893.jpg  \n",
            "  inflating: images_training_rev1/982912.jpg  \n",
            "  inflating: images_training_rev1/982953.jpg  \n",
            "  inflating: images_training_rev1/982985.jpg  \n",
            "  inflating: images_training_rev1/983000.jpg  \n",
            "  inflating: images_training_rev1/983012.jpg  \n",
            "  inflating: images_training_rev1/983016.jpg  \n",
            "  inflating: images_training_rev1/983043.jpg  \n",
            "  inflating: images_training_rev1/983057.jpg  \n",
            "  inflating: images_training_rev1/983059.jpg  \n",
            "  inflating: images_training_rev1/983081.jpg  \n",
            "  inflating: images_training_rev1/983115.jpg  \n",
            "  inflating: images_training_rev1/983122.jpg  \n",
            "  inflating: images_training_rev1/983124.jpg  \n",
            "  inflating: images_training_rev1/983142.jpg  \n",
            "  inflating: images_training_rev1/983144.jpg  \n",
            "  inflating: images_training_rev1/983150.jpg  \n",
            "  inflating: images_training_rev1/983172.jpg  \n",
            "  inflating: images_training_rev1/983178.jpg  \n",
            "  inflating: images_training_rev1/983192.jpg  \n",
            "  inflating: images_training_rev1/983202.jpg  \n",
            "  inflating: images_training_rev1/983222.jpg  \n",
            "  inflating: images_training_rev1/983223.jpg  \n",
            "  inflating: images_training_rev1/983225.jpg  \n",
            "  inflating: images_training_rev1/983261.jpg  \n",
            "  inflating: images_training_rev1/983275.jpg  \n",
            "  inflating: images_training_rev1/983299.jpg  \n",
            "  inflating: images_training_rev1/983314.jpg  \n",
            "  inflating: images_training_rev1/983316.jpg  \n",
            "  inflating: images_training_rev1/983348.jpg  \n",
            "  inflating: images_training_rev1/983356.jpg  \n",
            "  inflating: images_training_rev1/983374.jpg  \n",
            "  inflating: images_training_rev1/983383.jpg  \n",
            "  inflating: images_training_rev1/983418.jpg  \n",
            "  inflating: images_training_rev1/983445.jpg  \n",
            "  inflating: images_training_rev1/983449.jpg  \n",
            "  inflating: images_training_rev1/983477.jpg  \n",
            "  inflating: images_training_rev1/983538.jpg  \n",
            "  inflating: images_training_rev1/983544.jpg  \n",
            "  inflating: images_training_rev1/983545.jpg  \n",
            "  inflating: images_training_rev1/983562.jpg  \n",
            "  inflating: images_training_rev1/983574.jpg  \n",
            "  inflating: images_training_rev1/983580.jpg  \n",
            "  inflating: images_training_rev1/983587.jpg  \n",
            "  inflating: images_training_rev1/983592.jpg  \n",
            "  inflating: images_training_rev1/983604.jpg  \n",
            "  inflating: images_training_rev1/983625.jpg  \n",
            "  inflating: images_training_rev1/983651.jpg  \n",
            "  inflating: images_training_rev1/983691.jpg  \n",
            "  inflating: images_training_rev1/983709.jpg  \n",
            "  inflating: images_training_rev1/983712.jpg  \n",
            "  inflating: images_training_rev1/983739.jpg  \n",
            "  inflating: images_training_rev1/983747.jpg  \n",
            "  inflating: images_training_rev1/983759.jpg  \n",
            "  inflating: images_training_rev1/983765.jpg  \n",
            "  inflating: images_training_rev1/983766.jpg  \n",
            "  inflating: images_training_rev1/983771.jpg  \n",
            "  inflating: images_training_rev1/983772.jpg  \n",
            "  inflating: images_training_rev1/983881.jpg  \n",
            "  inflating: images_training_rev1/983884.jpg  \n",
            "  inflating: images_training_rev1/983886.jpg  \n",
            "  inflating: images_training_rev1/983890.jpg  \n",
            "  inflating: images_training_rev1/983939.jpg  \n",
            "  inflating: images_training_rev1/983941.jpg  \n",
            "  inflating: images_training_rev1/983965.jpg  \n",
            "  inflating: images_training_rev1/984010.jpg  \n",
            "  inflating: images_training_rev1/984032.jpg  \n",
            "  inflating: images_training_rev1/984040.jpg  \n",
            "  inflating: images_training_rev1/984057.jpg  \n",
            "  inflating: images_training_rev1/984060.jpg  \n",
            "  inflating: images_training_rev1/984066.jpg  \n",
            "  inflating: images_training_rev1/984087.jpg  \n",
            "  inflating: images_training_rev1/984095.jpg  \n",
            "  inflating: images_training_rev1/984099.jpg  \n",
            "  inflating: images_training_rev1/984113.jpg  \n",
            "  inflating: images_training_rev1/984121.jpg  \n",
            "  inflating: images_training_rev1/984149.jpg  \n",
            "  inflating: images_training_rev1/984153.jpg  \n",
            "  inflating: images_training_rev1/984154.jpg  \n",
            "  inflating: images_training_rev1/984155.jpg  \n",
            "  inflating: images_training_rev1/984158.jpg  \n",
            "  inflating: images_training_rev1/984164.jpg  \n",
            "  inflating: images_training_rev1/984176.jpg  \n",
            "  inflating: images_training_rev1/984178.jpg  \n",
            "  inflating: images_training_rev1/984187.jpg  \n",
            "  inflating: images_training_rev1/984193.jpg  \n",
            "  inflating: images_training_rev1/984200.jpg  \n",
            "  inflating: images_training_rev1/984205.jpg  \n",
            "  inflating: images_training_rev1/984214.jpg  \n",
            "  inflating: images_training_rev1/984251.jpg  \n",
            "  inflating: images_training_rev1/984259.jpg  \n",
            "  inflating: images_training_rev1/984272.jpg  \n",
            "  inflating: images_training_rev1/984291.jpg  \n",
            "  inflating: images_training_rev1/984292.jpg  \n",
            "  inflating: images_training_rev1/984298.jpg  \n",
            "  inflating: images_training_rev1/984333.jpg  \n",
            "  inflating: images_training_rev1/984335.jpg  \n",
            "  inflating: images_training_rev1/984337.jpg  \n",
            "  inflating: images_training_rev1/984342.jpg  \n",
            "  inflating: images_training_rev1/984358.jpg  \n",
            "  inflating: images_training_rev1/984362.jpg  \n",
            "  inflating: images_training_rev1/984380.jpg  \n",
            "  inflating: images_training_rev1/984388.jpg  \n",
            "  inflating: images_training_rev1/984407.jpg  \n",
            "  inflating: images_training_rev1/984428.jpg  \n",
            "  inflating: images_training_rev1/984446.jpg  \n",
            "  inflating: images_training_rev1/984453.jpg  \n",
            "  inflating: images_training_rev1/984472.jpg  \n",
            "  inflating: images_training_rev1/984486.jpg  \n",
            "  inflating: images_training_rev1/984514.jpg  \n",
            "  inflating: images_training_rev1/984517.jpg  \n",
            "  inflating: images_training_rev1/984547.jpg  \n",
            "  inflating: images_training_rev1/984566.jpg  \n",
            "  inflating: images_training_rev1/984567.jpg  \n",
            "  inflating: images_training_rev1/984577.jpg  \n",
            "  inflating: images_training_rev1/984587.jpg  \n",
            "  inflating: images_training_rev1/984590.jpg  \n",
            "  inflating: images_training_rev1/984604.jpg  \n",
            "  inflating: images_training_rev1/984610.jpg  \n",
            "  inflating: images_training_rev1/984619.jpg  \n",
            "  inflating: images_training_rev1/984624.jpg  \n",
            "  inflating: images_training_rev1/984626.jpg  \n",
            "  inflating: images_training_rev1/984637.jpg  \n",
            "  inflating: images_training_rev1/984659.jpg  \n",
            "  inflating: images_training_rev1/984669.jpg  \n",
            "  inflating: images_training_rev1/984670.jpg  \n",
            "  inflating: images_training_rev1/984673.jpg  \n",
            "  inflating: images_training_rev1/984675.jpg  \n",
            "  inflating: images_training_rev1/984695.jpg  \n",
            "  inflating: images_training_rev1/984702.jpg  \n",
            "  inflating: images_training_rev1/984714.jpg  \n",
            "  inflating: images_training_rev1/984724.jpg  \n",
            "  inflating: images_training_rev1/984726.jpg  \n",
            "  inflating: images_training_rev1/984730.jpg  \n",
            "  inflating: images_training_rev1/984754.jpg  \n",
            "  inflating: images_training_rev1/984767.jpg  \n",
            "  inflating: images_training_rev1/984769.jpg  \n",
            "  inflating: images_training_rev1/984807.jpg  \n",
            "  inflating: images_training_rev1/984819.jpg  \n",
            "  inflating: images_training_rev1/984833.jpg  \n",
            "  inflating: images_training_rev1/984837.jpg  \n",
            "  inflating: images_training_rev1/984851.jpg  \n",
            "  inflating: images_training_rev1/984858.jpg  \n",
            "  inflating: images_training_rev1/984874.jpg  \n",
            "  inflating: images_training_rev1/984906.jpg  \n",
            "  inflating: images_training_rev1/984921.jpg  \n",
            "  inflating: images_training_rev1/984964.jpg  \n",
            "  inflating: images_training_rev1/984969.jpg  \n",
            "  inflating: images_training_rev1/984986.jpg  \n",
            "  inflating: images_training_rev1/985016.jpg  \n",
            "  inflating: images_training_rev1/985044.jpg  \n",
            "  inflating: images_training_rev1/985052.jpg  \n",
            "  inflating: images_training_rev1/985054.jpg  \n",
            "  inflating: images_training_rev1/985061.jpg  \n",
            "  inflating: images_training_rev1/985077.jpg  \n",
            "  inflating: images_training_rev1/985093.jpg  \n",
            "  inflating: images_training_rev1/985100.jpg  \n",
            "  inflating: images_training_rev1/985124.jpg  \n",
            "  inflating: images_training_rev1/985127.jpg  \n",
            "  inflating: images_training_rev1/985151.jpg  \n",
            "  inflating: images_training_rev1/985152.jpg  \n",
            "  inflating: images_training_rev1/985158.jpg  \n",
            "  inflating: images_training_rev1/985170.jpg  \n",
            "  inflating: images_training_rev1/985171.jpg  \n",
            "  inflating: images_training_rev1/985200.jpg  \n",
            "  inflating: images_training_rev1/985217.jpg  \n",
            "  inflating: images_training_rev1/985234.jpg  \n",
            "  inflating: images_training_rev1/985258.jpg  \n",
            "  inflating: images_training_rev1/985295.jpg  \n",
            "  inflating: images_training_rev1/985300.jpg  \n",
            "  inflating: images_training_rev1/985309.jpg  \n",
            "  inflating: images_training_rev1/985328.jpg  \n",
            "  inflating: images_training_rev1/985338.jpg  \n",
            "  inflating: images_training_rev1/985343.jpg  \n",
            "  inflating: images_training_rev1/985344.jpg  \n",
            "  inflating: images_training_rev1/985351.jpg  \n",
            "  inflating: images_training_rev1/985367.jpg  \n",
            "  inflating: images_training_rev1/985371.jpg  \n",
            "  inflating: images_training_rev1/985392.jpg  \n",
            "  inflating: images_training_rev1/985395.jpg  \n",
            "  inflating: images_training_rev1/985405.jpg  \n",
            "  inflating: images_training_rev1/985424.jpg  \n",
            "  inflating: images_training_rev1/985455.jpg  \n",
            "  inflating: images_training_rev1/985463.jpg  \n",
            "  inflating: images_training_rev1/985465.jpg  \n",
            "  inflating: images_training_rev1/985500.jpg  \n",
            "  inflating: images_training_rev1/985510.jpg  \n",
            "  inflating: images_training_rev1/985537.jpg  \n",
            "  inflating: images_training_rev1/985545.jpg  \n",
            "  inflating: images_training_rev1/985551.jpg  \n",
            "  inflating: images_training_rev1/985552.jpg  \n",
            "  inflating: images_training_rev1/985553.jpg  \n",
            "  inflating: images_training_rev1/985562.jpg  \n",
            "  inflating: images_training_rev1/985565.jpg  \n",
            "  inflating: images_training_rev1/985572.jpg  \n",
            "  inflating: images_training_rev1/985580.jpg  \n",
            "  inflating: images_training_rev1/985596.jpg  \n",
            "  inflating: images_training_rev1/985603.jpg  \n",
            "  inflating: images_training_rev1/985615.jpg  \n",
            "  inflating: images_training_rev1/985641.jpg  \n",
            "  inflating: images_training_rev1/985667.jpg  \n",
            "  inflating: images_training_rev1/985677.jpg  \n",
            "  inflating: images_training_rev1/985687.jpg  \n",
            "  inflating: images_training_rev1/985694.jpg  \n",
            "  inflating: images_training_rev1/985703.jpg  \n",
            "  inflating: images_training_rev1/985705.jpg  \n",
            "  inflating: images_training_rev1/985721.jpg  \n",
            "  inflating: images_training_rev1/985738.jpg  \n",
            "  inflating: images_training_rev1/985744.jpg  \n",
            "  inflating: images_training_rev1/985757.jpg  \n",
            "  inflating: images_training_rev1/985775.jpg  \n",
            "  inflating: images_training_rev1/985780.jpg  \n",
            "  inflating: images_training_rev1/985789.jpg  \n",
            "  inflating: images_training_rev1/985791.jpg  \n",
            "  inflating: images_training_rev1/985794.jpg  \n",
            "  inflating: images_training_rev1/985797.jpg  \n",
            "  inflating: images_training_rev1/985814.jpg  \n",
            "  inflating: images_training_rev1/985818.jpg  \n",
            "  inflating: images_training_rev1/985822.jpg  \n",
            "  inflating: images_training_rev1/985831.jpg  \n",
            "  inflating: images_training_rev1/985846.jpg  \n",
            "  inflating: images_training_rev1/985849.jpg  \n",
            "  inflating: images_training_rev1/985850.jpg  \n",
            "  inflating: images_training_rev1/985862.jpg  \n",
            "  inflating: images_training_rev1/985867.jpg  \n",
            "  inflating: images_training_rev1/985874.jpg  \n",
            "  inflating: images_training_rev1/985879.jpg  \n",
            "  inflating: images_training_rev1/985891.jpg  \n",
            "  inflating: images_training_rev1/985902.jpg  \n",
            "  inflating: images_training_rev1/985926.jpg  \n",
            "  inflating: images_training_rev1/985942.jpg  \n",
            "  inflating: images_training_rev1/985972.jpg  \n",
            "  inflating: images_training_rev1/985974.jpg  \n",
            "  inflating: images_training_rev1/985976.jpg  \n",
            "  inflating: images_training_rev1/985987.jpg  \n",
            "  inflating: images_training_rev1/986000.jpg  \n",
            "  inflating: images_training_rev1/986033.jpg  \n",
            "  inflating: images_training_rev1/986037.jpg  \n",
            "  inflating: images_training_rev1/986038.jpg  \n",
            "  inflating: images_training_rev1/986060.jpg  \n",
            "  inflating: images_training_rev1/986069.jpg  \n",
            "  inflating: images_training_rev1/986083.jpg  \n",
            "  inflating: images_training_rev1/986085.jpg  \n",
            "  inflating: images_training_rev1/986089.jpg  \n",
            "  inflating: images_training_rev1/986104.jpg  \n",
            "  inflating: images_training_rev1/986109.jpg  \n",
            "  inflating: images_training_rev1/986110.jpg  \n",
            "  inflating: images_training_rev1/986125.jpg  \n",
            "  inflating: images_training_rev1/986132.jpg  \n",
            "  inflating: images_training_rev1/986139.jpg  \n",
            "  inflating: images_training_rev1/986142.jpg  \n",
            "  inflating: images_training_rev1/986168.jpg  \n",
            "  inflating: images_training_rev1/986178.jpg  \n",
            "  inflating: images_training_rev1/986179.jpg  \n",
            "  inflating: images_training_rev1/986184.jpg  \n",
            "  inflating: images_training_rev1/986198.jpg  \n",
            "  inflating: images_training_rev1/986216.jpg  \n",
            "  inflating: images_training_rev1/986223.jpg  \n",
            "  inflating: images_training_rev1/986238.jpg  \n",
            "  inflating: images_training_rev1/986243.jpg  \n",
            "  inflating: images_training_rev1/986262.jpg  \n",
            "  inflating: images_training_rev1/986282.jpg  \n",
            "  inflating: images_training_rev1/986291.jpg  \n",
            "  inflating: images_training_rev1/986295.jpg  \n",
            "  inflating: images_training_rev1/986330.jpg  \n",
            "  inflating: images_training_rev1/986354.jpg  \n",
            "  inflating: images_training_rev1/986369.jpg  \n",
            "  inflating: images_training_rev1/986380.jpg  \n",
            "  inflating: images_training_rev1/986395.jpg  \n",
            "  inflating: images_training_rev1/986400.jpg  \n",
            "  inflating: images_training_rev1/986417.jpg  \n",
            "  inflating: images_training_rev1/986418.jpg  \n",
            "  inflating: images_training_rev1/986422.jpg  \n",
            "  inflating: images_training_rev1/986432.jpg  \n",
            "  inflating: images_training_rev1/986447.jpg  \n",
            "  inflating: images_training_rev1/986450.jpg  \n",
            "  inflating: images_training_rev1/986515.jpg  \n",
            "  inflating: images_training_rev1/986521.jpg  \n",
            "  inflating: images_training_rev1/986537.jpg  \n",
            "  inflating: images_training_rev1/986553.jpg  \n",
            "  inflating: images_training_rev1/986591.jpg  \n",
            "  inflating: images_training_rev1/986599.jpg  \n",
            "  inflating: images_training_rev1/986619.jpg  \n",
            "  inflating: images_training_rev1/986624.jpg  \n",
            "  inflating: images_training_rev1/986627.jpg  \n",
            "  inflating: images_training_rev1/986634.jpg  \n",
            "  inflating: images_training_rev1/986640.jpg  \n",
            "  inflating: images_training_rev1/986651.jpg  \n",
            "  inflating: images_training_rev1/986659.jpg  \n",
            "  inflating: images_training_rev1/986671.jpg  \n",
            "  inflating: images_training_rev1/986672.jpg  \n",
            "  inflating: images_training_rev1/986692.jpg  \n",
            "  inflating: images_training_rev1/986696.jpg  \n",
            "  inflating: images_training_rev1/986708.jpg  \n",
            "  inflating: images_training_rev1/986718.jpg  \n",
            "  inflating: images_training_rev1/986737.jpg  \n",
            "  inflating: images_training_rev1/986739.jpg  \n",
            "  inflating: images_training_rev1/986753.jpg  \n",
            "  inflating: images_training_rev1/986782.jpg  \n",
            "  inflating: images_training_rev1/986783.jpg  \n",
            "  inflating: images_training_rev1/986840.jpg  \n",
            "  inflating: images_training_rev1/986841.jpg  \n",
            "  inflating: images_training_rev1/986842.jpg  \n",
            "  inflating: images_training_rev1/986844.jpg  \n",
            "  inflating: images_training_rev1/986845.jpg  \n",
            "  inflating: images_training_rev1/986853.jpg  \n",
            "  inflating: images_training_rev1/986854.jpg  \n",
            "  inflating: images_training_rev1/986860.jpg  \n",
            "  inflating: images_training_rev1/986868.jpg  \n",
            "  inflating: images_training_rev1/986871.jpg  \n",
            "  inflating: images_training_rev1/986876.jpg  \n",
            "  inflating: images_training_rev1/986898.jpg  \n",
            "  inflating: images_training_rev1/986914.jpg  \n",
            "  inflating: images_training_rev1/986917.jpg  \n",
            "  inflating: images_training_rev1/986928.jpg  \n",
            "  inflating: images_training_rev1/986948.jpg  \n",
            "  inflating: images_training_rev1/987033.jpg  \n",
            "  inflating: images_training_rev1/987069.jpg  \n",
            "  inflating: images_training_rev1/987074.jpg  \n",
            "  inflating: images_training_rev1/987091.jpg  \n",
            "  inflating: images_training_rev1/987107.jpg  \n",
            "  inflating: images_training_rev1/987124.jpg  \n",
            "  inflating: images_training_rev1/987128.jpg  \n",
            "  inflating: images_training_rev1/987154.jpg  \n",
            "  inflating: images_training_rev1/987159.jpg  \n",
            "  inflating: images_training_rev1/987162.jpg  \n",
            "  inflating: images_training_rev1/987175.jpg  \n",
            "  inflating: images_training_rev1/987179.jpg  \n",
            "  inflating: images_training_rev1/987185.jpg  \n",
            "  inflating: images_training_rev1/987192.jpg  \n",
            "  inflating: images_training_rev1/987193.jpg  \n",
            "  inflating: images_training_rev1/987215.jpg  \n",
            "  inflating: images_training_rev1/987220.jpg  \n",
            "  inflating: images_training_rev1/987221.jpg  \n",
            "  inflating: images_training_rev1/987232.jpg  \n",
            "  inflating: images_training_rev1/987243.jpg  \n",
            "  inflating: images_training_rev1/987246.jpg  \n",
            "  inflating: images_training_rev1/987261.jpg  \n",
            "  inflating: images_training_rev1/987277.jpg  \n",
            "  inflating: images_training_rev1/987300.jpg  \n",
            "  inflating: images_training_rev1/987315.jpg  \n",
            "  inflating: images_training_rev1/987320.jpg  \n",
            "  inflating: images_training_rev1/987322.jpg  \n",
            "  inflating: images_training_rev1/987344.jpg  \n",
            "  inflating: images_training_rev1/987353.jpg  \n",
            "  inflating: images_training_rev1/987355.jpg  \n",
            "  inflating: images_training_rev1/987394.jpg  \n",
            "  inflating: images_training_rev1/987421.jpg  \n",
            "  inflating: images_training_rev1/987429.jpg  \n",
            "  inflating: images_training_rev1/987454.jpg  \n",
            "  inflating: images_training_rev1/987456.jpg  \n",
            "  inflating: images_training_rev1/987469.jpg  \n",
            "  inflating: images_training_rev1/987482.jpg  \n",
            "  inflating: images_training_rev1/987489.jpg  \n",
            "  inflating: images_training_rev1/987521.jpg  \n",
            "  inflating: images_training_rev1/987526.jpg  \n",
            "  inflating: images_training_rev1/987537.jpg  \n",
            "  inflating: images_training_rev1/987541.jpg  \n",
            "  inflating: images_training_rev1/987571.jpg  \n",
            "  inflating: images_training_rev1/987572.jpg  \n",
            "  inflating: images_training_rev1/987628.jpg  \n",
            "  inflating: images_training_rev1/987633.jpg  \n",
            "  inflating: images_training_rev1/987637.jpg  \n",
            "  inflating: images_training_rev1/987656.jpg  \n",
            "  inflating: images_training_rev1/987666.jpg  \n",
            "  inflating: images_training_rev1/987673.jpg  \n",
            "  inflating: images_training_rev1/987684.jpg  \n",
            "  inflating: images_training_rev1/987691.jpg  \n",
            "  inflating: images_training_rev1/987695.jpg  \n",
            "  inflating: images_training_rev1/987710.jpg  \n",
            "  inflating: images_training_rev1/987715.jpg  \n",
            "  inflating: images_training_rev1/987735.jpg  \n",
            "  inflating: images_training_rev1/987762.jpg  \n",
            "  inflating: images_training_rev1/987789.jpg  \n",
            "  inflating: images_training_rev1/987793.jpg  \n",
            "  inflating: images_training_rev1/987797.jpg  \n",
            "  inflating: images_training_rev1/987804.jpg  \n",
            "  inflating: images_training_rev1/987818.jpg  \n",
            "  inflating: images_training_rev1/987820.jpg  \n",
            "  inflating: images_training_rev1/987824.jpg  \n",
            "  inflating: images_training_rev1/987826.jpg  \n",
            "  inflating: images_training_rev1/987885.jpg  \n",
            "  inflating: images_training_rev1/987915.jpg  \n",
            "  inflating: images_training_rev1/987924.jpg  \n",
            "  inflating: images_training_rev1/987932.jpg  \n",
            "  inflating: images_training_rev1/987942.jpg  \n",
            "  inflating: images_training_rev1/987987.jpg  \n",
            "  inflating: images_training_rev1/988001.jpg  \n",
            "  inflating: images_training_rev1/988039.jpg  \n",
            "  inflating: images_training_rev1/988057.jpg  \n",
            "  inflating: images_training_rev1/988078.jpg  \n",
            "  inflating: images_training_rev1/988095.jpg  \n",
            "  inflating: images_training_rev1/988099.jpg  \n",
            "  inflating: images_training_rev1/988100.jpg  \n",
            "  inflating: images_training_rev1/988103.jpg  \n",
            "  inflating: images_training_rev1/988108.jpg  \n",
            "  inflating: images_training_rev1/988117.jpg  \n",
            "  inflating: images_training_rev1/988125.jpg  \n",
            "  inflating: images_training_rev1/988136.jpg  \n",
            "  inflating: images_training_rev1/988148.jpg  \n",
            "  inflating: images_training_rev1/988176.jpg  \n",
            "  inflating: images_training_rev1/988185.jpg  \n",
            "  inflating: images_training_rev1/988199.jpg  \n",
            "  inflating: images_training_rev1/988210.jpg  \n",
            "  inflating: images_training_rev1/988248.jpg  \n",
            "  inflating: images_training_rev1/988260.jpg  \n",
            "  inflating: images_training_rev1/988316.jpg  \n",
            "  inflating: images_training_rev1/988319.jpg  \n",
            "  inflating: images_training_rev1/988321.jpg  \n",
            "  inflating: images_training_rev1/988328.jpg  \n",
            "  inflating: images_training_rev1/988333.jpg  \n",
            "  inflating: images_training_rev1/988339.jpg  \n",
            "  inflating: images_training_rev1/988388.jpg  \n",
            "  inflating: images_training_rev1/988396.jpg  \n",
            "  inflating: images_training_rev1/988403.jpg  \n",
            "  inflating: images_training_rev1/988411.jpg  \n",
            "  inflating: images_training_rev1/988425.jpg  \n",
            "  inflating: images_training_rev1/988436.jpg  \n",
            "  inflating: images_training_rev1/988438.jpg  \n",
            "  inflating: images_training_rev1/988440.jpg  \n",
            "  inflating: images_training_rev1/988450.jpg  \n",
            "  inflating: images_training_rev1/988489.jpg  \n",
            "  inflating: images_training_rev1/988490.jpg  \n",
            "  inflating: images_training_rev1/988491.jpg  \n",
            "  inflating: images_training_rev1/988497.jpg  \n",
            "  inflating: images_training_rev1/988509.jpg  \n",
            "  inflating: images_training_rev1/988517.jpg  \n",
            "  inflating: images_training_rev1/988521.jpg  \n",
            "  inflating: images_training_rev1/988529.jpg  \n",
            "  inflating: images_training_rev1/988540.jpg  \n",
            "  inflating: images_training_rev1/988551.jpg  \n",
            "  inflating: images_training_rev1/988552.jpg  \n",
            "  inflating: images_training_rev1/988566.jpg  \n",
            "  inflating: images_training_rev1/988605.jpg  \n",
            "  inflating: images_training_rev1/988637.jpg  \n",
            "  inflating: images_training_rev1/988647.jpg  \n",
            "  inflating: images_training_rev1/988663.jpg  \n",
            "  inflating: images_training_rev1/988676.jpg  \n",
            "  inflating: images_training_rev1/988735.jpg  \n",
            "  inflating: images_training_rev1/988740.jpg  \n",
            "  inflating: images_training_rev1/988782.jpg  \n",
            "  inflating: images_training_rev1/988794.jpg  \n",
            "  inflating: images_training_rev1/988803.jpg  \n",
            "  inflating: images_training_rev1/988819.jpg  \n",
            "  inflating: images_training_rev1/988827.jpg  \n",
            "  inflating: images_training_rev1/988839.jpg  \n",
            "  inflating: images_training_rev1/988844.jpg  \n",
            "  inflating: images_training_rev1/988894.jpg  \n",
            "  inflating: images_training_rev1/988906.jpg  \n",
            "  inflating: images_training_rev1/988923.jpg  \n",
            "  inflating: images_training_rev1/988925.jpg  \n",
            "  inflating: images_training_rev1/988993.jpg  \n",
            "  inflating: images_training_rev1/989001.jpg  \n",
            "  inflating: images_training_rev1/989011.jpg  \n",
            "  inflating: images_training_rev1/989036.jpg  \n",
            "  inflating: images_training_rev1/989050.jpg  \n",
            "  inflating: images_training_rev1/989058.jpg  \n",
            "  inflating: images_training_rev1/989082.jpg  \n",
            "  inflating: images_training_rev1/989090.jpg  \n",
            "  inflating: images_training_rev1/989098.jpg  \n",
            "  inflating: images_training_rev1/989129.jpg  \n",
            "  inflating: images_training_rev1/989136.jpg  \n",
            "  inflating: images_training_rev1/989174.jpg  \n",
            "  inflating: images_training_rev1/989186.jpg  \n",
            "  inflating: images_training_rev1/989188.jpg  \n",
            "  inflating: images_training_rev1/989197.jpg  \n",
            "  inflating: images_training_rev1/989215.jpg  \n",
            "  inflating: images_training_rev1/989223.jpg  \n",
            "  inflating: images_training_rev1/989227.jpg  \n",
            "  inflating: images_training_rev1/989234.jpg  \n",
            "  inflating: images_training_rev1/989239.jpg  \n",
            "  inflating: images_training_rev1/989243.jpg  \n",
            "  inflating: images_training_rev1/989251.jpg  \n",
            "  inflating: images_training_rev1/989258.jpg  \n",
            "  inflating: images_training_rev1/989272.jpg  \n",
            "  inflating: images_training_rev1/989276.jpg  \n",
            "  inflating: images_training_rev1/989287.jpg  \n",
            "  inflating: images_training_rev1/989288.jpg  \n",
            "  inflating: images_training_rev1/989311.jpg  \n",
            "  inflating: images_training_rev1/989357.jpg  \n",
            "  inflating: images_training_rev1/989380.jpg  \n",
            "  inflating: images_training_rev1/989400.jpg  \n",
            "  inflating: images_training_rev1/989404.jpg  \n",
            "  inflating: images_training_rev1/989415.jpg  \n",
            "  inflating: images_training_rev1/989419.jpg  \n",
            "  inflating: images_training_rev1/989429.jpg  \n",
            "  inflating: images_training_rev1/989434.jpg  \n",
            "  inflating: images_training_rev1/989449.jpg  \n",
            "  inflating: images_training_rev1/989456.jpg  \n",
            "  inflating: images_training_rev1/989460.jpg  \n",
            "  inflating: images_training_rev1/989464.jpg  \n",
            "  inflating: images_training_rev1/989465.jpg  \n",
            "  inflating: images_training_rev1/989475.jpg  \n",
            "  inflating: images_training_rev1/989477.jpg  \n",
            "  inflating: images_training_rev1/989489.jpg  \n",
            "  inflating: images_training_rev1/989495.jpg  \n",
            "  inflating: images_training_rev1/989505.jpg  \n",
            "  inflating: images_training_rev1/989508.jpg  \n",
            "  inflating: images_training_rev1/989523.jpg  \n",
            "  inflating: images_training_rev1/989526.jpg  \n",
            "  inflating: images_training_rev1/989531.jpg  \n",
            "  inflating: images_training_rev1/989533.jpg  \n",
            "  inflating: images_training_rev1/989537.jpg  \n",
            "  inflating: images_training_rev1/989557.jpg  \n",
            "  inflating: images_training_rev1/989574.jpg  \n",
            "  inflating: images_training_rev1/989579.jpg  \n",
            "  inflating: images_training_rev1/989593.jpg  \n",
            "  inflating: images_training_rev1/989594.jpg  \n",
            "  inflating: images_training_rev1/989608.jpg  \n",
            "  inflating: images_training_rev1/989614.jpg  \n",
            "  inflating: images_training_rev1/989639.jpg  \n",
            "  inflating: images_training_rev1/989643.jpg  \n",
            "  inflating: images_training_rev1/989656.jpg  \n",
            "  inflating: images_training_rev1/989662.jpg  \n",
            "  inflating: images_training_rev1/989671.jpg  \n",
            "  inflating: images_training_rev1/989710.jpg  \n",
            "  inflating: images_training_rev1/989731.jpg  \n",
            "  inflating: images_training_rev1/989732.jpg  \n",
            "  inflating: images_training_rev1/989741.jpg  \n",
            "  inflating: images_training_rev1/989763.jpg  \n",
            "  inflating: images_training_rev1/989765.jpg  \n",
            "  inflating: images_training_rev1/989777.jpg  \n",
            "  inflating: images_training_rev1/989782.jpg  \n",
            "  inflating: images_training_rev1/989785.jpg  \n",
            "  inflating: images_training_rev1/989809.jpg  \n",
            "  inflating: images_training_rev1/989824.jpg  \n",
            "  inflating: images_training_rev1/989825.jpg  \n",
            "  inflating: images_training_rev1/989846.jpg  \n",
            "  inflating: images_training_rev1/989849.jpg  \n",
            "  inflating: images_training_rev1/989873.jpg  \n",
            "  inflating: images_training_rev1/989898.jpg  \n",
            "  inflating: images_training_rev1/989899.jpg  \n",
            "  inflating: images_training_rev1/989900.jpg  \n",
            "  inflating: images_training_rev1/989934.jpg  \n",
            "  inflating: images_training_rev1/989935.jpg  \n",
            "  inflating: images_training_rev1/989942.jpg  \n",
            "  inflating: images_training_rev1/989943.jpg  \n",
            "  inflating: images_training_rev1/989955.jpg  \n",
            "  inflating: images_training_rev1/989957.jpg  \n",
            "  inflating: images_training_rev1/989960.jpg  \n",
            "  inflating: images_training_rev1/989970.jpg  \n",
            "  inflating: images_training_rev1/989987.jpg  \n",
            "  inflating: images_training_rev1/989991.jpg  \n",
            "  inflating: images_training_rev1/989996.jpg  \n",
            "  inflating: images_training_rev1/989997.jpg  \n",
            "  inflating: images_training_rev1/990006.jpg  \n",
            "  inflating: images_training_rev1/990011.jpg  \n",
            "  inflating: images_training_rev1/990027.jpg  \n",
            "  inflating: images_training_rev1/990044.jpg  \n",
            "  inflating: images_training_rev1/990046.jpg  \n",
            "  inflating: images_training_rev1/990063.jpg  \n",
            "  inflating: images_training_rev1/990084.jpg  \n",
            "  inflating: images_training_rev1/990088.jpg  \n",
            "  inflating: images_training_rev1/990089.jpg  \n",
            "  inflating: images_training_rev1/990131.jpg  \n",
            "  inflating: images_training_rev1/990137.jpg  \n",
            "  inflating: images_training_rev1/990167.jpg  \n",
            "  inflating: images_training_rev1/990194.jpg  \n",
            "  inflating: images_training_rev1/990227.jpg  \n",
            "  inflating: images_training_rev1/990230.jpg  \n",
            "  inflating: images_training_rev1/990234.jpg  \n",
            "  inflating: images_training_rev1/990241.jpg  \n",
            "  inflating: images_training_rev1/990253.jpg  \n",
            "  inflating: images_training_rev1/990257.jpg  \n",
            "  inflating: images_training_rev1/990263.jpg  \n",
            "  inflating: images_training_rev1/990288.jpg  \n",
            "  inflating: images_training_rev1/990289.jpg  \n",
            "  inflating: images_training_rev1/990294.jpg  \n",
            "  inflating: images_training_rev1/990305.jpg  \n",
            "  inflating: images_training_rev1/990339.jpg  \n",
            "  inflating: images_training_rev1/990341.jpg  \n",
            "  inflating: images_training_rev1/990360.jpg  \n",
            "  inflating: images_training_rev1/990364.jpg  \n",
            "  inflating: images_training_rev1/990393.jpg  \n",
            "  inflating: images_training_rev1/990400.jpg  \n",
            "  inflating: images_training_rev1/990414.jpg  \n",
            "  inflating: images_training_rev1/990430.jpg  \n",
            "  inflating: images_training_rev1/990438.jpg  \n",
            "  inflating: images_training_rev1/990443.jpg  \n",
            "  inflating: images_training_rev1/990496.jpg  \n",
            "  inflating: images_training_rev1/990522.jpg  \n",
            "  inflating: images_training_rev1/990531.jpg  \n",
            "  inflating: images_training_rev1/990540.jpg  \n",
            "  inflating: images_training_rev1/990556.jpg  \n",
            "  inflating: images_training_rev1/990567.jpg  \n",
            "  inflating: images_training_rev1/990571.jpg  \n",
            "  inflating: images_training_rev1/990582.jpg  \n",
            "  inflating: images_training_rev1/990599.jpg  \n",
            "  inflating: images_training_rev1/990615.jpg  \n",
            "  inflating: images_training_rev1/990666.jpg  \n",
            "  inflating: images_training_rev1/990672.jpg  \n",
            "  inflating: images_training_rev1/990677.jpg  \n",
            "  inflating: images_training_rev1/990687.jpg  \n",
            "  inflating: images_training_rev1/990697.jpg  \n",
            "  inflating: images_training_rev1/990698.jpg  \n",
            "  inflating: images_training_rev1/990700.jpg  \n",
            "  inflating: images_training_rev1/990710.jpg  \n",
            "  inflating: images_training_rev1/990728.jpg  \n",
            "  inflating: images_training_rev1/990737.jpg  \n",
            "  inflating: images_training_rev1/990743.jpg  \n",
            "  inflating: images_training_rev1/990754.jpg  \n",
            "  inflating: images_training_rev1/990763.jpg  \n",
            "  inflating: images_training_rev1/990774.jpg  \n",
            "  inflating: images_training_rev1/990785.jpg  \n",
            "  inflating: images_training_rev1/990809.jpg  \n",
            "  inflating: images_training_rev1/990838.jpg  \n",
            "  inflating: images_training_rev1/990842.jpg  \n",
            "  inflating: images_training_rev1/990847.jpg  \n",
            "  inflating: images_training_rev1/990861.jpg  \n",
            "  inflating: images_training_rev1/990864.jpg  \n",
            "  inflating: images_training_rev1/990865.jpg  \n",
            "  inflating: images_training_rev1/990888.jpg  \n",
            "  inflating: images_training_rev1/990893.jpg  \n",
            "  inflating: images_training_rev1/990896.jpg  \n",
            "  inflating: images_training_rev1/990939.jpg  \n",
            "  inflating: images_training_rev1/990940.jpg  \n",
            "  inflating: images_training_rev1/990962.jpg  \n",
            "  inflating: images_training_rev1/990972.jpg  \n",
            "  inflating: images_training_rev1/991003.jpg  \n",
            "  inflating: images_training_rev1/991011.jpg  \n",
            "  inflating: images_training_rev1/991014.jpg  \n",
            "  inflating: images_training_rev1/991019.jpg  \n",
            "  inflating: images_training_rev1/991036.jpg  \n",
            "  inflating: images_training_rev1/991065.jpg  \n",
            "  inflating: images_training_rev1/991067.jpg  \n",
            "  inflating: images_training_rev1/991080.jpg  \n",
            "  inflating: images_training_rev1/991088.jpg  \n",
            "  inflating: images_training_rev1/991089.jpg  \n",
            "  inflating: images_training_rev1/991103.jpg  \n",
            "  inflating: images_training_rev1/991150.jpg  \n",
            "  inflating: images_training_rev1/991159.jpg  \n",
            "  inflating: images_training_rev1/991162.jpg  \n",
            "  inflating: images_training_rev1/991171.jpg  \n",
            "  inflating: images_training_rev1/991175.jpg  \n",
            "  inflating: images_training_rev1/991223.jpg  \n",
            "  inflating: images_training_rev1/991227.jpg  \n",
            "  inflating: images_training_rev1/991256.jpg  \n",
            "  inflating: images_training_rev1/991298.jpg  \n",
            "  inflating: images_training_rev1/991364.jpg  \n",
            "  inflating: images_training_rev1/991381.jpg  \n",
            "  inflating: images_training_rev1/991401.jpg  \n",
            "  inflating: images_training_rev1/991423.jpg  \n",
            "  inflating: images_training_rev1/991426.jpg  \n",
            "  inflating: images_training_rev1/991431.jpg  \n",
            "  inflating: images_training_rev1/991484.jpg  \n",
            "  inflating: images_training_rev1/991505.jpg  \n",
            "  inflating: images_training_rev1/991519.jpg  \n",
            "  inflating: images_training_rev1/991542.jpg  \n",
            "  inflating: images_training_rev1/991547.jpg  \n",
            "  inflating: images_training_rev1/991603.jpg  \n",
            "  inflating: images_training_rev1/991623.jpg  \n",
            "  inflating: images_training_rev1/991665.jpg  \n",
            "  inflating: images_training_rev1/991706.jpg  \n",
            "  inflating: images_training_rev1/991718.jpg  \n",
            "  inflating: images_training_rev1/991755.jpg  \n",
            "  inflating: images_training_rev1/991768.jpg  \n",
            "  inflating: images_training_rev1/991797.jpg  \n",
            "  inflating: images_training_rev1/991817.jpg  \n",
            "  inflating: images_training_rev1/991818.jpg  \n",
            "  inflating: images_training_rev1/991822.jpg  \n",
            "  inflating: images_training_rev1/991834.jpg  \n",
            "  inflating: images_training_rev1/991839.jpg  \n",
            "  inflating: images_training_rev1/991848.jpg  \n",
            "  inflating: images_training_rev1/991852.jpg  \n",
            "  inflating: images_training_rev1/991888.jpg  \n",
            "  inflating: images_training_rev1/991929.jpg  \n",
            "  inflating: images_training_rev1/991984.jpg  \n",
            "  inflating: images_training_rev1/992005.jpg  \n",
            "  inflating: images_training_rev1/992009.jpg  \n",
            "  inflating: images_training_rev1/992040.jpg  \n",
            "  inflating: images_training_rev1/992046.jpg  \n",
            "  inflating: images_training_rev1/992069.jpg  \n",
            "  inflating: images_training_rev1/992093.jpg  \n",
            "  inflating: images_training_rev1/992108.jpg  \n",
            "  inflating: images_training_rev1/992139.jpg  \n",
            "  inflating: images_training_rev1/992144.jpg  \n",
            "  inflating: images_training_rev1/992173.jpg  \n",
            "  inflating: images_training_rev1/992185.jpg  \n",
            "  inflating: images_training_rev1/992191.jpg  \n",
            "  inflating: images_training_rev1/992195.jpg  \n",
            "  inflating: images_training_rev1/992221.jpg  \n",
            "  inflating: images_training_rev1/992249.jpg  \n",
            "  inflating: images_training_rev1/992260.jpg  \n",
            "  inflating: images_training_rev1/992271.jpg  \n",
            "  inflating: images_training_rev1/992275.jpg  \n",
            "  inflating: images_training_rev1/992294.jpg  \n",
            "  inflating: images_training_rev1/992296.jpg  \n",
            "  inflating: images_training_rev1/992308.jpg  \n",
            "  inflating: images_training_rev1/992312.jpg  \n",
            "  inflating: images_training_rev1/992332.jpg  \n",
            "  inflating: images_training_rev1/992339.jpg  \n",
            "  inflating: images_training_rev1/992352.jpg  \n",
            "  inflating: images_training_rev1/992378.jpg  \n",
            "  inflating: images_training_rev1/992382.jpg  \n",
            "  inflating: images_training_rev1/992389.jpg  \n",
            "  inflating: images_training_rev1/992402.jpg  \n",
            "  inflating: images_training_rev1/992408.jpg  \n",
            "  inflating: images_training_rev1/992426.jpg  \n",
            "  inflating: images_training_rev1/992427.jpg  \n",
            "  inflating: images_training_rev1/992434.jpg  \n",
            "  inflating: images_training_rev1/992475.jpg  \n",
            "  inflating: images_training_rev1/992478.jpg  \n",
            "  inflating: images_training_rev1/992521.jpg  \n",
            "  inflating: images_training_rev1/992546.jpg  \n",
            "  inflating: images_training_rev1/992604.jpg  \n",
            "  inflating: images_training_rev1/992617.jpg  \n",
            "  inflating: images_training_rev1/992623.jpg  \n",
            "  inflating: images_training_rev1/992642.jpg  \n",
            "  inflating: images_training_rev1/992646.jpg  \n",
            "  inflating: images_training_rev1/992649.jpg  \n",
            "  inflating: images_training_rev1/992656.jpg  \n",
            "  inflating: images_training_rev1/992658.jpg  \n",
            "  inflating: images_training_rev1/992663.jpg  \n",
            "  inflating: images_training_rev1/992671.jpg  \n",
            "  inflating: images_training_rev1/992676.jpg  \n",
            "  inflating: images_training_rev1/992687.jpg  \n",
            "  inflating: images_training_rev1/992692.jpg  \n",
            "  inflating: images_training_rev1/992741.jpg  \n",
            "  inflating: images_training_rev1/992748.jpg  \n",
            "  inflating: images_training_rev1/992762.jpg  \n",
            "  inflating: images_training_rev1/992770.jpg  \n",
            "  inflating: images_training_rev1/992771.jpg  \n",
            "  inflating: images_training_rev1/992777.jpg  \n",
            "  inflating: images_training_rev1/992785.jpg  \n",
            "  inflating: images_training_rev1/992790.jpg  \n",
            "  inflating: images_training_rev1/992791.jpg  \n",
            "  inflating: images_training_rev1/992799.jpg  \n",
            "  inflating: images_training_rev1/992809.jpg  \n",
            "  inflating: images_training_rev1/992828.jpg  \n",
            "  inflating: images_training_rev1/992850.jpg  \n",
            "  inflating: images_training_rev1/992851.jpg  \n",
            "  inflating: images_training_rev1/992856.jpg  \n",
            "  inflating: images_training_rev1/992864.jpg  \n",
            "  inflating: images_training_rev1/992867.jpg  \n",
            "  inflating: images_training_rev1/992877.jpg  \n",
            "  inflating: images_training_rev1/992921.jpg  \n",
            "  inflating: images_training_rev1/992932.jpg  \n",
            "  inflating: images_training_rev1/992956.jpg  \n",
            "  inflating: images_training_rev1/992978.jpg  \n",
            "  inflating: images_training_rev1/992985.jpg  \n",
            "  inflating: images_training_rev1/992986.jpg  \n",
            "  inflating: images_training_rev1/993037.jpg  \n",
            "  inflating: images_training_rev1/993040.jpg  \n",
            "  inflating: images_training_rev1/993047.jpg  \n",
            "  inflating: images_training_rev1/993054.jpg  \n",
            "  inflating: images_training_rev1/993056.jpg  \n",
            "  inflating: images_training_rev1/993061.jpg  \n",
            "  inflating: images_training_rev1/993094.jpg  \n",
            "  inflating: images_training_rev1/993111.jpg  \n",
            "  inflating: images_training_rev1/993124.jpg  \n",
            "  inflating: images_training_rev1/993144.jpg  \n",
            "  inflating: images_training_rev1/993147.jpg  \n",
            "  inflating: images_training_rev1/993151.jpg  \n",
            "  inflating: images_training_rev1/993183.jpg  \n",
            "  inflating: images_training_rev1/993279.jpg  \n",
            "  inflating: images_training_rev1/993282.jpg  \n",
            "  inflating: images_training_rev1/993285.jpg  \n",
            "  inflating: images_training_rev1/993323.jpg  \n",
            "  inflating: images_training_rev1/993334.jpg  \n",
            "  inflating: images_training_rev1/993338.jpg  \n",
            "  inflating: images_training_rev1/993366.jpg  \n",
            "  inflating: images_training_rev1/993371.jpg  \n",
            "  inflating: images_training_rev1/993380.jpg  \n",
            "  inflating: images_training_rev1/993399.jpg  \n",
            "  inflating: images_training_rev1/993420.jpg  \n",
            "  inflating: images_training_rev1/993428.jpg  \n",
            "  inflating: images_training_rev1/993434.jpg  \n",
            "  inflating: images_training_rev1/993470.jpg  \n",
            "  inflating: images_training_rev1/993484.jpg  \n",
            "  inflating: images_training_rev1/993523.jpg  \n",
            "  inflating: images_training_rev1/993535.jpg  \n",
            "  inflating: images_training_rev1/993546.jpg  \n",
            "  inflating: images_training_rev1/993556.jpg  \n",
            "  inflating: images_training_rev1/993577.jpg  \n",
            "  inflating: images_training_rev1/993599.jpg  \n",
            "  inflating: images_training_rev1/993615.jpg  \n",
            "  inflating: images_training_rev1/993646.jpg  \n",
            "  inflating: images_training_rev1/993681.jpg  \n",
            "  inflating: images_training_rev1/993700.jpg  \n",
            "  inflating: images_training_rev1/993738.jpg  \n",
            "  inflating: images_training_rev1/993739.jpg  \n",
            "  inflating: images_training_rev1/993758.jpg  \n",
            "  inflating: images_training_rev1/993830.jpg  \n",
            "  inflating: images_training_rev1/993840.jpg  \n",
            "  inflating: images_training_rev1/993859.jpg  \n",
            "  inflating: images_training_rev1/993869.jpg  \n",
            "  inflating: images_training_rev1/993870.jpg  \n",
            "  inflating: images_training_rev1/993872.jpg  \n",
            "  inflating: images_training_rev1/993896.jpg  \n",
            "  inflating: images_training_rev1/993900.jpg  \n",
            "  inflating: images_training_rev1/993915.jpg  \n",
            "  inflating: images_training_rev1/993920.jpg  \n",
            "  inflating: images_training_rev1/993922.jpg  \n",
            "  inflating: images_training_rev1/993930.jpg  \n",
            "  inflating: images_training_rev1/993959.jpg  \n",
            "  inflating: images_training_rev1/993980.jpg  \n",
            "  inflating: images_training_rev1/993982.jpg  \n",
            "  inflating: images_training_rev1/993988.jpg  \n",
            "  inflating: images_training_rev1/994018.jpg  \n",
            "  inflating: images_training_rev1/994031.jpg  \n",
            "  inflating: images_training_rev1/994064.jpg  \n",
            "  inflating: images_training_rev1/994096.jpg  \n",
            "  inflating: images_training_rev1/994114.jpg  \n",
            "  inflating: images_training_rev1/994145.jpg  \n",
            "  inflating: images_training_rev1/994152.jpg  \n",
            "  inflating: images_training_rev1/994186.jpg  \n",
            "  inflating: images_training_rev1/994191.jpg  \n",
            "  inflating: images_training_rev1/994195.jpg  \n",
            "  inflating: images_training_rev1/994219.jpg  \n",
            "  inflating: images_training_rev1/994243.jpg  \n",
            "  inflating: images_training_rev1/994287.jpg  \n",
            "  inflating: images_training_rev1/994288.jpg  \n",
            "  inflating: images_training_rev1/994298.jpg  \n",
            "  inflating: images_training_rev1/994313.jpg  \n",
            "  inflating: images_training_rev1/994314.jpg  \n",
            "  inflating: images_training_rev1/994324.jpg  \n",
            "  inflating: images_training_rev1/994333.jpg  \n",
            "  inflating: images_training_rev1/994347.jpg  \n",
            "  inflating: images_training_rev1/994357.jpg  \n",
            "  inflating: images_training_rev1/994361.jpg  \n",
            "  inflating: images_training_rev1/994367.jpg  \n",
            "  inflating: images_training_rev1/994401.jpg  \n",
            "  inflating: images_training_rev1/994402.jpg  \n",
            "  inflating: images_training_rev1/994409.jpg  \n",
            "  inflating: images_training_rev1/994438.jpg  \n",
            "  inflating: images_training_rev1/994454.jpg  \n",
            "  inflating: images_training_rev1/994474.jpg  \n",
            "  inflating: images_training_rev1/994476.jpg  \n",
            "  inflating: images_training_rev1/994480.jpg  \n",
            "  inflating: images_training_rev1/994503.jpg  \n",
            "  inflating: images_training_rev1/994517.jpg  \n",
            "  inflating: images_training_rev1/994549.jpg  \n",
            "  inflating: images_training_rev1/994553.jpg  \n",
            "  inflating: images_training_rev1/994560.jpg  \n",
            "  inflating: images_training_rev1/994573.jpg  \n",
            "  inflating: images_training_rev1/994602.jpg  \n",
            "  inflating: images_training_rev1/994630.jpg  \n",
            "  inflating: images_training_rev1/994632.jpg  \n",
            "  inflating: images_training_rev1/994644.jpg  \n",
            "  inflating: images_training_rev1/994717.jpg  \n",
            "  inflating: images_training_rev1/994768.jpg  \n",
            "  inflating: images_training_rev1/994834.jpg  \n",
            "  inflating: images_training_rev1/994835.jpg  \n",
            "  inflating: images_training_rev1/994838.jpg  \n",
            "  inflating: images_training_rev1/994845.jpg  \n",
            "  inflating: images_training_rev1/994860.jpg  \n",
            "  inflating: images_training_rev1/994886.jpg  \n",
            "  inflating: images_training_rev1/994890.jpg  \n",
            "  inflating: images_training_rev1/994904.jpg  \n",
            "  inflating: images_training_rev1/994909.jpg  \n",
            "  inflating: images_training_rev1/994910.jpg  \n",
            "  inflating: images_training_rev1/994929.jpg  \n",
            "  inflating: images_training_rev1/994935.jpg  \n",
            "  inflating: images_training_rev1/994967.jpg  \n",
            "  inflating: images_training_rev1/994989.jpg  \n",
            "  inflating: images_training_rev1/994990.jpg  \n",
            "  inflating: images_training_rev1/994997.jpg  \n",
            "  inflating: images_training_rev1/995012.jpg  \n",
            "  inflating: images_training_rev1/995053.jpg  \n",
            "  inflating: images_training_rev1/995054.jpg  \n",
            "  inflating: images_training_rev1/995056.jpg  \n",
            "  inflating: images_training_rev1/995061.jpg  \n",
            "  inflating: images_training_rev1/995091.jpg  \n",
            "  inflating: images_training_rev1/995128.jpg  \n",
            "  inflating: images_training_rev1/995131.jpg  \n",
            "  inflating: images_training_rev1/995137.jpg  \n",
            "  inflating: images_training_rev1/995138.jpg  \n",
            "  inflating: images_training_rev1/995152.jpg  \n",
            "  inflating: images_training_rev1/995153.jpg  \n",
            "  inflating: images_training_rev1/995170.jpg  \n",
            "  inflating: images_training_rev1/995185.jpg  \n",
            "  inflating: images_training_rev1/995227.jpg  \n",
            "  inflating: images_training_rev1/995229.jpg  \n",
            "  inflating: images_training_rev1/995241.jpg  \n",
            "  inflating: images_training_rev1/995256.jpg  \n",
            "  inflating: images_training_rev1/995275.jpg  \n",
            "  inflating: images_training_rev1/995280.jpg  \n",
            "  inflating: images_training_rev1/995286.jpg  \n",
            "  inflating: images_training_rev1/995300.jpg  \n",
            "  inflating: images_training_rev1/995308.jpg  \n",
            "  inflating: images_training_rev1/995364.jpg  \n",
            "  inflating: images_training_rev1/995365.jpg  \n",
            "  inflating: images_training_rev1/995367.jpg  \n",
            "  inflating: images_training_rev1/995379.jpg  \n",
            "  inflating: images_training_rev1/995382.jpg  \n",
            "  inflating: images_training_rev1/995416.jpg  \n",
            "  inflating: images_training_rev1/995419.jpg  \n",
            "  inflating: images_training_rev1/995423.jpg  \n",
            "  inflating: images_training_rev1/995429.jpg  \n",
            "  inflating: images_training_rev1/995503.jpg  \n",
            "  inflating: images_training_rev1/995507.jpg  \n",
            "  inflating: images_training_rev1/995529.jpg  \n",
            "  inflating: images_training_rev1/995542.jpg  \n",
            "  inflating: images_training_rev1/995559.jpg  \n",
            "  inflating: images_training_rev1/995581.jpg  \n",
            "  inflating: images_training_rev1/995605.jpg  \n",
            "  inflating: images_training_rev1/995616.jpg  \n",
            "  inflating: images_training_rev1/995625.jpg  \n",
            "  inflating: images_training_rev1/995634.jpg  \n",
            "  inflating: images_training_rev1/995636.jpg  \n",
            "  inflating: images_training_rev1/995638.jpg  \n",
            "  inflating: images_training_rev1/995658.jpg  \n",
            "  inflating: images_training_rev1/995659.jpg  \n",
            "  inflating: images_training_rev1/995702.jpg  \n",
            "  inflating: images_training_rev1/995771.jpg  \n",
            "  inflating: images_training_rev1/995783.jpg  \n",
            "  inflating: images_training_rev1/995793.jpg  \n",
            "  inflating: images_training_rev1/995815.jpg  \n",
            "  inflating: images_training_rev1/995858.jpg  \n",
            "  inflating: images_training_rev1/995867.jpg  \n",
            "  inflating: images_training_rev1/995869.jpg  \n",
            "  inflating: images_training_rev1/995891.jpg  \n",
            "  inflating: images_training_rev1/995924.jpg  \n",
            "  inflating: images_training_rev1/995946.jpg  \n",
            "  inflating: images_training_rev1/995975.jpg  \n",
            "  inflating: images_training_rev1/995978.jpg  \n",
            "  inflating: images_training_rev1/995993.jpg  \n",
            "  inflating: images_training_rev1/996026.jpg  \n",
            "  inflating: images_training_rev1/996030.jpg  \n",
            "  inflating: images_training_rev1/996040.jpg  \n",
            "  inflating: images_training_rev1/996043.jpg  \n",
            "  inflating: images_training_rev1/996047.jpg  \n",
            "  inflating: images_training_rev1/996064.jpg  \n",
            "  inflating: images_training_rev1/996085.jpg  \n",
            "  inflating: images_training_rev1/996116.jpg  \n",
            "  inflating: images_training_rev1/996128.jpg  \n",
            "  inflating: images_training_rev1/996138.jpg  \n",
            "  inflating: images_training_rev1/996164.jpg  \n",
            "  inflating: images_training_rev1/996186.jpg  \n",
            "  inflating: images_training_rev1/996192.jpg  \n",
            "  inflating: images_training_rev1/996195.jpg  \n",
            "  inflating: images_training_rev1/996227.jpg  \n",
            "  inflating: images_training_rev1/996234.jpg  \n",
            "  inflating: images_training_rev1/996288.jpg  \n",
            "  inflating: images_training_rev1/996295.jpg  \n",
            "  inflating: images_training_rev1/996299.jpg  \n",
            "  inflating: images_training_rev1/996302.jpg  \n",
            "  inflating: images_training_rev1/996329.jpg  \n",
            "  inflating: images_training_rev1/996350.jpg  \n",
            "  inflating: images_training_rev1/996359.jpg  \n",
            "  inflating: images_training_rev1/996363.jpg  \n",
            "  inflating: images_training_rev1/996385.jpg  \n",
            "  inflating: images_training_rev1/996396.jpg  \n",
            "  inflating: images_training_rev1/996431.jpg  \n",
            "  inflating: images_training_rev1/996443.jpg  \n",
            "  inflating: images_training_rev1/996452.jpg  \n",
            "  inflating: images_training_rev1/996480.jpg  \n",
            "  inflating: images_training_rev1/996508.jpg  \n",
            "  inflating: images_training_rev1/996510.jpg  \n",
            "  inflating: images_training_rev1/996535.jpg  \n",
            "  inflating: images_training_rev1/996537.jpg  \n",
            "  inflating: images_training_rev1/996542.jpg  \n",
            "  inflating: images_training_rev1/996552.jpg  \n",
            "  inflating: images_training_rev1/996566.jpg  \n",
            "  inflating: images_training_rev1/996585.jpg  \n",
            "  inflating: images_training_rev1/996595.jpg  \n",
            "  inflating: images_training_rev1/996598.jpg  \n",
            "  inflating: images_training_rev1/996602.jpg  \n",
            "  inflating: images_training_rev1/996625.jpg  \n",
            "  inflating: images_training_rev1/996629.jpg  \n",
            "  inflating: images_training_rev1/996646.jpg  \n",
            "  inflating: images_training_rev1/996661.jpg  \n",
            "  inflating: images_training_rev1/996665.jpg  \n",
            "  inflating: images_training_rev1/996666.jpg  \n",
            "  inflating: images_training_rev1/996699.jpg  \n",
            "  inflating: images_training_rev1/996701.jpg  \n",
            "  inflating: images_training_rev1/996705.jpg  \n",
            "  inflating: images_training_rev1/996707.jpg  \n",
            "  inflating: images_training_rev1/996727.jpg  \n",
            "  inflating: images_training_rev1/996783.jpg  \n",
            "  inflating: images_training_rev1/996806.jpg  \n",
            "  inflating: images_training_rev1/996813.jpg  \n",
            "  inflating: images_training_rev1/996814.jpg  \n",
            "  inflating: images_training_rev1/996830.jpg  \n",
            "  inflating: images_training_rev1/996835.jpg  \n",
            "  inflating: images_training_rev1/996836.jpg  \n",
            "  inflating: images_training_rev1/996844.jpg  \n",
            "  inflating: images_training_rev1/996846.jpg  \n",
            "  inflating: images_training_rev1/996854.jpg  \n",
            "  inflating: images_training_rev1/996869.jpg  \n",
            "  inflating: images_training_rev1/996907.jpg  \n",
            "  inflating: images_training_rev1/996919.jpg  \n",
            "  inflating: images_training_rev1/996922.jpg  \n",
            "  inflating: images_training_rev1/996944.jpg  \n",
            "  inflating: images_training_rev1/996945.jpg  \n",
            "  inflating: images_training_rev1/996957.jpg  \n",
            "  inflating: images_training_rev1/997008.jpg  \n",
            "  inflating: images_training_rev1/997040.jpg  \n",
            "  inflating: images_training_rev1/997069.jpg  \n",
            "  inflating: images_training_rev1/997072.jpg  \n",
            "  inflating: images_training_rev1/997090.jpg  \n",
            "  inflating: images_training_rev1/997093.jpg  \n",
            "  inflating: images_training_rev1/997120.jpg  \n",
            "  inflating: images_training_rev1/997132.jpg  \n",
            "  inflating: images_training_rev1/997133.jpg  \n",
            "  inflating: images_training_rev1/997140.jpg  \n",
            "  inflating: images_training_rev1/997149.jpg  \n",
            "  inflating: images_training_rev1/997152.jpg  \n",
            "  inflating: images_training_rev1/997153.jpg  \n",
            "  inflating: images_training_rev1/997170.jpg  \n",
            "  inflating: images_training_rev1/997185.jpg  \n",
            "  inflating: images_training_rev1/997199.jpg  \n",
            "  inflating: images_training_rev1/997240.jpg  \n",
            "  inflating: images_training_rev1/997244.jpg  \n",
            "  inflating: images_training_rev1/997260.jpg  \n",
            "  inflating: images_training_rev1/997265.jpg  \n",
            "  inflating: images_training_rev1/997291.jpg  \n",
            "  inflating: images_training_rev1/997296.jpg  \n",
            "  inflating: images_training_rev1/997298.jpg  \n",
            "  inflating: images_training_rev1/997314.jpg  \n",
            "  inflating: images_training_rev1/997316.jpg  \n",
            "  inflating: images_training_rev1/997319.jpg  \n",
            "  inflating: images_training_rev1/997342.jpg  \n",
            "  inflating: images_training_rev1/997348.jpg  \n",
            "  inflating: images_training_rev1/997362.jpg  \n",
            "  inflating: images_training_rev1/997372.jpg  \n",
            "  inflating: images_training_rev1/997390.jpg  \n",
            "  inflating: images_training_rev1/997404.jpg  \n",
            "  inflating: images_training_rev1/997405.jpg  \n",
            "  inflating: images_training_rev1/997424.jpg  \n",
            "  inflating: images_training_rev1/997456.jpg  \n",
            "  inflating: images_training_rev1/997459.jpg  \n",
            "  inflating: images_training_rev1/997487.jpg  \n",
            "  inflating: images_training_rev1/997503.jpg  \n",
            "  inflating: images_training_rev1/997559.jpg  \n",
            "  inflating: images_training_rev1/997582.jpg  \n",
            "  inflating: images_training_rev1/997586.jpg  \n",
            "  inflating: images_training_rev1/997596.jpg  \n",
            "  inflating: images_training_rev1/997627.jpg  \n",
            "  inflating: images_training_rev1/997634.jpg  \n",
            "  inflating: images_training_rev1/997646.jpg  \n",
            "  inflating: images_training_rev1/997652.jpg  \n",
            "  inflating: images_training_rev1/997664.jpg  \n",
            "  inflating: images_training_rev1/997668.jpg  \n",
            "  inflating: images_training_rev1/997669.jpg  \n",
            "  inflating: images_training_rev1/997691.jpg  \n",
            "  inflating: images_training_rev1/997713.jpg  \n",
            "  inflating: images_training_rev1/997717.jpg  \n",
            "  inflating: images_training_rev1/997725.jpg  \n",
            "  inflating: images_training_rev1/997726.jpg  \n",
            "  inflating: images_training_rev1/997749.jpg  \n",
            "  inflating: images_training_rev1/997788.jpg  \n",
            "  inflating: images_training_rev1/997804.jpg  \n",
            "  inflating: images_training_rev1/997823.jpg  \n",
            "  inflating: images_training_rev1/997826.jpg  \n",
            "  inflating: images_training_rev1/997827.jpg  \n",
            "  inflating: images_training_rev1/997840.jpg  \n",
            "  inflating: images_training_rev1/997842.jpg  \n",
            "  inflating: images_training_rev1/997863.jpg  \n",
            "  inflating: images_training_rev1/997871.jpg  \n",
            "  inflating: images_training_rev1/997882.jpg  \n",
            "  inflating: images_training_rev1/997889.jpg  \n",
            "  inflating: images_training_rev1/997899.jpg  \n",
            "  inflating: images_training_rev1/997901.jpg  \n",
            "  inflating: images_training_rev1/997911.jpg  \n",
            "  inflating: images_training_rev1/997935.jpg  \n",
            "  inflating: images_training_rev1/997966.jpg  \n",
            "  inflating: images_training_rev1/997970.jpg  \n",
            "  inflating: images_training_rev1/997989.jpg  \n",
            "  inflating: images_training_rev1/998009.jpg  \n",
            "  inflating: images_training_rev1/998011.jpg  \n",
            "  inflating: images_training_rev1/998038.jpg  \n",
            "  inflating: images_training_rev1/998039.jpg  \n",
            "  inflating: images_training_rev1/998044.jpg  \n",
            "  inflating: images_training_rev1/998059.jpg  \n",
            "  inflating: images_training_rev1/998062.jpg  \n",
            "  inflating: images_training_rev1/998077.jpg  \n",
            "  inflating: images_training_rev1/998097.jpg  \n",
            "  inflating: images_training_rev1/998126.jpg  \n",
            "  inflating: images_training_rev1/998133.jpg  \n",
            "  inflating: images_training_rev1/998158.jpg  \n",
            "  inflating: images_training_rev1/998178.jpg  \n",
            "  inflating: images_training_rev1/998202.jpg  \n",
            "  inflating: images_training_rev1/998205.jpg  \n",
            "  inflating: images_training_rev1/998215.jpg  \n",
            "  inflating: images_training_rev1/998220.jpg  \n",
            "  inflating: images_training_rev1/998221.jpg  \n",
            "  inflating: images_training_rev1/998245.jpg  \n",
            "  inflating: images_training_rev1/998252.jpg  \n",
            "  inflating: images_training_rev1/998288.jpg  \n",
            "  inflating: images_training_rev1/998296.jpg  \n",
            "  inflating: images_training_rev1/998313.jpg  \n",
            "  inflating: images_training_rev1/998334.jpg  \n",
            "  inflating: images_training_rev1/998339.jpg  \n",
            "  inflating: images_training_rev1/998343.jpg  \n",
            "  inflating: images_training_rev1/998352.jpg  \n",
            "  inflating: images_training_rev1/998355.jpg  \n",
            "  inflating: images_training_rev1/998356.jpg  \n",
            "  inflating: images_training_rev1/998362.jpg  \n",
            "  inflating: images_training_rev1/998370.jpg  \n",
            "  inflating: images_training_rev1/998378.jpg  \n",
            "  inflating: images_training_rev1/998406.jpg  \n",
            "  inflating: images_training_rev1/998410.jpg  \n",
            "  inflating: images_training_rev1/998418.jpg  \n",
            "  inflating: images_training_rev1/998437.jpg  \n",
            "  inflating: images_training_rev1/998463.jpg  \n",
            "  inflating: images_training_rev1/998471.jpg  \n",
            "  inflating: images_training_rev1/998489.jpg  \n",
            "  inflating: images_training_rev1/998492.jpg  \n",
            "  inflating: images_training_rev1/998501.jpg  \n",
            "  inflating: images_training_rev1/998503.jpg  \n",
            "  inflating: images_training_rev1/998507.jpg  \n",
            "  inflating: images_training_rev1/998517.jpg  \n",
            "  inflating: images_training_rev1/998525.jpg  \n",
            "  inflating: images_training_rev1/998542.jpg  \n",
            "  inflating: images_training_rev1/998552.jpg  \n",
            "  inflating: images_training_rev1/998570.jpg  \n",
            "  inflating: images_training_rev1/998575.jpg  \n",
            "  inflating: images_training_rev1/998579.jpg  \n",
            "  inflating: images_training_rev1/998599.jpg  \n",
            "  inflating: images_training_rev1/998612.jpg  \n",
            "  inflating: images_training_rev1/998628.jpg  \n",
            "  inflating: images_training_rev1/998629.jpg  \n",
            "  inflating: images_training_rev1/998645.jpg  \n",
            "  inflating: images_training_rev1/998649.jpg  \n",
            "  inflating: images_training_rev1/998659.jpg  \n",
            "  inflating: images_training_rev1/998661.jpg  \n",
            "  inflating: images_training_rev1/998662.jpg  \n",
            "  inflating: images_training_rev1/998669.jpg  \n",
            "  inflating: images_training_rev1/998723.jpg  \n",
            "  inflating: images_training_rev1/998735.jpg  \n",
            "  inflating: images_training_rev1/998751.jpg  \n",
            "  inflating: images_training_rev1/998784.jpg  \n",
            "  inflating: images_training_rev1/998789.jpg  \n",
            "  inflating: images_training_rev1/998814.jpg  \n",
            "  inflating: images_training_rev1/998816.jpg  \n",
            "  inflating: images_training_rev1/998823.jpg  \n",
            "  inflating: images_training_rev1/998874.jpg  \n",
            "  inflating: images_training_rev1/998907.jpg  \n",
            "  inflating: images_training_rev1/998911.jpg  \n",
            "  inflating: images_training_rev1/998915.jpg  \n",
            "  inflating: images_training_rev1/998927.jpg  \n",
            "  inflating: images_training_rev1/998931.jpg  \n",
            "  inflating: images_training_rev1/998947.jpg  \n",
            "  inflating: images_training_rev1/999002.jpg  \n",
            "  inflating: images_training_rev1/999003.jpg  \n",
            "  inflating: images_training_rev1/999031.jpg  \n",
            "  inflating: images_training_rev1/999035.jpg  \n",
            "  inflating: images_training_rev1/999045.jpg  \n",
            "  inflating: images_training_rev1/999093.jpg  \n",
            "  inflating: images_training_rev1/999100.jpg  \n",
            "  inflating: images_training_rev1/999108.jpg  \n",
            "  inflating: images_training_rev1/999120.jpg  \n",
            "  inflating: images_training_rev1/999128.jpg  \n",
            "  inflating: images_training_rev1/999137.jpg  \n",
            "  inflating: images_training_rev1/999179.jpg  \n",
            "  inflating: images_training_rev1/999199.jpg  \n",
            "  inflating: images_training_rev1/999263.jpg  \n",
            "  inflating: images_training_rev1/999264.jpg  \n",
            "  inflating: images_training_rev1/999274.jpg  \n",
            "  inflating: images_training_rev1/999289.jpg  \n",
            "  inflating: images_training_rev1/999293.jpg  \n",
            "  inflating: images_training_rev1/999307.jpg  \n",
            "  inflating: images_training_rev1/999308.jpg  \n",
            "  inflating: images_training_rev1/999353.jpg  \n",
            "  inflating: images_training_rev1/999354.jpg  \n",
            "  inflating: images_training_rev1/999393.jpg  \n",
            "  inflating: images_training_rev1/999398.jpg  \n",
            "  inflating: images_training_rev1/999415.jpg  \n",
            "  inflating: images_training_rev1/999418.jpg  \n",
            "  inflating: images_training_rev1/999423.jpg  \n",
            "  inflating: images_training_rev1/999435.jpg  \n",
            "  inflating: images_training_rev1/999475.jpg  \n",
            "  inflating: images_training_rev1/999502.jpg  \n",
            "  inflating: images_training_rev1/999508.jpg  \n",
            "  inflating: images_training_rev1/999530.jpg  \n",
            "  inflating: images_training_rev1/999540.jpg  \n",
            "  inflating: images_training_rev1/999569.jpg  \n",
            "  inflating: images_training_rev1/999604.jpg  \n",
            "  inflating: images_training_rev1/999622.jpg  \n",
            "  inflating: images_training_rev1/999655.jpg  \n",
            "  inflating: images_training_rev1/999680.jpg  \n",
            "  inflating: images_training_rev1/999685.jpg  \n",
            "  inflating: images_training_rev1/999687.jpg  \n",
            "  inflating: images_training_rev1/999689.jpg  \n",
            "  inflating: images_training_rev1/999731.jpg  \n",
            "  inflating: images_training_rev1/999753.jpg  \n",
            "  inflating: images_training_rev1/999777.jpg  \n",
            "  inflating: images_training_rev1/999781.jpg  \n",
            "  inflating: images_training_rev1/999786.jpg  \n",
            "  inflating: images_training_rev1/999795.jpg  \n",
            "  inflating: images_training_rev1/999873.jpg  \n",
            "  inflating: images_training_rev1/999875.jpg  \n",
            "  inflating: images_training_rev1/999890.jpg  \n",
            "  inflating: images_training_rev1/999893.jpg  \n",
            "  inflating: images_training_rev1/999900.jpg  \n",
            "  inflating: images_training_rev1/999936.jpg  \n",
            "  inflating: images_training_rev1/999948.jpg  \n",
            "  inflating: images_training_rev1/999950.jpg  \n",
            "  inflating: images_training_rev1/999958.jpg  \n",
            "  inflating: images_training_rev1/999964.jpg  \n",
            "  inflating: images_training_rev1/999967.jpg  \n"
          ],
          "name": "stdout"
        }
      ]
    },
    {
      "cell_type": "code",
      "metadata": {
        "id": "oc5KXQBv9nj3"
      },
      "source": [
        "import glob as glob\n",
        "files_train= glob.glob('../content/images_training_rev1/*.jpg')\n"
      ],
      "execution_count": null,
      "outputs": []
    },
    {
      "cell_type": "code",
      "metadata": {
        "id": "x8Uz-0119yhI",
        "outputId": "b52b539c-cdf9-4c9c-c231-935e3cbc5b4d",
        "colab": {
          "base_uri": "https://localhost:8080/",
          "height": 34
        }
      },
      "source": [
        "len(files_train)"
      ],
      "execution_count": null,
      "outputs": [
        {
          "output_type": "execute_result",
          "data": {
            "text/plain": [
              "61578"
            ]
          },
          "metadata": {
            "tags": []
          },
          "execution_count": 4
        }
      ]
    },
    {
      "cell_type": "code",
      "metadata": {
        "id": "qwlREgMwj-6r",
        "outputId": "3d3b44cc-973c-4a32-9501-c40e5791936a",
        "colab": {
          "base_uri": "https://localhost:8080/",
          "height": 191
        }
      },
      "source": [
        "files_train[0:10]"
      ],
      "execution_count": null,
      "outputs": [
        {
          "output_type": "execute_result",
          "data": {
            "text/plain": [
              "['../content/images_training_rev1/730449.jpg',\n",
              " '../content/images_training_rev1/910485.jpg',\n",
              " '../content/images_training_rev1/373020.jpg',\n",
              " '../content/images_training_rev1/290933.jpg',\n",
              " '../content/images_training_rev1/578455.jpg',\n",
              " '../content/images_training_rev1/989505.jpg',\n",
              " '../content/images_training_rev1/804897.jpg',\n",
              " '../content/images_training_rev1/445632.jpg',\n",
              " '../content/images_training_rev1/967467.jpg',\n",
              " '../content/images_training_rev1/844555.jpg']"
            ]
          },
          "metadata": {
            "tags": []
          },
          "execution_count": 5
        }
      ]
    },
    {
      "cell_type": "code",
      "metadata": {
        "id": "kakqMQ7oPwJf"
      },
      "source": [
        "test_y = np.array([\n",
        "            np.int64(files_train[galaxy_id].split('/')[-1].split('.')[0])\n",
        "                    for galaxy_id in range(len(files_train))]) #test label"
      ],
      "execution_count": null,
      "outputs": []
    },
    {
      "cell_type": "code",
      "metadata": {
        "id": "O49EpQLi90P-",
        "outputId": "8904c2bf-6b73-42f4-9761-cca0b13e1297",
        "colab": {
          "base_uri": "https://localhost:8080/",
          "height": 34
        }
      },
      "source": [
        "test_y"
      ],
      "execution_count": null,
      "outputs": [
        {
          "output_type": "execute_result",
          "data": {
            "text/plain": [
              "array([657236, 369038, 470085, ..., 209806, 169790, 604920])"
            ]
          },
          "metadata": {
            "tags": []
          },
          "execution_count": 99
        }
      ]
    },
    {
      "cell_type": "code",
      "metadata": {
        "id": "FjPc-tVi00fp",
        "outputId": "c6651189-57c2-4267-9924-cedcc5b6b247",
        "colab": {
          "base_uri": "https://localhost:8080/",
          "height": 34
        }
      },
      "source": [
        "test_y"
      ],
      "execution_count": null,
      "outputs": [
        {
          "output_type": "execute_result",
          "data": {
            "text/plain": [
              "array([730449, 910485, 373020, ..., 208787, 164513, 180357])"
            ]
          },
          "metadata": {
            "tags": []
          },
          "execution_count": 10
        }
      ]
    },
    {
      "cell_type": "code",
      "metadata": {
        "id": "aAFSv0lK92We",
        "outputId": "4b49ef7a-8374-40b5-b1f1-87bdef91e832",
        "colab": {
          "base_uri": "https://localhost:8080/",
          "height": 34
        }
      },
      "source": [
        "def readImage(address):\n",
        "    x = im.open(address)\n",
        "    x = np.array(x)\n",
        "    return(x)\n",
        "\n",
        "len(files_train)"
      ],
      "execution_count": null,
      "outputs": [
        {
          "output_type": "execute_result",
          "data": {
            "text/plain": [
              "61578"
            ]
          },
          "metadata": {
            "tags": []
          },
          "execution_count": 8
        }
      ]
    },
    {
      "cell_type": "code",
      "metadata": {
        "id": "eqtppfkynjJU",
        "outputId": "b10d48ba-d096-4929-d6d4-ef4bc1e38203",
        "colab": {
          "base_uri": "https://localhost:8080/",
          "height": 72
        }
      },
      "source": [
        "import keras\n",
        "import tensorflow as tf\n",
        "import numpy as np\n",
        "import seaborn as sns\n",
        "import pandas as pd\n",
        "import glob as glob\n",
        "import seaborn as sns\n",
        "import matplotlib.pyplot as plt\n",
        "from skimage.color import rgb2gray\n",
        "from sklearn.decomposition import PCA\n",
        "\n",
        "import PIL.Image as im\n",
        "from sklearn.decomposition import FastICA\n",
        "\n",
        "from sklearn import mixture"
      ],
      "execution_count": null,
      "outputs": [
        {
          "output_type": "stream",
          "text": [
            "/usr/local/lib/python3.6/dist-packages/statsmodels/tools/_testing.py:19: FutureWarning: pandas.util.testing is deprecated. Use the functions in the public API at pandas.testing instead.\n",
            "  import pandas.util.testing as tm\n"
          ],
          "name": "stderr"
        }
      ]
    },
    {
      "cell_type": "code",
      "metadata": {
        "id": "8fvHoO2TnSwi"
      },
      "source": [
        "image=readImage(files_train[1])"
      ],
      "execution_count": null,
      "outputs": []
    },
    {
      "cell_type": "code",
      "metadata": {
        "id": "HxfYzNkwnk_0",
        "outputId": "0eddbdaf-746d-4dd0-b471-eb91f76686fb",
        "colab": {
          "base_uri": "https://localhost:8080/",
          "height": 286
        }
      },
      "source": [
        "plt.imshow(image)"
      ],
      "execution_count": null,
      "outputs": [
        {
          "output_type": "execute_result",
          "data": {
            "text/plain": [
              "<matplotlib.image.AxesImage at 0x7f05c0962320>"
            ]
          },
          "metadata": {
            "tags": []
          },
          "execution_count": 12
        },
        {
          "output_type": "display_data",
          "data": {
            "image/png": "[encoded data removed]",
            "text/plain": [
              "<Figure size 432x288 with 1 Axes>"
            ]
          },
          "metadata": {
            "tags": [],
            "needs_background": "light"
          }
        }
      ]
    },
    {
      "cell_type": "code",
      "metadata": {
        "id": "UGK_eFyLw364"
      },
      "source": [
        "gimage=rgb2gray(image)"
      ],
      "execution_count": null,
      "outputs": []
    },
    {
      "cell_type": "code",
      "metadata": {
        "id": "XmuLquYWwUNO",
        "outputId": "d81bbbdb-e9aa-4fa4-bf23-576d54e24990",
        "colab": {
          "base_uri": "https://localhost:8080/",
          "height": 34
        }
      },
      "source": [
        "transformer = FastICA(random_state=0,n_components=7)\n",
        "X_transformed = transformer.fit_transform(gimage)\n",
        "X_transformed.shape"
      ],
      "execution_count": null,
      "outputs": [
        {
          "output_type": "execute_result",
          "data": {
            "text/plain": [
              "(424, 7)"
            ]
          },
          "metadata": {
            "tags": []
          },
          "execution_count": 153
        }
      ]
    },
    {
      "cell_type": "code",
      "metadata": {
        "id": "DHtu7uIFxhV0",
        "outputId": "8c86d56f-5d41-4ae2-d720-51bed7f33e11",
        "colab": {
          "base_uri": "https://localhost:8080/",
          "height": 34
        }
      },
      "source": [
        "inverse=transformer.inverse_transform(X_transformed)\n",
        "inverse.shape"
      ],
      "execution_count": null,
      "outputs": [
        {
          "output_type": "execute_result",
          "data": {
            "text/plain": [
              "(424, 424)"
            ]
          },
          "metadata": {
            "tags": []
          },
          "execution_count": 154
        }
      ]
    },
    {
      "cell_type": "code",
      "metadata": {
        "id": "D34l79wJzbIk"
      },
      "source": [
        "dpgmm = mixture.BayesianGaussianMixture(n_components=50,\n",
        "                                        covariance_type='full').fit(gimage)"
      ],
      "execution_count": null,
      "outputs": []
    },
    {
      "cell_type": "code",
      "metadata": {
        "id": "YKRTyOF4zqLd",
        "outputId": "76106fe0-1462-4485-e67e-7d8ffa8395b2",
        "colab": {
          "base_uri": "https://localhost:8080/",
          "height": 34
        }
      },
      "source": [
        "dpgmm.covariances_.shape"
      ],
      "execution_count": null,
      "outputs": [
        {
          "output_type": "execute_result",
          "data": {
            "text/plain": [
              "(50, 424, 424)"
            ]
          },
          "metadata": {
            "tags": []
          },
          "execution_count": 160
        }
      ]
    },
    {
      "cell_type": "code",
      "metadata": {
        "id": "ySbIQW_xx6k4",
        "outputId": "96412c02-1e37-4b2d-d7e4-d38837c79f64",
        "colab": {
          "base_uri": "https://localhost:8080/",
          "height": 286
        }
      },
      "source": [
        "plt.imshow(gimage,cmap='gray')"
      ],
      "execution_count": null,
      "outputs": [
        {
          "output_type": "execute_result",
          "data": {
            "text/plain": [
              "<matplotlib.image.AxesImage at 0x7f26fe076f28>"
            ]
          },
          "metadata": {
            "tags": []
          },
          "execution_count": 172
        },
        {
          "output_type": "display_data",
          "data": {
            "image/png": "[encoded data removed]",
            "text/plain": [
              "<Figure size 432x288 with 1 Axes>"
            ]
          },
          "metadata": {
            "tags": [],
            "needs_background": "light"
          }
        }
      ]
    },
    {
      "cell_type": "code",
      "metadata": {
        "id": "Rro_yDjr0xZh",
        "outputId": "ffb1a9d9-bc2b-4a18-f0b0-1da3be761c8c",
        "colab": {
          "base_uri": "https://localhost:8080/",
          "height": 221
        }
      },
      "source": [
        "pcatransv=PCA(n_components=0.99)\n",
        "pcatransm=PCA(n_components='mle')\n",
        "shapedv=pcatransv.fit_transform(gimage)\n",
        "shapedm=pcatransm.fit_transform(gimage)\n",
        "print('variance0.99',shapedv.shape)\n",
        "print('mle',shapedm.shapedm.shape)"
      ],
      "execution_count": null,
      "outputs": [
        {
          "output_type": "error",
          "ename": "AttributeError",
          "evalue": "ignored",
          "traceback": [
            "\u001b[0;31m---------------------------------------------------------------------------\u001b[0m",
            "\u001b[0;31mAttributeError\u001b[0m                            Traceback (most recent call last)",
            "\u001b[0;32m<ipython-input-163-12087a7093cf>\u001b[0m in \u001b[0;36m<module>\u001b[0;34m()\u001b[0m\n\u001b[1;32m      3\u001b[0m \u001b[0mshapedv\u001b[0m\u001b[0;34m=\u001b[0m\u001b[0mpcatransv\u001b[0m\u001b[0;34m.\u001b[0m\u001b[0mfit_transform\u001b[0m\u001b[0;34m(\u001b[0m\u001b[0mgimage\u001b[0m\u001b[0;34m)\u001b[0m\u001b[0;34m\u001b[0m\u001b[0;34m\u001b[0m\u001b[0m\n\u001b[1;32m      4\u001b[0m \u001b[0mshapedm\u001b[0m\u001b[0;34m=\u001b[0m\u001b[0mpcatransm\u001b[0m\u001b[0;34m.\u001b[0m\u001b[0mfit_transform\u001b[0m\u001b[0;34m(\u001b[0m\u001b[0mgimage\u001b[0m\u001b[0;34m)\u001b[0m\u001b[0;34m\u001b[0m\u001b[0;34m\u001b[0m\u001b[0m\n\u001b[0;32m----> 5\u001b[0;31m \u001b[0mprint\u001b[0m\u001b[0;34m(\u001b[0m\u001b[0;34m'variance0.99'\u001b[0m\u001b[0;34m,\u001b[0m\u001b[0mshapedv\u001b[0m\u001b[0;34m.\u001b[0m\u001b[0mshaped\u001b[0m\u001b[0;34m)\u001b[0m\u001b[0;34m\u001b[0m\u001b[0;34m\u001b[0m\u001b[0m\n\u001b[0m\u001b[1;32m      6\u001b[0m \u001b[0mprint\u001b[0m\u001b[0;34m(\u001b[0m\u001b[0;34m'mle'\u001b[0m\u001b[0;34m,\u001b[0m\u001b[0mshapedm\u001b[0m\u001b[0;34m.\u001b[0m\u001b[0mshapedm\u001b[0m\u001b[0;34m.\u001b[0m\u001b[0mshape\u001b[0m\u001b[0;34m)\u001b[0m\u001b[0;34m\u001b[0m\u001b[0;34m\u001b[0m\u001b[0m\n",
            "\u001b[0;31mAttributeError\u001b[0m: 'numpy.ndarray' object has no attribute 'shaped'"
          ]
        }
      ]
    },
    {
      "cell_type": "code",
      "metadata": {
        "id": "iEmPU2CR9CO1",
        "outputId": "dc9dc370-2073-4927-bc6d-89558beb49c5",
        "colab": {
          "base_uri": "https://localhost:8080/",
          "height": 332
        }
      },
      "source": [
        "pcatransv=PCA(n_components=600,svd_solver='auto')\n",
        "shapedv=pcatransv.fit_transform(gimage)"
      ],
      "execution_count": null,
      "outputs": [
        {
          "output_type": "error",
          "ename": "ValueError",
          "evalue": "ignored",
          "traceback": [
            "\u001b[0;31m---------------------------------------------------------------------------\u001b[0m",
            "\u001b[0;31mValueError\u001b[0m                                Traceback (most recent call last)",
            "\u001b[0;32m<ipython-input-186-b452e3d69a96>\u001b[0m in \u001b[0;36m<module>\u001b[0;34m()\u001b[0m\n\u001b[1;32m      1\u001b[0m \u001b[0mpcatransv\u001b[0m\u001b[0;34m=\u001b[0m\u001b[0mPCA\u001b[0m\u001b[0;34m(\u001b[0m\u001b[0mn_components\u001b[0m\u001b[0;34m=\u001b[0m\u001b[0;36m600\u001b[0m\u001b[0;34m,\u001b[0m\u001b[0msvd_solver\u001b[0m\u001b[0;34m=\u001b[0m\u001b[0;34m'auto'\u001b[0m\u001b[0;34m)\u001b[0m\u001b[0;34m\u001b[0m\u001b[0;34m\u001b[0m\u001b[0m\n\u001b[0;32m----> 2\u001b[0;31m \u001b[0mshapedv\u001b[0m\u001b[0;34m=\u001b[0m\u001b[0mpcatransv\u001b[0m\u001b[0;34m.\u001b[0m\u001b[0mfit_transform\u001b[0m\u001b[0;34m(\u001b[0m\u001b[0mgimage\u001b[0m\u001b[0;34m)\u001b[0m\u001b[0;34m\u001b[0m\u001b[0;34m\u001b[0m\u001b[0m\n\u001b[0m",
            "\u001b[0;32m/usr/local/lib/python3.6/dist-packages/sklearn/decomposition/_pca.py\u001b[0m in \u001b[0;36mfit_transform\u001b[0;34m(self, X, y)\u001b[0m\n\u001b[1;32m    367\u001b[0m         \u001b[0mC\u001b[0m\u001b[0;34m-\u001b[0m\u001b[0mordered\u001b[0m \u001b[0marray\u001b[0m\u001b[0;34m,\u001b[0m \u001b[0muse\u001b[0m \u001b[0;34m'np.ascontiguousarray'\u001b[0m\u001b[0;34m.\u001b[0m\u001b[0;34m\u001b[0m\u001b[0;34m\u001b[0m\u001b[0m\n\u001b[1;32m    368\u001b[0m         \"\"\"\n\u001b[0;32m--> 369\u001b[0;31m         \u001b[0mU\u001b[0m\u001b[0;34m,\u001b[0m \u001b[0mS\u001b[0m\u001b[0;34m,\u001b[0m \u001b[0mV\u001b[0m \u001b[0;34m=\u001b[0m \u001b[0mself\u001b[0m\u001b[0;34m.\u001b[0m\u001b[0m_fit\u001b[0m\u001b[0;34m(\u001b[0m\u001b[0mX\u001b[0m\u001b[0;34m)\u001b[0m\u001b[0;34m\u001b[0m\u001b[0;34m\u001b[0m\u001b[0m\n\u001b[0m\u001b[1;32m    370\u001b[0m         \u001b[0mU\u001b[0m \u001b[0;34m=\u001b[0m \u001b[0mU\u001b[0m\u001b[0;34m[\u001b[0m\u001b[0;34m:\u001b[0m\u001b[0;34m,\u001b[0m \u001b[0;34m:\u001b[0m\u001b[0mself\u001b[0m\u001b[0;34m.\u001b[0m\u001b[0mn_components_\u001b[0m\u001b[0;34m]\u001b[0m\u001b[0;34m\u001b[0m\u001b[0;34m\u001b[0m\u001b[0m\n\u001b[1;32m    371\u001b[0m \u001b[0;34m\u001b[0m\u001b[0m\n",
            "\u001b[0;32m/usr/local/lib/python3.6/dist-packages/sklearn/decomposition/_pca.py\u001b[0m in \u001b[0;36m_fit\u001b[0;34m(self, X)\u001b[0m\n\u001b[1;32m    414\u001b[0m         \u001b[0;31m# Call different fits for either full or truncated SVD\u001b[0m\u001b[0;34m\u001b[0m\u001b[0;34m\u001b[0m\u001b[0;34m\u001b[0m\u001b[0m\n\u001b[1;32m    415\u001b[0m         \u001b[0;32mif\u001b[0m \u001b[0mself\u001b[0m\u001b[0;34m.\u001b[0m\u001b[0m_fit_svd_solver\u001b[0m \u001b[0;34m==\u001b[0m \u001b[0;34m'full'\u001b[0m\u001b[0;34m:\u001b[0m\u001b[0;34m\u001b[0m\u001b[0;34m\u001b[0m\u001b[0m\n\u001b[0;32m--> 416\u001b[0;31m             \u001b[0;32mreturn\u001b[0m \u001b[0mself\u001b[0m\u001b[0;34m.\u001b[0m\u001b[0m_fit_full\u001b[0m\u001b[0;34m(\u001b[0m\u001b[0mX\u001b[0m\u001b[0;34m,\u001b[0m \u001b[0mn_components\u001b[0m\u001b[0;34m)\u001b[0m\u001b[0;34m\u001b[0m\u001b[0;34m\u001b[0m\u001b[0m\n\u001b[0m\u001b[1;32m    417\u001b[0m         \u001b[0;32melif\u001b[0m \u001b[0mself\u001b[0m\u001b[0;34m.\u001b[0m\u001b[0m_fit_svd_solver\u001b[0m \u001b[0;32min\u001b[0m \u001b[0;34m[\u001b[0m\u001b[0;34m'arpack'\u001b[0m\u001b[0;34m,\u001b[0m \u001b[0;34m'randomized'\u001b[0m\u001b[0;34m]\u001b[0m\u001b[0;34m:\u001b[0m\u001b[0;34m\u001b[0m\u001b[0;34m\u001b[0m\u001b[0m\n\u001b[1;32m    418\u001b[0m             \u001b[0;32mreturn\u001b[0m \u001b[0mself\u001b[0m\u001b[0;34m.\u001b[0m\u001b[0m_fit_truncated\u001b[0m\u001b[0;34m(\u001b[0m\u001b[0mX\u001b[0m\u001b[0;34m,\u001b[0m \u001b[0mn_components\u001b[0m\u001b[0;34m,\u001b[0m \u001b[0mself\u001b[0m\u001b[0;34m.\u001b[0m\u001b[0m_fit_svd_solver\u001b[0m\u001b[0;34m)\u001b[0m\u001b[0;34m\u001b[0m\u001b[0;34m\u001b[0m\u001b[0m\n",
            "\u001b[0;32m/usr/local/lib/python3.6/dist-packages/sklearn/decomposition/_pca.py\u001b[0m in \u001b[0;36m_fit_full\u001b[0;34m(self, X, n_components)\u001b[0m\n\u001b[1;32m    433\u001b[0m                              \u001b[0;34m\"min(n_samples, n_features)=%r with \"\u001b[0m\u001b[0;34m\u001b[0m\u001b[0;34m\u001b[0m\u001b[0m\n\u001b[1;32m    434\u001b[0m                              \u001b[0;34m\"svd_solver='full'\"\u001b[0m\u001b[0;34m\u001b[0m\u001b[0;34m\u001b[0m\u001b[0m\n\u001b[0;32m--> 435\u001b[0;31m                              % (n_components, min(n_samples, n_features)))\n\u001b[0m\u001b[1;32m    436\u001b[0m         \u001b[0;32melif\u001b[0m \u001b[0mn_components\u001b[0m \u001b[0;34m>=\u001b[0m \u001b[0;36m1\u001b[0m\u001b[0;34m:\u001b[0m\u001b[0;34m\u001b[0m\u001b[0;34m\u001b[0m\u001b[0m\n\u001b[1;32m    437\u001b[0m             \u001b[0;32mif\u001b[0m \u001b[0;32mnot\u001b[0m \u001b[0misinstance\u001b[0m\u001b[0;34m(\u001b[0m\u001b[0mn_components\u001b[0m\u001b[0;34m,\u001b[0m \u001b[0mnumbers\u001b[0m\u001b[0;34m.\u001b[0m\u001b[0mIntegral\u001b[0m\u001b[0;34m)\u001b[0m\u001b[0;34m:\u001b[0m\u001b[0;34m\u001b[0m\u001b[0;34m\u001b[0m\u001b[0m\n",
            "\u001b[0;31mValueError\u001b[0m: n_components=600 must be between 0 and min(n_samples, n_features)=424 with svd_solver='full'"
          ]
        }
      ]
    },
    {
      "cell_type": "code",
      "metadata": {
        "id": "XktURdjA2drd"
      },
      "source": [
        "shapedv=pcatransv.fit_transform(gimage)\n",
        "shapedm=pcatransm.fit_transform(gimage)"
      ],
      "execution_count": null,
      "outputs": []
    },
    {
      "cell_type": "code",
      "metadata": {
        "id": "5saCedYl7eT2",
        "outputId": "605bb2cc-5647-464a-bb5b-ccad11d06f2f",
        "colab": {
          "base_uri": "https://localhost:8080/",
          "height": 34
        }
      },
      "source": [
        "pcatransv.noise_variance_"
      ],
      "execution_count": null,
      "outputs": [
        {
          "output_type": "execute_result",
          "data": {
            "text/plain": [
              "1.5011036490117784e-05"
            ]
          },
          "metadata": {
            "tags": []
          },
          "execution_count": 181
        }
      ]
    },
    {
      "cell_type": "code",
      "metadata": {
        "id": "O9EwJWIV7n7R",
        "outputId": "ad589b0c-19b3-47d2-b7ba-68b1e8a13ad3",
        "colab": {
          "base_uri": "https://localhost:8080/",
          "height": 34
        }
      },
      "source": [
        "pcatransm.noise_variance_"
      ],
      "execution_count": null,
      "outputs": [
        {
          "output_type": "execute_result",
          "data": {
            "text/plain": [
              "8.905666731575439e-07"
            ]
          },
          "metadata": {
            "tags": []
          },
          "execution_count": 182
        }
      ]
    },
    {
      "cell_type": "code",
      "metadata": {
        "id": "MLzrRRik1rx0",
        "outputId": "082cb3b3-7969-4a99-e61e-05f4bd8576d9",
        "colab": {
          "base_uri": "https://localhost:8080/",
          "height": 52
        }
      },
      "source": [
        "print('variance0.99',shapedv.shape)\n",
        "print('mle',shapedm.shape)"
      ],
      "execution_count": null,
      "outputs": [
        {
          "output_type": "stream",
          "text": [
            "variance0.99 (424, 84)\n",
            "mle (424, 196)\n"
          ],
          "name": "stdout"
        }
      ]
    },
    {
      "cell_type": "code",
      "metadata": {
        "id": "gy8q4JmdNfrx"
      },
      "source": [
        "from sklearn.decomposition import PCA\n",
        "from skimage.color import rgb2gray\n",
        "import numpy as np\n",
        "\n",
        "def pcashape(image,thres):\n",
        "  gim = rgb2gray(image)\n",
        "  #thresh = threshold_otsu(gim)\n",
        "  #binary = gim_286947 > thresh\n",
        "  #plt.imshow(binary,cmap='binary')\n",
        "  pca=PCA(n_components=thres)\n",
        "  shaped=pca.fit_transform(gim)\n",
        "  return np.size(shaped,axis=1)"
      ],
      "execution_count": null,
      "outputs": []
    },
    {
      "cell_type": "code",
      "metadata": {
        "id": "ZntnqA2VOB6q"
      },
      "source": [
        "resall=np.zeros_like(files_train)\n",
        "for i in range (len(files_train)):\n",
        "  image=readImage(files_train[i])\n",
        "  resall[i]=pcashape(image,0.99)"
      ],
      "execution_count": null,
      "outputs": []
    },
    {
      "cell_type": "code",
      "metadata": {
        "id": "x_Q8_OgtgIN-"
      },
      "source": [
        "import numpy as np\n",
        "import matplotlib.pyplot as plt\n",
        "from sklearn.cluster import KMeans"
      ],
      "execution_count": null,
      "outputs": []
    },
    {
      "cell_type": "code",
      "metadata": {
        "id": "O4wuvZ7DQDaS"
      },
      "source": [
        "np.save('/content/drive/My Drive/galaxy/components.npy',resall)"
      ],
      "execution_count": null,
      "outputs": []
    },
    {
      "cell_type": "code",
      "metadata": {
        "id": "O7sxeoiikfuK",
        "outputId": "fa573922-752f-4c85-fc12-40c6820e3a00",
        "colab": {
          "base_uri": "https://localhost:8080/",
          "height": 169
        }
      },
      "source": [
        "resall[20800]"
      ],
      "execution_count": null,
      "outputs": [
        {
          "output_type": "error",
          "ename": "NameError",
          "evalue": "ignored",
          "traceback": [
            "\u001b[0;31m---------------------------------------------------------------------------\u001b[0m",
            "\u001b[0;31mNameError\u001b[0m                                 Traceback (most recent call last)",
            "\u001b[0;32m<ipython-input-18-a9465aba1f17>\u001b[0m in \u001b[0;36m<module>\u001b[0;34m()\u001b[0m\n\u001b[0;32m----> 1\u001b[0;31m \u001b[0mresall\u001b[0m\u001b[0;34m[\u001b[0m\u001b[0;36m20800\u001b[0m\u001b[0;34m]\u001b[0m\u001b[0;34m\u001b[0m\u001b[0;34m\u001b[0m\u001b[0m\n\u001b[0m",
            "\u001b[0;31mNameError\u001b[0m: name 'resall' is not defined"
          ]
        }
      ]
    },
    {
      "cell_type": "code",
      "metadata": {
        "id": "TLbVmPJtkwvO",
        "outputId": "50f66bb2-6b5a-4b33-cce4-164ebf306cbf",
        "colab": {
          "base_uri": "https://localhost:8080/",
          "height": 282
        }
      },
      "source": [
        "plt.plot(resall[980:1000],'o',scaley='False')"
      ],
      "execution_count": null,
      "outputs": [
        {
          "output_type": "execute_result",
          "data": {
            "text/plain": [
              "[<matplotlib.lines.Line2D at 0x7f260467bf60>]"
            ]
          },
          "metadata": {
            "tags": []
          },
          "execution_count": 27
        },
        {
          "output_type": "display_data",
          "data": {
            "image/png": "[encoded data removed]",
            "text/plain": [
              "<Figure size 432x288 with 1 Axes>"
            ]
          },
          "metadata": {
            "tags": [],
            "needs_background": "light"
          }
        }
      ]
    },
    {
      "cell_type": "code",
      "metadata": {
        "id": "BPdJgrHPnE2O"
      },
      "source": [
        "recall=np.load('/content/drive/My Drive/galaxy/components.npy')"
      ],
      "execution_count": null,
      "outputs": []
    },
    {
      "cell_type": "code",
      "metadata": {
        "id": "s8dHGBCYgzPN",
        "outputId": "147db80f-eb20-49e3-cb8f-2c1d3ea72cb4",
        "colab": {
          "base_uri": "https://localhost:8080/",
          "height": 34
        }
      },
      "source": [
        "recall.shape"
      ],
      "execution_count": null,
      "outputs": [
        {
          "output_type": "execute_result",
          "data": {
            "text/plain": [
              "(61578,)"
            ]
          },
          "metadata": {
            "tags": []
          },
          "execution_count": 9
        }
      ]
    },
    {
      "cell_type": "code",
      "metadata": {
        "id": "JbVVAKVjhkxP",
        "outputId": "77d24b9a-5fac-4695-bb51-3975c0370794",
        "colab": {
          "base_uri": "https://localhost:8080/",
          "height": 34
        }
      },
      "source": [
        "recall[1:10]"
      ],
      "execution_count": null,
      "outputs": [
        {
          "output_type": "execute_result",
          "data": {
            "text/plain": [
              "array(['51', '59', '40', '32', '42', '56', '17', '45', '58'], dtype='<U42')"
            ]
          },
          "metadata": {
            "tags": []
          },
          "execution_count": 10
        }
      ]
    },
    {
      "cell_type": "code",
      "metadata": {
        "id": "tP5_kbnsh5Vh"
      },
      "source": [
        "NPcomp=recall.astype('int32')"
      ],
      "execution_count": null,
      "outputs": []
    },
    {
      "cell_type": "code",
      "metadata": {
        "id": "FRzPhSi1kRVj",
        "outputId": "48d84f94-b72f-4dbe-99de-9407d0bd84d9",
        "colab": {
          "base_uri": "https://localhost:8080/",
          "height": 34
        }
      },
      "source": [
        "S"
      ],
      "execution_count": null,
      "outputs": [
        {
          "output_type": "execute_result",
          "data": {
            "text/plain": [
              "61578"
            ]
          },
          "metadata": {
            "tags": []
          },
          "execution_count": 91
        }
      ]
    },
    {
      "cell_type": "code",
      "metadata": {
        "id": "HlRjZ-C6ij1U",
        "outputId": "e5d41d88-e7bc-407b-d0ca-341c59ec287c",
        "colab": {
          "base_uri": "https://localhost:8080/",
          "height": 34
        }
      },
      "source": [
        "NPcomp.dtype"
      ],
      "execution_count": null,
      "outputs": [
        {
          "output_type": "execute_result",
          "data": {
            "text/plain": [
              "dtype('int32')"
            ]
          },
          "metadata": {
            "tags": []
          },
          "execution_count": 16
        }
      ]
    },
    {
      "cell_type": "code",
      "metadata": {
        "id": "njPFlel5cFqN",
        "outputId": "81722b8d-dac0-432c-ea5d-2b91a0bb4368",
        "colab": {
          "base_uri": "https://localhost:8080/",
          "height": 282
        }
      },
      "source": [
        "uniqueValues, occurCount = np.unique(NPcomp, return_counts=True)\n",
        "plt.plot(uniqueValues,occurCount)"
      ],
      "execution_count": null,
      "outputs": [
        {
          "output_type": "execute_result",
          "data": {
            "text/plain": [
              "[<matplotlib.lines.Line2D at 0x7f2732fabb38>]"
            ]
          },
          "metadata": {
            "tags": []
          },
          "execution_count": 80
        },
        {
          "output_type": "display_data",
          "data": {
            "image/png": "[encoded data removed]",
            "text/plain": [
              "<Figure size 432x288 with 1 Axes>"
            ]
          },
          "metadata": {
            "tags": [],
            "needs_background": "light"
          }
        }
      ]
    },
    {
      "cell_type": "code",
      "metadata": {
        "id": "HC57NoWxXcUQ"
      },
      "source": [
        "dist=np.cumsum(occurCount)"
      ],
      "execution_count": null,
      "outputs": []
    },
    {
      "cell_type": "code",
      "metadata": {
        "id": "n5em7LBxYiUS",
        "outputId": "8c503c40-7fdf-48a1-e660-f1e5efced20c",
        "colab": {
          "base_uri": "https://localhost:8080/",
          "height": 282
        }
      },
      "source": [
        "plt.grid(True)\n",
        "plt.plot(uniqueValues,dist)"
      ],
      "execution_count": null,
      "outputs": [
        {
          "output_type": "execute_result",
          "data": {
            "text/plain": [
              "[<matplotlib.lines.Line2D at 0x7f2732217780>]"
            ]
          },
          "metadata": {
            "tags": []
          },
          "execution_count": 97
        },
        {
          "output_type": "display_data",
          "data": {
            "image/png": "[encoded data removed]",
            "text/plain": [
              "<Figure size 432x288 with 1 Axes>"
            ]
          },
          "metadata": {
            "tags": [],
            "needs_background": "light"
          }
        }
      ]
    },
    {
      "cell_type": "code",
      "metadata": {
        "id": "0FfEMUCLXf2G",
        "outputId": "1ec296e4-c51e-4eb4-f70d-f82a61393a6f",
        "colab": {
          "base_uri": "https://localhost:8080/",
          "height": 282
        }
      },
      "source": [
        "sns.boxenplot(NPcomp)"
      ],
      "execution_count": null,
      "outputs": [
        {
          "output_type": "execute_result",
          "data": {
            "text/plain": [
              "<matplotlib.axes._subplots.AxesSubplot at 0x7f27320cd400>"
            ]
          },
          "metadata": {
            "tags": []
          },
          "execution_count": 90
        },
        {
          "output_type": "display_data",
          "data": {
            "image/png": "[encoded data removed]",
            "text/plain": [
              "<Figure size 432x288 with 1 Axes>"
            ]
          },
          "metadata": {
            "tags": [],
            "needs_background": "light"
          }
        }
      ]
    },
    {
      "cell_type": "code",
      "metadata": {
        "id": "vPLumZukW-qn",
        "outputId": "638e6382-274e-4be9-f38a-99695642370f",
        "colab": {
          "base_uri": "https://localhost:8080/",
          "height": 34
        }
      },
      "source": [
        "np.median(NPcomp)"
      ],
      "execution_count": null,
      "outputs": [
        {
          "output_type": "execute_result",
          "data": {
            "text/plain": [
              "44.0"
            ]
          },
          "metadata": {
            "tags": []
          },
          "execution_count": 88
        }
      ]
    },
    {
      "cell_type": "code",
      "metadata": {
        "id": "v7q0e33MVcPU",
        "outputId": "4af73a9b-badb-4fd2-f5e2-39ad40b69194",
        "colab": {
          "base_uri": "https://localhost:8080/",
          "height": 34
        }
      },
      "source": [
        "uniqueValues.shape"
      ],
      "execution_count": null,
      "outputs": [
        {
          "output_type": "execute_result",
          "data": {
            "text/plain": [
              "(173,)"
            ]
          },
          "metadata": {
            "tags": []
          },
          "execution_count": 81
        }
      ]
    },
    {
      "cell_type": "code",
      "metadata": {
        "id": "4tA_5QCpV5m1"
      },
      "source": [
        "S=np.sum(occurCount)\n",
        "prob=occurCount/S"
      ],
      "execution_count": null,
      "outputs": []
    },
    {
      "cell_type": "code",
      "metadata": {
        "id": "CUmLY1HVWKFY",
        "outputId": "f6ff49e0-1740-475e-f6a9-bfeb8bd27c96",
        "colab": {
          "base_uri": "https://localhost:8080/",
          "height": 283
        }
      },
      "source": [
        "plt.plot(uniqueValues,prob)"
      ],
      "execution_count": null,
      "outputs": [
        {
          "output_type": "execute_result",
          "data": {
            "text/plain": [
              "[<matplotlib.lines.Line2D at 0x7f2732f70208>]"
            ]
          },
          "metadata": {
            "tags": []
          },
          "execution_count": 87
        },
        {
          "output_type": "display_data",
          "data": {
            "image/png": "[encoded data removed]",
            "text/plain": [
              "<Figure size 432x288 with 1 Axes>"
            ]
          },
          "metadata": {
            "tags": [],
            "needs_background": "light"
          }
        }
      ]
    },
    {
      "cell_type": "code",
      "metadata": {
        "id": "BnD-pvTSVqvc",
        "outputId": "cd8213f5-6c74-4625-d9f1-351a9f9087be",
        "colab": {
          "base_uri": "https://localhost:8080/",
          "height": 260
        }
      },
      "source": [
        "uniqueValues"
      ],
      "execution_count": null,
      "outputs": [
        {
          "output_type": "execute_result",
          "data": {
            "text/plain": [
              "array([  2,   4,   5,   6,   7,   8,   9,  10,  11,  12,  13,  14,  15,\n",
              "        16,  17,  18,  19,  20,  21,  22,  23,  24,  25,  26,  27,  28,\n",
              "        29,  30,  31,  32,  33,  34,  35,  36,  37,  38,  39,  40,  41,\n",
              "        42,  43,  44,  45,  46,  47,  48,  49,  50,  51,  52,  53,  54,\n",
              "        55,  56,  57,  58,  59,  60,  61,  62,  63,  64,  65,  66,  67,\n",
              "        68,  69,  70,  71,  72,  73,  74,  75,  76,  77,  78,  79,  80,\n",
              "        81,  82,  83,  84,  85,  86,  87,  88,  89,  90,  91,  92,  93,\n",
              "        94,  95,  96,  97,  98,  99, 100, 101, 102, 103, 104, 105, 106,\n",
              "       107, 108, 109, 110, 111, 112, 113, 114, 115, 116, 117, 118, 119,\n",
              "       120, 121, 122, 123, 124, 125, 126, 127, 128, 129, 130, 131, 132,\n",
              "       133, 134, 135, 136, 137, 138, 139, 140, 141, 142, 143, 144, 145,\n",
              "       146, 147, 148, 149, 150, 151, 152, 153, 154, 155, 156, 157, 158,\n",
              "       160, 161, 162, 163, 164, 165, 166, 167, 169, 172, 175, 179, 182,\n",
              "       183, 187, 194, 196], dtype=int32)"
            ]
          },
          "metadata": {
            "tags": []
          },
          "execution_count": 78
        }
      ]
    },
    {
      "cell_type": "code",
      "metadata": {
        "id": "6UUtO8XaUpyU"
      },
      "source": [
        "from sklearn.preprocessing import normalize"
      ],
      "execution_count": null,
      "outputs": []
    },
    {
      "cell_type": "code",
      "metadata": {
        "id": "depC59TaVCCt"
      },
      "source": [
        "occurCount=occurCount.reshape(-1,1)"
      ],
      "execution_count": null,
      "outputs": []
    },
    {
      "cell_type": "code",
      "metadata": {
        "id": "Sb5T4VxrU0xh"
      },
      "source": [
        "normfreq=normalize(occurCount)"
      ],
      "execution_count": null,
      "outputs": []
    },
    {
      "cell_type": "code",
      "metadata": {
        "id": "4NFGP7kcVSVP",
        "outputId": "c5434c6c-a41f-4e78-aa2e-0b381dee5af7",
        "colab": {
          "base_uri": "https://localhost:8080/",
          "height": 282
        }
      },
      "source": [
        "plt.plot(uniqueValues,normfreq)"
      ],
      "execution_count": null,
      "outputs": [
        {
          "output_type": "execute_result",
          "data": {
            "text/plain": [
              "[<matplotlib.lines.Line2D at 0x7f2732fce9e8>]"
            ]
          },
          "metadata": {
            "tags": []
          },
          "execution_count": 79
        },
        {
          "output_type": "display_data",
          "data": {
            "image/png": "[encoded data removed]",
            "text/plain": [
              "<Figure size 432x288 with 1 Axes>"
            ]
          },
          "metadata": {
            "tags": [],
            "needs_background": "light"
          }
        }
      ]
    },
    {
      "cell_type": "code",
      "metadata": {
        "id": "BekRA5pGiOQx"
      },
      "source": [
        "\n",
        "kmeans = KMeans(n_clusters=4, random_state=0).fit(reshape)"
      ],
      "execution_count": null,
      "outputs": []
    },
    {
      "cell_type": "code",
      "metadata": {
        "id": "WCJC8Hd0sBX5"
      },
      "source": [
        "label=kmeans.labels_"
      ],
      "execution_count": null,
      "outputs": []
    },
    {
      "cell_type": "code",
      "metadata": {
        "id": "EQWaqBB-tJzv"
      },
      "source": [
        "uniqueValues, occurCount = np.unique(label, return_counts=True)"
      ],
      "execution_count": null,
      "outputs": []
    },
    {
      "cell_type": "code",
      "metadata": {
        "id": "H7HedW5CtfIs",
        "outputId": "742fdfe3-fa77-47f6-f83e-5773785f74e5",
        "colab": {
          "base_uri": "https://localhost:8080/",
          "height": 34
        }
      },
      "source": [
        "occurCount"
      ],
      "execution_count": null,
      "outputs": [
        {
          "output_type": "execute_result",
          "data": {
            "text/plain": [
              "array([20829, 13817, 21647,  5285])"
            ]
          },
          "metadata": {
            "tags": []
          },
          "execution_count": 63
        }
      ]
    },
    {
      "cell_type": "code",
      "metadata": {
        "id": "EyhdVmMDt5lS",
        "outputId": "3675f179-b3e1-4da4-ebed-334672f95f6c",
        "colab": {
          "base_uri": "https://localhost:8080/",
          "height": 34
        }
      },
      "source": [
        "uniqueValues"
      ],
      "execution_count": null,
      "outputs": [
        {
          "output_type": "execute_result",
          "data": {
            "text/plain": [
              "array([0, 1, 2, 3], dtype=int32)"
            ]
          },
          "metadata": {
            "tags": []
          },
          "execution_count": 64
        }
      ]
    },
    {
      "cell_type": "code",
      "metadata": {
        "id": "o7IuC7sjsHsA",
        "outputId": "97dbf50c-5b06-4f05-ed5e-07dfe0286230",
        "colab": {
          "base_uri": "https://localhost:8080/",
          "height": 282
        }
      },
      "source": [
        "plt.scatter(label,NPcomp)"
      ],
      "execution_count": null,
      "outputs": [
        {
          "output_type": "execute_result",
          "data": {
            "text/plain": [
              "<matplotlib.collections.PathCollection at 0x7f2733201be0>"
            ]
          },
          "metadata": {
            "tags": []
          },
          "execution_count": 66
        },
        {
          "output_type": "display_data",
          "data": {
            "image/png": "[encoded data removed]",
            "text/plain": [
              "<Figure size 432x288 with 1 Axes>"
            ]
          },
          "metadata": {
            "tags": [],
            "needs_background": "light"
          }
        }
      ]
    },
    {
      "cell_type": "code",
      "metadata": {
        "id": "j6gnFu5fsxL6",
        "outputId": "ce78a29a-f2ae-4028-c175-c821ecae5230",
        "colab": {
          "base_uri": "https://localhost:8080/",
          "height": 191
        }
      },
      "source": [
        "kmeans.cluster_centers_"
      ],
      "execution_count": null,
      "outputs": [
        {
          "output_type": "execute_result",
          "data": {
            "text/plain": [
              "array([[ 34.03115265],\n",
              "       [ 73.53847508],\n",
              "       [129.1167979 ],\n",
              "       [ 51.77909346],\n",
              "       [ 16.39851685],\n",
              "       [ 87.22980719],\n",
              "       [ 42.8642991 ],\n",
              "       [ 61.69672688],\n",
              "       [ 25.71529654],\n",
              "       [104.11021505]])"
            ]
          },
          "metadata": {
            "tags": []
          },
          "execution_count": 55
        }
      ]
    },
    {
      "cell_type": "code",
      "metadata": {
        "id": "3jhws6QtrEWD"
      },
      "source": [
        "reshape=NPcomp.reshape(-1,1)"
      ],
      "execution_count": null,
      "outputs": []
    },
    {
      "cell_type": "code",
      "metadata": {
        "id": "sEJyVwn_rIUs",
        "outputId": "ee41b146-3c45-44e7-e654-8ca4af146875",
        "colab": {
          "base_uri": "https://localhost:8080/",
          "height": 34
        }
      },
      "source": [
        "reshape.shape"
      ],
      "execution_count": null,
      "outputs": [
        {
          "output_type": "execute_result",
          "data": {
            "text/plain": [
              "(61578, 1)"
            ]
          },
          "metadata": {
            "tags": []
          },
          "execution_count": 34
        }
      ]
    },
    {
      "cell_type": "code",
      "metadata": {
        "id": "h6L5OneKr30D",
        "outputId": "26b0cde0-b0ec-4b46-cfd0-b967609ef140",
        "colab": {
          "base_uri": "https://localhost:8080/",
          "height": 139
        }
      },
      "source": [
        "reshape"
      ],
      "execution_count": null,
      "outputs": [
        {
          "output_type": "execute_result",
          "data": {
            "text/plain": [
              "array([[93],\n",
              "       [51],\n",
              "       [59],\n",
              "       ...,\n",
              "       [59],\n",
              "       [71],\n",
              "       [28]], dtype=int32)"
            ]
          },
          "metadata": {
            "tags": []
          },
          "execution_count": 35
        }
      ]
    },
    {
      "cell_type": "code",
      "metadata": {
        "id": "1TIxx_UKiTTZ"
      },
      "source": [
        "frequency,bins=np.histogram(arr)"
      ],
      "execution_count": null,
      "outputs": []
    },
    {
      "cell_type": "code",
      "metadata": {
        "id": "2SaSMyGuib07"
      },
      "source": [
        "special=np.unique(arr)"
      ],
      "execution_count": null,
      "outputs": []
    },
    {
      "cell_type": "code",
      "metadata": {
        "id": "HLIyrZshieJL",
        "outputId": "495e8560-0127-474b-ca84-96b31cbd1a47",
        "colab": {
          "base_uri": "https://localhost:8080/",
          "height": 260
        }
      },
      "source": [
        "special"
      ],
      "execution_count": null,
      "outputs": [
        {
          "output_type": "execute_result",
          "data": {
            "text/plain": [
              "array([  2,   4,   5,   6,   7,   8,   9,  10,  11,  12,  13,  14,  15,\n",
              "        16,  17,  18,  19,  20,  21,  22,  23,  24,  25,  26,  27,  28,\n",
              "        29,  30,  31,  32,  33,  34,  35,  36,  37,  38,  39,  40,  41,\n",
              "        42,  43,  44,  45,  46,  47,  48,  49,  50,  51,  52,  53,  54,\n",
              "        55,  56,  57,  58,  59,  60,  61,  62,  63,  64,  65,  66,  67,\n",
              "        68,  69,  70,  71,  72,  73,  74,  75,  76,  77,  78,  79,  80,\n",
              "        81,  82,  83,  84,  85,  86,  87,  88,  89,  90,  91,  92,  93,\n",
              "        94,  95,  96,  97,  98,  99, 100, 101, 102, 103, 104, 105, 106,\n",
              "       107, 108, 109, 110, 111, 112, 113, 114, 115, 116, 117, 118, 119,\n",
              "       120, 121, 122, 123, 124, 125, 126, 127, 128, 129, 130, 131, 132,\n",
              "       133, 134, 135, 136, 137, 138, 139, 140, 141, 142, 143, 144, 145,\n",
              "       146, 147, 148, 149, 150, 151, 152, 153, 154, 155, 156, 157, 158,\n",
              "       160, 161, 162, 163, 164, 165, 166, 167, 169, 172, 175, 179, 182,\n",
              "       183, 187, 194, 196])"
            ]
          },
          "metadata": {
            "tags": []
          },
          "execution_count": 45
        }
      ]
    },
    {
      "cell_type": "code",
      "metadata": {
        "id": "pdFZ7k8Icm6O",
        "outputId": "ba2d7abc-f810-4c1b-dcfb-d5f8710b607f",
        "colab": {
          "base_uri": "https://localhost:8080/",
          "height": 34
        }
      },
      "source": [
        "recall[1].dtype"
      ],
      "execution_count": null,
      "outputs": [
        {
          "output_type": "execute_result",
          "data": {
            "text/plain": [
              "dtype('<U2')"
            ]
          },
          "metadata": {
            "tags": []
          },
          "execution_count": 16
        }
      ]
    },
    {
      "cell_type": "code",
      "metadata": {
        "id": "E4oWJm1DInA1",
        "outputId": "5377899d-d4ad-4ed1-8db7-210ac07dea46",
        "colab": {
          "base_uri": "https://localhost:8080/",
          "height": 34
        }
      },
      "source": [
        "arr.shape"
      ],
      "execution_count": null,
      "outputs": [
        {
          "output_type": "execute_result",
          "data": {
            "text/plain": [
              "(61578,)"
            ]
          },
          "metadata": {
            "tags": []
          },
          "execution_count": 72
        }
      ]
    },
    {
      "cell_type": "code",
      "metadata": {
        "id": "VIZI0V16cwo1"
      },
      "source": [
        "uniqueValues, occurCount = np.unique(arr, return_counts=True)"
      ],
      "execution_count": null,
      "outputs": []
    },
    {
      "cell_type": "code",
      "metadata": {
        "id": "7BwoEQ_CH09O",
        "outputId": "ea5cdc8b-4632-4eda-8b34-8f67ac99893f",
        "colab": {
          "base_uri": "https://localhost:8080/",
          "height": 104
        }
      },
      "source": [
        "np.histogram(uniqueValues,bins=20)"
      ],
      "execution_count": null,
      "outputs": [
        {
          "output_type": "execute_result",
          "data": {
            "text/plain": [
              "(array([ 9, 10, 10,  9, 10, 10,  9, 10, 10,  9, 10, 10, 10,  9, 10, 10,  8,\n",
              "         4,  3,  3]),\n",
              " array([  2. ,  11.7,  21.4,  31.1,  40.8,  50.5,  60.2,  69.9,  79.6,\n",
              "         89.3,  99. , 108.7, 118.4, 128.1, 137.8, 147.5, 157.2, 166.9,\n",
              "        176.6, 186.3, 196. ]))"
            ]
          },
          "metadata": {
            "tags": []
          },
          "execution_count": 68
        }
      ]
    },
    {
      "cell_type": "code",
      "metadata": {
        "id": "i5VfIdsmIMgN",
        "outputId": "d3cbe7b2-04ef-4f4b-fe78-66d3d7c87bd2",
        "colab": {
          "base_uri": "https://localhost:8080/",
          "height": 404
        }
      },
      "source": [
        "plt.hist(arr,bins=20)"
      ],
      "execution_count": null,
      "outputs": [
        {
          "output_type": "execute_result",
          "data": {
            "text/plain": [
              "(array([7.4500e+02, 5.4580e+03, 9.9410e+03, 1.0367e+04, 1.0209e+04,\n",
              "        7.9490e+03, 5.4200e+03, 4.3180e+03, 2.8950e+03, 1.7450e+03,\n",
              "        1.1840e+03, 6.9600e+02, 3.4600e+02, 1.6500e+02, 8.3000e+01,\n",
              "        3.2000e+01, 1.4000e+01, 5.0000e+00, 3.0000e+00, 3.0000e+00]),\n",
              " array([  2. ,  11.7,  21.4,  31.1,  40.8,  50.5,  60.2,  69.9,  79.6,\n",
              "         89.3,  99. , 108.7, 118.4, 128.1, 137.8, 147.5, 157.2, 166.9,\n",
              "        176.6, 186.3, 196. ]),\n",
              " <a list of 20 Patch objects>)"
            ]
          },
          "metadata": {
            "tags": []
          },
          "execution_count": 70
        },
        {
          "output_type": "display_data",
          "data": {
            "image/png": "[encoded data removed]",
            "text/plain": [
              "<Figure size 432x288 with 1 Axes>"
            ]
          },
          "metadata": {
            "tags": [],
            "needs_background": "light"
          }
        }
      ]
    },
    {
      "cell_type": "code",
      "metadata": {
        "id": "v4IXXPV1e0IH",
        "outputId": "4613da26-83d1-4421-86d4-fb48f7b11563",
        "colab": {
          "base_uri": "https://localhost:8080/",
          "height": 295
        }
      },
      "source": [
        "occurCount"
      ],
      "execution_count": null,
      "outputs": [
        {
          "output_type": "execute_result",
          "data": {
            "text/plain": [
              "array([   1,    5,    9,   31,   54,   73,  134,  186,  252,  265,  371,\n",
              "        395,  470,  523,  591,  661,  660,  731,  791,  810,  877,  935,\n",
              "        974,  954, 1060, 1047, 1116, 1088, 1080, 1195, 1185, 1116, 1189,\n",
              "       1127, 1124, 1168, 1139, 1124, 1136, 1100, 1029, 1060, 1068,  983,\n",
              "        963, 1020,  933,  917,  916,  839,  858,  808,  832,  731,  772,\n",
              "        724,  761,  708,  705,  656,  659,  631,  581,  567,  599,  503,\n",
              "        519,  526,  454,  480,  454,  405,  430,  408,  423,  367,  371,\n",
              "        339,  356,  309,  313,  307,  262,  262,  276,  234,  237,  248,\n",
              "        238,  226,  193,  186,  191,  184,  146,  133,  136,  159,  145,\n",
              "        132,  110,  123,   95,   92,   99,   93,  100,   87,   82,   66,\n",
              "         75,   59,   66,   50,   47,   64,   36,   57,   43,   40,   36,\n",
              "         38,   23,   24,   16,   33,   20,   18,   17,   26,   18,   17,\n",
              "         13,   18,   18,   10,   10,    9,    8,   11,    8,    5,    7,\n",
              "          6,    9,    3,    6,    3,    2,    3,    3,    2,    4,    3,\n",
              "          3,    1,    3,    2,    2,    2,    1,    1,    2,    1,    2,\n",
              "          1,    1,    1,    1,    1,    1,    1,    1])"
            ]
          },
          "metadata": {
            "tags": []
          },
          "execution_count": 48
        }
      ]
    },
    {
      "cell_type": "code",
      "metadata": {
        "id": "RUpLNSBPjtkP",
        "outputId": "5bdec359-8bbf-4dd2-85e0-e0123899dadf",
        "colab": {
          "base_uri": "https://localhost:8080/",
          "height": 34
        }
      },
      "source": [
        "uniqueValues.shape"
      ],
      "execution_count": null,
      "outputs": [
        {
          "output_type": "execute_result",
          "data": {
            "text/plain": [
              "(173,)"
            ]
          },
          "metadata": {
            "tags": []
          },
          "execution_count": 50
        }
      ]
    },
    {
      "cell_type": "code",
      "metadata": {
        "id": "eSZsgYmrlMFd",
        "outputId": "536402bf-4ae9-4f55-d8de-0ef39d76a536",
        "colab": {
          "base_uri": "https://localhost:8080/",
          "height": 34
        }
      },
      "source": [
        "occurCount.argmax()"
      ],
      "execution_count": null,
      "outputs": [
        {
          "output_type": "execute_result",
          "data": {
            "text/plain": [
              "29"
            ]
          },
          "metadata": {
            "tags": []
          },
          "execution_count": 59
        }
      ]
    },
    {
      "cell_type": "code",
      "metadata": {
        "id": "dMFV2rBZEvcA",
        "outputId": "561cd61f-e9af-4630-8503-f264d7fa5095",
        "colab": {
          "base_uri": "https://localhost:8080/",
          "height": 34
        }
      },
      "source": [
        "uniqueValues[29]"
      ],
      "execution_count": null,
      "outputs": [
        {
          "output_type": "execute_result",
          "data": {
            "text/plain": [
              "32"
            ]
          },
          "metadata": {
            "tags": []
          },
          "execution_count": 64
        }
      ]
    },
    {
      "cell_type": "code",
      "metadata": {
        "id": "BLsJML0QmZ__",
        "outputId": "daac6f33-54dd-4c45-c4be-226f31741e4d",
        "colab": {
          "base_uri": "https://localhost:8080/",
          "height": 34
        }
      },
      "source": [
        "occurCount.max()"
      ],
      "execution_count": null,
      "outputs": [
        {
          "output_type": "execute_result",
          "data": {
            "text/plain": [
              "1195"
            ]
          },
          "metadata": {
            "tags": []
          },
          "execution_count": 60
        }
      ]
    },
    {
      "cell_type": "code",
      "metadata": {
        "id": "dvTuB57Yjx-Q",
        "outputId": "7b6fe6d2-5a3a-400b-8798-25a7f96854b1",
        "colab": {
          "base_uri": "https://localhost:8080/",
          "height": 282
        }
      },
      "source": [
        "plt.plot(uniqueValues,occurCount)"
      ],
      "execution_count": null,
      "outputs": [
        {
          "output_type": "execute_result",
          "data": {
            "text/plain": [
              "[<matplotlib.lines.Line2D at 0x7f79755512e8>]"
            ]
          },
          "metadata": {
            "tags": []
          },
          "execution_count": 65
        },
        {
          "output_type": "display_data",
          "data": {
            "image/png": "[encoded data removed]",
            "text/plain": [
              "<Figure size 432x288 with 1 Axes>"
            ]
          },
          "metadata": {
            "tags": [],
            "needs_background": "light"
          }
        }
      ]
    },
    {
      "cell_type": "code",
      "metadata": {
        "id": "ypHDkEg2mqA2",
        "outputId": "2dd20a35-2837-494a-8948-c1f90be7d817",
        "colab": {
          "base_uri": "https://localhost:8080/",
          "height": 282
        }
      },
      "source": [
        "plt.scatter(uniqueValues,occurCount)"
      ],
      "execution_count": null,
      "outputs": [
        {
          "output_type": "execute_result",
          "data": {
            "text/plain": [
              "<matplotlib.collections.PathCollection at 0x7f797569bd68>"
            ]
          },
          "metadata": {
            "tags": []
          },
          "execution_count": 62
        },
        {
          "output_type": "display_data",
          "data": {
            "image/png": "[encoded data removed]",
            "text/plain": [
              "<Figure size 432x288 with 1 Axes>"
            ]
          },
          "metadata": {
            "tags": [],
            "needs_background": "light"
          }
        }
      ]
    },
    {
      "cell_type": "code",
      "metadata": {
        "id": "KjYm7Mk4kDYM",
        "outputId": "fda52b1a-8f63-446b-e0f4-377751b082c1",
        "colab": {
          "base_uri": "https://localhost:8080/",
          "height": 282
        }
      },
      "source": [
        "plt.bar(uniqueValues,occurCount,width=0.24)"
      ],
      "execution_count": null,
      "outputs": [
        {
          "output_type": "execute_result",
          "data": {
            "text/plain": [
              "<BarContainer object of 173 artists>"
            ]
          },
          "metadata": {
            "tags": []
          },
          "execution_count": 57
        },
        {
          "output_type": "display_data",
          "data": {
            "image/png": "[encoded data removed]",
            "text/plain": [
              "<Figure size 432x288 with 1 Axes>"
            ]
          },
          "metadata": {
            "tags": [],
            "needs_background": "light"
          }
        }
      ]
    },
    {
      "cell_type": "code",
      "metadata": {
        "id": "LqkPFyVSc5J3",
        "outputId": "5c82c1db-6e78-43ef-ff0a-cfdc50118ee7",
        "colab": {
          "base_uri": "https://localhost:8080/",
          "height": 86
        }
      },
      "source": [
        "print('min',arr.min())\n",
        "print('max',arr.max())\n",
        "print('median',np.median(arr))\n",
        "print('mean',arr.mean())\n",
        "\n"
      ],
      "execution_count": null,
      "outputs": [
        {
          "output_type": "stream",
          "text": [
            "min 2\n",
            "max 196\n",
            "median 44.0\n",
            "mean 48.83036149274091\n"
          ],
          "name": "stdout"
        }
      ]
    },
    {
      "cell_type": "code",
      "metadata": {
        "id": "REzUFP2bkZhL",
        "outputId": "2941fa9f-e1ff-4f1b-9f23-5961be129df6",
        "colab": {
          "base_uri": "https://localhost:8080/",
          "height": 34
        }
      },
      "source": [
        "arr.std()"
      ],
      "execution_count": null,
      "outputs": [
        {
          "output_type": "execute_result",
          "data": {
            "text/plain": [
              "24.222416336604788"
            ]
          },
          "metadata": {
            "tags": []
          },
          "execution_count": 55
        }
      ]
    },
    {
      "cell_type": "code",
      "metadata": {
        "id": "R07151-de7S-"
      },
      "source": [
        "xaxis=np.linspace(2,8,196)"
      ],
      "execution_count": null,
      "outputs": []
    },
    {
      "cell_type": "code",
      "metadata": {
        "id": "CAfDuxLy99Rf"
      },
      "source": [
        "import keras\n",
        "import tensorflow as tf\n",
        "import numpy as np\n",
        "import seaborn as sns\n",
        "import pandas as pd\n",
        "import glob as glob\n",
        "import seaborn as sns\n",
        "import matplotlib.pyplot as plt\n",
        "\n",
        "import PIL.Image as im"
      ],
      "execution_count": null,
      "outputs": []
    },
    {
      "cell_type": "code",
      "metadata": {
        "id": "IA1ZxDLW7uDV"
      },
      "source": [
        "import pandas as pd"
      ],
      "execution_count": null,
      "outputs": []
    },
    {
      "cell_type": "code",
      "metadata": {
        "id": "v9hYC5pt57lq"
      },
      "source": [
        "y_path = '../content/drive/My Drive/galaxy/training_solutions_rev1.csv'"
      ],
      "execution_count": null,
      "outputs": []
    },
    {
      "cell_type": "code",
      "metadata": {
        "id": "KAsfKE8z7rsi"
      },
      "source": [
        "train_y = pd.read_csv(y_path,index_col='GalaxyID')"
      ],
      "execution_count": null,
      "outputs": []
    },
    {
      "cell_type": "code",
      "metadata": {
        "id": "KlTdeAIy70St",
        "outputId": "6618a958-e786-48d3-dd5b-b79f60c385e6",
        "colab": {
          "base_uri": "https://localhost:8080/",
          "height": 258
        }
      },
      "source": [
        "train_y.tail(5)"
      ],
      "execution_count": null,
      "outputs": [
        {
          "output_type": "execute_result",
          "data": {
            "text/html": [
              "<div>\n",
              "<style scoped>\n",
              "    .dataframe tbody tr th:only-of-type {\n",
              "        vertical-align: middle;\n",
              "    }\n",
              "\n",
              "    .dataframe tbody tr th {\n",
              "        vertical-align: top;\n",
              "    }\n",
              "\n",
              "    .dataframe thead th {\n",
              "        text-align: right;\n",
              "    }\n",
              "</style>\n",
              "<table border=\"1\" class=\"dataframe\">\n",
              "  <thead>\n",
              "    <tr style=\"text-align: right;\">\n",
              "      <th></th>\n",
              "      <th>Class1.1</th>\n",
              "      <th>Class1.2</th>\n",
              "      <th>Class1.3</th>\n",
              "      <th>Class2.1</th>\n",
              "      <th>Class2.2</th>\n",
              "      <th>Class3.1</th>\n",
              "      <th>Class3.2</th>\n",
              "      <th>Class4.1</th>\n",
              "      <th>Class4.2</th>\n",
              "      <th>Class5.1</th>\n",
              "      <th>Class5.2</th>\n",
              "      <th>Class5.3</th>\n",
              "      <th>Class5.4</th>\n",
              "      <th>Class6.1</th>\n",
              "      <th>Class6.2</th>\n",
              "      <th>Class7.1</th>\n",
              "      <th>Class7.2</th>\n",
              "      <th>Class7.3</th>\n",
              "      <th>Class8.1</th>\n",
              "      <th>Class8.2</th>\n",
              "      <th>Class8.3</th>\n",
              "      <th>Class8.4</th>\n",
              "      <th>Class8.5</th>\n",
              "      <th>Class8.6</th>\n",
              "      <th>Class8.7</th>\n",
              "      <th>Class9.1</th>\n",
              "      <th>Class9.2</th>\n",
              "      <th>Class9.3</th>\n",
              "      <th>Class10.1</th>\n",
              "      <th>Class10.2</th>\n",
              "      <th>Class10.3</th>\n",
              "      <th>Class11.1</th>\n",
              "      <th>Class11.2</th>\n",
              "      <th>Class11.3</th>\n",
              "      <th>Class11.4</th>\n",
              "      <th>Class11.5</th>\n",
              "      <th>Class11.6</th>\n",
              "    </tr>\n",
              "    <tr>\n",
              "      <th>GalaxyID</th>\n",
              "      <th></th>\n",
              "      <th></th>\n",
              "      <th></th>\n",
              "      <th></th>\n",
              "      <th></th>\n",
              "      <th></th>\n",
              "      <th></th>\n",
              "      <th></th>\n",
              "      <th></th>\n",
              "      <th></th>\n",
              "      <th></th>\n",
              "      <th></th>\n",
              "      <th></th>\n",
              "      <th></th>\n",
              "      <th></th>\n",
              "      <th></th>\n",
              "      <th></th>\n",
              "      <th></th>\n",
              "      <th></th>\n",
              "      <th></th>\n",
              "      <th></th>\n",
              "      <th></th>\n",
              "      <th></th>\n",
              "      <th></th>\n",
              "      <th></th>\n",
              "      <th></th>\n",
              "      <th></th>\n",
              "      <th></th>\n",
              "      <th></th>\n",
              "      <th></th>\n",
              "      <th></th>\n",
              "      <th></th>\n",
              "      <th></th>\n",
              "      <th></th>\n",
              "      <th></th>\n",
              "      <th></th>\n",
              "      <th></th>\n",
              "    </tr>\n",
              "  </thead>\n",
              "  <tbody>\n",
              "    <tr>\n",
              "      <th>999948</th>\n",
              "      <td>0.510379</td>\n",
              "      <td>0.489621</td>\n",
              "      <td>0.000000</td>\n",
              "      <td>0.059207</td>\n",
              "      <td>0.430414</td>\n",
              "      <td>0.000000</td>\n",
              "      <td>0.430414</td>\n",
              "      <td>0.226257</td>\n",
              "      <td>0.204157</td>\n",
              "      <td>0.043458</td>\n",
              "      <td>0.260804</td>\n",
              "      <td>0.000000</td>\n",
              "      <td>0.126152</td>\n",
              "      <td>0.245734</td>\n",
              "      <td>0.754266</td>\n",
              "      <td>0.000000</td>\n",
              "      <td>0.410816</td>\n",
              "      <td>0.099563</td>\n",
              "      <td>0.03514</td>\n",
              "      <td>0.000000</td>\n",
              "      <td>0.000000</td>\n",
              "      <td>0.000000</td>\n",
              "      <td>0.175454</td>\n",
              "      <td>0.035140</td>\n",
              "      <td>0.000000</td>\n",
              "      <td>0.059207</td>\n",
              "      <td>0.0</td>\n",
              "      <td>0.0</td>\n",
              "      <td>0.226257</td>\n",
              "      <td>0.000000</td>\n",
              "      <td>0.000000</td>\n",
              "      <td>0.000000</td>\n",
              "      <td>0.000000</td>\n",
              "      <td>0.000000</td>\n",
              "      <td>0.000000</td>\n",
              "      <td>0.0</td>\n",
              "      <td>0.226257</td>\n",
              "    </tr>\n",
              "    <tr>\n",
              "      <th>999950</th>\n",
              "      <td>0.901216</td>\n",
              "      <td>0.098784</td>\n",
              "      <td>0.000000</td>\n",
              "      <td>0.000000</td>\n",
              "      <td>0.098784</td>\n",
              "      <td>0.000000</td>\n",
              "      <td>0.098784</td>\n",
              "      <td>0.000000</td>\n",
              "      <td>0.098784</td>\n",
              "      <td>0.000000</td>\n",
              "      <td>0.045378</td>\n",
              "      <td>0.053406</td>\n",
              "      <td>0.000000</td>\n",
              "      <td>0.127644</td>\n",
              "      <td>0.872356</td>\n",
              "      <td>0.404841</td>\n",
              "      <td>0.496375</td>\n",
              "      <td>0.000000</td>\n",
              "      <td>0.00000</td>\n",
              "      <td>0.000000</td>\n",
              "      <td>0.021321</td>\n",
              "      <td>0.000000</td>\n",
              "      <td>0.062095</td>\n",
              "      <td>0.044229</td>\n",
              "      <td>0.000000</td>\n",
              "      <td>0.000000</td>\n",
              "      <td>0.0</td>\n",
              "      <td>0.0</td>\n",
              "      <td>0.000000</td>\n",
              "      <td>0.000000</td>\n",
              "      <td>0.000000</td>\n",
              "      <td>0.000000</td>\n",
              "      <td>0.000000</td>\n",
              "      <td>0.000000</td>\n",
              "      <td>0.000000</td>\n",
              "      <td>0.0</td>\n",
              "      <td>0.000000</td>\n",
              "    </tr>\n",
              "    <tr>\n",
              "      <th>999958</th>\n",
              "      <td>0.202841</td>\n",
              "      <td>0.777376</td>\n",
              "      <td>0.019783</td>\n",
              "      <td>0.116962</td>\n",
              "      <td>0.660414</td>\n",
              "      <td>0.067245</td>\n",
              "      <td>0.593168</td>\n",
              "      <td>0.140022</td>\n",
              "      <td>0.520391</td>\n",
              "      <td>0.000000</td>\n",
              "      <td>0.257128</td>\n",
              "      <td>0.347328</td>\n",
              "      <td>0.055958</td>\n",
              "      <td>0.839186</td>\n",
              "      <td>0.160814</td>\n",
              "      <td>0.030477</td>\n",
              "      <td>0.172364</td>\n",
              "      <td>0.000000</td>\n",
              "      <td>0.00000</td>\n",
              "      <td>0.000000</td>\n",
              "      <td>0.033567</td>\n",
              "      <td>0.134270</td>\n",
              "      <td>0.067135</td>\n",
              "      <td>0.604214</td>\n",
              "      <td>0.000000</td>\n",
              "      <td>0.116962</td>\n",
              "      <td>0.0</td>\n",
              "      <td>0.0</td>\n",
              "      <td>0.000000</td>\n",
              "      <td>0.090673</td>\n",
              "      <td>0.049349</td>\n",
              "      <td>0.000000</td>\n",
              "      <td>0.067726</td>\n",
              "      <td>0.000000</td>\n",
              "      <td>0.000000</td>\n",
              "      <td>0.0</td>\n",
              "      <td>0.072296</td>\n",
              "    </tr>\n",
              "    <tr>\n",
              "      <th>999964</th>\n",
              "      <td>0.091000</td>\n",
              "      <td>0.909000</td>\n",
              "      <td>0.000000</td>\n",
              "      <td>0.045450</td>\n",
              "      <td>0.863550</td>\n",
              "      <td>0.022452</td>\n",
              "      <td>0.841098</td>\n",
              "      <td>0.795330</td>\n",
              "      <td>0.068220</td>\n",
              "      <td>0.000000</td>\n",
              "      <td>0.227114</td>\n",
              "      <td>0.545764</td>\n",
              "      <td>0.090673</td>\n",
              "      <td>0.864000</td>\n",
              "      <td>0.136000</td>\n",
              "      <td>0.045500</td>\n",
              "      <td>0.045500</td>\n",
              "      <td>0.000000</td>\n",
              "      <td>0.09072</td>\n",
              "      <td>0.000000</td>\n",
              "      <td>0.090720</td>\n",
              "      <td>0.136512</td>\n",
              "      <td>0.045792</td>\n",
              "      <td>0.500256</td>\n",
              "      <td>0.000000</td>\n",
              "      <td>0.045450</td>\n",
              "      <td>0.0</td>\n",
              "      <td>0.0</td>\n",
              "      <td>0.068398</td>\n",
              "      <td>0.318132</td>\n",
              "      <td>0.408799</td>\n",
              "      <td>0.227464</td>\n",
              "      <td>0.408799</td>\n",
              "      <td>0.090668</td>\n",
              "      <td>0.023065</td>\n",
              "      <td>0.0</td>\n",
              "      <td>0.045334</td>\n",
              "    </tr>\n",
              "    <tr>\n",
              "      <th>999967</th>\n",
              "      <td>0.767000</td>\n",
              "      <td>0.140000</td>\n",
              "      <td>0.093000</td>\n",
              "      <td>0.000000</td>\n",
              "      <td>0.140000</td>\n",
              "      <td>0.000000</td>\n",
              "      <td>0.140000</td>\n",
              "      <td>0.023380</td>\n",
              "      <td>0.116620</td>\n",
              "      <td>0.000000</td>\n",
              "      <td>0.046620</td>\n",
              "      <td>0.070000</td>\n",
              "      <td>0.023380</td>\n",
              "      <td>0.333000</td>\n",
              "      <td>0.667000</td>\n",
              "      <td>0.069797</td>\n",
              "      <td>0.674193</td>\n",
              "      <td>0.023010</td>\n",
              "      <td>0.00000</td>\n",
              "      <td>0.025641</td>\n",
              "      <td>0.204795</td>\n",
              "      <td>0.025641</td>\n",
              "      <td>0.051282</td>\n",
              "      <td>0.000000</td>\n",
              "      <td>0.025641</td>\n",
              "      <td>0.000000</td>\n",
              "      <td>0.0</td>\n",
              "      <td>0.0</td>\n",
              "      <td>0.023380</td>\n",
              "      <td>0.000000</td>\n",
              "      <td>0.000000</td>\n",
              "      <td>0.000000</td>\n",
              "      <td>0.000000</td>\n",
              "      <td>0.000000</td>\n",
              "      <td>0.000000</td>\n",
              "      <td>0.0</td>\n",
              "      <td>0.023380</td>\n",
              "    </tr>\n",
              "  </tbody>\n",
              "</table>\n",
              "</div>"
            ],
            "text/plain": [
              "          Class1.1  Class1.2  Class1.3  ...  Class11.4  Class11.5  Class11.6\n",
              "GalaxyID                                ...                                 \n",
              "999948    0.510379  0.489621  0.000000  ...   0.000000        0.0   0.226257\n",
              "999950    0.901216  0.098784  0.000000  ...   0.000000        0.0   0.000000\n",
              "999958    0.202841  0.777376  0.019783  ...   0.000000        0.0   0.072296\n",
              "999964    0.091000  0.909000  0.000000  ...   0.023065        0.0   0.045334\n",
              "999967    0.767000  0.140000  0.093000  ...   0.000000        0.0   0.023380\n",
              "\n",
              "[5 rows x 37 columns]"
            ]
          },
          "metadata": {
            "tags": []
          },
          "execution_count": 56
        }
      ]
    },
    {
      "cell_type": "code",
      "metadata": {
        "id": "Nq9XF6OQJM7K"
      },
      "source": [
        "counter=train_y.T.idxmax()"
      ],
      "execution_count": null,
      "outputs": []
    },
    {
      "cell_type": "code",
      "metadata": {
        "id": "L5COB5IByjwA",
        "outputId": "6e6703f5-dfbc-426f-900b-4df158ebaead",
        "colab": {
          "base_uri": "https://localhost:8080/",
          "height": 260
        }
      },
      "source": [
        "counter.value_counts()"
      ],
      "execution_count": null,
      "outputs": [
        {
          "output_type": "execute_result",
          "data": {
            "text/plain": [
              "Class3.2    13447\n",
              "Class7.2    11537\n",
              "Class7.1    10434\n",
              "Class4.1     6825\n",
              "Class2.1     6324\n",
              "Class6.1     6225\n",
              "Class4.2     1897\n",
              "Class7.3     1747\n",
              "Class3.1     1442\n",
              "Class5.3      869\n",
              "Class5.2      757\n",
              "Class5.1       69\n",
              "Class5.4        5\n",
              "dtype: int64"
            ]
          },
          "metadata": {
            "tags": []
          },
          "execution_count": 75
        }
      ]
    },
    {
      "cell_type": "code",
      "metadata": {
        "id": "k3M6_U-kzTNj",
        "outputId": "ccee9789-ed6e-4575-bcba-051c597b3a88",
        "colab": {
          "base_uri": "https://localhost:8080/",
          "height": 243
        }
      },
      "source": [
        "train_y.pop('Class6.2')"
      ],
      "execution_count": null,
      "outputs": [
        {
          "output_type": "execute_result",
          "data": {
            "text/plain": [
              "GalaxyID\n",
              "100008    0.945547\n",
              "100023    0.810851\n",
              "100053    1.000000\n",
              "100078    0.679602\n",
              "100090    0.970617\n",
              "            ...   \n",
              "999948    0.754266\n",
              "999950    0.872356\n",
              "999958    0.160814\n",
              "999964    0.136000\n",
              "999967    0.667000\n",
              "Name: Class6.2, Length: 61578, dtype: float64"
            ]
          },
          "metadata": {
            "tags": []
          },
          "execution_count": 70
        }
      ]
    },
    {
      "cell_type": "code",
      "metadata": {
        "id": "TPfm1he3zeGM",
        "outputId": "efa6cf84-5f3e-49a3-e39c-4500509ce5fe",
        "colab": {
          "base_uri": "https://localhost:8080/",
          "height": 243
        }
      },
      "source": [
        "train_y.pop('Class2.2')"
      ],
      "execution_count": null,
      "outputs": [
        {
          "output_type": "execute_result",
          "data": {
            "text/plain": [
              "GalaxyID\n",
              "100008    0.616853\n",
              "100023    0.632599\n",
              "100053    0.177352\n",
              "100078    0.238564\n",
              "100090    0.000000\n",
              "            ...   \n",
              "999948    0.430414\n",
              "999950    0.098784\n",
              "999958    0.660414\n",
              "999964    0.863550\n",
              "999967    0.140000\n",
              "Name: Class2.2, Length: 61578, dtype: float64"
            ]
          },
          "metadata": {
            "tags": []
          },
          "execution_count": 73
        }
      ]
    },
    {
      "cell_type": "code",
      "metadata": {
        "id": "bWPwlZcoz9VT"
      },
      "source": [
        "train_y = train_y.rename(columns = {\"Class5.3\": \"Class5\",\n",
        "                                  \"Class5.2\":\"Class5\",\n",
        "                                  \"Class5.1\": \"Class5\",\n",
        "                                   \"Class5.4\": \"Class5\"})"
      ],
      "execution_count": null,
      "outputs": []
    },
    {
      "cell_type": "code",
      "metadata": {
        "id": "6hpOxKmxjDMT",
        "outputId": "8ebfdf4a-6f46-4d6c-d564-32e37b19f4bd",
        "colab": {
          "base_uri": "https://localhost:8080/",
          "height": 208
        }
      },
      "source": [
        "Index1=train_y.T.max()\n",
        "best=Index1[Index1>0.50]\n",
        "sel1=train_y.loc[best.index]\n",
        "bestlabel=sel1.T.idxmax()\n",
        "bestlabel.value_counts()"
      ],
      "execution_count": null,
      "outputs": [
        {
          "output_type": "execute_result",
          "data": {
            "text/plain": [
              "Class3.2    9868\n",
              "Class7.1    8149\n",
              "Class7.2    7813\n",
              "Class4.1    6386\n",
              "Class6.1    5548\n",
              "Class2.1    4923\n",
              "Class3.1    1202\n",
              "Class4.2    1133\n",
              "Class5      1064\n",
              "Class7.3     575\n",
              "dtype: int64"
            ]
          },
          "metadata": {
            "tags": []
          },
          "execution_count": 81
        }
      ]
    },
    {
      "cell_type": "code",
      "metadata": {
        "id": "Vk6eYdTZzM-q",
        "outputId": "7cdc0504-a36d-45fb-dd6b-2b1fa5514997",
        "colab": {
          "base_uri": "https://localhost:8080/",
          "height": 139
        }
      },
      "source": [
        "bestlabel.head()"
      ],
      "execution_count": null,
      "outputs": [
        {
          "output_type": "execute_result",
          "data": {
            "text/plain": [
              "GalaxyID\n",
              "100008    Class3.2\n",
              "100023    Class4.1\n",
              "100053    Class7.2\n",
              "100122    Class7.2\n",
              "100123    Class6.1\n",
              "dtype: object"
            ]
          },
          "metadata": {
            "tags": []
          },
          "execution_count": 82
        }
      ]
    },
    {
      "cell_type": "code",
      "metadata": {
        "id": "GYR0UhUeHrbL",
        "outputId": "101cbcd3-3cab-40a3-e211-552857c8c8b6",
        "colab": {
          "base_uri": "https://localhost:8080/",
          "height": 34
        }
      },
      "source": [
        "bestlabel.shape"
      ],
      "execution_count": null,
      "outputs": [
        {
          "output_type": "execute_result",
          "data": {
            "text/plain": [
              "(46661,)"
            ]
          },
          "metadata": {
            "tags": []
          },
          "execution_count": 83
        }
      ]
    },
    {
      "cell_type": "code",
      "metadata": {
        "id": "btVjmHtA9lfX",
        "outputId": "07537ed2-7072-459a-f0d5-4398272b631f",
        "colab": {
          "base_uri": "https://localhost:8080/",
          "height": 34
        }
      },
      "source": [
        "train_y.shape"
      ],
      "execution_count": null,
      "outputs": [
        {
          "output_type": "execute_result",
          "data": {
            "text/plain": [
              "(61578, 37)"
            ]
          },
          "metadata": {
            "tags": []
          },
          "execution_count": 14
        }
      ]
    },
    {
      "cell_type": "code",
      "metadata": {
        "id": "kT3O2OpD_8WB"
      },
      "source": [],
      "execution_count": null,
      "outputs": []
    },
    {
      "cell_type": "code",
      "metadata": {
        "id": "Skduxi1B_V_M"
      },
      "source": [
        "Index=train_y.T.idxmax()"
      ],
      "execution_count": null,
      "outputs": []
    },
    {
      "cell_type": "code",
      "metadata": {
        "id": "xOvPgp1CH4fb"
      },
      "source": [
        "numind=train_y.T.max()"
      ],
      "execution_count": null,
      "outputs": []
    },
    {
      "cell_type": "code",
      "metadata": {
        "id": "1Wv6gAYn5PCs"
      },
      "source": [
        "numind.shape"
      ],
      "execution_count": null,
      "outputs": []
    },
    {
      "cell_type": "code",
      "metadata": {
        "id": "DeOkdr6z5XHx"
      },
      "source": [
        "numind.head(10)"
      ],
      "execution_count": null,
      "outputs": []
    },
    {
      "cell_type": "code",
      "metadata": {
        "id": "cgDbZU-g5gDP"
      },
      "source": [
        "numind.min()"
      ],
      "execution_count": null,
      "outputs": []
    },
    {
      "cell_type": "code",
      "metadata": {
        "id": "VbyckRSh8FbL"
      },
      "source": [
        "Index.head(100)"
      ],
      "execution_count": null,
      "outputs": []
    },
    {
      "cell_type": "code",
      "metadata": {
        "id": "c8GQRogkLojR"
      },
      "source": [
        "traindel=train_y.pop('Class1.1')"
      ],
      "execution_count": null,
      "outputs": []
    },
    {
      "cell_type": "code",
      "metadata": {
        "id": "h4lt5wAUMCLa"
      },
      "source": [
        "traindel1=train_y.pop('Class1.2')\n",
        "#traindel2=train_y.pop('Class1.3')"
      ],
      "execution_count": null,
      "outputs": []
    },
    {
      "cell_type": "code",
      "metadata": {
        "id": "pin-lk-Vw5DR"
      },
      "source": [
        "traindel2=train_y.pop('Class1.3')"
      ],
      "execution_count": null,
      "outputs": []
    },
    {
      "cell_type": "code",
      "metadata": {
        "id": "MmtBOPvUMW8F",
        "outputId": "cc5bdeda-1294-4c41-d003-a4871b775174",
        "colab": {
          "base_uri": "https://localhost:8080/",
          "height": 243
        }
      },
      "source": [
        "train_y.pop('Class6.1')\n",
        "train_y.pop('Class6.2')"
      ],
      "execution_count": null,
      "outputs": [
        {
          "output_type": "execute_result",
          "data": {
            "text/plain": [
              "GalaxyID\n",
              "100008    0.945547\n",
              "100023    0.810851\n",
              "100053    1.000000\n",
              "100078    0.679602\n",
              "100090    0.970617\n",
              "            ...   \n",
              "999948    0.754266\n",
              "999950    0.872356\n",
              "999958    0.160814\n",
              "999964    0.136000\n",
              "999967    0.667000\n",
              "Name: Class6.2, Length: 61578, dtype: float64"
            ]
          },
          "metadata": {
            "tags": []
          },
          "execution_count": 40
        }
      ]
    },
    {
      "cell_type": "code",
      "metadata": {
        "id": "QvhZvy19L53k",
        "outputId": "5970767e-10a9-47f3-d244-73b9d914e9c0",
        "colab": {
          "base_uri": "https://localhost:8080/",
          "height": 258
        }
      },
      "source": [
        "train_y.head()"
      ],
      "execution_count": null,
      "outputs": [
        {
          "output_type": "execute_result",
          "data": {
            "text/html": [
              "<div>\n",
              "<style scoped>\n",
              "    .dataframe tbody tr th:only-of-type {\n",
              "        vertical-align: middle;\n",
              "    }\n",
              "\n",
              "    .dataframe tbody tr th {\n",
              "        vertical-align: top;\n",
              "    }\n",
              "\n",
              "    .dataframe thead th {\n",
              "        text-align: right;\n",
              "    }\n",
              "</style>\n",
              "<table border=\"1\" class=\"dataframe\">\n",
              "  <thead>\n",
              "    <tr style=\"text-align: right;\">\n",
              "      <th></th>\n",
              "      <th>Class1.3</th>\n",
              "      <th>Class2.1</th>\n",
              "      <th>Class2.2</th>\n",
              "      <th>Class3.1</th>\n",
              "      <th>Class3.2</th>\n",
              "      <th>Class4.1</th>\n",
              "      <th>Class4.2</th>\n",
              "      <th>Class5.1</th>\n",
              "      <th>Class5.2</th>\n",
              "      <th>Class5.3</th>\n",
              "      <th>Class5.4</th>\n",
              "      <th>Class7.1</th>\n",
              "      <th>Class7.2</th>\n",
              "      <th>Class7.3</th>\n",
              "      <th>Class8.1</th>\n",
              "      <th>Class8.2</th>\n",
              "      <th>Class8.3</th>\n",
              "      <th>Class8.4</th>\n",
              "      <th>Class8.5</th>\n",
              "      <th>Class8.6</th>\n",
              "      <th>Class8.7</th>\n",
              "      <th>Class9.1</th>\n",
              "      <th>Class9.2</th>\n",
              "      <th>Class9.3</th>\n",
              "      <th>Class10.1</th>\n",
              "      <th>Class10.2</th>\n",
              "      <th>Class10.3</th>\n",
              "      <th>Class11.1</th>\n",
              "      <th>Class11.2</th>\n",
              "      <th>Class11.3</th>\n",
              "      <th>Class11.4</th>\n",
              "      <th>Class11.5</th>\n",
              "      <th>Class11.6</th>\n",
              "    </tr>\n",
              "    <tr>\n",
              "      <th>GalaxyID</th>\n",
              "      <th></th>\n",
              "      <th></th>\n",
              "      <th></th>\n",
              "      <th></th>\n",
              "      <th></th>\n",
              "      <th></th>\n",
              "      <th></th>\n",
              "      <th></th>\n",
              "      <th></th>\n",
              "      <th></th>\n",
              "      <th></th>\n",
              "      <th></th>\n",
              "      <th></th>\n",
              "      <th></th>\n",
              "      <th></th>\n",
              "      <th></th>\n",
              "      <th></th>\n",
              "      <th></th>\n",
              "      <th></th>\n",
              "      <th></th>\n",
              "      <th></th>\n",
              "      <th></th>\n",
              "      <th></th>\n",
              "      <th></th>\n",
              "      <th></th>\n",
              "      <th></th>\n",
              "      <th></th>\n",
              "      <th></th>\n",
              "      <th></th>\n",
              "      <th></th>\n",
              "      <th></th>\n",
              "      <th></th>\n",
              "      <th></th>\n",
              "    </tr>\n",
              "  </thead>\n",
              "  <tbody>\n",
              "    <tr>\n",
              "      <th>100008</th>\n",
              "      <td>0.000000</td>\n",
              "      <td>0.000000</td>\n",
              "      <td>0.616853</td>\n",
              "      <td>0.038452</td>\n",
              "      <td>0.578401</td>\n",
              "      <td>0.418398</td>\n",
              "      <td>0.198455</td>\n",
              "      <td>0.0</td>\n",
              "      <td>0.104752</td>\n",
              "      <td>0.512101</td>\n",
              "      <td>0.000000</td>\n",
              "      <td>0.201463</td>\n",
              "      <td>0.181684</td>\n",
              "      <td>0.000000</td>\n",
              "      <td>0.0</td>\n",
              "      <td>0.027226</td>\n",
              "      <td>0.000000</td>\n",
              "      <td>0.027226</td>\n",
              "      <td>0.000000</td>\n",
              "      <td>0.000000</td>\n",
              "      <td>0.0</td>\n",
              "      <td>0.000000</td>\n",
              "      <td>0.0</td>\n",
              "      <td>0.000000</td>\n",
              "      <td>0.279952</td>\n",
              "      <td>0.138445</td>\n",
              "      <td>0.000000</td>\n",
              "      <td>0.000000</td>\n",
              "      <td>0.092886</td>\n",
              "      <td>0.0</td>\n",
              "      <td>0.0</td>\n",
              "      <td>0.0</td>\n",
              "      <td>0.325512</td>\n",
              "    </tr>\n",
              "    <tr>\n",
              "      <th>100023</th>\n",
              "      <td>0.009222</td>\n",
              "      <td>0.031178</td>\n",
              "      <td>0.632599</td>\n",
              "      <td>0.467370</td>\n",
              "      <td>0.165229</td>\n",
              "      <td>0.591328</td>\n",
              "      <td>0.041271</td>\n",
              "      <td>0.0</td>\n",
              "      <td>0.236781</td>\n",
              "      <td>0.160941</td>\n",
              "      <td>0.234877</td>\n",
              "      <td>0.000000</td>\n",
              "      <td>0.135082</td>\n",
              "      <td>0.191919</td>\n",
              "      <td>0.0</td>\n",
              "      <td>0.000000</td>\n",
              "      <td>0.140353</td>\n",
              "      <td>0.000000</td>\n",
              "      <td>0.048796</td>\n",
              "      <td>0.000000</td>\n",
              "      <td>0.0</td>\n",
              "      <td>0.012414</td>\n",
              "      <td>0.0</td>\n",
              "      <td>0.018764</td>\n",
              "      <td>0.000000</td>\n",
              "      <td>0.131378</td>\n",
              "      <td>0.459950</td>\n",
              "      <td>0.000000</td>\n",
              "      <td>0.591328</td>\n",
              "      <td>0.0</td>\n",
              "      <td>0.0</td>\n",
              "      <td>0.0</td>\n",
              "      <td>0.000000</td>\n",
              "    </tr>\n",
              "    <tr>\n",
              "      <th>100053</th>\n",
              "      <td>0.056931</td>\n",
              "      <td>0.000000</td>\n",
              "      <td>0.177352</td>\n",
              "      <td>0.000000</td>\n",
              "      <td>0.177352</td>\n",
              "      <td>0.000000</td>\n",
              "      <td>0.177352</td>\n",
              "      <td>0.0</td>\n",
              "      <td>0.117790</td>\n",
              "      <td>0.059562</td>\n",
              "      <td>0.000000</td>\n",
              "      <td>0.000000</td>\n",
              "      <td>0.741864</td>\n",
              "      <td>0.023853</td>\n",
              "      <td>0.0</td>\n",
              "      <td>0.000000</td>\n",
              "      <td>0.000000</td>\n",
              "      <td>0.000000</td>\n",
              "      <td>0.000000</td>\n",
              "      <td>0.000000</td>\n",
              "      <td>0.0</td>\n",
              "      <td>0.000000</td>\n",
              "      <td>0.0</td>\n",
              "      <td>0.000000</td>\n",
              "      <td>0.000000</td>\n",
              "      <td>0.000000</td>\n",
              "      <td>0.000000</td>\n",
              "      <td>0.000000</td>\n",
              "      <td>0.000000</td>\n",
              "      <td>0.0</td>\n",
              "      <td>0.0</td>\n",
              "      <td>0.0</td>\n",
              "      <td>0.000000</td>\n",
              "    </tr>\n",
              "    <tr>\n",
              "      <th>100078</th>\n",
              "      <td>0.068059</td>\n",
              "      <td>0.000000</td>\n",
              "      <td>0.238564</td>\n",
              "      <td>0.109493</td>\n",
              "      <td>0.129071</td>\n",
              "      <td>0.189098</td>\n",
              "      <td>0.049466</td>\n",
              "      <td>0.0</td>\n",
              "      <td>0.000000</td>\n",
              "      <td>0.113284</td>\n",
              "      <td>0.125280</td>\n",
              "      <td>0.408599</td>\n",
              "      <td>0.284778</td>\n",
              "      <td>0.000000</td>\n",
              "      <td>0.0</td>\n",
              "      <td>0.000000</td>\n",
              "      <td>0.096119</td>\n",
              "      <td>0.096119</td>\n",
              "      <td>0.000000</td>\n",
              "      <td>0.128159</td>\n",
              "      <td>0.0</td>\n",
              "      <td>0.000000</td>\n",
              "      <td>0.0</td>\n",
              "      <td>0.000000</td>\n",
              "      <td>0.094549</td>\n",
              "      <td>0.000000</td>\n",
              "      <td>0.094549</td>\n",
              "      <td>0.189098</td>\n",
              "      <td>0.000000</td>\n",
              "      <td>0.0</td>\n",
              "      <td>0.0</td>\n",
              "      <td>0.0</td>\n",
              "      <td>0.000000</td>\n",
              "    </tr>\n",
              "    <tr>\n",
              "      <th>100090</th>\n",
              "      <td>0.066161</td>\n",
              "      <td>0.000000</td>\n",
              "      <td>0.000000</td>\n",
              "      <td>0.000000</td>\n",
              "      <td>0.000000</td>\n",
              "      <td>0.000000</td>\n",
              "      <td>0.000000</td>\n",
              "      <td>0.0</td>\n",
              "      <td>0.000000</td>\n",
              "      <td>0.000000</td>\n",
              "      <td>0.000000</td>\n",
              "      <td>0.494587</td>\n",
              "      <td>0.439252</td>\n",
              "      <td>0.000000</td>\n",
              "      <td>0.0</td>\n",
              "      <td>0.000000</td>\n",
              "      <td>0.000000</td>\n",
              "      <td>0.000000</td>\n",
              "      <td>0.000000</td>\n",
              "      <td>0.029383</td>\n",
              "      <td>0.0</td>\n",
              "      <td>0.000000</td>\n",
              "      <td>0.0</td>\n",
              "      <td>0.000000</td>\n",
              "      <td>0.000000</td>\n",
              "      <td>0.000000</td>\n",
              "      <td>0.000000</td>\n",
              "      <td>0.000000</td>\n",
              "      <td>0.000000</td>\n",
              "      <td>0.0</td>\n",
              "      <td>0.0</td>\n",
              "      <td>0.0</td>\n",
              "      <td>0.000000</td>\n",
              "    </tr>\n",
              "  </tbody>\n",
              "</table>\n",
              "</div>"
            ],
            "text/plain": [
              "          Class1.3  Class2.1  Class2.2  ...  Class11.4  Class11.5  Class11.6\n",
              "GalaxyID                                ...                                 \n",
              "100008    0.000000  0.000000  0.616853  ...        0.0        0.0   0.325512\n",
              "100023    0.009222  0.031178  0.632599  ...        0.0        0.0   0.000000\n",
              "100053    0.056931  0.000000  0.177352  ...        0.0        0.0   0.000000\n",
              "100078    0.068059  0.000000  0.238564  ...        0.0        0.0   0.000000\n",
              "100090    0.066161  0.000000  0.000000  ...        0.0        0.0   0.000000\n",
              "\n",
              "[5 rows x 33 columns]"
            ]
          },
          "metadata": {
            "tags": []
          },
          "execution_count": 41
        }
      ]
    },
    {
      "cell_type": "code",
      "metadata": {
        "id": "mnNJUzgGNVe0",
        "outputId": "5cd873b2-310e-4fd4-e4c7-7683c594cbe2",
        "colab": {
          "base_uri": "https://localhost:8080/",
          "height": 34
        }
      },
      "source": [
        "train_y.shape"
      ],
      "execution_count": null,
      "outputs": [
        {
          "output_type": "execute_result",
          "data": {
            "text/plain": [
              "(61578, 33)"
            ]
          },
          "metadata": {
            "tags": []
          },
          "execution_count": 42
        }
      ]
    },
    {
      "cell_type": "code",
      "metadata": {
        "id": "o5d8ptY0PhOI",
        "outputId": "70e1395c-ba27-43c6-8eea-592c00349971",
        "colab": {
          "base_uri": "https://localhost:8080/",
          "height": 243
        }
      },
      "source": [
        "train_y.pop('Class2.2')"
      ],
      "execution_count": null,
      "outputs": [
        {
          "output_type": "execute_result",
          "data": {
            "text/plain": [
              "GalaxyID\n",
              "100008    0.616853\n",
              "100023    0.632599\n",
              "100053    0.177352\n",
              "100078    0.238564\n",
              "100090    0.000000\n",
              "            ...   \n",
              "999948    0.430414\n",
              "999950    0.098784\n",
              "999958    0.660414\n",
              "999964    0.863550\n",
              "999967    0.140000\n",
              "Name: Class2.2, Length: 61578, dtype: float64"
            ]
          },
          "metadata": {
            "tags": []
          },
          "execution_count": 43
        }
      ]
    },
    {
      "cell_type": "code",
      "metadata": {
        "id": "bGJg-2PzVGL5",
        "outputId": "4459739f-99f5-44e4-8ead-c4fcfd9c98ee",
        "colab": {
          "base_uri": "https://localhost:8080/",
          "height": 243
        }
      },
      "source": [
        "train_y.pop('Class8.6')\n",
        "train_y.pop('Class8.1')\n",
        "train_y.pop('Class8.5')\n",
        "train_y.pop('Class8.4')\n",
        "train_y.pop('Class8.7')\n",
        "train_y.pop('Class8.3')\n",
        "train_y.pop('Class8.2')\n",
        "#train_y.pop('Class9.2')"
      ],
      "execution_count": null,
      "outputs": [
        {
          "output_type": "execute_result",
          "data": {
            "text/plain": [
              "GalaxyID\n",
              "100008    0.027226\n",
              "100023    0.000000\n",
              "100053    0.000000\n",
              "100078    0.000000\n",
              "100090    0.000000\n",
              "            ...   \n",
              "999948    0.000000\n",
              "999950    0.000000\n",
              "999958    0.000000\n",
              "999964    0.000000\n",
              "999967    0.025641\n",
              "Name: Class8.2, Length: 61578, dtype: float64"
            ]
          },
          "metadata": {
            "tags": []
          },
          "execution_count": 44
        }
      ]
    },
    {
      "cell_type": "code",
      "metadata": {
        "id": "OJv1J5zfNh_x"
      },
      "source": [
        "newidx=train_y.idxmax(axis=1)"
      ],
      "execution_count": null,
      "outputs": []
    },
    {
      "cell_type": "code",
      "metadata": {
        "id": "WkJ36DHgNsTV",
        "outputId": "12725fca-8467-44b6-d3a9-5bd894b804fa",
        "colab": {
          "base_uri": "https://localhost:8080/",
          "height": 260
        }
      },
      "source": [
        "newidx.value_counts()"
      ],
      "execution_count": null,
      "outputs": [
        {
          "output_type": "execute_result",
          "data": {
            "text/plain": [
              "Class3.2    15821\n",
              "Class7.2    12491\n",
              "Class7.1    11253\n",
              "Class4.1     7204\n",
              "Class2.1     6640\n",
              "Class4.2     2645\n",
              "Class7.3     1832\n",
              "Class3.1     1602\n",
              "Class5.3     1041\n",
              "Class5.2      828\n",
              "Class5.1      121\n",
              "Class1.3       93\n",
              "Class5.4        7\n",
              "dtype: int64"
            ]
          },
          "metadata": {
            "tags": []
          },
          "execution_count": 23
        }
      ]
    },
    {
      "cell_type": "code",
      "metadata": {
        "id": "Oj2EtNsCQ9Vv"
      },
      "source": [
        "cons=train_y.max(axis=1)"
      ],
      "execution_count": null,
      "outputs": []
    },
    {
      "cell_type": "code",
      "metadata": {
        "id": "SIu5KAM02ciB",
        "outputId": "e4c105a7-50a9-43cc-b42e-1a6c89c3d4e0",
        "colab": {
          "base_uri": "https://localhost:8080/",
          "height": 169
        }
      },
      "source": [
        "Index.value_counts()"
      ],
      "execution_count": null,
      "outputs": [
        {
          "output_type": "error",
          "ename": "NameError",
          "evalue": "ignored",
          "traceback": [
            "\u001b[0;31m---------------------------------------------------------------------------\u001b[0m",
            "\u001b[0;31mNameError\u001b[0m                                 Traceback (most recent call last)",
            "\u001b[0;32m<ipython-input-30-c9e229d47454>\u001b[0m in \u001b[0;36m<module>\u001b[0;34m()\u001b[0m\n\u001b[0;32m----> 1\u001b[0;31m \u001b[0mIndex\u001b[0m\u001b[0;34m.\u001b[0m\u001b[0mvalue_counts\u001b[0m\u001b[0;34m(\u001b[0m\u001b[0;34m)\u001b[0m\u001b[0;34m\u001b[0m\u001b[0;34m\u001b[0m\u001b[0m\n\u001b[0m",
            "\u001b[0;31mNameError\u001b[0m: name 'Index' is not defined"
          ]
        }
      ]
    },
    {
      "cell_type": "code",
      "metadata": {
        "id": "z7PPskz6qd6a"
      },
      "source": [
        "classes=train_y.T.index"
      ],
      "execution_count": null,
      "outputs": []
    },
    {
      "cell_type": "code",
      "metadata": {
        "id": "q7gs-Bj2yk9X",
        "outputId": "c114b027-150f-46df-dbe3-afa7376921b2",
        "colab": {
          "base_uri": "https://localhost:8080/",
          "height": 121
        }
      },
      "source": [
        "classes"
      ],
      "execution_count": null,
      "outputs": [
        {
          "output_type": "execute_result",
          "data": {
            "text/plain": [
              "Index(['Class1.3', 'Class2.1', 'Class3.1', 'Class3.2', 'Class4.1', 'Class4.2',\n",
              "       'Class5.1', 'Class5.2', 'Class5.3', 'Class5.4', 'Class7.1', 'Class7.2',\n",
              "       'Class7.3', 'Class9.1', 'Class9.3', 'Class10.1', 'Class10.2',\n",
              "       'Class10.3', 'Class11.1', 'Class11.2', 'Class11.3', 'Class11.4',\n",
              "       'Class11.5', 'Class11.6'],\n",
              "      dtype='object')"
            ]
          },
          "metadata": {
            "tags": []
          },
          "execution_count": 29
        }
      ]
    },
    {
      "cell_type": "code",
      "metadata": {
        "id": "CNsOW6BTLncA"
      },
      "source": [],
      "execution_count": null,
      "outputs": []
    },
    {
      "cell_type": "code",
      "metadata": {
        "id": "70m7tD272Ukf"
      },
      "source": [],
      "execution_count": null,
      "outputs": []
    },
    {
      "cell_type": "code",
      "metadata": {
        "id": "lZQ1i2f19CEz"
      },
      "source": [
        "print(Index)"
      ],
      "execution_count": null,
      "outputs": []
    },
    {
      "cell_type": "code",
      "metadata": {
        "id": "gDEb0Ulv1ycG"
      },
      "source": [
        "Index.tail()"
      ],
      "execution_count": null,
      "outputs": []
    },
    {
      "cell_type": "code",
      "metadata": {
        "id": "xy0VsNFB1pJt"
      },
      "source": [
        "Index.value_counts()"
      ],
      "execution_count": null,
      "outputs": []
    },
    {
      "cell_type": "code",
      "metadata": {
        "id": "uyROTnLzAMF-"
      },
      "source": [
        "Index1=train_y.T.max()"
      ],
      "execution_count": null,
      "outputs": []
    },
    {
      "cell_type": "code",
      "metadata": {
        "id": "_H_3lRQzDNBG"
      },
      "source": [
        "Index1"
      ],
      "execution_count": null,
      "outputs": []
    },
    {
      "cell_type": "code",
      "metadata": {
        "id": "DgW-JkpAWIAV"
      },
      "source": [
        "Index1.shape"
      ],
      "execution_count": null,
      "outputs": []
    },
    {
      "cell_type": "code",
      "metadata": {
        "id": "8mPL5VuOlBl1"
      },
      "source": [
        "best=Index1[Index1>0.50]"
      ],
      "execution_count": null,
      "outputs": []
    },
    {
      "cell_type": "code",
      "metadata": {
        "id": "oSefndOsRZ8y"
      },
      "source": [
        "best.shape"
      ],
      "execution_count": null,
      "outputs": []
    },
    {
      "cell_type": "code",
      "metadata": {
        "id": "_uByUKT4WUTm"
      },
      "source": [
        "best.head()"
      ],
      "execution_count": null,
      "outputs": []
    },
    {
      "cell_type": "code",
      "metadata": {
        "id": "acL0eCZnWb0E"
      },
      "source": [
        "#newin=train_y[best.index]"
      ],
      "execution_count": null,
      "outputs": []
    },
    {
      "cell_type": "code",
      "metadata": {
        "id": "HxILqTIIRjOt"
      },
      "source": [],
      "execution_count": null,
      "outputs": []
    },
    {
      "cell_type": "code",
      "metadata": {
        "id": "_ioWV_c-scJw"
      },
      "source": [
        "sel1=train_y.loc[best.index]"
      ],
      "execution_count": null,
      "outputs": []
    },
    {
      "cell_type": "code",
      "metadata": {
        "id": "foaKOBG1s3ZD"
      },
      "source": [
        "sel1.shape"
      ],
      "execution_count": null,
      "outputs": []
    },
    {
      "cell_type": "code",
      "metadata": {
        "id": "dZnrfm9dxtlw",
        "outputId": "e3a0254f-3c1e-44b1-95d8-bf1796d13156",
        "colab": {
          "base_uri": "https://localhost:8080/",
          "height": 34
        }
      },
      "source": [
        "new_data.shape"
      ],
      "execution_count": null,
      "outputs": [
        {
          "output_type": "execute_result",
          "data": {
            "text/plain": [
              "(61578, 24)"
            ]
          },
          "metadata": {
            "tags": []
          },
          "execution_count": 53
        }
      ]
    },
    {
      "cell_type": "code",
      "metadata": {
        "id": "f-jUtey_0wOf",
        "outputId": "93db0fed-9075-4c3f-88df-56e7b678d7a6",
        "colab": {
          "base_uri": "https://localhost:8080/",
          "height": 191
        }
      },
      "source": [
        "Index1=train_y.T.max()\n",
        "best=Index1[Index1>0.40]\n",
        "sel1=train_y.loc[best.index]\n",
        "bestlabel=sel1.T.idxmax()\n",
        "bestlabel.value_counts()\n",
        "#print('best',bestlabel.shape) #the mainevent"
      ],
      "execution_count": null,
      "outputs": [
        {
          "output_type": "execute_result",
          "data": {
            "text/plain": [
              "Class3.2    14682\n",
              "Class7.2    11219\n",
              "Class7.1    10630\n",
              "Class4.1     7061\n",
              "Class2.1     6052\n",
              "Class4.2     2334\n",
              "Class5       1775\n",
              "Class3.1     1488\n",
              "Class7.3     1244\n",
              "dtype: int64"
            ]
          },
          "metadata": {
            "tags": []
          },
          "execution_count": 52
        }
      ]
    },
    {
      "cell_type": "code",
      "metadata": {
        "id": "EPpPK66up5J8"
      },
      "source": [
        "bestlabel.shape"
      ],
      "execution_count": null,
      "outputs": []
    },
    {
      "cell_type": "code",
      "metadata": {
        "id": "VBjqbFzVcxA6"
      },
      "source": [
        "bestlabel.head()"
      ],
      "execution_count": null,
      "outputs": []
    },
    {
      "cell_type": "code",
      "metadata": {
        "id": "jJoFFSE4Xe3q"
      },
      "source": [
        "new_data = train_y.rename(columns = {\"Class5.3\": \"Class5\",\n",
        "                                  \"Class5.2\":\"Class5\",\n",
        "                                  \"Class5.1\": \"Class5\",\n",
        "                                   \"Class5.4\": \"Class5\"})"
      ],
      "execution_count": null,
      "outputs": []
    },
    {
      "cell_type": "code",
      "metadata": {
        "id": "A0cRtnxBaZNa"
      },
      "source": [
        "train_y=new_data"
      ],
      "execution_count": null,
      "outputs": []
    },
    {
      "cell_type": "code",
      "metadata": {
        "id": "dRmN95D5YCAL"
      },
      "source": [
        "bestlabel.value_counts()"
      ],
      "execution_count": null,
      "outputs": []
    },
    {
      "cell_type": "code",
      "metadata": {
        "id": "jtyUNll9W5wM"
      },
      "source": [
        "bestlabel.head()"
      ],
      "execution_count": null,
      "outputs": []
    },
    {
      "cell_type": "code",
      "metadata": {
        "id": "nX9zAqz7XA0G"
      },
      "source": [
        "bestlabel.shape"
      ],
      "execution_count": null,
      "outputs": []
    },
    {
      "cell_type": "code",
      "metadata": {
        "id": "6azynQHt1OYU"
      },
      "source": [
        "best.shape()"
      ],
      "execution_count": null,
      "outputs": []
    },
    {
      "cell_type": "code",
      "metadata": {
        "id": "dHYX-EM5s-fc"
      },
      "source": [
        "bestlabel=sel1.T.idxmax()"
      ],
      "execution_count": null,
      "outputs": []
    },
    {
      "cell_type": "code",
      "metadata": {
        "id": "syixSJDgtNp8"
      },
      "source": [
        "bestlabel.shape"
      ],
      "execution_count": null,
      "outputs": []
    },
    {
      "cell_type": "code",
      "metadata": {
        "id": "a6Y0MxdKtS4v"
      },
      "source": [
        "bestlabel.head(10)"
      ],
      "execution_count": null,
      "outputs": []
    },
    {
      "cell_type": "code",
      "metadata": {
        "id": "9HZTTgcEtZji"
      },
      "source": [],
      "execution_count": null,
      "outputs": []
    },
    {
      "cell_type": "code",
      "metadata": {
        "id": "IVCz_mnXzfTo"
      },
      "source": [
        "bestlabel.value_counts()"
      ],
      "execution_count": null,
      "outputs": []
    },
    {
      "cell_type": "code",
      "metadata": {
        "id": "-H_BDIDLydvD"
      },
      "source": [
        "count"
      ],
      "execution_count": null,
      "outputs": []
    },
    {
      "cell_type": "code",
      "metadata": {
        "id": "YG9ExTk8sTjd"
      },
      "source": [
        "galid=best.index"
      ],
      "execution_count": null,
      "outputs": []
    },
    {
      "cell_type": "code",
      "metadata": {
        "id": "O2Syntj1sZjs"
      },
      "source": [
        "galid"
      ],
      "execution_count": null,
      "outputs": []
    },
    {
      "cell_type": "code",
      "metadata": {
        "id": "BcGgBuq8rE_3"
      },
      "source": [
        "best.head()"
      ],
      "execution_count": null,
      "outputs": []
    },
    {
      "cell_type": "code",
      "metadata": {
        "id": "NyJmP8rkrgFn"
      },
      "source": [
        "best.unique"
      ],
      "execution_count": null,
      "outputs": []
    },
    {
      "cell_type": "code",
      "metadata": {
        "id": "7Ui41iqEq3n0"
      },
      "source": [
        "cla_best=best[]"
      ],
      "execution_count": null,
      "outputs": []
    },
    {
      "cell_type": "code",
      "metadata": {
        "id": "B6QDYNH3q_Ct"
      },
      "source": [
        "cla_best"
      ],
      "execution_count": null,
      "outputs": []
    },
    {
      "cell_type": "code",
      "metadata": {
        "id": "jZJWf6hqlIdV"
      },
      "source": [
        "best.shape"
      ],
      "execution_count": null,
      "outputs": []
    },
    {
      "cell_type": "code",
      "metadata": {
        "id": "PBzueNYCo_tx"
      },
      "source": [
        "best.head()"
      ],
      "execution_count": null,
      "outputs": []
    },
    {
      "cell_type": "code",
      "metadata": {
        "id": "MM2zIkU1pLv4"
      },
      "source": [
        "galid=best.index"
      ],
      "execution_count": null,
      "outputs": []
    },
    {
      "cell_type": "code",
      "metadata": {
        "id": "4G5OkASqpUT0"
      },
      "source": [
        "bestvalue=Index[galid]"
      ],
      "execution_count": null,
      "outputs": []
    },
    {
      "cell_type": "code",
      "metadata": {
        "id": "Spygrlc7pcC-"
      },
      "source": [
        "bestvalue.head()"
      ],
      "execution_count": null,
      "outputs": []
    },
    {
      "cell_type": "code",
      "metadata": {
        "id": "YZBynPWRlpAR"
      },
      "source": [
        "colinc=train_y[]"
      ],
      "execution_count": null,
      "outputs": []
    },
    {
      "cell_type": "code",
      "metadata": {
        "id": "mawCMsXDlSdC"
      },
      "source": [
        "best.head(100)"
      ],
      "execution_count": null,
      "outputs": []
    },
    {
      "cell_type": "code",
      "metadata": {
        "id": "CPMxhgMnDRXX"
      },
      "source": [],
      "execution_count": null,
      "outputs": []
    },
    {
      "cell_type": "code",
      "metadata": {
        "id": "QRuCv5oZF7Ku"
      },
      "source": [
        "Num=np.asanyarray(Index1)"
      ],
      "execution_count": null,
      "outputs": []
    },
    {
      "cell_type": "code",
      "metadata": {
        "id": "omUFmZL7HGVJ"
      },
      "source": [
        "train_y.plot(table='true')"
      ],
      "execution_count": null,
      "outputs": []
    },
    {
      "cell_type": "code",
      "metadata": {
        "id": "UeyMZ3tDGQqG"
      },
      "source": [
        "Index1.loc(1:100).plot(x='GalaxyID',style='o',figsize=(25, 25))"
      ],
      "execution_count": null,
      "outputs": []
    },
    {
      "cell_type": "code",
      "metadata": {
        "id": "ITQX-M7SJAUb"
      },
      "source": [
        "!pip install astronn"
      ],
      "execution_count": null,
      "outputs": []
    },
    {
      "cell_type": "code",
      "metadata": {
        "id": "AARln1UhGDct"
      },
      "source": [
        "from keras import utils\n",
        "import numpy as np\n",
        "from sklearn.model_selection import train_test_split\n",
        "import pylab as plt\n",
        "\n",
        "#from astroNN.models import Galaxy10CNN\n",
        "from astroNN.datasets import galaxy10\n",
        "from astroNN.datasets.galaxy10 import galaxy10cls_lookup, galaxy10_confusion\n",
        "\n",
        "# To load images and labels (will download automatically at the first time)\n",
        "# First time downloading location will be ~/.astroNN/datasets/\n",
        "images, labels = galaxy10.load_data()\n"
      ],
      "execution_count": null,
      "outputs": []
    },
    {
      "cell_type": "code",
      "metadata": {
        "id": "LeItEp7MJilM"
      },
      "source": [
        "images.shape"
      ],
      "execution_count": null,
      "outputs": []
    },
    {
      "cell_type": "code",
      "metadata": {
        "id": "o1xmscYZJmcp"
      },
      "source": [
        "labels.shape"
      ],
      "execution_count": null,
      "outputs": []
    },
    {
      "cell_type": "code",
      "metadata": {
        "id": "9-YZav2tKAIC"
      },
      "source": [
        "labels"
      ],
      "execution_count": null,
      "outputs": []
    },
    {
      "cell_type": "code",
      "metadata": {
        "id": "gXdsnTN_Jq3n"
      },
      "source": [
        "img1=images[13,:,:,:]"
      ],
      "execution_count": null,
      "outputs": []
    },
    {
      "cell_type": "code",
      "metadata": {
        "id": "jV8XCAi9J08Q"
      },
      "source": [
        "plt.imshow(img1)"
      ],
      "execution_count": null,
      "outputs": []
    },
    {
      "cell_type": "code",
      "metadata": {
        "id": "3nMkbTcLGF-6"
      },
      "source": [
        "Num"
      ],
      "execution_count": null,
      "outputs": []
    },
    {
      "cell_type": "code",
      "metadata": {
        "id": "hO5LoO60DkS9"
      },
      "source": [
        "plt.plot(Num.T)"
      ],
      "execution_count": null,
      "outputs": []
    },
    {
      "cell_type": "code",
      "metadata": {
        "id": "37p2yJa0Edw7"
      },
      "source": [
        "train_y.plot()"
      ],
      "execution_count": null,
      "outputs": []
    },
    {
      "cell_type": "code",
      "metadata": {
        "id": "s1Wcm6RR-Yst"
      },
      "source": [
        "train = np.array([readImage(files_train[x_train])\n",
        "                  for x_train in range(30)\n",
        "                 ])"
      ],
      "execution_count": null,
      "outputs": []
    },
    {
      "cell_type": "code",
      "metadata": {
        "id": "FWxzhg5o-i1N"
      },
      "source": [
        "import matplotlib.pyplot as plt\n",
        "\n",
        "plt.imshow(train[29,:,:,:])"
      ],
      "execution_count": null,
      "outputs": []
    },
    {
      "cell_type": "code",
      "metadata": {
        "id": "DWuuNcIW-r6t"
      },
      "source": [
        "img=train[29,:,:,:]"
      ],
      "execution_count": null,
      "outputs": []
    },
    {
      "cell_type": "code",
      "metadata": {
        "id": "LoKr3cgF-uVC"
      },
      "source": [
        "import numpy as np\n",
        "import matplotlib.pyplot as plt\n",
        "from sklearn.mixture import GaussianMixture\n",
        "from sklearn.mixture import BayesianGaussianMixture\n"
      ],
      "execution_count": null,
      "outputs": []
    },
    {
      "cell_type": "code",
      "metadata": {
        "id": "sDBRCHyB-_a7"
      },
      "source": [
        "img.shape"
      ],
      "execution_count": null,
      "outputs": []
    },
    {
      "cell_type": "code",
      "metadata": {
        "id": "Y9z9_kZd_EPL"
      },
      "source": [
        "img1=img[:,:,0]\n",
        "plt.imshow(img1)"
      ],
      "execution_count": null,
      "outputs": []
    },
    {
      "cell_type": "code",
      "metadata": {
        "id": "vgAx_05xGHfW"
      },
      "source": [
        "img2=img[:,:,2]"
      ],
      "execution_count": null,
      "outputs": []
    },
    {
      "cell_type": "code",
      "metadata": {
        "id": "UUYibhug_IYh"
      },
      "source": [
        "plt.imshow(img1)"
      ],
      "execution_count": null,
      "outputs": []
    },
    {
      "cell_type": "code",
      "metadata": {
        "id": "pD6aSBuE-2RJ"
      },
      "source": [
        "\n",
        "gmm = GaussianMixture(n_components=5)\n",
        "gmm.fit(img1)"
      ],
      "execution_count": null,
      "outputs": []
    },
    {
      "cell_type": "code",
      "metadata": {
        "id": "7R1Ch5jx_xUq"
      },
      "source": [
        "\n",
        "M=gmm.means_\n",
        "C=gmm.covariances_"
      ],
      "execution_count": null,
      "outputs": []
    },
    {
      "cell_type": "code",
      "metadata": {
        "id": "q1JDpDmxAcLE"
      },
      "source": [
        "M.shape"
      ],
      "execution_count": null,
      "outputs": []
    },
    {
      "cell_type": "code",
      "metadata": {
        "id": "Dsx9ZZmYAe1-"
      },
      "source": [
        "C.shape"
      ],
      "execution_count": null,
      "outputs": []
    },
    {
      "cell_type": "code",
      "metadata": {
        "id": "Xd1b82E6A0R0"
      },
      "source": [
        "P=gmm.predict_proba(img1)"
      ],
      "execution_count": null,
      "outputs": []
    },
    {
      "cell_type": "code",
      "metadata": {
        "id": "e-J2gH19A754"
      },
      "source": [
        "P.shape"
      ],
      "execution_count": null,
      "outputs": []
    },
    {
      "cell_type": "code",
      "metadata": {
        "id": "Uguv1MymA_5x"
      },
      "source": [
        "img1.shape"
      ],
      "execution_count": null,
      "outputs": []
    },
    {
      "cell_type": "code",
      "metadata": {
        "id": "IsKspm_PBA0J"
      },
      "source": [],
      "execution_count": null,
      "outputs": []
    },
    {
      "cell_type": "code",
      "metadata": {
        "id": "l_7OX_1eBOjM"
      },
      "source": [
        "M.shape"
      ],
      "execution_count": null,
      "outputs": []
    },
    {
      "cell_type": "code",
      "metadata": {
        "id": "oECZa0CjDV1M"
      },
      "source": [
        "M.shape"
      ],
      "execution_count": null,
      "outputs": []
    },
    {
      "cell_type": "code",
      "metadata": {
        "id": "rrmv652WDfPL"
      },
      "source": [
        "plt.plot(M[0,:])"
      ],
      "execution_count": null,
      "outputs": []
    },
    {
      "cell_type": "code",
      "metadata": {
        "id": "FmQ-d2QYPbM0"
      },
      "source": [
        "plt.plot(M[3,:])"
      ],
      "execution_count": null,
      "outputs": []
    },
    {
      "cell_type": "code",
      "metadata": {
        "id": "MAimt7TDDMxu"
      },
      "source": [],
      "execution_count": null,
      "outputs": []
    },
    {
      "cell_type": "code",
      "metadata": {
        "id": "wdSuM-EvB-T2"
      },
      "source": [
        "C.shape"
      ],
      "execution_count": null,
      "outputs": []
    },
    {
      "cell_type": "code",
      "metadata": {
        "id": "FVGaAJq2CG4o"
      },
      "source": [
        "plt.imshow(C[1,:,:])"
      ],
      "execution_count": null,
      "outputs": []
    },
    {
      "cell_type": "code",
      "metadata": {
        "id": "C9r8Kj9PB40E"
      },
      "source": [
        "gmm.score(img2)"
      ],
      "execution_count": null,
      "outputs": []
    },
    {
      "cell_type": "code",
      "metadata": {
        "id": "1Ie-hceKRKwD"
      },
      "source": [
        "F=gmm.sample()"
      ],
      "execution_count": null,
      "outputs": []
    },
    {
      "cell_type": "code",
      "metadata": {
        "id": "Ii2AmXLSSYeq"
      },
      "source": [
        "F[1]"
      ],
      "execution_count": null,
      "outputs": []
    },
    {
      "cell_type": "code",
      "metadata": {
        "id": "3zNFu9KMRS7P"
      },
      "source": [
        "K=np.asarray(F[0])"
      ],
      "execution_count": null,
      "outputs": []
    },
    {
      "cell_type": "code",
      "metadata": {
        "id": "CikKlF6TShZl"
      },
      "source": [
        "K.shape"
      ],
      "execution_count": null,
      "outputs": []
    },
    {
      "cell_type": "code",
      "metadata": {
        "id": "haDO6g2SStgG"
      },
      "source": [
        "plt.plot(K[0])"
      ],
      "execution_count": null,
      "outputs": []
    },
    {
      "cell_type": "code",
      "metadata": {
        "id": "uROdAEXaT_3l"
      },
      "source": [
        "img1.shape"
      ],
      "execution_count": null,
      "outputs": []
    },
    {
      "cell_type": "code",
      "metadata": {
        "id": "AvCmqpv0TyJu"
      },
      "source": [
        "plt.plot(img1[1])"
      ],
      "execution_count": null,
      "outputs": []
    },
    {
      "cell_type": "code",
      "metadata": {
        "id": "RTHDQDrGVV8v"
      },
      "source": [
        "H=np.histogram(img1)"
      ],
      "execution_count": null,
      "outputs": []
    },
    {
      "cell_type": "code",
      "metadata": {
        "id": "5Q6_K0iJVmeP"
      },
      "source": [
        "H[1].shape"
      ],
      "execution_count": null,
      "outputs": []
    },
    {
      "cell_type": "code",
      "metadata": {
        "id": "-YgyDX1EVxle"
      },
      "source": [
        "plt.plot(H[0])"
      ],
      "execution_count": null,
      "outputs": []
    },
    {
      "cell_type": "code",
      "metadata": {
        "id": "VSSokOcnWSdK"
      },
      "source": [
        "hist,bins = np.histogram(img.ravel(),256,[0,256])"
      ],
      "execution_count": null,
      "outputs": []
    },
    {
      "cell_type": "code",
      "metadata": {
        "id": "MKVVwPO1WUDb"
      },
      "source": [
        "bins"
      ],
      "execution_count": null,
      "outputs": []
    },
    {
      "cell_type": "code",
      "metadata": {
        "id": "wWOLV0y_GAaO"
      },
      "source": [
        "img3=img[:,:,2]\n",
        "img2=img[:,:,1]\n",
        "img1=img[:,:,0]"
      ],
      "execution_count": null,
      "outputs": []
    },
    {
      "cell_type": "code",
      "metadata": {
        "id": "UcNBEi71Gs16"
      },
      "source": [
        "predict=gmm.score_samples(img2)\n",
        "plt.plot(predict)"
      ],
      "execution_count": null,
      "outputs": []
    },
    {
      "cell_type": "code",
      "metadata": {
        "id": "Fb9YwalpG6HT"
      },
      "source": [
        "predict=gmm.score_samples(img2)\n",
        "plt.plot(predict)"
      ],
      "execution_count": null,
      "outputs": []
    },
    {
      "cell_type": "code",
      "metadata": {
        "id": "IJ7y-AUGG9PT"
      },
      "source": [
        "predict=gmm.score_samples(img1)\n",
        "plt.plot(predict)"
      ],
      "execution_count": null,
      "outputs": []
    },
    {
      "cell_type": "code",
      "metadata": {
        "id": "cXu57UijHpbf"
      },
      "source": [
        "X, Y = np.meshgrid(np.linspace(-1, 1), np.linspace(-1,1))"
      ],
      "execution_count": null,
      "outputs": []
    },
    {
      "cell_type": "code",
      "metadata": {
        "id": "5d1rKYpgXMKM"
      },
      "source": [
        "img.shape"
      ],
      "execution_count": null,
      "outputs": []
    },
    {
      "cell_type": "code",
      "metadata": {
        "id": "V_4pQFNpLJaz"
      },
      "source": [],
      "execution_count": null,
      "outputs": []
    },
    {
      "cell_type": "code",
      "metadata": {
        "id": "D5xDyRLWHrES"
      },
      "source": [
        "X.shape"
      ],
      "execution_count": null,
      "outputs": []
    },
    {
      "cell_type": "code",
      "metadata": {
        "id": "wTUmjHJ0HyZb"
      },
      "source": [
        "XX = np.array([X.ravel(), Y.ravel()]).T"
      ],
      "execution_count": null,
      "outputs": []
    },
    {
      "cell_type": "code",
      "metadata": {
        "id": "9Viyb4jGH0uO"
      },
      "source": [
        "XX.shape"
      ],
      "execution_count": null,
      "outputs": []
    },
    {
      "cell_type": "code",
      "metadata": {
        "id": "Xj7BcbdlIUOD"
      },
      "source": [
        "img1.shape"
      ],
      "execution_count": null,
      "outputs": []
    },
    {
      "cell_type": "code",
      "metadata": {
        "id": "bG-woj6TYB7p"
      },
      "source": [
        "from sklearn.decomposition import PCA\n",
        "\n"
      ],
      "execution_count": null,
      "outputs": []
    },
    {
      "cell_type": "code",
      "metadata": {
        "id": "NhcU8DXycLRf"
      },
      "source": [
        "plt.imshow(img1)"
      ],
      "execution_count": null,
      "outputs": []
    },
    {
      "cell_type": "code",
      "metadata": {
        "id": "G1L-GKeRYVsY"
      },
      "source": [
        "pca = PCA(n_components=28)\n",
        "res=pca.fit(img1)\n",
        "img1_t=pca.transform(img1)\n",
        "X_new = pca.inverse_transform(img1_t)\n",
        "plt.imshow(X_new)"
      ],
      "execution_count": null,
      "outputs": []
    },
    {
      "cell_type": "code",
      "metadata": {
        "id": "ItueK7YELmyD"
      },
      "source": [
        "imgex1=train[28,:,:,:]"
      ],
      "execution_count": null,
      "outputs": []
    },
    {
      "cell_type": "code",
      "metadata": {
        "id": "kw60fZNcO8c9"
      },
      "source": [
        "from skimage.color import rgb2gray\n",
        "\n",
        "grayscale = rgb2gray(imgex1)"
      ],
      "execution_count": null,
      "outputs": []
    },
    {
      "cell_type": "code",
      "metadata": {
        "id": "pcUWP6JhPCu3"
      },
      "source": [
        "plt.imshow(grayscale,cmap='gray')"
      ],
      "execution_count": null,
      "outputs": []
    },
    {
      "cell_type": "code",
      "metadata": {
        "id": "vNvKE3mTPNCm"
      },
      "source": [
        "plt.imshow(imgex1)"
      ],
      "execution_count": null,
      "outputs": []
    },
    {
      "cell_type": "code",
      "metadata": {
        "id": "loCUSxR7L3E7"
      },
      "source": [
        "climgex1_0=imgex1[:,:,0]"
      ],
      "execution_count": null,
      "outputs": []
    },
    {
      "cell_type": "code",
      "metadata": {
        "id": "BKK-Qr15Lvv7"
      },
      "source": [
        "plt.imshow(imgex1_0)"
      ],
      "execution_count": null,
      "outputs": []
    },
    {
      "cell_type": "code",
      "metadata": {
        "id": "CP8swaIJLbXe"
      },
      "source": [
        "pca = PCA(n_components=28)\n",
        "res=pca.fit(imgex1_0)\n",
        "img1ex1_t=pca.transform(imgex1_0)\n",
        "X_newex = pca.inverse_transform(img1ex1_t)\n",
        "plt.imshow(X_newex)"
      ],
      "execution_count": null,
      "outputs": []
    },
    {
      "cell_type": "code",
      "metadata": {
        "id": "CtmjmqV_MuXx"
      },
      "source": [
        "img1ex1_t.shape"
      ],
      "execution_count": null,
      "outputs": []
    },
    {
      "cell_type": "code",
      "metadata": {
        "id": "JYUAuOKqNQqG"
      },
      "source": [
        "pinvex=np.linalg.pinv(img1ex1_t)"
      ],
      "execution_count": null,
      "outputs": []
    },
    {
      "cell_type": "code",
      "metadata": {
        "id": "W7wYR2BoNwAP"
      },
      "source": [
        "recexc=np.dot(pinvex.T,red_im)"
      ],
      "execution_count": null,
      "outputs": []
    },
    {
      "cell_type": "code",
      "metadata": {
        "id": "WStos-KuOUPa"
      },
      "source": [
        "X_newex = pca.inverse_transform(recexc)\n",
        "plt.imshow(X_newex)"
      ],
      "execution_count": null,
      "outputs": []
    },
    {
      "cell_type": "code",
      "metadata": {
        "id": "un_QcYF6M1H-"
      },
      "source": [
        "img1ex1_t"
      ],
      "execution_count": null,
      "outputs": []
    },
    {
      "cell_type": "code",
      "metadata": {
        "id": "yWv6BE3N4EwV"
      },
      "source": [
        "img1.nbytes-img1_t.nbytes"
      ],
      "execution_count": null,
      "outputs": []
    },
    {
      "cell_type": "code",
      "metadata": {
        "id": "9z10PhFC4IAX"
      },
      "source": [
        "img1_t.shape"
      ],
      "execution_count": null,
      "outputs": []
    },
    {
      "cell_type": "code",
      "metadata": {
        "id": "5fXRz32u6yHp"
      },
      "source": [
        "print(img1_t)"
      ],
      "execution_count": null,
      "outputs": []
    },
    {
      "cell_type": "code",
      "metadata": {
        "id": "dKtpkGd_4Lor"
      },
      "source": [
        "red_im=np.dot(img1_t.T,img1_t)"
      ],
      "execution_count": null,
      "outputs": []
    },
    {
      "cell_type": "code",
      "metadata": {
        "id": "X4NutqYf4-5l"
      },
      "source": [
        "red_im.shape"
      ],
      "execution_count": null,
      "outputs": []
    },
    {
      "cell_type": "code",
      "metadata": {
        "id": "hR6cPZsV90LO"
      },
      "source": [
        "inv=np.linalg.inv(red_im)"
      ],
      "execution_count": null,
      "outputs": []
    },
    {
      "cell_type": "code",
      "metadata": {
        "id": "dlmvJ5P-F7zJ"
      },
      "source": [
        "pinv=np.linalg.pinv(img1_t)"
      ],
      "execution_count": null,
      "outputs": []
    },
    {
      "cell_type": "code",
      "metadata": {
        "id": "qGXUCCuZGGic"
      },
      "source": [
        "pinv.shape"
      ],
      "execution_count": null,
      "outputs": []
    },
    {
      "cell_type": "code",
      "metadata": {
        "id": "tGXa15FwJR0-"
      },
      "source": [
        "pinv.T-img1_t"
      ],
      "execution_count": null,
      "outputs": []
    },
    {
      "cell_type": "code",
      "metadata": {
        "id": "cbf3g5RO-acm"
      },
      "source": [
        "inv.shape"
      ],
      "execution_count": null,
      "outputs": []
    },
    {
      "cell_type": "code",
      "metadata": {
        "id": "D_DptDP__HMS"
      },
      "source": [
        "rec=np.dot(pinv.T,red_im)"
      ],
      "execution_count": null,
      "outputs": []
    },
    {
      "cell_type": "code",
      "metadata": {
        "id": "8VDu2NY0G1TE"
      },
      "source": [
        "rec1=np.dot(img1_t,red_im)"
      ],
      "execution_count": null,
      "outputs": []
    },
    {
      "cell_type": "code",
      "metadata": {
        "id": "QR5oL4P_G8OC"
      },
      "source": [
        "rec1.shape"
      ],
      "execution_count": null,
      "outputs": []
    },
    {
      "cell_type": "code",
      "metadata": {
        "id": "j8Fwo0DbJYV7"
      },
      "source": [
        "ex1=pca.inverse_transform(pinv.T)\n",
        "plt.imshow(ex1)"
      ],
      "execution_count": null,
      "outputs": []
    },
    {
      "cell_type": "code",
      "metadata": {
        "id": "AIxsFMoFG_tO"
      },
      "source": [
        "X_rec1 = pca.inverse_transform(rec1)\n",
        "plt.imshow(X_rec1)"
      ],
      "execution_count": null,
      "outputs": []
    },
    {
      "cell_type": "code",
      "metadata": {
        "id": "YC5znGNxAxBx"
      },
      "source": [
        "rec.shape"
      ],
      "execution_count": null,
      "outputs": []
    },
    {
      "cell_type": "code",
      "metadata": {
        "id": "14PCXoHj_TTf"
      },
      "source": [
        "rec.shape"
      ],
      "execution_count": null,
      "outputs": []
    },
    {
      "cell_type": "code",
      "metadata": {
        "id": "4_UsbC38BEKs"
      },
      "source": [
        "X_rec = pca.inverse_transform(rec)\n",
        "plt.imshow(X_rec)"
      ],
      "execution_count": null,
      "outputs": []
    },
    {
      "cell_type": "code",
      "metadata": {
        "id": "gSCYUCqRDGPD"
      },
      "source": [
        "u,s,vh=np.linalg.svd(img1)"
      ],
      "execution_count": null,
      "outputs": []
    },
    {
      "cell_type": "code",
      "metadata": {
        "id": "1fLeCSYlDhRW"
      },
      "source": [
        "u.shape"
      ],
      "execution_count": null,
      "outputs": []
    },
    {
      "cell_type": "code",
      "metadata": {
        "id": "LGujOicIEBSO"
      },
      "source": [
        "plt.imshow(vh)"
      ],
      "execution_count": null,
      "outputs": []
    },
    {
      "cell_type": "code",
      "metadata": {
        "id": "SNbMIcDEDiuk"
      },
      "source": [
        "s.shape"
      ],
      "execution_count": null,
      "outputs": []
    },
    {
      "cell_type": "code",
      "metadata": {
        "id": "lRZyCJmMDqWh"
      },
      "source": [
        "s=s.reshape(53,8)"
      ],
      "execution_count": null,
      "outputs": []
    },
    {
      "cell_type": "code",
      "metadata": {
        "id": "ATT3GrucD3VD"
      },
      "source": [
        "s.shape"
      ],
      "execution_count": null,
      "outputs": []
    },
    {
      "cell_type": "code",
      "metadata": {
        "id": "yzCQQsi0Dlw3"
      },
      "source": [
        "vh.shape"
      ],
      "execution_count": null,
      "outputs": []
    },
    {
      "cell_type": "code",
      "metadata": {
        "id": "_0gASAKLA0qA"
      },
      "source": [
        "rec."
      ],
      "execution_count": null,
      "outputs": []
    },
    {
      "cell_type": "code",
      "metadata": {
        "id": "td3Ws8BU9iGx"
      },
      "source": [
        "red_im.nbytes-img1.nbytes"
      ],
      "execution_count": null,
      "outputs": []
    },
    {
      "cell_type": "code",
      "metadata": {
        "id": "jkiYIZVr6qeM"
      },
      "source": [
        "inv="
      ],
      "execution_count": null,
      "outputs": []
    },
    {
      "cell_type": "code",
      "metadata": {
        "id": "6PEdnUse6abK"
      },
      "source": [
        "red_im.astype('float64')"
      ],
      "execution_count": null,
      "outputs": []
    },
    {
      "cell_type": "code",
      "metadata": {
        "id": "ynKppQHw5aaV"
      },
      "source": [
        "print(red_im.astype('float64'))"
      ],
      "execution_count": null,
      "outputs": []
    },
    {
      "cell_type": "code",
      "metadata": {
        "id": "d52wYKvl50IA"
      },
      "source": [],
      "execution_count": null,
      "outputs": []
    },
    {
      "cell_type": "code",
      "metadata": {
        "id": "Ts-78vU55C1e"
      },
      "source": [
        "plt.imshow(red_im)"
      ],
      "execution_count": null,
      "outputs": []
    },
    {
      "cell_type": "code",
      "metadata": {
        "id": "PhO24Bx33pcD"
      },
      "source": [
        "pca = PCA(n_components=2)\n",
        "res=pca.fit(img1)\n",
        "img1_t=pca.transform(img1)\n",
        "X_new = pca.inverse_transform(img1_t)\n",
        "plt.imshow(X_new)"
      ],
      "execution_count": null,
      "outputs": []
    },
    {
      "cell_type": "code",
      "metadata": {
        "id": "Z8OdR-kk3tWl"
      },
      "source": [
        "img1_t.shape"
      ],
      "execution_count": null,
      "outputs": []
    },
    {
      "cell_type": "code",
      "metadata": {
        "id": "RpQ9sJRV760Q"
      },
      "source": [
        "X_train = img1_t\n",
        "\n",
        "# fit a Gaussian Mixture Model with two components\n",
        "clf = mixture.GaussianMixture(n_components=2, covariance_type='full')\n",
        "clf.fit(X_train)\n",
        "\n",
        "# display predicted scores by the model as a contour plot\n",
        "x = np.linspace(-20., 30.)\n",
        "y = np.linspace(-20., 40.)\n",
        "X, Y = np.meshgrid(x, y)\n",
        "XX = np.array([X.ravel(), Y.ravel()]).T\n",
        "Z = clf.score_samples(XX)\n",
        "Z = Z.reshape(X.shape)\n",
        "\n",
        "CS = plt.contour(X, Y, Z, norm=LogNorm(vmin=1.0, vmax=1000.0),\n",
        "                 levels=np.logspace(0, 3, 10))\n",
        "CB = plt.colorbar(CS, shrink=0.8, extend='both')\n",
        "plt.scatter(X_train[:, 0], X_train[:, 1], .8)\n",
        "\n",
        "plt.title('Negative log-likelihood predicted by a GMM')\n",
        "plt.axis('tight')\n",
        "plt.show()"
      ],
      "execution_count": null,
      "outputs": []
    },
    {
      "cell_type": "code",
      "metadata": {
        "id": "On-oAzNz8vk5"
      },
      "source": [
        "x = np.linspace(-20., 30)"
      ],
      "execution_count": null,
      "outputs": []
    },
    {
      "cell_type": "code",
      "metadata": {
        "id": "0tiFlDa28xGN"
      },
      "source": [
        "len(x)"
      ],
      "execution_count": null,
      "outputs": []
    },
    {
      "cell_type": "code",
      "metadata": {
        "id": "ralXXnKD8ltp"
      },
      "source": [
        "XX.shape"
      ],
      "execution_count": null,
      "outputs": []
    },
    {
      "cell_type": "code",
      "metadata": {
        "id": "k_qZqB-04a67"
      },
      "source": [
        "import numpy as np\n",
        "import matplotlib.pyplot as plt\n",
        "from matplotlib.colors import LogNorm\n",
        "from sklearn import mixture\n",
        "\n",
        "n_samples = 300\n",
        "\n",
        "# generate random sample, two components\n",
        "np.random.seed(0)\n",
        "\n",
        "# generate spherical data centered on (20, 20)\n",
        "shifted_gaussian = np.random.randn(n_samples, 2) + np.array([20, 20])\n",
        "\n",
        "# generate zero centered stretched Gaussian data\n",
        "C = np.array([[0., -0.7], [3.5, .7]])\n",
        "stretched_gaussian = np.dot(np.random.randn(n_samples, 2), C)\n",
        "\n",
        "# concatenate the two datasets into the final training set\n",
        "X_train = np.vstack([shifted_gaussian, stretched_gaussian])\n",
        "\n",
        "# fit a Gaussian Mixture Model with two components\n",
        "clf = mixture.GaussianMixture(n_components=2, covariance_type='full')\n",
        "clf.fit(X_train)\n",
        "\n",
        "# display predicted scores by the model as a contour plot\n",
        "x = np.linspace(-20., 30.)\n",
        "y = np.linspace(-20., 40.)\n",
        "X, Y = np.meshgrid(x, y)\n",
        "XX = np.array([X.ravel(), Y.ravel()]).T\n",
        "Z = -clf.score_samples(XX)\n",
        "Z = Z.reshape(X.shape)\n",
        "\n",
        "CS = plt.contour(X, Y, Z, norm=LogNorm(vmin=1.0, vmax=1000.0),\n",
        "                 levels=np.logspace(0, 3, 10))\n",
        "CB = plt.colorbar(CS, shrink=0.8, extend='both')\n",
        "plt.scatter(X_train[:, 0], X_train[:, 1], .8)\n",
        "\n",
        "plt.title('Negative log-likelihood predicted by a GMM')\n",
        "plt.axis('tight')\n",
        "plt.show()"
      ],
      "execution_count": null,
      "outputs": []
    },
    {
      "cell_type": "code",
      "metadata": {
        "id": "f5hfgj4o6wmM"
      },
      "source": [
        "X_train.shape"
      ],
      "execution_count": null,
      "outputs": []
    },
    {
      "cell_type": "code",
      "metadata": {
        "id": "_G6crr1R6-MB"
      },
      "source": [
        "XX.shape"
      ],
      "execution_count": null,
      "outputs": []
    },
    {
      "cell_type": "code",
      "metadata": {
        "id": "Dq78rTmIfR4M"
      },
      "source": [
        "print(res)"
      ],
      "execution_count": null,
      "outputs": []
    },
    {
      "cell_type": "code",
      "metadata": {
        "id": "AfA0h7IugPF1"
      },
      "source": [
        "pca.components_.shape"
      ],
      "execution_count": null,
      "outputs": []
    },
    {
      "cell_type": "code",
      "metadata": {
        "id": "DxeBbWLKhCI7"
      },
      "source": [
        "img1.nbytes-img1_t.nbytes"
      ],
      "execution_count": null,
      "outputs": []
    },
    {
      "cell_type": "code",
      "metadata": {
        "id": "bxUieeULkUJ1"
      },
      "source": [
        "img1_t=img1_t.T"
      ],
      "execution_count": null,
      "outputs": []
    },
    {
      "cell_type": "code",
      "metadata": {
        "id": "96t4ykAqj2dG"
      },
      "source": [
        "plt.plot(img1_t[11])"
      ],
      "execution_count": null,
      "outputs": []
    },
    {
      "cell_type": "code",
      "metadata": {
        "id": "tNOFApGSkhdI"
      },
      "source": [
        "pca.noise_variance_"
      ],
      "execution_count": null,
      "outputs": []
    },
    {
      "cell_type": "code",
      "metadata": {
        "id": "QuNz24qnkFPg"
      },
      "source": [],
      "execution_count": null,
      "outputs": []
    },
    {
      "cell_type": "code",
      "metadata": {
        "id": "I21tocrcjxQx"
      },
      "source": [
        "img1.nbytes"
      ],
      "execution_count": null,
      "outputs": []
    },
    {
      "cell_type": "code",
      "metadata": {
        "id": "oWwaxz_Njr75"
      },
      "source": [],
      "execution_count": null,
      "outputs": []
    },
    {
      "cell_type": "code",
      "metadata": {
        "id": "nmJAZJX1fUb-"
      },
      "source": [
        "img1.nbytes-res.components_.nbytes"
      ],
      "execution_count": null,
      "outputs": []
    },
    {
      "cell_type": "code",
      "metadata": {
        "id": "nm_zmqvtdn5a"
      },
      "source": [
        "pca.explained_variance_ratio_"
      ],
      "execution_count": null,
      "outputs": []
    },
    {
      "cell_type": "code",
      "metadata": {
        "id": "D22vT3bye5XY"
      },
      "source": [
        "pca.noise_variance_"
      ],
      "execution_count": null,
      "outputs": []
    },
    {
      "cell_type": "code",
      "metadata": {
        "id": "dVPLAygfd9cJ"
      },
      "source": [
        "np.size(X_new.data)"
      ],
      "execution_count": null,
      "outputs": []
    },
    {
      "cell_type": "code",
      "metadata": {
        "id": "yzy6OtCHYvM5"
      },
      "source": [
        "res=pca.fit(img1)"
      ],
      "execution_count": null,
      "outputs": []
    },
    {
      "cell_type": "code",
      "metadata": {
        "id": "k-w8gN9XYwun"
      },
      "source": [
        "X_new.nbytes"
      ],
      "execution_count": null,
      "outputs": []
    },
    {
      "cell_type": "code",
      "metadata": {
        "id": "DM4CisyPeaOk"
      },
      "source": [
        "img1.nbytes"
      ],
      "execution_count": null,
      "outputs": []
    },
    {
      "cell_type": "code",
      "metadata": {
        "id": "tHrzZH7JZVAc"
      },
      "source": [
        "compoenents=pca.components_"
      ],
      "execution_count": null,
      "outputs": []
    },
    {
      "cell_type": "code",
      "metadata": {
        "id": "uHwfkKEEZaPf"
      },
      "source": [
        "len(compoenents)"
      ],
      "execution_count": null,
      "outputs": []
    },
    {
      "cell_type": "code",
      "metadata": {
        "id": "aXvrnkoPZfzq"
      },
      "source": [
        "compoenents.shape"
      ],
      "execution_count": null,
      "outputs": []
    },
    {
      "cell_type": "code",
      "metadata": {
        "id": "c1GbUgqQZkaX"
      },
      "source": [
        "plt.plot(compoenents[1])"
      ],
      "execution_count": null,
      "outputs": []
    },
    {
      "cell_type": "code",
      "metadata": {
        "id": "Cb4G_6w_aBWc"
      },
      "source": [
        "img1_t=pca.transform(img1)"
      ],
      "execution_count": null,
      "outputs": []
    },
    {
      "cell_type": "code",
      "metadata": {
        "id": "laxBudbfaNZS"
      },
      "source": [
        "plt.plot(im[0])"
      ],
      "execution_count": null,
      "outputs": []
    },
    {
      "cell_type": "code",
      "metadata": {
        "id": "R7ujtw7zaSMx"
      },
      "source": [
        "im=img1_t.T"
      ],
      "execution_count": null,
      "outputs": []
    },
    {
      "cell_type": "code",
      "metadata": {
        "id": "U05-sPzea2MN"
      },
      "source": [
        "im.shape"
      ],
      "execution_count": null,
      "outputs": []
    },
    {
      "cell_type": "code",
      "metadata": {
        "id": "pJ4PgN4Na2yX"
      },
      "source": [
        "\n",
        "X_new = pca.inverse_transform(img1_t)"
      ],
      "execution_count": null,
      "outputs": []
    },
    {
      "cell_type": "code",
      "metadata": {
        "id": "QQfZ8xiTbK-J"
      },
      "source": [
        "X_new"
      ],
      "execution_count": null,
      "outputs": []
    },
    {
      "cell_type": "code",
      "metadata": {
        "id": "KVqlra06bMM4"
      },
      "source": [
        "plt.imshow(X_new)"
      ],
      "execution_count": null,
      "outputs": []
    },
    {
      "cell_type": "code",
      "metadata": {
        "id": "bmZx6YYo0dwA"
      },
      "source": [
        "W=gmm.weights_"
      ],
      "execution_count": null,
      "outputs": []
    },
    {
      "cell_type": "code",
      "metadata": {
        "id": "Xt8npZ6E2bMd"
      },
      "source": [
        "W.shape"
      ],
      "execution_count": null,
      "outputs": []
    },
    {
      "cell_type": "code",
      "metadata": {
        "id": "DImFWB0M2cis"
      },
      "source": [
        "print(W)"
      ],
      "execution_count": null,
      "outputs": []
    },
    {
      "cell_type": "code",
      "metadata": {
        "id": "zmpVloE-2fUD"
      },
      "source": [],
      "execution_count": null,
      "outputs": []
    }
  ]
}